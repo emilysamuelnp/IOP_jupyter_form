{
 "cells": [
  {
   "cell_type": "markdown",
   "metadata": {
    "id": "Vyt4TxEvFDbo"
   },
   "source": [
    "# Run all before first use ✅"
   ]
  },
  {
   "cell_type": "code",
   "execution_count": 105,
   "metadata": {
    "cellView": "form",
    "id": "KbJSQCFeb-Ib",
    "jupyter": {
     "source_hidden": true
    }
   },
   "outputs": [],
   "source": [
    "#@title imports\n",
    "from ipywidgets import interact, interactive, fixed, interact_manual\n",
    "import ipywidgets as widgets\n",
    "from ipywidgets import Button, Layout\n",
    "import sys"
   ]
  },
  {
   "cell_type": "markdown",
   "metadata": {
    "id": "rI7M-D7GO-70"
   },
   "source": [
    "\n",
    "\n",
    "<a href=\"https://docs.google.com/document/create\"><img src=\"https://drive.google.com/uc?export=download&id=1xOW1DGMOOo69DMDbIke0cmILnegvy8o9\" alt=\"open google doc\" style=\"width:42px;height:42px;\">Create Doc and name it</a>"
   ]
  },
  {
   "cell_type": "markdown",
   "metadata": {},
   "source": [
    "# patient ID 👤"
   ]
  },
  {
   "cell_type": "code",
   "execution_count": 106,
   "metadata": {
    "cellView": "form",
    "colab": {
     "base_uri": "https://localhost:8080/",
     "height": 465,
     "referenced_widgets": [
      "4ae4b79cd80942b085d5e7ed4831bbea"
     ]
    },
    "id": "5Hhi0vHuaWsX",
    "jupyter": {
     "source_hidden": true
    },
    "outputId": "046b3969-ba02-4999-ddd5-ccc4c5a66244",
    "tags": []
   },
   "outputs": [
    {
     "data": {
      "application/vnd.jupyter.widget-view+json": {
       "model_id": "abe94fcd519e477da3daa7b3996f6c49",
       "version_major": 2,
       "version_minor": 0
      },
      "text/plain": [
       "HBox(children=(VBox(children=(VBox(children=(BoundedIntText(value=33, description='Age:', max=200), Text(value…"
      ]
     },
     "metadata": {},
     "output_type": "display_data"
    }
   ],
   "source": [
    "# @title Patient id form\n",
    "\n",
    "style = {'description_width': '150px'}\n",
    "layout_text_area = Layout(width='50%')\n",
    "layout_dropdown = Layout(width='25%')\n",
    "\n",
    "treatment_centers = [\"Silicon Beach\", \"Momentum\", \"Create Recovery Center\", \"Casablanca\"]\n",
    "\n",
    "substance_options=[\"polysubstance\", \"alcohol\", \"heroin\", \n",
    "             \"methamphetamine\", \"cannabis\", 'opioid',\n",
    "             'sedative, hypnotic, or anxiolytic', 'cocaine', 'fentanyl',\n",
    "             'ecstasy/MDMA', 'ketamine', 'mushrooms', 'LSD', 'no drug']\n",
    "\n",
    "mental_options=[\"anxiety\", 'depression', 'ptsd', 'adhd', \n",
    "             'bipolar I disorder', 'bipolar II disorder', 'schizophrenia',\n",
    "             'psychosis', 'insomnia', 'no mental illness']\n",
    "\n",
    "id_choices = widgets.HBox([widgets.VBox([widgets.VBox([\n",
    "                  widgets.BoundedIntText(\n",
    "                    value=33,\n",
    "                    min=0,\n",
    "                    max=200,\n",
    "                    step=1,\n",
    "                    description='Age:',\n",
    "                    disabled=False\n",
    "                ), widgets.Text(description='Pronoun:', value='they'),\n",
    "                widgets.Dropdown(description='gender:',\n",
    "                                 options=['male', 'female', 'nb']),\n",
    "            widgets.Dropdown(description='treatment_center:', \n",
    "                             value=\"Create Recovery Center\",\n",
    "                                 options=treatment_centers)]),\n",
    "    widgets.HBox([widgets.Textarea(description='Notes:', layout=Layout(height=\"200px\"))])]), \n",
    "    widgets.HBox([widgets.VBox(\n",
    "        [widgets.Checkbox(description=x) for x in substance_options])]),\n",
    "        widgets.VBox([widgets.Checkbox(description=x) for x in mental_options])])\n",
    "\n",
    "display(id_choices)\n",
    "\n"
   ]
  },
  {
   "cell_type": "markdown",
   "metadata": {},
   "source": [
    "# HPI 🤒"
   ]
  },
  {
   "cell_type": "code",
   "execution_count": 107,
   "metadata": {
    "cellView": "form",
    "colab": {
     "base_uri": "https://localhost:8080/",
     "height": 455,
     "referenced_widgets": [
      "59666ff510b04b25889e8a2990eef55e",
      "4b21d0788fda4af3b7e9aa8c107ecd33"
     ]
    },
    "id": "V0ESz3JbFjQt",
    "jupyter": {
     "source_hidden": true
    },
    "outputId": "e1cedb13-e500-4b15-8af7-5d826c497842",
    "tags": []
   },
   "outputs": [
    {
     "data": {
      "application/vnd.jupyter.widget-view+json": {
       "model_id": "4bf95193c19e47909eec25c2e2fd38b8",
       "version_major": 2,
       "version_minor": 0
      },
      "text/plain": [
       "interactive(children=(Textarea(value='', description='treatment_reason', layout=Layout(width='50%'), placehold…"
      ]
     },
     "metadata": {},
     "output_type": "display_data"
    }
   ],
   "source": [
    "#@title HPI form\n",
    "\n",
    "treatment_reason_text = widgets.Textarea(layout=layout_text_area,\n",
    "                             placeholder='Type Something', style=style)\n",
    "\n",
    "time_box = widgets.BoundedIntText(layout=layout_text_area, value=4,min=0,max=200,\n",
    "                    description='Sober Time:',\n",
    "                    disabled=False,\n",
    "                    style=style)\n",
    "\n",
    "period_dropdown = widgets.Dropdown(layout=layout_text_area, value='days', options=['days', 'months', 'years'], \n",
    "                                 style=style, ensure_option=False)\n",
    "\n",
    "w_choice = widgets.Dropdown(layout=layout_text_area, \n",
    "            options=['denies', 'endorses'], value='denies',\n",
    "            style=style, ensure_option=False)\n",
    "\n",
    "c_choice = widgets.Dropdown(layout=layout_text_area, \n",
    "                            options=['denies', 'endorses'], value='denies', \n",
    "                            style=style, ensure_option=False)\n",
    " \n",
    "anti_cravings_dropdown = widgets.Dropdown(layout=layout_text_area, \n",
    "                        options=['declines', 'elects to start', \n",
    "                        'would like to continue with'], value='declines', \n",
    "                        style=style, ensure_option=False) \n",
    "\n",
    "negative_impact_text = widgets.Textarea(layout=layout_text_area,\n",
    "                             style=style, placeholder='Type Something')\n",
    "\n",
    "history_notes_text = widgets.Text(layout=layout_text_area, style=style)                        \n",
    "\n",
    "hpi_template = \"\"\"\n",
    "History of Present Illness:\n",
    "The patient states that they decided to come to treatment because {}. \n",
    "Patient reports they have been sober for {} {}.\n",
    "The patient {} withdrawals. The patient {} cravings.\n",
    "The patient {} anti-craving medication.\n",
    "The patient reports their substance use impacted their life negatively {} \\n {}\n",
    "    \"\"\"\n",
    "def print_history(treatment_reason, withdrawals_choice, cravings_choice,\n",
    "                  anti_cravings_choice,\n",
    "                  sober_time, sober_period, negative_impact, notes):\n",
    "    print(hpi_template.format(treatment_reason,\n",
    "                                sober_time,\n",
    "                                sober_period,\n",
    "                                withdrawals_choice,\n",
    "                                cravings_choice,\n",
    "                                anti_cravings_choice,\n",
    "                                negative_impact,\n",
    "                              notes))\n",
    "hpi = interactive(print_history, \n",
    "                               treatment_reason=treatment_reason_text,\n",
    "                               withdrawals_choice=w_choice,\n",
    "                               cravings_choice=c_choice,\n",
    "                               sober_time=time_box,\n",
    "                               sober_period=period_dropdown,\n",
    "                               negative_impact=negative_impact_text,\n",
    "                               anti_cravings_choice=anti_cravings_dropdown,\n",
    "                               notes=history_notes_text\n",
    "                               )\n",
    "display(hpi)\n",
    "\n",
    "hpi_string = hpi.children[-1]"
   ]
  },
  {
   "cell_type": "markdown",
   "metadata": {},
   "source": [
    "# Current Medication 💊"
   ]
  },
  {
   "cell_type": "code",
   "execution_count": 108,
   "metadata": {
    "cellView": "form",
    "colab": {
     "base_uri": "https://localhost:8080/",
     "height": 342,
     "referenced_widgets": [
      "266453f7e4a345059293e93c361df9ec",
      "107d510a35654aebaf47a525fae555ae",
      "9e1bc5c49b5b4fa5991ae6440cabfee0",
      "9c0e35714e594f44b29950b7662ff890",
      "f79b492415394ad9a5e5ff5f3e964065",
      "4b07f5774bc74049b5bcf820e85656e4",
      "50658378aeba4bbdb74edd85d5384f78",
      "61f9c2a3dde34c6eaaaf9a515c3d828f",
      "3aa4bb5fc16d43acb2630d24824ccae3",
      "59666ff510b04b25889e8a2990eef55e",
      "01d43bf6863b47c5af668c0caf9e14bb",
      "ca01587fc223485084ce30cd9aa18bd2",
      "767d1451a19e4848938d95968103a071",
      "c876fc1d909f454d992e14cd1b28caa1",
      "3a7aabafd8b14294a6068ead1cca5536"
     ]
    },
    "id": "Z1JUT07bujNV",
    "jupyter": {
     "source_hidden": true
    },
    "outputId": "e0443dcd-dcc2-49a0-ab36-73de21ec4710",
    "tags": []
   },
   "outputs": [
    {
     "data": {
      "application/vnd.jupyter.widget-view+json": {
       "model_id": "f9f09d6eb64b402dbb7f309b29647e11",
       "version_major": 2,
       "version_minor": 0
      },
      "text/plain": [
       "interactive(children=(Textarea(value='', description='current_medication', layout=Layout(width='50%'), placeho…"
      ]
     },
     "metadata": {},
     "output_type": "display_data"
    }
   ],
   "source": [
    "#@title Current Medication form\n",
    "med_statement_choice = \"Patient declines psychotropic medication and elects for more conservative approaches to psychiatric symptom management at this time.\"\n",
    "med_compliant_dropdown = widgets.Combobox(layout=layout_text_area, options=[\"Patient reports that they have been compliant with their psychotropic medication regimen and denies adverse effects\", \n",
    "                                                                            \"Patient reports that they have been non-compliant with their psychotropic medication regimen and denies adverse effects\"], \n",
    "                                          style=style, ensure_option=False)\n",
    "med_adjust_dropdown = widgets.Dropdown(layout=layout_text_area, options=[\"declines\", \"is amenable with\"], \n",
    "                                 style=style)\n",
    "med_statement_dropdown =widgets.Combobox(layout=layout_text_area, options=[med_statement_choice], \n",
    "                                 style=style)\n",
    "current_medication_text = widgets.Textarea(style=style, \n",
    "                                           layout=layout_text_area, \n",
    "                                           placeholder=\"Type something\")\n",
    "med_notes = widgets.Textarea(layout=layout_text_area)\n",
    "\n",
    "current_medication_template = \"\"\"\n",
    "Current Medication:\n",
    "{}\n",
    "{} \n",
    "Patient {} adjustments to their medication regimen.\n",
    "{}\n",
    "{}\n",
    "\"\"\"\n",
    "def print_medication(current_medication, med_compliant, med_adjust, \n",
    "                     med_statement, notes):\n",
    "    print(current_medication_template.format(current_medication,\n",
    "                                             med_compliant,\n",
    "                                             med_adjust,\n",
    "                                             med_statement,\n",
    "                                             notes))\n",
    "current_medication = interactive(print_medication,\n",
    "                               current_medication=current_medication_text, \n",
    "                               med_compliant=med_compliant_dropdown, \n",
    "                               med_adjust=med_adjust_dropdown,\n",
    "                               med_statement=med_statement_dropdown, \n",
    "                               notes=med_notes\n",
    "                               )\n",
    "display(current_medication)\n",
    "\n",
    "current_medication_string = current_medication.children[-1]"
   ]
  },
  {
   "cell_type": "markdown",
   "metadata": {},
   "source": [
    "# Mood 🔮"
   ]
  },
  {
   "cell_type": "code",
   "execution_count": 109,
   "metadata": {
    "cellView": "form",
    "colab": {
     "base_uri": "https://localhost:8080/",
     "height": 657,
     "referenced_widgets": [
      "59666ff510b04b25889e8a2990eef55e",
      "39127d40610b49569c6e33ec15d593b0"
     ]
    },
    "id": "WAMJobeOgb64",
    "jupyter": {
     "source_hidden": true
    },
    "outputId": "8a715af0-e6b4-4c05-885b-da73654c144e",
    "tags": []
   },
   "outputs": [
    {
     "data": {
      "application/vnd.jupyter.widget-view+json": {
       "model_id": "0b1c47d444af40c9b7594a198d5c2c12",
       "version_major": 2,
       "version_minor": 0
      },
      "text/plain": [
       "interactive(children=(Dropdown(description='depressed', layout=Layout(width='50%'), options=('denies', 'endors…"
      ]
     },
     "metadata": {},
     "output_type": "display_data"
    }
   ],
   "source": [
    "# @title Mood form\n",
    "\n",
    "depressed_choice_dropdown = widgets.Dropdown(layout=layout_text_area, options=['denies', 'endorses'], \n",
    "                                 value='denies', style=style, ensure_option=False)\n",
    "sustained_sadness_choice_dropdown = widgets.Dropdown(layout=layout_text_area, options=['denies', 'endorses'], \n",
    "                                 value='denies', style=style, ensure_option=False)\n",
    "guilt_choice_dropdown = widgets.Dropdown(layout=layout_text_area, options=['denies', 'endorses'], \n",
    "                                 value='denies', style=style, ensure_option=False)\n",
    "anhedonia_choice_dropdown = widgets.Dropdown(layout=layout_text_area, options=['denies', 'endorses'], \n",
    "                                 value='denies', style=style, ensure_option=False)\n",
    "sleep_choice_dropdown = widgets.Dropdown(layout=layout_text_area, options=['denies', 'endorses'], \n",
    "                                 value='denies', style=style, ensure_option=False)\n",
    "appetite_choice_dropdown = widgets.Dropdown(layout=layout_text_area, options=['good', 'fair', 'poor'], \n",
    "                                 value='fair', style=style, ensure_option=False)\n",
    "energy_choice_dropdown = widgets.Dropdown(layout=layout_text_area, options=['good', 'fair', 'poor'], \n",
    "                                 value='fair', style=style, ensure_option=False)\n",
    "concentration_choice_dropdown = widgets.Dropdown(layout=layout_text_area, options=['good', 'fair', 'poor'], \n",
    "                                 value='fair', style=style, ensure_option=False)\n",
    "hopelessness_choice_dropdown = widgets.Dropdown(layout=layout_text_area, options=['denies', 'endorses'], \n",
    "                                 value='denies', style=style, ensure_option=False)\n",
    "past_depression_dropdown = widgets.Dropdown(layout=layout_text_area, options=['deny', 'indicate'], \n",
    "                                 value='indicate', style=style, ensure_option=False)\n",
    "mania_choice_dropdown = widgets.Dropdown(layout=layout_text_area, options=['denies', 'endorses'], \n",
    "                                 value='denies', style=style, ensure_option=False)\n",
    "\n",
    "mood_notes_text = widgets.Textarea(layout=layout_text_area, style=style)                        \n",
    "\n",
    "mood_template =\"\"\"\n",
    "This patient {} current depressed mood. \n",
    "Over the past several weeks, the patient {} sustained sadness, {} excessive guilt. \n",
    "The patient {} anhedonia.\n",
    "The patient reports {} ability to concentrate. \n",
    "The patient {} issues with sleep. \n",
    "The patient reports {} appetite.\n",
    "Reports {} energy level. \n",
    "The patient {} hopelessness, worthlessness, SI/HI/AH/VH/delusions.\n",
    "They {} they have experienced depressive episodes lasting longer than two weeks in the absence of substance use.\n",
    "The patient {} current decreased need for sleep, euphoria \n",
    "or grandiosity or irritability, flights of idea, impulsivity, uncharacteristic talkativeness or rapid speech.\n",
    "{}\n",
    "\"\"\"\n",
    "def print_mood(depressed, sustained_sadness, guilt,\n",
    "                anhedonia, sleep, appetite, energy, concentration,\n",
    "               hopelessness, past_depression,\n",
    "               mania, notes):\n",
    "    print(mood_template.format(depressed, sustained_sadness, guilt,\n",
    "                anhedonia, concentration, sleep, appetite, energy,\n",
    "               hopelessness, past_depression,\n",
    "               mania,notes))\n",
    "mood = interactive(print_mood, \n",
    "                               depressed=depressed_choice_dropdown,\n",
    "                               sustained_sadness=sustained_sadness_choice_dropdown,\n",
    "                               guilt=guilt_choice_dropdown,\n",
    "                               anhedonia=anhedonia_choice_dropdown,\n",
    "                               sleep=sleep_choice_dropdown,\n",
    "                               appetite=appetite_choice_dropdown,\n",
    "                               energy=energy_choice_dropdown,\n",
    "                               concentration=concentration_choice_dropdown,\n",
    "                               hopelessness=hopelessness_choice_dropdown,\n",
    "                               past_depression=past_depression_dropdown,\n",
    "                               mania=mania_choice_dropdown,\n",
    "                               notes=mood_notes_text\n",
    "                               )\n",
    "display(mood)\n",
    "\n",
    "mood_string = mood.children[-1]"
   ]
  },
  {
   "cell_type": "markdown",
   "metadata": {},
   "source": [
    "# Anxiety 😱"
   ]
  },
  {
   "cell_type": "code",
   "execution_count": 110,
   "metadata": {
    "cellView": "form",
    "colab": {
     "base_uri": "https://localhost:8080/",
     "height": 230,
     "referenced_widgets": [
      "92bf0729d3cd435ca797c533932e9c65",
      "14265da382da4c4c858c896f156cf7d6",
      "4155093955bd4a4b91ce9b17886f49fe",
      "4c1492f7654849f2b757037252967517",
      "d2f4890161fb4d449c11fe967c20dcb2",
      "a709df12b84744d2be776a6c253a9a25",
      "bb5bdb5f9f074b948a0481a2ba1cd54a",
      "59666ff510b04b25889e8a2990eef55e",
      "e434d1d57ac0443f9b6e487934524e80",
      "df6fd77f7a0243ca9ed2178911ebba24",
      "7850dfad0d6246b1ab4c6402beb491a7"
     ]
    },
    "id": "RB27TULNs0SC",
    "jupyter": {
     "source_hidden": true
    },
    "outputId": "ea683b44-6e0d-4737-fc56-8b50d413f634"
   },
   "outputs": [
    {
     "data": {
      "application/vnd.jupyter.widget-view+json": {
       "model_id": "cbcbf3cc80704f318430073e878b9cd8",
       "version_major": 2,
       "version_minor": 0
      },
      "text/plain": [
       "interactive(children=(Dropdown(description='physical_anxiety', layout=Layout(width='50%'), options=('denies', …"
      ]
     },
     "metadata": {},
     "output_type": "display_data"
    }
   ],
   "source": [
    "# @title Anxiety form\n",
    "\n",
    "physical_anxiety_dropdown = widgets.Dropdown(layout=layout_text_area, options=['denies', 'endorses'], \n",
    "                                 value='denies', style=style, ensure_option=False)\n",
    "anxiety_dropdown = widgets.Dropdown(layout=layout_text_area, options=['denies', 'endorses'], \n",
    "                                 value='denies', style=style, ensure_option=False)\n",
    "anxiety_notes = widgets.Textarea(layout=layout_text_area, style=style)\n",
    "\n",
    "anxiety_template = \"\"\"\n",
    "The patient {} that they worry regularly about multiple aspects of their life with accompanying physical symptoms.\n",
    "Over the past several weeks, the patient {} any excessive worrying,  \n",
    "feeling keyed up and on edge, irritability, or panic attacks. \n",
    "{}\n",
    "\"\"\"\n",
    "\n",
    "def print_anxiety(physical_anxiety, anxiety, notes):\n",
    "    print(anxiety_template.format(physical_anxiety, anxiety, notes))\n",
    "anxiety = interactive(print_anxiety, \n",
    "                               physical_anxiety=physical_anxiety_dropdown, \n",
    "                               anxiety=anxiety_dropdown, \n",
    "                               notes=anxiety_notes\n",
    "                               )\n",
    "display(anxiety)\n",
    "\n",
    "anxiety_string = anxiety.children[-1]"
   ]
  },
  {
   "cell_type": "markdown",
   "metadata": {},
   "source": [
    "# Trauma ⚔️"
   ]
  },
  {
   "cell_type": "code",
   "execution_count": 111,
   "metadata": {
    "cellView": "form",
    "colab": {
     "base_uri": "https://localhost:8080/",
     "height": 230,
     "referenced_widgets": [
      "63f856ec725844fa8a49cf0160bd0b53",
      "15dae970d05b4885ae1d5687e5819501",
      "09f43c29ba9448339923d10e59d6aabf",
      "974d65af5fb1468d81c672be6984bab0",
      "f6b88f70e03b496c92ee02f2c77e50f9",
      "02429984defd4e7293f509762ff20341",
      "1c2bafbd5f324a159ca854d40ca27499",
      "59666ff510b04b25889e8a2990eef55e",
      "1d5cfd786dc44775a417d20333008539",
      "1fa8511e2a604f7eb856f20b984b6b56",
      "7c0667356b6a4f87827aba5fb2cdb2da"
     ]
    },
    "id": "tKizbx2GtpTt",
    "jupyter": {
     "source_hidden": true
    },
    "outputId": "211fc2af-54c4-4767-91f3-62752232c9ec"
   },
   "outputs": [
    {
     "data": {
      "application/vnd.jupyter.widget-view+json": {
       "model_id": "e830af3c88d94fabadb79af8b1008581",
       "version_major": 2,
       "version_minor": 0
      },
      "text/plain": [
       "interactive(children=(Dropdown(description='past_trauma', layout=Layout(width='50%'), options=('denies', 'endo…"
      ]
     },
     "metadata": {},
     "output_type": "display_data"
    }
   ],
   "source": [
    "#@title Trauma form\n",
    "\n",
    "past_trauma_dropdown = widgets.Dropdown(layout=layout_text_area, options=['denies', 'endorses'], \n",
    "                                 style=style)\n",
    "current_trauma_dropdown = widgets.Dropdown(layout=layout_text_area, options=['denies', 'endorses'], \n",
    "                                 style=style)\n",
    "trauma_notes = widgets.Textarea(layout=layout_text_area, style=style)\n",
    "\n",
    "trauma_template = \"\"\"\n",
    "The patient {} that they have sustained significant trauma, \n",
    "{} current symptoms of PTSD including flashbacks, nightmares, hypervigilance, triggers, \n",
    "and avoidance of triggers.\n",
    "{}\n",
    "\"\"\"\n",
    "def print_trauma(past_trauma, current_trauma, notes):\n",
    "    print(trauma_template.format(past_trauma, current_trauma, notes))\n",
    "\n",
    "trauma = interactive(print_trauma, \n",
    "                               past_trauma=past_trauma_dropdown, \n",
    "                               current_trauma=current_trauma_dropdown, \n",
    "                               notes=trauma_notes\n",
    "                               )\n",
    "display(trauma)\n",
    "\n",
    "trauma_string = trauma.children[-1]"
   ]
  },
  {
   "cell_type": "markdown",
   "metadata": {},
   "source": [
    "# Psych disorders 🧠"
   ]
  },
  {
   "cell_type": "code",
   "execution_count": 112,
   "metadata": {
    "cellView": "form",
    "colab": {
     "base_uri": "https://localhost:8080/",
     "height": 329,
     "referenced_widgets": [
      "f82b13e519cb4b65bb422b27eab34367",
      "545e6516bf47437b9e96a9b62d6a0d76",
      "f2e6a2f848e94b70b79e73e8f3c1a1e2",
      "75a19959f81e4c9688a006afc3ec8564",
      "7507f5886add40908e58300464f1bbf6",
      "28c3381997e94e8e8d8673bc195fa029",
      "23b99c10d042495c9e2fe2a51e8f868b",
      "cb5d1472d29748b0a2596e63db8b4090",
      "cb456f7758614513be2e0ab05ef08d87",
      "59666ff510b04b25889e8a2990eef55e",
      "1f4c4282d8b84e3ea7e47355b81b4544",
      "5b0796cde97641aea0530dfbeeb0ebed",
      "c2a2534a90094dddb8938f79369d1f69",
      "c563ab77ce534395805631510394afb4",
      "35a9385c05284603902b4fd5d50e7923"
     ]
    },
    "id": "zVQPZcEpKBXm",
    "jupyter": {
     "source_hidden": true
    },
    "outputId": "dad08a42-b824-4b51-9d52-59747acaa6d7"
   },
   "outputs": [
    {
     "data": {
      "application/vnd.jupyter.widget-view+json": {
       "model_id": "39acfb5e8a1b43beae9fce2d8acacf62",
       "version_major": 2,
       "version_minor": 0
      },
      "text/plain": [
       "interactive(children=(Dropdown(description='mania', index=1, layout=Layout(width='50%'), options=('a history',…"
      ]
     },
     "metadata": {},
     "output_type": "display_data"
    }
   ],
   "source": [
    "#@title Psych disorders\n",
    "\n",
    "mania_dropdown = widgets.Dropdown(layout=layout_text_area, options=['a history', 'no history'], \n",
    "                                 value='no history', style=style)\n",
    "psychosis_dropdown = widgets.Dropdown(layout=layout_text_area, options=['a history', 'no history'], \n",
    "                                 value='no history', style=style)\n",
    "learning_disabilties_dropdown = widgets.Dropdown(layout=layout_text_area, options=['a history', 'no history'], \n",
    "                                 value='no history', style=style)\n",
    "eating_disorder_dropdown = widgets.Dropdown(layout=layout_text_area, options=['a history', 'no history'], \n",
    "                                 value='no history', style=style)\n",
    "\n",
    "psych_disorder_notes = widgets.Textarea(layout=layout_text_area, style=style)\n",
    "\n",
    "psych_disorder_template = \"\"\"\n",
    "The patient reported {} of mania.\n",
    "The patient reported {} of psychosis. \n",
    "The patient reported {} of  learning disabilities, OCD or tics. \n",
    "The patient reported {} of an eating disorder. \n",
    "The patient reported no history of compulsive gambling, problematic internet/video game use, compulsive shopping, or sexual addiction. \n",
    "{}\n",
    "\"\"\"\n",
    "def print_psych_disorders(mania, psychosis, learning_disabilties, \n",
    "                          eating_disorder, notes):\n",
    "    print(psych_disorder_template.format(mania, psychosis, learning_disabilties, \n",
    "                          eating_disorder, notes))\n",
    "psych_disorder = interactive(print_psych_disorders, \n",
    "                               mania=mania_dropdown,\n",
    "                     psychosis=psychosis_dropdown,\n",
    "                     learning_disabilties=learning_disabilties_dropdown,\n",
    "                     eating_disorder=eating_disorder_dropdown,\n",
    "                     notes=psych_disorder_notes\n",
    "                               )\n",
    "display(psych_disorder)\n",
    "\n",
    "psych_disorder_string = psych_disorder.children[-1]"
   ]
  },
  {
   "cell_type": "markdown",
   "metadata": {},
   "source": [
    "## Psych History 📼"
   ]
  },
  {
   "cell_type": "code",
   "execution_count": 113,
   "metadata": {
    "cellView": "form",
    "colab": {
     "base_uri": "https://localhost:8080/",
     "height": 391,
     "referenced_widgets": [
      "59666ff510b04b25889e8a2990eef55e",
      "e3a3f1a664db42eda1d75b3f686049b8"
     ]
    },
    "id": "VRxkYonO49sH",
    "jupyter": {
     "source_hidden": true
    },
    "outputId": "8398b6bf-2db2-41ea-ec08-23214ec2472c"
   },
   "outputs": [
    {
     "data": {
      "application/vnd.jupyter.widget-view+json": {
       "model_id": "607844d43b104aaba0a81ae8e768236a",
       "version_major": 2,
       "version_minor": 0
      },
      "text/plain": [
       "interactive(children=(Dropdown(description='hospitalization', layout=Layout(width='50%'), options=('denies', '…"
      ]
     },
     "metadata": {},
     "output_type": "display_data"
    }
   ],
   "source": [
    "#@title Psych History form\n",
    "\n",
    "hospitalization_dropdown = widgets.Dropdown(\n",
    "    layout=layout_text_area, options=['denies', 'endorses'], \n",
    "    style=style)\n",
    "suicide_dropdown = widgets.Dropdown(\n",
    "    layout=layout_text_area, options=['denies', 'endorses'], \n",
    "    style=style)\n",
    "self_injury_dropdown = widgets.Dropdown(\n",
    "    layout=layout_text_area, options=['denies', 'endorses'], \n",
    "    style=style)\n",
    "\n",
    "previous_meds_text = widgets.Textarea(layout=layout_text_area, style=style, value='None') \n",
    "outpatient_psychiatrist_text = widgets.Text(layout=layout_text_area, style=style, value='None')\n",
    "psych_notes = widgets.Textarea(layout=layout_text_area, style=style) \n",
    "\n",
    "psych_history_template = \"\"\"\n",
    "Psychiatric History: \n",
    "Patient {} any history of psychiatric hospitalizations. \n",
    "Patient {} suicide attempts, \n",
    "Patient {} self-injurious behavior. \n",
    "Previous meds: {} \n",
    "Current outpatient psychiatrist: {}\n",
    "{}\n",
    "\"\"\"\n",
    "def print_psych_history(hospitalization, suicide,\n",
    "                        self_injury, previous_meds, \n",
    "                        outpatient_psychiatrist, notes):\n",
    "    print(psych_history_template.format(hospitalization, suicide,\n",
    "                        self_injury, previous_meds, \n",
    "                        outpatient_psychiatrist, notes))\n",
    "psych_history = interactive(print_psych_history,\n",
    "                            hospitalization=hospitalization_dropdown,\n",
    "                               suicide=suicide_dropdown,\n",
    "                               self_injury=self_injury_dropdown,\n",
    "                               previous_meds=previous_meds_text,\n",
    "                               outpatient_psychiatrist=outpatient_psychiatrist_text,\n",
    "                               notes=psych_notes\n",
    "                               )\n",
    "display(psych_history)\n",
    "\n",
    "psych_history_string = psych_history.children[-1]"
   ]
  },
  {
   "cell_type": "markdown",
   "metadata": {},
   "source": [
    "# Substance Use History 🚬"
   ]
  },
  {
   "cell_type": "code",
   "execution_count": 114,
   "metadata": {
    "cellView": "form",
    "colab": {
     "base_uri": "https://localhost:8080/",
     "height": 458,
     "referenced_widgets": [
      "59666ff510b04b25889e8a2990eef55e",
      "acf0e89d28864d089da2f1f8b033c811"
     ]
    },
    "id": "w9cvVsx3U6k8",
    "jupyter": {
     "source_hidden": true
    },
    "outputId": "da69c16d-a2a7-43b5-ad62-2dc99e67e5e1"
   },
   "outputs": [
    {
     "data": {
      "application/vnd.jupyter.widget-view+json": {
       "model_id": "a49f6137b8154036938205b7884bd72d",
       "version_major": 2,
       "version_minor": 0
      },
      "text/plain": [
       "interactive(children=(Textarea(value='nothing', description='primary_substances', layout=Layout(width='50%'), …"
      ]
     },
     "metadata": {},
     "output_type": "display_data"
    }
   ],
   "source": [
    "#@title Substance Use History form\n",
    "primary_substances_text = widgets.Textarea(layout=layout_text_area, style=style,\n",
    "                                           value='nothing')\n",
    "num_times_in_treatment_int = widgets.BoundedIntText(value=0, style=style, layout=layout_text_area,min=0)\n",
    "longest_sober_time_int = widgets.BoundedIntText(style=style, layout=layout_text_area,min=0)\n",
    "longest_sober_period_dropdown = widgets.Dropdown(\n",
    "    layout=layout_text_area, options=['days', 'weeks', 'months', 'years'], \n",
    "    style=style)\n",
    "ivdu_dropdown = widgets.Dropdown(\n",
    "    layout=layout_text_area, options=['denies', 'endorses'], \n",
    "    style=style)\n",
    "seizures_dropdown = widgets.Dropdown(\n",
    "    layout=layout_text_area, options=['denies', 'endorses'], \n",
    "    style=style)\n",
    "substance_notes = widgets.Textarea(layout=layout_text_area, style=style) \n",
    "\n",
    "substance_history_template = \"\"\"\n",
    "Substance Use History:\n",
    "The patient states that their primary substances of abuse include\n",
    "{} with daily use for periods greater than \n",
    "6 months with resulting impairment in functioning. \n",
    "They state that they have been in residential treatment {} times, \n",
    "with their longest period of sobriety lasting {} {}. \n",
    "The patient {} history of IVDU. \n",
    "Patient {} seizures, complicated withdrawal, and DTs.\\n{}\n",
    "    \"\"\"\n",
    "def print_substance_history(primary_substances,\n",
    "                        num_times_in_treatment, longest_sober_time,\n",
    "                        longest_sober_period,\n",
    "                        ivdu, seizures, notes):\n",
    "    print(substance_history_template.format(primary_substances,\n",
    "                                                num_times_in_treatment,\n",
    "                                                longest_sober_time,\n",
    "                                                longest_sober_period,\n",
    "                                                ivdu,seizures,notes\n",
    "                                                ))\n",
    "substance_history = interactive(print_substance_history,\n",
    "    primary_substances=primary_substances_text,\n",
    "    num_times_in_treatment=num_times_in_treatment_int, \n",
    "    longest_sober_time=longest_sober_time_int,\n",
    "    longest_sober_period=longest_sober_period_dropdown, \n",
    "    ivdu=ivdu_dropdown, seizures=seizures_dropdown, \n",
    "    notes=substance_notes,\n",
    "    )\n",
    "display(substance_history)\n",
    "\n",
    "substance_history_string = substance_history.children[-1]"
   ]
  },
  {
   "cell_type": "markdown",
   "metadata": {},
   "source": [
    "# Medical History 🏥"
   ]
  },
  {
   "cell_type": "code",
   "execution_count": 115,
   "metadata": {
    "cellView": "form",
    "colab": {
     "base_uri": "https://localhost:8080/",
     "height": 329,
     "referenced_widgets": [
      "59666ff510b04b25889e8a2990eef55e",
      "c77757c304c14b50946f93c851fc1f55"
     ]
    },
    "id": "3mbO7y-0e7WV",
    "jupyter": {
     "source_hidden": true
    },
    "outputId": "3910b975-e653-4c16-8383-54b52e322a04"
   },
   "outputs": [
    {
     "data": {
      "application/vnd.jupyter.widget-view+json": {
       "model_id": "1f9a2badf2f045909193b209acda2a59",
       "version_major": 2,
       "version_minor": 0
      },
      "text/plain": [
       "interactive(children=(Dropdown(description='acute_medical', layout=Layout(width='50%'), options=('denies', 'en…"
      ]
     },
     "metadata": {},
     "output_type": "display_data"
    }
   ],
   "source": [
    "#@title Medical History form\n",
    "\n",
    "acute_medical_dropdown = widgets.Dropdown(\n",
    "    layout=layout_text_area, options=['denies', 'endorses'], \n",
    "    style=style)\n",
    "hiv_medical_dropdown = widgets.Dropdown(\n",
    "    layout=layout_text_area, options=['denies', 'endorses'], \n",
    "    style=style)\n",
    "hep_medical_dropdown = widgets.Dropdown(\n",
    "    layout=layout_text_area, options=['denies', 'endorses'], \n",
    "    style=style)\n",
    "tbi_medical_dropdown = widgets.Dropdown(\n",
    "    layout=layout_text_area, options=['denies', 'endorses'], \n",
    "    style=style)\n",
    "acute_medical_notes = widgets.Textarea(layout=layout_text_area, style=style)\n",
    "\n",
    "medical_history_template = \"\"\"\n",
    "Medical History:\n",
    "The patient {} any acute medical conditions. \n",
    "The patient {} any history of HIV. \n",
    "The patient {} any history of hepatitis.\n",
    "The patient {} any history of TBI.\n",
    "{}\n",
    "\"\"\"\n",
    "def print_medical_history(acute_medical, hiv_medical, \n",
    "                          hep_medical, tbi_medical, notes):\n",
    "    print(medical_history_template.format(acute_medical, hiv_medical, \n",
    "                          hep_medical, tbi_medical, notes))\n",
    "medical_history = interactive(print_medical_history,\n",
    "                               acute_medical=acute_medical_dropdown,\n",
    "                               hiv_medical=hiv_medical_dropdown,\n",
    "                               hep_medical=hep_medical_dropdown,\n",
    "                               tbi_medical=tbi_medical_dropdown,\n",
    "                               notes=acute_medical_notes)\n",
    "display(medical_history)\n",
    "\n",
    "medical_history_string = medical_history.children[-1]"
   ]
  },
  {
   "cell_type": "markdown",
   "metadata": {},
   "source": [
    "# Allergies 🤧"
   ]
  },
  {
   "cell_type": "code",
   "execution_count": 116,
   "metadata": {
    "cellView": "form",
    "colab": {
     "base_uri": "https://localhost:8080/",
     "height": 17,
     "referenced_widgets": [
      "59666ff510b04b25889e8a2990eef55e",
      "ac64be68492045c2900675df469bd20d"
     ]
    },
    "id": "fOKDagBvgskt",
    "jupyter": {
     "source_hidden": true
    },
    "outputId": "dfbe8dfe-c8c5-4f63-ffaf-47353e414263"
   },
   "outputs": [
    {
     "data": {
      "application/vnd.jupyter.widget-view+json": {
       "model_id": "f2b241da3047449ca4a30ff9bc0c1b10",
       "version_major": 2,
       "version_minor": 0
      },
      "text/plain": [
       "interactive(children=(Textarea(value='NKDA', description='allergies', layout=Layout(width='50%'), style=Descri…"
      ]
     },
     "metadata": {},
     "output_type": "display_data"
    }
   ],
   "source": [
    "#@title Allergies form\n",
    "\n",
    "allergies_text = widgets.Textarea(layout=layout_text_area, style=style,\n",
    "                                  value='NKDA')\n",
    "\n",
    "allergies_template = \"\"\"\n",
    "Allergies:\n",
    "{}\n",
    "\"\"\"\n",
    "def print_allergies_history(allergies):\n",
    "    print(allergies_template.format(allergies))\n",
    "allergies = interactive(print_allergies_history,\n",
    "                               allergies=allergies_text)\n",
    "display(allergies)\n",
    "\n",
    "allergies_string = allergies.children[-1]"
   ]
  },
  {
   "cell_type": "markdown",
   "metadata": {},
   "source": [
    "# Family Psych History 👨‍👩‍👦"
   ]
  },
  {
   "cell_type": "code",
   "execution_count": 117,
   "metadata": {
    "cellView": "form",
    "colab": {
     "base_uri": "https://localhost:8080/",
     "height": 17,
     "referenced_widgets": [
      "59666ff510b04b25889e8a2990eef55e",
      "45dae396413a4c9db5ca3ca03e11718e"
     ]
    },
    "id": "JwdmIAFghbxg",
    "jupyter": {
     "source_hidden": true
    },
    "outputId": "6265c045-1592-4938-d0ea-9f737136c049"
   },
   "outputs": [
    {
     "data": {
      "application/vnd.jupyter.widget-view+json": {
       "model_id": "17b4c41ba9c2407a8060d38246f74009",
       "version_major": 2,
       "version_minor": 0
      },
      "text/plain": [
       "interactive(children=(Textarea(value='Denies family history of mental illness', description='family', layout=L…"
      ]
     },
     "metadata": {},
     "output_type": "display_data"
    }
   ],
   "source": [
    "#@title Family Psych History form\n",
    "\n",
    "family_text = widgets.Textarea(layout=layout_text_area, style=style,\n",
    "                                  value='Denies family history of mental illness')\n",
    "family_template = \"\"\"\n",
    "Family Psychiatric History:\n",
    "{}\n",
    "\"\"\"\n",
    "def print_family_history(family):\n",
    "    print(family_template.format(family))\n",
    "family = interactive(print_family_history,\n",
    "                               family=family_text)\n",
    "display(family)\n",
    "\n",
    "family_string = family.children[-1]"
   ]
  },
  {
   "cell_type": "markdown",
   "metadata": {},
   "source": [
    "# Social History 👫"
   ]
  },
  {
   "cell_type": "code",
   "execution_count": 118,
   "metadata": {
    "cellView": "form",
    "colab": {
     "base_uri": "https://localhost:8080/",
     "height": 361,
     "referenced_widgets": [
      "59666ff510b04b25889e8a2990eef55e",
      "073ff77cf15e416a91b3c26b5529f284"
     ]
    },
    "id": "VllLTIHvh599",
    "jupyter": {
     "source_hidden": true
    },
    "outputId": "dc91bb62-b504-4ccb-f0f3-976927484d49",
    "tags": []
   },
   "outputs": [
    {
     "data": {
      "application/vnd.jupyter.widget-view+json": {
       "model_id": "0dd592734c4f4662b5a7f49570a23611",
       "version_major": 2,
       "version_minor": 0
      },
      "text/plain": [
       "interactive(children=(Dropdown(description='married', layout=Layout(width='50%'), options=('single', 'married'…"
      ]
     },
     "metadata": {},
     "output_type": "display_data"
    }
   ],
   "source": [
    "# @title Social History form\n",
    "\n",
    "married_dropdown = widgets.Dropdown(\n",
    "    layout=layout_text_area, options=['single', 'married'], \n",
    "    style=style)\n",
    "\n",
    "num_children_int = widgets.BoundedIntText(value=0, style=style, layout=layout_text_area,min=0)\n",
    "home_dropdown = widgets.Combobox(layout=layout_text_area, \n",
    "                                 options=['in sober living', 'at home'], \n",
    "                                 style=style)\n",
    "legal_dropdown = widgets.Dropdown(layout=layout_text_area, \n",
    "                                  options=['denies', 'endorses'], \n",
    "                                  style=style)\n",
    "abuse_dropdown = widgets.Dropdown(layout=layout_text_area, \n",
    "                                  options=['denies', 'endorses'],\n",
    "                                  style=style)\n",
    "\n",
    "social_history_notes = widgets.Textarea(layout=layout_text_area, style=style)\n",
    "\n",
    "if num_children_int.value == 1:\n",
    "    num_child_int = 'child'\n",
    "else:\n",
    "    num_child_int = 'children'\n",
    "social_history_string = \"\"\"\n",
    "Social History:\n",
    "The patient states that they are {}, and have {} {}. \n",
    "They report that they are currently living {}. \n",
    "The patient {} any history of legal problems.  \n",
    "The patient {} a history of abuse.\n",
    "{}\n",
    "\"\"\"\n",
    "def print_social_history(married, num_children, \n",
    "                         home, legal, abuse, notes):\n",
    "    if num_children == 1:\n",
    "        num_child_int = 'child'\n",
    "    else:\n",
    "        num_child_int = 'children'\n",
    "    print(social_history_string.format(married, num_children, \n",
    "                        num_child_int, home, legal, abuse, notes))\n",
    "social = interactive(print_social_history,\n",
    "                     married=married_dropdown,\n",
    "                     num_children=num_children_int,\n",
    "                     home=home_dropdown,\n",
    "                     legal=legal_dropdown,\n",
    "                     abuse=abuse_dropdown,\n",
    "                     notes=social_history_notes\n",
    "                     )\n",
    "display(social)\n",
    "\n",
    "social_string = social.children[-1]"
   ]
  },
  {
   "cell_type": "markdown",
   "metadata": {},
   "source": [
    "# Mental Status Exam 📊"
   ]
  },
  {
   "cell_type": "code",
   "execution_count": 119,
   "metadata": {
    "cellView": "form",
    "colab": {
     "base_uri": "https://localhost:8080/",
     "height": 329,
     "referenced_widgets": [
      "2697a22e7e714511ab4c51b9f754a4ab"
     ]
    },
    "id": "pqwuQ8Zuk2Ia",
    "jupyter": {
     "source_hidden": true
    },
    "outputId": "6b3027b2-51f7-4640-b670-ffe8e4a250c3",
    "tags": []
   },
   "outputs": [
    {
     "data": {
      "application/vnd.jupyter.widget-view+json": {
       "model_id": "620b6fff3c6247f3bc9866731128e398",
       "version_major": 2,
       "version_minor": 0
      },
      "text/plain": [
       "interactive(children=(Textarea(value='It’s pretty good.', description='Current mood:', layout=Layout(height='1…"
      ]
     },
     "metadata": {},
     "output_type": "display_data"
    }
   ],
   "source": [
    "#@title mental_status_exam\n",
    "mse_mood_text = widgets.Textarea(layout=Layout(width='500px', height='100px'),\n",
    "    value=\"It’s pretty good.\",\n",
    "    placeholder='Type something',\n",
    "    description='Current mood:',\n",
    "    disabled=False\n",
    ")\n",
    "\n",
    "string = (\"\"\"\n",
    "Mental Status Examination: \n",
    "Appearance: WD/WN, looks stated age, fair grooming and hygiene, casually dressed\n",
    "Behavior: Calm, cooperative, fair eye contact\n",
    "Psychomotor: No activation or retardation\n",
    "Speech: Fluent, spontaneous\n",
    "Mood: “{}” \n",
    "Affect: Euthymic, full-range, congruent with mood\n",
    "Thought Process: Linear, logical\n",
    "Thought Content: Denies SI/HI/AH/VH/delusions\n",
    "Insight/Judgement: Limited to fair/Fair\n",
    "\"\"\")\n",
    "def print_mse(mse_mood):\n",
    "    print(string.format(mse_mood))\n",
    "mse = interactive(print_mse,\n",
    "                     mse_mood=mse_mood_text\n",
    "                     )\n",
    "display(mse)\n",
    "\n",
    "mse_string = mse.children[-1]"
   ]
  },
  {
   "cell_type": "markdown",
   "metadata": {},
   "source": [
    "# Labs 🧪"
   ]
  },
  {
   "cell_type": "code",
   "execution_count": 120,
   "metadata": {
    "cellView": "form",
    "colab": {
     "base_uri": "https://localhost:8080/",
     "height": 118,
     "referenced_widgets": [
      "0f65c313fcd640aea418509dc30b655c"
     ]
    },
    "id": "qZfroPcgyyp0",
    "jupyter": {
     "source_hidden": true
    },
    "outputId": "cb7e12a3-bb45-4e38-81af-2187b1c90901"
   },
   "outputs": [
    {
     "data": {
      "application/vnd.jupyter.widget-view+json": {
       "model_id": "4509590a84404ae6ae2f5b49aadb32f3",
       "version_major": 2,
       "version_minor": 0
      },
      "text/plain": [
       "interactive(children=(Text(value='None currently on file.', description='labs'), Output()), _dom_classes=('wid…"
      ]
     },
     "metadata": {},
     "output_type": "display_data"
    }
   ],
   "source": [
    "#@title Labs form\n",
    "labs_text = widgets.Text(value='None currently on file.')\n",
    "\n",
    "labs_template = \"\"\"\n",
    "Labs and Studies:\n",
    "{}\n",
    "\"\"\"\n",
    "def print_labs(labs):\n",
    "    print(labs_template.format(labs))\n",
    "\n",
    "labs = interactive(print_labs,\n",
    "                     labs=labs_text\n",
    "                     )\n",
    "display(labs)\n",
    "\n",
    "labs_string = labs.children[-1]"
   ]
  },
  {
   "cell_type": "markdown",
   "metadata": {},
   "source": [
    "# Disorders 💔"
   ]
  },
  {
   "cell_type": "code",
   "execution_count": 121,
   "metadata": {
    "cellView": "form",
    "colab": {
     "base_uri": "https://localhost:8080/",
     "height": 190,
     "referenced_widgets": [
      "59666ff510b04b25889e8a2990eef55e",
      "1a979349a38b4e9ba31d2117fb179b7a",
      "92491c20366543539db1885f076ff571"
     ]
    },
    "id": "oGfKpDnc0KNf",
    "jupyter": {
     "source_hidden": true
    },
    "outputId": "dc5c1562-b0f5-4ed7-8a07-4559469bb3cd"
   },
   "outputs": [
    {
     "data": {
      "application/vnd.jupyter.widget-view+json": {
       "model_id": "6ac194b562d7463e97a67519e8212a4d",
       "version_major": 2,
       "version_minor": 0
      },
      "text/plain": [
       "Box(children=(VBox(children=(Checkbox(value=False, description='Major depressive disorder, rec, mod'), Checkbo…"
      ]
     },
     "metadata": {},
     "output_type": "display_data"
    },
    {
     "data": {
      "application/vnd.jupyter.widget-view+json": {
       "model_id": "6c4209f783b746b4bb9be51f0a15c477",
       "version_major": 2,
       "version_minor": 0
      },
      "text/plain": [
       "Textarea(value='', description='Other:', layout=Layout(width='50%'), style=DescriptionStyle(description_width=…"
      ]
     },
     "metadata": {},
     "output_type": "display_data"
    }
   ],
   "source": [
    "#@title disorders form\n",
    "\n",
    "disorders1 = ['Major depressive disorder, rec, mod',\n",
    "    'Post-traumatic stress disorder',\n",
    "    'Generalized anxiety disorder',\n",
    "    'Alcohol use disorder Severe']\n",
    "disorders2 = ['Unspecified Anxiety Disorder',\n",
    "    'Unspecified Depressive Disorder',\n",
    "    'Cocaine use disorder Severe',\n",
    "    'Cannabis use disorder Severe']\n",
    "disorders3 = ['Sedative, hypnotic and/or anxiolytic Use Disorder Severe',\n",
    "    'Amphetamine-type substance use disorder Severe',\n",
    "    'Opioid use disorder Severe',\n",
    "    'ADHD']\n",
    "disorders4 = ['Unspecified Bipolar Disorder',\n",
    "    'Bipolar II disorder',\n",
    "    'Bipolar I disorder']\n",
    "\n",
    "check1 = widgets.VBox([widgets.Checkbox(description=x) for x in disorders1])\n",
    "check2 = widgets.VBox([widgets.Checkbox(description=x) for x in disorders2])\n",
    "check3 = widgets.VBox([widgets.Checkbox(description=x) for x in disorders3])\n",
    "check4 = widgets.VBox([widgets.Checkbox(description=x) for x in disorders4])\n",
    "\n",
    "box1 = widgets.HBox([check1,check2])\n",
    "box2 = widgets.HBox([check3, check4])\n",
    "\n",
    "disorder_choices = widgets.Box([check1, check2, check3, check4]) \n",
    "disorder_notes = widgets.Textarea(description='Other:', style=style, layout=layout_text_area)\n",
    "       \n",
    "\n",
    "display(disorder_choices)\n",
    "display(disorder_notes)\n",
    "\n",
    "\n"
   ]
  },
  {
   "cell_type": "markdown",
   "metadata": {},
   "source": [
    "# Plan 🗺"
   ]
  },
  {
   "cell_type": "code",
   "execution_count": 122,
   "metadata": {
    "cellView": "form",
    "colab": {
     "base_uri": "https://localhost:8080/",
     "height": 223,
     "referenced_widgets": [
      "d492b7f7e64a4d21bc2dc5085de73379",
      "99281c846a1a433fa2fa2ebcff0d90b5",
      "6f2d021562664827ae8d110c74654afa",
      "5d601543480649238e98302a8a4cf69c",
      "a61a21a5cd2440ad8ef995bc74b8f103",
      "334ae6c3f24c4f6d874bbed7da77f548"
     ]
    },
    "id": "l1tDuTSzAJuo",
    "jupyter": {
     "source_hidden": true
    },
    "outputId": "759540b5-11be-433c-c472-8e33268bc82e"
   },
   "outputs": [
    {
     "data": {
      "application/vnd.jupyter.widget-view+json": {
       "model_id": "c0ba04a9a9ce408e933d75516e3e932b",
       "version_major": 2,
       "version_minor": 0
      },
      "text/plain": [
       "Textarea(value='3. Medical and Lab: Per PCP. Patient encouraged to establish care with local PCP for routine p…"
      ]
     },
     "metadata": {},
     "output_type": "display_data"
    },
    {
     "data": {
      "application/vnd.jupyter.widget-view+json": {
       "model_id": "e75ff1d6c07048a1acb744dcce1d86af",
       "version_major": 2,
       "version_minor": 0
      },
      "text/plain": [
       "Textarea(value='4. Continue medication.', description='med plan:', layout=Layout(height='100px', width='500px'…"
      ]
     },
     "metadata": {},
     "output_type": "display_data"
    }
   ],
   "source": [
    "#@title med plan\n",
    "\n",
    "pcp_plan = widgets.Textarea(layout=Layout(width='500px', height='100px'),\n",
    "    value=\"3. Medical and Lab: Per PCP. Patient encouraged to establish care with local PCP for routine physical and baseline labs.\",\n",
    "    placeholder='Type something',\n",
    "    description='pcp plan:',\n",
    "    disabled=False\n",
    ")\n",
    "\n",
    "med_plan = widgets.Textarea(layout=Layout(width='500px', height='100px'),\n",
    "    value=\"4. Continue medication.\",\n",
    "    placeholder='Type something',\n",
    "    description='med plan:',\n",
    "    disabled=False\n",
    ")\n",
    "display(pcp_plan)\n",
    "display(med_plan)"
   ]
  },
  {
   "cell_type": "markdown",
   "metadata": {},
   "source": [
    "# You're not done yet! run cell below 👇\n",
    "\n",
    "then copy and paste into doc"
   ]
  },
  {
   "cell_type": "code",
   "execution_count": 125,
   "metadata": {
    "cellView": "form",
    "colab": {
     "base_uri": "https://localhost:8080/",
     "height": 1000,
     "referenced_widgets": [
      "8e422d4402d54067899798a6ed7225fa",
      "3b533668dc4c453d834d15c08a38f291",
      "61f9c2a3dde34c6eaaaf9a515c3d828f",
      "3a7aabafd8b14294a6068ead1cca5536",
      "00b24ec4605c427f917fcae31c125965",
      "d2bef938e5b742349b5522f1752c4cff",
      "a709df12b84744d2be776a6c253a9a25",
      "7850dfad0d6246b1ab4c6402beb491a7",
      "02429984defd4e7293f509762ff20341",
      "7c0667356b6a4f87827aba5fb2cdb2da",
      "cb5d1472d29748b0a2596e63db8b4090",
      "35a9385c05284603902b4fd5d50e7923",
      "39fafc71cc74420980806456ffdea060",
      "ab44efcff91048f28cb71d2de47ee72c",
      "1b71004116b8470d9b0c97e5c6a238bf",
      "223a4c366d6a455393ace7787c886ac2",
      "42f310373ac34ce7a061d901a0cf59f5",
      "9ab2f80404d04a04a889549bf4523ff3",
      "ded12e82c85b40d0af8d6321051642d1",
      "a7c9f0ad6fde4e8a960de2fd953ed0ee",
      "2b185fb1984d40c3bea253d864d1a1b8",
      "d7e875df8e37483abe947772f8ad98a3",
      "66f48c970fcb48798a44cc72944dab45",
      "8a862dc09ceb4bbbbde194eb0f3dc968",
      "fbb615d0aab44c029823a4a72f352589",
      "8ce7f8549164444e82addfe5ac8f926d",
      "8e08f49d11c7498e84f51152d7a8cf59",
      "4f486e0392f94aa2ba1c4a758879ccb7"
     ]
    },
    "id": "eqFpBALd-2vN",
    "jupyter": {
     "source_hidden": true
    },
    "outputId": "7c5e3a23-35a3-4154-af42-d11c3655eaf7",
    "tags": []
   },
   "outputs": [
    {
     "name": "stdout",
     "output_type": "stream",
     "text": [
      "Patient Identification:\n",
      "The patient is a 30 year old female with a self reported \n",
      "history of alcohol, heroin, methamphetamine use and anxiety, ptsd, bipolar I disorder,\n",
      "who presents to Casablanca for treatment.\n",
      "\n"
     ]
    },
    {
     "data": {
      "application/vnd.jupyter.widget-view+json": {
       "model_id": "dd9eadcd71174e74a62422a5c442e032",
       "version_major": 2,
       "version_minor": 0
      },
      "text/plain": [
       "Output(outputs=({'name': 'stdout', 'text': '\\nHistory of Present Illness:\\nThe patient states that they decide…"
      ]
     },
     "metadata": {},
     "output_type": "display_data"
    },
    {
     "data": {
      "application/vnd.jupyter.widget-view+json": {
       "model_id": "5a8a2141e5e34733b456394fbf3448b0",
       "version_major": 2,
       "version_minor": 0
      },
      "text/plain": [
       "Output(outputs=({'name': 'stdout', 'text': '\\nCurrent Medication:\\nSeroquel 800mg qhs- gaining way too much we…"
      ]
     },
     "metadata": {},
     "output_type": "display_data"
    },
    {
     "data": {
      "application/vnd.jupyter.widget-view+json": {
       "model_id": "b482388b39874883875c0a506a0112dc",
       "version_major": 2,
       "version_minor": 0
      },
      "text/plain": [
       "Output(outputs=({'name': 'stdout', 'text': '\\nThis patient denies current depressed mood. \\nOver the past seve…"
      ]
     },
     "metadata": {},
     "output_type": "display_data"
    },
    {
     "data": {
      "application/vnd.jupyter.widget-view+json": {
       "model_id": "55435d53da5c4cf0b06c971630b319f5",
       "version_major": 2,
       "version_minor": 0
      },
      "text/plain": [
       "Output(outputs=({'name': 'stdout', 'text': '\\nThe patient endorses that they worry regularly about multiple as…"
      ]
     },
     "metadata": {},
     "output_type": "display_data"
    },
    {
     "data": {
      "application/vnd.jupyter.widget-view+json": {
       "model_id": "3cc6d3c9ac6f41789aff589946618192",
       "version_major": 2,
       "version_minor": 0
      },
      "text/plain": [
       "Output(outputs=({'name': 'stdout', 'text': '\\nThe patient endorses that they have sustained significant trauma…"
      ]
     },
     "metadata": {},
     "output_type": "display_data"
    },
    {
     "data": {
      "application/vnd.jupyter.widget-view+json": {
       "model_id": "2bcc14c5183640d6b9ac83357c627d54",
       "version_major": 2,
       "version_minor": 0
      },
      "text/plain": [
       "Output(outputs=({'name': 'stdout', 'text': '\\nThe patient reported a history of mania.\\nThe patient reported a…"
      ]
     },
     "metadata": {},
     "output_type": "display_data"
    },
    {
     "data": {
      "application/vnd.jupyter.widget-view+json": {
       "model_id": "b44665c56eca41c2a5302e02e29f26d6",
       "version_major": 2,
       "version_minor": 0
      },
      "text/plain": [
       "Output(outputs=({'name': 'stdout', 'text': '\\nPsychiatric History: \\nPatient endorses any history of psychiatr…"
      ]
     },
     "metadata": {},
     "output_type": "display_data"
    },
    {
     "data": {
      "application/vnd.jupyter.widget-view+json": {
       "model_id": "e851d78b563c4a748ba5879964b17992",
       "version_major": 2,
       "version_minor": 0
      },
      "text/plain": [
       "Output(outputs=({'name': 'stdout', 'text': '\\nSubstance Use History:\\nThe patient states that their primary su…"
      ]
     },
     "metadata": {},
     "output_type": "display_data"
    },
    {
     "data": {
      "application/vnd.jupyter.widget-view+json": {
       "model_id": "60e068c28bf9485092f791afbdec0479",
       "version_major": 2,
       "version_minor": 0
      },
      "text/plain": [
       "Output(outputs=({'name': 'stdout', 'text': '\\nMedical History:\\nThe patient endorses any acute medical conditi…"
      ]
     },
     "metadata": {},
     "output_type": "display_data"
    },
    {
     "data": {
      "application/vnd.jupyter.widget-view+json": {
       "model_id": "f528ffe5b8ec4a3d8471757ffeb4d55a",
       "version_major": 2,
       "version_minor": 0
      },
      "text/plain": [
       "Output(outputs=({'name': 'stdout', 'text': '\\nAllergies:\\nNKDA\\n\\n', 'output_type': 'stream'},))"
      ]
     },
     "metadata": {},
     "output_type": "display_data"
    },
    {
     "data": {
      "application/vnd.jupyter.widget-view+json": {
       "model_id": "b55193aa7566418d8fde39c83c60319d",
       "version_major": 2,
       "version_minor": 0
      },
      "text/plain": [
       "Output(outputs=({'name': 'stdout', 'text': '\\nFamily Psychiatric History:\\nDenies family history of mental ill…"
      ]
     },
     "metadata": {},
     "output_type": "display_data"
    },
    {
     "data": {
      "application/vnd.jupyter.widget-view+json": {
       "model_id": "4be6ad4134074038ba7d6d8e96173f5e",
       "version_major": 2,
       "version_minor": 0
      },
      "text/plain": [
       "Output(outputs=({'name': 'stdout', 'text': '\\nSocial History:\\nThe patient states that they are single, and ha…"
      ]
     },
     "metadata": {},
     "output_type": "display_data"
    },
    {
     "data": {
      "application/vnd.jupyter.widget-view+json": {
       "model_id": "344060ee622e493f9eee18f7b4123e9a",
       "version_major": 2,
       "version_minor": 0
      },
      "text/plain": [
       "Output(outputs=({'name': 'stdout', 'text': '\\nMental Status Examination: \\nAppearance: WD/WN, looks stated age…"
      ]
     },
     "metadata": {},
     "output_type": "display_data"
    },
    {
     "data": {
      "application/vnd.jupyter.widget-view+json": {
       "model_id": "23078eeb7caf467ab0fc571352eaa1f3",
       "version_major": 2,
       "version_minor": 0
      },
      "text/plain": [
       "Output(outputs=({'name': 'stdout', 'text': '\\nLabs and Studies:\\nNone currently on file.\\n\\n', 'output_type': …"
      ]
     },
     "metadata": {},
     "output_type": "display_data"
    },
    {
     "name": "stdout",
     "output_type": "stream",
     "text": [
      "Assessment:\n",
      "Post-traumatic stress disorder\n",
      "Generalized anxiety disorder\n",
      "Alcohol use disorder Severe\n",
      "Amphetamine-type substance use disorder Severe\n",
      "Opioid use disorder Severe\n",
      "\n",
      "Risk Assessment:\n",
      "With respect to imminent suicide risk, the patient is low risk and appropriate to be managed in current level of care because the patient has no current SI, \n",
      "intent, plan, or hopelessness, and is actively engaged in treatment. \n",
      "With respect to imminent violence risk, the patient is low risk and appropriate to be managed in current level of care because the patient has no HI, intent, plan, \n",
      "or history of significant violence.\n",
      "\n",
      "Plan:\n",
      "1. Psychoeducation: Discussed diagnostic impressions, treatment options, and expected course and prognosis.\n",
      "2. Indications, benefits, risks, side effects, and alternatives including no treatment discussed.\n",
      "3. Medical and Lab: Per PCP. Patient encouraged to establish care with local PCP/urgent for routine physical and baseline labs and management of medical conditions.\n",
      "Change Seroquel to 400mg po qhs\n",
      "Depakote 500mg bid\n",
      "Prazosin 5mg qhs\n",
      "Change Propranolol to 20mg qd BID prn anxiety\n",
      "Buspar 10mg BID\n",
      "Wants to d/c Keppra 500mg bid- \"only had 2 when I was coming off xanax.\"\n",
      "Increase Zoloft to 200mg qd\n",
      "Change Gabapentin 400mg bid \n",
      "Flexeril 10mg qd- PCP\n",
      "Robaxin 750mg QD- PCP\n",
      "Continue Trazodone 50mg qhs po qhs prn insomnia\n",
      "Start Subutex taper, declines narcan- \n",
      "5. Discussed naltrexone/vivitrol/implant options. Pt declines.\n",
      "6. CURES database consulted\n",
      "7. Encouraged compliance with treatment program\n",
      "8. Patient instructed to call clinic, MD, 911, or go to the nearest emergency department if symptoms worsen, or if patient has an adverse reaction to a medication, or if feeling suicidal, homicidal, or for any other concern.  \n",
      "9. Urine drug testing is medically necessary for diagnostic, clinical, and therapeutic purposes, to detect the use of prescription medications and illegal substances of concern for the purpose of assessment and treatment and to monitor compliance with the medication protocol of the Program. Client will be tested 2-3 times a week as part of routine monitoring, or for attendance to group, return from pass, randomly, or under suspicion of relapse, according to this facility’s policies and procedures.\n",
      "10. Increase collateral database\n",
      "11. Follow-up weekly\n",
      "\n",
      "Emily Samuel, PMHNP\n",
      "\n"
     ]
    }
   ],
   "source": [
    "#@title Psychiatric Initial Evaluation\n",
    "\n",
    "age, pronoun, gender, treatment_center = id_choices.children[0].children[0].children\n",
    "notes = id_choices.children[0].children[1].children[0]\n",
    "\n",
    "substance_dict = {}\n",
    "for i, substance in enumerate(substance_options):\n",
    "    substance_dict[substance] = id_choices.children[1].children[0].children[i].value\n",
    "mental_dict = {}\n",
    "for i, mental in enumerate(mental_options):\n",
    "    mental_dict[mental] = id_choices.children[2].children[i].value\n",
    "\n",
    "substance_id = []\n",
    "mental_id = []\n",
    "for condition, val in substance_dict.items():\n",
    "    if val == True:\n",
    "        substance_id.append(condition)\n",
    "for condition, val in mental_dict.items():\n",
    "    if val == True:\n",
    "        mental_id.append(condition)\n",
    "\n",
    "mental_list = ', '.join([x for x in mental_id])\n",
    "substance_list = ', '.join([x for x in substance_id]) + ' use'\n",
    "\n",
    "disorders_list = []\n",
    "for i in range(len(disorders1)):\n",
    "    child = disorder_choices.children[0].children[i]\n",
    "    if child.value == True:\n",
    "        disorders_list.append(child.description)\n",
    "for i in range(len(disorders2)):\n",
    "    child = disorder_choices.children[1].children[i]\n",
    "    if child.value == True:\n",
    "        disorders_list.append(child.description)\n",
    "for i in range(len(disorders3)):\n",
    "    child = disorder_choices.children[2].children[i]\n",
    "    if child.value == True:\n",
    "        disorders_list.append(child.description)\n",
    "for i in range(len(disorders4)):\n",
    "    child = disorder_choices.children[3].children[i]\n",
    "    if child.value == True:\n",
    "        disorders_list.append(child.description)\n",
    "\n",
    "patient_id_string = f\"\"\"Patient Identification:\n",
    "The patient is a {age.value} year old {gender.value} with a self reported \n",
    "history of {substance_list} and {mental_list},\n",
    "who presents to {treatment_center.value} for treatment.\\n{notes.value}\"\"\"\n",
    "\n",
    "disorders_list = []\n",
    "for i in range(len(disorders1)):\n",
    "    child = disorder_choices.children[0].children[i]\n",
    "    if child.value == True:\n",
    "        disorders_list.append(child.description)\n",
    "for i in range(len(disorders2)):\n",
    "    child = disorder_choices.children[1].children[i]\n",
    "    if child.value == True:\n",
    "        disorders_list.append(child.description)\n",
    "for i in range(len(disorders3)):\n",
    "    child = disorder_choices.children[2].children[i]\n",
    "    if child.value == True:\n",
    "        disorders_list.append(child.description)\n",
    "for i in range(len(disorders4)):\n",
    "    child = disorder_choices.children[3].children[i]\n",
    "    if child.value == True:\n",
    "        disorders_list.append(child.description)\n",
    "\n",
    "# patient_id_string = f\"\"\"Patient Identification:\n",
    "# The patient is a {age.value} year old {gender.value} with a self reported \n",
    "# history of {substance_list} and {mental_list},\n",
    "# who presents to {treatment_center.value} for treatment.\n",
    "# {notes.value}\n",
    "#     \"\"\"\n",
    "\n",
    "disorders_string = \"\"\"Assessment:\n",
    "\"\"\" + '\\n'.join(disorders_list)\n",
    "\n",
    "disorders_notes_string = disorder_notes.value \n",
    "\n",
    "risk_assessment_string = f\"\"\"Risk Assessment:\n",
    "With respect to imminent suicide risk, the patient is low risk and appropriate to be managed in current level of care because the patient has no current SI, \n",
    "intent, plan, or hopelessness, and is actively engaged in treatment. \n",
    "With respect to imminent violence risk, the patient is low risk and appropriate to be managed in current level of care because the patient has no HI, intent, plan, \n",
    "or history of significant violence.\n",
    "\"\"\"\n",
    "\n",
    "plan_string = f\"\"\"Plan:\n",
    "1. Psychoeducation: Discussed diagnostic impressions, treatment options, and expected course and prognosis.\n",
    "2. Indications, benefits, risks, side effects, and alternatives including no treatment discussed.\n",
    "{pcp_plan.value}\n",
    "{med_plan.value}\n",
    "5. Discussed naltrexone/vivitrol/implant options. Pt declines.\n",
    "6. CURES database consulted\n",
    "7. Encouraged compliance with treatment program\n",
    "8. Patient instructed to call clinic, MD, 911, or go to the nearest emergency department if symptoms worsen, or if patient has an adverse reaction to a medication, or if feeling suicidal, homicidal, or for any other concern.  \n",
    "9. Urine drug testing is medically necessary for diagnostic, clinical, and therapeutic purposes, to detect the use of prescription medications and illegal substances of concern for the purpose of assessment and treatment and to monitor compliance with the medication protocol of the Program. Client will be tested 2-3 times a week as part of routine monitoring, or for attendance to group, return from pass, randomly, or under suspicion of relapse, according to this facility’s policies and procedures.\n",
    "10. Increase collateral database\n",
    "11. Follow-up weekly\n",
    "\n",
    "Emily Samuel, PMHNP\n",
    "\"\"\"\n",
    "\n",
    "text_strings = [patient_id_string,\n",
    "                hpi_string,\n",
    "                current_medication_string,\n",
    "                mood_string,\n",
    "                anxiety_string,\n",
    "                trauma_string,\n",
    "                psych_disorder_string,\n",
    "                psych_history_string,\n",
    "                substance_history_string,\n",
    "                medical_history_string,\n",
    "                allergies_string,\n",
    "                family_string,\n",
    "                social_string,\n",
    "                mse_string,\n",
    "                labs_string,\n",
    "                disorders_string,\n",
    "                disorders_notes_string,\n",
    "                risk_assessment_string,\n",
    "                plan_string]\n",
    "\n",
    "display_strings = [psych_history_string, \n",
    "                   psych_disorder_string,\n",
    "                   substance_history_string,\n",
    "                   allergies_string,\n",
    "                   social_string,\n",
    "                   mse_string,\n",
    "                   labs_string]\n",
    "\n",
    "print_strings = [patient_id_string,\n",
    "                disorders_string,\n",
    "                disorders_notes_string,\n",
    "                risk_assessment_string,\n",
    "                plan_string]\n",
    "\n",
    "for text_string in text_strings:\n",
    "    if text_string in print_strings:\n",
    "        print(text_string)\n",
    "    else:\n",
    "        display(text_string)\n",
    "    # if text_string in display_strings:\n",
    "    #     display(text_string) \n",
    "    # else:\n",
    "    #     print(text_string)\n"
   ]
  },
  {
   "cell_type": "code",
   "execution_count": null,
   "metadata": {
    "id": "T6lwHsznKHA3",
    "jupyter": {
     "source_hidden": true
    }
   },
   "outputs": [],
   "source": []
  }
 ],
 "metadata": {
  "colab": {
   "name": "template prod oct 6 2021",
   "provenance": [],
   "toc_visible": true
  },
  "kernelspec": {
   "display_name": "Python 3",
   "language": "python",
   "name": "python3"
  },
  "language_info": {
   "codemirror_mode": {
    "name": "ipython",
    "version": 3
   },
   "file_extension": ".py",
   "mimetype": "text/x-python",
   "name": "python",
   "nbconvert_exporter": "python",
   "pygments_lexer": "ipython3",
   "version": "3.8.8"
  },
  "toc-autonumbering": true,
  "toc-showmarkdowntxt": false,
  "widgets": {
   "application/vnd.jupyter.widget-state+json": {
    "state": {
     "00148c36bb9c42f59b0f105dbe9699f5": {
      "model_module": "@jupyter-widgets/base",
      "model_module_version": "1.2.0",
      "model_name": "LayoutModel",
      "state": {}
     },
     "0038d8154f5c4d11aa99ea622a1382dd": {
      "model_module": "@jupyter-widgets/controls",
      "model_module_version": "1.5.0",
      "model_name": "TextareaModel",
      "state": {
       "description": "notes",
       "layout": "IPY_MODEL_57dff8c6f77e4aad88e092f42ad13209",
       "style": "IPY_MODEL_3c927decb40446e5bce9b57aa281ed80"
      }
     },
     "00633b045c354363be20560e684459dd": {
      "model_module": "@jupyter-widgets/controls",
      "model_module_version": "1.5.0",
      "model_name": "BoxModel",
      "state": {
       "children": [
        "IPY_MODEL_fbf3ddfcb6d643a4974a9d0279bd3fae",
        "IPY_MODEL_95cc4d5bfa044de085d81a02b184c825",
        "IPY_MODEL_328b5bf8162d43b9823d7cbad8f85324",
        "IPY_MODEL_e038657a54b44f86b85052b8b109ba2b"
       ],
       "layout": "IPY_MODEL_9d91d6a576684c759ccab3fe8d87d95b"
      }
     },
     "006bf1173dd248a2a9852f03e65ec8c6": {
      "model_module": "@jupyter-widgets/controls",
      "model_module_version": "1.5.0",
      "model_name": "DescriptionStyleModel",
      "state": {
       "description_width": "150px"
      }
     },
     "008c9b650d8c444699f2af29feaa844f": {
      "model_module": "@jupyter-widgets/controls",
      "model_module_version": "1.5.0",
      "model_name": "DescriptionStyleModel",
      "state": {
       "description_width": "150px"
      }
     },
     "009e50839c63483597c0b94de630c161": {
      "model_module": "@jupyter-widgets/controls",
      "model_module_version": "1.5.0",
      "model_name": "DescriptionStyleModel",
      "state": {
       "description_width": ""
      }
     },
     "00a23196e1e84105b35a69ddfcdb324b": {
      "model_module": "@jupyter-widgets/controls",
      "model_module_version": "1.5.0",
      "model_name": "CheckboxModel",
      "state": {
       "description": "Major depressive disorder, rec, mod",
       "disabled": false,
       "layout": "IPY_MODEL_3ef81f8430e944ec93d8bfec789ad042",
       "style": "IPY_MODEL_4483dc36e7d24c159aa4bd853064f689",
       "value": true
      }
     },
     "00b821c6f19d4f3092fe1e80dbc8bf83": {
      "model_module": "@jupyter-widgets/controls",
      "model_module_version": "1.5.0",
      "model_name": "DescriptionStyleModel",
      "state": {
       "description_width": ""
      }
     },
     "00bbc63a743a45f4a167b1643806536d": {
      "model_module": "@jupyter-widgets/controls",
      "model_module_version": "1.5.0",
      "model_name": "CheckboxModel",
      "state": {
       "description": "ptsd",
       "disabled": false,
       "layout": "IPY_MODEL_a5730333cf644cf8911f136d202a0505",
       "style": "IPY_MODEL_a787e89304df49078164f431f46f6b8f",
       "value": true
      }
     },
     "00bfefba02b640b3b0ff97ddc9f72077": {
      "model_module": "@jupyter-widgets/controls",
      "model_module_version": "1.5.0",
      "model_name": "CheckboxModel",
      "state": {
       "description": "polysubstance",
       "disabled": false,
       "layout": "IPY_MODEL_0a5d7a6c96c744dabe5bddef84e8ca71",
       "style": "IPY_MODEL_6dc285fe4d434722ad501de1b7fbe57a",
       "value": false
      }
     },
     "00ef1ab145b1433aacf5a94381aa0e6c": {
      "model_module": "@jupyter-widgets/controls",
      "model_module_version": "1.5.0",
      "model_name": "DescriptionStyleModel",
      "state": {
       "description_width": "150px"
      }
     },
     "01827815511648d7b862ac5a52466a32": {
      "model_module": "@jupyter-widgets/controls",
      "model_module_version": "1.5.0",
      "model_name": "DropdownModel",
      "state": {
       "_options_labels": [
        "denies",
        "endorses"
       ],
       "description": "withdrawals_choice",
       "index": 0,
       "layout": "IPY_MODEL_ecfa8b2075df48d78b3e743fdae50eff",
       "style": "IPY_MODEL_22a15f0dc7f6444793505222f5a48eb9"
      }
     },
     "01925deb26724f48b61465dc9813adf3": {
      "model_module": "@jupyter-widgets/base",
      "model_module_version": "1.2.0",
      "model_name": "LayoutModel",
      "state": {}
     },
     "01a5df0d7e66431484414b8c139bdb33": {
      "model_module": "@jupyter-widgets/controls",
      "model_module_version": "1.5.0",
      "model_name": "DescriptionStyleModel",
      "state": {
       "description_width": "150px"
      }
     },
     "01f36f67ba474359a0cc054d376ecfed": {
      "model_module": "@jupyter-widgets/controls",
      "model_module_version": "1.5.0",
      "model_name": "DescriptionStyleModel",
      "state": {
       "description_width": "150px"
      }
     },
     "0204ea982ec242fe9f2c9add82ca94d4": {
      "model_module": "@jupyter-widgets/base",
      "model_module_version": "1.2.0",
      "model_name": "LayoutModel",
      "state": {}
     },
     "0303b9919399421ea44324b690cb0f39": {
      "model_module": "@jupyter-widgets/base",
      "model_module_version": "1.2.0",
      "model_name": "LayoutModel",
      "state": {
       "height": "200px"
      }
     },
     "03260beee3994536a8a86c61c9e9df11": {
      "model_module": "@jupyter-widgets/base",
      "model_module_version": "1.2.0",
      "model_name": "LayoutModel",
      "state": {
       "height": "200px"
      }
     },
     "033c2d27bff2420fb70b68f48171787d": {
      "model_module": "@jupyter-widgets/base",
      "model_module_version": "1.2.0",
      "model_name": "LayoutModel",
      "state": {
       "height": "100px",
       "width": "500px"
      }
     },
     "036b8c98430a4ca082e847dbb56ab1be": {
      "model_module": "@jupyter-widgets/base",
      "model_module_version": "1.2.0",
      "model_name": "LayoutModel",
      "state": {}
     },
     "0389fb6ed2b64c8e91d4b84b1b7aad1b": {
      "model_module": "@jupyter-widgets/base",
      "model_module_version": "1.2.0",
      "model_name": "LayoutModel",
      "state": {}
     },
     "03a52d2c27b546e290d3a95258d0e77b": {
      "model_module": "@jupyter-widgets/controls",
      "model_module_version": "1.5.0",
      "model_name": "VBoxModel",
      "state": {
       "_dom_classes": [
        "widget-interact"
       ],
       "children": [
        "IPY_MODEL_cef62f8423d248c98100d9db61c2544b",
        "IPY_MODEL_5ae7dfeb6ccd41d5b6864ff77105b8ad",
        "IPY_MODEL_a282a3b5221e48428f392f98378e8e1d",
        "IPY_MODEL_4c64e89261f944ebb021e1dbe3945aff",
        "IPY_MODEL_1e66be81d3af43ce96ab98d1df15a770",
        "IPY_MODEL_e2d468f116ab48d2a0c873c494faa76d"
       ],
       "layout": "IPY_MODEL_bd5828eea772489ab172aed9f9d19380"
      }
     },
     "03abe722d0d640adb8b8364458ba70a2": {
      "model_module": "@jupyter-widgets/controls",
      "model_module_version": "1.5.0",
      "model_name": "DescriptionStyleModel",
      "state": {
       "description_width": "150px"
      }
     },
     "03dbd25a498446ce97294ab7047354bb": {
      "model_module": "@jupyter-widgets/controls",
      "model_module_version": "1.5.0",
      "model_name": "CheckboxModel",
      "state": {
       "description": "psychosis",
       "disabled": false,
       "layout": "IPY_MODEL_a6cbf9b48f15482ebbb4c99b6a7bbf82",
       "style": "IPY_MODEL_46a6c94c730d485ab8f601df13535900",
       "value": false
      }
     },
     "03eafca421bf417fb047437fa35550cf": {
      "model_module": "@jupyter-widgets/controls",
      "model_module_version": "1.5.0",
      "model_name": "DescriptionStyleModel",
      "state": {
       "description_width": "150px"
      }
     },
     "03f14874316b401e8f572a1fdba1dd45": {
      "model_module": "@jupyter-widgets/base",
      "model_module_version": "1.2.0",
      "model_name": "LayoutModel",
      "state": {}
     },
     "03fac0c6a9094091b498002e046758c6": {
      "model_module": "@jupyter-widgets/controls",
      "model_module_version": "1.5.0",
      "model_name": "DescriptionStyleModel",
      "state": {
       "description_width": "150px"
      }
     },
     "0447bf9f6785468fa48360626933c7bf": {
      "model_module": "@jupyter-widgets/base",
      "model_module_version": "1.2.0",
      "model_name": "LayoutModel",
      "state": {}
     },
     "04913aa4a1f7455788ff68e506fa18b3": {
      "model_module": "@jupyter-widgets/controls",
      "model_module_version": "1.5.0",
      "model_name": "DescriptionStyleModel",
      "state": {
       "description_width": "150px"
      }
     },
     "04ab2a934c7b44db80393b6287502f03": {
      "model_module": "@jupyter-widgets/base",
      "model_module_version": "1.2.0",
      "model_name": "LayoutModel",
      "state": {}
     },
     "04ac5bc57de14ea896ebd6a93378942c": {
      "model_module": "@jupyter-widgets/output",
      "model_module_version": "1.0.0",
      "model_name": "OutputModel",
      "state": {
       "layout": "IPY_MODEL_b5d2aa1373f24e42887f2049ceba9df4",
       "outputs": [
        {
         "name": "stdout",
         "output_type": "stream",
         "text": "\nLabs and Studies:\nNone currently on file.\n\n"
        }
       ]
      }
     },
     "04b07f226da341ac89467cbff83702ad": {
      "model_module": "@jupyter-widgets/base",
      "model_module_version": "1.2.0",
      "model_name": "LayoutModel",
      "state": {}
     },
     "04d39b79b830418190754f36d05ec7c9": {
      "model_module": "@jupyter-widgets/controls",
      "model_module_version": "1.5.0",
      "model_name": "DropdownModel",
      "state": {
       "_options_labels": [
        "denies",
        "endorses"
       ],
       "description": "current_trauma",
       "index": 0,
       "layout": "IPY_MODEL_64f3493d9e7e4cd79d693795fcd61555",
       "style": "IPY_MODEL_7a4005c0c5a642fc9c0ca89defae0aee"
      }
     },
     "04d76cbd6dc64aeb9098e59d1563e01c": {
      "model_module": "@jupyter-widgets/controls",
      "model_module_version": "1.5.0",
      "model_name": "DropdownModel",
      "state": {
       "_options_labels": [
        "denies",
        "endorses"
       ],
       "description": "abuse",
       "index": 1,
       "layout": "IPY_MODEL_57dff8c6f77e4aad88e092f42ad13209",
       "style": "IPY_MODEL_8b6db8829eec41cc815ff069137fe33a"
      }
     },
     "0506b099d14a4ed781197f84c1774f75": {
      "model_module": "@jupyter-widgets/controls",
      "model_module_version": "1.5.0",
      "model_name": "DescriptionStyleModel",
      "state": {
       "description_width": "150px"
      }
     },
     "05186333ee2b497fb642fc864430ae6a": {
      "model_module": "@jupyter-widgets/controls",
      "model_module_version": "1.5.0",
      "model_name": "TextareaModel",
      "state": {
       "description": "Current mood:",
       "layout": "IPY_MODEL_a835c7df6d5c4015ad4d1fa6366a49b0",
       "placeholder": "Type something",
       "style": "IPY_MODEL_a3e4c208a3764feaa68f97f89f64cd15",
       "value": "It’s pretty good."
      }
     },
     "053d06f15e004c538b47d7cc4884cf4d": {
      "model_module": "@jupyter-widgets/controls",
      "model_module_version": "1.5.0",
      "model_name": "DescriptionStyleModel",
      "state": {
       "description_width": ""
      }
     },
     "0555884888954a249d4cd5f52ab07fb7": {
      "model_module": "@jupyter-widgets/controls",
      "model_module_version": "1.5.0",
      "model_name": "DescriptionStyleModel",
      "state": {
       "description_width": "150px"
      }
     },
     "058100ab06274b96811bcc8e45c358a2": {
      "model_module": "@jupyter-widgets/controls",
      "model_module_version": "1.5.0",
      "model_name": "DescriptionStyleModel",
      "state": {
       "description_width": "150px"
      }
     },
     "058648ec48c64653a2a7553511b8ee8d": {
      "model_module": "@jupyter-widgets/base",
      "model_module_version": "1.2.0",
      "model_name": "LayoutModel",
      "state": {}
     },
     "058e95d7857a4daab9eea984d90419e2": {
      "model_module": "@jupyter-widgets/controls",
      "model_module_version": "1.5.0",
      "model_name": "BoundedIntTextModel",
      "state": {
       "description": "num_times_in_treatment",
       "layout": "IPY_MODEL_fa9ec4f225bc40b29e03b63fcbcbd3db",
       "style": "IPY_MODEL_84cabc7e0ccf4f4381aecd8bb50f3547",
       "value": 3
      }
     },
     "059f9dacda6549de9e28823d7c4fb344": {
      "model_module": "@jupyter-widgets/base",
      "model_module_version": "1.2.0",
      "model_name": "LayoutModel",
      "state": {}
     },
     "05c9b23e91a141a8b3fd372addc394cc": {
      "model_module": "@jupyter-widgets/controls",
      "model_module_version": "1.5.0",
      "model_name": "DescriptionStyleModel",
      "state": {
       "description_width": ""
      }
     },
     "0608d185d6a9484d8605f49ec6578987": {
      "model_module": "@jupyter-widgets/controls",
      "model_module_version": "1.5.0",
      "model_name": "DescriptionStyleModel",
      "state": {
       "description_width": ""
      }
     },
     "0614ac8a2743432b895534873eb77433": {
      "model_module": "@jupyter-widgets/controls",
      "model_module_version": "1.5.0",
      "model_name": "CheckboxModel",
      "state": {
       "description": "depression",
       "disabled": false,
       "layout": "IPY_MODEL_7f6870c48355493e82992fde2236c909",
       "style": "IPY_MODEL_bdf782d6174a4a25a7b3080144a4d8aa",
       "value": true
      }
     },
     "061a785d40d04746a8feb7146bd21e5b": {
      "model_module": "@jupyter-widgets/controls",
      "model_module_version": "1.5.0",
      "model_name": "ComboboxModel",
      "state": {
       "description": "med_statement",
       "ensure_option": false,
       "layout": "IPY_MODEL_64f3493d9e7e4cd79d693795fcd61555",
       "options": [
        "Patient declines psychotropic medication and elects for more conservative approaches to psychiatric symptom management at this time."
       ],
       "style": "IPY_MODEL_61316d4bd7e74887b40ffc5da9828156"
      }
     },
     "062f2513266f4e7aacb626e2283721b1": {
      "model_module": "@jupyter-widgets/controls",
      "model_module_version": "1.5.0",
      "model_name": "VBoxModel",
      "state": {
       "children": [
        "IPY_MODEL_c233f7689b8749989fa0b1f1001eb95d",
        "IPY_MODEL_c3a562a0bf1240cda387ff8a0d549817"
       ],
       "layout": "IPY_MODEL_bb354c1f300d4d7e995f87b53f0a42ce"
      }
     },
     "063e601f79424ae2be7176a205fc5b05": {
      "model_module": "@jupyter-widgets/output",
      "model_module_version": "1.0.0",
      "model_name": "OutputModel",
      "state": {
       "layout": "IPY_MODEL_ad5a9dad1be64fbdb8fb94ecf30e959e",
       "outputs": [
        {
         "name": "stdout",
         "output_type": "stream",
         "text": "\nThis patient denies current depressed mood. \nOver the past several weeks, the patient denies sustained sadness, denies excessive guilt. \nThe patient denies anhedonia.\nThe patient reports fair ability to concentrate. \nThe patient denies issues with sleep. \nThe patient reports fair appetite.\nReports fair energy level. \nThe patient denies hopelessness, worthlessness, SI/HI/AH/VH/delusions.\nThey indicate they have experienced depressive episodes lasting longer than two weeks in the absence of substance use.\nThe patient denies current decreased need for sleep, euphoria \nor grandiosity or irritability, flights of idea, impulsivity, uncharacteristic talkativeness or rapid speech.\n“I’ve been consistent” “It’s taken me 3 years to find a stable regimen”\n\n"
        }
       ]
      }
     },
     "06771c2c12d74e448e1dc08c6042a725": {
      "model_module": "@jupyter-widgets/base",
      "model_module_version": "1.2.0",
      "model_name": "LayoutModel",
      "state": {}
     },
     "06b579ee942a4b18aa8c0ceef30e70de": {
      "model_module": "@jupyter-widgets/controls",
      "model_module_version": "1.5.0",
      "model_name": "VBoxModel",
      "state": {
       "_dom_classes": [
        "widget-interact"
       ],
       "children": [
        "IPY_MODEL_12f7163365b2414faaa664428f3c1837",
        "IPY_MODEL_33590582c6404f3d9f6e06d3dcb55175",
        "IPY_MODEL_d47bc73869ed49ffa8314e372d452122",
        "IPY_MODEL_49be373c44974073b46c23a881d2a85a",
        "IPY_MODEL_58f8d9e7038c4c1daa449ba6d84d03b1",
        "IPY_MODEL_c60e8442f8f641929d087026110f90d5"
       ],
       "layout": "IPY_MODEL_0aae09ff2b9d40c7babb4977cd0fc410"
      }
     },
     "06d385ea86aa462aa4b3e49ecf0b957b": {
      "model_module": "@jupyter-widgets/controls",
      "model_module_version": "1.5.0",
      "model_name": "DescriptionStyleModel",
      "state": {
       "description_width": "150px"
      }
     },
     "070db2fbe1be48a19292b729a4d6fa53": {
      "model_module": "@jupyter-widgets/output",
      "model_module_version": "1.0.0",
      "model_name": "OutputModel",
      "state": {
       "layout": "IPY_MODEL_0c103029fc4343b684c291d4fe657989",
       "outputs": [
        {
         "name": "stdout",
         "output_type": "stream",
         "text": "\nHistory of Present Illness:\nThe patient states that they decided to come to treatment because \"can't concentrate unless i do coke.\". \nPatient reports they have been sober for 4 days.\nThe patient denies withdrawals. The patient denies cravings.\nThe patient declines anti-craving medication.\nThe patient reports their substance use impacted their life negatively \"lost my job\".\nsammy\n\n"
        }
       ]
      }
     },
     "071c8d1d8815495692f98533c7cd541c": {
      "model_module": "@jupyter-widgets/base",
      "model_module_version": "1.2.0",
      "model_name": "LayoutModel",
      "state": {}
     },
     "075b3bef12934e6f85597321aebf3623": {
      "model_module": "@jupyter-widgets/controls",
      "model_module_version": "1.5.0",
      "model_name": "VBoxModel",
      "state": {
       "_dom_classes": [
        "widget-interact"
       ],
       "children": [
        "IPY_MODEL_2b8c9a01d92046d8877d3612702fd7b9",
        "IPY_MODEL_3cba3d4b2d1e4e8691c12cba2c5f48c4",
        "IPY_MODEL_d26fea02ed534c2493a5831919fd58b8",
        "IPY_MODEL_142148f0a00e4d928d5cc9ecb8a262b1",
        "IPY_MODEL_04d76cbd6dc64aeb9098e59d1563e01c",
        "IPY_MODEL_9f2813eb41674da990eb9ac6f36b2078",
        "IPY_MODEL_a3cbce6823344155a4ab29ec0db1c662"
       ],
       "layout": "IPY_MODEL_b868588d00a74795bc21fdb39635634b"
      }
     },
     "07c13933ee044837921347a28a90c997": {
      "model_module": "@jupyter-widgets/controls",
      "model_module_version": "1.5.0",
      "model_name": "CheckboxModel",
      "state": {
       "description": "Unspecified Depressive Disorder",
       "disabled": false,
       "layout": "IPY_MODEL_425887573514417e9737e24f208c6f58",
       "style": "IPY_MODEL_4ed632bf065e42058429f79a8861ed55",
       "value": true
      }
     },
     "07f85fb54e77425b8fb3bb682767e9d7": {
      "model_module": "@jupyter-widgets/controls",
      "model_module_version": "1.5.0",
      "model_name": "DescriptionStyleModel",
      "state": {
       "description_width": ""
      }
     },
     "080aaef9714e49b88ad8833f1723c1db": {
      "model_module": "@jupyter-widgets/controls",
      "model_module_version": "1.5.0",
      "model_name": "CheckboxModel",
      "state": {
       "description": "heroin",
       "disabled": false,
       "layout": "IPY_MODEL_7c24a40d904b480e91e1c047076ee21f",
       "style": "IPY_MODEL_1e48fc19ddba41d68c02ef0ec05048c0",
       "value": true
      }
     },
     "0822cfac79ce4899b4373b2b953b00a0": {
      "model_module": "@jupyter-widgets/controls",
      "model_module_version": "1.5.0",
      "model_name": "TextareaModel",
      "state": {
       "description": "family",
       "layout": "IPY_MODEL_64f3493d9e7e4cd79d693795fcd61555",
       "style": "IPY_MODEL_55ad8eef01c94e519afca2e7bed8f8b4",
       "value": "Denies family history of mental illness"
      }
     },
     "085186f27ccf4942956f88a4b4bf49fc": {
      "model_module": "@jupyter-widgets/output",
      "model_module_version": "1.0.0",
      "model_name": "OutputModel",
      "state": {
       "layout": "IPY_MODEL_d1716a90636948bd9aebdbdf4dd46504",
       "outputs": [
        {
         "name": "stdout",
         "output_type": "stream",
         "text": "\nLabs and Studies:\nNone currently on file.\n\n"
        }
       ]
      }
     },
     "088bd8771b6349d8bd04727bfd4f2ce1": {
      "model_module": "@jupyter-widgets/controls",
      "model_module_version": "1.5.0",
      "model_name": "TextareaModel",
      "state": {
       "description": "med plan:",
       "layout": "IPY_MODEL_c51592b9e5b9444db42e6986521d03be",
       "placeholder": "Type something",
       "style": "IPY_MODEL_5c9ce64bdd404f98a7426045ead9f022",
       "value": "4. Start Naltrexone 50mg qd prn cravings."
      }
     },
     "08f557020f6549a89d8aafb4cd5c4cfb": {
      "model_module": "@jupyter-widgets/output",
      "model_module_version": "1.0.0",
      "model_name": "OutputModel",
      "state": {
       "layout": "IPY_MODEL_b28ddf1bc75c4d4a86d34e4e580e73ab",
       "outputs": [
        {
         "name": "stdout",
         "output_type": "stream",
         "text": "\nThe patient reported no history of mania.\nThe patient reported no history of psychosis. \nThe patient reported no history of  learning disabilities, OCD or tics. \nThe patient reported no history of an eating disorder. \nThe patient reported no history of compulsive gambling, problematic internet/video game use, compulsive shopping, or sexual addiction. \n\n\n"
        }
       ]
      }
     },
     "0927b4acb7c84d3c810232503a3fe137": {
      "model_module": "@jupyter-widgets/controls",
      "model_module_version": "1.5.0",
      "model_name": "DropdownModel",
      "state": {
       "_options_labels": [
        "declines",
        "elects to start",
        "would like to continue with"
       ],
       "description": "anti_cravings_choice",
       "index": 1,
       "layout": "IPY_MODEL_fa9ec4f225bc40b29e03b63fcbcbd3db",
       "style": "IPY_MODEL_42364879c6bb4215899318497f7484f5"
      }
     },
     "096b0e32fbc445fd9d074aef450e2899": {
      "model_module": "@jupyter-widgets/base",
      "model_module_version": "1.2.0",
      "model_name": "LayoutModel",
      "state": {}
     },
     "09716543460e450380eb6417a3a64ac7": {
      "model_module": "@jupyter-widgets/controls",
      "model_module_version": "1.5.0",
      "model_name": "DescriptionStyleModel",
      "state": {
       "description_width": "150px"
      }
     },
     "097d1db0f9984a45aafd59ee561d243d": {
      "model_module": "@jupyter-widgets/controls",
      "model_module_version": "1.5.0",
      "model_name": "VBoxModel",
      "state": {
       "_dom_classes": [
        "widget-interact"
       ],
       "children": [
        "IPY_MODEL_3cab6fa270ac477d8a3a655d2b3599d5",
        "IPY_MODEL_de859d20d7bb43cb840ebd52b0803daa",
        "IPY_MODEL_875d6f5bbf5c4002a0527755d9143ccc",
        "IPY_MODEL_cd5e7a7ea20a4be580ca6df57a70b249",
        "IPY_MODEL_85e8600011dc406383fc1fae94131e99",
        "IPY_MODEL_bd5b4fec0f3e40229034148e6d28637f",
        "IPY_MODEL_65d39c1555d14c31b86a1487fda19528"
       ],
       "layout": "IPY_MODEL_e8c9623d2d3c451b9025d6aa465fb8da"
      }
     },
     "09a916e9d5b54631aa04c6535e92594c": {
      "model_module": "@jupyter-widgets/controls",
      "model_module_version": "1.5.0",
      "model_name": "BoundedIntTextModel",
      "state": {
       "description": "Sober Time:",
       "layout": "IPY_MODEL_ecfa8b2075df48d78b3e743fdae50eff",
       "max": 200,
       "style": "IPY_MODEL_9baef90926f9468095b99c9a59e9e9a6",
       "value": 4
      }
     },
     "09c1abb807854a3cbe17b70c2ae351e6": {
      "model_module": "@jupyter-widgets/base",
      "model_module_version": "1.2.0",
      "model_name": "LayoutModel",
      "state": {}
     },
     "09cd0265208a4aa9821d19d19f823c28": {
      "model_module": "@jupyter-widgets/controls",
      "model_module_version": "1.5.0",
      "model_name": "BoundedIntTextModel",
      "state": {
       "description": "longest_sober_time",
       "layout": "IPY_MODEL_64f3493d9e7e4cd79d693795fcd61555",
       "style": "IPY_MODEL_8f370542fa5047a09401c6f978e488fb"
      }
     },
     "09cf38d719e24999bec1c481a9468390": {
      "model_module": "@jupyter-widgets/controls",
      "model_module_version": "1.5.0",
      "model_name": "TextareaModel",
      "state": {
       "description": "notes",
       "layout": "IPY_MODEL_fa9ec4f225bc40b29e03b63fcbcbd3db",
       "style": "IPY_MODEL_25302ccb5ed54285805a971ea35abd2f"
      }
     },
     "09f38bc6e8b4472ab0b16758bfbb449a": {
      "model_module": "@jupyter-widgets/controls",
      "model_module_version": "1.5.0",
      "model_name": "DescriptionStyleModel",
      "state": {
       "description_width": "150px"
      }
     },
     "0a351c4733a347a29137a7d9879ddfb4": {
      "model_module": "@jupyter-widgets/controls",
      "model_module_version": "1.5.0",
      "model_name": "HBoxModel",
      "state": {
       "children": [
        "IPY_MODEL_1fa7ec4340d24995985ca07252978d3b"
       ],
       "layout": "IPY_MODEL_857129641a2e4c479f599c8b91192459"
      }
     },
     "0a50a75a617142dd9fed84eed33cef79": {
      "model_module": "@jupyter-widgets/controls",
      "model_module_version": "1.5.0",
      "model_name": "DescriptionStyleModel",
      "state": {
       "description_width": ""
      }
     },
     "0a5d7a6c96c744dabe5bddef84e8ca71": {
      "model_module": "@jupyter-widgets/base",
      "model_module_version": "1.2.0",
      "model_name": "LayoutModel",
      "state": {}
     },
     "0a6a84cfdf2e499e93659bf2c9bac086": {
      "model_module": "@jupyter-widgets/base",
      "model_module_version": "1.2.0",
      "model_name": "LayoutModel",
      "state": {}
     },
     "0a70319a361a4e54833c5a5835e154d7": {
      "model_module": "@jupyter-widgets/base",
      "model_module_version": "1.2.0",
      "model_name": "LayoutModel",
      "state": {}
     },
     "0a70b2aaba18444cbbd1f234dd90744c": {
      "model_module": "@jupyter-widgets/controls",
      "model_module_version": "1.5.0",
      "model_name": "ComboboxModel",
      "state": {
       "description": "med_statement",
       "ensure_option": false,
       "layout": "IPY_MODEL_57dff8c6f77e4aad88e092f42ad13209",
       "options": [
        "Patient declines psychotropic medication and elects for more conservative approaches to psychiatric symptom management at this time."
       ],
       "style": "IPY_MODEL_a8c3389af62a47adb0f19e613d8fbcf5"
      }
     },
     "0a7727981c1a449780ac3bccc1fcb9f6": {
      "model_module": "@jupyter-widgets/controls",
      "model_module_version": "1.5.0",
      "model_name": "DropdownModel",
      "state": {
       "_options_labels": [
        "deny",
        "indicate"
       ],
       "description": "past_depression",
       "index": 1,
       "layout": "IPY_MODEL_64f3493d9e7e4cd79d693795fcd61555",
       "style": "IPY_MODEL_483be285974b4405a24a7274ebbd7204"
      }
     },
     "0aae09ff2b9d40c7babb4977cd0fc410": {
      "model_module": "@jupyter-widgets/base",
      "model_module_version": "1.2.0",
      "model_name": "LayoutModel",
      "state": {}
     },
     "0ab3fabf49fb4201b23ff497d4843762": {
      "model_module": "@jupyter-widgets/controls",
      "model_module_version": "1.5.0",
      "model_name": "DropdownModel",
      "state": {
       "_options_labels": [
        "Silicon Beach",
        "Momentum",
        "Create Recovery Center",
        "Casablanca"
       ],
       "description": "treatment_center:",
       "index": 3,
       "layout": "IPY_MODEL_693172d518194fb3b08219b08b79a30b",
       "style": "IPY_MODEL_61d130a2372b411f9240c230085f44a5"
      }
     },
     "0ac44f1876e24180bf3c5ad13b4974b3": {
      "model_module": "@jupyter-widgets/controls",
      "model_module_version": "1.5.0",
      "model_name": "DescriptionStyleModel",
      "state": {
       "description_width": "150px"
      }
     },
     "0af57c0529c5489da2c653ba2a48f3c1": {
      "model_module": "@jupyter-widgets/controls",
      "model_module_version": "1.5.0",
      "model_name": "DescriptionStyleModel",
      "state": {
       "description_width": ""
      }
     },
     "0af9ae98b2464f51a179258ca41c9ecb": {
      "model_module": "@jupyter-widgets/controls",
      "model_module_version": "1.5.0",
      "model_name": "DropdownModel",
      "state": {
       "_options_labels": [
        "denies",
        "endorses"
       ],
       "description": "hiv_medical",
       "index": 0,
       "layout": "IPY_MODEL_57dff8c6f77e4aad88e092f42ad13209",
       "style": "IPY_MODEL_b0afc77961f746118699935f49589a8b"
      }
     },
     "0b1c47d444af40c9b7594a198d5c2c12": {
      "model_module": "@jupyter-widgets/controls",
      "model_module_version": "1.5.0",
      "model_name": "VBoxModel",
      "state": {
       "_dom_classes": [
        "widget-interact"
       ],
       "children": [
        "IPY_MODEL_5d2dbff77e824ccf95c16d735b224b2c",
        "IPY_MODEL_10e956f5989f416f8ff58d044c7fdcde",
        "IPY_MODEL_3b739d77caa24c238b7e88f290ac6571",
        "IPY_MODEL_d0653bde6c3040b7a5a9e7deef4bffc4",
        "IPY_MODEL_49aaa17a675e4a1196c1c69bd7ad2f3b",
        "IPY_MODEL_f7998805aa5f41fc93f2cba76c43946b",
        "IPY_MODEL_a3d0fb472a104520a2baeb167f364aea",
        "IPY_MODEL_229cf1d297d3445fb5ef0761e4e01524",
        "IPY_MODEL_7c9c2d9726be4a62b557262e1e1565e1",
        "IPY_MODEL_332c43e1b6f34d40991986fa4c6c2007",
        "IPY_MODEL_8fd133e320914ebfb118963304e529c7",
        "IPY_MODEL_de4232dc546a4de48eef1196ff982fe2",
        "IPY_MODEL_b482388b39874883875c0a506a0112dc"
       ],
       "layout": "IPY_MODEL_7c25af1d5d164fcaabe7c4ac377d0b4e"
      }
     },
     "0b49d405ff4243feb791e538699f23d7": {
      "model_module": "@jupyter-widgets/controls",
      "model_module_version": "1.5.0",
      "model_name": "DescriptionStyleModel",
      "state": {
       "description_width": "150px"
      }
     },
     "0b4addd7c3314bec9148d8302815c01c": {
      "model_module": "@jupyter-widgets/controls",
      "model_module_version": "1.5.0",
      "model_name": "HBoxModel",
      "state": {
       "children": [
        "IPY_MODEL_328b5bf8162d43b9823d7cbad8f85324",
        "IPY_MODEL_e038657a54b44f86b85052b8b109ba2b"
       ],
       "layout": "IPY_MODEL_686a5c81f79044daa33a825bc2b712be"
      }
     },
     "0b98b175ce504db78f887f00d571966c": {
      "model_module": "@jupyter-widgets/controls",
      "model_module_version": "1.5.0",
      "model_name": "DescriptionStyleModel",
      "state": {
       "description_width": "150px"
      }
     },
     "0bbd7bd11dc34096a8a49f34be65b0ef": {
      "model_module": "@jupyter-widgets/base",
      "model_module_version": "1.2.0",
      "model_name": "LayoutModel",
      "state": {}
     },
     "0bc49afe76e84d4e9d11e2a788ccbd92": {
      "model_module": "@jupyter-widgets/base",
      "model_module_version": "1.2.0",
      "model_name": "LayoutModel",
      "state": {}
     },
     "0bec9cf4fbce4314939d2318702c3457": {
      "model_module": "@jupyter-widgets/controls",
      "model_module_version": "1.5.0",
      "model_name": "DescriptionStyleModel",
      "state": {
       "description_width": ""
      }
     },
     "0c103029fc4343b684c291d4fe657989": {
      "model_module": "@jupyter-widgets/base",
      "model_module_version": "1.2.0",
      "model_name": "LayoutModel",
      "state": {}
     },
     "0c154430b9174eabb46820aadc6a86da": {
      "model_module": "@jupyter-widgets/base",
      "model_module_version": "1.2.0",
      "model_name": "LayoutModel",
      "state": {}
     },
     "0c64c7ad19bc4c699cee8b5150f5e10b": {
      "model_module": "@jupyter-widgets/controls",
      "model_module_version": "1.5.0",
      "model_name": "HBoxModel",
      "state": {
       "children": [
        "IPY_MODEL_f751e374dffb4909b800f83f4a17e6a7"
       ],
       "layout": "IPY_MODEL_77307d3ef9c549d3993adb59e53952c1"
      }
     },
     "0c747019062441849de2b0969f61ea1d": {
      "model_module": "@jupyter-widgets/base",
      "model_module_version": "1.2.0",
      "model_name": "LayoutModel",
      "state": {}
     },
     "0cf5f508fbd64ec2b3602503a2e0d94f": {
      "model_module": "@jupyter-widgets/controls",
      "model_module_version": "1.5.0",
      "model_name": "DescriptionStyleModel",
      "state": {
       "description_width": "150px"
      }
     },
     "0cfc82a4f50542c38e3f5d5880b7ce96": {
      "model_module": "@jupyter-widgets/controls",
      "model_module_version": "1.5.0",
      "model_name": "TextareaModel",
      "state": {
       "description": "notes",
       "layout": "IPY_MODEL_64f3493d9e7e4cd79d693795fcd61555",
       "style": "IPY_MODEL_1604afab256a42048270e59db4e4c7d1"
      }
     },
     "0d08ae283d4743b295f73b8e909a3fe3": {
      "model_module": "@jupyter-widgets/controls",
      "model_module_version": "1.5.0",
      "model_name": "DropdownModel",
      "state": {
       "_options_labels": [
        "denies",
        "endorses"
       ],
       "description": "anxiety",
       "index": 1,
       "layout": "IPY_MODEL_f3ab830ad14c40bcb60503d19e5f9870",
       "style": "IPY_MODEL_d3595011862a43bb8855663bc209c5c2"
      }
     },
     "0d50b9b2e2fc487c8513c2225a648e2b": {
      "model_module": "@jupyter-widgets/controls",
      "model_module_version": "1.5.0",
      "model_name": "DropdownModel",
      "state": {
       "_options_labels": [
        "denies",
        "endorses"
       ],
       "description": "cravings_choice",
       "index": 0,
       "layout": "IPY_MODEL_57dff8c6f77e4aad88e092f42ad13209",
       "style": "IPY_MODEL_5cac272bd52d4f89a7f85e0e223abe8b"
      }
     },
     "0d914f90d8854ab2b43693d80ce07756": {
      "model_module": "@jupyter-widgets/base",
      "model_module_version": "1.2.0",
      "model_name": "LayoutModel",
      "state": {
       "height": "100px",
       "width": "500px"
      }
     },
     "0da432bdfced496abd3afe84c7037d0e": {
      "model_module": "@jupyter-widgets/controls",
      "model_module_version": "1.5.0",
      "model_name": "CheckboxModel",
      "state": {
       "description": "no drug",
       "disabled": false,
       "layout": "IPY_MODEL_315a0b3c114c451ca5a57eab81e66735",
       "style": "IPY_MODEL_c97ae6067ae64221a6f6cf14e54b8652",
       "value": false
      }
     },
     "0dc67f48be53491db4f5ba8fa0b257a4": {
      "model_module": "@jupyter-widgets/controls",
      "model_module_version": "1.5.0",
      "model_name": "DescriptionStyleModel",
      "state": {
       "description_width": ""
      }
     },
     "0dd592734c4f4662b5a7f49570a23611": {
      "model_module": "@jupyter-widgets/controls",
      "model_module_version": "1.5.0",
      "model_name": "VBoxModel",
      "state": {
       "_dom_classes": [
        "widget-interact"
       ],
       "children": [
        "IPY_MODEL_4d48858ba7a54b4a9fdeab68255462b3",
        "IPY_MODEL_af6279a31a7a4abfb89d6e97f7bddec7",
        "IPY_MODEL_877e592486014d36823dcd30b2fe5cb0",
        "IPY_MODEL_879f9426eed0456fb92feab92f4ef4e5",
        "IPY_MODEL_ab24e45ded7943aaaab7af554b409664",
        "IPY_MODEL_f0a10fa34af7421d8dfe72f18dc6ea49",
        "IPY_MODEL_4be6ad4134074038ba7d6d8e96173f5e"
       ],
       "layout": "IPY_MODEL_49d698b1ad364e0786cdf6665291d296"
      }
     },
     "0dd65fc948ee4795a32501f4f3805fd0": {
      "model_module": "@jupyter-widgets/base",
      "model_module_version": "1.2.0",
      "model_name": "LayoutModel",
      "state": {}
     },
     "0de43ab9c1e14923b80a8928ac67e717": {
      "model_module": "@jupyter-widgets/base",
      "model_module_version": "1.2.0",
      "model_name": "LayoutModel",
      "state": {}
     },
     "0e22a5d4d01d484eb62769e0307da712": {
      "model_module": "@jupyter-widgets/controls",
      "model_module_version": "1.5.0",
      "model_name": "DescriptionStyleModel",
      "state": {
       "description_width": ""
      }
     },
     "0e45adfdbb2f421390f4b432b47cf857": {
      "model_module": "@jupyter-widgets/controls",
      "model_module_version": "1.5.0",
      "model_name": "DropdownModel",
      "state": {
       "_options_labels": [
        "denies",
        "endorses"
       ],
       "description": "acute_medical",
       "index": 0,
       "layout": "IPY_MODEL_57dff8c6f77e4aad88e092f42ad13209",
       "style": "IPY_MODEL_16662e876e9a4cff9129a79eb243a99b"
      }
     },
     "0e49c864cf9f4eba9ae9d905180a1bd6": {
      "model_module": "@jupyter-widgets/base",
      "model_module_version": "1.2.0",
      "model_name": "LayoutModel",
      "state": {}
     },
     "0e7a05e512e94630bda7dfe4a533a190": {
      "model_module": "@jupyter-widgets/controls",
      "model_module_version": "1.5.0",
      "model_name": "VBoxModel",
      "state": {
       "children": [
        "IPY_MODEL_a0c9b350fb14486f8fcf20042dea8c4f",
        "IPY_MODEL_9ab53ae6d2924c9d8304cc09ba1ae7e5",
        "IPY_MODEL_ca92a3e9f09d45cf8f36915599f7f55c",
        "IPY_MODEL_6d79770a8a774c58b8cf9041bf415c74",
        "IPY_MODEL_c425605db25145429abdce5572a4ce1e",
        "IPY_MODEL_bbdf595609b9441aa56161fd4aa98854",
        "IPY_MODEL_33255eb90675459f86081d5edf14513b",
        "IPY_MODEL_210b7f23753f427d97b2f2b6f9f7d0b3",
        "IPY_MODEL_536a47d67164446c9824c584a2c78224",
        "IPY_MODEL_5f43115923aa480fb31b21c073e8bd30"
       ],
       "layout": "IPY_MODEL_245fcec3ef8041fa9f0376517d290497"
      }
     },
     "0e8ee6e831e04ca8bfcf4ba61c76732c": {
      "model_module": "@jupyter-widgets/base",
      "model_module_version": "1.2.0",
      "model_name": "LayoutModel",
      "state": {}
     },
     "0e94a8daa757453da84f7fcbb53fee47": {
      "model_module": "@jupyter-widgets/controls",
      "model_module_version": "1.5.0",
      "model_name": "TextareaModel",
      "state": {
       "description": "pcp plan:",
       "layout": "IPY_MODEL_103ec991084c44f19851e611ebc8368d",
       "placeholder": "Type something",
       "style": "IPY_MODEL_8cb2508c9c934e02ba31eff00a8a3070",
       "value": "3. Medical and Lab: Per PCP. Patient encouraged to establish care with local PCP for routine physical and baseline labs."
      }
     },
     "0eb1a258980041cbaa3bbe647ad915e5": {
      "model_module": "@jupyter-widgets/base",
      "model_module_version": "1.2.0",
      "model_name": "LayoutModel",
      "state": {}
     },
     "0ed5163ff4594508a025fe5a8727ac49": {
      "model_module": "@jupyter-widgets/controls",
      "model_module_version": "1.5.0",
      "model_name": "DescriptionStyleModel",
      "state": {
       "description_width": ""
      }
     },
     "0eedbaf90f76482eb162186f8f7cc7f3": {
      "model_module": "@jupyter-widgets/controls",
      "model_module_version": "1.5.0",
      "model_name": "DropdownModel",
      "state": {
       "_options_labels": [
        "declines",
        "elects to start",
        "would like to continue with"
       ],
       "description": "anti_cravings_choice",
       "index": 0,
       "layout": "IPY_MODEL_57dff8c6f77e4aad88e092f42ad13209",
       "style": "IPY_MODEL_649fd8fe6a7c45d78f1412df1a0862bd"
      }
     },
     "0ef1435919ae498fa9ada0f125f44fc5": {
      "model_module": "@jupyter-widgets/controls",
      "model_module_version": "1.5.0",
      "model_name": "DescriptionStyleModel",
      "state": {
       "description_width": ""
      }
     },
     "0f6e43b689d34d5a8a826c9362588cfb": {
      "model_module": "@jupyter-widgets/controls",
      "model_module_version": "1.5.0",
      "model_name": "VBoxModel",
      "state": {
       "children": [
        "IPY_MODEL_509675e366b34582954c9123c7b0e69f",
        "IPY_MODEL_e2fbb1c349384d1895b7d9fe283e101a",
        "IPY_MODEL_2faef7e67733472b91f9a3e737edb892",
        "IPY_MODEL_78f85ac80ee940438ce3d79b37a3bb70",
        "IPY_MODEL_f21888dd29494af9801a28d0e082b761",
        "IPY_MODEL_f3f0dc8d191d4191bbfeb98c2eadeda7",
        "IPY_MODEL_e36e5a9f97a84c039c79ecaa852ce0a6",
        "IPY_MODEL_72f577ec6b4f4bc294d9e155ff889a43",
        "IPY_MODEL_85f4becd738b4092a006a72a15739897",
        "IPY_MODEL_42b57af95f434094b8d702d4cba699d7",
        "IPY_MODEL_84272efa75714aae96fd5be33911ac71",
        "IPY_MODEL_62490597aad5488082b4ab49df9cedae",
        "IPY_MODEL_61084f2eabb146dc81a6847e5f82e59d",
        "IPY_MODEL_0da432bdfced496abd3afe84c7037d0e"
       ],
       "layout": "IPY_MODEL_80263663219d447aa92001eeb302569f"
      }
     },
     "102785ffbfd14b4783b56ebc9f9ea190": {
      "model_module": "@jupyter-widgets/base",
      "model_module_version": "1.2.0",
      "model_name": "LayoutModel",
      "state": {}
     },
     "1031d422789442bda489377a1349ca37": {
      "model_module": "@jupyter-widgets/controls",
      "model_module_version": "1.5.0",
      "model_name": "CheckboxModel",
      "state": {
       "description": "Unspecified Anxiety Disorder",
       "disabled": false,
       "layout": "IPY_MODEL_058648ec48c64653a2a7553511b8ee8d",
       "style": "IPY_MODEL_5c7013d7b3f8496fa19b4c31c2710d90",
       "value": false
      }
     },
     "103ec991084c44f19851e611ebc8368d": {
      "model_module": "@jupyter-widgets/base",
      "model_module_version": "1.2.0",
      "model_name": "LayoutModel",
      "state": {
       "height": "100px",
       "width": "500px"
      }
     },
     "1061aab1875740bc8f6ba1427cd4942c": {
      "model_module": "@jupyter-widgets/controls",
      "model_module_version": "1.5.0",
      "model_name": "CheckboxModel",
      "state": {
       "description": "Cocaine use disorder Severe",
       "disabled": false,
       "layout": "IPY_MODEL_ac4f6238a868446d904b6c5de8b69f14",
       "style": "IPY_MODEL_294c8d7b67fe41448235396aa320a61a",
       "value": false
      }
     },
     "106e58fae8574d48af8da8736d8c5bc4": {
      "model_module": "@jupyter-widgets/controls",
      "model_module_version": "1.5.0",
      "model_name": "CheckboxModel",
      "state": {
       "description": "ADHD",
       "disabled": false,
       "layout": "IPY_MODEL_3a03ae68f5d24b658af16be8533ec9b2",
       "style": "IPY_MODEL_bb6398cd32d6418ca4e4e75d5e5b568e",
       "value": false
      }
     },
     "109ad0febc7745a5a2df1772fc60e28d": {
      "model_module": "@jupyter-widgets/controls",
      "model_module_version": "1.5.0",
      "model_name": "CheckboxModel",
      "state": {
       "description": "Generalized anxiety disorder",
       "disabled": false,
       "layout": "IPY_MODEL_c6f16778fb074b8e82c44eaf9af18d37",
       "style": "IPY_MODEL_f73f55ec10b44438a6c4756f30d043e2",
       "value": true
      }
     },
     "10ad98c2830d4a869b77583484e25a1d": {
      "model_module": "@jupyter-widgets/base",
      "model_module_version": "1.2.0",
      "model_name": "LayoutModel",
      "state": {}
     },
     "10d1d153ad06465680867bcb70778416": {
      "model_module": "@jupyter-widgets/base",
      "model_module_version": "1.2.0",
      "model_name": "LayoutModel",
      "state": {}
     },
     "10d2023e327d41689f40465d506514e2": {
      "model_module": "@jupyter-widgets/base",
      "model_module_version": "1.2.0",
      "model_name": "LayoutModel",
      "state": {}
     },
     "10e956f5989f416f8ff58d044c7fdcde": {
      "model_module": "@jupyter-widgets/controls",
      "model_module_version": "1.5.0",
      "model_name": "DropdownModel",
      "state": {
       "_options_labels": [
        "denies",
        "endorses"
       ],
       "description": "sustained_sadness",
       "index": 0,
       "layout": "IPY_MODEL_f3ab830ad14c40bcb60503d19e5f9870",
       "style": "IPY_MODEL_3a366f5f03eb46d1b85da2d8b152c60a"
      }
     },
     "11014a21ce964b99956d33ca54efaa31": {
      "model_module": "@jupyter-widgets/controls",
      "model_module_version": "1.5.0",
      "model_name": "DescriptionStyleModel",
      "state": {
       "description_width": ""
      }
     },
     "112875dd6e424c23982aa2f554bfb7d6": {
      "model_module": "@jupyter-widgets/base",
      "model_module_version": "1.2.0",
      "model_name": "LayoutModel",
      "state": {}
     },
     "112c01ddb6244108ba10f34910ec5202": {
      "model_module": "@jupyter-widgets/controls",
      "model_module_version": "1.5.0",
      "model_name": "VBoxModel",
      "state": {
       "children": [
        "IPY_MODEL_eccfea1c49d542d488daeacc5b8f64f4",
        "IPY_MODEL_911fabdfdf74411ea51f29c4616d030a",
        "IPY_MODEL_109ad0febc7745a5a2df1772fc60e28d",
        "IPY_MODEL_64a1b28275e341f8868e60d5c1daa674"
       ],
       "layout": "IPY_MODEL_b3a067ffde314cbbbaf42204f68cb653"
      }
     },
     "11320eee52854a7ea5a6a5e9f0bf72ad": {
      "model_module": "@jupyter-widgets/base",
      "model_module_version": "1.2.0",
      "model_name": "LayoutModel",
      "state": {}
     },
     "11529dd9b6fd4e4f94721fa0789c1ebd": {
      "model_module": "@jupyter-widgets/controls",
      "model_module_version": "1.5.0",
      "model_name": "CheckboxModel",
      "state": {
       "description": "cannabis",
       "disabled": false,
       "layout": "IPY_MODEL_b387b89c81244ef68b67e3b09df93629",
       "style": "IPY_MODEL_6099c331958e463ea759ea55b8f2d33c",
       "value": false
      }
     },
     "116f0f202bb44e40b87a72052748660d": {
      "model_module": "@jupyter-widgets/controls",
      "model_module_version": "1.5.0",
      "model_name": "DescriptionStyleModel",
      "state": {
       "description_width": ""
      }
     },
     "118547fd5d834d99870d5352ed2d11e6": {
      "model_module": "@jupyter-widgets/controls",
      "model_module_version": "1.5.0",
      "model_name": "DescriptionStyleModel",
      "state": {
       "description_width": "150px"
      }
     },
     "1195682b52f342f8b0957b5d2e02e0f5": {
      "model_module": "@jupyter-widgets/controls",
      "model_module_version": "1.5.0",
      "model_name": "DescriptionStyleModel",
      "state": {
       "description_width": "150px"
      }
     },
     "119941e5f1d647bebf908e042228a482": {
      "model_module": "@jupyter-widgets/controls",
      "model_module_version": "1.5.0",
      "model_name": "DescriptionStyleModel",
      "state": {
       "description_width": ""
      }
     },
     "11e29582be6a4021950119bbc2fac652": {
      "model_module": "@jupyter-widgets/controls",
      "model_module_version": "1.5.0",
      "model_name": "DropdownModel",
      "state": {
       "_options_labels": [
        "denies",
        "endorses"
       ],
       "description": "past_trauma",
       "index": 0,
       "layout": "IPY_MODEL_64f3493d9e7e4cd79d693795fcd61555",
       "style": "IPY_MODEL_72f0f3b0efe74ea6b0499232f195f1ad"
      }
     },
     "11eba56f7eb54f97bcd117a4e8560ed7": {
      "model_module": "@jupyter-widgets/controls",
      "model_module_version": "1.5.0",
      "model_name": "CheckboxModel",
      "state": {
       "description": "Cocaine use disorder Severe",
       "disabled": false,
       "layout": "IPY_MODEL_aa288908af164f5296d273983ece9ebf",
       "style": "IPY_MODEL_55bcb2ce530846db9f423391e6885b06",
       "value": false
      }
     },
     "11fafe75ab9940ec85d926b4d6a6b082": {
      "model_module": "@jupyter-widgets/base",
      "model_module_version": "1.2.0",
      "model_name": "LayoutModel",
      "state": {}
     },
     "121524710d5143f78af643ea2cdc972f": {
      "model_module": "@jupyter-widgets/base",
      "model_module_version": "1.2.0",
      "model_name": "LayoutModel",
      "state": {}
     },
     "12271e47eec645f99b58e7f9833ba85d": {
      "model_module": "@jupyter-widgets/base",
      "model_module_version": "1.2.0",
      "model_name": "LayoutModel",
      "state": {}
     },
     "12323d8ed3644135ae1995a3109cf59d": {
      "model_module": "@jupyter-widgets/controls",
      "model_module_version": "1.5.0",
      "model_name": "DescriptionStyleModel",
      "state": {
       "description_width": ""
      }
     },
     "12433bfb7109441982fe0cded06c09f0": {
      "model_module": "@jupyter-widgets/controls",
      "model_module_version": "1.5.0",
      "model_name": "DescriptionStyleModel",
      "state": {
       "description_width": ""
      }
     },
     "1295b8ca53e84293b0966fa4f369764c": {
      "model_module": "@jupyter-widgets/controls",
      "model_module_version": "1.5.0",
      "model_name": "CheckboxModel",
      "state": {
       "description": "fentanyl",
       "disabled": false,
       "layout": "IPY_MODEL_4c98400b92164b35ab19573712a815f2",
       "style": "IPY_MODEL_38274e129fec4841896cf201cbfe1d51",
       "value": true
      }
     },
     "12a3b70d8826421986d4f6c6023e412a": {
      "model_module": "@jupyter-widgets/controls",
      "model_module_version": "1.5.0",
      "model_name": "TextareaModel",
      "state": {
       "description": "current_medication",
       "layout": "IPY_MODEL_f3ab830ad14c40bcb60503d19e5f9870",
       "placeholder": "Type something",
       "style": "IPY_MODEL_88a3ec1e7ace4b97a234bf888f1e5962",
       "value": "Seroquel 800mg qhs- gaining way too much weight\nDepakote 500mg bid\nPrazosin 5mg qhs\nPropranolol 40mg qd TID- \"for anxiety\"\nBuspar 20mg TID\nKeppra 500mg bid- \"only had 2 when I was coming off xanax.\" I need to though.\nZoloft 150mg qd\nGabapentin 800mg qd\nFlexeril 10mg qd\nRobaxin 750mg QD\nTrazodone 50mg qhs"
      }
     },
     "12cc18bddcf3465c89c4b639afbab7a5": {
      "model_module": "@jupyter-widgets/base",
      "model_module_version": "1.2.0",
      "model_name": "LayoutModel",
      "state": {}
     },
     "12d9254f2681411dae55968fd976faf5": {
      "model_module": "@jupyter-widgets/controls",
      "model_module_version": "1.5.0",
      "model_name": "VBoxModel",
      "state": {
       "children": [
        "IPY_MODEL_d28c64731a3b4720bd3124daa43aba70",
        "IPY_MODEL_1c59dd4863c143d0b7c282b596691b99",
        "IPY_MODEL_92e4bebfdaa542caa79743e9f454c535",
        "IPY_MODEL_58c7098269c64201880d96a2206ffbde"
       ],
       "layout": "IPY_MODEL_d11568ad371a467dacd0c2e68e581c1c"
      }
     },
     "12f64f7bab144b0ea2d845f2f837bd3b": {
      "model_module": "@jupyter-widgets/controls",
      "model_module_version": "1.5.0",
      "model_name": "ComboboxModel",
      "state": {
       "description": "med_compliant",
       "ensure_option": false,
       "layout": "IPY_MODEL_f3ab830ad14c40bcb60503d19e5f9870",
       "options": [
        "Patient reports that they have been compliant with their psychotropic medication regimen and denies adverse effects",
        "Patient reports that they have been non-compliant with their psychotropic medication regimen and denies adverse effects"
       ],
       "style": "IPY_MODEL_97c2f6af09df4d689018aaad0715aa1a",
       "value": "Patient reports that they have been compliant with their psychotropic medication regimen and denies adverse effects"
      }
     },
     "12f7163365b2414faaa664428f3c1837": {
      "model_module": "@jupyter-widgets/controls",
      "model_module_version": "1.5.0",
      "model_name": "DropdownModel",
      "state": {
       "_options_labels": [
        "a history",
        "no history"
       ],
       "description": "mania",
       "index": 1,
       "layout": "IPY_MODEL_5259318fb468446090efdf421640f15f",
       "style": "IPY_MODEL_ed474a68d497472ba5c39df40e829f57"
      }
     },
     "1302cb610d704bc083a02f4b292d6ec1": {
      "model_module": "@jupyter-widgets/controls",
      "model_module_version": "1.5.0",
      "model_name": "DescriptionStyleModel",
      "state": {
       "description_width": "150px"
      }
     },
     "1303c68063cd492395701462720ffe4d": {
      "model_module": "@jupyter-widgets/base",
      "model_module_version": "1.2.0",
      "model_name": "LayoutModel",
      "state": {}
     },
     "1304ed2ab6e34647ba69857f2e8c51f2": {
      "model_module": "@jupyter-widgets/base",
      "model_module_version": "1.2.0",
      "model_name": "LayoutModel",
      "state": {}
     },
     "1365a05fff804e068b3f3603aa627741": {
      "model_module": "@jupyter-widgets/controls",
      "model_module_version": "1.5.0",
      "model_name": "HBoxModel",
      "state": {
       "children": [
        "IPY_MODEL_27daa90c10b84550bb4f8a4fd119476e",
        "IPY_MODEL_f0a1bd2bf53f43f49853f4601e4e1614"
       ],
       "layout": "IPY_MODEL_d860e0af5b6646969ac356648666f754"
      }
     },
     "142148f0a00e4d928d5cc9ecb8a262b1": {
      "model_module": "@jupyter-widgets/controls",
      "model_module_version": "1.5.0",
      "model_name": "DropdownModel",
      "state": {
       "_options_labels": [
        "denies",
        "endorses"
       ],
       "description": "legal",
       "index": 0,
       "layout": "IPY_MODEL_57dff8c6f77e4aad88e092f42ad13209",
       "style": "IPY_MODEL_b89f27a3c886455abdc24deeaacf2055"
      }
     },
     "14a2f860f32742658b747b37e3339c30": {
      "model_module": "@jupyter-widgets/base",
      "model_module_version": "1.2.0",
      "model_name": "LayoutModel",
      "state": {}
     },
     "14c8cf214a7d498a9b16c7cbd8d753cc": {
      "model_module": "@jupyter-widgets/controls",
      "model_module_version": "1.5.0",
      "model_name": "CheckboxModel",
      "state": {
       "description": "Amphetamine-type substance use disorder Severe",
       "disabled": false,
       "layout": "IPY_MODEL_3d2b08a081d14445af2772af96f80759",
       "style": "IPY_MODEL_ebce576460ff435f94b88b4e1b600c00",
       "value": false
      }
     },
     "14cf28b750f341e498ba7d6b13181f3a": {
      "model_module": "@jupyter-widgets/controls",
      "model_module_version": "1.5.0",
      "model_name": "DropdownModel",
      "state": {
       "_options_labels": [
        "denies",
        "endorses"
       ],
       "description": "hopelessness",
       "index": 0,
       "layout": "IPY_MODEL_fa9ec4f225bc40b29e03b63fcbcbd3db",
       "style": "IPY_MODEL_cf415332f60348a89ae8a43e50b97d7a"
      }
     },
     "14d160cb0f7d49548ada3a8010e5a8e6": {
      "model_module": "@jupyter-widgets/controls",
      "model_module_version": "1.5.0",
      "model_name": "BoundedIntTextModel",
      "state": {
       "description": "longest_sober_time",
       "layout": "IPY_MODEL_5259318fb468446090efdf421640f15f",
       "style": "IPY_MODEL_a473fe3d87124f8481fd28ee18e56325"
      }
     },
     "14e00fd13aba480a8d2d1d0ee6e9d926": {
      "model_module": "@jupyter-widgets/controls",
      "model_module_version": "1.5.0",
      "model_name": "DescriptionStyleModel",
      "state": {
       "description_width": ""
      }
     },
     "150dca633df149f3808acc7594d725a3": {
      "model_module": "@jupyter-widgets/controls",
      "model_module_version": "1.5.0",
      "model_name": "CheckboxModel",
      "state": {
       "description": "ADHD",
       "disabled": false,
       "layout": "IPY_MODEL_8ba1b06144584da3b6120a77e358e6a5",
       "style": "IPY_MODEL_225a9a9d180c454a8c6b7b15c774c7df",
       "value": false
      }
     },
     "150e9ad1cf174c0fa84829c26a3a2b38": {
      "model_module": "@jupyter-widgets/base",
      "model_module_version": "1.2.0",
      "model_name": "LayoutModel",
      "state": {}
     },
     "15117d5e96f04739895bc3ac8c876614": {
      "model_module": "@jupyter-widgets/controls",
      "model_module_version": "1.5.0",
      "model_name": "DescriptionStyleModel",
      "state": {
       "description_width": ""
      }
     },
     "1550983ecf4741689f3575f8aaf2d64c": {
      "model_module": "@jupyter-widgets/controls",
      "model_module_version": "1.5.0",
      "model_name": "CheckboxModel",
      "state": {
       "description": "Unspecified Anxiety Disorder",
       "disabled": false,
       "layout": "IPY_MODEL_64ade1ebea894fa996f5d8b3b2b48017",
       "style": "IPY_MODEL_299456447c3c4c7184b23c9e5ed6bd03",
       "value": false
      }
     },
     "15bef88b21f8401f830692a01e252ae9": {
      "model_module": "@jupyter-widgets/base",
      "model_module_version": "1.2.0",
      "model_name": "LayoutModel",
      "state": {}
     },
     "15c5e1a4234a4333b0408e71cc26c757": {
      "model_module": "@jupyter-widgets/controls",
      "model_module_version": "1.5.0",
      "model_name": "DropdownModel",
      "state": {
       "_options_labels": [
        "denies",
        "endorses"
       ],
       "description": "self_injury",
       "index": 0,
       "layout": "IPY_MODEL_ecfa8b2075df48d78b3e743fdae50eff",
       "style": "IPY_MODEL_f11c9bd37df146d8ae6bdfdb13634554"
      }
     },
     "15f155367e414ac894ae3a49e70b6bd7": {
      "model_module": "@jupyter-widgets/controls",
      "model_module_version": "1.5.0",
      "model_name": "TextareaModel",
      "state": {
       "description": "previous_meds",
       "layout": "IPY_MODEL_fa9ec4f225bc40b29e03b63fcbcbd3db",
       "style": "IPY_MODEL_59f640917a7e440f9ec05d4402512f99",
       "value": "none"
      }
     },
     "1604afab256a42048270e59db4e4c7d1": {
      "model_module": "@jupyter-widgets/controls",
      "model_module_version": "1.5.0",
      "model_name": "DescriptionStyleModel",
      "state": {
       "description_width": "150px"
      }
     },
     "1610df7c996b401f8ff88ab1ea0073ef": {
      "model_module": "@jupyter-widgets/output",
      "model_module_version": "1.0.0",
      "model_name": "OutputModel",
      "state": {
       "layout": "IPY_MODEL_4c78b5c14adb414bb1748ae8c0d94d2c",
       "outputs": [
        {
         "name": "stdout",
         "output_type": "stream",
         "text": "\nThe patient reported no history of mania.\nThe patient reported no history of psychosis. \nThe patient reported no history of  learning disabilities, OCD or tics. \nThe patient reported no history of an eating disorder. \nThe patient reported no history of compulsive gambling, problematic internet/video game use, compulsive shopping, or sexual addiction. \n\n\n"
        }
       ]
      }
     },
     "16594f3dc5ae4a79a101b942e179d4c7": {
      "model_module": "@jupyter-widgets/controls",
      "model_module_version": "1.5.0",
      "model_name": "DescriptionStyleModel",
      "state": {
       "description_width": "150px"
      }
     },
     "16662e876e9a4cff9129a79eb243a99b": {
      "model_module": "@jupyter-widgets/controls",
      "model_module_version": "1.5.0",
      "model_name": "DescriptionStyleModel",
      "state": {
       "description_width": "150px"
      }
     },
     "1676ac174c934b4fae7cad4d9b223566": {
      "model_module": "@jupyter-widgets/controls",
      "model_module_version": "1.5.0",
      "model_name": "VBoxModel",
      "state": {
       "children": [
        "IPY_MODEL_cbf2d016743b4e799e98a123ec0d8e56",
        "IPY_MODEL_e245ecdf450245cd9f8d6fc0f40974cb",
        "IPY_MODEL_42d52257103e49648110b1fc81ca9f36",
        "IPY_MODEL_f057c0ada7d44977a7e16b568fbff7a7"
       ],
       "layout": "IPY_MODEL_8653ba30f2f14e8c8551486d2b758b9f"
      }
     },
     "16ba0d31770144d59fb5486980b5a5b3": {
      "model_module": "@jupyter-widgets/base",
      "model_module_version": "1.2.0",
      "model_name": "LayoutModel",
      "state": {}
     },
     "16cd4e682e3942bb9dc474a8957a1dff": {
      "model_module": "@jupyter-widgets/base",
      "model_module_version": "1.2.0",
      "model_name": "LayoutModel",
      "state": {}
     },
     "16d5d3e453de49c1b8ccf193504aa8d0": {
      "model_module": "@jupyter-widgets/controls",
      "model_module_version": "1.5.0",
      "model_name": "DescriptionStyleModel",
      "state": {
       "description_width": ""
      }
     },
     "16dfd7eae8274d7688bd462e1da41f07": {
      "model_module": "@jupyter-widgets/controls",
      "model_module_version": "1.5.0",
      "model_name": "CheckboxModel",
      "state": {
       "description": "no mental illness",
       "disabled": false,
       "layout": "IPY_MODEL_94e7771557754f2d8e60ca231f698cb7",
       "style": "IPY_MODEL_86060f205a614d8d871416643605721a",
       "value": false
      }
     },
     "17535034587d445a99a94ffd4fbb80a5": {
      "model_module": "@jupyter-widgets/controls",
      "model_module_version": "1.5.0",
      "model_name": "DescriptionStyleModel",
      "state": {
       "description_width": "150px"
      }
     },
     "1772062148664e93a3664da269a1780a": {
      "model_module": "@jupyter-widgets/controls",
      "model_module_version": "1.5.0",
      "model_name": "TextareaModel",
      "state": {
       "description": "allergies",
       "layout": "IPY_MODEL_64f3493d9e7e4cd79d693795fcd61555",
       "style": "IPY_MODEL_a74d7adf7f8f4f9b8567223bea8ac158",
       "value": "NKDA"
      }
     },
     "178962fad52c48b094df47ae6c68a183": {
      "model_module": "@jupyter-widgets/base",
      "model_module_version": "1.2.0",
      "model_name": "LayoutModel",
      "state": {}
     },
     "17b4c41ba9c2407a8060d38246f74009": {
      "model_module": "@jupyter-widgets/controls",
      "model_module_version": "1.5.0",
      "model_name": "VBoxModel",
      "state": {
       "_dom_classes": [
        "widget-interact"
       ],
       "children": [
        "IPY_MODEL_ea77fca1390446a0bd069c4c5d03bfaa",
        "IPY_MODEL_b55193aa7566418d8fde39c83c60319d"
       ],
       "layout": "IPY_MODEL_b11ed5bcfcab4670af0be1b6f7ba003e"
      }
     },
     "17dd0a358a6341ae94cd32d48a59f515": {
      "model_module": "@jupyter-widgets/base",
      "model_module_version": "1.2.0",
      "model_name": "LayoutModel",
      "state": {}
     },
     "180a893e2c0c43e0939f73f63f63601f": {
      "model_module": "@jupyter-widgets/base",
      "model_module_version": "1.2.0",
      "model_name": "LayoutModel",
      "state": {}
     },
     "184d2d7cb5bd4467be91ff3741d6ec49": {
      "model_module": "@jupyter-widgets/controls",
      "model_module_version": "1.5.0",
      "model_name": "CheckboxModel",
      "state": {
       "description": "schizophrenia",
       "disabled": false,
       "layout": "IPY_MODEL_9837b6273d544bb78d41109b04ad236c",
       "style": "IPY_MODEL_5472847356ab4cd6b2f25675cd9d9e02",
       "value": false
      }
     },
     "18718deb1db044dab03ada5e5aaea6f5": {
      "model_module": "@jupyter-widgets/controls",
      "model_module_version": "1.5.0",
      "model_name": "CheckboxModel",
      "state": {
       "description": "bipolar I disorder",
       "disabled": false,
       "layout": "IPY_MODEL_16cd4e682e3942bb9dc474a8957a1dff",
       "style": "IPY_MODEL_64413402ddb7498687af99a92b876994",
       "value": false
      }
     },
     "1876a4afe9a34e53a52972e8ab8db44b": {
      "model_module": "@jupyter-widgets/controls",
      "model_module_version": "1.5.0",
      "model_name": "TextareaModel",
      "state": {
       "description": "notes",
       "layout": "IPY_MODEL_57dff8c6f77e4aad88e092f42ad13209",
       "style": "IPY_MODEL_7fe10bfd86ac43c39a70bcbf45fd136a",
       "value": "4 years ago started seeing psychiatrist\n"
      }
     },
     "1894dcaa49db4a9a837320fa15d21bb6": {
      "model_module": "@jupyter-widgets/controls",
      "model_module_version": "1.5.0",
      "model_name": "DescriptionStyleModel",
      "state": {
       "description_width": ""
      }
     },
     "1895e29127bc40e585fc19e9cabe1866": {
      "model_module": "@jupyter-widgets/controls",
      "model_module_version": "1.5.0",
      "model_name": "DescriptionStyleModel",
      "state": {
       "description_width": "150px"
      }
     },
     "1921db2e14584693b53c427cb822b137": {
      "model_module": "@jupyter-widgets/base",
      "model_module_version": "1.2.0",
      "model_name": "LayoutModel",
      "state": {}
     },
     "1928508b84274a0fbdb445b3535bd43f": {
      "model_module": "@jupyter-widgets/controls",
      "model_module_version": "1.5.0",
      "model_name": "ComboboxModel",
      "state": {
       "description": "home",
       "ensure_option": false,
       "layout": "IPY_MODEL_fa9ec4f225bc40b29e03b63fcbcbd3db",
       "options": [
        "in sober living",
        "at home"
       ],
       "style": "IPY_MODEL_03abe722d0d640adb8b8364458ba70a2",
       "value": "in sober living"
      }
     },
     "195355190a3e4b6caa921320a85a5a8e": {
      "model_module": "@jupyter-widgets/base",
      "model_module_version": "1.2.0",
      "model_name": "LayoutModel",
      "state": {}
     },
     "1996f8c0a5b54a23a038915a944fa4bf": {
      "model_module": "@jupyter-widgets/base",
      "model_module_version": "1.2.0",
      "model_name": "LayoutModel",
      "state": {
       "width": "25%"
      }
     },
     "19b753795dbb404cbe41a00c96d21268": {
      "model_module": "@jupyter-widgets/controls",
      "model_module_version": "1.5.0",
      "model_name": "DescriptionStyleModel",
      "state": {
       "description_width": "150px"
      }
     },
     "19c6de9748fd4142995de38aff8ac8b5": {
      "model_module": "@jupyter-widgets/controls",
      "model_module_version": "1.5.0",
      "model_name": "DescriptionStyleModel",
      "state": {
       "description_width": "150px"
      }
     },
     "19dcc77bc95d4bb0b3622a2e561fd85a": {
      "model_module": "@jupyter-widgets/controls",
      "model_module_version": "1.5.0",
      "model_name": "DropdownModel",
      "state": {
       "_options_labels": [
        "denies",
        "endorses"
       ],
       "description": "withdrawals_choice",
       "index": 0,
       "layout": "IPY_MODEL_fa9ec4f225bc40b29e03b63fcbcbd3db",
       "style": "IPY_MODEL_e82b8b8759f349ff87d7b3341c53666c"
      }
     },
     "1a1d4a41b17b4e78b27f2e3e8a5db7d2": {
      "model_module": "@jupyter-widgets/controls",
      "model_module_version": "1.5.0",
      "model_name": "DropdownModel",
      "state": {
       "_options_labels": [
        "a history",
        "no history"
       ],
       "description": "mania",
       "index": 1,
       "layout": "IPY_MODEL_fa9ec4f225bc40b29e03b63fcbcbd3db",
       "style": "IPY_MODEL_9260f16602054416968769bdf25ef557"
      }
     },
     "1aa10322802e463d9382c63e5f1acb02": {
      "model_module": "@jupyter-widgets/base",
      "model_module_version": "1.2.0",
      "model_name": "LayoutModel",
      "state": {}
     },
     "1ad8365e730847308d742e150d35687a": {
      "model_module": "@jupyter-widgets/controls",
      "model_module_version": "1.5.0",
      "model_name": "DropdownModel",
      "state": {
       "_options_labels": [
        "denies",
        "endorses"
       ],
       "description": "hep_medical",
       "index": 0,
       "layout": "IPY_MODEL_5259318fb468446090efdf421640f15f",
       "style": "IPY_MODEL_dc82db523a8f4d578365b7ea82cdd168"
      }
     },
     "1b0743afe4844e34a87d9385a9570086": {
      "model_module": "@jupyter-widgets/controls",
      "model_module_version": "1.5.0",
      "model_name": "DescriptionStyleModel",
      "state": {
       "description_width": ""
      }
     },
     "1b463e8bebfd4ce39d9b6cd9443247af": {
      "model_module": "@jupyter-widgets/controls",
      "model_module_version": "1.5.0",
      "model_name": "DropdownModel",
      "state": {
       "_options_labels": [
        "denies",
        "endorses"
       ],
       "description": "seizures",
       "index": 0,
       "layout": "IPY_MODEL_ecfa8b2075df48d78b3e743fdae50eff",
       "style": "IPY_MODEL_03fac0c6a9094091b498002e046758c6"
      }
     },
     "1b7193936b0b43159bc046b9636027ee": {
      "model_module": "@jupyter-widgets/controls",
      "model_module_version": "1.5.0",
      "model_name": "CheckboxModel",
      "state": {
       "description": "no mental illness",
       "disabled": false,
       "layout": "IPY_MODEL_5b64373cf80145838270da6cf1e4e436",
       "style": "IPY_MODEL_5e65ff71d7774e189dd56b0fca18548b",
       "value": false
      }
     },
     "1babb8eea4a6491686bfa172ca90d793": {
      "model_module": "@jupyter-widgets/controls",
      "model_module_version": "1.5.0",
      "model_name": "DropdownModel",
      "state": {
       "_options_labels": [
        "declines",
        "elects to start",
        "would like to continue with"
       ],
       "description": "anti_cravings_choice",
       "index": 0,
       "layout": "IPY_MODEL_ecfa8b2075df48d78b3e743fdae50eff",
       "style": "IPY_MODEL_6f4f8ceaf6494a7dbc269d0a59520cdd"
      }
     },
     "1bd18540422b4dbfa12c9c2792e91b2d": {
      "model_module": "@jupyter-widgets/controls",
      "model_module_version": "1.5.0",
      "model_name": "DropdownModel",
      "state": {
       "_options_labels": [
        "single",
        "married"
       ],
       "description": "married",
       "index": 0,
       "layout": "IPY_MODEL_64f3493d9e7e4cd79d693795fcd61555",
       "style": "IPY_MODEL_64c1157a21514e60a91563dcbcafdfd6"
      }
     },
     "1bd6c24056194b088ffc9953fe52ae0c": {
      "model_module": "@jupyter-widgets/controls",
      "model_module_version": "1.5.0",
      "model_name": "DescriptionStyleModel",
      "state": {
       "description_width": "150px"
      }
     },
     "1be3f427e7694130996bd8f9d66e1add": {
      "model_module": "@jupyter-widgets/controls",
      "model_module_version": "1.5.0",
      "model_name": "VBoxModel",
      "state": {
       "_dom_classes": [
        "widget-interact"
       ],
       "children": [
        "IPY_MODEL_1772062148664e93a3664da269a1780a",
        "IPY_MODEL_c906307fd04f4c4a82d5fa634556fbc9"
       ],
       "layout": "IPY_MODEL_8c18a8fc93974bd1be787f226d52a688"
      }
     },
     "1be57e181d74449b9c4d54389e24bacd": {
      "model_module": "@jupyter-widgets/controls",
      "model_module_version": "1.5.0",
      "model_name": "BoundedIntTextModel",
      "state": {
       "description": "Age:",
       "layout": "IPY_MODEL_3b7bdb8a115d476daa3a6d6067d1b1ae",
       "max": 200,
       "style": "IPY_MODEL_e0ae3ae18d8241f3b5dfe2ddfd7ad070",
       "value": 25
      }
     },
     "1be76bd0abe14d0695f8a9fc8cb6ab8b": {
      "model_module": "@jupyter-widgets/controls",
      "model_module_version": "1.5.0",
      "model_name": "TextareaModel",
      "state": {
       "description": "Other:",
       "layout": "IPY_MODEL_57dff8c6f77e4aad88e092f42ad13209",
       "style": "IPY_MODEL_5a8345406228401c90069eee1b2f9db1"
      }
     },
     "1bf0f45a909a48c182abb4b1dc7f3f69": {
      "model_module": "@jupyter-widgets/controls",
      "model_module_version": "1.5.0",
      "model_name": "CheckboxModel",
      "state": {
       "description": "bipolar II disorder",
       "disabled": false,
       "layout": "IPY_MODEL_3edf37d2cdd74da9b062c1da230c4b9d",
       "style": "IPY_MODEL_a4d641a3d7324b84b2a69ae40cfc4ca8",
       "value": false
      }
     },
     "1bf5e3fcc02a4c7dab3d9500a7edb49e": {
      "model_module": "@jupyter-widgets/controls",
      "model_module_version": "1.5.0",
      "model_name": "DescriptionStyleModel",
      "state": {
       "description_width": "150px"
      }
     },
     "1c07a3d7067844b49cd11a22c6361581": {
      "model_module": "@jupyter-widgets/controls",
      "model_module_version": "1.5.0",
      "model_name": "DescriptionStyleModel",
      "state": {
       "description_width": "150px"
      }
     },
     "1c59dd4863c143d0b7c282b596691b99": {
      "model_module": "@jupyter-widgets/controls",
      "model_module_version": "1.5.0",
      "model_name": "CheckboxModel",
      "state": {
       "description": "Amphetamine-type substance use disorder Severe",
       "disabled": false,
       "layout": "IPY_MODEL_2161749c536c43cea784ddcc3e3d28a3",
       "style": "IPY_MODEL_b2f0dd5c07714b69b18726912c43e152",
       "value": true
      }
     },
     "1c60ac97247145f48b449307bc66a895": {
      "model_module": "@jupyter-widgets/controls",
      "model_module_version": "1.5.0",
      "model_name": "CheckboxModel",
      "state": {
       "description": "Generalized anxiety disorder",
       "disabled": false,
       "layout": "IPY_MODEL_74f41cd73c5a47a2a8269050a0d4f900",
       "style": "IPY_MODEL_ca4c318df4b84847813c68927264113d",
       "value": false
      }
     },
     "1c6531a07a984b2a9a7383fcf1c154cc": {
      "model_module": "@jupyter-widgets/controls",
      "model_module_version": "1.5.0",
      "model_name": "CheckboxModel",
      "state": {
       "description": "Unspecified Depressive Disorder",
       "disabled": false,
       "layout": "IPY_MODEL_2e50410baed642b6954522398581dd9b",
       "style": "IPY_MODEL_a223a93374a344f09ecdeadb4629b62a",
       "value": false
      }
     },
     "1d0a864446cc4da99e12f883d3a7b2e5": {
      "model_module": "@jupyter-widgets/base",
      "model_module_version": "1.2.0",
      "model_name": "LayoutModel",
      "state": {}
     },
     "1d131064a4c64f95ad0d8553c48000a8": {
      "model_module": "@jupyter-widgets/controls",
      "model_module_version": "1.5.0",
      "model_name": "DescriptionStyleModel",
      "state": {
       "description_width": "150px"
      }
     },
     "1d144062f0bc45249d52a30c7bb99a39": {
      "model_module": "@jupyter-widgets/controls",
      "model_module_version": "1.5.0",
      "model_name": "DescriptionStyleModel",
      "state": {
       "description_width": ""
      }
     },
     "1d2be593b0ac43839159fdaff30b4118": {
      "model_module": "@jupyter-widgets/base",
      "model_module_version": "1.2.0",
      "model_name": "LayoutModel",
      "state": {}
     },
     "1d30bb25e4474ba2bbeb9f3a789fe3b4": {
      "model_module": "@jupyter-widgets/controls",
      "model_module_version": "1.5.0",
      "model_name": "DropdownModel",
      "state": {
       "_options_labels": [
        "denies",
        "endorses"
       ],
       "description": "withdrawals_choice",
       "index": 0,
       "layout": "IPY_MODEL_5259318fb468446090efdf421640f15f",
       "style": "IPY_MODEL_626816946ac74045aea9f60e057b9170"
      }
     },
     "1d4d637f774d4b6d9eb90b2d89ba3e42": {
      "model_module": "@jupyter-widgets/controls",
      "model_module_version": "1.5.0",
      "model_name": "DescriptionStyleModel",
      "state": {
       "description_width": ""
      }
     },
     "1d8d12d32f564c8a9a90a436be3a9443": {
      "model_module": "@jupyter-widgets/controls",
      "model_module_version": "1.5.0",
      "model_name": "TextareaModel",
      "state": {
       "description": "treatment_reason",
       "layout": "IPY_MODEL_f3ab830ad14c40bcb60503d19e5f9870",
       "placeholder": "Type Something",
       "style": "IPY_MODEL_3cd52d01164c4875a7dc63f73a51af0a",
       "value": "\"I wanted to be more accountable and live more of a normal life.\""
      }
     },
     "1d9272f99a2341acb2b5096781dc41a8": {
      "model_module": "@jupyter-widgets/controls",
      "model_module_version": "1.5.0",
      "model_name": "DescriptionStyleModel",
      "state": {
       "description_width": ""
      }
     },
     "1d94fbff4b10461ab93eacd578d484cd": {
      "model_module": "@jupyter-widgets/controls",
      "model_module_version": "1.5.0",
      "model_name": "VBoxModel",
      "state": {
       "children": [
        "IPY_MODEL_e77a04aadeb04d6d89c2e21fed5508df",
        "IPY_MODEL_fc31aadfcd124551a8077f48b798efb0",
        "IPY_MODEL_dbbe94337905411d8f63d79160d58c4e",
        "IPY_MODEL_8aec4b3d56f342098e0fb7f0b9c0cfee"
       ],
       "layout": "IPY_MODEL_608b4818d88c480ba73859bb29498520"
      }
     },
     "1da0233022e540d7893170fa59df81f6": {
      "model_module": "@jupyter-widgets/output",
      "model_module_version": "1.0.0",
      "model_name": "OutputModel",
      "state": {
       "layout": "IPY_MODEL_d4cb931c0fce43cfbaaf28ec08cef113",
       "outputs": [
        {
         "name": "stdout",
         "output_type": "stream",
         "text": "\nThe patient denies that they worry regularly about multiple aspects of their life with accompanying physical symptoms.\nOver the past several weeks, the patient denies any excessive worrying,  \nfeeling keyed up and on edge, irritability, or panic attacks. \nanx notes\n\n"
        }
       ]
      }
     },
     "1db97b90f3b5447da5f2dcdd73d89cfd": {
      "model_module": "@jupyter-widgets/controls",
      "model_module_version": "1.5.0",
      "model_name": "DescriptionStyleModel",
      "state": {
       "description_width": "150px"
      }
     },
     "1dbf50f32c5e42f98225cb75460e8596": {
      "model_module": "@jupyter-widgets/controls",
      "model_module_version": "1.5.0",
      "model_name": "TextareaModel",
      "state": {
       "description": "primary_substances",
       "layout": "IPY_MODEL_f3ab830ad14c40bcb60503d19e5f9870",
       "style": "IPY_MODEL_2e35311e157c4687bddf7cfdc8c94975",
       "value": "opioids"
      }
     },
     "1dcbff73e5e64c668b811ab305f2b6a1": {
      "model_module": "@jupyter-widgets/controls",
      "model_module_version": "1.5.0",
      "model_name": "DescriptionStyleModel",
      "state": {
       "description_width": "150px"
      }
     },
     "1dfd2348cd6f4545867792bcd7abc0b7": {
      "model_module": "@jupyter-widgets/controls",
      "model_module_version": "1.5.0",
      "model_name": "DescriptionStyleModel",
      "state": {
       "description_width": ""
      }
     },
     "1e193e7459fd4ac1bfc8f0ac8bc5b780": {
      "model_module": "@jupyter-widgets/controls",
      "model_module_version": "1.5.0",
      "model_name": "CheckboxModel",
      "state": {
       "description": "ptsd",
       "disabled": false,
       "layout": "IPY_MODEL_d9732e8931e945e6be49d3eefdd4a6d1",
       "style": "IPY_MODEL_7ee919b9c14045d0a1840df00a7ad041",
       "value": false
      }
     },
     "1e48fc19ddba41d68c02ef0ec05048c0": {
      "model_module": "@jupyter-widgets/controls",
      "model_module_version": "1.5.0",
      "model_name": "DescriptionStyleModel",
      "state": {
       "description_width": ""
      }
     },
     "1e4b487eb3e9401194449440a0541f36": {
      "model_module": "@jupyter-widgets/controls",
      "model_module_version": "1.5.0",
      "model_name": "DescriptionStyleModel",
      "state": {
       "description_width": ""
      }
     },
     "1e66be81d3af43ce96ab98d1df15a770": {
      "model_module": "@jupyter-widgets/controls",
      "model_module_version": "1.5.0",
      "model_name": "TextareaModel",
      "state": {
       "description": "notes",
       "layout": "IPY_MODEL_fa9ec4f225bc40b29e03b63fcbcbd3db",
       "style": "IPY_MODEL_a0314773dc464bb69dab47829ee399cb",
       "value": "Reports he might have hep c. "
      }
     },
     "1eca1798fd1d4fe98a0824cb57a0876a": {
      "model_module": "@jupyter-widgets/controls",
      "model_module_version": "1.5.0",
      "model_name": "DescriptionStyleModel",
      "state": {
       "description_width": ""
      }
     },
     "1f61e2253fb144c99785c0043b9fe1c1": {
      "model_module": "@jupyter-widgets/controls",
      "model_module_version": "1.5.0",
      "model_name": "CheckboxModel",
      "state": {
       "description": "heroin",
       "disabled": false,
       "layout": "IPY_MODEL_870f4d7a441f42deb80fb9196e47e6d1",
       "style": "IPY_MODEL_1eca1798fd1d4fe98a0824cb57a0876a",
       "value": false
      }
     },
     "1f9a2badf2f045909193b209acda2a59": {
      "model_module": "@jupyter-widgets/controls",
      "model_module_version": "1.5.0",
      "model_name": "VBoxModel",
      "state": {
       "_dom_classes": [
        "widget-interact"
       ],
       "children": [
        "IPY_MODEL_215873678a3d4c31adae792086269742",
        "IPY_MODEL_a76ceffd30bc4301a779e475a2f3dec4",
        "IPY_MODEL_f8f4e09d8e8c471c8c897fc104cf2f4b",
        "IPY_MODEL_b94e98c000d34e17953b75a68c6f5fcc",
        "IPY_MODEL_dc861be32a3145a5b63d1294728735ed",
        "IPY_MODEL_60e068c28bf9485092f791afbdec0479"
       ],
       "layout": "IPY_MODEL_de979a2b9b8c468fb93d7d9ad24b60ed"
      }
     },
     "1fa7ec4340d24995985ca07252978d3b": {
      "model_module": "@jupyter-widgets/controls",
      "model_module_version": "1.5.0",
      "model_name": "VBoxModel",
      "state": {
       "children": [
        "IPY_MODEL_a692219f735f4224bb17405645aa8d9a",
        "IPY_MODEL_876645ac9f5743fa81eb3378b2f192a6",
        "IPY_MODEL_a177420a59c44699b6a9d736fe7e84bc",
        "IPY_MODEL_afa07f45f76d483b849f6f638675e6f4",
        "IPY_MODEL_5cea285ae4ff420aa767eeaa104ac3fd",
        "IPY_MODEL_c60edefed98445a2974023633e4d12af",
        "IPY_MODEL_cfd4ba7228a94eb7ae06efa70a834f0f",
        "IPY_MODEL_3db665d0333845b4b416ac201e0c2255",
        "IPY_MODEL_4f34e91cb3d141d2a7af7a38b1de4509",
        "IPY_MODEL_aa5c99d34f0240f88771f70d8c049bdc",
        "IPY_MODEL_365de4b49cd1414f8e55987f57489658",
        "IPY_MODEL_aa76fc07d08a4c95a7fee497a2274d72",
        "IPY_MODEL_468d39344f1f41b7bad285f77623e0ad",
        "IPY_MODEL_7299379603884c1e947ad9dd12adb0b5"
       ],
       "layout": "IPY_MODEL_b6177e04a8fe4dd49628b1f31190d796"
      }
     },
     "1fd510db609f4f3f9852a3dd618873cd": {
      "model_module": "@jupyter-widgets/base",
      "model_module_version": "1.2.0",
      "model_name": "LayoutModel",
      "state": {}
     },
     "1fe65e7dc96b4279af3d814be0874a71": {
      "model_module": "@jupyter-widgets/controls",
      "model_module_version": "1.5.0",
      "model_name": "CheckboxModel",
      "state": {
       "description": "Unspecified Anxiety Disorder",
       "disabled": false,
       "layout": "IPY_MODEL_62429bc502d04d688fafbe88b7479242",
       "style": "IPY_MODEL_434631591cb34e16b41bb8d451a5dcca",
       "value": false
      }
     },
     "201337bfe5594067aaebaf1b15531068": {
      "model_module": "@jupyter-widgets/controls",
      "model_module_version": "1.5.0",
      "model_name": "DescriptionStyleModel",
      "state": {
       "description_width": "150px"
      }
     },
     "202ca91589ca4a00b5c160319bd38ec0": {
      "model_module": "@jupyter-widgets/controls",
      "model_module_version": "1.5.0",
      "model_name": "DescriptionStyleModel",
      "state": {
       "description_width": ""
      }
     },
     "2041c5d6c0624368a2a3cdc791be8b19": {
      "model_module": "@jupyter-widgets/controls",
      "model_module_version": "1.5.0",
      "model_name": "BoundedIntTextModel",
      "state": {
       "description": "Sober Time:",
       "layout": "IPY_MODEL_57dff8c6f77e4aad88e092f42ad13209",
       "max": 200,
       "style": "IPY_MODEL_31d3d152f5774a74bcb81dddfbce3101",
       "value": 4
      }
     },
     "207ac6008be648bfbd8bbc1249537ef7": {
      "model_module": "@jupyter-widgets/controls",
      "model_module_version": "1.5.0",
      "model_name": "DescriptionStyleModel",
      "state": {
       "description_width": "150px"
      }
     },
     "20e53059cce240a9b4879440281d1d65": {
      "model_module": "@jupyter-widgets/controls",
      "model_module_version": "1.5.0",
      "model_name": "DescriptionStyleModel",
      "state": {
       "description_width": "150px"
      }
     },
     "20edac18a228403390b98d36b4c46bab": {
      "model_module": "@jupyter-widgets/controls",
      "model_module_version": "1.5.0",
      "model_name": "BoundedIntTextModel",
      "state": {
       "description": "num_times_in_treatment",
       "layout": "IPY_MODEL_57dff8c6f77e4aad88e092f42ad13209",
       "style": "IPY_MODEL_d0182a6428aa4069bb2ba4d8619fd394",
       "value": 8
      }
     },
     "20fc0f5c2a4b4bc2b08eb9bcf9b88414": {
      "model_module": "@jupyter-widgets/base",
      "model_module_version": "1.2.0",
      "model_name": "LayoutModel",
      "state": {}
     },
     "210099fbd1384e29bc4611bc2ca8c1a9": {
      "model_module": "@jupyter-widgets/base",
      "model_module_version": "1.2.0",
      "model_name": "LayoutModel",
      "state": {}
     },
     "210b7f23753f427d97b2f2b6f9f7d0b3": {
      "model_module": "@jupyter-widgets/controls",
      "model_module_version": "1.5.0",
      "model_name": "CheckboxModel",
      "state": {
       "description": "psychosis",
       "disabled": false,
       "layout": "IPY_MODEL_a774b563036b4205a4a0dd7345f29a11",
       "style": "IPY_MODEL_00b821c6f19d4f3092fe1e80dbc8bf83",
       "value": false
      }
     },
     "2122d8c6ed3a4d598485f65d4d7ee08c": {
      "model_module": "@jupyter-widgets/controls",
      "model_module_version": "1.5.0",
      "model_name": "DescriptionStyleModel",
      "state": {
       "description_width": ""
      }
     },
     "2158688c3426462dbdad90a460d3de48": {
      "model_module": "@jupyter-widgets/controls",
      "model_module_version": "1.5.0",
      "model_name": "DescriptionStyleModel",
      "state": {
       "description_width": "150px"
      }
     },
     "215873678a3d4c31adae792086269742": {
      "model_module": "@jupyter-widgets/controls",
      "model_module_version": "1.5.0",
      "model_name": "DropdownModel",
      "state": {
       "_options_labels": [
        "denies",
        "endorses"
       ],
       "description": "acute_medical",
       "index": 1,
       "layout": "IPY_MODEL_f3ab830ad14c40bcb60503d19e5f9870",
       "style": "IPY_MODEL_4ad91b4ff41b4269bc9afcd561d23b53"
      }
     },
     "2161749c536c43cea784ddcc3e3d28a3": {
      "model_module": "@jupyter-widgets/base",
      "model_module_version": "1.2.0",
      "model_name": "LayoutModel",
      "state": {}
     },
     "218a2be855b241c895ad030e8f4f962e": {
      "model_module": "@jupyter-widgets/controls",
      "model_module_version": "1.5.0",
      "model_name": "DescriptionStyleModel",
      "state": {
       "description_width": "150px"
      }
     },
     "21b348c3cc2e44b6a05d4bdd6204a8db": {
      "model_module": "@jupyter-widgets/base",
      "model_module_version": "1.2.0",
      "model_name": "LayoutModel",
      "state": {}
     },
     "21be120ba23443fbabf0ea1ab66ae431": {
      "model_module": "@jupyter-widgets/controls",
      "model_module_version": "1.5.0",
      "model_name": "TextareaModel",
      "state": {
       "description": "treatment_reason",
       "layout": "IPY_MODEL_57dff8c6f77e4aad88e092f42ad13209",
       "placeholder": "Type Something",
       "style": "IPY_MODEL_d16f786dddd34cf1bdf1122014111c64",
       "value": "i cant get it up"
      }
     },
     "21c8035b2fc84ec1a863d4e2b67836e7": {
      "model_module": "@jupyter-widgets/controls",
      "model_module_version": "1.5.0",
      "model_name": "DescriptionStyleModel",
      "state": {
       "description_width": "150px"
      }
     },
     "225a9a9d180c454a8c6b7b15c774c7df": {
      "model_module": "@jupyter-widgets/controls",
      "model_module_version": "1.5.0",
      "model_name": "DescriptionStyleModel",
      "state": {
       "description_width": ""
      }
     },
     "22613bdb113a4930b14b0035c08448a4": {
      "model_module": "@jupyter-widgets/base",
      "model_module_version": "1.2.0",
      "model_name": "LayoutModel",
      "state": {}
     },
     "229cf1d297d3445fb5ef0761e4e01524": {
      "model_module": "@jupyter-widgets/controls",
      "model_module_version": "1.5.0",
      "model_name": "DropdownModel",
      "state": {
       "_options_labels": [
        "good",
        "fair",
        "poor"
       ],
       "description": "concentration",
       "index": 2,
       "layout": "IPY_MODEL_f3ab830ad14c40bcb60503d19e5f9870",
       "style": "IPY_MODEL_94537a2fef9a427abc6751968c019c3a"
      }
     },
     "22a15f0dc7f6444793505222f5a48eb9": {
      "model_module": "@jupyter-widgets/controls",
      "model_module_version": "1.5.0",
      "model_name": "DescriptionStyleModel",
      "state": {
       "description_width": "150px"
      }
     },
     "22ada1e207af4712a8b13c7b907eba25": {
      "model_module": "@jupyter-widgets/controls",
      "model_module_version": "1.5.0",
      "model_name": "DropdownModel",
      "state": {
       "_options_labels": [
        "denies",
        "endorses"
       ],
       "description": "suicide",
       "index": 0,
       "layout": "IPY_MODEL_64f3493d9e7e4cd79d693795fcd61555",
       "style": "IPY_MODEL_815048fbc58a4b6a8986619ec30c1969"
      }
     },
     "22adfd6cbcbe4e4d9a2ba34d584ea378": {
      "model_module": "@jupyter-widgets/controls",
      "model_module_version": "1.5.0",
      "model_name": "CheckboxModel",
      "state": {
       "description": "Unspecified Anxiety Disorder",
       "disabled": false,
       "layout": "IPY_MODEL_fbfec2e8ee094fd69e9ceea6056e98a6",
       "style": "IPY_MODEL_12323d8ed3644135ae1995a3109cf59d",
       "value": false
      }
     },
     "22dc9be5a82141c58f55e1890bae8373": {
      "model_module": "@jupyter-widgets/controls",
      "model_module_version": "1.5.0",
      "model_name": "VBoxModel",
      "state": {
       "children": [
        "IPY_MODEL_d885be8b4df249e7b8d619fdd3679870",
        "IPY_MODEL_90865e18db03465688033d31060fc83f",
        "IPY_MODEL_e149941fbb934e4f987d96932d951c0f",
        "IPY_MODEL_77ab0142f46b414aad110f1a4395ef2a"
       ],
       "layout": "IPY_MODEL_dc413dc40fa441ae9c69a5b7eb159fcb"
      }
     },
     "22e5857c7f174c4bb09f8bf906e32ae6": {
      "model_module": "@jupyter-widgets/controls",
      "model_module_version": "1.5.0",
      "model_name": "CheckboxModel",
      "state": {
       "description": "Unspecified Depressive Disorder",
       "disabled": false,
       "layout": "IPY_MODEL_e3de02f6b08a4f4eb34bbc2f859509b0",
       "style": "IPY_MODEL_7f0b63d3c8e24410975352061007447f",
       "value": false
      }
     },
     "23078eeb7caf467ab0fc571352eaa1f3": {
      "model_module": "@jupyter-widgets/output",
      "model_module_version": "1.0.0",
      "model_name": "OutputModel",
      "state": {
       "layout": "IPY_MODEL_04ab2a934c7b44db80393b6287502f03",
       "outputs": [
        {
         "name": "stdout",
         "output_type": "stream",
         "text": "\nLabs and Studies:\nNone currently on file.\n\n"
        }
       ]
      }
     },
     "235f95dc5fdc48fd875e9f52588d0ab0": {
      "model_module": "@jupyter-widgets/controls",
      "model_module_version": "1.5.0",
      "model_name": "VBoxModel",
      "state": {
       "_dom_classes": [
        "widget-interact"
       ],
       "children": [
        "IPY_MODEL_6b58c34fc290495798176ed114f393ff",
        "IPY_MODEL_22ada1e207af4712a8b13c7b907eba25",
        "IPY_MODEL_5213b90f0c0b4d77be53efb850fe8fa9",
        "IPY_MODEL_61f83e288af94f598ac563645c04e83d",
        "IPY_MODEL_505d1ddf665349f3b5d6a089ed64743f",
        "IPY_MODEL_390be066dcaf4c6a99260217f6ec6ea0",
        "IPY_MODEL_acb2307751864c3cbab497d599114e87"
       ],
       "layout": "IPY_MODEL_c05a3fd6e642408796b22969bf09cc46"
      }
     },
     "2372100ae1a6483ba9e16e17d21880ae": {
      "model_module": "@jupyter-widgets/controls",
      "model_module_version": "1.5.0",
      "model_name": "TextareaModel",
      "state": {
       "description": "notes",
       "layout": "IPY_MODEL_5259318fb468446090efdf421640f15f",
       "style": "IPY_MODEL_dea760f700104b7e9a461326656bf8e1"
      }
     },
     "2373209cea6e4bae937776ef806825f5": {
      "model_module": "@jupyter-widgets/base",
      "model_module_version": "1.2.0",
      "model_name": "LayoutModel",
      "state": {}
     },
     "23740e27bd6544f4bd613be5763acbee": {
      "model_module": "@jupyter-widgets/base",
      "model_module_version": "1.2.0",
      "model_name": "LayoutModel",
      "state": {}
     },
     "23a40d5828fb486a967cdc7e32857b98": {
      "model_module": "@jupyter-widgets/controls",
      "model_module_version": "1.5.0",
      "model_name": "TextareaModel",
      "state": {
       "description": "notes",
       "layout": "IPY_MODEL_fa9ec4f225bc40b29e03b63fcbcbd3db",
       "style": "IPY_MODEL_8498143d9dcc4219b06cf30fb6f4d05b"
      }
     },
     "23a4cf3bfddf47728232276c71ba3e2b": {
      "model_module": "@jupyter-widgets/base",
      "model_module_version": "1.2.0",
      "model_name": "LayoutModel",
      "state": {}
     },
     "23a50b0c323d44138b41dddb2bdb6ab5": {
      "model_module": "@jupyter-widgets/controls",
      "model_module_version": "1.5.0",
      "model_name": "DropdownModel",
      "state": {
       "_options_labels": [
        "Silicon Beach",
        "Momentum",
        "Create Recovery Center",
        "Casablanca"
       ],
       "description": "treatment_center:",
       "index": 0,
       "layout": "IPY_MODEL_2b912b45398f411aac9065e099287a33",
       "style": "IPY_MODEL_0ef1435919ae498fa9ada0f125f44fc5"
      }
     },
     "23d2e89792f14a428575e111443c6026": {
      "model_module": "@jupyter-widgets/controls",
      "model_module_version": "1.5.0",
      "model_name": "DropdownModel",
      "state": {
       "_options_labels": [
        "days",
        "months",
        "years"
       ],
       "description": "sober_period",
       "index": 0,
       "layout": "IPY_MODEL_f3ab830ad14c40bcb60503d19e5f9870",
       "style": "IPY_MODEL_7db1cbcc969f4d38a873dab232bd8447"
      }
     },
     "23e2b75a330d4670beb3c9d860c10dc4": {
      "model_module": "@jupyter-widgets/controls",
      "model_module_version": "1.5.0",
      "model_name": "TextareaModel",
      "state": {
       "description": "family",
       "layout": "IPY_MODEL_5259318fb468446090efdf421640f15f",
       "style": "IPY_MODEL_e15a00c3a3674afd9e3b23a42b4f5a50",
       "value": "Denies family history of mental illness"
      }
     },
     "2406b966762c442f9608a682707e9284": {
      "model_module": "@jupyter-widgets/controls",
      "model_module_version": "1.5.0",
      "model_name": "VBoxModel",
      "state": {
       "_dom_classes": [
        "widget-interact"
       ],
       "children": [
        "IPY_MODEL_f99a263702f846cf8fad255fd196de26",
        "IPY_MODEL_c446d8674e7d4f84add60f97a1337d86"
       ],
       "layout": "IPY_MODEL_df2cd603eab2480ba30e5a2a79cf9f89"
      }
     },
     "2430c28f2e6a433e81290b1441b5dd6d": {
      "model_module": "@jupyter-widgets/controls",
      "model_module_version": "1.5.0",
      "model_name": "DescriptionStyleModel",
      "state": {
       "description_width": "150px"
      }
     },
     "24595b87896442a3b0ceb2079c999dd8": {
      "model_module": "@jupyter-widgets/controls",
      "model_module_version": "1.5.0",
      "model_name": "DescriptionStyleModel",
      "state": {
       "description_width": ""
      }
     },
     "245fcec3ef8041fa9f0376517d290497": {
      "model_module": "@jupyter-widgets/base",
      "model_module_version": "1.2.0",
      "model_name": "LayoutModel",
      "state": {}
     },
     "246dfdf6ee684a198e02590b15d6d3c2": {
      "model_module": "@jupyter-widgets/controls",
      "model_module_version": "1.5.0",
      "model_name": "DescriptionStyleModel",
      "state": {
       "description_width": "150px"
      }
     },
     "248d53c920054a53a140b4c49dfeeb8b": {
      "model_module": "@jupyter-widgets/controls",
      "model_module_version": "1.5.0",
      "model_name": "DescriptionStyleModel",
      "state": {
       "description_width": ""
      }
     },
     "2496f288ab6b42de97b15791a8cd1c68": {
      "model_module": "@jupyter-widgets/controls",
      "model_module_version": "1.5.0",
      "model_name": "DescriptionStyleModel",
      "state": {
       "description_width": ""
      }
     },
     "24ce6279cd8146f39e34d446d3f1e12e": {
      "model_module": "@jupyter-widgets/controls",
      "model_module_version": "1.5.0",
      "model_name": "CheckboxModel",
      "state": {
       "description": "cannabis",
       "disabled": false,
       "layout": "IPY_MODEL_60d144b387a24b69b9a832eab0046eb9",
       "style": "IPY_MODEL_e43930686bc8489dab7b85bb5a8722b9",
       "value": false
      }
     },
     "25089347c392475aa555cff91c586e40": {
      "model_module": "@jupyter-widgets/controls",
      "model_module_version": "1.5.0",
      "model_name": "TextareaModel",
      "state": {
       "description": "pcp plan:",
       "layout": "IPY_MODEL_3eccd885a94f46858761d42c9e272b5d",
       "placeholder": "Type something",
       "style": "IPY_MODEL_dec66864844440af82ced14ebf7cc20b",
       "value": "3. Medical and Lab: Per PCP. Patient encouraged to establish care with local PCP for routine physical and baseline labs."
      }
     },
     "250cc47279684562913383eb7aef59b0": {
      "model_module": "@jupyter-widgets/output",
      "model_module_version": "1.0.0",
      "model_name": "OutputModel",
      "state": {
       "layout": "IPY_MODEL_aeee777d054344d6b5e725dcf8284204",
       "outputs": [
        {
         "name": "stdout",
         "output_type": "stream",
         "text": "\nThe patient denies that they have sustained significant trauma, \ndenies current symptoms of PTSD including flashbacks, nightmares, hypervigilance, triggers, \nand avoidance of triggers.\n\n\n"
        }
       ]
      }
     },
     "25169d6fdfea43b49fd4d342188300b9": {
      "model_module": "@jupyter-widgets/controls",
      "model_module_version": "1.5.0",
      "model_name": "BoundedIntTextModel",
      "state": {
       "description": "Age:",
       "layout": "IPY_MODEL_6ff833c95c234fb0b958a6311455cdb8",
       "max": 200,
       "style": "IPY_MODEL_0dc67f48be53491db4f5ba8fa0b257a4",
       "value": 18
      }
     },
     "25182c1a86ab4ea1b680a926d88ae05f": {
      "model_module": "@jupyter-widgets/output",
      "model_module_version": "1.0.0",
      "model_name": "OutputModel",
      "state": {
       "layout": "IPY_MODEL_4339cb8e39fb4505a24b95525172ef8e",
       "outputs": [
        {
         "name": "stdout",
         "output_type": "stream",
         "text": "\nSubstance Use History:\nThe patient states that their primary substances of abuse include\nnothing with daily use for periods greater than \n6 months with resulting impairment in functioning. \nThey state that they have been in residential treatment 3 times, \nwith their longest period of sobriety lasting 5 weeks. \nThe patient denies history of IVDU. \nPatient denies seizures, complicated withdrawal, and DTs.\nlotta drugs\n    \n"
        }
       ]
      }
     },
     "25302ccb5ed54285805a971ea35abd2f": {
      "model_module": "@jupyter-widgets/controls",
      "model_module_version": "1.5.0",
      "model_name": "DescriptionStyleModel",
      "state": {
       "description_width": "150px"
      }
     },
     "254095aeb32047468726b8286e22d543": {
      "model_module": "@jupyter-widgets/controls",
      "model_module_version": "1.5.0",
      "model_name": "DescriptionStyleModel",
      "state": {
       "description_width": ""
      }
     },
     "254e5e92e0074113ae157ab606171ed9": {
      "model_module": "@jupyter-widgets/controls",
      "model_module_version": "1.5.0",
      "model_name": "DropdownModel",
      "state": {
       "_options_labels": [
        "declines",
        "is amenable with"
       ],
       "description": "med_adjust",
       "index": 1,
       "layout": "IPY_MODEL_ecfa8b2075df48d78b3e743fdae50eff",
       "style": "IPY_MODEL_c371f9d7aa1f4beeb93cc19ac6c9c08b"
      }
     },
     "2567b3f556724304bc3cdc3765b98f47": {
      "model_module": "@jupyter-widgets/controls",
      "model_module_version": "1.5.0",
      "model_name": "DescriptionStyleModel",
      "state": {
       "description_width": ""
      }
     },
     "258b1ee20d724c9ca0623bee4e7b077f": {
      "model_module": "@jupyter-widgets/base",
      "model_module_version": "1.2.0",
      "model_name": "LayoutModel",
      "state": {}
     },
     "25a1e7e41a09454383cee779027f2cc2": {
      "model_module": "@jupyter-widgets/controls",
      "model_module_version": "1.5.0",
      "model_name": "DescriptionStyleModel",
      "state": {
       "description_width": ""
      }
     },
     "25b165d14dad410ab4fa6466dcf1d886": {
      "model_module": "@jupyter-widgets/base",
      "model_module_version": "1.2.0",
      "model_name": "LayoutModel",
      "state": {}
     },
     "25b272db56924f4bb27f0c31619e3f72": {
      "model_module": "@jupyter-widgets/base",
      "model_module_version": "1.2.0",
      "model_name": "LayoutModel",
      "state": {}
     },
     "26242f7b72b441da88fe07417891a69b": {
      "model_module": "@jupyter-widgets/controls",
      "model_module_version": "1.5.0",
      "model_name": "DropdownModel",
      "state": {
       "_options_labels": [
        "a history",
        "no history"
       ],
       "description": "psychosis",
       "index": 1,
       "layout": "IPY_MODEL_64f3493d9e7e4cd79d693795fcd61555",
       "style": "IPY_MODEL_ad2be4c8c58f48b68c450f8370ce8e75"
      }
     },
     "2647eb9b5b9d4e24957e5ea05d715ee3": {
      "model_module": "@jupyter-widgets/controls",
      "model_module_version": "1.5.0",
      "model_name": "HBoxModel",
      "state": {
       "children": [
        "IPY_MODEL_f253792eee6d492ebd14c1ac0d263473",
        "IPY_MODEL_88ea468fe2234d4b98da4e77ee46599d"
       ],
       "layout": "IPY_MODEL_3c7fa67791ef48659e8ac9b29afa1aed"
      }
     },
     "265699a307f94e2e8c1e83052274bdf1": {
      "model_module": "@jupyter-widgets/controls",
      "model_module_version": "1.5.0",
      "model_name": "DescriptionStyleModel",
      "state": {
       "description_width": ""
      }
     },
     "266ed68868d64554b90127a3ea01f69d": {
      "model_module": "@jupyter-widgets/base",
      "model_module_version": "1.2.0",
      "model_name": "LayoutModel",
      "state": {}
     },
     "26944d47b6e6468eaab60f8c346b47f4": {
      "model_module": "@jupyter-widgets/base",
      "model_module_version": "1.2.0",
      "model_name": "LayoutModel",
      "state": {}
     },
     "26db885e82f641909681cbd75f3bb698": {
      "model_module": "@jupyter-widgets/controls",
      "model_module_version": "1.5.0",
      "model_name": "DescriptionStyleModel",
      "state": {
       "description_width": "150px"
      }
     },
     "26e809260d794c3289bb3d131b4e5e6e": {
      "model_module": "@jupyter-widgets/controls",
      "model_module_version": "1.5.0",
      "model_name": "DescriptionStyleModel",
      "state": {
       "description_width": "150px"
      }
     },
     "270521cb79964511a5dbbb46bf6b0a79": {
      "model_module": "@jupyter-widgets/controls",
      "model_module_version": "1.5.0",
      "model_name": "DescriptionStyleModel",
      "state": {
       "description_width": ""
      }
     },
     "270a49bb4f31425cb3c067c61e0ef918": {
      "model_module": "@jupyter-widgets/controls",
      "model_module_version": "1.5.0",
      "model_name": "DropdownModel",
      "state": {
       "_options_labels": [
        "declines",
        "elects to start",
        "would like to continue with"
       ],
       "description": "anti_cravings_choice",
       "index": 0,
       "layout": "IPY_MODEL_f3ab830ad14c40bcb60503d19e5f9870",
       "style": "IPY_MODEL_27d5bdfc8b6845adb11bd5d2a7b2bcd7"
      }
     },
     "270b8b2a5d4e497199996ca210e83379": {
      "model_module": "@jupyter-widgets/base",
      "model_module_version": "1.2.0",
      "model_name": "LayoutModel",
      "state": {}
     },
     "271aacec78fa49cab796b805c056682a": {
      "model_module": "@jupyter-widgets/controls",
      "model_module_version": "1.5.0",
      "model_name": "DescriptionStyleModel",
      "state": {
       "description_width": ""
      }
     },
     "27612b302fe44d50b8de2fdc97ece35b": {
      "model_module": "@jupyter-widgets/controls",
      "model_module_version": "1.5.0",
      "model_name": "CheckboxModel",
      "state": {
       "description": "polysubstance",
       "disabled": false,
       "layout": "IPY_MODEL_036b8c98430a4ca082e847dbb56ab1be",
       "style": "IPY_MODEL_da2060c50a0e4b3da4bbaddb8eaf0aa9",
       "value": false
      }
     },
     "2768bbf707684a3d97606b1edf5161a0": {
      "model_module": "@jupyter-widgets/controls",
      "model_module_version": "1.5.0",
      "model_name": "TextareaModel",
      "state": {
       "description": "negative_impact",
       "layout": "IPY_MODEL_ecfa8b2075df48d78b3e743fdae50eff",
       "placeholder": "Type Something",
       "style": "IPY_MODEL_92c4de2c98494205982bcc5e74813d70",
       "value": "\"lost my job\"."
      }
     },
     "2768d91b55344f6baf08f9dce42cd9a4": {
      "model_module": "@jupyter-widgets/controls",
      "model_module_version": "1.5.0",
      "model_name": "DescriptionStyleModel",
      "state": {
       "description_width": "150px"
      }
     },
     "276cbf7cd23a4016adc36786c55795af": {
      "model_module": "@jupyter-widgets/controls",
      "model_module_version": "1.5.0",
      "model_name": "VBoxModel",
      "state": {
       "children": [
        "IPY_MODEL_bffc74f9ae344dc6bf44d72ac5aec295",
        "IPY_MODEL_cdbf6662b52546f2b1dbceee2014096c",
        "IPY_MODEL_c1cca2fe2c654f889e3be0e7faa25ec2"
       ],
       "layout": "IPY_MODEL_8b3c2baf3f1f46f497808107008c4cac"
      }
     },
     "27932aa66fbd496ca5bf22aa1136be10": {
      "model_module": "@jupyter-widgets/controls",
      "model_module_version": "1.5.0",
      "model_name": "DescriptionStyleModel",
      "state": {
       "description_width": ""
      }
     },
     "279581f073504f94b8d74c17fa597c2e": {
      "model_module": "@jupyter-widgets/base",
      "model_module_version": "1.2.0",
      "model_name": "LayoutModel",
      "state": {}
     },
     "27aa8d05f60e4ed6b4fb624f53a123f2": {
      "model_module": "@jupyter-widgets/output",
      "model_module_version": "1.0.0",
      "model_name": "OutputModel",
      "state": {
       "layout": "IPY_MODEL_8e4e3e7739f04f64b346d76d23132fb2",
       "outputs": [
        {
         "name": "stdout",
         "output_type": "stream",
         "text": "\nMedical History:\nThe patient denies any acute medical conditions. \nThe patient denies any history of HIV. \nThe patient denies any history of hepatitis.\nThe patient denies any history of TBI.\n\n\n"
        }
       ]
      }
     },
     "27b382976ac04e1e93e906c42070c88d": {
      "model_module": "@jupyter-widgets/controls",
      "model_module_version": "1.5.0",
      "model_name": "VBoxModel",
      "state": {
       "_dom_classes": [
        "widget-interact"
       ],
       "children": [
        "IPY_MODEL_6d235a5ddf6e4ad39de45f0c1139935e",
        "IPY_MODEL_7f2d31e6067549979969bbf9725b732b",
        "IPY_MODEL_328d86e93a124d14a2cb4afef47c2595",
        "IPY_MODEL_850ed69d8aee4a889e82d3868f959bea"
       ],
       "layout": "IPY_MODEL_b5b9caae344f4907873cf000baa3baaa"
      }
     },
     "27cd9c1fa58f49d9802cf90ae35caf79": {
      "model_module": "@jupyter-widgets/controls",
      "model_module_version": "1.5.0",
      "model_name": "TextareaModel",
      "state": {
       "description": "notes",
       "layout": "IPY_MODEL_64f3493d9e7e4cd79d693795fcd61555",
       "style": "IPY_MODEL_0b98b175ce504db78f887f00d571966c"
      }
     },
     "27d5bdfc8b6845adb11bd5d2a7b2bcd7": {
      "model_module": "@jupyter-widgets/controls",
      "model_module_version": "1.5.0",
      "model_name": "DescriptionStyleModel",
      "state": {
       "description_width": "150px"
      }
     },
     "27daa90c10b84550bb4f8a4fd119476e": {
      "model_module": "@jupyter-widgets/controls",
      "model_module_version": "1.5.0",
      "model_name": "VBoxModel",
      "state": {
       "children": [
        "IPY_MODEL_a42b1665a93b459297b9d554a0f96bf3",
        "IPY_MODEL_51f48dfbcfd6450d9fc3d51c28789e00",
        "IPY_MODEL_f22830a3ef6f4d85be778974ced726e4",
        "IPY_MODEL_bb3f17068a5c486ca3e20e4fe6ab485f"
       ],
       "layout": "IPY_MODEL_4930b0c08a634bac8bf4a27f94910a9b"
      }
     },
     "27ef9ddbfc824caebd8308e282b88c82": {
      "model_module": "@jupyter-widgets/controls",
      "model_module_version": "1.5.0",
      "model_name": "DescriptionStyleModel",
      "state": {
       "description_width": "150px"
      }
     },
     "27f8f796592840188682d932a29dc02a": {
      "model_module": "@jupyter-widgets/base",
      "model_module_version": "1.2.0",
      "model_name": "LayoutModel",
      "state": {}
     },
     "281899131288430d9d26ecd5c27b1b7b": {
      "model_module": "@jupyter-widgets/base",
      "model_module_version": "1.2.0",
      "model_name": "LayoutModel",
      "state": {}
     },
     "2820adfe2c1948819e087f544d1c8f03": {
      "model_module": "@jupyter-widgets/controls",
      "model_module_version": "1.5.0",
      "model_name": "DescriptionStyleModel",
      "state": {
       "description_width": ""
      }
     },
     "28311f93c006492e8bd785c59ed0bc10": {
      "model_module": "@jupyter-widgets/controls",
      "model_module_version": "1.5.0",
      "model_name": "ComboboxModel",
      "state": {
       "description": "med_statement",
       "ensure_option": false,
       "layout": "IPY_MODEL_fa9ec4f225bc40b29e03b63fcbcbd3db",
       "options": [
        "Patient declines psychotropic medication and elects for more conservative approaches to psychiatric symptom management at this time."
       ],
       "style": "IPY_MODEL_26db885e82f641909681cbd75f3bb698",
       "value": "Patient declines psychotropic medication and elects for more conservative approaches to psychiatric symptom management at this time."
      }
     },
     "2839fdc67f844410a13cf67c5dd2a0c8": {
      "model_module": "@jupyter-widgets/controls",
      "model_module_version": "1.5.0",
      "model_name": "DropdownModel",
      "state": {
       "_options_labels": [
        "denies",
        "endorses"
       ],
       "description": "physical_anxiety",
       "index": 0,
       "layout": "IPY_MODEL_fa9ec4f225bc40b29e03b63fcbcbd3db",
       "style": "IPY_MODEL_7c95b43b563d45e4a73dec88e7e18e52"
      }
     },
     "284bfc6e5ef64054bb155b778581add5": {
      "model_module": "@jupyter-widgets/controls",
      "model_module_version": "1.5.0",
      "model_name": "VBoxModel",
      "state": {
       "children": [
        "IPY_MODEL_70b83a51cfae47d3932a657c4d3a20c9",
        "IPY_MODEL_a59367994c2548a9a8cb73cc59a573de",
        "IPY_MODEL_f06e33a33d0d42a7bf22969884cfb997",
        "IPY_MODEL_f601ee5263844d45bcd0da187c232e68",
        "IPY_MODEL_bba1d048b9aa41daa46ccdd7b18dca19",
        "IPY_MODEL_fa4410919b3d4fdd972d0a9ef10534d9",
        "IPY_MODEL_b3988c59c43a4ea2ad64b952612ad5ec",
        "IPY_MODEL_03dbd25a498446ce97294ab7047354bb",
        "IPY_MODEL_6d9573860cd746129a714483b1f886bf",
        "IPY_MODEL_8b29af0f96ed4ce4962372339e9b04da"
       ],
       "layout": "IPY_MODEL_0de43ab9c1e14923b80a8928ac67e717"
      }
     },
     "288032e7a62b436bb2835619f499d7e2": {
      "model_module": "@jupyter-widgets/controls",
      "model_module_version": "1.5.0",
      "model_name": "CheckboxModel",
      "state": {
       "description": "Unspecified Depressive Disorder",
       "disabled": false,
       "layout": "IPY_MODEL_180a893e2c0c43e0939f73f63f63601f",
       "style": "IPY_MODEL_dd2b5fcdc32e44f88c1cb869e1dc7417",
       "value": false
      }
     },
     "288ef4ddc8504a9db79a38c2f3a1cbfd": {
      "model_module": "@jupyter-widgets/controls",
      "model_module_version": "1.5.0",
      "model_name": "DescriptionStyleModel",
      "state": {
       "description_width": "150px"
      }
     },
     "28900fa8e00f4f72af75255af8615d0c": {
      "model_module": "@jupyter-widgets/controls",
      "model_module_version": "1.5.0",
      "model_name": "VBoxModel",
      "state": {
       "_dom_classes": [
        "widget-interact"
       ],
       "children": [
        "IPY_MODEL_2839fdc67f844410a13cf67c5dd2a0c8",
        "IPY_MODEL_4929dac7fb0c4992a6a9c4d3d01474f1",
        "IPY_MODEL_09cf38d719e24999bec1c481a9468390",
        "IPY_MODEL_38089277357249d6beda07d3b0a3a480"
       ],
       "layout": "IPY_MODEL_bf0f559428f24cc1babe40821b426a19"
      }
     },
     "2892c7ca407d40c4ab7ff63b50868a37": {
      "model_module": "@jupyter-widgets/controls",
      "model_module_version": "1.5.0",
      "model_name": "DescriptionStyleModel",
      "state": {
       "description_width": "150px"
      }
     },
     "2892e82b416e4a7f96209e470da4a1e4": {
      "model_module": "@jupyter-widgets/controls",
      "model_module_version": "1.5.0",
      "model_name": "DescriptionStyleModel",
      "state": {
       "description_width": "150px"
      }
     },
     "2897581d05a44eb0bfd4cabd54c998a6": {
      "model_module": "@jupyter-widgets/controls",
      "model_module_version": "1.5.0",
      "model_name": "DescriptionStyleModel",
      "state": {
       "description_width": ""
      }
     },
     "2898921cde594b3c9c4037a80c0c546d": {
      "model_module": "@jupyter-widgets/base",
      "model_module_version": "1.2.0",
      "model_name": "LayoutModel",
      "state": {}
     },
     "28b9dd1f596d44f5bb6978fb1ada9c4c": {
      "model_module": "@jupyter-widgets/output",
      "model_module_version": "1.0.0",
      "model_name": "OutputModel",
      "state": {
       "layout": "IPY_MODEL_532f69a981f6461e975d86afc2c67b13",
       "outputs": [
        {
         "name": "stdout",
         "output_type": "stream",
         "text": "\nThe patient denies that they have sustained significant trauma, \ndenies current symptoms of PTSD including flashbacks, nightmares, hypervigilance, triggers, \nand avoidance of triggers.\n\n\n"
        }
       ]
      }
     },
     "28c0899083b3424b85761990fa8680f7": {
      "model_module": "@jupyter-widgets/base",
      "model_module_version": "1.2.0",
      "model_name": "LayoutModel",
      "state": {}
     },
     "28fb193156964801926b9d709f041181": {
      "model_module": "@jupyter-widgets/controls",
      "model_module_version": "1.5.0",
      "model_name": "DescriptionStyleModel",
      "state": {
       "description_width": "150px"
      }
     },
     "294c8d7b67fe41448235396aa320a61a": {
      "model_module": "@jupyter-widgets/controls",
      "model_module_version": "1.5.0",
      "model_name": "DescriptionStyleModel",
      "state": {
       "description_width": ""
      }
     },
     "299456447c3c4c7184b23c9e5ed6bd03": {
      "model_module": "@jupyter-widgets/controls",
      "model_module_version": "1.5.0",
      "model_name": "DescriptionStyleModel",
      "state": {
       "description_width": ""
      }
     },
     "29a127b40f66471db5d6ccbed482e17d": {
      "model_module": "@jupyter-widgets/controls",
      "model_module_version": "1.5.0",
      "model_name": "DescriptionStyleModel",
      "state": {
       "description_width": "150px"
      }
     },
     "29aa94cca10a454eb2257d6dc8781b1b": {
      "model_module": "@jupyter-widgets/base",
      "model_module_version": "1.2.0",
      "model_name": "LayoutModel",
      "state": {}
     },
     "29b0bd60dd834a9896cb162ac6f17855": {
      "model_module": "@jupyter-widgets/controls",
      "model_module_version": "1.5.0",
      "model_name": "DescriptionStyleModel",
      "state": {
       "description_width": ""
      }
     },
     "29d51eb58c5241d4b6fc3332640d6afb": {
      "model_module": "@jupyter-widgets/controls",
      "model_module_version": "1.5.0",
      "model_name": "CheckboxModel",
      "state": {
       "description": "adhd",
       "disabled": false,
       "layout": "IPY_MODEL_e571a40ad6764327bbc2c46ce72aefe3",
       "style": "IPY_MODEL_4376cd230cfb43f7bd96555e9ac4ed43",
       "value": false
      }
     },
     "29e6601b8eb442b38eaaa4d6e217f202": {
      "model_module": "@jupyter-widgets/base",
      "model_module_version": "1.2.0",
      "model_name": "LayoutModel",
      "state": {}
     },
     "2a01682758ee4a87bf3f37e4aae995fd": {
      "model_module": "@jupyter-widgets/controls",
      "model_module_version": "1.5.0",
      "model_name": "DescriptionStyleModel",
      "state": {
       "description_width": "150px"
      }
     },
     "2a1e722f1a344476a7c71e251b6d8a64": {
      "model_module": "@jupyter-widgets/base",
      "model_module_version": "1.2.0",
      "model_name": "LayoutModel",
      "state": {}
     },
     "2a4f364b75664622b1805e04e1f148c3": {
      "model_module": "@jupyter-widgets/base",
      "model_module_version": "1.2.0",
      "model_name": "LayoutModel",
      "state": {}
     },
     "2a77c03c5e054f6e9867923ee381fe76": {
      "model_module": "@jupyter-widgets/controls",
      "model_module_version": "1.5.0",
      "model_name": "DescriptionStyleModel",
      "state": {
       "description_width": "150px"
      }
     },
     "2a84e31fe87342848de8a7a684322090": {
      "model_module": "@jupyter-widgets/controls",
      "model_module_version": "1.5.0",
      "model_name": "DescriptionStyleModel",
      "state": {
       "description_width": "150px"
      }
     },
     "2a865556304f486c8b2f7ed3a7f5b5c5": {
      "model_module": "@jupyter-widgets/base",
      "model_module_version": "1.2.0",
      "model_name": "LayoutModel",
      "state": {}
     },
     "2a88f66fcb55433e8d675e0a3bd4736c": {
      "model_module": "@jupyter-widgets/controls",
      "model_module_version": "1.5.0",
      "model_name": "DropdownModel",
      "state": {
       "_options_labels": [
        "good",
        "fair",
        "poor"
       ],
       "description": "energy",
       "index": 1,
       "layout": "IPY_MODEL_fa9ec4f225bc40b29e03b63fcbcbd3db",
       "style": "IPY_MODEL_5b1269910c7f44349d75890a81b11392"
      }
     },
     "2a91f30546b34e7aa72f6e18197f2a0a": {
      "model_module": "@jupyter-widgets/base",
      "model_module_version": "1.2.0",
      "model_name": "LayoutModel",
      "state": {}
     },
     "2aef748b901e4e2ebc7d555565920ba4": {
      "model_module": "@jupyter-widgets/base",
      "model_module_version": "1.2.0",
      "model_name": "LayoutModel",
      "state": {}
     },
     "2b28c340b5ad4d868dbed64b87d3f7cd": {
      "model_module": "@jupyter-widgets/base",
      "model_module_version": "1.2.0",
      "model_name": "LayoutModel",
      "state": {}
     },
     "2b3777b7e7d14dffb8e93538128938e3": {
      "model_module": "@jupyter-widgets/controls",
      "model_module_version": "1.5.0",
      "model_name": "DescriptionStyleModel",
      "state": {
       "description_width": ""
      }
     },
     "2b5919b1e91f4c9f9f7de56f8218ed95": {
      "model_module": "@jupyter-widgets/controls",
      "model_module_version": "1.5.0",
      "model_name": "DropdownModel",
      "state": {
       "_options_labels": [
        "denies",
        "endorses"
       ],
       "description": "acute_medical",
       "index": 0,
       "layout": "IPY_MODEL_5259318fb468446090efdf421640f15f",
       "style": "IPY_MODEL_8e8e2efab65447f4b44a14a508536afd"
      }
     },
     "2b600027fbfb460b931a349ce5c8e7da": {
      "model_module": "@jupyter-widgets/base",
      "model_module_version": "1.2.0",
      "model_name": "LayoutModel",
      "state": {}
     },
     "2b7f582e086a4ee981f99901fdec73dd": {
      "model_module": "@jupyter-widgets/controls",
      "model_module_version": "1.5.0",
      "model_name": "VBoxModel",
      "state": {
       "_dom_classes": [
        "widget-interact"
       ],
       "children": [
        "IPY_MODEL_5fb910116de64ff1b796f65022545558",
        "IPY_MODEL_44cc9162153f4f7c9bb5dfff089246f2",
        "IPY_MODEL_be10873a62f044a58e4d5fcd457749dd",
        "IPY_MODEL_85cadcd16827419788c0e7ab0df6f5b5",
        "IPY_MODEL_67f0604dce3f40a588c9ac31d47cf7b1",
        "IPY_MODEL_c4c32df9adde4c65b3a06a30a5fbb879",
        "IPY_MODEL_482c782c8f1841de87bc4d73813acbe6",
        "IPY_MODEL_d5e91944b6b24b01b102627755b9c3ee",
        "IPY_MODEL_a863eb4b530941c8b7fd79e0621ee18c",
        "IPY_MODEL_e34c6bd82949410a9acac6a09f7d4ef8",
        "IPY_MODEL_9905d2d10f8a4ed2a21cbad3adbe8bba",
        "IPY_MODEL_bac45ad449b54951a4c576be8e56002b",
        "IPY_MODEL_e7ed8c53da91488cb9f99c26e569a10e"
       ],
       "layout": "IPY_MODEL_0c154430b9174eabb46820aadc6a86da"
      }
     },
     "2b8c9a01d92046d8877d3612702fd7b9": {
      "model_module": "@jupyter-widgets/controls",
      "model_module_version": "1.5.0",
      "model_name": "DropdownModel",
      "state": {
       "_options_labels": [
        "single",
        "married"
       ],
       "description": "married",
       "index": 0,
       "layout": "IPY_MODEL_57dff8c6f77e4aad88e092f42ad13209",
       "style": "IPY_MODEL_7481a7c58a39491f82f546ec8241b9e0"
      }
     },
     "2b912b45398f411aac9065e099287a33": {
      "model_module": "@jupyter-widgets/base",
      "model_module_version": "1.2.0",
      "model_name": "LayoutModel",
      "state": {}
     },
     "2bcc14c5183640d6b9ac83357c627d54": {
      "model_module": "@jupyter-widgets/output",
      "model_module_version": "1.0.0",
      "model_name": "OutputModel",
      "state": {
       "layout": "IPY_MODEL_7a485d9c7c3146468dee5ab129e9998b",
       "outputs": [
        {
         "name": "stdout",
         "output_type": "stream",
         "text": "\nThe patient reported a history of mania.\nThe patient reported a history of psychosis. \nThe patient reported no history of  learning disabilities, OCD or tics. \nThe patient reported no history of an eating disorder. \nThe patient reported no history of compulsive gambling, problematic internet/video game use, compulsive shopping, or sexual addiction. \nReports diagnosed with bipolar disorder in 2017, last manic episode june 2021. \n\n"
        }
       ]
      }
     },
     "2bf709eee0c942da8f66881fdd4bbfe7": {
      "model_module": "@jupyter-widgets/base",
      "model_module_version": "1.2.0",
      "model_name": "LayoutModel",
      "state": {}
     },
     "2c0de73dca05410bb158a2196c121627": {
      "model_module": "@jupyter-widgets/controls",
      "model_module_version": "1.5.0",
      "model_name": "DescriptionStyleModel",
      "state": {
       "description_width": "150px"
      }
     },
     "2c375a5d5d37495fb9fe6c342d59a4f7": {
      "model_module": "@jupyter-widgets/base",
      "model_module_version": "1.2.0",
      "model_name": "LayoutModel",
      "state": {}
     },
     "2c4bce41ab3e4161868bfe0dce5ca872": {
      "model_module": "@jupyter-widgets/controls",
      "model_module_version": "1.5.0",
      "model_name": "DropdownModel",
      "state": {
       "_options_labels": [
        "days",
        "weeks",
        "months",
        "years"
       ],
       "description": "longest_sober_period",
       "index": 1,
       "layout": "IPY_MODEL_ecfa8b2075df48d78b3e743fdae50eff",
       "style": "IPY_MODEL_35f1c97f7a274e28ad2622bc22a3327b"
      }
     },
     "2c67d6373b34408cb68680be202f59b4": {
      "model_module": "@jupyter-widgets/controls",
      "model_module_version": "1.5.0",
      "model_name": "DescriptionStyleModel",
      "state": {
       "description_width": "150px"
      }
     },
     "2c7c5d042e9144a5919dede03687cbf9": {
      "model_module": "@jupyter-widgets/base",
      "model_module_version": "1.2.0",
      "model_name": "LayoutModel",
      "state": {}
     },
     "2c9b0577584e443aa96abd4c3307b473": {
      "model_module": "@jupyter-widgets/controls",
      "model_module_version": "1.5.0",
      "model_name": "DropdownModel",
      "state": {
       "_options_labels": [
        "good",
        "fair",
        "poor"
       ],
       "description": "energy",
       "index": 1,
       "layout": "IPY_MODEL_57dff8c6f77e4aad88e092f42ad13209",
       "style": "IPY_MODEL_f23d5aaffde347f5a13a667cab65503a"
      }
     },
     "2cabecd6432f4f3bb8ad47ad98d01822": {
      "model_module": "@jupyter-widgets/controls",
      "model_module_version": "1.5.0",
      "model_name": "TextareaModel",
      "state": {
       "description": "primary_substances",
       "layout": "IPY_MODEL_5259318fb468446090efdf421640f15f",
       "style": "IPY_MODEL_749e4bdc10bb45deab03abf1d88fd9fd",
       "value": "nothing"
      }
     },
     "2d1f8700b4e646398fe819bf7ffc858e": {
      "model_module": "@jupyter-widgets/base",
      "model_module_version": "1.2.0",
      "model_name": "LayoutModel",
      "state": {}
     },
     "2d3b1b7a6f154569891c9ea3900233b3": {
      "model_module": "@jupyter-widgets/base",
      "model_module_version": "1.2.0",
      "model_name": "LayoutModel",
      "state": {}
     },
     "2d9474a689144820b8ac8ff21a69ad9f": {
      "model_module": "@jupyter-widgets/base",
      "model_module_version": "1.2.0",
      "model_name": "LayoutModel",
      "state": {}
     },
     "2db3213be7fe492b91f87577ad4150af": {
      "model_module": "@jupyter-widgets/controls",
      "model_module_version": "1.5.0",
      "model_name": "DescriptionStyleModel",
      "state": {
       "description_width": ""
      }
     },
     "2dced2f381cb4508b3dfa8b63ec830fc": {
      "model_module": "@jupyter-widgets/base",
      "model_module_version": "1.2.0",
      "model_name": "LayoutModel",
      "state": {}
     },
     "2dcf42b0fb3046ed857208ba8bd37b8a": {
      "model_module": "@jupyter-widgets/controls",
      "model_module_version": "1.5.0",
      "model_name": "DescriptionStyleModel",
      "state": {
       "description_width": ""
      }
     },
     "2de33bab9af84d9d840f3ddb0cfdfbb0": {
      "model_module": "@jupyter-widgets/controls",
      "model_module_version": "1.5.0",
      "model_name": "DescriptionStyleModel",
      "state": {
       "description_width": ""
      }
     },
     "2e1dc69ef2fc46d6a462ed479ff5589b": {
      "model_module": "@jupyter-widgets/controls",
      "model_module_version": "1.5.0",
      "model_name": "DescriptionStyleModel",
      "state": {
       "description_width": "150px"
      }
     },
     "2e35311e157c4687bddf7cfdc8c94975": {
      "model_module": "@jupyter-widgets/controls",
      "model_module_version": "1.5.0",
      "model_name": "DescriptionStyleModel",
      "state": {
       "description_width": "150px"
      }
     },
     "2e409530251345349a1cd19e7b0bd118": {
      "model_module": "@jupyter-widgets/controls",
      "model_module_version": "1.5.0",
      "model_name": "VBoxModel",
      "state": {
       "children": [
        "IPY_MODEL_27612b302fe44d50b8de2fdc97ece35b",
        "IPY_MODEL_bb76d1e3e3b84f3ba3c2b37a4badcb01",
        "IPY_MODEL_eef9c4f80d364912be22ad2d3471423f",
        "IPY_MODEL_7ed8ba99b1a2424aa09782b3c56e38fc",
        "IPY_MODEL_24ce6279cd8146f39e34d446d3f1e12e",
        "IPY_MODEL_60493fd3ca394b388cf15387c476f105",
        "IPY_MODEL_84271eb06877499da188cbda23c16c39",
        "IPY_MODEL_6face34645404c2782548300771f8f10",
        "IPY_MODEL_710e0737f60f4030aa60c0124d9c69c1",
        "IPY_MODEL_be92d1f2a9d146eda4a0ab7290f8f6db",
        "IPY_MODEL_30cce07d8872484b94ffeed6cdf56964",
        "IPY_MODEL_841210d37f6b4412a90e9ac6a6c6b92a",
        "IPY_MODEL_aff5c85727f34d93a820d7f0f4b6d643",
        "IPY_MODEL_c88754923f8947359357146ce4bb35b6"
       ],
       "layout": "IPY_MODEL_9afabba64ddc475bb5b19fe9242fb369"
      }
     },
     "2e46426f9c3845538e7fb1cb0821cb68": {
      "model_module": "@jupyter-widgets/base",
      "model_module_version": "1.2.0",
      "model_name": "LayoutModel",
      "state": {}
     },
     "2e50410baed642b6954522398581dd9b": {
      "model_module": "@jupyter-widgets/base",
      "model_module_version": "1.2.0",
      "model_name": "LayoutModel",
      "state": {}
     },
     "2e5dcf13bebb45f7a84bc5ad0ef58a97": {
      "model_module": "@jupyter-widgets/controls",
      "model_module_version": "1.5.0",
      "model_name": "DescriptionStyleModel",
      "state": {
       "description_width": "150px"
      }
     },
     "2e80a544cef949a3949b72536c79d482": {
      "model_module": "@jupyter-widgets/output",
      "model_module_version": "1.0.0",
      "model_name": "OutputModel",
      "state": {
       "layout": "IPY_MODEL_6cc5adae8c9946688acf29c935dbb71a",
       "outputs": [
        {
         "name": "stdout",
         "output_type": "stream",
         "text": "\nThe patient reported no history of mania.\nThe patient reported no history of psychosis. \nThe patient reported no history of  learning disabilities, OCD or tics. \nThe patient reported no history of an eating disorder. \nThe patient reported no history of compulsive gambling, problematic internet/video game use, compulsive shopping, or sexual addiction. \npsych diorders\n\n"
        }
       ]
      }
     },
     "2e9b81bcae924f4d8b3de99ea3717b45": {
      "model_module": "@jupyter-widgets/base",
      "model_module_version": "1.2.0",
      "model_name": "LayoutModel",
      "state": {}
     },
     "2f15cd806815425ea592cbff4e3a0bde": {
      "model_module": "@jupyter-widgets/controls",
      "model_module_version": "1.5.0",
      "model_name": "DescriptionStyleModel",
      "state": {
       "description_width": "150px"
      }
     },
     "2f1ce6495efe43dfa56d570c8e1aa019": {
      "model_module": "@jupyter-widgets/controls",
      "model_module_version": "1.5.0",
      "model_name": "DescriptionStyleModel",
      "state": {
       "description_width": "150px"
      }
     },
     "2f49b2acbfb14b0492578fb67191988e": {
      "model_module": "@jupyter-widgets/base",
      "model_module_version": "1.2.0",
      "model_name": "LayoutModel",
      "state": {}
     },
     "2f51eb7b56be4f63be4239879b25687d": {
      "model_module": "@jupyter-widgets/controls",
      "model_module_version": "1.5.0",
      "model_name": "DescriptionStyleModel",
      "state": {
       "description_width": ""
      }
     },
     "2fa7b94a3def40f89e46aecd1d3b665a": {
      "model_module": "@jupyter-widgets/controls",
      "model_module_version": "1.5.0",
      "model_name": "DescriptionStyleModel",
      "state": {
       "description_width": "150px"
      }
     },
     "2faef7e67733472b91f9a3e737edb892": {
      "model_module": "@jupyter-widgets/controls",
      "model_module_version": "1.5.0",
      "model_name": "CheckboxModel",
      "state": {
       "description": "heroin",
       "disabled": false,
       "layout": "IPY_MODEL_7850492cd4c54785a6eb1d07e89c693a",
       "style": "IPY_MODEL_4196d5d834814c81809fbd3531d85441",
       "value": false
      }
     },
     "2fc7bedd08a24023bec3461b8d462323": {
      "model_module": "@jupyter-widgets/controls",
      "model_module_version": "1.5.0",
      "model_name": "DropdownModel",
      "state": {
       "_options_labels": [
        "male",
        "female",
        "nb"
       ],
       "description": "gender:",
       "index": 1,
       "layout": "IPY_MODEL_39601c1d422443efbbf95f69d7d48835",
       "style": "IPY_MODEL_faed8596f8e64af9bad8c9759fccae2b"
      }
     },
     "2fd3b49bc57945fdbde8f0756951f67e": {
      "model_module": "@jupyter-widgets/base",
      "model_module_version": "1.2.0",
      "model_name": "LayoutModel",
      "state": {}
     },
     "2fd71364857c4530a3d39802cced6ead": {
      "model_module": "@jupyter-widgets/controls",
      "model_module_version": "1.5.0",
      "model_name": "DescriptionStyleModel",
      "state": {
       "description_width": "150px"
      }
     },
     "2ff117ff5b264945b2fceb2bfdf2a4ed": {
      "model_module": "@jupyter-widgets/controls",
      "model_module_version": "1.5.0",
      "model_name": "DescriptionStyleModel",
      "state": {
       "description_width": ""
      }
     },
     "30129189ec10427a8f3f1f5a521904ca": {
      "model_module": "@jupyter-widgets/controls",
      "model_module_version": "1.5.0",
      "model_name": "DescriptionStyleModel",
      "state": {
       "description_width": ""
      }
     },
     "3042652bb5b943aea056b39bfa2dd840": {
      "model_module": "@jupyter-widgets/controls",
      "model_module_version": "1.5.0",
      "model_name": "DescriptionStyleModel",
      "state": {
       "description_width": ""
      }
     },
     "304ec6f0a8ac4057b46229fb0ef54413": {
      "model_module": "@jupyter-widgets/controls",
      "model_module_version": "1.5.0",
      "model_name": "DropdownModel",
      "state": {
       "_options_labels": [
        "denies",
        "endorses"
       ],
       "description": "mania",
       "index": 0,
       "layout": "IPY_MODEL_64f3493d9e7e4cd79d693795fcd61555",
       "style": "IPY_MODEL_2e1dc69ef2fc46d6a462ed479ff5589b"
      }
     },
     "307be16c7d8e4f12b90af4be76366f15": {
      "model_module": "@jupyter-widgets/controls",
      "model_module_version": "1.5.0",
      "model_name": "CheckboxModel",
      "state": {
       "description": "no drug",
       "disabled": false,
       "layout": "IPY_MODEL_86844f905bf744aa880760a730871adf",
       "style": "IPY_MODEL_a5aafeedace64bb4b857a9d44896284d",
       "value": false
      }
     },
     "30821a7e7bb346b3af7b073133724753": {
      "model_module": "@jupyter-widgets/controls",
      "model_module_version": "1.5.0",
      "model_name": "DescriptionStyleModel",
      "state": {
       "description_width": ""
      }
     },
     "30aedbf448d04ce5acb4a148fd688050": {
      "model_module": "@jupyter-widgets/controls",
      "model_module_version": "1.5.0",
      "model_name": "TextareaModel",
      "state": {
       "description": "primary_substances",
       "layout": "IPY_MODEL_fa9ec4f225bc40b29e03b63fcbcbd3db",
       "style": "IPY_MODEL_8cb7361980bb466684e4666e7402d802",
       "value": "opioids"
      }
     },
     "30cce07d8872484b94ffeed6cdf56964": {
      "model_module": "@jupyter-widgets/controls",
      "model_module_version": "1.5.0",
      "model_name": "CheckboxModel",
      "state": {
       "description": "ketamine",
       "disabled": false,
       "layout": "IPY_MODEL_f8acaa37dcd5446eaa8ed0342fa2d0db",
       "style": "IPY_MODEL_2567b3f556724304bc3cdc3765b98f47",
       "value": false
      }
     },
     "30da40980b3e4143bfb416b970d5c68d": {
      "model_module": "@jupyter-widgets/base",
      "model_module_version": "1.2.0",
      "model_name": "LayoutModel",
      "state": {}
     },
     "30f0d166243245568e6066fa5514a09c": {
      "model_module": "@jupyter-widgets/controls",
      "model_module_version": "1.5.0",
      "model_name": "DescriptionStyleModel",
      "state": {
       "description_width": ""
      }
     },
     "30f0e978e31d414bb5adc8302e26d758": {
      "model_module": "@jupyter-widgets/base",
      "model_module_version": "1.2.0",
      "model_name": "LayoutModel",
      "state": {}
     },
     "30f45c1c6091472387e3f720bfe7a920": {
      "model_module": "@jupyter-widgets/controls",
      "model_module_version": "1.5.0",
      "model_name": "CheckboxModel",
      "state": {
       "description": "Bipolar I disorder",
       "disabled": false,
       "layout": "IPY_MODEL_7423e29d708d4c30af862f0a6d3c0f36",
       "style": "IPY_MODEL_0af57c0529c5489da2c653ba2a48f3c1",
       "value": false
      }
     },
     "30fd4100edde447bb4201cf83a4246e8": {
      "model_module": "@jupyter-widgets/controls",
      "model_module_version": "1.5.0",
      "model_name": "VBoxModel",
      "state": {
       "children": [
        "IPY_MODEL_dbd9650a2aeb415db8404a022b3df058",
        "IPY_MODEL_4e44e6f535bd406eae52f337eba0de20",
        "IPY_MODEL_1e193e7459fd4ac1bfc8f0ac8bc5b780",
        "IPY_MODEL_8ea134ec821a474fb6d7e79c1b5c5ff3",
        "IPY_MODEL_fdfca06106bf4200bc3b57aa783c0750",
        "IPY_MODEL_1bf0f45a909a48c182abb4b1dc7f3f69",
        "IPY_MODEL_5631fad79d3e42b88887cd9fb2f3fe0a",
        "IPY_MODEL_cae547b1b6f945638ec964ac9ff1c9a8",
        "IPY_MODEL_d53df8c7c73b4cadb4de82d7feb15959",
        "IPY_MODEL_c2b91a2c99e14390a838891aea8e3f0e"
       ],
       "layout": "IPY_MODEL_8ebf729747fc49148f1021df07194d4e"
      }
     },
     "30feb745a1844dceac23f345ffc306c8": {
      "model_module": "@jupyter-widgets/controls",
      "model_module_version": "1.5.0",
      "model_name": "TextModel",
      "state": {
       "description": "notes",
       "layout": "IPY_MODEL_fa9ec4f225bc40b29e03b63fcbcbd3db",
       "style": "IPY_MODEL_2c67d6373b34408cb68680be202f59b4",
       "value": "\"Cravings still come and go, I'd be open to anticraving medication.\""
      }
     },
     "3101098747dc485e8abccdbc8a9f5eba": {
      "model_module": "@jupyter-widgets/base",
      "model_module_version": "1.2.0",
      "model_name": "LayoutModel",
      "state": {}
     },
     "310fa700fa0c4dce843361a7e0845187": {
      "model_module": "@jupyter-widgets/controls",
      "model_module_version": "1.5.0",
      "model_name": "DescriptionStyleModel",
      "state": {
       "description_width": "150px"
      }
     },
     "31194952023945419100c3cdd79f9b47": {
      "model_module": "@jupyter-widgets/controls",
      "model_module_version": "1.5.0",
      "model_name": "DescriptionStyleModel",
      "state": {
       "description_width": "150px"
      }
     },
     "311cd3e7d39f46c0881bdd7b1cee68c3": {
      "model_module": "@jupyter-widgets/base",
      "model_module_version": "1.2.0",
      "model_name": "LayoutModel",
      "state": {}
     },
     "315a0b3c114c451ca5a57eab81e66735": {
      "model_module": "@jupyter-widgets/base",
      "model_module_version": "1.2.0",
      "model_name": "LayoutModel",
      "state": {}
     },
     "317ca1881199471ca9baa2a0fd0aac6f": {
      "model_module": "@jupyter-widgets/controls",
      "model_module_version": "1.5.0",
      "model_name": "TextareaModel",
      "state": {
       "description": "pcp plan:",
       "layout": "IPY_MODEL_e64d1f47482a4c61b64e375a0e3f342c",
       "placeholder": "Type something",
       "style": "IPY_MODEL_ca8328fe8df14a87bd78488a31a080a1",
       "value": "3. Medical and Lab: Per PCP. Patient encouraged to establish care with local PCP for routine physical and baseline labs."
      }
     },
     "31c5a18dc273460981d7220efcc76153": {
      "model_module": "@jupyter-widgets/output",
      "model_module_version": "1.0.0",
      "model_name": "OutputModel",
      "state": {
       "layout": "IPY_MODEL_f03623319d3a4da083f6428313e52b13",
       "outputs": [
        {
         "name": "stdout",
         "output_type": "stream",
         "text": "\nLabs and Studies:\nNone currently on file.\n\n"
        }
       ]
      }
     },
     "31d3d152f5774a74bcb81dddfbce3101": {
      "model_module": "@jupyter-widgets/controls",
      "model_module_version": "1.5.0",
      "model_name": "DescriptionStyleModel",
      "state": {
       "description_width": "150px"
      }
     },
     "31e252ba00624bc19224dbf431e8623a": {
      "model_module": "@jupyter-widgets/controls",
      "model_module_version": "1.5.0",
      "model_name": "DescriptionStyleModel",
      "state": {
       "description_width": ""
      }
     },
     "31e7bf889aca48f49dcc8f5097d63c36": {
      "model_module": "@jupyter-widgets/controls",
      "model_module_version": "1.5.0",
      "model_name": "DescriptionStyleModel",
      "state": {
       "description_width": ""
      }
     },
     "31f667834aa349f2b2e893564bb0414d": {
      "model_module": "@jupyter-widgets/controls",
      "model_module_version": "1.5.0",
      "model_name": "DescriptionStyleModel",
      "state": {
       "description_width": "150px"
      }
     },
     "31fdae0fc7f3447d920dd6716292c503": {
      "model_module": "@jupyter-widgets/output",
      "model_module_version": "1.0.0",
      "model_name": "OutputModel",
      "state": {
       "layout": "IPY_MODEL_7248f87176694e66963ce760714b514f",
       "outputs": [
        {
         "name": "stdout",
         "output_type": "stream",
         "text": "\nCurrent Medication:\nHydroxyzine 50 mg BID \nProzac 60 mg qd, 40 + 20 during menstrual- 4 years\nGabapentin 600mg BID\nClonidine 0.1 mg prn anxiety \nTrazodone 100-200mg qhs prn insomnia\n\nPatient reports that they have been compliant with their psychotropic medication regimen and denies adverse effects \nPatient is amenable with adjustments to their medication regimen.\n\n\n\n"
        }
       ]
      }
     },
     "3225225229f74208babefe6b3d52a15b": {
      "model_module": "@jupyter-widgets/controls",
      "model_module_version": "1.5.0",
      "model_name": "VBoxModel",
      "state": {
       "_dom_classes": [
        "widget-interact"
       ],
       "children": [
        "IPY_MODEL_923aecbd420d4036a12d9d2af20d3808",
        "IPY_MODEL_20edac18a228403390b98d36b4c46bab",
        "IPY_MODEL_e1f9f3f91dfb4ff4b7f0fb00f813c4e7",
        "IPY_MODEL_88cf8e5b0d384f8e9f97080a48687038",
        "IPY_MODEL_7640d971c588438a85dbe2f437770f2f",
        "IPY_MODEL_f6b39950293d478789864440e1781f5c",
        "IPY_MODEL_0038d8154f5c4d11aa99ea622a1382dd",
        "IPY_MODEL_ef4434f7993142ab9065ac5f0ef6aea8"
       ],
       "layout": "IPY_MODEL_7e9fd04e9db448b5b5c73c41c191fb5c"
      }
     },
     "3235550e58074c06a5a494bdac530b54": {
      "model_module": "@jupyter-widgets/base",
      "model_module_version": "1.2.0",
      "model_name": "LayoutModel",
      "state": {}
     },
     "3269c1c19a6b4a9d97f22a1f1c522435": {
      "model_module": "@jupyter-widgets/controls",
      "model_module_version": "1.5.0",
      "model_name": "DescriptionStyleModel",
      "state": {
       "description_width": "150px"
      }
     },
     "327120f9fd7a413ba2b6124dcffc1bde": {
      "model_module": "@jupyter-widgets/base",
      "model_module_version": "1.2.0",
      "model_name": "LayoutModel",
      "state": {}
     },
     "327c96e3c63d4744b11a082582ec91af": {
      "model_module": "@jupyter-widgets/controls",
      "model_module_version": "1.5.0",
      "model_name": "DropdownModel",
      "state": {
       "_options_labels": [
        "denies",
        "endorses"
       ],
       "description": "physical_anxiety",
       "index": 0,
       "layout": "IPY_MODEL_64f3493d9e7e4cd79d693795fcd61555",
       "style": "IPY_MODEL_82c0c8a243c04536ac02e78d8dd62242"
      }
     },
     "327ea5a9fb7546f88110e564a2bb4c40": {
      "model_module": "@jupyter-widgets/controls",
      "model_module_version": "1.5.0",
      "model_name": "DropdownModel",
      "state": {
       "_options_labels": [
        "denies",
        "endorses"
       ],
       "description": "hep_medical",
       "index": 0,
       "layout": "IPY_MODEL_57dff8c6f77e4aad88e092f42ad13209",
       "style": "IPY_MODEL_43d5262d67dd41e0bb5c533ef501d546"
      }
     },
     "328b5bf8162d43b9823d7cbad8f85324": {
      "model_module": "@jupyter-widgets/controls",
      "model_module_version": "1.5.0",
      "model_name": "VBoxModel",
      "state": {
       "children": [
        "IPY_MODEL_bc70a02cc99245528caeb4182d8f54e5",
        "IPY_MODEL_7e10450e7cba4332ad59fae20432663d",
        "IPY_MODEL_46fb82cb7f1f4604b86f943b963bc72f",
        "IPY_MODEL_106e58fae8574d48af8da8736d8c5bc4"
       ],
       "layout": "IPY_MODEL_d4887c6f15414508a5dd0327ac9cd229"
      }
     },
     "328d86e93a124d14a2cb4afef47c2595": {
      "model_module": "@jupyter-widgets/controls",
      "model_module_version": "1.5.0",
      "model_name": "TextareaModel",
      "state": {
       "description": "notes",
       "layout": "IPY_MODEL_5259318fb468446090efdf421640f15f",
       "style": "IPY_MODEL_e290b400623c48988855ef8ffdf28c0f"
      }
     },
     "32ad293377c24297b5cef1ab88317928": {
      "model_module": "@jupyter-widgets/controls",
      "model_module_version": "1.5.0",
      "model_name": "VBoxModel",
      "state": {
       "_dom_classes": [
        "widget-interact"
       ],
       "children": [
        "IPY_MODEL_d5051b38400f4b52a8520a3a41dc23f3",
        "IPY_MODEL_1d30bb25e4474ba2bbeb9f3a789fe3b4",
        "IPY_MODEL_8098d9c0c6114bf2b455e88cc94c7948",
        "IPY_MODEL_f9c903508a244870bb34bdb34e9aea4b",
        "IPY_MODEL_764e5ec638c7435796ee261d7016a278",
        "IPY_MODEL_aff05d9387b2401db3b1f4e68005956b",
        "IPY_MODEL_bce4133aa6b447f088d81f5c3634e9c8",
        "IPY_MODEL_c91c54e89c4c45bb87965704c2c4a391",
        "IPY_MODEL_6431303d1bb7441aaf5c40d34379ee9d"
       ],
       "layout": "IPY_MODEL_266ed68868d64554b90127a3ea01f69d"
      }
     },
     "32ba5e80360047fbb6264e42d65132ec": {
      "model_module": "@jupyter-widgets/output",
      "model_module_version": "1.0.0",
      "model_name": "OutputModel",
      "state": {
       "layout": "IPY_MODEL_5545a8b781574f6a80de82774efad70b",
       "outputs": [
        {
         "name": "stdout",
         "output_type": "stream",
         "text": "\nAllergies:\nPCN\n\n"
        }
       ]
      }
     },
     "330ab34edbaf41189df70bbf4e64cf2e": {
      "model_module": "@jupyter-widgets/base",
      "model_module_version": "1.2.0",
      "model_name": "LayoutModel",
      "state": {}
     },
     "3311310b93fe40a08b57f6b9ceaf02cb": {
      "model_module": "@jupyter-widgets/controls",
      "model_module_version": "1.5.0",
      "model_name": "DescriptionStyleModel",
      "state": {
       "description_width": "150px"
      }
     },
     "33255eb90675459f86081d5edf14513b": {
      "model_module": "@jupyter-widgets/controls",
      "model_module_version": "1.5.0",
      "model_name": "CheckboxModel",
      "state": {
       "description": "schizophrenia",
       "disabled": false,
       "layout": "IPY_MODEL_a24044a40ad04029bbac808d6bcd4861",
       "style": "IPY_MODEL_4980af1edff3424ba818ee54b130491b",
       "value": false
      }
     },
     "332c43e1b6f34d40991986fa4c6c2007": {
      "model_module": "@jupyter-widgets/controls",
      "model_module_version": "1.5.0",
      "model_name": "DropdownModel",
      "state": {
       "_options_labels": [
        "deny",
        "indicate"
       ],
       "description": "past_depression",
       "index": 1,
       "layout": "IPY_MODEL_f3ab830ad14c40bcb60503d19e5f9870",
       "style": "IPY_MODEL_61daa4b3bbef4b72a42df08da152a7f6"
      }
     },
     "33496fb638b54d4fb39d1b6e9d4f9f0e": {
      "model_module": "@jupyter-widgets/controls",
      "model_module_version": "1.5.0",
      "model_name": "DescriptionStyleModel",
      "state": {
       "description_width": "150px"
      }
     },
     "334d414086d04adfb7e0c58ba1359ec0": {
      "model_module": "@jupyter-widgets/controls",
      "model_module_version": "1.5.0",
      "model_name": "VBoxModel",
      "state": {
       "_dom_classes": [
        "widget-interact"
       ],
       "children": [
        "IPY_MODEL_865d8159a7c04af8bb119b16d73f1e2f",
        "IPY_MODEL_770c1edb046d4156adbdcf78e9c3aea3",
        "IPY_MODEL_f0c03a9eeee44b47b529968ff3597452",
        "IPY_MODEL_250cc47279684562913383eb7aef59b0"
       ],
       "layout": "IPY_MODEL_9cb76e5f54d44a1abd51e84d325b339c"
      }
     },
     "33590582c6404f3d9f6e06d3dcb55175": {
      "model_module": "@jupyter-widgets/controls",
      "model_module_version": "1.5.0",
      "model_name": "DropdownModel",
      "state": {
       "_options_labels": [
        "a history",
        "no history"
       ],
       "description": "psychosis",
       "index": 1,
       "layout": "IPY_MODEL_5259318fb468446090efdf421640f15f",
       "style": "IPY_MODEL_cef77578efa94b178fb75ed78e87022d"
      }
     },
     "336359b2187240c8a31b7ea2827785be": {
      "model_module": "@jupyter-widgets/controls",
      "model_module_version": "1.5.0",
      "model_name": "DropdownModel",
      "state": {
       "_options_labels": [
        "denies",
        "endorses"
       ],
       "description": "cravings_choice",
       "index": 0,
       "layout": "IPY_MODEL_64f3493d9e7e4cd79d693795fcd61555",
       "style": "IPY_MODEL_1302cb610d704bc083a02f4b292d6ec1"
      }
     },
     "3366f0426a384bf980ac8c3ef532a505": {
      "model_module": "@jupyter-widgets/controls",
      "model_module_version": "1.5.0",
      "model_name": "DropdownModel",
      "state": {
       "_options_labels": [
        "denies",
        "endorses"
       ],
       "description": "ivdu",
       "index": 0,
       "layout": "IPY_MODEL_5259318fb468446090efdf421640f15f",
       "style": "IPY_MODEL_8d3ca5fda2084f8f8e5c8d301f3fa5bb"
      }
     },
     "3392449dcd334bfc85483d321e9662e3": {
      "model_module": "@jupyter-widgets/controls",
      "model_module_version": "1.5.0",
      "model_name": "DescriptionStyleModel",
      "state": {
       "description_width": "150px"
      }
     },
     "3403689fe7c2457993719e5602a54a64": {
      "model_module": "@jupyter-widgets/base",
      "model_module_version": "1.2.0",
      "model_name": "LayoutModel",
      "state": {}
     },
     "34128c52837b4ebbaef052865c9ef382": {
      "model_module": "@jupyter-widgets/controls",
      "model_module_version": "1.5.0",
      "model_name": "VBoxModel",
      "state": {
       "_dom_classes": [
        "widget-interact"
       ],
       "children": [
        "IPY_MODEL_9c4e3a1842ff482daa249bcf5b8169d1",
        "IPY_MODEL_9c86a355cb5241ecaf0b91fb7970615e",
        "IPY_MODEL_e6a1355e664f401d8b193e409e047834",
        "IPY_MODEL_d6e9353cbcb44706ae99ca3a09867fd0"
       ],
       "layout": "IPY_MODEL_510e1a8714f9445198b87025dcd17cd9"
      }
     },
     "34335ed652ae4b54a44815d49afb4b7d": {
      "model_module": "@jupyter-widgets/controls",
      "model_module_version": "1.5.0",
      "model_name": "BoundedIntTextModel",
      "state": {
       "description": "num_children",
       "layout": "IPY_MODEL_fa9ec4f225bc40b29e03b63fcbcbd3db",
       "style": "IPY_MODEL_35536905f2304a46acce1ce2cfdda1d0"
      }
     },
     "344060ee622e493f9eee18f7b4123e9a": {
      "model_module": "@jupyter-widgets/output",
      "model_module_version": "1.0.0",
      "model_name": "OutputModel",
      "state": {
       "layout": "IPY_MODEL_4f9b4c2269a4491aacc5dcc71220cf7b",
       "outputs": [
        {
         "name": "stdout",
         "output_type": "stream",
         "text": "\nMental Status Examination: \nAppearance: WD/WN, looks stated age, fair grooming and hygiene, casually dressed\nBehavior: Calm, cooperative, fair eye contact\nPsychomotor: No activation or retardation\nSpeech: Fluent, spontaneous\nMood: “It’s pretty good.” \nAffect: Euthymic, full-range, congruent with mood\nThought Process: Linear, logical\nThought Content: Denies SI/HI/AH/VH/delusions\nInsight/Judgement: Limited to fair/Fair\n\n"
        }
       ]
      }
     },
     "345b63a4720a452cabf6d2bc570b33f5": {
      "model_module": "@jupyter-widgets/base",
      "model_module_version": "1.2.0",
      "model_name": "LayoutModel",
      "state": {}
     },
     "347d1e2df35b4fee94f63ccd36db6f6c": {
      "model_module": "@jupyter-widgets/controls",
      "model_module_version": "1.5.0",
      "model_name": "DescriptionStyleModel",
      "state": {
       "description_width": "150px"
      }
     },
     "3488c7c318574654b005d9727879b143": {
      "model_module": "@jupyter-widgets/controls",
      "model_module_version": "1.5.0",
      "model_name": "HBoxModel",
      "state": {
       "children": [
        "IPY_MODEL_468800d5ed0d4fa4b5130ef0a5f1b291",
        "IPY_MODEL_cf39b4b3e53144d6af13d626053fe192",
        "IPY_MODEL_0e7a05e512e94630bda7dfe4a533a190"
       ],
       "layout": "IPY_MODEL_6f21fd3b6f344782b88645d527f11b05"
      }
     },
     "349a6480bb534bd38391e25e582a04f9": {
      "model_module": "@jupyter-widgets/base",
      "model_module_version": "1.2.0",
      "model_name": "LayoutModel",
      "state": {}
     },
     "34a3a7480f1e4627ae0e88616d59ffc6": {
      "model_module": "@jupyter-widgets/controls",
      "model_module_version": "1.5.0",
      "model_name": "DescriptionStyleModel",
      "state": {
       "description_width": ""
      }
     },
     "34b2570f7e874cabaff8b196c8d11444": {
      "model_module": "@jupyter-widgets/controls",
      "model_module_version": "1.5.0",
      "model_name": "DescriptionStyleModel",
      "state": {
       "description_width": "150px"
      }
     },
     "34b92e6a108f4a27bf3a8a989af92cbe": {
      "model_module": "@jupyter-widgets/base",
      "model_module_version": "1.2.0",
      "model_name": "LayoutModel",
      "state": {}
     },
     "34c6b23703a9496a981db07ddbae6bbb": {
      "model_module": "@jupyter-widgets/controls",
      "model_module_version": "1.5.0",
      "model_name": "DescriptionStyleModel",
      "state": {
       "description_width": ""
      }
     },
     "351a7268e3ba4a73abb61f6306a6ab61": {
      "model_module": "@jupyter-widgets/controls",
      "model_module_version": "1.5.0",
      "model_name": "DescriptionStyleModel",
      "state": {
       "description_width": ""
      }
     },
     "35536905f2304a46acce1ce2cfdda1d0": {
      "model_module": "@jupyter-widgets/controls",
      "model_module_version": "1.5.0",
      "model_name": "DescriptionStyleModel",
      "state": {
       "description_width": "150px"
      }
     },
     "355695f48ff0478da050581f09f783db": {
      "model_module": "@jupyter-widgets/base",
      "model_module_version": "1.2.0",
      "model_name": "LayoutModel",
      "state": {}
     },
     "3596b01212bd4bbca9cc437c5bdbdd12": {
      "model_module": "@jupyter-widgets/controls",
      "model_module_version": "1.5.0",
      "model_name": "DropdownModel",
      "state": {
       "_options_labels": [
        "days",
        "weeks",
        "months",
        "years"
       ],
       "description": "longest_sober_period",
       "index": 0,
       "layout": "IPY_MODEL_64f3493d9e7e4cd79d693795fcd61555",
       "style": "IPY_MODEL_cc9dee09bc1d468ab7235395681f97cb"
      }
     },
     "35c047608b9745c3b82e4bf371fc44cc": {
      "model_module": "@jupyter-widgets/controls",
      "model_module_version": "1.5.0",
      "model_name": "VBoxModel",
      "state": {
       "_dom_classes": [
        "widget-interact"
       ],
       "children": [
        "IPY_MODEL_5e0e71e4dbe04903ade895111575df19",
        "IPY_MODEL_26242f7b72b441da88fe07417891a69b",
        "IPY_MODEL_4e889d0784b14627bf68ad39a256426a",
        "IPY_MODEL_4bdb5166b69742cdae5c7b53778e95a4",
        "IPY_MODEL_361e10b70b484cb38fdaa70d52b69406",
        "IPY_MODEL_08f557020f6549a89d8aafb4cd5c4cfb"
       ],
       "layout": "IPY_MODEL_86b662466e814bb88494f21939e96529"
      }
     },
     "35d9e0a375b94fdfaf0a93e8bba13e70": {
      "model_module": "@jupyter-widgets/controls",
      "model_module_version": "1.5.0",
      "model_name": "ComboboxModel",
      "state": {
       "description": "home",
       "ensure_option": false,
       "layout": "IPY_MODEL_64f3493d9e7e4cd79d693795fcd61555",
       "options": [
        "in sober living",
        "at home"
       ],
       "style": "IPY_MODEL_d66903a318494ce68111ab54211fd20b"
      }
     },
     "35f1c97f7a274e28ad2622bc22a3327b": {
      "model_module": "@jupyter-widgets/controls",
      "model_module_version": "1.5.0",
      "model_name": "DescriptionStyleModel",
      "state": {
       "description_width": "150px"
      }
     },
     "35fcd874556844a2b9aa452b684edfff": {
      "model_module": "@jupyter-widgets/controls",
      "model_module_version": "1.5.0",
      "model_name": "CheckboxModel",
      "state": {
       "description": "polysubstance",
       "disabled": false,
       "layout": "IPY_MODEL_0a70319a361a4e54833c5a5835e154d7",
       "style": "IPY_MODEL_6b3972b456fd4c4580112621ae7e2722",
       "value": false
      }
     },
     "36100a7e8ce34d6e9a5e657f2a5c6547": {
      "model_module": "@jupyter-widgets/controls",
      "model_module_version": "1.5.0",
      "model_name": "DescriptionStyleModel",
      "state": {
       "description_width": ""
      }
     },
     "361e10b70b484cb38fdaa70d52b69406": {
      "model_module": "@jupyter-widgets/controls",
      "model_module_version": "1.5.0",
      "model_name": "TextareaModel",
      "state": {
       "description": "notes",
       "layout": "IPY_MODEL_64f3493d9e7e4cd79d693795fcd61555",
       "style": "IPY_MODEL_20e53059cce240a9b4879440281d1d65"
      }
     },
     "3629918e4b5348d09e7ccfa9b3ad8cd5": {
      "model_module": "@jupyter-widgets/controls",
      "model_module_version": "1.5.0",
      "model_name": "DescriptionStyleModel",
      "state": {
       "description_width": "150px"
      }
     },
     "363f930e944040e9ab06b61d04101b2a": {
      "model_module": "@jupyter-widgets/controls",
      "model_module_version": "1.5.0",
      "model_name": "DropdownModel",
      "state": {
       "_options_labels": [
        "good",
        "fair",
        "poor"
       ],
       "description": "appetite",
       "index": 1,
       "layout": "IPY_MODEL_64f3493d9e7e4cd79d693795fcd61555",
       "style": "IPY_MODEL_5327ea880d5940d49287c97e5fb0ba63"
      }
     },
     "365de4b49cd1414f8e55987f57489658": {
      "model_module": "@jupyter-widgets/controls",
      "model_module_version": "1.5.0",
      "model_name": "CheckboxModel",
      "state": {
       "description": "ketamine",
       "disabled": false,
       "layout": "IPY_MODEL_a8d23cc9ea024e6fae625aa96ba734c1",
       "style": "IPY_MODEL_9e848b298a1e4b5ca3fcf82e4257bdf7",
       "value": false
      }
     },
     "3677c62dd4814bceaaab022256e5293e": {
      "model_module": "@jupyter-widgets/controls",
      "model_module_version": "1.5.0",
      "model_name": "ComboboxModel",
      "state": {
       "description": "med_compliant",
       "ensure_option": false,
       "layout": "IPY_MODEL_ecfa8b2075df48d78b3e743fdae50eff",
       "options": [
        "Patient reports that they have been compliant with their psychotropic medication regimen and denies adverse effects",
        "Patient reports that they have been non-compliant with their psychotropic medication regimen and denies adverse effects"
       ],
       "style": "IPY_MODEL_a7b05e5e38df4b9c9bfa26a542f80ef4",
       "value": "Patient reports that they have been compliant with their psychotropic medication regimen and denies adverse effects"
      }
     },
     "36a22cf02281484aabab20d7678ab391": {
      "model_module": "@jupyter-widgets/controls",
      "model_module_version": "1.5.0",
      "model_name": "DescriptionStyleModel",
      "state": {
       "description_width": "150px"
      }
     },
     "36c617e81bba40009624a4b90b1ca9c1": {
      "model_module": "@jupyter-widgets/base",
      "model_module_version": "1.2.0",
      "model_name": "LayoutModel",
      "state": {}
     },
     "379a74e8ddcd49d296af4435a2f1ae1d": {
      "model_module": "@jupyter-widgets/controls",
      "model_module_version": "1.5.0",
      "model_name": "DescriptionStyleModel",
      "state": {
       "description_width": "150px"
      }
     },
     "37a336331d144b93810ac7630381146d": {
      "model_module": "@jupyter-widgets/controls",
      "model_module_version": "1.5.0",
      "model_name": "HBoxModel",
      "state": {
       "children": [
        "IPY_MODEL_57c511dbb3d74b2aa60ed3029edb9d8d",
        "IPY_MODEL_97f8259a6980484fa8df4aa6311a4418"
       ],
       "layout": "IPY_MODEL_4b562e9831174e44ac90e8cddf7c179f"
      }
     },
     "37ebeece947f4d21b1ffd37e1fee9dff": {
      "model_module": "@jupyter-widgets/controls",
      "model_module_version": "1.5.0",
      "model_name": "HBoxModel",
      "state": {
       "children": [
        "IPY_MODEL_861979ecedc049fcbb70b0913792e903",
        "IPY_MODEL_e399204e86914647b49f4ab23e7a6030"
       ],
       "layout": "IPY_MODEL_2d1f8700b4e646398fe819bf7ffc858e"
      }
     },
     "38089277357249d6beda07d3b0a3a480": {
      "model_module": "@jupyter-widgets/output",
      "model_module_version": "1.0.0",
      "model_name": "OutputModel",
      "state": {
       "layout": "IPY_MODEL_b5fe17f912734742bc755504b67a2ef7",
       "outputs": [
        {
         "name": "stdout",
         "output_type": "stream",
         "text": "\nThe patient denies that they worry regularly about multiple aspects of their life with accompanying physical symptoms.\nOver the past several weeks, the patient denies any excessive worrying,  \nfeeling keyed up and on edge, irritability, or panic attacks. \n\n\n"
        }
       ]
      }
     },
     "38274e129fec4841896cf201cbfe1d51": {
      "model_module": "@jupyter-widgets/controls",
      "model_module_version": "1.5.0",
      "model_name": "DescriptionStyleModel",
      "state": {
       "description_width": ""
      }
     },
     "383f03e8e4b74a67b728c9d1b4f10515": {
      "model_module": "@jupyter-widgets/base",
      "model_module_version": "1.2.0",
      "model_name": "LayoutModel",
      "state": {}
     },
     "389816ad29324d92b09e0ff53416b485": {
      "model_module": "@jupyter-widgets/controls",
      "model_module_version": "1.5.0",
      "model_name": "TextareaModel",
      "state": {
       "description": "notes",
       "layout": "IPY_MODEL_fa9ec4f225bc40b29e03b63fcbcbd3db",
       "style": "IPY_MODEL_01a5df0d7e66431484414b8c139bdb33",
       "value": "Opiates began about 15/16, Heroin around 18/19. Off and on for past 10 years."
      }
     },
     "389c4482a08b439db424eeca010e3145": {
      "model_module": "@jupyter-widgets/controls",
      "model_module_version": "1.5.0",
      "model_name": "TextareaModel",
      "state": {
       "description": "notes",
       "layout": "IPY_MODEL_ecfa8b2075df48d78b3e743fdae50eff",
       "style": "IPY_MODEL_a07fb5a32fb24a60857eb4255d48dd38",
       "value": "psych history"
      }
     },
     "38a5d0d4f264472380467f12f273473a": {
      "model_module": "@jupyter-widgets/controls",
      "model_module_version": "1.5.0",
      "model_name": "DropdownModel",
      "state": {
       "_options_labels": [
        "denies",
        "endorses"
       ],
       "description": "self_injury",
       "index": 0,
       "layout": "IPY_MODEL_fa9ec4f225bc40b29e03b63fcbcbd3db",
       "style": "IPY_MODEL_5e9b60fc77a649668538db6297eb1958"
      }
     },
     "38cf63127c5943f8a374f09876b52c38": {
      "model_module": "@jupyter-widgets/controls",
      "model_module_version": "1.5.0",
      "model_name": "TextareaModel",
      "state": {
       "description": "negative_impact",
       "layout": "IPY_MODEL_57dff8c6f77e4aad88e092f42ad13209",
       "placeholder": "Type Something",
       "style": "IPY_MODEL_c311a1d874f344b2b72bd39882931fef",
       "value": "\"I was just not in a place where wanted to be besides for drinking and drugs\"\n"
      }
     },
     "390be066dcaf4c6a99260217f6ec6ea0": {
      "model_module": "@jupyter-widgets/controls",
      "model_module_version": "1.5.0",
      "model_name": "TextareaModel",
      "state": {
       "description": "notes",
       "layout": "IPY_MODEL_64f3493d9e7e4cd79d693795fcd61555",
       "style": "IPY_MODEL_d03f548a81c54023912e899193a04111"
      }
     },
     "3931a977c6f14d7a8920f4c297e289a0": {
      "model_module": "@jupyter-widgets/controls",
      "model_module_version": "1.5.0",
      "model_name": "DescriptionStyleModel",
      "state": {
       "description_width": "150px"
      }
     },
     "39601c1d422443efbbf95f69d7d48835": {
      "model_module": "@jupyter-widgets/base",
      "model_module_version": "1.2.0",
      "model_name": "LayoutModel",
      "state": {}
     },
     "3970797f8cf748399b95620e82dbdef0": {
      "model_module": "@jupyter-widgets/base",
      "model_module_version": "1.2.0",
      "model_name": "LayoutModel",
      "state": {}
     },
     "3974efcda7174754848b8abc64e63cad": {
      "model_module": "@jupyter-widgets/controls",
      "model_module_version": "1.5.0",
      "model_name": "DropdownModel",
      "state": {
       "_options_labels": [
        "denies",
        "endorses"
       ],
       "description": "depressed",
       "index": 0,
       "layout": "IPY_MODEL_fa9ec4f225bc40b29e03b63fcbcbd3db",
       "style": "IPY_MODEL_653c353210314f6187df78d17d6b31ff"
      }
     },
     "39acfb5e8a1b43beae9fce2d8acacf62": {
      "model_module": "@jupyter-widgets/controls",
      "model_module_version": "1.5.0",
      "model_name": "VBoxModel",
      "state": {
       "_dom_classes": [
        "widget-interact"
       ],
       "children": [
        "IPY_MODEL_53028f8da9cb43a282e5e6ae9bc12e01",
        "IPY_MODEL_5cbd4ef367854bb4b84d28657f8dcc8d",
        "IPY_MODEL_675d950452cb47ef8b893fa794880def",
        "IPY_MODEL_9b183a2683854fdabb521e137dca1a2a",
        "IPY_MODEL_55319b4f4e7e48779fc0b21838863127",
        "IPY_MODEL_2bcc14c5183640d6b9ac83357c627d54"
       ],
       "layout": "IPY_MODEL_d5f7ad70e76546faa1dec862d431fa07"
      }
     },
     "39cca054c96940039336148f4ddaa944": {
      "model_module": "@jupyter-widgets/controls",
      "model_module_version": "1.5.0",
      "model_name": "CheckboxModel",
      "state": {
       "description": "Post-traumatic stress disorder",
       "disabled": false,
       "layout": "IPY_MODEL_caa5395dc7134cb6b6c6f810c3614e5b",
       "style": "IPY_MODEL_fea7a883fa934c42937ca5e79950cd2c",
       "value": false
      }
     },
     "39ccd237fe1948ed9b088fee2fffd34f": {
      "model_module": "@jupyter-widgets/base",
      "model_module_version": "1.2.0",
      "model_name": "LayoutModel",
      "state": {}
     },
     "39fe689cd67c478183bcf853fed4acf6": {
      "model_module": "@jupyter-widgets/base",
      "model_module_version": "1.2.0",
      "model_name": "LayoutModel",
      "state": {}
     },
     "3a035d313a5541dcac628e2504805312": {
      "model_module": "@jupyter-widgets/base",
      "model_module_version": "1.2.0",
      "model_name": "LayoutModel",
      "state": {}
     },
     "3a03ae68f5d24b658af16be8533ec9b2": {
      "model_module": "@jupyter-widgets/base",
      "model_module_version": "1.2.0",
      "model_name": "LayoutModel",
      "state": {}
     },
     "3a221a1fb23b4a618263d2ab9a75488c": {
      "model_module": "@jupyter-widgets/base",
      "model_module_version": "1.2.0",
      "model_name": "LayoutModel",
      "state": {}
     },
     "3a366f5f03eb46d1b85da2d8b152c60a": {
      "model_module": "@jupyter-widgets/controls",
      "model_module_version": "1.5.0",
      "model_name": "DescriptionStyleModel",
      "state": {
       "description_width": "150px"
      }
     },
     "3a8ac0bcf9904a5394dce38a60acc20f": {
      "model_module": "@jupyter-widgets/base",
      "model_module_version": "1.2.0",
      "model_name": "LayoutModel",
      "state": {
       "height": "100px",
       "width": "500px"
      }
     },
     "3aac882f861744198edcb2d76af36a9b": {
      "model_module": "@jupyter-widgets/controls",
      "model_module_version": "1.5.0",
      "model_name": "DescriptionStyleModel",
      "state": {
       "description_width": "150px"
      }
     },
     "3ad39417cffc4743b3f2a9cfd3da4c22": {
      "model_module": "@jupyter-widgets/controls",
      "model_module_version": "1.5.0",
      "model_name": "DropdownModel",
      "state": {
       "_options_labels": [
        "denies",
        "endorses"
       ],
       "description": "withdrawals_choice",
       "index": 0,
       "layout": "IPY_MODEL_f3ab830ad14c40bcb60503d19e5f9870",
       "style": "IPY_MODEL_a1b2967604af47a5aa15b11f689a80b5"
      }
     },
     "3af74e6e269f450d972aa962e2208f5c": {
      "model_module": "@jupyter-widgets/controls",
      "model_module_version": "1.5.0",
      "model_name": "DropdownModel",
      "state": {
       "_options_labels": [
        "Silicon Beach",
        "Momentum",
        "Create Recovery Center",
        "Casablanca"
       ],
       "description": "treatment_center:",
       "index": 3,
       "layout": "IPY_MODEL_f0c96bce1eda459d9860a1ee95448410",
       "style": "IPY_MODEL_ca4e2eb359e74dd6b004931661cfe722"
      }
     },
     "3b191d386f3343cb93a79cc09302d750": {
      "model_module": "@jupyter-widgets/controls",
      "model_module_version": "1.5.0",
      "model_name": "DescriptionStyleModel",
      "state": {
       "description_width": "150px"
      }
     },
     "3b21fa2beb764a78a8c6338cf6ebec1b": {
      "model_module": "@jupyter-widgets/controls",
      "model_module_version": "1.5.0",
      "model_name": "DescriptionStyleModel",
      "state": {
       "description_width": "150px"
      }
     },
     "3b49ae71b6654c8aa3af72fe3eacc687": {
      "model_module": "@jupyter-widgets/base",
      "model_module_version": "1.2.0",
      "model_name": "LayoutModel",
      "state": {}
     },
     "3b739d77caa24c238b7e88f290ac6571": {
      "model_module": "@jupyter-widgets/controls",
      "model_module_version": "1.5.0",
      "model_name": "DropdownModel",
      "state": {
       "_options_labels": [
        "denies",
        "endorses"
       ],
       "description": "guilt",
       "index": 0,
       "layout": "IPY_MODEL_f3ab830ad14c40bcb60503d19e5f9870",
       "style": "IPY_MODEL_a8d4d4f58fb8417db5a2aca6c80c09fa"
      }
     },
     "3b7bdb8a115d476daa3a6d6067d1b1ae": {
      "model_module": "@jupyter-widgets/base",
      "model_module_version": "1.2.0",
      "model_name": "LayoutModel",
      "state": {}
     },
     "3b80b4110c8b473b87c7a18daa8a7887": {
      "model_module": "@jupyter-widgets/controls",
      "model_module_version": "1.5.0",
      "model_name": "TextModel",
      "state": {
       "description": "outpatient_psychiatrist",
       "layout": "IPY_MODEL_ecfa8b2075df48d78b3e743fdae50eff",
       "style": "IPY_MODEL_ce9f6215022e4659bf707d235cdb30f2",
       "value": "None"
      }
     },
     "3b9dc5d6a24f43eb9cc2a9d0673adc3d": {
      "model_module": "@jupyter-widgets/controls",
      "model_module_version": "1.5.0",
      "model_name": "TextareaModel",
      "state": {
       "description": "negative_impact",
       "layout": "IPY_MODEL_57dff8c6f77e4aad88e092f42ad13209",
       "placeholder": "Type Something",
       "style": "IPY_MODEL_505bb9d54aaf435f9ad5a4d9a82578e7"
      }
     },
     "3bc87cfaab334318992bee71084a1355": {
      "model_module": "@jupyter-widgets/controls",
      "model_module_version": "1.5.0",
      "model_name": "CheckboxModel",
      "state": {
       "description": "Generalized anxiety disorder",
       "disabled": false,
       "layout": "IPY_MODEL_95448b589bfe48bbaf12a489a0592ed5",
       "style": "IPY_MODEL_9fa44cca815343dea0b8c7b3619d5145",
       "value": false
      }
     },
     "3bcfa75b60ea49d89df0c7f21cd90a68": {
      "model_module": "@jupyter-widgets/controls",
      "model_module_version": "1.5.0",
      "model_name": "DescriptionStyleModel",
      "state": {
       "description_width": "150px"
      }
     },
     "3c0fb0cb556947ba9252d7757f928e6d": {
      "model_module": "@jupyter-widgets/controls",
      "model_module_version": "1.5.0",
      "model_name": "HBoxModel",
      "state": {
       "children": [
        "IPY_MODEL_c729ca87bc3844eea2356a31a73795f8"
       ],
       "layout": "IPY_MODEL_e1911d2dd2b84b70bd958acd2a8abbe3"
      }
     },
     "3c714ac37d12438daa9ba9151d3c2703": {
      "model_module": "@jupyter-widgets/controls",
      "model_module_version": "1.5.0",
      "model_name": "DescriptionStyleModel",
      "state": {
       "description_width": "150px"
      }
     },
     "3c7fa67791ef48659e8ac9b29afa1aed": {
      "model_module": "@jupyter-widgets/base",
      "model_module_version": "1.2.0",
      "model_name": "LayoutModel",
      "state": {}
     },
     "3c927decb40446e5bce9b57aa281ed80": {
      "model_module": "@jupyter-widgets/controls",
      "model_module_version": "1.5.0",
      "model_name": "DescriptionStyleModel",
      "state": {
       "description_width": "150px"
      }
     },
     "3cab6fa270ac477d8a3a655d2b3599d5": {
      "model_module": "@jupyter-widgets/controls",
      "model_module_version": "1.5.0",
      "model_name": "DropdownModel",
      "state": {
       "_options_labels": [
        "single",
        "married"
       ],
       "description": "married",
       "index": 0,
       "layout": "IPY_MODEL_5259318fb468446090efdf421640f15f",
       "style": "IPY_MODEL_f6aac723894c4e529844d096146dcc33"
      }
     },
     "3cba3d4b2d1e4e8691c12cba2c5f48c4": {
      "model_module": "@jupyter-widgets/controls",
      "model_module_version": "1.5.0",
      "model_name": "BoundedIntTextModel",
      "state": {
       "description": "num_children",
       "layout": "IPY_MODEL_57dff8c6f77e4aad88e092f42ad13209",
       "style": "IPY_MODEL_babfc7bbad504e2fb759d57c8591a810"
      }
     },
     "3cc6d3c9ac6f41789aff589946618192": {
      "model_module": "@jupyter-widgets/output",
      "model_module_version": "1.0.0",
      "model_name": "OutputModel",
      "state": {
       "layout": "IPY_MODEL_2a1e722f1a344476a7c71e251b6d8a64",
       "outputs": [
        {
         "name": "stdout",
         "output_type": "stream",
         "text": "\nThe patient endorses that they have sustained significant trauma, \nendorses current symptoms of PTSD including flashbacks, nightmares, hypervigilance, triggers, \nand avoidance of triggers.\n\"I have flashbacks a lot, nightmares.\"\n\n"
        }
       ]
      }
     },
     "3cd52d01164c4875a7dc63f73a51af0a": {
      "model_module": "@jupyter-widgets/controls",
      "model_module_version": "1.5.0",
      "model_name": "DescriptionStyleModel",
      "state": {
       "description_width": "150px"
      }
     },
     "3ce31794891e48e98c068057eec03223": {
      "model_module": "@jupyter-widgets/controls",
      "model_module_version": "1.5.0",
      "model_name": "DescriptionStyleModel",
      "state": {
       "description_width": "150px"
      }
     },
     "3d2b08a081d14445af2772af96f80759": {
      "model_module": "@jupyter-widgets/base",
      "model_module_version": "1.2.0",
      "model_name": "LayoutModel",
      "state": {}
     },
     "3d3c9556f8014fafa8e733c1b5bc7e94": {
      "model_module": "@jupyter-widgets/controls",
      "model_module_version": "1.5.0",
      "model_name": "TextareaModel",
      "state": {
       "description": "Current mood:",
       "layout": "IPY_MODEL_ee5e86e653494940b49446d58b592704",
       "placeholder": "Type something",
       "style": "IPY_MODEL_11014a21ce964b99956d33ca54efaa31",
       "value": "It’s pretty good."
      }
     },
     "3d828fb1df654c85b4c93681d50e0f76": {
      "model_module": "@jupyter-widgets/controls",
      "model_module_version": "1.5.0",
      "model_name": "VBoxModel",
      "state": {
       "children": [
        "IPY_MODEL_762a4b6649304dd0a8510c5c61d49123",
        "IPY_MODEL_6fbc2def6171453d8605e9b26e0dcb30",
        "IPY_MODEL_e1fa1236ea9f4ab6a864ac25d4b50b17",
        "IPY_MODEL_7eb5de9426bc45c8b44194f9b02403ce",
        "IPY_MODEL_18718deb1db044dab03ada5e5aaea6f5",
        "IPY_MODEL_bbc7d4caaeb14986b16368a5b5e28bba",
        "IPY_MODEL_ece274de73ba4b009db52e163f0f0ff3",
        "IPY_MODEL_f45d73842b6046fc8ef1b70c467a29f8",
        "IPY_MODEL_caf06070672e4d6889a290a9bad8438d",
        "IPY_MODEL_7105abf3dfaa4807b63c6d1a04fe3be9"
       ],
       "layout": "IPY_MODEL_85b9daa3f21c4092a3c701f6187ba21b"
      }
     },
     "3d9c2ebbb29942228b77b357031d9c5b": {
      "model_module": "@jupyter-widgets/controls",
      "model_module_version": "1.5.0",
      "model_name": "DescriptionStyleModel",
      "state": {
       "description_width": ""
      }
     },
     "3db665d0333845b4b416ac201e0c2255": {
      "model_module": "@jupyter-widgets/controls",
      "model_module_version": "1.5.0",
      "model_name": "CheckboxModel",
      "state": {
       "description": "cocaine",
       "disabled": false,
       "layout": "IPY_MODEL_112875dd6e424c23982aa2f554bfb7d6",
       "style": "IPY_MODEL_8e566f738be34f3abc002fae8d3c1715",
       "value": false
      }
     },
     "3dc09e072b244564b1f88e9ee5fa72d8": {
      "model_module": "@jupyter-widgets/controls",
      "model_module_version": "1.5.0",
      "model_name": "DropdownModel",
      "state": {
       "_options_labels": [
        "denies",
        "endorses"
       ],
       "description": "ivdu",
       "index": 0,
       "layout": "IPY_MODEL_64f3493d9e7e4cd79d693795fcd61555",
       "style": "IPY_MODEL_006bf1173dd248a2a9852f03e65ec8c6"
      }
     },
     "3dc91028d196431fa0febe5757899a82": {
      "model_module": "@jupyter-widgets/base",
      "model_module_version": "1.2.0",
      "model_name": "LayoutModel",
      "state": {}
     },
     "3df8cc08d721445fb42cc6e98cdb46ed": {
      "model_module": "@jupyter-widgets/controls",
      "model_module_version": "1.5.0",
      "model_name": "DescriptionStyleModel",
      "state": {
       "description_width": "150px"
      }
     },
     "3e1af367d3e24d3ca4bbf67b0191958b": {
      "model_module": "@jupyter-widgets/controls",
      "model_module_version": "1.5.0",
      "model_name": "DropdownModel",
      "state": {
       "_options_labels": [
        "denies",
        "endorses"
       ],
       "description": "sustained_sadness",
       "index": 0,
       "layout": "IPY_MODEL_57dff8c6f77e4aad88e092f42ad13209",
       "style": "IPY_MODEL_df0e1c41c2ff4242a89d764d874bbdb6"
      }
     },
     "3e2112a5202b4c0e9e5835e1cbcfa8e1": {
      "model_module": "@jupyter-widgets/controls",
      "model_module_version": "1.5.0",
      "model_name": "DescriptionStyleModel",
      "state": {
       "description_width": "150px"
      }
     },
     "3e3760aaa9264c3cbf2c1eb09f0dd9db": {
      "model_module": "@jupyter-widgets/controls",
      "model_module_version": "1.5.0",
      "model_name": "TextModel",
      "state": {
       "description": "outpatient_psychiatrist",
       "layout": "IPY_MODEL_fa9ec4f225bc40b29e03b63fcbcbd3db",
       "style": "IPY_MODEL_d4780938a3024082ba66bb8f07a8e928",
       "value": "None"
      }
     },
     "3e3d0f7e97614e43a288fff5bee9c32a": {
      "model_module": "@jupyter-widgets/controls",
      "model_module_version": "1.5.0",
      "model_name": "DropdownModel",
      "state": {
       "_options_labels": [
        "a history",
        "no history"
       ],
       "description": "eating_disorder",
       "index": 1,
       "layout": "IPY_MODEL_fa9ec4f225bc40b29e03b63fcbcbd3db",
       "style": "IPY_MODEL_4a6495b0409e484b84deda3623f407ce"
      }
     },
     "3e4e33754c3c4d139739b80514714b30": {
      "model_module": "@jupyter-widgets/controls",
      "model_module_version": "1.5.0",
      "model_name": "DescriptionStyleModel",
      "state": {
       "description_width": "150px"
      }
     },
     "3e95d98f704c4e59b5bac8af4fba06f8": {
      "model_module": "@jupyter-widgets/base",
      "model_module_version": "1.2.0",
      "model_name": "LayoutModel",
      "state": {}
     },
     "3ea10da688874c009f593e749f259301": {
      "model_module": "@jupyter-widgets/controls",
      "model_module_version": "1.5.0",
      "model_name": "TextareaModel",
      "state": {
       "description": "previous_meds",
       "layout": "IPY_MODEL_ecfa8b2075df48d78b3e743fdae50eff",
       "style": "IPY_MODEL_347d1e2df35b4fee94f63ccd36db6f6c",
       "value": "None"
      }
     },
     "3eccd885a94f46858761d42c9e272b5d": {
      "model_module": "@jupyter-widgets/base",
      "model_module_version": "1.2.0",
      "model_name": "LayoutModel",
      "state": {
       "height": "100px",
       "width": "500px"
      }
     },
     "3edf37d2cdd74da9b062c1da230c4b9d": {
      "model_module": "@jupyter-widgets/base",
      "model_module_version": "1.2.0",
      "model_name": "LayoutModel",
      "state": {}
     },
     "3ef39bbc448b4cd29988398988d2a453": {
      "model_module": "@jupyter-widgets/controls",
      "model_module_version": "1.5.0",
      "model_name": "DescriptionStyleModel",
      "state": {
       "description_width": ""
      }
     },
     "3ef81f8430e944ec93d8bfec789ad042": {
      "model_module": "@jupyter-widgets/base",
      "model_module_version": "1.2.0",
      "model_name": "LayoutModel",
      "state": {}
     },
     "3f2ee59274c44241ba33dc07638be4b9": {
      "model_module": "@jupyter-widgets/controls",
      "model_module_version": "1.5.0",
      "model_name": "DropdownModel",
      "state": {
       "_options_labels": [
        "denies",
        "endorses"
       ],
       "description": "guilt",
       "index": 0,
       "layout": "IPY_MODEL_ecfa8b2075df48d78b3e743fdae50eff",
       "style": "IPY_MODEL_adda7367321d4b98a9172cb68906242c"
      }
     },
     "3f2fa98559134e6998e84a29dec9d83c": {
      "model_module": "@jupyter-widgets/controls",
      "model_module_version": "1.5.0",
      "model_name": "CheckboxModel",
      "state": {
       "description": "Alcohol use disorder Severe",
       "disabled": false,
       "layout": "IPY_MODEL_e48e4b82bef44e6dbb183cea2e5aa5c9",
       "style": "IPY_MODEL_a50ce31d9934465db5e4ea8b95b5ae51",
       "value": false
      }
     },
     "3f32916cc62e46b5bfc8634624ade844": {
      "model_module": "@jupyter-widgets/controls",
      "model_module_version": "1.5.0",
      "model_name": "DescriptionStyleModel",
      "state": {
       "description_width": "150px"
      }
     },
     "3f34017cbd91496cab318d51c4663f7c": {
      "model_module": "@jupyter-widgets/controls",
      "model_module_version": "1.5.0",
      "model_name": "DescriptionStyleModel",
      "state": {
       "description_width": "150px"
      }
     },
     "3f6a6f24286b4f439d32c45647fcf076": {
      "model_module": "@jupyter-widgets/controls",
      "model_module_version": "1.5.0",
      "model_name": "CheckboxModel",
      "state": {
       "description": "bipolar I disorder",
       "disabled": false,
       "layout": "IPY_MODEL_520f9ebe3b3f4d75804e0bd51949c888",
       "style": "IPY_MODEL_5fa9c44b5be746c1865f97f336a2c45c",
       "value": false
      }
     },
     "3f88429817714cb6b82d9cb0c5896bb7": {
      "model_module": "@jupyter-widgets/controls",
      "model_module_version": "1.5.0",
      "model_name": "DropdownModel",
      "state": {
       "_options_labels": [
        "days",
        "weeks",
        "months",
        "years"
       ],
       "description": "longest_sober_period",
       "index": 0,
       "layout": "IPY_MODEL_f3ab830ad14c40bcb60503d19e5f9870",
       "style": "IPY_MODEL_6ed985a16d9e49b2a7338c2e68b809bd"
      }
     },
     "3fcd10767bd84cc194d75844199249df": {
      "model_module": "@jupyter-widgets/controls",
      "model_module_version": "1.5.0",
      "model_name": "DescriptionStyleModel",
      "state": {
       "description_width": ""
      }
     },
     "3fcddd0da0d0419f9fb6ddd00bf7ce23": {
      "model_module": "@jupyter-widgets/controls",
      "model_module_version": "1.5.0",
      "model_name": "DescriptionStyleModel",
      "state": {
       "description_width": ""
      }
     },
     "3fd24a82bad245699584e374403992a9": {
      "model_module": "@jupyter-widgets/controls",
      "model_module_version": "1.5.0",
      "model_name": "DescriptionStyleModel",
      "state": {
       "description_width": ""
      }
     },
     "3fd49e187d2b46e5b6d878e7fad0e27b": {
      "model_module": "@jupyter-widgets/controls",
      "model_module_version": "1.5.0",
      "model_name": "VBoxModel",
      "state": {
       "_dom_classes": [
        "widget-interact"
       ],
       "children": [
        "IPY_MODEL_d171f5b6f6ee4b2d8884fa47c6411339",
        "IPY_MODEL_b7aa801d58d840d1ade9d0f67f881267",
        "IPY_MODEL_15c5e1a4234a4333b0408e71cc26c757",
        "IPY_MODEL_3ea10da688874c009f593e749f259301",
        "IPY_MODEL_3b80b4110c8b473b87c7a18daa8a7887",
        "IPY_MODEL_389c4482a08b439db424eeca010e3145",
        "IPY_MODEL_f42ef67217e248628bb04a507f3d1e5f"
       ],
       "layout": "IPY_MODEL_0bbd7bd11dc34096a8a49f34be65b0ef"
      }
     },
     "4051fbacd74f40e79d652008624f3453": {
      "model_module": "@jupyter-widgets/output",
      "model_module_version": "1.0.0",
      "model_name": "OutputModel",
      "state": {
       "layout": "IPY_MODEL_cec889161de7473997d9e823fa70886f",
       "outputs": [
        {
         "name": "stdout",
         "output_type": "stream",
         "text": "\nSocial History:\nThe patient states that they are single, and have 0 children. \nThey report that they are currently living in sober living. \nThe patient denies any history of legal problems.  \nThe patient denies a history of abuse.\n\n\n"
        }
       ]
      }
     },
     "407ff966bc1840f38bef2fce3cedd127": {
      "model_module": "@jupyter-widgets/controls",
      "model_module_version": "1.5.0",
      "model_name": "DescriptionStyleModel",
      "state": {
       "description_width": ""
      }
     },
     "4093deef3b01445e86ebf579f3c078ba": {
      "model_module": "@jupyter-widgets/controls",
      "model_module_version": "1.5.0",
      "model_name": "DescriptionStyleModel",
      "state": {
       "description_width": "150px"
      }
     },
     "40aac47e9eee4e9b83bd3aac20cdfd6c": {
      "model_module": "@jupyter-widgets/base",
      "model_module_version": "1.2.0",
      "model_name": "LayoutModel",
      "state": {}
     },
     "4149f5b3c14a41f1908b2b41a87a66ef": {
      "model_module": "@jupyter-widgets/base",
      "model_module_version": "1.2.0",
      "model_name": "LayoutModel",
      "state": {}
     },
     "4173eb1e2088470f93c6744f7789a7e7": {
      "model_module": "@jupyter-widgets/controls",
      "model_module_version": "1.5.0",
      "model_name": "DescriptionStyleModel",
      "state": {
       "description_width": ""
      }
     },
     "4196d5d834814c81809fbd3531d85441": {
      "model_module": "@jupyter-widgets/controls",
      "model_module_version": "1.5.0",
      "model_name": "DescriptionStyleModel",
      "state": {
       "description_width": ""
      }
     },
     "41eac342a0494c4c9681b3b2c6312be2": {
      "model_module": "@jupyter-widgets/controls",
      "model_module_version": "1.5.0",
      "model_name": "DropdownModel",
      "state": {
       "_options_labels": [
        "a history",
        "no history"
       ],
       "description": "mania",
       "index": 1,
       "layout": "IPY_MODEL_57dff8c6f77e4aad88e092f42ad13209",
       "style": "IPY_MODEL_b4de6b9015b34536bdf2f97178c2d6d4"
      }
     },
     "4213f4f08d1d4a05ac640e26f064bf44": {
      "model_module": "@jupyter-widgets/base",
      "model_module_version": "1.2.0",
      "model_name": "LayoutModel",
      "state": {}
     },
     "42364879c6bb4215899318497f7484f5": {
      "model_module": "@jupyter-widgets/controls",
      "model_module_version": "1.5.0",
      "model_name": "DescriptionStyleModel",
      "state": {
       "description_width": "150px"
      }
     },
     "423b91fdd3914bf8843d2fd9e56124cb": {
      "model_module": "@jupyter-widgets/base",
      "model_module_version": "1.2.0",
      "model_name": "LayoutModel",
      "state": {}
     },
     "423ef1e125f042dd9997813de3920525": {
      "model_module": "@jupyter-widgets/base",
      "model_module_version": "1.2.0",
      "model_name": "LayoutModel",
      "state": {}
     },
     "424ce1e6368248ba9ae50850684f2466": {
      "model_module": "@jupyter-widgets/controls",
      "model_module_version": "1.5.0",
      "model_name": "DescriptionStyleModel",
      "state": {
       "description_width": ""
      }
     },
     "425887573514417e9737e24f208c6f58": {
      "model_module": "@jupyter-widgets/base",
      "model_module_version": "1.2.0",
      "model_name": "LayoutModel",
      "state": {}
     },
     "429584e02c1f4fd298cb3e0e4c71e619": {
      "model_module": "@jupyter-widgets/controls",
      "model_module_version": "1.5.0",
      "model_name": "HBoxModel",
      "state": {
       "children": [
        "IPY_MODEL_fdaca39b4ab143f98b9aedbdf0ea8da6"
       ],
       "layout": "IPY_MODEL_a190d70680784fc7851bf6b3c58f614f"
      }
     },
     "42a5d16167a745f699f4f9ee20d622e1": {
      "model_module": "@jupyter-widgets/controls",
      "model_module_version": "1.5.0",
      "model_name": "DescriptionStyleModel",
      "state": {
       "description_width": ""
      }
     },
     "42b57af95f434094b8d702d4cba699d7": {
      "model_module": "@jupyter-widgets/controls",
      "model_module_version": "1.5.0",
      "model_name": "CheckboxModel",
      "state": {
       "description": "ecstasy/MDMA",
       "disabled": false,
       "layout": "IPY_MODEL_10d1d153ad06465680867bcb70778416",
       "style": "IPY_MODEL_769529e6cebd4180978e15c95a43ce11",
       "value": false
      }
     },
     "42d52257103e49648110b1fc81ca9f36": {
      "model_module": "@jupyter-widgets/controls",
      "model_module_version": "1.5.0",
      "model_name": "DropdownModel",
      "state": {
       "_options_labels": [
        "male",
        "female",
        "nb"
       ],
       "description": "gender:",
       "index": 0,
       "layout": "IPY_MODEL_7e0b7c2e45124338931df6fb80ff746a",
       "style": "IPY_MODEL_f370254c2d014d97ad322647675d4ae7"
      }
     },
     "42fe9ced174d4108912bff1caf39cb0d": {
      "model_module": "@jupyter-widgets/base",
      "model_module_version": "1.2.0",
      "model_name": "LayoutModel",
      "state": {}
     },
     "431f8309ad304a969842b6b04d168f9f": {
      "model_module": "@jupyter-widgets/controls",
      "model_module_version": "1.5.0",
      "model_name": "VBoxModel",
      "state": {
       "children": [
        "IPY_MODEL_8af819b0274f43249b16260cdf815ec1",
        "IPY_MODEL_6b8dce21e35646589e12a5c22598fff1",
        "IPY_MODEL_ca421214a4f043c4a94e6f1ee59eb501"
       ],
       "layout": "IPY_MODEL_3403689fe7c2457993719e5602a54a64"
      }
     },
     "431f9664b1e54484bb9d6d4a6f46e0ab": {
      "model_module": "@jupyter-widgets/base",
      "model_module_version": "1.2.0",
      "model_name": "LayoutModel",
      "state": {}
     },
     "43276eed981c40399c68c8f5183436d4": {
      "model_module": "@jupyter-widgets/controls",
      "model_module_version": "1.5.0",
      "model_name": "CheckboxModel",
      "state": {
       "description": "Unspecified Bipolar Disorder",
       "disabled": false,
       "layout": "IPY_MODEL_ce5c303acf5847238c0704a5fae140e4",
       "style": "IPY_MODEL_6d8279f5bce745d59706e5710663daf8",
       "value": false
      }
     },
     "4339cb8e39fb4505a24b95525172ef8e": {
      "model_module": "@jupyter-widgets/base",
      "model_module_version": "1.2.0",
      "model_name": "LayoutModel",
      "state": {}
     },
     "434631591cb34e16b41bb8d451a5dcca": {
      "model_module": "@jupyter-widgets/controls",
      "model_module_version": "1.5.0",
      "model_name": "DescriptionStyleModel",
      "state": {
       "description_width": ""
      }
     },
     "4376cd230cfb43f7bd96555e9ac4ed43": {
      "model_module": "@jupyter-widgets/controls",
      "model_module_version": "1.5.0",
      "model_name": "DescriptionStyleModel",
      "state": {
       "description_width": ""
      }
     },
     "438240eddf614d50be50c0c42b68ecd2": {
      "model_module": "@jupyter-widgets/base",
      "model_module_version": "1.2.0",
      "model_name": "LayoutModel",
      "state": {
       "height": "100px",
       "width": "500px"
      }
     },
     "4390bfd9ae6c46e789098e9dfc7b90fd": {
      "model_module": "@jupyter-widgets/base",
      "model_module_version": "1.2.0",
      "model_name": "LayoutModel",
      "state": {}
     },
     "439127854c9c4a5c905bf01df2af0e8a": {
      "model_module": "@jupyter-widgets/output",
      "model_module_version": "1.0.0",
      "model_name": "OutputModel",
      "state": {
       "layout": "IPY_MODEL_f7725ed8feda47f5b8d4820341267c32",
       "outputs": [
        {
         "name": "stdout",
         "output_type": "stream",
         "text": "\nSocial History:\nThe patient states that they are married, and have 1 child. \nThey report that they are currently living at home. \nThe patient denies any history of legal problems.  \nThe patient denies a history of abuse.\nmarried 15 years\n\n"
        }
       ]
      }
     },
     "43be023158a246cbb1e1df3a00e77428": {
      "model_module": "@jupyter-widgets/controls",
      "model_module_version": "1.5.0",
      "model_name": "DescriptionStyleModel",
      "state": {
       "description_width": "150px"
      }
     },
     "43d5262d67dd41e0bb5c533ef501d546": {
      "model_module": "@jupyter-widgets/controls",
      "model_module_version": "1.5.0",
      "model_name": "DescriptionStyleModel",
      "state": {
       "description_width": "150px"
      }
     },
     "442e57a4825f45ae906ef6e32e778ce5": {
      "model_module": "@jupyter-widgets/controls",
      "model_module_version": "1.5.0",
      "model_name": "DescriptionStyleModel",
      "state": {
       "description_width": "150px"
      }
     },
     "445582237f504f62bb8aef20f90f720f": {
      "model_module": "@jupyter-widgets/controls",
      "model_module_version": "1.5.0",
      "model_name": "DescriptionStyleModel",
      "state": {
       "description_width": "150px"
      }
     },
     "445bc7fbb71c4e4a93f2db9bd671a2cb": {
      "model_module": "@jupyter-widgets/controls",
      "model_module_version": "1.5.0",
      "model_name": "DescriptionStyleModel",
      "state": {
       "description_width": ""
      }
     },
     "44693bdf1c384f8fa7b3cc52c52ced5f": {
      "model_module": "@jupyter-widgets/base",
      "model_module_version": "1.2.0",
      "model_name": "LayoutModel",
      "state": {}
     },
     "4483dc36e7d24c159aa4bd853064f689": {
      "model_module": "@jupyter-widgets/controls",
      "model_module_version": "1.5.0",
      "model_name": "DescriptionStyleModel",
      "state": {
       "description_width": ""
      }
     },
     "44cc9162153f4f7c9bb5dfff089246f2": {
      "model_module": "@jupyter-widgets/controls",
      "model_module_version": "1.5.0",
      "model_name": "DropdownModel",
      "state": {
       "_options_labels": [
        "denies",
        "endorses"
       ],
       "description": "sustained_sadness",
       "index": 0,
       "layout": "IPY_MODEL_5259318fb468446090efdf421640f15f",
       "style": "IPY_MODEL_a3b577bd8211407e89068b92e36937d2"
      }
     },
     "44cd6839c3fa468ba56062224eae642d": {
      "model_module": "@jupyter-widgets/controls",
      "model_module_version": "1.5.0",
      "model_name": "TextareaModel",
      "state": {
       "description": "notes",
       "layout": "IPY_MODEL_ecfa8b2075df48d78b3e743fdae50eff",
       "style": "IPY_MODEL_47eb8e6c97e1429b96685f87f906854c",
       "value": "anx notes"
      }
     },
     "44e9d60b41294fd4b473da50ff616a22": {
      "model_module": "@jupyter-widgets/controls",
      "model_module_version": "1.5.0",
      "model_name": "TextareaModel",
      "state": {
       "description": "Notes:",
       "layout": "IPY_MODEL_b5ca67ebe4684791920d1f8cf6a3f270",
       "style": "IPY_MODEL_07f85fb54e77425b8fb3bb682767e9d7"
      }
     },
     "44f7959efab94b10b7311e377c16c92c": {
      "model_module": "@jupyter-widgets/base",
      "model_module_version": "1.2.0",
      "model_name": "LayoutModel",
      "state": {}
     },
     "4509590a84404ae6ae2f5b49aadb32f3": {
      "model_module": "@jupyter-widgets/controls",
      "model_module_version": "1.5.0",
      "model_name": "VBoxModel",
      "state": {
       "_dom_classes": [
        "widget-interact"
       ],
       "children": [
        "IPY_MODEL_fb1069ee9e384038aaa5d51be2b9a8b8",
        "IPY_MODEL_23078eeb7caf467ab0fc571352eaa1f3"
       ],
       "layout": "IPY_MODEL_3b49ae71b6654c8aa3af72fe3eacc687"
      }
     },
     "452004fce02d454e9352690661c2af2a": {
      "model_module": "@jupyter-widgets/controls",
      "model_module_version": "1.5.0",
      "model_name": "VBoxModel",
      "state": {
       "_dom_classes": [
        "widget-interact"
       ],
       "children": [
        "IPY_MODEL_cc3500e55dc2495c84bdab7d3b349171",
        "IPY_MODEL_b69f0d8ffc684166ac1603b91d3abb73"
       ],
       "layout": "IPY_MODEL_dc30f373454844b58e30850b2634bbc9"
      }
     },
     "45277ccff48f493d9e827e7764160c46": {
      "model_module": "@jupyter-widgets/controls",
      "model_module_version": "1.5.0",
      "model_name": "DescriptionStyleModel",
      "state": {
       "description_width": "150px"
      }
     },
     "456c7e6975554c57aad554110516b166": {
      "model_module": "@jupyter-widgets/controls",
      "model_module_version": "1.5.0",
      "model_name": "DropdownModel",
      "state": {
       "_options_labels": [
        "good",
        "fair",
        "poor"
       ],
       "description": "concentration",
       "index": 1,
       "layout": "IPY_MODEL_57dff8c6f77e4aad88e092f42ad13209",
       "style": "IPY_MODEL_87f22443ae4c4b11a5f14c2edc78cbf1"
      }
     },
     "458a2ffc644d401d8ef5d6381d92bfb2": {
      "model_module": "@jupyter-widgets/base",
      "model_module_version": "1.2.0",
      "model_name": "LayoutModel",
      "state": {}
     },
     "464e7be302d844708618ae2a6a646c9a": {
      "model_module": "@jupyter-widgets/base",
      "model_module_version": "1.2.0",
      "model_name": "LayoutModel",
      "state": {}
     },
     "466233875e0f4c6fbc13b2ca35d39848": {
      "model_module": "@jupyter-widgets/controls",
      "model_module_version": "1.5.0",
      "model_name": "DescriptionStyleModel",
      "state": {
       "description_width": "150px"
      }
     },
     "46843948d8ab4cc1ab3fa9d191de94da": {
      "model_module": "@jupyter-widgets/controls",
      "model_module_version": "1.5.0",
      "model_name": "DropdownModel",
      "state": {
       "_options_labels": [
        "good",
        "fair",
        "poor"
       ],
       "description": "concentration",
       "index": 1,
       "layout": "IPY_MODEL_fa9ec4f225bc40b29e03b63fcbcbd3db",
       "style": "IPY_MODEL_68deaf8b691f44e282a2426e2eb895b0"
      }
     },
     "468800d5ed0d4fa4b5130ef0a5f1b291": {
      "model_module": "@jupyter-widgets/controls",
      "model_module_version": "1.5.0",
      "model_name": "VBoxModel",
      "state": {
       "children": [
        "IPY_MODEL_8d1700ec5c8049b2bd2abb6d6aad6f42",
        "IPY_MODEL_df9b98e0327f46788aec986b6dc3662d"
       ],
       "layout": "IPY_MODEL_7803494ab7604f80b9b006909eb2cc85"
      }
     },
     "468d39344f1f41b7bad285f77623e0ad": {
      "model_module": "@jupyter-widgets/controls",
      "model_module_version": "1.5.0",
      "model_name": "CheckboxModel",
      "state": {
       "description": "LSD",
       "disabled": false,
       "layout": "IPY_MODEL_caeaac728c48470c945b8ac5d245be04",
       "style": "IPY_MODEL_76e0430961754bfba58b50475f8782c5",
       "value": false
      }
     },
     "46a6c94c730d485ab8f601df13535900": {
      "model_module": "@jupyter-widgets/controls",
      "model_module_version": "1.5.0",
      "model_name": "DescriptionStyleModel",
      "state": {
       "description_width": ""
      }
     },
     "46c762967d7142c1b1d3673ebbbb8c76": {
      "model_module": "@jupyter-widgets/controls",
      "model_module_version": "1.5.0",
      "model_name": "DescriptionStyleModel",
      "state": {
       "description_width": "150px"
      }
     },
     "46fb82cb7f1f4604b86f943b963bc72f": {
      "model_module": "@jupyter-widgets/controls",
      "model_module_version": "1.5.0",
      "model_name": "CheckboxModel",
      "state": {
       "description": "Opioid use disorder Severe",
       "disabled": false,
       "layout": "IPY_MODEL_51a0f9f48b4f4c54a4fbc354f5c3621a",
       "style": "IPY_MODEL_34a3a7480f1e4627ae0e88616d59ffc6",
       "value": true
      }
     },
     "474c745b86e04691be413e248e867683": {
      "model_module": "@jupyter-widgets/controls",
      "model_module_version": "1.5.0",
      "model_name": "DescriptionStyleModel",
      "state": {
       "description_width": "150px"
      }
     },
     "475d823c20fd4b4db5d62b9e84904350": {
      "model_module": "@jupyter-widgets/base",
      "model_module_version": "1.2.0",
      "model_name": "LayoutModel",
      "state": {}
     },
     "477fcf13d02742c2984ce27fde356e80": {
      "model_module": "@jupyter-widgets/controls",
      "model_module_version": "1.5.0",
      "model_name": "DescriptionStyleModel",
      "state": {
       "description_width": "150px"
      }
     },
     "478a4a91c0c84b3f853e2c386eda0a6e": {
      "model_module": "@jupyter-widgets/controls",
      "model_module_version": "1.5.0",
      "model_name": "CheckboxModel",
      "state": {
       "description": "alcohol",
       "disabled": false,
       "layout": "IPY_MODEL_65c347393fe94695906c15c944182c5d",
       "style": "IPY_MODEL_a32c5580c7e54043a26f894040adfbd7",
       "value": false
      }
     },
     "479e591a3709434abe365d1465aa011b": {
      "model_module": "@jupyter-widgets/controls",
      "model_module_version": "1.5.0",
      "model_name": "CheckboxModel",
      "state": {
       "description": "psychosis",
       "disabled": false,
       "layout": "IPY_MODEL_14a2f860f32742658b747b37e3339c30",
       "style": "IPY_MODEL_30821a7e7bb346b3af7b073133724753",
       "value": false
      }
     },
     "47a03ad3226349c68d358a1d9486eed9": {
      "model_module": "@jupyter-widgets/controls",
      "model_module_version": "1.5.0",
      "model_name": "CheckboxModel",
      "state": {
       "description": "insomnia",
       "disabled": false,
       "layout": "IPY_MODEL_db3d94f703df4a49a16b596b142eb869",
       "style": "IPY_MODEL_3d9c2ebbb29942228b77b357031d9c5b",
       "value": false
      }
     },
     "47a34ea72606421882f37664d170b8a5": {
      "model_module": "@jupyter-widgets/controls",
      "model_module_version": "1.5.0",
      "model_name": "CheckboxModel",
      "state": {
       "description": "fentanyl",
       "disabled": false,
       "layout": "IPY_MODEL_f096735906e54ee6a7d90ae897938b32",
       "style": "IPY_MODEL_eeb81455c07444e7b3fe483fd39cf385",
       "value": false
      }
     },
     "47a8f59f829b42ba98cdc88ed9a2adf1": {
      "model_module": "@jupyter-widgets/controls",
      "model_module_version": "1.5.0",
      "model_name": "DescriptionStyleModel",
      "state": {
       "description_width": ""
      }
     },
     "47dad1660a2b4da48e8cf451eb088d81": {
      "model_module": "@jupyter-widgets/controls",
      "model_module_version": "1.5.0",
      "model_name": "VBoxModel",
      "state": {
       "_dom_classes": [
        "widget-interact"
       ],
       "children": [
        "IPY_MODEL_f4e209c28858410bab77f6df15fb3f06",
        "IPY_MODEL_5bf3e10422f4441d95578e9338000e47",
        "IPY_MODEL_09cd0265208a4aa9821d19d19f823c28",
        "IPY_MODEL_3596b01212bd4bbca9cc437c5bdbdd12",
        "IPY_MODEL_3dc09e072b244564b1f88e9ee5fa72d8",
        "IPY_MODEL_5d82477973e94eeab1026f393be3b1e4",
        "IPY_MODEL_e44424c9fbb84b1796298c90e9b40da6",
        "IPY_MODEL_558ad9d88ba94b02b9e202018c8eab77"
       ],
       "layout": "IPY_MODEL_2e46426f9c3845538e7fb1cb0821cb68"
      }
     },
     "47e7b838e9a74ac1b324ca7566e07291": {
      "model_module": "@jupyter-widgets/controls",
      "model_module_version": "1.5.0",
      "model_name": "DescriptionStyleModel",
      "state": {
       "description_width": "150px"
      }
     },
     "47eb8e6c97e1429b96685f87f906854c": {
      "model_module": "@jupyter-widgets/controls",
      "model_module_version": "1.5.0",
      "model_name": "DescriptionStyleModel",
      "state": {
       "description_width": "150px"
      }
     },
     "48165b960dab4d37beecea7e6f96cbf7": {
      "model_module": "@jupyter-widgets/controls",
      "model_module_version": "1.5.0",
      "model_name": "TextareaModel",
      "state": {
       "description": "Current mood:",
       "layout": "IPY_MODEL_0d914f90d8854ab2b43693d80ce07756",
       "placeholder": "Type something",
       "style": "IPY_MODEL_1dfd2348cd6f4545867792bcd7abc0b7",
       "value": "It’s pretty good."
      }
     },
     "4823edac57ba4d3a8fcbc660903da716": {
      "model_module": "@jupyter-widgets/controls",
      "model_module_version": "1.5.0",
      "model_name": "TextModel",
      "state": {
       "description": "labs",
       "layout": "IPY_MODEL_e06b3ce8454d486eb27d8c1908781b31",
       "style": "IPY_MODEL_b2835d5a19c1453fa5708246056c9954",
       "value": "None currently on file."
      }
     },
     "482c782c8f1841de87bc4d73813acbe6": {
      "model_module": "@jupyter-widgets/controls",
      "model_module_version": "1.5.0",
      "model_name": "DropdownModel",
      "state": {
       "_options_labels": [
        "good",
        "fair",
        "poor"
       ],
       "description": "energy",
       "index": 1,
       "layout": "IPY_MODEL_5259318fb468446090efdf421640f15f",
       "style": "IPY_MODEL_207ac6008be648bfbd8bbc1249537ef7"
      }
     },
     "483be285974b4405a24a7274ebbd7204": {
      "model_module": "@jupyter-widgets/controls",
      "model_module_version": "1.5.0",
      "model_name": "DescriptionStyleModel",
      "state": {
       "description_width": "150px"
      }
     },
     "485d5ca21d124593a914606d74e40ce9": {
      "model_module": "@jupyter-widgets/controls",
      "model_module_version": "1.5.0",
      "model_name": "DescriptionStyleModel",
      "state": {
       "description_width": ""
      }
     },
     "48fad2350ef743fa81edb23f7bb9e00e": {
      "model_module": "@jupyter-widgets/controls",
      "model_module_version": "1.5.0",
      "model_name": "DropdownModel",
      "state": {
       "_options_labels": [
        "denies",
        "endorses"
       ],
       "description": "mania",
       "index": 0,
       "layout": "IPY_MODEL_ecfa8b2075df48d78b3e743fdae50eff",
       "style": "IPY_MODEL_9cb0527059cc4be5abb410ab56417fda"
      }
     },
     "4900c12e6b9f4d90a314acb4eecacd65": {
      "model_module": "@jupyter-widgets/output",
      "model_module_version": "1.0.0",
      "model_name": "OutputModel",
      "state": {
       "layout": "IPY_MODEL_a5e10f4d1a414aa3bfc7a29d89a3b3c3",
       "outputs": [
        {
         "name": "stdout",
         "output_type": "stream",
         "text": "\nSubstance Use History:\nThe patient states that their primary substances of abuse include\nnothing with daily use for periods greater than \n6 months with resulting impairment in functioning. \nThey state that they have been in residential treatment 0 times, \nwith their longest period of sobriety lasting 0 days. \nThe patient denies history of IVDU. \nPatient denies seizures, complicated withdrawal, and DTs.\n\n    \n"
        }
       ]
      }
     },
     "49077e65a23e4a039e297dc5d6812771": {
      "model_module": "@jupyter-widgets/base",
      "model_module_version": "1.2.0",
      "model_name": "LayoutModel",
      "state": {}
     },
     "491107e338884f1692c0f2247d278eb1": {
      "model_module": "@jupyter-widgets/base",
      "model_module_version": "1.2.0",
      "model_name": "LayoutModel",
      "state": {}
     },
     "492477c431c94b0fb112f694d23088a5": {
      "model_module": "@jupyter-widgets/controls",
      "model_module_version": "1.5.0",
      "model_name": "DescriptionStyleModel",
      "state": {
       "description_width": ""
      }
     },
     "4929dac7fb0c4992a6a9c4d3d01474f1": {
      "model_module": "@jupyter-widgets/controls",
      "model_module_version": "1.5.0",
      "model_name": "DropdownModel",
      "state": {
       "_options_labels": [
        "denies",
        "endorses"
       ],
       "description": "anxiety",
       "index": 0,
       "layout": "IPY_MODEL_fa9ec4f225bc40b29e03b63fcbcbd3db",
       "style": "IPY_MODEL_379a74e8ddcd49d296af4435a2f1ae1d"
      }
     },
     "4930b0c08a634bac8bf4a27f94910a9b": {
      "model_module": "@jupyter-widgets/base",
      "model_module_version": "1.2.0",
      "model_name": "LayoutModel",
      "state": {}
     },
     "4957af898a114875b4f1d011545e29d3": {
      "model_module": "@jupyter-widgets/controls",
      "model_module_version": "1.5.0",
      "model_name": "DescriptionStyleModel",
      "state": {
       "description_width": "150px"
      }
     },
     "4980af1edff3424ba818ee54b130491b": {
      "model_module": "@jupyter-widgets/controls",
      "model_module_version": "1.5.0",
      "model_name": "DescriptionStyleModel",
      "state": {
       "description_width": ""
      }
     },
     "49aaa17a675e4a1196c1c69bd7ad2f3b": {
      "model_module": "@jupyter-widgets/controls",
      "model_module_version": "1.5.0",
      "model_name": "DropdownModel",
      "state": {
       "_options_labels": [
        "denies",
        "endorses"
       ],
       "description": "sleep",
       "index": 0,
       "layout": "IPY_MODEL_f3ab830ad14c40bcb60503d19e5f9870",
       "style": "IPY_MODEL_5dd7e1bf8b9d41d4b98e87a6de37cea3"
      }
     },
     "49be373c44974073b46c23a881d2a85a": {
      "model_module": "@jupyter-widgets/controls",
      "model_module_version": "1.5.0",
      "model_name": "DropdownModel",
      "state": {
       "_options_labels": [
        "a history",
        "no history"
       ],
       "description": "eating_disorder",
       "index": 1,
       "layout": "IPY_MODEL_5259318fb468446090efdf421640f15f",
       "style": "IPY_MODEL_88bea6610a5947d7a5b16de8377f2600"
      }
     },
     "49d698b1ad364e0786cdf6665291d296": {
      "model_module": "@jupyter-widgets/base",
      "model_module_version": "1.2.0",
      "model_name": "LayoutModel",
      "state": {}
     },
     "49f48536ec8646d4a751b2518ca346e6": {
      "model_module": "@jupyter-widgets/controls",
      "model_module_version": "1.5.0",
      "model_name": "DescriptionStyleModel",
      "state": {
       "description_width": "150px"
      }
     },
     "4a143bce3c42486f91685452b2aa3e38": {
      "model_module": "@jupyter-widgets/controls",
      "model_module_version": "1.5.0",
      "model_name": "TextareaModel",
      "state": {
       "description": "Other:",
       "layout": "IPY_MODEL_5259318fb468446090efdf421640f15f",
       "style": "IPY_MODEL_d012b4b853e04169b4120225b96c8077"
      }
     },
     "4a474cb0505c4470afc3b7342332c2c5": {
      "model_module": "@jupyter-widgets/controls",
      "model_module_version": "1.5.0",
      "model_name": "DropdownModel",
      "state": {
       "_options_labels": [
        "denies",
        "endorses"
       ],
       "description": "seizures",
       "index": 0,
       "layout": "IPY_MODEL_5259318fb468446090efdf421640f15f",
       "style": "IPY_MODEL_0ac44f1876e24180bf3c5ad13b4974b3"
      }
     },
     "4a6495b0409e484b84deda3623f407ce": {
      "model_module": "@jupyter-widgets/controls",
      "model_module_version": "1.5.0",
      "model_name": "DescriptionStyleModel",
      "state": {
       "description_width": "150px"
      }
     },
     "4a6e16e5ca8f4ff592503f725e535b65": {
      "model_module": "@jupyter-widgets/controls",
      "model_module_version": "1.5.0",
      "model_name": "DescriptionStyleModel",
      "state": {
       "description_width": "150px"
      }
     },
     "4a7558c0d735442dbd490c130393c406": {
      "model_module": "@jupyter-widgets/controls",
      "model_module_version": "1.5.0",
      "model_name": "DescriptionStyleModel",
      "state": {
       "description_width": "150px"
      }
     },
     "4a75e4c8b9774d16868321bbac4201fb": {
      "model_module": "@jupyter-widgets/base",
      "model_module_version": "1.2.0",
      "model_name": "LayoutModel",
      "state": {}
     },
     "4aa4f57f810f4145a50bc897eb6db4a9": {
      "model_module": "@jupyter-widgets/base",
      "model_module_version": "1.2.0",
      "model_name": "LayoutModel",
      "state": {}
     },
     "4ad91b4ff41b4269bc9afcd561d23b53": {
      "model_module": "@jupyter-widgets/controls",
      "model_module_version": "1.5.0",
      "model_name": "DescriptionStyleModel",
      "state": {
       "description_width": "150px"
      }
     },
     "4adf1f49d9b94fb3ade618a06551c6bd": {
      "model_module": "@jupyter-widgets/controls",
      "model_module_version": "1.5.0",
      "model_name": "DropdownModel",
      "state": {
       "_options_labels": [
        "denies",
        "endorses"
       ],
       "description": "cravings_choice",
       "index": 0,
       "layout": "IPY_MODEL_57dff8c6f77e4aad88e092f42ad13209",
       "style": "IPY_MODEL_7a5195a56a144284914e18ce58675fd0"
      }
     },
     "4b4b10fbc0d4417d8b1fc11d7accbfa4": {
      "model_module": "@jupyter-widgets/base",
      "model_module_version": "1.2.0",
      "model_name": "LayoutModel",
      "state": {}
     },
     "4b562e9831174e44ac90e8cddf7c179f": {
      "model_module": "@jupyter-widgets/base",
      "model_module_version": "1.2.0",
      "model_name": "LayoutModel",
      "state": {}
     },
     "4b7cc2d3752e4a578d24c3d58d8412ec": {
      "model_module": "@jupyter-widgets/base",
      "model_module_version": "1.2.0",
      "model_name": "LayoutModel",
      "state": {}
     },
     "4b8ce366e5b14d329f5d5cf55473b349": {
      "model_module": "@jupyter-widgets/controls",
      "model_module_version": "1.5.0",
      "model_name": "TextareaModel",
      "state": {
       "description": "Other:",
       "layout": "IPY_MODEL_ecfa8b2075df48d78b3e743fdae50eff",
       "style": "IPY_MODEL_d748a9f399f74048b677a2879d628422"
      }
     },
     "4b954d0f30f24e9a8f2817706b336bd4": {
      "model_module": "@jupyter-widgets/controls",
      "model_module_version": "1.5.0",
      "model_name": "DescriptionStyleModel",
      "state": {
       "description_width": "150px"
      }
     },
     "4bb955fe05914175913202005d46013e": {
      "model_module": "@jupyter-widgets/base",
      "model_module_version": "1.2.0",
      "model_name": "LayoutModel",
      "state": {}
     },
     "4bd6de18e18c49b8b44cdc5ee8064d7e": {
      "model_module": "@jupyter-widgets/controls",
      "model_module_version": "1.5.0",
      "model_name": "DropdownModel",
      "state": {
       "_options_labels": [
        "declines",
        "is amenable with"
       ],
       "description": "med_adjust",
       "index": 0,
       "layout": "IPY_MODEL_64f3493d9e7e4cd79d693795fcd61555",
       "style": "IPY_MODEL_8e08d2675e1640329c78b21e0c28b34b"
      }
     },
     "4bd7fc3c3e064e0db533ec69f63f1045": {
      "model_module": "@jupyter-widgets/controls",
      "model_module_version": "1.5.0",
      "model_name": "DescriptionStyleModel",
      "state": {
       "description_width": ""
      }
     },
     "4bdb5166b69742cdae5c7b53778e95a4": {
      "model_module": "@jupyter-widgets/controls",
      "model_module_version": "1.5.0",
      "model_name": "DropdownModel",
      "state": {
       "_options_labels": [
        "a history",
        "no history"
       ],
       "description": "eating_disorder",
       "index": 1,
       "layout": "IPY_MODEL_64f3493d9e7e4cd79d693795fcd61555",
       "style": "IPY_MODEL_de9cf0adcfe64156851f2ef46ce31a73"
      }
     },
     "4be6ad4134074038ba7d6d8e96173f5e": {
      "model_module": "@jupyter-widgets/output",
      "model_module_version": "1.0.0",
      "model_name": "OutputModel",
      "state": {
       "layout": "IPY_MODEL_f0326a4de2924feabeee954fdeaee9f2",
       "outputs": [
        {
         "name": "stdout",
         "output_type": "stream",
         "text": "\nSocial History:\nThe patient states that they are single, and have 3 children. \nThey report that they are currently living in sober living. \nThe patient denies any history of legal problems.  \nThe patient denies a history of abuse.\nreports hx of sexual and physical abuse. \n\n"
        }
       ]
      }
     },
     "4bf95193c19e47909eec25c2e2fd38b8": {
      "model_module": "@jupyter-widgets/controls",
      "model_module_version": "1.5.0",
      "model_name": "VBoxModel",
      "state": {
       "_dom_classes": [
        "widget-interact"
       ],
       "children": [
        "IPY_MODEL_1d8d12d32f564c8a9a90a436be3a9443",
        "IPY_MODEL_3ad39417cffc4743b3f2a9cfd3da4c22",
        "IPY_MODEL_5634bf9237344a78a9e850ca438f12fe",
        "IPY_MODEL_270a49bb4f31425cb3c067c61e0ef918",
        "IPY_MODEL_889870679c294917b47a395903b8aee0",
        "IPY_MODEL_23d2e89792f14a428575e111443c6026",
        "IPY_MODEL_a20a09dc3c5d4373af1cf6fe82b051ce",
        "IPY_MODEL_722183903c9b4b09a95f1721717df6af",
        "IPY_MODEL_dd9eadcd71174e74a62422a5c442e032"
       ],
       "layout": "IPY_MODEL_8b486b486b4d485592dbc50e9fcded6f"
      }
     },
     "4c5b6c1458734e69891d3d65d1f970b2": {
      "model_module": "@jupyter-widgets/controls",
      "model_module_version": "1.5.0",
      "model_name": "DescriptionStyleModel",
      "state": {
       "description_width": "150px"
      }
     },
     "4c61c8d361d940328ab1b19e214e91e0": {
      "model_module": "@jupyter-widgets/controls",
      "model_module_version": "1.5.0",
      "model_name": "TextareaModel",
      "state": {
       "description": "notes",
       "layout": "IPY_MODEL_ecfa8b2075df48d78b3e743fdae50eff",
       "style": "IPY_MODEL_09f38bc6e8b4472ab0b16758bfbb449a",
       "value": "married 15 years"
      }
     },
     "4c64e89261f944ebb021e1dbe3945aff": {
      "model_module": "@jupyter-widgets/controls",
      "model_module_version": "1.5.0",
      "model_name": "DropdownModel",
      "state": {
       "_options_labels": [
        "denies",
        "endorses"
       ],
       "description": "tbi_medical",
       "index": 0,
       "layout": "IPY_MODEL_fa9ec4f225bc40b29e03b63fcbcbd3db",
       "style": "IPY_MODEL_ee023538971346bf8d33dda6c2198bf3"
      }
     },
     "4c67f45bc33d4a8693b30a8059fa2f64": {
      "model_module": "@jupyter-widgets/controls",
      "model_module_version": "1.5.0",
      "model_name": "DescriptionStyleModel",
      "state": {
       "description_width": "150px"
      }
     },
     "4c6a65a8cec740c18bac2c77e5f13856": {
      "model_module": "@jupyter-widgets/controls",
      "model_module_version": "1.5.0",
      "model_name": "VBoxModel",
      "state": {
       "_dom_classes": [
        "widget-interact"
       ],
       "children": [
        "IPY_MODEL_48165b960dab4d37beecea7e6f96cbf7",
        "IPY_MODEL_ca9d692055d84c9fbbf952b3b1eeadae"
       ],
       "layout": "IPY_MODEL_6daa6e2e1795495ea8489d9a5642fa5e"
      }
     },
     "4c78b5c14adb414bb1748ae8c0d94d2c": {
      "model_module": "@jupyter-widgets/base",
      "model_module_version": "1.2.0",
      "model_name": "LayoutModel",
      "state": {}
     },
     "4c98400b92164b35ab19573712a815f2": {
      "model_module": "@jupyter-widgets/base",
      "model_module_version": "1.2.0",
      "model_name": "LayoutModel",
      "state": {}
     },
     "4cc1af4ed5ef48f68a501e82be92f995": {
      "model_module": "@jupyter-widgets/controls",
      "model_module_version": "1.5.0",
      "model_name": "TextareaModel",
      "state": {
       "description": "current_medication",
       "layout": "IPY_MODEL_ecfa8b2075df48d78b3e743fdae50eff",
       "placeholder": "Type something",
       "style": "IPY_MODEL_d782814f812f4389818af4e707f45ace",
       "value": "advil"
      }
     },
     "4cef2a87cf904c6881f6871a214bcb32": {
      "model_module": "@jupyter-widgets/controls",
      "model_module_version": "1.5.0",
      "model_name": "CheckboxModel",
      "state": {
       "description": "adhd",
       "disabled": false,
       "layout": "IPY_MODEL_57a84591e5584f5caf367af97e499ed7",
       "style": "IPY_MODEL_485d5ca21d124593a914606d74e40ce9",
       "value": false
      }
     },
     "4d166b8b1dd54d06b3c875b77b4412e3": {
      "model_module": "@jupyter-widgets/output",
      "model_module_version": "1.0.0",
      "model_name": "OutputModel",
      "state": {
       "layout": "IPY_MODEL_fed90139f50b4957a3ebff6fafed7f0a",
       "outputs": [
        {
         "name": "stdout",
         "output_type": "stream",
         "text": "\nPsychiatric History: \nPatient denies any history of psychiatric hospitalizations. \nPatient denies suicide attempts, \nPatient denies self-injurious behavior. \nPrevious meds: none \nCurrent outpatient psychiatrist: None\nHx of depression in 2019. Reports hx of adhd in youth.\n\n"
        }
       ]
      }
     },
     "4d22d43d427049fd852423c13ac3c4ba": {
      "model_module": "@jupyter-widgets/controls",
      "model_module_version": "1.5.0",
      "model_name": "TextareaModel",
      "state": {
       "description": "notes",
       "layout": "IPY_MODEL_57dff8c6f77e4aad88e092f42ad13209",
       "style": "IPY_MODEL_e5dc925e61bb4529b021ee5dbe97293a",
       "value": "\"yes, I had bad anxiety last week, I got my period\""
      }
     },
     "4d3f39fdbc254344b773563f0681dc11": {
      "model_module": "@jupyter-widgets/controls",
      "model_module_version": "1.5.0",
      "model_name": "DropdownModel",
      "state": {
       "_options_labels": [
        "days",
        "months",
        "years"
       ],
       "description": "sober_period",
       "index": 0,
       "layout": "IPY_MODEL_ecfa8b2075df48d78b3e743fdae50eff",
       "style": "IPY_MODEL_0b49d405ff4243feb791e538699f23d7"
      }
     },
     "4d48858ba7a54b4a9fdeab68255462b3": {
      "model_module": "@jupyter-widgets/controls",
      "model_module_version": "1.5.0",
      "model_name": "DropdownModel",
      "state": {
       "_options_labels": [
        "single",
        "married"
       ],
       "description": "married",
       "index": 0,
       "layout": "IPY_MODEL_f3ab830ad14c40bcb60503d19e5f9870",
       "style": "IPY_MODEL_8ce53486eb984cdfbaba57dd7565815b"
      }
     },
     "4da19309329347f390e7970aba8135f7": {
      "model_module": "@jupyter-widgets/controls",
      "model_module_version": "1.5.0",
      "model_name": "DescriptionStyleModel",
      "state": {
       "description_width": "150px"
      }
     },
     "4dca9c71545c4503899b8009a91b45e3": {
      "model_module": "@jupyter-widgets/controls",
      "model_module_version": "1.5.0",
      "model_name": "DescriptionStyleModel",
      "state": {
       "description_width": ""
      }
     },
     "4dd1b45576b249209ac4a5b98f8d124a": {
      "model_module": "@jupyter-widgets/controls",
      "model_module_version": "1.5.0",
      "model_name": "DescriptionStyleModel",
      "state": {
       "description_width": ""
      }
     },
     "4e44e6f535bd406eae52f337eba0de20": {
      "model_module": "@jupyter-widgets/controls",
      "model_module_version": "1.5.0",
      "model_name": "CheckboxModel",
      "state": {
       "description": "depression",
       "disabled": false,
       "layout": "IPY_MODEL_e025ca64c2b541aabb3ec8d3c9e2fa0e",
       "style": "IPY_MODEL_3ef39bbc448b4cd29988398988d2a453",
       "value": false
      }
     },
     "4e889d0784b14627bf68ad39a256426a": {
      "model_module": "@jupyter-widgets/controls",
      "model_module_version": "1.5.0",
      "model_name": "DropdownModel",
      "state": {
       "_options_labels": [
        "a history",
        "no history"
       ],
       "description": "learning_disabilties",
       "index": 1,
       "layout": "IPY_MODEL_64f3493d9e7e4cd79d693795fcd61555",
       "style": "IPY_MODEL_97b9a9c821d449269d073c160b1e0ff8"
      }
     },
     "4e9531aa05664439afb618fed17d7fe4": {
      "model_module": "@jupyter-widgets/controls",
      "model_module_version": "1.5.0",
      "model_name": "DescriptionStyleModel",
      "state": {
       "description_width": ""
      }
     },
     "4ea333628747486d9242869ab908db66": {
      "model_module": "@jupyter-widgets/controls",
      "model_module_version": "1.5.0",
      "model_name": "DescriptionStyleModel",
      "state": {
       "description_width": "150px"
      }
     },
     "4ed632bf065e42058429f79a8861ed55": {
      "model_module": "@jupyter-widgets/controls",
      "model_module_version": "1.5.0",
      "model_name": "DescriptionStyleModel",
      "state": {
       "description_width": ""
      }
     },
     "4eed82d1cbe74885b2064a1b60e5d8af": {
      "model_module": "@jupyter-widgets/controls",
      "model_module_version": "1.5.0",
      "model_name": "DescriptionStyleModel",
      "state": {
       "description_width": ""
      }
     },
     "4f01c4bf0ff24a8c9be6f66c7eb04990": {
      "model_module": "@jupyter-widgets/controls",
      "model_module_version": "1.5.0",
      "model_name": "DescriptionStyleModel",
      "state": {
       "description_width": "150px"
      }
     },
     "4f34e91cb3d141d2a7af7a38b1de4509": {
      "model_module": "@jupyter-widgets/controls",
      "model_module_version": "1.5.0",
      "model_name": "CheckboxModel",
      "state": {
       "description": "fentanyl",
       "disabled": false,
       "layout": "IPY_MODEL_720c9288646f44d28e18445aec33f9f5",
       "style": "IPY_MODEL_6241063e2b5d420092551b5354b0d811",
       "value": false
      }
     },
     "4f9b4c2269a4491aacc5dcc71220cf7b": {
      "model_module": "@jupyter-widgets/base",
      "model_module_version": "1.2.0",
      "model_name": "LayoutModel",
      "state": {}
     },
     "4fae3546c4364241928c1be334d117a2": {
      "model_module": "@jupyter-widgets/controls",
      "model_module_version": "1.5.0",
      "model_name": "DropdownModel",
      "state": {
       "_options_labels": [
        "denies",
        "endorses"
       ],
       "description": "suicide",
       "index": 0,
       "layout": "IPY_MODEL_f3ab830ad14c40bcb60503d19e5f9870",
       "style": "IPY_MODEL_43be023158a246cbb1e1df3a00e77428"
      }
     },
     "4fbd5d01b5054f038d690fe1e6c32cd2": {
      "model_module": "@jupyter-widgets/base",
      "model_module_version": "1.2.0",
      "model_name": "LayoutModel",
      "state": {}
     },
     "4fff1587c722406682cd8a4998c31d83": {
      "model_module": "@jupyter-widgets/controls",
      "model_module_version": "1.5.0",
      "model_name": "DescriptionStyleModel",
      "state": {
       "description_width": "150px"
      }
     },
     "5026e7aa3d0b42dbac41e322512a74d8": {
      "model_module": "@jupyter-widgets/controls",
      "model_module_version": "1.5.0",
      "model_name": "DropdownModel",
      "state": {
       "_options_labels": [
        "denies",
        "endorses"
       ],
       "description": "hopelessness",
       "index": 0,
       "layout": "IPY_MODEL_64f3493d9e7e4cd79d693795fcd61555",
       "style": "IPY_MODEL_64a528ca347047df8ad9c95191c39bbd"
      }
     },
     "505bb9d54aaf435f9ad5a4d9a82578e7": {
      "model_module": "@jupyter-widgets/controls",
      "model_module_version": "1.5.0",
      "model_name": "DescriptionStyleModel",
      "state": {
       "description_width": "150px"
      }
     },
     "505d1ddf665349f3b5d6a089ed64743f": {
      "model_module": "@jupyter-widgets/controls",
      "model_module_version": "1.5.0",
      "model_name": "TextModel",
      "state": {
       "description": "outpatient_psychiatrist",
       "layout": "IPY_MODEL_64f3493d9e7e4cd79d693795fcd61555",
       "style": "IPY_MODEL_b8184640c03b4e9886c84a8fc64428c9",
       "value": "None"
      }
     },
     "50613d5f42194138b841d8e26f65d22e": {
      "model_module": "@jupyter-widgets/controls",
      "model_module_version": "1.5.0",
      "model_name": "DropdownModel",
      "state": {
       "_options_labels": [
        "single",
        "married"
       ],
       "description": "married",
       "index": 0,
       "layout": "IPY_MODEL_fa9ec4f225bc40b29e03b63fcbcbd3db",
       "style": "IPY_MODEL_c9a317fd6ea94a18a388a6dfecdec38e"
      }
     },
     "509675e366b34582954c9123c7b0e69f": {
      "model_module": "@jupyter-widgets/controls",
      "model_module_version": "1.5.0",
      "model_name": "CheckboxModel",
      "state": {
       "description": "polysubstance",
       "disabled": false,
       "layout": "IPY_MODEL_b50298a6e875483f97edf0852f30b420",
       "style": "IPY_MODEL_47a8f59f829b42ba98cdc88ed9a2adf1",
       "value": false
      }
     },
     "50a7a413793243099e91af896da7ec87": {
      "model_module": "@jupyter-widgets/base",
      "model_module_version": "1.2.0",
      "model_name": "LayoutModel",
      "state": {}
     },
     "51026898257147df86dd2a4b1276f19e": {
      "model_module": "@jupyter-widgets/controls",
      "model_module_version": "1.5.0",
      "model_name": "TextareaModel",
      "state": {
       "description": "notes",
       "layout": "IPY_MODEL_5259318fb468446090efdf421640f15f",
       "style": "IPY_MODEL_db13d81e46dc4f4fb38fef2872e552d0"
      }
     },
     "5107c2a323cc4fb39d06246504647127": {
      "model_module": "@jupyter-widgets/controls",
      "model_module_version": "1.5.0",
      "model_name": "DescriptionStyleModel",
      "state": {
       "description_width": ""
      }
     },
     "510e1a8714f9445198b87025dcd17cd9": {
      "model_module": "@jupyter-widgets/base",
      "model_module_version": "1.2.0",
      "model_name": "LayoutModel",
      "state": {}
     },
     "510e61714c314c2bb80517a8a1f40f19": {
      "model_module": "@jupyter-widgets/controls",
      "model_module_version": "1.5.0",
      "model_name": "DescriptionStyleModel",
      "state": {
       "description_width": "150px"
      }
     },
     "5117c47ed5a443a4aada22712b86231b": {
      "model_module": "@jupyter-widgets/base",
      "model_module_version": "1.2.0",
      "model_name": "LayoutModel",
      "state": {}
     },
     "51533299658e4ae49d927ce1be7ea9a0": {
      "model_module": "@jupyter-widgets/controls",
      "model_module_version": "1.5.0",
      "model_name": "BoundedIntTextModel",
      "state": {
       "description": "num_times_in_treatment",
       "layout": "IPY_MODEL_ecfa8b2075df48d78b3e743fdae50eff",
       "style": "IPY_MODEL_fcded3ffaa2741dfbb892330e1ebb784",
       "value": 3
      }
     },
     "51559ede2e564ef289cca93aa37794e3": {
      "model_module": "@jupyter-widgets/controls",
      "model_module_version": "1.5.0",
      "model_name": "DropdownModel",
      "state": {
       "_options_labels": [
        "denies",
        "endorses"
       ],
       "description": "ivdu",
       "index": 0,
       "layout": "IPY_MODEL_ecfa8b2075df48d78b3e743fdae50eff",
       "style": "IPY_MODEL_3311310b93fe40a08b57f6b9ceaf02cb"
      }
     },
     "517b90586f7b4f9d9e1317de68c9427b": {
      "model_module": "@jupyter-widgets/controls",
      "model_module_version": "1.5.0",
      "model_name": "TextareaModel",
      "state": {
       "description": "Current mood:",
       "layout": "IPY_MODEL_8364691768404bc8a6bfa4ec6c517aa9",
       "placeholder": "Type something",
       "style": "IPY_MODEL_74e74b5a98a74d29a5b132a1c6f2a487",
       "value": "It’s pretty good."
      }
     },
     "51a0f9f48b4f4c54a4fbc354f5c3621a": {
      "model_module": "@jupyter-widgets/base",
      "model_module_version": "1.2.0",
      "model_name": "LayoutModel",
      "state": {}
     },
     "51f48dfbcfd6450d9fc3d51c28789e00": {
      "model_module": "@jupyter-widgets/controls",
      "model_module_version": "1.5.0",
      "model_name": "CheckboxModel",
      "state": {
       "description": "Amphetamine-type substance use disorder Severe",
       "disabled": false,
       "layout": "IPY_MODEL_825d1d88a7db4a60b12f80bae92aebca",
       "style": "IPY_MODEL_24595b87896442a3b0ceb2079c999dd8",
       "value": false
      }
     },
     "520f9ebe3b3f4d75804e0bd51949c888": {
      "model_module": "@jupyter-widgets/base",
      "model_module_version": "1.2.0",
      "model_name": "LayoutModel",
      "state": {}
     },
     "5213b90f0c0b4d77be53efb850fe8fa9": {
      "model_module": "@jupyter-widgets/controls",
      "model_module_version": "1.5.0",
      "model_name": "DropdownModel",
      "state": {
       "_options_labels": [
        "denies",
        "endorses"
       ],
       "description": "self_injury",
       "index": 0,
       "layout": "IPY_MODEL_64f3493d9e7e4cd79d693795fcd61555",
       "style": "IPY_MODEL_cc84b4180a254650ab6fc9407f0558a2"
      }
     },
     "5259318fb468446090efdf421640f15f": {
      "model_module": "@jupyter-widgets/base",
      "model_module_version": "1.2.0",
      "model_name": "LayoutModel",
      "state": {
       "width": "50%"
      }
     },
     "52a6bb6c466a4f638355c7b990f698d7": {
      "model_module": "@jupyter-widgets/controls",
      "model_module_version": "1.5.0",
      "model_name": "DescriptionStyleModel",
      "state": {
       "description_width": "150px"
      }
     },
     "53028f8da9cb43a282e5e6ae9bc12e01": {
      "model_module": "@jupyter-widgets/controls",
      "model_module_version": "1.5.0",
      "model_name": "DropdownModel",
      "state": {
       "_options_labels": [
        "a history",
        "no history"
       ],
       "description": "mania",
       "index": 0,
       "layout": "IPY_MODEL_f3ab830ad14c40bcb60503d19e5f9870",
       "style": "IPY_MODEL_b56931f20082464cb8989b65540b6ae2"
      }
     },
     "5327ea880d5940d49287c97e5fb0ba63": {
      "model_module": "@jupyter-widgets/controls",
      "model_module_version": "1.5.0",
      "model_name": "DescriptionStyleModel",
      "state": {
       "description_width": "150px"
      }
     },
     "532f69a981f6461e975d86afc2c67b13": {
      "model_module": "@jupyter-widgets/base",
      "model_module_version": "1.2.0",
      "model_name": "LayoutModel",
      "state": {}
     },
     "536a47d67164446c9824c584a2c78224": {
      "model_module": "@jupyter-widgets/controls",
      "model_module_version": "1.5.0",
      "model_name": "CheckboxModel",
      "state": {
       "description": "insomnia",
       "disabled": false,
       "layout": "IPY_MODEL_ea13c2b1fb494209b1dd920cb68568cb",
       "style": "IPY_MODEL_61f27537173f4ac79cdf696e76d256eb",
       "value": false
      }
     },
     "53906a242540437aac885dfb27c87419": {
      "model_module": "@jupyter-widgets/base",
      "model_module_version": "1.2.0",
      "model_name": "LayoutModel",
      "state": {}
     },
     "53bfd517c38d466497c71def29c29f55": {
      "model_module": "@jupyter-widgets/base",
      "model_module_version": "1.2.0",
      "model_name": "LayoutModel",
      "state": {
       "height": "100px",
       "width": "500px"
      }
     },
     "53c9f6a853e84df69403532fe6f2651d": {
      "model_module": "@jupyter-widgets/controls",
      "model_module_version": "1.5.0",
      "model_name": "DropdownModel",
      "state": {
       "_options_labels": [
        "denies",
        "endorses"
       ],
       "description": "sleep",
       "index": 0,
       "layout": "IPY_MODEL_fa9ec4f225bc40b29e03b63fcbcbd3db",
       "style": "IPY_MODEL_7dd25f364f49485ab010b1dce32cf928"
      }
     },
     "53eacb97adcc4723b6615fde37bdcd38": {
      "model_module": "@jupyter-widgets/controls",
      "model_module_version": "1.5.0",
      "model_name": "VBoxModel",
      "state": {
       "_dom_classes": [
        "widget-interact"
       ],
       "children": [
        "IPY_MODEL_ce22ab62392d48e094199d22ee423bb5",
        "IPY_MODEL_01827815511648d7b862ac5a52466a32",
        "IPY_MODEL_d5a3ccfe888c462293755b0e62ee986c",
        "IPY_MODEL_1babb8eea4a6491686bfa172ca90d793",
        "IPY_MODEL_09a916e9d5b54631aa04c6535e92594c",
        "IPY_MODEL_4d3f39fdbc254344b773563f0681dc11",
        "IPY_MODEL_2768bbf707684a3d97606b1edf5161a0",
        "IPY_MODEL_faf4e3adf56e47ba961c35754912a3b9",
        "IPY_MODEL_070db2fbe1be48a19292b729a4d6fa53"
       ],
       "layout": "IPY_MODEL_5e65170cdfe14fe1997b5380e36de07f"
      }
     },
     "53f32d8e361d4ad2ac7228a2f6b00e16": {
      "model_module": "@jupyter-widgets/controls",
      "model_module_version": "1.5.0",
      "model_name": "DescriptionStyleModel",
      "state": {
       "description_width": ""
      }
     },
     "53fe7018dfdf433da7161ce08d7e797b": {
      "model_module": "@jupyter-widgets/controls",
      "model_module_version": "1.5.0",
      "model_name": "DescriptionStyleModel",
      "state": {
       "description_width": "150px"
      }
     },
     "53fea5807cd14747bf17cddb733a1660": {
      "model_module": "@jupyter-widgets/controls",
      "model_module_version": "1.5.0",
      "model_name": "VBoxModel",
      "state": {
       "children": [
        "IPY_MODEL_25169d6fdfea43b49fd4d342188300b9",
        "IPY_MODEL_e1a8873668d84706ac859401f5b590fb",
        "IPY_MODEL_8d951670bc484d0a8b1d60ce90475500",
        "IPY_MODEL_0ab3fabf49fb4201b23ff497d4843762"
       ],
       "layout": "IPY_MODEL_efe9878053ae494e8c91331c5bd9dca8"
      }
     },
     "54076a0f5e3248b0bdf7733a2eb18d86": {
      "model_module": "@jupyter-widgets/controls",
      "model_module_version": "1.5.0",
      "model_name": "DescriptionStyleModel",
      "state": {
       "description_width": ""
      }
     },
     "540a298405c7411ea63bfd87f13a2e6c": {
      "model_module": "@jupyter-widgets/controls",
      "model_module_version": "1.5.0",
      "model_name": "CheckboxModel",
      "state": {
       "description": "psychosis",
       "disabled": false,
       "layout": "IPY_MODEL_4bb955fe05914175913202005d46013e",
       "style": "IPY_MODEL_bf4dbcb8e5b94e9aaddb2546e574c44f",
       "value": false
      }
     },
     "5425e634379643bcafb96fd973fd28e8": {
      "model_module": "@jupyter-widgets/controls",
      "model_module_version": "1.5.0",
      "model_name": "DescriptionStyleModel",
      "state": {
       "description_width": "150px"
      }
     },
     "546a25f1073443fbb0094d7ca078656c": {
      "model_module": "@jupyter-widgets/controls",
      "model_module_version": "1.5.0",
      "model_name": "DescriptionStyleModel",
      "state": {
       "description_width": ""
      }
     },
     "5472847356ab4cd6b2f25675cd9d9e02": {
      "model_module": "@jupyter-widgets/controls",
      "model_module_version": "1.5.0",
      "model_name": "DescriptionStyleModel",
      "state": {
       "description_width": ""
      }
     },
     "551de7d79f704ae496823295fcae0a0a": {
      "model_module": "@jupyter-widgets/base",
      "model_module_version": "1.2.0",
      "model_name": "LayoutModel",
      "state": {}
     },
     "55319b4f4e7e48779fc0b21838863127": {
      "model_module": "@jupyter-widgets/controls",
      "model_module_version": "1.5.0",
      "model_name": "TextareaModel",
      "state": {
       "description": "notes",
       "layout": "IPY_MODEL_f3ab830ad14c40bcb60503d19e5f9870",
       "style": "IPY_MODEL_c79cc964cc08418cb0794b53c89f96f5",
       "value": "Reports diagnosed with bipolar disorder in 2017, last manic episode june 2021. "
      }
     },
     "55435d53da5c4cf0b06c971630b319f5": {
      "model_module": "@jupyter-widgets/output",
      "model_module_version": "1.0.0",
      "model_name": "OutputModel",
      "state": {
       "layout": "IPY_MODEL_7aad66b125684688ac5d2799cb9093df",
       "outputs": [
        {
         "name": "stdout",
         "output_type": "stream",
         "text": "\nThe patient endorses that they worry regularly about multiple aspects of their life with accompanying physical symptoms.\nOver the past several weeks, the patient endorses any excessive worrying,  \nfeeling keyed up and on edge, irritability, or panic attacks. \n\"My medication helps with anxiety\"\n\n"
        }
       ]
      }
     },
     "5545a8b781574f6a80de82774efad70b": {
      "model_module": "@jupyter-widgets/base",
      "model_module_version": "1.2.0",
      "model_name": "LayoutModel",
      "state": {}
     },
     "5550b40f1a534282a867470d91444446": {
      "model_module": "@jupyter-widgets/controls",
      "model_module_version": "1.5.0",
      "model_name": "DropdownModel",
      "state": {
       "_options_labels": [
        "denies",
        "endorses"
       ],
       "description": "current_trauma",
       "index": 1,
       "layout": "IPY_MODEL_f3ab830ad14c40bcb60503d19e5f9870",
       "style": "IPY_MODEL_31f667834aa349f2b2e893564bb0414d"
      }
     },
     "558ad9d88ba94b02b9e202018c8eab77": {
      "model_module": "@jupyter-widgets/output",
      "model_module_version": "1.0.0",
      "model_name": "OutputModel",
      "state": {
       "layout": "IPY_MODEL_859d4b541fe6404e82795b466093e295",
       "outputs": [
        {
         "name": "stdout",
         "output_type": "stream",
         "text": "\nSubstance Use History:\nThe patient states that their primary substances of abuse include\nnothing with daily use for periods greater than \n6 months with resulting impairment in functioning. \nThey state that they have been in residential treatment 0 times, \nwith their longest period of sobriety lasting 0 days. \nThe patient denies history of IVDU. \nPatient denies seizures, complicated withdrawal, and DTs.\n\n    \n"
        }
       ]
      }
     },
     "55ad8eef01c94e519afca2e7bed8f8b4": {
      "model_module": "@jupyter-widgets/controls",
      "model_module_version": "1.5.0",
      "model_name": "DescriptionStyleModel",
      "state": {
       "description_width": "150px"
      }
     },
     "55bcb2ce530846db9f423391e6885b06": {
      "model_module": "@jupyter-widgets/controls",
      "model_module_version": "1.5.0",
      "model_name": "DescriptionStyleModel",
      "state": {
       "description_width": ""
      }
     },
     "55c8052c00954a0ab5fc4b9c2f9e273c": {
      "model_module": "@jupyter-widgets/controls",
      "model_module_version": "1.5.0",
      "model_name": "DropdownModel",
      "state": {
       "_options_labels": [
        "denies",
        "endorses"
       ],
       "description": "guilt",
       "index": 0,
       "layout": "IPY_MODEL_57dff8c6f77e4aad88e092f42ad13209",
       "style": "IPY_MODEL_8b58f2870be54008b1a1ebd996329dba"
      }
     },
     "5631fad79d3e42b88887cd9fb2f3fe0a": {
      "model_module": "@jupyter-widgets/controls",
      "model_module_version": "1.5.0",
      "model_name": "CheckboxModel",
      "state": {
       "description": "schizophrenia",
       "disabled": false,
       "layout": "IPY_MODEL_17dd0a358a6341ae94cd32d48a59f515",
       "style": "IPY_MODEL_cafd24b2c5744a86b24925d18f4493a0",
       "value": false
      }
     },
     "5634bf9237344a78a9e850ca438f12fe": {
      "model_module": "@jupyter-widgets/controls",
      "model_module_version": "1.5.0",
      "model_name": "DropdownModel",
      "state": {
       "_options_labels": [
        "denies",
        "endorses"
       ],
       "description": "cravings_choice",
       "index": 0,
       "layout": "IPY_MODEL_f3ab830ad14c40bcb60503d19e5f9870",
       "style": "IPY_MODEL_19c6de9748fd4142995de38aff8ac8b5"
      }
     },
     "5653ce2f59c3481485b158d9e03e2693": {
      "model_module": "@jupyter-widgets/controls",
      "model_module_version": "1.5.0",
      "model_name": "CheckboxModel",
      "state": {
       "description": "schizophrenia",
       "disabled": false,
       "layout": "IPY_MODEL_fcde67824a754f89adf698951058e27c",
       "style": "IPY_MODEL_b6a7d5efca1146bd8c8b90b2e1ab7af8",
       "value": false
      }
     },
     "5657b7ac808541daafb1ef45b072aef6": {
      "model_module": "@jupyter-widgets/controls",
      "model_module_version": "1.5.0",
      "model_name": "TextModel",
      "state": {
       "description": "Pronoun:",
       "layout": "IPY_MODEL_11320eee52854a7ea5a6a5e9f0bf72ad",
       "style": "IPY_MODEL_5e303329d9d344f48bdba4918be6a600",
       "value": "they"
      }
     },
     "56fb763aff254bd8831905251e87f00c": {
      "model_module": "@jupyter-widgets/controls",
      "model_module_version": "1.5.0",
      "model_name": "VBoxModel",
      "state": {
       "_dom_classes": [
        "widget-interact"
       ],
       "children": [
        "IPY_MODEL_a741f9733e4541d887c0c97715704e38",
        "IPY_MODEL_e3eb889a45d0403195c8c87d71023c64",
        "IPY_MODEL_8880fbfeb0824aa2b0b2e55148651567",
        "IPY_MODEL_28311f93c006492e8bd785c59ed0bc10",
        "IPY_MODEL_23a40d5828fb486a967cdc7e32857b98",
        "IPY_MODEL_cc5cdd509b2a443ead01221def213e72"
       ],
       "layout": "IPY_MODEL_c095594688bd479986ceadcfd6f9ad5e"
      }
     },
     "570361bd20df40aa87f8baf655e43f7d": {
      "model_module": "@jupyter-widgets/controls",
      "model_module_version": "1.5.0",
      "model_name": "DescriptionStyleModel",
      "state": {
       "description_width": ""
      }
     },
     "574652c16e1c46f79fc7259ccd95ccb2": {
      "model_module": "@jupyter-widgets/controls",
      "model_module_version": "1.5.0",
      "model_name": "DropdownModel",
      "state": {
       "_options_labels": [
        "denies",
        "endorses"
       ],
       "description": "legal",
       "index": 0,
       "layout": "IPY_MODEL_64f3493d9e7e4cd79d693795fcd61555",
       "style": "IPY_MODEL_5be8415b8c804b0c89f85d5ab2a66d66"
      }
     },
     "5772f115a7d4472b91a8feda9e988243": {
      "model_module": "@jupyter-widgets/controls",
      "model_module_version": "1.5.0",
      "model_name": "TextareaModel",
      "state": {
       "description": "notes",
       "layout": "IPY_MODEL_ecfa8b2075df48d78b3e743fdae50eff",
       "style": "IPY_MODEL_d8c03cda99d24995acbe85eb6b1ef17c",
       "value": "extra notes"
      }
     },
     "57a84591e5584f5caf367af97e499ed7": {
      "model_module": "@jupyter-widgets/base",
      "model_module_version": "1.2.0",
      "model_name": "LayoutModel",
      "state": {}
     },
     "57c511dbb3d74b2aa60ed3029edb9d8d": {
      "model_module": "@jupyter-widgets/controls",
      "model_module_version": "1.5.0",
      "model_name": "VBoxModel",
      "state": {
       "children": [
        "IPY_MODEL_acee5da9d40345d890b7d351cc9cbb71",
        "IPY_MODEL_86749eeaff2e43519e2eee75ca10d1fc",
        "IPY_MODEL_a654b17f720d41a4be8d2165f13a895e",
        "IPY_MODEL_635d17e118cc4c8da7010c6b76cb2524"
       ],
       "layout": "IPY_MODEL_8173e92b46fa440bae9db7fd1c54483e"
      }
     },
     "57d58bde4a4942e2a9b3cf678c763252": {
      "model_module": "@jupyter-widgets/base",
      "model_module_version": "1.2.0",
      "model_name": "LayoutModel",
      "state": {}
     },
     "57dff8c6f77e4aad88e092f42ad13209": {
      "model_module": "@jupyter-widgets/base",
      "model_module_version": "1.2.0",
      "model_name": "LayoutModel",
      "state": {
       "width": "50%"
      }
     },
     "57f40f63276b46b4b36d390f8a422124": {
      "model_module": "@jupyter-widgets/base",
      "model_module_version": "1.2.0",
      "model_name": "LayoutModel",
      "state": {}
     },
     "5851b201fabd44ebb200782ee9c6e924": {
      "model_module": "@jupyter-widgets/controls",
      "model_module_version": "1.5.0",
      "model_name": "CheckboxModel",
      "state": {
       "description": "Cocaine use disorder Severe",
       "disabled": false,
       "layout": "IPY_MODEL_12271e47eec645f99b58e7f9833ba85d",
       "style": "IPY_MODEL_8ae6a7a00ff148c9a6a8c3b5e09f4c1f",
       "value": false
      }
     },
     "58792fb83b4f4f87b0469396e85ed4c3": {
      "model_module": "@jupyter-widgets/output",
      "model_module_version": "1.0.0",
      "model_name": "OutputModel",
      "state": {
       "layout": "IPY_MODEL_464e7be302d844708618ae2a6a646c9a",
       "outputs": [
        {
         "name": "stdout",
         "output_type": "stream",
         "text": "\nThe patient denies that they have sustained significant trauma, \ndenies current symptoms of PTSD including flashbacks, nightmares, hypervigilance, triggers, \nand avoidance of triggers.\ntrauma notes\n\n"
        }
       ]
      }
     },
     "588e39d90c694c20a5cdaeac9fdf4280": {
      "model_module": "@jupyter-widgets/controls",
      "model_module_version": "1.5.0",
      "model_name": "DescriptionStyleModel",
      "state": {
       "description_width": ""
      }
     },
     "58906d7c3ca5495c84fc1bcbba58ded0": {
      "model_module": "@jupyter-widgets/controls",
      "model_module_version": "1.5.0",
      "model_name": "DropdownModel",
      "state": {
       "_options_labels": [
        "denies",
        "endorses"
       ],
       "description": "hiv_medical",
       "index": 0,
       "layout": "IPY_MODEL_64f3493d9e7e4cd79d693795fcd61555",
       "style": "IPY_MODEL_445582237f504f62bb8aef20f90f720f"
      }
     },
     "589683c7db4b458e99d495ca2ce104f0": {
      "model_module": "@jupyter-widgets/controls",
      "model_module_version": "1.5.0",
      "model_name": "DescriptionStyleModel",
      "state": {
       "description_width": ""
      }
     },
     "58c7098269c64201880d96a2206ffbde": {
      "model_module": "@jupyter-widgets/controls",
      "model_module_version": "1.5.0",
      "model_name": "CheckboxModel",
      "state": {
       "description": "ADHD",
       "disabled": false,
       "layout": "IPY_MODEL_cb0ff943578b46928294a41d479005b7",
       "style": "IPY_MODEL_c22a89649a1d47f4bf765b9a48d675f7",
       "value": false
      }
     },
     "58d3cddcdb264a98b25771a8d189e371": {
      "model_module": "@jupyter-widgets/controls",
      "model_module_version": "1.5.0",
      "model_name": "CheckboxModel",
      "state": {
       "description": "Opioid use disorder Severe",
       "disabled": false,
       "layout": "IPY_MODEL_eb26576f87b943f29ffd09c583ce7d5a",
       "style": "IPY_MODEL_c7ac7b755dd4447783f44ac79040f2a1",
       "value": true
      }
     },
     "58f8d9e7038c4c1daa449ba6d84d03b1": {
      "model_module": "@jupyter-widgets/controls",
      "model_module_version": "1.5.0",
      "model_name": "TextareaModel",
      "state": {
       "description": "notes",
       "layout": "IPY_MODEL_5259318fb468446090efdf421640f15f",
       "style": "IPY_MODEL_7a3734345d1a46f8997b187dc0b519de"
      }
     },
     "5931f565d16a462d9fdc119b67b95f67": {
      "model_module": "@jupyter-widgets/controls",
      "model_module_version": "1.5.0",
      "model_name": "DescriptionStyleModel",
      "state": {
       "description_width": ""
      }
     },
     "59c1c122227248a6b2881f0adbdea2dc": {
      "model_module": "@jupyter-widgets/controls",
      "model_module_version": "1.5.0",
      "model_name": "DescriptionStyleModel",
      "state": {
       "description_width": ""
      }
     },
     "59ccab524939497789818eceecfc2c91": {
      "model_module": "@jupyter-widgets/controls",
      "model_module_version": "1.5.0",
      "model_name": "DescriptionStyleModel",
      "state": {
       "description_width": "150px"
      }
     },
     "59cd381e82384c2b86bd7d7c2f7fa18b": {
      "model_module": "@jupyter-widgets/base",
      "model_module_version": "1.2.0",
      "model_name": "LayoutModel",
      "state": {}
     },
     "59e6ffbda2a644fbb43a625e715dc09d": {
      "model_module": "@jupyter-widgets/controls",
      "model_module_version": "1.5.0",
      "model_name": "DescriptionStyleModel",
      "state": {
       "description_width": "150px"
      }
     },
     "59f640917a7e440f9ec05d4402512f99": {
      "model_module": "@jupyter-widgets/controls",
      "model_module_version": "1.5.0",
      "model_name": "DescriptionStyleModel",
      "state": {
       "description_width": "150px"
      }
     },
     "5a624aaf5c1c476c99f036a3566a83a9": {
      "model_module": "@jupyter-widgets/controls",
      "model_module_version": "1.5.0",
      "model_name": "DescriptionStyleModel",
      "state": {
       "description_width": ""
      }
     },
     "5a78e30519a846baa26018203d45cd45": {
      "model_module": "@jupyter-widgets/controls",
      "model_module_version": "1.5.0",
      "model_name": "VBoxModel",
      "state": {
       "_dom_classes": [
        "widget-interact"
       ],
       "children": [
        "IPY_MODEL_327c96e3c63d4744b11a082582ec91af",
        "IPY_MODEL_857573350542487983b396989279540f",
        "IPY_MODEL_27cd9c1fa58f49d9802cf90ae35caf79",
        "IPY_MODEL_647fcd22321143ee90aa992f6f613c41"
       ],
       "layout": "IPY_MODEL_5f6469f62a7a45b7b6861b70d73e4f74"
      }
     },
     "5a8091b687224e5392c6e34b865029cc": {
      "model_module": "@jupyter-widgets/controls",
      "model_module_version": "1.5.0",
      "model_name": "TextareaModel",
      "state": {
       "description": "notes",
       "layout": "IPY_MODEL_5259318fb468446090efdf421640f15f",
       "style": "IPY_MODEL_5e1ed5c8ad654effa1ea635167fb1980"
      }
     },
     "5a8345406228401c90069eee1b2f9db1": {
      "model_module": "@jupyter-widgets/controls",
      "model_module_version": "1.5.0",
      "model_name": "DescriptionStyleModel",
      "state": {
       "description_width": "150px"
      }
     },
     "5a8a2141e5e34733b456394fbf3448b0": {
      "model_module": "@jupyter-widgets/output",
      "model_module_version": "1.0.0",
      "model_name": "OutputModel",
      "state": {
       "layout": "IPY_MODEL_fd2404655f2649e8ad7a6fd7a793065f",
       "outputs": [
        {
         "name": "stdout",
         "output_type": "stream",
         "text": "\nCurrent Medication:\nSeroquel 800mg qhs- gaining way too much weight\nDepakote 500mg bid\nPrazosin 5mg qhs\nPropranolol 40mg qd TID- \"for anxiety\"\nBuspar 20mg TID\nKeppra 500mg bid- \"only had 2 when I was coming off xanax.\" I need to though.\nZoloft 150mg qd\nGabapentin 800mg qd\nFlexeril 10mg qd\nRobaxin 750mg QD\nTrazodone 50mg qhs\nPatient reports that they have been compliant with their psychotropic medication regimen and denies adverse effects \nPatient is amenable with adjustments to their medication regimen.\n\nDenies SE from medication\n\n"
        }
       ]
      }
     },
     "5ab10b1c536a467e8784302dbf465557": {
      "model_module": "@jupyter-widgets/controls",
      "model_module_version": "1.5.0",
      "model_name": "DescriptionStyleModel",
      "state": {
       "description_width": "150px"
      }
     },
     "5abc13be70474eaa9c88c271ab5b5d68": {
      "model_module": "@jupyter-widgets/controls",
      "model_module_version": "1.5.0",
      "model_name": "DropdownModel",
      "state": {
       "_options_labels": [
        "denies",
        "endorses"
       ],
       "description": "withdrawals_choice",
       "index": 0,
       "layout": "IPY_MODEL_64f3493d9e7e4cd79d693795fcd61555",
       "style": "IPY_MODEL_c5dd983208bd4bebb87e2065061f38a9"
      }
     },
     "5ad872e719db4e34b6218eb1d9aa66b0": {
      "model_module": "@jupyter-widgets/controls",
      "model_module_version": "1.5.0",
      "model_name": "DescriptionStyleModel",
      "state": {
       "description_width": ""
      }
     },
     "5ae7dfeb6ccd41d5b6864ff77105b8ad": {
      "model_module": "@jupyter-widgets/controls",
      "model_module_version": "1.5.0",
      "model_name": "DropdownModel",
      "state": {
       "_options_labels": [
        "denies",
        "endorses"
       ],
       "description": "hiv_medical",
       "index": 0,
       "layout": "IPY_MODEL_fa9ec4f225bc40b29e03b63fcbcbd3db",
       "style": "IPY_MODEL_04913aa4a1f7455788ff68e506fa18b3"
      }
     },
     "5b0635f268a14e4ab2965990d6f11573": {
      "model_module": "@jupyter-widgets/base",
      "model_module_version": "1.2.0",
      "model_name": "LayoutModel",
      "state": {}
     },
     "5b1269910c7f44349d75890a81b11392": {
      "model_module": "@jupyter-widgets/controls",
      "model_module_version": "1.5.0",
      "model_name": "DescriptionStyleModel",
      "state": {
       "description_width": "150px"
      }
     },
     "5b64373cf80145838270da6cf1e4e436": {
      "model_module": "@jupyter-widgets/base",
      "model_module_version": "1.2.0",
      "model_name": "LayoutModel",
      "state": {}
     },
     "5b8fd1e9cad447b584a2d84d0df33db0": {
      "model_module": "@jupyter-widgets/base",
      "model_module_version": "1.2.0",
      "model_name": "LayoutModel",
      "state": {}
     },
     "5bd417121bcc45a0a4a4d467e94590b5": {
      "model_module": "@jupyter-widgets/controls",
      "model_module_version": "1.5.0",
      "model_name": "DescriptionStyleModel",
      "state": {
       "description_width": ""
      }
     },
     "5be5c8614a0346b6bad2f109511b4c92": {
      "model_module": "@jupyter-widgets/controls",
      "model_module_version": "1.5.0",
      "model_name": "DescriptionStyleModel",
      "state": {
       "description_width": ""
      }
     },
     "5be8415b8c804b0c89f85d5ab2a66d66": {
      "model_module": "@jupyter-widgets/controls",
      "model_module_version": "1.5.0",
      "model_name": "DescriptionStyleModel",
      "state": {
       "description_width": "150px"
      }
     },
     "5bf3e10422f4441d95578e9338000e47": {
      "model_module": "@jupyter-widgets/controls",
      "model_module_version": "1.5.0",
      "model_name": "BoundedIntTextModel",
      "state": {
       "description": "num_times_in_treatment",
       "layout": "IPY_MODEL_64f3493d9e7e4cd79d693795fcd61555",
       "style": "IPY_MODEL_3392449dcd334bfc85483d321e9662e3"
      }
     },
     "5c1ca7cb0e654a80a2f8a2b26e5be308": {
      "model_module": "@jupyter-widgets/base",
      "model_module_version": "1.2.0",
      "model_name": "LayoutModel",
      "state": {
       "height": "100px",
       "width": "500px"
      }
     },
     "5c2ecdabb82d49cf899e177de7968bb4": {
      "model_module": "@jupyter-widgets/output",
      "model_module_version": "1.0.0",
      "model_name": "OutputModel",
      "state": {
       "layout": "IPY_MODEL_e65f798d6cc14a1cbb2755ca5d3cd9ac",
       "outputs": [
        {
         "name": "stdout",
         "output_type": "stream",
         "text": "\nFamily Psychiatric History:\nDenies family history of mental illness\n\n"
        }
       ]
      }
     },
     "5c404a517fce491894f56ea7c9aa9f45": {
      "model_module": "@jupyter-widgets/base",
      "model_module_version": "1.2.0",
      "model_name": "LayoutModel",
      "state": {}
     },
     "5c6cd1f1d63149409ddd991804f50034": {
      "model_module": "@jupyter-widgets/base",
      "model_module_version": "1.2.0",
      "model_name": "LayoutModel",
      "state": {}
     },
     "5c7013d7b3f8496fa19b4c31c2710d90": {
      "model_module": "@jupyter-widgets/controls",
      "model_module_version": "1.5.0",
      "model_name": "DescriptionStyleModel",
      "state": {
       "description_width": ""
      }
     },
     "5c9ce64bdd404f98a7426045ead9f022": {
      "model_module": "@jupyter-widgets/controls",
      "model_module_version": "1.5.0",
      "model_name": "DescriptionStyleModel",
      "state": {
       "description_width": ""
      }
     },
     "5cac272bd52d4f89a7f85e0e223abe8b": {
      "model_module": "@jupyter-widgets/controls",
      "model_module_version": "1.5.0",
      "model_name": "DescriptionStyleModel",
      "state": {
       "description_width": "150px"
      }
     },
     "5cbd4ef367854bb4b84d28657f8dcc8d": {
      "model_module": "@jupyter-widgets/controls",
      "model_module_version": "1.5.0",
      "model_name": "DropdownModel",
      "state": {
       "_options_labels": [
        "a history",
        "no history"
       ],
       "description": "psychosis",
       "index": 0,
       "layout": "IPY_MODEL_f3ab830ad14c40bcb60503d19e5f9870",
       "style": "IPY_MODEL_c06eb75eb2de44dcaff7aabad4fd8879"
      }
     },
     "5cdc35d060f0478cb1812fd167fa5bfa": {
      "model_module": "@jupyter-widgets/controls",
      "model_module_version": "1.5.0",
      "model_name": "DescriptionStyleModel",
      "state": {
       "description_width": "150px"
      }
     },
     "5cdeb904f141448fab5859ea4036e353": {
      "model_module": "@jupyter-widgets/base",
      "model_module_version": "1.2.0",
      "model_name": "LayoutModel",
      "state": {}
     },
     "5cea285ae4ff420aa767eeaa104ac3fd": {
      "model_module": "@jupyter-widgets/controls",
      "model_module_version": "1.5.0",
      "model_name": "CheckboxModel",
      "state": {
       "description": "cannabis",
       "disabled": false,
       "layout": "IPY_MODEL_d03c8446c73843b9942b7dc75509b0b3",
       "style": "IPY_MODEL_84a78c371f8748d4ba07cc42a737b440",
       "value": false
      }
     },
     "5cf8b70745ba40e6b546f6b7c7ac6cfc": {
      "model_module": "@jupyter-widgets/base",
      "model_module_version": "1.2.0",
      "model_name": "LayoutModel",
      "state": {}
     },
     "5d08823f1c6745c3b6106dba1558dddf": {
      "model_module": "@jupyter-widgets/base",
      "model_module_version": "1.2.0",
      "model_name": "LayoutModel",
      "state": {}
     },
     "5d2dbff77e824ccf95c16d735b224b2c": {
      "model_module": "@jupyter-widgets/controls",
      "model_module_version": "1.5.0",
      "model_name": "DropdownModel",
      "state": {
       "_options_labels": [
        "denies",
        "endorses"
       ],
       "description": "depressed",
       "index": 0,
       "layout": "IPY_MODEL_f3ab830ad14c40bcb60503d19e5f9870",
       "style": "IPY_MODEL_be0ef820dfa8403189226ba033f8e1f0"
      }
     },
     "5d4055e22c2440d586eeb809e3efb3b0": {
      "model_module": "@jupyter-widgets/controls",
      "model_module_version": "1.5.0",
      "model_name": "DropdownModel",
      "state": {
       "_options_labels": [
        "Silicon Beach",
        "Momentum",
        "Create Recovery Center",
        "Casablanca"
       ],
       "description": "treatment_center:",
       "index": 3,
       "layout": "IPY_MODEL_25b165d14dad410ab4fa6466dcf1d886",
       "style": "IPY_MODEL_7ea6ce84ba4a46889501ad26f9573ebc"
      }
     },
     "5d5647aaea9c443494e6d406cbdaa2d4": {
      "model_module": "@jupyter-widgets/controls",
      "model_module_version": "1.5.0",
      "model_name": "DescriptionStyleModel",
      "state": {
       "description_width": "150px"
      }
     },
     "5d6bdaf8494f442cb7a19b42a36a0a91": {
      "model_module": "@jupyter-widgets/base",
      "model_module_version": "1.2.0",
      "model_name": "LayoutModel",
      "state": {}
     },
     "5d7ec18cebda49d88bc0571b1439cb53": {
      "model_module": "@jupyter-widgets/controls",
      "model_module_version": "1.5.0",
      "model_name": "DescriptionStyleModel",
      "state": {
       "description_width": "150px"
      }
     },
     "5d82477973e94eeab1026f393be3b1e4": {
      "model_module": "@jupyter-widgets/controls",
      "model_module_version": "1.5.0",
      "model_name": "DropdownModel",
      "state": {
       "_options_labels": [
        "denies",
        "endorses"
       ],
       "description": "seizures",
       "index": 0,
       "layout": "IPY_MODEL_64f3493d9e7e4cd79d693795fcd61555",
       "style": "IPY_MODEL_dc449e1869774da6b51056119e9abf32"
      }
     },
     "5dc07f7dd2b240d09b1c625e2a1d3f65": {
      "model_module": "@jupyter-widgets/controls",
      "model_module_version": "1.5.0",
      "model_name": "CheckboxModel",
      "state": {
       "description": "ADHD",
       "disabled": false,
       "layout": "IPY_MODEL_d6b309dfb10c43188f06eb910574c878",
       "style": "IPY_MODEL_cb6e5761473b4e09a8aeb6b4b17ba71d",
       "value": false
      }
     },
     "5dd7e1bf8b9d41d4b98e87a6de37cea3": {
      "model_module": "@jupyter-widgets/controls",
      "model_module_version": "1.5.0",
      "model_name": "DescriptionStyleModel",
      "state": {
       "description_width": "150px"
      }
     },
     "5de465972362411399a3810bccab5749": {
      "model_module": "@jupyter-widgets/output",
      "model_module_version": "1.0.0",
      "model_name": "OutputModel",
      "state": {
       "layout": "IPY_MODEL_f6de01e8bcab4e8a9e20acd76b73b566",
       "outputs": [
        {
         "name": "stdout",
         "output_type": "stream",
         "text": "\nMental Status Examination: \nAppearance: WD/WN, looks stated age, fair grooming and hygiene, casually dressed\nBehavior: Calm, cooperative, fair eye contact\nPsychomotor: No activation or retardation\nSpeech: Fluent, spontaneous\nMood: “It’s pretty good.” \nAffect: Euthymic, full-range, congruent with mood\nThought Process: Linear, logical\nThought Content: Denies SI/HI/AH/VH/delusions\nInsight/Judgement: Limited to fair/Fair\n\n"
        }
       ]
      }
     },
     "5e0e71e4dbe04903ade895111575df19": {
      "model_module": "@jupyter-widgets/controls",
      "model_module_version": "1.5.0",
      "model_name": "DropdownModel",
      "state": {
       "_options_labels": [
        "a history",
        "no history"
       ],
       "description": "mania",
       "index": 1,
       "layout": "IPY_MODEL_64f3493d9e7e4cd79d693795fcd61555",
       "style": "IPY_MODEL_4093deef3b01445e86ebf579f3c078ba"
      }
     },
     "5e1dc6a22be14b8a95e0e7432b0b094d": {
      "model_module": "@jupyter-widgets/controls",
      "model_module_version": "1.5.0",
      "model_name": "VBoxModel",
      "state": {
       "_dom_classes": [
        "widget-interact"
       ],
       "children": [
        "IPY_MODEL_23e2b75a330d4670beb3c9d860c10dc4",
        "IPY_MODEL_da95cadc5f264783a90bdf120732982a"
       ],
       "layout": "IPY_MODEL_27f8f796592840188682d932a29dc02a"
      }
     },
     "5e1ed5c8ad654effa1ea635167fb1980": {
      "model_module": "@jupyter-widgets/controls",
      "model_module_version": "1.5.0",
      "model_name": "DescriptionStyleModel",
      "state": {
       "description_width": ""
      }
     },
     "5e220454834f4acd91af28bb2efea898": {
      "model_module": "@jupyter-widgets/controls",
      "model_module_version": "1.5.0",
      "model_name": "VBoxModel",
      "state": {
       "_dom_classes": [
        "widget-interact"
       ],
       "children": [
        "IPY_MODEL_71357b5bcfc84e5db918108628a5a46c",
        "IPY_MODEL_a429834afe644328b13bd8af90b51d25",
        "IPY_MODEL_c8656cdb264f486cbc49fe51f423a983",
        "IPY_MODEL_0a70b2aaba18444cbbd1f234dd90744c",
        "IPY_MODEL_f1bf09db9fbb4d3f9547f803fcf230ef",
        "IPY_MODEL_31fdae0fc7f3447d920dd6716292c503"
       ],
       "layout": "IPY_MODEL_3dc91028d196431fa0febe5757899a82"
      }
     },
     "5e297c7b1f47446ebc73c72ac4316694": {
      "model_module": "@jupyter-widgets/controls",
      "model_module_version": "1.5.0",
      "model_name": "DescriptionStyleModel",
      "state": {
       "description_width": "150px"
      }
     },
     "5e303329d9d344f48bdba4918be6a600": {
      "model_module": "@jupyter-widgets/controls",
      "model_module_version": "1.5.0",
      "model_name": "DescriptionStyleModel",
      "state": {
       "description_width": ""
      }
     },
     "5e4026acfc6c443eacff25eeb19d6695": {
      "model_module": "@jupyter-widgets/controls",
      "model_module_version": "1.5.0",
      "model_name": "TextareaModel",
      "state": {
       "description": "family",
       "layout": "IPY_MODEL_57dff8c6f77e4aad88e092f42ad13209",
       "style": "IPY_MODEL_06d385ea86aa462aa4b3e49ecf0b957b",
       "value": "Substance abuse"
      }
     },
     "5e4c18a2a74b4fc6a9dd249e915e04b1": {
      "model_module": "@jupyter-widgets/output",
      "model_module_version": "1.0.0",
      "model_name": "OutputModel",
      "state": {
       "layout": "IPY_MODEL_06771c2c12d74e448e1dc08c6042a725",
       "outputs": [
        {
         "name": "stdout",
         "output_type": "stream",
         "text": "\nMedical History:\nThe patient denies any acute medical conditions. \nThe patient denies any history of HIV. \nThe patient denies any history of hepatitis.\nThe patient denies any history of TBI.\n\n\n"
        }
       ]
      }
     },
     "5e639c8de6174fd2b8dc79c66fe9ff44": {
      "model_module": "@jupyter-widgets/base",
      "model_module_version": "1.2.0",
      "model_name": "LayoutModel",
      "state": {}
     },
     "5e65170cdfe14fe1997b5380e36de07f": {
      "model_module": "@jupyter-widgets/base",
      "model_module_version": "1.2.0",
      "model_name": "LayoutModel",
      "state": {}
     },
     "5e65ff71d7774e189dd56b0fca18548b": {
      "model_module": "@jupyter-widgets/controls",
      "model_module_version": "1.5.0",
      "model_name": "DescriptionStyleModel",
      "state": {
       "description_width": ""
      }
     },
     "5e9b60fc77a649668538db6297eb1958": {
      "model_module": "@jupyter-widgets/controls",
      "model_module_version": "1.5.0",
      "model_name": "DescriptionStyleModel",
      "state": {
       "description_width": "150px"
      }
     },
     "5ec1becc422f478a857132b503c11a82": {
      "model_module": "@jupyter-widgets/controls",
      "model_module_version": "1.5.0",
      "model_name": "VBoxModel",
      "state": {
       "_dom_classes": [
        "widget-interact"
       ],
       "children": [
        "IPY_MODEL_a6837f4669634605a914dcdb6f282cf4",
        "IPY_MODEL_af5e5a9a22174824a076fafaf0ea932b",
        "IPY_MODEL_4adf1f49d9b94fb3ade618a06551c6bd",
        "IPY_MODEL_b3885a964f4b4bc3999bf185561e00f0",
        "IPY_MODEL_8b75e7fbdade4f34b5e1f129e21ae2c8",
        "IPY_MODEL_dbce0f6d716449108d0a5f18fc25c177",
        "IPY_MODEL_38cf63127c5943f8a374f09876b52c38",
        "IPY_MODEL_799ada80a08645ce9375f91de03b3839",
        "IPY_MODEL_6baeaf7bf66848b0838dcc73daec8555"
       ],
       "layout": "IPY_MODEL_601c6adeaba745a7a7e1d01131c453b6"
      }
     },
     "5ecb4fd31daa4a53bb52ee1da1c4626a": {
      "model_module": "@jupyter-widgets/base",
      "model_module_version": "1.2.0",
      "model_name": "LayoutModel",
      "state": {}
     },
     "5ee86194af334cc49b00f453846aa8f8": {
      "model_module": "@jupyter-widgets/controls",
      "model_module_version": "1.5.0",
      "model_name": "CheckboxModel",
      "state": {
       "description": "no drug",
       "disabled": false,
       "layout": "IPY_MODEL_5f60616e388d43c7a45a1f7dea29b93f",
       "style": "IPY_MODEL_36100a7e8ce34d6e9a5e657f2a5c6547",
       "value": false
      }
     },
     "5f43115923aa480fb31b21c073e8bd30": {
      "model_module": "@jupyter-widgets/controls",
      "model_module_version": "1.5.0",
      "model_name": "CheckboxModel",
      "state": {
       "description": "no mental illness",
       "disabled": false,
       "layout": "IPY_MODEL_fe9b0cd062214a74a0cf5f53f174f07c",
       "style": "IPY_MODEL_c0e2d41d6a3a44698064f53e11161256",
       "value": false
      }
     },
     "5f60616e388d43c7a45a1f7dea29b93f": {
      "model_module": "@jupyter-widgets/base",
      "model_module_version": "1.2.0",
      "model_name": "LayoutModel",
      "state": {}
     },
     "5f60edd08545433db9b303e242d0c6d8": {
      "model_module": "@jupyter-widgets/controls",
      "model_module_version": "1.5.0",
      "model_name": "CheckboxModel",
      "state": {
       "description": "depression",
       "disabled": false,
       "layout": "IPY_MODEL_c1443ba6acae4c75b351e16a25115d16",
       "style": "IPY_MODEL_59c1c122227248a6b2881f0adbdea2dc",
       "value": false
      }
     },
     "5f6469f62a7a45b7b6861b70d73e4f74": {
      "model_module": "@jupyter-widgets/base",
      "model_module_version": "1.2.0",
      "model_name": "LayoutModel",
      "state": {}
     },
     "5f6a2a51947a469ab405e93503f9f355": {
      "model_module": "@jupyter-widgets/base",
      "model_module_version": "1.2.0",
      "model_name": "LayoutModel",
      "state": {}
     },
     "5f6f64d02dfc46d5910a1223beeca028": {
      "model_module": "@jupyter-widgets/controls",
      "model_module_version": "1.5.0",
      "model_name": "VBoxModel",
      "state": {
       "children": [
        "IPY_MODEL_cedb5d11ecf6452d994600c1c9fd13bf",
        "IPY_MODEL_f2b2472a7c78442ca3338b99ebfd361b"
       ],
       "layout": "IPY_MODEL_4aa4f57f810f4145a50bc897eb6db4a9"
      }
     },
     "5fa9c44b5be746c1865f97f336a2c45c": {
      "model_module": "@jupyter-widgets/controls",
      "model_module_version": "1.5.0",
      "model_name": "DescriptionStyleModel",
      "state": {
       "description_width": ""
      }
     },
     "5fb910116de64ff1b796f65022545558": {
      "model_module": "@jupyter-widgets/controls",
      "model_module_version": "1.5.0",
      "model_name": "DropdownModel",
      "state": {
       "_options_labels": [
        "denies",
        "endorses"
       ],
       "description": "depressed",
       "index": 0,
       "layout": "IPY_MODEL_5259318fb468446090efdf421640f15f",
       "style": "IPY_MODEL_f68773c764924921935939bf67d28241"
      }
     },
     "5fc17b8826d5409ea6962597b688ef2f": {
      "model_module": "@jupyter-widgets/controls",
      "model_module_version": "1.5.0",
      "model_name": "CheckboxModel",
      "state": {
       "description": "Unspecified Anxiety Disorder",
       "disabled": false,
       "layout": "IPY_MODEL_5c6cd1f1d63149409ddd991804f50034",
       "style": "IPY_MODEL_e00f61d76a3d4e4996ebeef602df8e6f",
       "value": false
      }
     },
     "5fc5f74bf64344c3a0f915e4141df310": {
      "model_module": "@jupyter-widgets/controls",
      "model_module_version": "1.5.0",
      "model_name": "DescriptionStyleModel",
      "state": {
       "description_width": ""
      }
     },
     "5fc86e1c43dc4caf8c839e8a09de0489": {
      "model_module": "@jupyter-widgets/base",
      "model_module_version": "1.2.0",
      "model_name": "LayoutModel",
      "state": {}
     },
     "5ff574de19af43fe9483d77a54e037ec": {
      "model_module": "@jupyter-widgets/controls",
      "model_module_version": "1.5.0",
      "model_name": "DescriptionStyleModel",
      "state": {
       "description_width": "150px"
      }
     },
     "601c6adeaba745a7a7e1d01131c453b6": {
      "model_module": "@jupyter-widgets/base",
      "model_module_version": "1.2.0",
      "model_name": "LayoutModel",
      "state": {}
     },
     "60493fd3ca394b388cf15387c476f105": {
      "model_module": "@jupyter-widgets/controls",
      "model_module_version": "1.5.0",
      "model_name": "CheckboxModel",
      "state": {
       "description": "opioid",
       "disabled": false,
       "layout": "IPY_MODEL_a683c5849f254d42af5a9446c7295935",
       "style": "IPY_MODEL_c8a68a61946b434aae808d0214ff5cf9",
       "value": false
      }
     },
     "60728e91c7a8480faa98296bd6487e02": {
      "model_module": "@jupyter-widgets/controls",
      "model_module_version": "1.5.0",
      "model_name": "CheckboxModel",
      "state": {
       "description": "Generalized anxiety disorder",
       "disabled": false,
       "layout": "IPY_MODEL_a31a96d0230d4d84b6452da33418687e",
       "style": "IPY_MODEL_a258da2f2e8646efb80f828a8a64fdce",
       "value": true
      }
     },
     "607844d43b104aaba0a81ae8e768236a": {
      "model_module": "@jupyter-widgets/controls",
      "model_module_version": "1.5.0",
      "model_name": "VBoxModel",
      "state": {
       "_dom_classes": [
        "widget-interact"
       ],
       "children": [
        "IPY_MODEL_6f8dfdc75be34b12bf4762d30ae8af55",
        "IPY_MODEL_4fae3546c4364241928c1be334d117a2",
        "IPY_MODEL_9bf776fd2a3f4d3f98bf5099a014a299",
        "IPY_MODEL_b0aa77b3ad2d4498b687c08428f78c95",
        "IPY_MODEL_ab6fd612d98f47ad8c1414f90b43f03c",
        "IPY_MODEL_e1bd6d1074e04749b0d6065f21646309",
        "IPY_MODEL_b44665c56eca41c2a5302e02e29f26d6"
       ],
       "layout": "IPY_MODEL_e09be95f3ed74309b65c838f902097a4"
      }
     },
     "608b4818d88c480ba73859bb29498520": {
      "model_module": "@jupyter-widgets/base",
      "model_module_version": "1.2.0",
      "model_name": "LayoutModel",
      "state": {}
     },
     "609567b264774ca49248bb001c3ae69c": {
      "model_module": "@jupyter-widgets/controls",
      "model_module_version": "1.5.0",
      "model_name": "DescriptionStyleModel",
      "state": {
       "description_width": ""
      }
     },
     "6099c331958e463ea759ea55b8f2d33c": {
      "model_module": "@jupyter-widgets/controls",
      "model_module_version": "1.5.0",
      "model_name": "DescriptionStyleModel",
      "state": {
       "description_width": ""
      }
     },
     "60d144b387a24b69b9a832eab0046eb9": {
      "model_module": "@jupyter-widgets/base",
      "model_module_version": "1.2.0",
      "model_name": "LayoutModel",
      "state": {}
     },
     "60e068c28bf9485092f791afbdec0479": {
      "model_module": "@jupyter-widgets/output",
      "model_module_version": "1.0.0",
      "model_name": "OutputModel",
      "state": {
       "layout": "IPY_MODEL_8eb7162acce2498fa8c3a31048a2fd82",
       "outputs": [
        {
         "name": "stdout",
         "output_type": "stream",
         "text": "\nMedical History:\nThe patient endorses any acute medical conditions. \nThe patient denies any history of HIV. \nThe patient denies any history of hepatitis.\nThe patient denies any history of TBI.\nReports she just found out she has syphilis, recently tested at her sober living, this is her second time getting syphilis. \n\n"
        }
       ]
      }
     },
     "60fdf1c78f4245b69c811d9c48efcc76": {
      "model_module": "@jupyter-widgets/controls",
      "model_module_version": "1.5.0",
      "model_name": "DescriptionStyleModel",
      "state": {
       "description_width": "150px"
      }
     },
     "61084f2eabb146dc81a6847e5f82e59d": {
      "model_module": "@jupyter-widgets/controls",
      "model_module_version": "1.5.0",
      "model_name": "CheckboxModel",
      "state": {
       "description": "LSD",
       "disabled": false,
       "layout": "IPY_MODEL_648485e7acc14b8d8ca53e44fac7dc00",
       "style": "IPY_MODEL_dc4b527b8e4341ee8631b0e087899b73",
       "value": false
      }
     },
     "61106eda06bb49ef93340467b7ccebbe": {
      "model_module": "@jupyter-widgets/controls",
      "model_module_version": "1.5.0",
      "model_name": "DescriptionStyleModel",
      "state": {
       "description_width": ""
      }
     },
     "61208a36a4a949ff8000480b9baaa9a1": {
      "model_module": "@jupyter-widgets/controls",
      "model_module_version": "1.5.0",
      "model_name": "CheckboxModel",
      "state": {
       "description": "Bipolar II disorder",
       "disabled": false,
       "layout": "IPY_MODEL_d55a47cc76b54277a3ad678666f3b0e6",
       "style": "IPY_MODEL_97144f7177914c3e8dfef857df6eb000",
       "value": false
      }
     },
     "6128ed6baa564219a13856b41d6adb47": {
      "model_module": "@jupyter-widgets/controls",
      "model_module_version": "1.5.0",
      "model_name": "DropdownModel",
      "state": {
       "_options_labels": [
        "declines",
        "elects to start",
        "would like to continue with"
       ],
       "description": "anti_cravings_choice",
       "index": 0,
       "layout": "IPY_MODEL_64f3493d9e7e4cd79d693795fcd61555",
       "style": "IPY_MODEL_c5714eb64f13484b868fb2c437c10e41"
      }
     },
     "6131694dfa944810b1be53cd9709f0f9": {
      "model_module": "@jupyter-widgets/controls",
      "model_module_version": "1.5.0",
      "model_name": "DropdownModel",
      "state": {
       "_options_labels": [
        "denies",
        "endorses"
       ],
       "description": "anhedonia",
       "index": 0,
       "layout": "IPY_MODEL_64f3493d9e7e4cd79d693795fcd61555",
       "style": "IPY_MODEL_2a77c03c5e054f6e9867923ee381fe76"
      }
     },
     "61316d4bd7e74887b40ffc5da9828156": {
      "model_module": "@jupyter-widgets/controls",
      "model_module_version": "1.5.0",
      "model_name": "DescriptionStyleModel",
      "state": {
       "description_width": "150px"
      }
     },
     "61720378d07b4a41b1dc6482da695b77": {
      "model_module": "@jupyter-widgets/controls",
      "model_module_version": "1.5.0",
      "model_name": "DescriptionStyleModel",
      "state": {
       "description_width": ""
      }
     },
     "617a15a1b6fb4d0295306c7951f2b7a6": {
      "model_module": "@jupyter-widgets/controls",
      "model_module_version": "1.5.0",
      "model_name": "DescriptionStyleModel",
      "state": {
       "description_width": ""
      }
     },
     "618b8a3add824e9f991ffbca5a96c7d9": {
      "model_module": "@jupyter-widgets/controls",
      "model_module_version": "1.5.0",
      "model_name": "CheckboxModel",
      "state": {
       "description": "ecstasy/MDMA",
       "disabled": false,
       "layout": "IPY_MODEL_2aef748b901e4e2ebc7d555565920ba4",
       "style": "IPY_MODEL_d993887c40f94981b8c6458343d9971e",
       "value": false
      }
     },
     "61d130a2372b411f9240c230085f44a5": {
      "model_module": "@jupyter-widgets/controls",
      "model_module_version": "1.5.0",
      "model_name": "DescriptionStyleModel",
      "state": {
       "description_width": ""
      }
     },
     "61daa4b3bbef4b72a42df08da152a7f6": {
      "model_module": "@jupyter-widgets/controls",
      "model_module_version": "1.5.0",
      "model_name": "DescriptionStyleModel",
      "state": {
       "description_width": "150px"
      }
     },
     "61f27537173f4ac79cdf696e76d256eb": {
      "model_module": "@jupyter-widgets/controls",
      "model_module_version": "1.5.0",
      "model_name": "DescriptionStyleModel",
      "state": {
       "description_width": ""
      }
     },
     "61f83e288af94f598ac563645c04e83d": {
      "model_module": "@jupyter-widgets/controls",
      "model_module_version": "1.5.0",
      "model_name": "TextareaModel",
      "state": {
       "description": "previous_meds",
       "layout": "IPY_MODEL_64f3493d9e7e4cd79d693795fcd61555",
       "style": "IPY_MODEL_03eafca421bf417fb047437fa35550cf",
       "value": "None"
      }
     },
     "6202418e28c84b27b159be8ac8ab7a5b": {
      "model_module": "@jupyter-widgets/controls",
      "model_module_version": "1.5.0",
      "model_name": "DescriptionStyleModel",
      "state": {
       "description_width": ""
      }
     },
     "620b6fff3c6247f3bc9866731128e398": {
      "model_module": "@jupyter-widgets/controls",
      "model_module_version": "1.5.0",
      "model_name": "VBoxModel",
      "state": {
       "_dom_classes": [
        "widget-interact"
       ],
       "children": [
        "IPY_MODEL_517b90586f7b4f9d9e1317de68c9427b",
        "IPY_MODEL_344060ee622e493f9eee18f7b4123e9a"
       ],
       "layout": "IPY_MODEL_94cc5841bc3548e0b95f47c6375a88fe"
      }
     },
     "6241063e2b5d420092551b5354b0d811": {
      "model_module": "@jupyter-widgets/controls",
      "model_module_version": "1.5.0",
      "model_name": "DescriptionStyleModel",
      "state": {
       "description_width": ""
      }
     },
     "6241a7e435ff4fa88feab6eb4dc6ff11": {
      "model_module": "@jupyter-widgets/controls",
      "model_module_version": "1.5.0",
      "model_name": "DropdownModel",
      "state": {
       "_options_labels": [
        "male",
        "female",
        "nb"
       ],
       "description": "gender:",
       "index": 0,
       "layout": "IPY_MODEL_57d58bde4a4942e2a9b3cf678c763252",
       "style": "IPY_MODEL_271aacec78fa49cab796b805c056682a"
      }
     },
     "62429bc502d04d688fafbe88b7479242": {
      "model_module": "@jupyter-widgets/base",
      "model_module_version": "1.2.0",
      "model_name": "LayoutModel",
      "state": {}
     },
     "62445dccc4c7426c9813e04a1971864b": {
      "model_module": "@jupyter-widgets/controls",
      "model_module_version": "1.5.0",
      "model_name": "TextModel",
      "state": {
       "description": "labs",
       "layout": "IPY_MODEL_096b0e32fbc445fd9d074aef450e2899",
       "style": "IPY_MODEL_ca52fada09ca4a4eae83200ae1bc85a6",
       "value": "None currently on file."
      }
     },
     "6248fba93f304bedbcb0d2a36fb3cd3b": {
      "model_module": "@jupyter-widgets/controls",
      "model_module_version": "1.5.0",
      "model_name": "DescriptionStyleModel",
      "state": {
       "description_width": ""
      }
     },
     "62490597aad5488082b4ab49df9cedae": {
      "model_module": "@jupyter-widgets/controls",
      "model_module_version": "1.5.0",
      "model_name": "CheckboxModel",
      "state": {
       "description": "mushrooms",
       "disabled": false,
       "layout": "IPY_MODEL_30f0e978e31d414bb5adc8302e26d758",
       "style": "IPY_MODEL_b77178663d3d4cc48406541e849d0c60",
       "value": false
      }
     },
     "6254f16181224a43861aff3845d3b693": {
      "model_module": "@jupyter-widgets/controls",
      "model_module_version": "1.5.0",
      "model_name": "DescriptionStyleModel",
      "state": {
       "description_width": ""
      }
     },
     "626816946ac74045aea9f60e057b9170": {
      "model_module": "@jupyter-widgets/controls",
      "model_module_version": "1.5.0",
      "model_name": "DescriptionStyleModel",
      "state": {
       "description_width": "150px"
      }
     },
     "6273c718865f4952ba36d55fd654c578": {
      "model_module": "@jupyter-widgets/controls",
      "model_module_version": "1.5.0",
      "model_name": "DescriptionStyleModel",
      "state": {
       "description_width": ""
      }
     },
     "62880044062e4ce6837dfcffc5d42ecd": {
      "model_module": "@jupyter-widgets/controls",
      "model_module_version": "1.5.0",
      "model_name": "CheckboxModel",
      "state": {
       "description": "methamphetamine",
       "disabled": false,
       "layout": "IPY_MODEL_876c8f0936b34706b9618bc18c720c59",
       "style": "IPY_MODEL_0608d185d6a9484d8605f49ec6578987",
       "value": false
      }
     },
     "62a4f3c1d0954dbfa8c1b1bfc7f5ed13": {
      "model_module": "@jupyter-widgets/base",
      "model_module_version": "1.2.0",
      "model_name": "LayoutModel",
      "state": {}
     },
     "62a6c5b5db32472c896e3c25e448a04d": {
      "model_module": "@jupyter-widgets/controls",
      "model_module_version": "1.5.0",
      "model_name": "DescriptionStyleModel",
      "state": {
       "description_width": ""
      }
     },
     "62adeafd4710487989871adfc3462434": {
      "model_module": "@jupyter-widgets/controls",
      "model_module_version": "1.5.0",
      "model_name": "TextareaModel",
      "state": {
       "description": "pcp plan:",
       "layout": "IPY_MODEL_53bfd517c38d466497c71def29c29f55",
       "placeholder": "Type something",
       "style": "IPY_MODEL_351a7268e3ba4a73abb61f6306a6ab61",
       "value": "3. Medical and Lab: Per PCP. Patient encouraged to establish care with local PCP for routine physical and baseline labs."
      }
     },
     "62bf96b88d3b4ff2bdf446c378a4e8fd": {
      "model_module": "@jupyter-widgets/controls",
      "model_module_version": "1.5.0",
      "model_name": "VBoxModel",
      "state": {
       "children": [
        "IPY_MODEL_22adfd6cbcbe4e4d9a2ba34d584ea378",
        "IPY_MODEL_ce58720523df422e918c435843006eab",
        "IPY_MODEL_bda90b9f03494d2f8e38b1d7d8e61fa1",
        "IPY_MODEL_b3feabc5fcb64d79be9d6286cec6b96a"
       ],
       "layout": "IPY_MODEL_551de7d79f704ae496823295fcae0a0a"
      }
     },
     "62e4efdc21624d5dbea6172f8beb08fa": {
      "model_module": "@jupyter-widgets/controls",
      "model_module_version": "1.5.0",
      "model_name": "VBoxModel",
      "state": {
       "_dom_classes": [
        "widget-interact"
       ],
       "children": [
        "IPY_MODEL_5e4026acfc6c443eacff25eeb19d6695",
        "IPY_MODEL_a57e30f5e2c74fda88ff58f74ab5087f"
       ],
       "layout": "IPY_MODEL_8126282adb7a420b963ff02be88000f5"
      }
     },
     "62fe515b67bb44e5a891b75be2ba26a2": {
      "model_module": "@jupyter-widgets/controls",
      "model_module_version": "1.5.0",
      "model_name": "VBoxModel",
      "state": {
       "_dom_classes": [
        "widget-interact"
       ],
       "children": [
        "IPY_MODEL_1a1d4a41b17b4e78b27f2e3e8a5db7d2",
        "IPY_MODEL_a4a83e42e70343409955102eebf6eab5",
        "IPY_MODEL_aab7c7f7ac0e41b38ed140db849ce10e",
        "IPY_MODEL_3e3d0f7e97614e43a288fff5bee9c32a",
        "IPY_MODEL_7a1ac73714664765ab463507527f8177",
        "IPY_MODEL_1610df7c996b401f8ff88ab1ea0073ef"
       ],
       "layout": "IPY_MODEL_10d2023e327d41689f40465d506514e2"
      }
     },
     "630e7cb1dbe545f18539bfd087b1c428": {
      "model_module": "@jupyter-widgets/output",
      "model_module_version": "1.0.0",
      "model_name": "OutputModel",
      "state": {
       "layout": "IPY_MODEL_ed9767ce9a4c4b76af0b567ba8231649",
       "outputs": [
        {
         "name": "stdout",
         "output_type": "stream",
         "text": "\nThe patient endorses that they worry regularly about multiple aspects of their life with accompanying physical symptoms.\nOver the past several weeks, the patient denies any excessive worrying,  \nfeeling keyed up and on edge, irritability, or panic attacks. \n\"yes, I had bad anxiety last week, I got my period\"\n\n"
        }
       ]
      }
     },
     "632828f15aac4a879fda398f10fe78e1": {
      "model_module": "@jupyter-widgets/controls",
      "model_module_version": "1.5.0",
      "model_name": "DescriptionStyleModel",
      "state": {
       "description_width": ""
      }
     },
     "635d17e118cc4c8da7010c6b76cb2524": {
      "model_module": "@jupyter-widgets/controls",
      "model_module_version": "1.5.0",
      "model_name": "CheckboxModel",
      "state": {
       "description": "Alcohol use disorder Severe",
       "disabled": false,
       "layout": "IPY_MODEL_4149f5b3c14a41f1908b2b41a87a66ef",
       "style": "IPY_MODEL_61720378d07b4a41b1dc6482da695b77",
       "value": false
      }
     },
     "6390148153cd4a1eb275d4b57deae594": {
      "model_module": "@jupyter-widgets/base",
      "model_module_version": "1.2.0",
      "model_name": "LayoutModel",
      "state": {}
     },
     "6390ea01c63f40ccb2fcb6601b1a2cd8": {
      "model_module": "@jupyter-widgets/controls",
      "model_module_version": "1.5.0",
      "model_name": "DescriptionStyleModel",
      "state": {
       "description_width": "150px"
      }
     },
     "63c6c929d54f45508e1f9b890d724d03": {
      "model_module": "@jupyter-widgets/controls",
      "model_module_version": "1.5.0",
      "model_name": "BoundedIntTextModel",
      "state": {
       "description": "Sober Time:",
       "layout": "IPY_MODEL_fa9ec4f225bc40b29e03b63fcbcbd3db",
       "max": 200,
       "style": "IPY_MODEL_d65ccb0cacfb4a419ec9b3ff857bb716",
       "value": 26
      }
     },
     "63cbd74e31cb4c0790e7bfd018f94c7b": {
      "model_module": "@jupyter-widgets/controls",
      "model_module_version": "1.5.0",
      "model_name": "VBoxModel",
      "state": {
       "_dom_classes": [
        "widget-interact"
       ],
       "children": [
        "IPY_MODEL_912049c2cf8e4836b698e5e4347ff150",
        "IPY_MODEL_df282420675448b5b7b33c0a413713e7"
       ],
       "layout": "IPY_MODEL_b4f08def9a6d44d2a9cc4c3620fc5bf0"
      }
     },
     "6431303d1bb7441aaf5c40d34379ee9d": {
      "model_module": "@jupyter-widgets/output",
      "model_module_version": "1.0.0",
      "model_name": "OutputModel",
      "state": {
       "layout": "IPY_MODEL_1aa10322802e463d9382c63e5f1acb02",
       "outputs": [
        {
         "name": "stdout",
         "output_type": "stream",
         "text": "\nHistory of Present Illness:\nThe patient states that they decided to come to treatment because i really neededhelp . \nPatient reports they have been sober for 4 days.\nThe patient denies withdrawals. The patient denies cravings.\nThe patient declines anti-craving medication.\nThe patient reports their substance use impacted their life negatively  \n \n    \n"
        }
       ]
      }
     },
     "64413402ddb7498687af99a92b876994": {
      "model_module": "@jupyter-widgets/controls",
      "model_module_version": "1.5.0",
      "model_name": "DescriptionStyleModel",
      "state": {
       "description_width": ""
      }
     },
     "647fcd22321143ee90aa992f6f613c41": {
      "model_module": "@jupyter-widgets/output",
      "model_module_version": "1.0.0",
      "model_name": "OutputModel",
      "state": {
       "layout": "IPY_MODEL_5d08823f1c6745c3b6106dba1558dddf",
       "outputs": [
        {
         "name": "stdout",
         "output_type": "stream",
         "text": "\nThe patient denies that they worry regularly about multiple aspects of their life with accompanying physical symptoms.\nOver the past several weeks, the patient denies any excessive worrying,  \nfeeling keyed up and on edge, irritability, or panic attacks. \n\n\n"
        }
       ]
      }
     },
     "648485e7acc14b8d8ca53e44fac7dc00": {
      "model_module": "@jupyter-widgets/base",
      "model_module_version": "1.2.0",
      "model_name": "LayoutModel",
      "state": {}
     },
     "648c986ad5584c0680883eec1c573eae": {
      "model_module": "@jupyter-widgets/base",
      "model_module_version": "1.2.0",
      "model_name": "LayoutModel",
      "state": {}
     },
     "649fd8fe6a7c45d78f1412df1a0862bd": {
      "model_module": "@jupyter-widgets/controls",
      "model_module_version": "1.5.0",
      "model_name": "DescriptionStyleModel",
      "state": {
       "description_width": "150px"
      }
     },
     "64a1b28275e341f8868e60d5c1daa674": {
      "model_module": "@jupyter-widgets/controls",
      "model_module_version": "1.5.0",
      "model_name": "CheckboxModel",
      "state": {
       "description": "Alcohol use disorder Severe",
       "disabled": false,
       "layout": "IPY_MODEL_efec1eb0cb304e6b97cbe91df4f459b1",
       "style": "IPY_MODEL_6f83491206b24313b388876c54a3e735",
       "value": true
      }
     },
     "64a1d2cc6d4846749c2bbadfe0ab4502": {
      "model_module": "@jupyter-widgets/base",
      "model_module_version": "1.2.0",
      "model_name": "LayoutModel",
      "state": {}
     },
     "64a528ca347047df8ad9c95191c39bbd": {
      "model_module": "@jupyter-widgets/controls",
      "model_module_version": "1.5.0",
      "model_name": "DescriptionStyleModel",
      "state": {
       "description_width": "150px"
      }
     },
     "64a8d70b2dd64df6a8c94a6d4b18edbb": {
      "model_module": "@jupyter-widgets/controls",
      "model_module_version": "1.5.0",
      "model_name": "DropdownModel",
      "state": {
       "_options_labels": [
        "denies",
        "endorses"
       ],
       "description": "legal",
       "index": 0,
       "layout": "IPY_MODEL_fa9ec4f225bc40b29e03b63fcbcbd3db",
       "style": "IPY_MODEL_83d9fac476ad44cfb3b8e437607b7c1f"
      }
     },
     "64ade1ebea894fa996f5d8b3b2b48017": {
      "model_module": "@jupyter-widgets/base",
      "model_module_version": "1.2.0",
      "model_name": "LayoutModel",
      "state": {}
     },
     "64c1157a21514e60a91563dcbcafdfd6": {
      "model_module": "@jupyter-widgets/controls",
      "model_module_version": "1.5.0",
      "model_name": "DescriptionStyleModel",
      "state": {
       "description_width": "150px"
      }
     },
     "64ce3b7412ac446bad3b83162663d5cf": {
      "model_module": "@jupyter-widgets/base",
      "model_module_version": "1.2.0",
      "model_name": "LayoutModel",
      "state": {}
     },
     "64f3493d9e7e4cd79d693795fcd61555": {
      "model_module": "@jupyter-widgets/base",
      "model_module_version": "1.2.0",
      "model_name": "LayoutModel",
      "state": {
       "width": "50%"
      }
     },
     "64fe4d7a1ac146aa9c4a59d943c0f988": {
      "model_module": "@jupyter-widgets/base",
      "model_module_version": "1.2.0",
      "model_name": "LayoutModel",
      "state": {}
     },
     "6507e7634de64eed96bfb0234b1a354b": {
      "model_module": "@jupyter-widgets/controls",
      "model_module_version": "1.5.0",
      "model_name": "VBoxModel",
      "state": {
       "_dom_classes": [
        "widget-interact"
       ],
       "children": [
        "IPY_MODEL_87e818ebafa344baaa83294e2d7b0023",
        "IPY_MODEL_f05417088e8a4f859209a447bca9918c",
        "IPY_MODEL_a6c4ffc308c04c69b4acd9d5703cc8d4",
        "IPY_MODEL_e726a707031d469089e5059ac7603b34",
        "IPY_MODEL_ebf36e9fb2d8407f9eddde76003d86a1",
        "IPY_MODEL_4c61c8d361d940328ab1b19e214e91e0",
        "IPY_MODEL_439127854c9c4a5c905bf01df2af0e8a"
       ],
       "layout": "IPY_MODEL_26944d47b6e6468eaab60f8c346b47f4"
      }
     },
     "653c353210314f6187df78d17d6b31ff": {
      "model_module": "@jupyter-widgets/controls",
      "model_module_version": "1.5.0",
      "model_name": "DescriptionStyleModel",
      "state": {
       "description_width": "150px"
      }
     },
     "6552d180af3948dc814b19ce54024696": {
      "model_module": "@jupyter-widgets/controls",
      "model_module_version": "1.5.0",
      "model_name": "DropdownModel",
      "state": {
       "_options_labels": [
        "denies",
        "endorses"
       ],
       "description": "acute_medical",
       "index": 0,
       "layout": "IPY_MODEL_64f3493d9e7e4cd79d693795fcd61555",
       "style": "IPY_MODEL_b5cfe8207c4b4c6fb2e9a8f68e3c0400"
      }
     },
     "65c347393fe94695906c15c944182c5d": {
      "model_module": "@jupyter-widgets/base",
      "model_module_version": "1.2.0",
      "model_name": "LayoutModel",
      "state": {}
     },
     "65d39c1555d14c31b86a1487fda19528": {
      "model_module": "@jupyter-widgets/output",
      "model_module_version": "1.0.0",
      "model_name": "OutputModel",
      "state": {
       "layout": "IPY_MODEL_67c70f5d920f4f89a5ecdbbc37a4b43b",
       "outputs": [
        {
         "name": "stdout",
         "output_type": "stream",
         "text": "\nSocial History:\nThe patient states that they are single, and have 0 children. \nThey report that they are currently living . \nThe patient denies any history of legal problems.  \nThe patient denies a history of abuse.\n\n\n"
        }
       ]
      }
     },
     "65dd6dbe3d35472c96767e942c166525": {
      "model_module": "@jupyter-widgets/base",
      "model_module_version": "1.2.0",
      "model_name": "LayoutModel",
      "state": {}
     },
     "6649daf904654248a1a248ecee2d73e6": {
      "model_module": "@jupyter-widgets/controls",
      "model_module_version": "1.5.0",
      "model_name": "BoundedIntTextModel",
      "state": {
       "description": "Sober Time:",
       "layout": "IPY_MODEL_64f3493d9e7e4cd79d693795fcd61555",
       "max": 200,
       "style": "IPY_MODEL_acd53a5b71ed4ebda6f811e31c41d0e5",
       "value": 4
      }
     },
     "668d9a9a79fc473f80d118b4ec44756c": {
      "model_module": "@jupyter-widgets/base",
      "model_module_version": "1.2.0",
      "model_name": "LayoutModel",
      "state": {}
     },
     "6699feea42fc47f29477d3afdf9efde9": {
      "model_module": "@jupyter-widgets/base",
      "model_module_version": "1.2.0",
      "model_name": "LayoutModel",
      "state": {}
     },
     "669f070294a3431e9cb2e227f5cc2a7f": {
      "model_module": "@jupyter-widgets/controls",
      "model_module_version": "1.5.0",
      "model_name": "DescriptionStyleModel",
      "state": {
       "description_width": ""
      }
     },
     "66ae364f40834ac5832167ba071d53dd": {
      "model_module": "@jupyter-widgets/controls",
      "model_module_version": "1.5.0",
      "model_name": "DescriptionStyleModel",
      "state": {
       "description_width": ""
      }
     },
     "66b88d29ae7a45b08ff4b481f9593bed": {
      "model_module": "@jupyter-widgets/controls",
      "model_module_version": "1.5.0",
      "model_name": "CheckboxModel",
      "state": {
       "description": "Bipolar II disorder",
       "disabled": false,
       "layout": "IPY_MODEL_7e3cbaa923ca40a685e4f46dfe07e583",
       "style": "IPY_MODEL_991c12b58a3d4cfc8002187436d69247",
       "value": false
      }
     },
     "66cd3271bada415a8bfa5a616b0e8cf0": {
      "model_module": "@jupyter-widgets/controls",
      "model_module_version": "1.5.0",
      "model_name": "CheckboxModel",
      "state": {
       "description": "no drug",
       "disabled": false,
       "layout": "IPY_MODEL_77eeb655c5c14c42b027b185dd6588e5",
       "style": "IPY_MODEL_98fea2ae4d9b40d4a7d2ba57ecf916d9",
       "value": false
      }
     },
     "67336565fe6b449cb82661c324ca9692": {
      "model_module": "@jupyter-widgets/base",
      "model_module_version": "1.2.0",
      "model_name": "LayoutModel",
      "state": {}
     },
     "675d950452cb47ef8b893fa794880def": {
      "model_module": "@jupyter-widgets/controls",
      "model_module_version": "1.5.0",
      "model_name": "DropdownModel",
      "state": {
       "_options_labels": [
        "a history",
        "no history"
       ],
       "description": "learning_disabilties",
       "index": 1,
       "layout": "IPY_MODEL_f3ab830ad14c40bcb60503d19e5f9870",
       "style": "IPY_MODEL_bc278675a83644e9a62eed8e4178e8ab"
      }
     },
     "679980d3c39b45e1b341a96b3321c02d": {
      "model_module": "@jupyter-widgets/controls",
      "model_module_version": "1.5.0",
      "model_name": "DropdownModel",
      "state": {
       "_options_labels": [
        "denies",
        "endorses"
       ],
       "description": "sleep",
       "index": 0,
       "layout": "IPY_MODEL_ecfa8b2075df48d78b3e743fdae50eff",
       "style": "IPY_MODEL_dba8095b496e497aa584cbde0b7e404e"
      }
     },
     "67c43c9ada9f4451893554dc98e340c5": {
      "model_module": "@jupyter-widgets/controls",
      "model_module_version": "1.5.0",
      "model_name": "DescriptionStyleModel",
      "state": {
       "description_width": ""
      }
     },
     "67c70f5d920f4f89a5ecdbbc37a4b43b": {
      "model_module": "@jupyter-widgets/base",
      "model_module_version": "1.2.0",
      "model_name": "LayoutModel",
      "state": {}
     },
     "67d61903aa79487891b244c996750f20": {
      "model_module": "@jupyter-widgets/controls",
      "model_module_version": "1.5.0",
      "model_name": "TextareaModel",
      "state": {
       "description": "notes",
       "layout": "IPY_MODEL_57dff8c6f77e4aad88e092f42ad13209",
       "style": "IPY_MODEL_b5507128f0854322bfbcc5e0020ffb75"
      }
     },
     "67f0604dce3f40a588c9ac31d47cf7b1": {
      "model_module": "@jupyter-widgets/controls",
      "model_module_version": "1.5.0",
      "model_name": "DropdownModel",
      "state": {
       "_options_labels": [
        "denies",
        "endorses"
       ],
       "description": "sleep",
       "index": 0,
       "layout": "IPY_MODEL_5259318fb468446090efdf421640f15f",
       "style": "IPY_MODEL_2430c28f2e6a433e81290b1441b5dd6d"
      }
     },
     "686a5c81f79044daa33a825bc2b712be": {
      "model_module": "@jupyter-widgets/base",
      "model_module_version": "1.2.0",
      "model_name": "LayoutModel",
      "state": {}
     },
     "68a841b15a0f4dda92e60430c5a98f6d": {
      "model_module": "@jupyter-widgets/controls",
      "model_module_version": "1.5.0",
      "model_name": "DescriptionStyleModel",
      "state": {
       "description_width": ""
      }
     },
     "68bd64bd2b3247c4a309cd4319c8af6b": {
      "model_module": "@jupyter-widgets/controls",
      "model_module_version": "1.5.0",
      "model_name": "DescriptionStyleModel",
      "state": {
       "description_width": ""
      }
     },
     "68deaf8b691f44e282a2426e2eb895b0": {
      "model_module": "@jupyter-widgets/controls",
      "model_module_version": "1.5.0",
      "model_name": "DescriptionStyleModel",
      "state": {
       "description_width": "150px"
      }
     },
     "68e96a04a865469b9ab881038bfe1cf3": {
      "model_module": "@jupyter-widgets/base",
      "model_module_version": "1.2.0",
      "model_name": "LayoutModel",
      "state": {}
     },
     "68f13d88bd664ac5a961d3bb5d2ae505": {
      "model_module": "@jupyter-widgets/controls",
      "model_module_version": "1.5.0",
      "model_name": "DropdownModel",
      "state": {
       "_options_labels": [
        "good",
        "fair",
        "poor"
       ],
       "description": "concentration",
       "index": 1,
       "layout": "IPY_MODEL_64f3493d9e7e4cd79d693795fcd61555",
       "style": "IPY_MODEL_e9fa4ce0b9aa4dd28d52a026be708a2a"
      }
     },
     "691826a5811942f6a41a80e5ce5a8eb7": {
      "model_module": "@jupyter-widgets/controls",
      "model_module_version": "1.5.0",
      "model_name": "DescriptionStyleModel",
      "state": {
       "description_width": "150px"
      }
     },
     "693172d518194fb3b08219b08b79a30b": {
      "model_module": "@jupyter-widgets/base",
      "model_module_version": "1.2.0",
      "model_name": "LayoutModel",
      "state": {}
     },
     "6993d0b7e3f144e4a0dd9ec1515cd34f": {
      "model_module": "@jupyter-widgets/controls",
      "model_module_version": "1.5.0",
      "model_name": "DescriptionStyleModel",
      "state": {
       "description_width": "150px"
      }
     },
     "699a4cdeb78947db8b07bffa471d892f": {
      "model_module": "@jupyter-widgets/controls",
      "model_module_version": "1.5.0",
      "model_name": "TextareaModel",
      "state": {
       "description": "notes",
       "layout": "IPY_MODEL_64f3493d9e7e4cd79d693795fcd61555",
       "style": "IPY_MODEL_e2a416eb076940b0b5d5c5138d22616d"
      }
     },
     "69a6fd3da316442b93e7de0a0bb63c25": {
      "model_module": "@jupyter-widgets/controls",
      "model_module_version": "1.5.0",
      "model_name": "DescriptionStyleModel",
      "state": {
       "description_width": "150px"
      }
     },
     "69f03e636caa4d919f39d308a6878eb9": {
      "model_module": "@jupyter-widgets/base",
      "model_module_version": "1.2.0",
      "model_name": "LayoutModel",
      "state": {}
     },
     "6a16c18b81314cd3b04a466180366788": {
      "model_module": "@jupyter-widgets/controls",
      "model_module_version": "1.5.0",
      "model_name": "DropdownModel",
      "state": {
       "_options_labels": [
        "declines",
        "is amenable with"
       ],
       "description": "med_adjust",
       "index": 0,
       "layout": "IPY_MODEL_5259318fb468446090efdf421640f15f",
       "style": "IPY_MODEL_cb9475975d1c4bedbe91241686e94848"
      }
     },
     "6a583e4e33934e818cddb6c83f08eb16": {
      "model_module": "@jupyter-widgets/controls",
      "model_module_version": "1.5.0",
      "model_name": "DescriptionStyleModel",
      "state": {
       "description_width": ""
      }
     },
     "6a77c27ba75f4017844b0e541b655763": {
      "model_module": "@jupyter-widgets/base",
      "model_module_version": "1.2.0",
      "model_name": "LayoutModel",
      "state": {}
     },
     "6a795e7cef734ac3856e5f3bfee2db9b": {
      "model_module": "@jupyter-widgets/controls",
      "model_module_version": "1.5.0",
      "model_name": "DescriptionStyleModel",
      "state": {
       "description_width": "150px"
      }
     },
     "6aa1cc13d9704d57a0cbdc3bffbeae07": {
      "model_module": "@jupyter-widgets/controls",
      "model_module_version": "1.5.0",
      "model_name": "DescriptionStyleModel",
      "state": {
       "description_width": "150px"
      }
     },
     "6abcf9d83ec44b30bda8de094d52cabc": {
      "model_module": "@jupyter-widgets/controls",
      "model_module_version": "1.5.0",
      "model_name": "DescriptionStyleModel",
      "state": {
       "description_width": "150px"
      }
     },
     "6abedc12ceec45c5a54aa918a0daff37": {
      "model_module": "@jupyter-widgets/controls",
      "model_module_version": "1.5.0",
      "model_name": "CheckboxModel",
      "state": {
       "description": "Alcohol use disorder Severe",
       "disabled": false,
       "layout": "IPY_MODEL_491107e338884f1692c0f2247d278eb1",
       "style": "IPY_MODEL_1b0743afe4844e34a87d9385a9570086",
       "value": true
      }
     },
     "6ac194b562d7463e97a67519e8212a4d": {
      "model_module": "@jupyter-widgets/controls",
      "model_module_version": "1.5.0",
      "model_name": "BoxModel",
      "state": {
       "children": [
        "IPY_MODEL_112c01ddb6244108ba10f34910ec5202",
        "IPY_MODEL_8089360b700746d3b420f0536150bd0a",
        "IPY_MODEL_12d9254f2681411dae55968fd976faf5",
        "IPY_MODEL_276cbf7cd23a4016adc36786c55795af"
       ],
       "layout": "IPY_MODEL_ef4d44ccc5f34d39ae6210506bc2e602"
      }
     },
     "6ac66bc66cfb4cc589cdad527697b463": {
      "model_module": "@jupyter-widgets/base",
      "model_module_version": "1.2.0",
      "model_name": "LayoutModel",
      "state": {}
     },
     "6ad0861d653c4c69ade5ea3c3eac800d": {
      "model_module": "@jupyter-widgets/controls",
      "model_module_version": "1.5.0",
      "model_name": "BoxModel",
      "state": {
       "children": [
        "IPY_MODEL_57c511dbb3d74b2aa60ed3029edb9d8d",
        "IPY_MODEL_97f8259a6980484fa8df4aa6311a4418",
        "IPY_MODEL_27daa90c10b84550bb4f8a4fd119476e",
        "IPY_MODEL_f0a1bd2bf53f43f49853f4601e4e1614"
       ],
       "layout": "IPY_MODEL_f60f52a669e64307a42282bcffc80377"
      }
     },
     "6ae27c6d98a7454482576d4880a5e3fb": {
      "model_module": "@jupyter-widgets/base",
      "model_module_version": "1.2.0",
      "model_name": "LayoutModel",
      "state": {}
     },
     "6aefb2cc648a43e89b6a232f8fbde2ec": {
      "model_module": "@jupyter-widgets/controls",
      "model_module_version": "1.5.0",
      "model_name": "DescriptionStyleModel",
      "state": {
       "description_width": "150px"
      }
     },
     "6b07e57c005d4e288e2a95a8fe9ef1ec": {
      "model_module": "@jupyter-widgets/controls",
      "model_module_version": "1.5.0",
      "model_name": "BoundedIntTextModel",
      "state": {
       "description": "num_times_in_treatment",
       "layout": "IPY_MODEL_5259318fb468446090efdf421640f15f",
       "style": "IPY_MODEL_2158688c3426462dbdad90a460d3de48"
      }
     },
     "6b3766fa25f247d290a5d09b6d49c98f": {
      "model_module": "@jupyter-widgets/controls",
      "model_module_version": "1.5.0",
      "model_name": "TextareaModel",
      "state": {
       "description": "Notes:",
       "layout": "IPY_MODEL_8bccd6438158458da6d90143dc77e867",
       "style": "IPY_MODEL_c2595d26a67b4c1ab38c411b6c1ea772"
      }
     },
     "6b3972b456fd4c4580112621ae7e2722": {
      "model_module": "@jupyter-widgets/controls",
      "model_module_version": "1.5.0",
      "model_name": "DescriptionStyleModel",
      "state": {
       "description_width": ""
      }
     },
     "6b58c34fc290495798176ed114f393ff": {
      "model_module": "@jupyter-widgets/controls",
      "model_module_version": "1.5.0",
      "model_name": "DropdownModel",
      "state": {
       "_options_labels": [
        "denies",
        "endorses"
       ],
       "description": "hospitalization",
       "index": 0,
       "layout": "IPY_MODEL_64f3493d9e7e4cd79d693795fcd61555",
       "style": "IPY_MODEL_8320d913bf5b4c1ba88c76211b944d55"
      }
     },
     "6b68d963b34c48bfbffea18009c198f2": {
      "model_module": "@jupyter-widgets/base",
      "model_module_version": "1.2.0",
      "model_name": "LayoutModel",
      "state": {}
     },
     "6b8dce21e35646589e12a5c22598fff1": {
      "model_module": "@jupyter-widgets/controls",
      "model_module_version": "1.5.0",
      "model_name": "CheckboxModel",
      "state": {
       "description": "Bipolar II disorder",
       "disabled": false,
       "layout": "IPY_MODEL_8485fa665dba404f9bd7894129d4f994",
       "style": "IPY_MODEL_3042652bb5b943aea056b39bfa2dd840",
       "value": false
      }
     },
     "6baeaf7bf66848b0838dcc73daec8555": {
      "model_module": "@jupyter-widgets/output",
      "model_module_version": "1.0.0",
      "model_name": "OutputModel",
      "state": {
       "layout": "IPY_MODEL_53906a242540437aac885dfb27c87419",
       "outputs": [
        {
         "name": "stdout",
         "output_type": "stream",
         "text": "\nHistory of Present Illness:\nThe patient states that they decided to come to treatment because \"Seeking stability and safe space\". \nPatient reports they have been sober for 8 days.\nThe patient denies withdrawals. The patient denies cravings.\nThe patient declines anti-craving medication.\nThe patient reports their substance use impacted their life negatively \"I was just not in a place where wanted to be besides for drinking and drugs\"\n\n\n    \n"
        }
       ]
      }
     },
     "6befca79d8db4049a319058bc0434a55": {
      "model_module": "@jupyter-widgets/output",
      "model_module_version": "1.0.0",
      "model_name": "OutputModel",
      "state": {
       "layout": "IPY_MODEL_16ba0d31770144d59fb5486980b5a5b3",
       "outputs": [
        {
         "name": "stdout",
         "output_type": "stream",
         "text": "\nMedical History:\nThe patient denies any acute medical conditions. \nThe patient denies any history of HIV. \nThe patient denies any history of hepatitis.\nThe patient denies any history of TBI.\n\n\n"
        }
       ]
      }
     },
     "6c4209f783b746b4bb9be51f0a15c477": {
      "model_module": "@jupyter-widgets/controls",
      "model_module_version": "1.5.0",
      "model_name": "TextareaModel",
      "state": {
       "description": "Other:",
       "layout": "IPY_MODEL_f3ab830ad14c40bcb60503d19e5f9870",
       "style": "IPY_MODEL_731500784d3849599b3e9e5c0834a857"
      }
     },
     "6c62f5995c0f4d22aa8fd3805016b602": {
      "model_module": "@jupyter-widgets/base",
      "model_module_version": "1.2.0",
      "model_name": "LayoutModel",
      "state": {}
     },
     "6c7bc35a7e6247debbe4a2c360f595c4": {
      "model_module": "@jupyter-widgets/controls",
      "model_module_version": "1.5.0",
      "model_name": "DescriptionStyleModel",
      "state": {
       "description_width": ""
      }
     },
     "6c7e8f93f27b4ba399886a51ca6df9ea": {
      "model_module": "@jupyter-widgets/base",
      "model_module_version": "1.2.0",
      "model_name": "LayoutModel",
      "state": {}
     },
     "6caaba45e155452f8c1e95f95c389166": {
      "model_module": "@jupyter-widgets/controls",
      "model_module_version": "1.5.0",
      "model_name": "DescriptionStyleModel",
      "state": {
       "description_width": ""
      }
     },
     "6cb8485ecb1646c3832197b7fd6ccdf9": {
      "model_module": "@jupyter-widgets/controls",
      "model_module_version": "1.5.0",
      "model_name": "DropdownModel",
      "state": {
       "_options_labels": [
        "denies",
        "endorses"
       ],
       "description": "suicide",
       "index": 0,
       "layout": "IPY_MODEL_fa9ec4f225bc40b29e03b63fcbcbd3db",
       "style": "IPY_MODEL_7b95cad1c13b4dc2a6f4766542f5fa37"
      }
     },
     "6cc5adae8c9946688acf29c935dbb71a": {
      "model_module": "@jupyter-widgets/base",
      "model_module_version": "1.2.0",
      "model_name": "LayoutModel",
      "state": {}
     },
     "6ce04874777349eab5da5da28c79a82a": {
      "model_module": "@jupyter-widgets/base",
      "model_module_version": "1.2.0",
      "model_name": "LayoutModel",
      "state": {}
     },
     "6d009b813a1e436daa808a9d8086dedf": {
      "model_module": "@jupyter-widgets/controls",
      "model_module_version": "1.5.0",
      "model_name": "VBoxModel",
      "state": {
       "_dom_classes": [
        "widget-interact"
       ],
       "children": [
        "IPY_MODEL_05186333ee2b497fb642fc864430ae6a",
        "IPY_MODEL_99a9bdba250a434db0a5ea8f96a69211"
       ],
       "layout": "IPY_MODEL_2fd3b49bc57945fdbde8f0756951f67e"
      }
     },
     "6d0811a0a1d64859a3a389d05c0629ba": {
      "model_module": "@jupyter-widgets/controls",
      "model_module_version": "1.5.0",
      "model_name": "DescriptionStyleModel",
      "state": {
       "description_width": "150px"
      }
     },
     "6d0fbcfa573040c29b9644ca5c69bf19": {
      "model_module": "@jupyter-widgets/controls",
      "model_module_version": "1.5.0",
      "model_name": "TextareaModel",
      "state": {
       "description": "Notes:",
       "layout": "IPY_MODEL_8ffe0bd604ae4ae182c32df2d5ba4dc9",
       "style": "IPY_MODEL_f0e55d29cef543cf83d2371ce80b8bca"
      }
     },
     "6d235a5ddf6e4ad39de45f0c1139935e": {
      "model_module": "@jupyter-widgets/controls",
      "model_module_version": "1.5.0",
      "model_name": "DropdownModel",
      "state": {
       "_options_labels": [
        "denies",
        "endorses"
       ],
       "description": "physical_anxiety",
       "index": 0,
       "layout": "IPY_MODEL_5259318fb468446090efdf421640f15f",
       "style": "IPY_MODEL_3269c1c19a6b4a9d97f22a1f1c522435"
      }
     },
     "6d26d8b2f7944108b6587678c8e5cbec": {
      "model_module": "@jupyter-widgets/base",
      "model_module_version": "1.2.0",
      "model_name": "LayoutModel",
      "state": {
       "width": "25%"
      }
     },
     "6d394698e39e419c9e2aebe570a3440b": {
      "model_module": "@jupyter-widgets/base",
      "model_module_version": "1.2.0",
      "model_name": "LayoutModel",
      "state": {}
     },
     "6d79770a8a774c58b8cf9041bf415c74": {
      "model_module": "@jupyter-widgets/controls",
      "model_module_version": "1.5.0",
      "model_name": "CheckboxModel",
      "state": {
       "description": "adhd",
       "disabled": false,
       "layout": "IPY_MODEL_2d3b1b7a6f154569891c9ea3900233b3",
       "style": "IPY_MODEL_1d144062f0bc45249d52a30c7bb99a39",
       "value": false
      }
     },
     "6d8279f5bce745d59706e5710663daf8": {
      "model_module": "@jupyter-widgets/controls",
      "model_module_version": "1.5.0",
      "model_name": "DescriptionStyleModel",
      "state": {
       "description_width": ""
      }
     },
     "6d9573860cd746129a714483b1f886bf": {
      "model_module": "@jupyter-widgets/controls",
      "model_module_version": "1.5.0",
      "model_name": "CheckboxModel",
      "state": {
       "description": "insomnia",
       "disabled": false,
       "layout": "IPY_MODEL_afdac7b5421040378970fdd034a67ddb",
       "style": "IPY_MODEL_30f0d166243245568e6066fa5514a09c",
       "value": false
      }
     },
     "6daa6e2e1795495ea8489d9a5642fa5e": {
      "model_module": "@jupyter-widgets/base",
      "model_module_version": "1.2.0",
      "model_name": "LayoutModel",
      "state": {}
     },
     "6dc285fe4d434722ad501de1b7fbe57a": {
      "model_module": "@jupyter-widgets/controls",
      "model_module_version": "1.5.0",
      "model_name": "DescriptionStyleModel",
      "state": {
       "description_width": ""
      }
     },
     "6def70879fe84cb6b00fba4460a76588": {
      "model_module": "@jupyter-widgets/base",
      "model_module_version": "1.2.0",
      "model_name": "LayoutModel",
      "state": {}
     },
     "6e1c3fa4cbbb44028b7f329734747cea": {
      "model_module": "@jupyter-widgets/controls",
      "model_module_version": "1.5.0",
      "model_name": "DescriptionStyleModel",
      "state": {
       "description_width": ""
      }
     },
     "6eaeb2eaf5d547c28ae0ca759fe98eb8": {
      "model_module": "@jupyter-widgets/controls",
      "model_module_version": "1.5.0",
      "model_name": "DescriptionStyleModel",
      "state": {
       "description_width": "150px"
      }
     },
     "6ed985a16d9e49b2a7338c2e68b809bd": {
      "model_module": "@jupyter-widgets/controls",
      "model_module_version": "1.5.0",
      "model_name": "DescriptionStyleModel",
      "state": {
       "description_width": "150px"
      }
     },
     "6f1fe2bd865c44f68fbd38991e3ed763": {
      "model_module": "@jupyter-widgets/controls",
      "model_module_version": "1.5.0",
      "model_name": "VBoxModel",
      "state": {
       "_dom_classes": [
        "widget-interact"
       ],
       "children": [
        "IPY_MODEL_62445dccc4c7426c9813e04a1971864b",
        "IPY_MODEL_04ac5bc57de14ea896ebd6a93378942c"
       ],
       "layout": "IPY_MODEL_cad7404d583846f7bdfe0c7a1e294847"
      }
     },
     "6f21fd3b6f344782b88645d527f11b05": {
      "model_module": "@jupyter-widgets/base",
      "model_module_version": "1.2.0",
      "model_name": "LayoutModel",
      "state": {}
     },
     "6f3fa48cd39a49729428a52f37130c8e": {
      "model_module": "@jupyter-widgets/controls",
      "model_module_version": "1.5.0",
      "model_name": "DropdownModel",
      "state": {
       "_options_labels": [
        "denies",
        "endorses"
       ],
       "description": "tbi_medical",
       "index": 0,
       "layout": "IPY_MODEL_ecfa8b2075df48d78b3e743fdae50eff",
       "style": "IPY_MODEL_bb2a047e7c4943ddaf06790398a096a2"
      }
     },
     "6f4f8ceaf6494a7dbc269d0a59520cdd": {
      "model_module": "@jupyter-widgets/controls",
      "model_module_version": "1.5.0",
      "model_name": "DescriptionStyleModel",
      "state": {
       "description_width": "150px"
      }
     },
     "6f83491206b24313b388876c54a3e735": {
      "model_module": "@jupyter-widgets/controls",
      "model_module_version": "1.5.0",
      "model_name": "DescriptionStyleModel",
      "state": {
       "description_width": ""
      }
     },
     "6f8dfdc75be34b12bf4762d30ae8af55": {
      "model_module": "@jupyter-widgets/controls",
      "model_module_version": "1.5.0",
      "model_name": "DropdownModel",
      "state": {
       "_options_labels": [
        "denies",
        "endorses"
       ],
       "description": "hospitalization",
       "index": 1,
       "layout": "IPY_MODEL_f3ab830ad14c40bcb60503d19e5f9870",
       "style": "IPY_MODEL_a13f00415db44924bb593c4e49cb157e"
      }
     },
     "6face34645404c2782548300771f8f10": {
      "model_module": "@jupyter-widgets/controls",
      "model_module_version": "1.5.0",
      "model_name": "CheckboxModel",
      "state": {
       "description": "cocaine",
       "disabled": false,
       "layout": "IPY_MODEL_d192c5b2120148e4aeeacd932d1b6d6c",
       "style": "IPY_MODEL_d9690fe19f9f4eafac8e873dfbb51af5",
       "value": false
      }
     },
     "6faea70aa932487caaa56dbad0ea9ffc": {
      "model_module": "@jupyter-widgets/base",
      "model_module_version": "1.2.0",
      "model_name": "LayoutModel",
      "state": {}
     },
     "6fbc2def6171453d8605e9b26e0dcb30": {
      "model_module": "@jupyter-widgets/controls",
      "model_module_version": "1.5.0",
      "model_name": "CheckboxModel",
      "state": {
       "description": "depression",
       "disabled": false,
       "layout": "IPY_MODEL_3e95d98f704c4e59b5bac8af4fba06f8",
       "style": "IPY_MODEL_265699a307f94e2e8c1e83052274bdf1",
       "value": false
      }
     },
     "6fc2050668e547759fbe5f54015f574a": {
      "model_module": "@jupyter-widgets/controls",
      "model_module_version": "1.5.0",
      "model_name": "CheckboxModel",
      "state": {
       "description": "Alcohol use disorder Severe",
       "disabled": false,
       "layout": "IPY_MODEL_c968beaea8ca4634a46d7479ba8d2162",
       "style": "IPY_MODEL_589683c7db4b458e99d495ca2ce104f0",
       "value": false
      }
     },
     "6fcf9ba5e34a4d67b4930594dbcadcfd": {
      "model_module": "@jupyter-widgets/controls",
      "model_module_version": "1.5.0",
      "model_name": "DropdownModel",
      "state": {
       "_options_labels": [
        "a history",
        "no history"
       ],
       "description": "mania",
       "index": 1,
       "layout": "IPY_MODEL_ecfa8b2075df48d78b3e743fdae50eff",
       "style": "IPY_MODEL_6a795e7cef734ac3856e5f3bfee2db9b"
      }
     },
     "6fdf319be11c4e30b5944b47395745d3": {
      "model_module": "@jupyter-widgets/controls",
      "model_module_version": "1.5.0",
      "model_name": "DropdownModel",
      "state": {
       "_options_labels": [
        "days",
        "weeks",
        "months",
        "years"
       ],
       "description": "longest_sober_period",
       "index": 0,
       "layout": "IPY_MODEL_5259318fb468446090efdf421640f15f",
       "style": "IPY_MODEL_2f1ce6495efe43dfa56d570c8e1aa019"
      }
     },
     "6fdf487f4b714f1d9a3a4031adf8c69a": {
      "model_module": "@jupyter-widgets/controls",
      "model_module_version": "1.5.0",
      "model_name": "DescriptionStyleModel",
      "state": {
       "description_width": "150px"
      }
     },
     "6fe931b09530490fa32291e7f33086ea": {
      "model_module": "@jupyter-widgets/controls",
      "model_module_version": "1.5.0",
      "model_name": "DescriptionStyleModel",
      "state": {
       "description_width": "150px"
      }
     },
     "6ff833c95c234fb0b958a6311455cdb8": {
      "model_module": "@jupyter-widgets/base",
      "model_module_version": "1.2.0",
      "model_name": "LayoutModel",
      "state": {}
     },
     "70b83a51cfae47d3932a657c4d3a20c9": {
      "model_module": "@jupyter-widgets/controls",
      "model_module_version": "1.5.0",
      "model_name": "CheckboxModel",
      "state": {
       "description": "anxiety",
       "disabled": false,
       "layout": "IPY_MODEL_349a6480bb534bd38391e25e582a04f9",
       "style": "IPY_MODEL_75f912eaeda5420cb16fb3f0d8d83fcd",
       "value": false
      }
     },
     "70c5d36d63734ec29e50ea21709a1bf5": {
      "model_module": "@jupyter-widgets/controls",
      "model_module_version": "1.5.0",
      "model_name": "DescriptionStyleModel",
      "state": {
       "description_width": "150px"
      }
     },
     "7105abf3dfaa4807b63c6d1a04fe3be9": {
      "model_module": "@jupyter-widgets/controls",
      "model_module_version": "1.5.0",
      "model_name": "CheckboxModel",
      "state": {
       "description": "no mental illness",
       "disabled": false,
       "layout": "IPY_MODEL_cd79f5793ed84a129c5669d0093489f1",
       "style": "IPY_MODEL_91f699d718e946d0b79317fe2485ded1",
       "value": false
      }
     },
     "710e0737f60f4030aa60c0124d9c69c1": {
      "model_module": "@jupyter-widgets/controls",
      "model_module_version": "1.5.0",
      "model_name": "CheckboxModel",
      "state": {
       "description": "fentanyl",
       "disabled": false,
       "layout": "IPY_MODEL_8d1bec2981da4b869da3f460f939a66c",
       "style": "IPY_MODEL_c28ee37ddafb4fcda6aedb4eec10f8c6",
       "value": false
      }
     },
     "71357b5bcfc84e5db918108628a5a46c": {
      "model_module": "@jupyter-widgets/controls",
      "model_module_version": "1.5.0",
      "model_name": "TextareaModel",
      "state": {
       "description": "current_medication",
       "layout": "IPY_MODEL_57dff8c6f77e4aad88e092f42ad13209",
       "placeholder": "Type something",
       "style": "IPY_MODEL_d95dd701432b463484ba11001a7e35dd",
       "value": "Hydroxyzine 50 mg BID \nProzac 60 mg qd, 40 + 20 during menstrual- 4 years\nGabapentin 600mg BID\nClonidine 0.1 mg prn anxiety \nTrazodone 100-200mg qhs prn insomnia\n"
      }
     },
     "7163485704ca49209c1a9ef1b9b7e3e6": {
      "model_module": "@jupyter-widgets/controls",
      "model_module_version": "1.5.0",
      "model_name": "DropdownModel",
      "state": {
       "_options_labels": [
        "denies",
        "endorses"
       ],
       "description": "ivdu",
       "index": 1,
       "layout": "IPY_MODEL_fa9ec4f225bc40b29e03b63fcbcbd3db",
       "style": "IPY_MODEL_2a01682758ee4a87bf3f37e4aae995fd"
      }
     },
     "7172dc48320d4580bf3089e1e65bd989": {
      "model_module": "@jupyter-widgets/controls",
      "model_module_version": "1.5.0",
      "model_name": "DescriptionStyleModel",
      "state": {
       "description_width": "150px"
      }
     },
     "718b7fd5e60c42f1bb466e3f7faab1e0": {
      "model_module": "@jupyter-widgets/controls",
      "model_module_version": "1.5.0",
      "model_name": "DropdownModel",
      "state": {
       "_options_labels": [
        "denies",
        "endorses"
       ],
       "description": "anxiety",
       "index": 0,
       "layout": "IPY_MODEL_ecfa8b2075df48d78b3e743fdae50eff",
       "style": "IPY_MODEL_1895e29127bc40e585fc19e9cabe1866"
      }
     },
     "7209e39e7de646a09c12a261ed8b6c5c": {
      "model_module": "@jupyter-widgets/controls",
      "model_module_version": "1.5.0",
      "model_name": "DescriptionStyleModel",
      "state": {
       "description_width": "150px"
      }
     },
     "720c9288646f44d28e18445aec33f9f5": {
      "model_module": "@jupyter-widgets/base",
      "model_module_version": "1.2.0",
      "model_name": "LayoutModel",
      "state": {}
     },
     "7218cb641d434b95a976dfc60004417f": {
      "model_module": "@jupyter-widgets/controls",
      "model_module_version": "1.5.0",
      "model_name": "DescriptionStyleModel",
      "state": {
       "description_width": "150px"
      }
     },
     "722183903c9b4b09a95f1721717df6af": {
      "model_module": "@jupyter-widgets/controls",
      "model_module_version": "1.5.0",
      "model_name": "TextModel",
      "state": {
       "description": "notes",
       "layout": "IPY_MODEL_f3ab830ad14c40bcb60503d19e5f9870",
       "style": "IPY_MODEL_69a6fd3da316442b93e7de0a0bb63c25",
       "value": "Takes Subutex 8mg TID- for past 100 days- I've had issues tapering down. I'm more than willing to start the taper.\" States suboxone interferes with my other medications too easily."
      }
     },
     "72424d0f6e9e451a8326cfdc929cae6f": {
      "model_module": "@jupyter-widgets/controls",
      "model_module_version": "1.5.0",
      "model_name": "DescriptionStyleModel",
      "state": {
       "description_width": "150px"
      }
     },
     "7248f87176694e66963ce760714b514f": {
      "model_module": "@jupyter-widgets/base",
      "model_module_version": "1.2.0",
      "model_name": "LayoutModel",
      "state": {}
     },
     "726aecb5f0b14614948bcb849ea8c738": {
      "model_module": "@jupyter-widgets/controls",
      "model_module_version": "1.5.0",
      "model_name": "DescriptionStyleModel",
      "state": {
       "description_width": "150px"
      }
     },
     "7299379603884c1e947ad9dd12adb0b5": {
      "model_module": "@jupyter-widgets/controls",
      "model_module_version": "1.5.0",
      "model_name": "CheckboxModel",
      "state": {
       "description": "no drug",
       "disabled": false,
       "layout": "IPY_MODEL_abe1853245de4da6b06bba1827cf8689",
       "style": "IPY_MODEL_25a1e7e41a09454383cee779027f2cc2",
       "value": false
      }
     },
     "72aa76d1608b461da0f053831b03bbb1": {
      "model_module": "@jupyter-widgets/controls",
      "model_module_version": "1.5.0",
      "model_name": "DescriptionStyleModel",
      "state": {
       "description_width": "150px"
      }
     },
     "72f0f3b0efe74ea6b0499232f195f1ad": {
      "model_module": "@jupyter-widgets/controls",
      "model_module_version": "1.5.0",
      "model_name": "DescriptionStyleModel",
      "state": {
       "description_width": "150px"
      }
     },
     "72f577ec6b4f4bc294d9e155ff889a43": {
      "model_module": "@jupyter-widgets/controls",
      "model_module_version": "1.5.0",
      "model_name": "CheckboxModel",
      "state": {
       "description": "cocaine",
       "disabled": false,
       "layout": "IPY_MODEL_9b74de681e3a4102b72fb5274b289e93",
       "style": "IPY_MODEL_a3c7371369ad425e8b3d23e5c9bb5051",
       "value": false
      }
     },
     "73008ceffa5d41fd958606067c59b1a5": {
      "model_module": "@jupyter-widgets/base",
      "model_module_version": "1.2.0",
      "model_name": "LayoutModel",
      "state": {}
     },
     "731500784d3849599b3e9e5c0834a857": {
      "model_module": "@jupyter-widgets/controls",
      "model_module_version": "1.5.0",
      "model_name": "DescriptionStyleModel",
      "state": {
       "description_width": "150px"
      }
     },
     "735a637e2a3343b8a23c976ae14a3a11": {
      "model_module": "@jupyter-widgets/base",
      "model_module_version": "1.2.0",
      "model_name": "LayoutModel",
      "state": {}
     },
     "736ce7d2a2234c3593f8d8ab464ba8e2": {
      "model_module": "@jupyter-widgets/controls",
      "model_module_version": "1.5.0",
      "model_name": "TextareaModel",
      "state": {
       "description": "Notes:",
       "layout": "IPY_MODEL_f73644679a6d40a9bfc734ad320b258a",
       "style": "IPY_MODEL_2f51eb7b56be4f63be4239879b25687d"
      }
     },
     "7371be0225984a6ea9b394bb09098784": {
      "model_module": "@jupyter-widgets/controls",
      "model_module_version": "1.5.0",
      "model_name": "DescriptionStyleModel",
      "state": {
       "description_width": ""
      }
     },
     "73aad7f698324daab28545dc47969709": {
      "model_module": "@jupyter-widgets/controls",
      "model_module_version": "1.5.0",
      "model_name": "HBoxModel",
      "state": {
       "children": [
        "IPY_MODEL_fbf3ddfcb6d643a4974a9d0279bd3fae",
        "IPY_MODEL_95cc4d5bfa044de085d81a02b184c825"
       ],
       "layout": "IPY_MODEL_7763db44bf8e4f46920f444e149416f7"
      }
     },
     "73cc772bb62d465e8554ece6e07645ee": {
      "model_module": "@jupyter-widgets/controls",
      "model_module_version": "1.5.0",
      "model_name": "DropdownModel",
      "state": {
       "_options_labels": [
        "denies",
        "endorses"
       ],
       "description": "hep_medical",
       "index": 0,
       "layout": "IPY_MODEL_64f3493d9e7e4cd79d693795fcd61555",
       "style": "IPY_MODEL_ae321ea0341f4082a4310e43c927cf00"
      }
     },
     "73e1c4c6fb9e491895226c7bd4fd23f8": {
      "model_module": "@jupyter-widgets/controls",
      "model_module_version": "1.5.0",
      "model_name": "VBoxModel",
      "state": {
       "_dom_classes": [
        "widget-interact"
       ],
       "children": [
        "IPY_MODEL_95f71ef2312446229cf1094556145879",
        "IPY_MODEL_085186f27ccf4942956f88a4b4bf49fc"
       ],
       "layout": "IPY_MODEL_42fe9ced174d4108912bff1caf39cb0d"
      }
     },
     "741705ec3d194783963b49bff92bc9c4": {
      "model_module": "@jupyter-widgets/controls",
      "model_module_version": "1.5.0",
      "model_name": "CheckboxModel",
      "state": {
       "description": "alcohol",
       "disabled": false,
       "layout": "IPY_MODEL_dbb0fd7bff8e448eab76eba87139ac18",
       "style": "IPY_MODEL_d9ed4ca8bc8047e9b3296eb77d672f75",
       "value": true
      }
     },
     "7423e29d708d4c30af862f0a6d3c0f36": {
      "model_module": "@jupyter-widgets/base",
      "model_module_version": "1.2.0",
      "model_name": "LayoutModel",
      "state": {}
     },
     "746fd2de36b94471908539f9a0cfb602": {
      "model_module": "@jupyter-widgets/controls",
      "model_module_version": "1.5.0",
      "model_name": "DropdownModel",
      "state": {
       "_options_labels": [
        "good",
        "fair",
        "poor"
       ],
       "description": "concentration",
       "index": 1,
       "layout": "IPY_MODEL_ecfa8b2075df48d78b3e743fdae50eff",
       "style": "IPY_MODEL_815a3f76cb44412aab395a7901fe5c51"
      }
     },
     "7481a7c58a39491f82f546ec8241b9e0": {
      "model_module": "@jupyter-widgets/controls",
      "model_module_version": "1.5.0",
      "model_name": "DescriptionStyleModel",
      "state": {
       "description_width": "150px"
      }
     },
     "749e4bdc10bb45deab03abf1d88fd9fd": {
      "model_module": "@jupyter-widgets/controls",
      "model_module_version": "1.5.0",
      "model_name": "DescriptionStyleModel",
      "state": {
       "description_width": "150px"
      }
     },
     "74c9017b0ede4971bafcc28b97864f1e": {
      "model_module": "@jupyter-widgets/controls",
      "model_module_version": "1.5.0",
      "model_name": "HBoxModel",
      "state": {
       "children": [
        "IPY_MODEL_c6efec7a57dc4505a8c2497eabc1a238",
        "IPY_MODEL_d825bb58819941189bdfcc5a8617323a"
       ],
       "layout": "IPY_MODEL_cfd36bc7d0b84f26b2a36acd4eda81f3"
      }
     },
     "74e74b5a98a74d29a5b132a1c6f2a487": {
      "model_module": "@jupyter-widgets/controls",
      "model_module_version": "1.5.0",
      "model_name": "DescriptionStyleModel",
      "state": {
       "description_width": ""
      }
     },
     "74f41cd73c5a47a2a8269050a0d4f900": {
      "model_module": "@jupyter-widgets/base",
      "model_module_version": "1.2.0",
      "model_name": "LayoutModel",
      "state": {}
     },
     "750e7e1c21754ab6aed014e43ca7658a": {
      "model_module": "@jupyter-widgets/controls",
      "model_module_version": "1.5.0",
      "model_name": "DescriptionStyleModel",
      "state": {
       "description_width": "150px"
      }
     },
     "7517afcb367a4c4b88aed5dd7c5ef4c2": {
      "model_module": "@jupyter-widgets/controls",
      "model_module_version": "1.5.0",
      "model_name": "DescriptionStyleModel",
      "state": {
       "description_width": ""
      }
     },
     "75aec3b123804bb1a91072d61d907e9d": {
      "model_module": "@jupyter-widgets/controls",
      "model_module_version": "1.5.0",
      "model_name": "DescriptionStyleModel",
      "state": {
       "description_width": ""
      }
     },
     "75f912eaeda5420cb16fb3f0d8d83fcd": {
      "model_module": "@jupyter-widgets/controls",
      "model_module_version": "1.5.0",
      "model_name": "DescriptionStyleModel",
      "state": {
       "description_width": ""
      }
     },
     "7617cc5a873f496f9f785d4632e9d879": {
      "model_module": "@jupyter-widgets/controls",
      "model_module_version": "1.5.0",
      "model_name": "TextareaModel",
      "state": {
       "description": "Other:",
       "layout": "IPY_MODEL_64f3493d9e7e4cd79d693795fcd61555",
       "style": "IPY_MODEL_0555884888954a249d4cd5f52ab07fb7"
      }
     },
     "762a4b6649304dd0a8510c5c61d49123": {
      "model_module": "@jupyter-widgets/controls",
      "model_module_version": "1.5.0",
      "model_name": "CheckboxModel",
      "state": {
       "description": "anxiety",
       "disabled": false,
       "layout": "IPY_MODEL_d9771804c58249dcac0db4a1c5428f80",
       "style": "IPY_MODEL_29b0bd60dd834a9896cb162ac6f17855",
       "value": false
      }
     },
     "763b9641e7b4452aa5fa294297bd395d": {
      "model_module": "@jupyter-widgets/controls",
      "model_module_version": "1.5.0",
      "model_name": "DescriptionStyleModel",
      "state": {
       "description_width": ""
      }
     },
     "7640d971c588438a85dbe2f437770f2f": {
      "model_module": "@jupyter-widgets/controls",
      "model_module_version": "1.5.0",
      "model_name": "DropdownModel",
      "state": {
       "_options_labels": [
        "denies",
        "endorses"
       ],
       "description": "ivdu",
       "index": 1,
       "layout": "IPY_MODEL_57dff8c6f77e4aad88e092f42ad13209",
       "style": "IPY_MODEL_e8cc04dacffb4ca88dfbc2e0c1a89840"
      }
     },
     "764e5ec638c7435796ee261d7016a278": {
      "model_module": "@jupyter-widgets/controls",
      "model_module_version": "1.5.0",
      "model_name": "BoundedIntTextModel",
      "state": {
       "description": "Sober Time:",
       "layout": "IPY_MODEL_5259318fb468446090efdf421640f15f",
       "max": 200,
       "style": "IPY_MODEL_6d0811a0a1d64859a3a389d05c0629ba",
       "value": 4
      }
     },
     "769529e6cebd4180978e15c95a43ce11": {
      "model_module": "@jupyter-widgets/controls",
      "model_module_version": "1.5.0",
      "model_name": "DescriptionStyleModel",
      "state": {
       "description_width": ""
      }
     },
     "769c8183a990454ebd52404948b54df7": {
      "model_module": "@jupyter-widgets/controls",
      "model_module_version": "1.5.0",
      "model_name": "HBoxModel",
      "state": {
       "children": [
        "IPY_MODEL_12d9254f2681411dae55968fd976faf5",
        "IPY_MODEL_276cbf7cd23a4016adc36786c55795af"
       ],
       "layout": "IPY_MODEL_7981a652a2e7495a9b076df2d38affc4"
      }
     },
     "76d7c9a7bc624005811baf92a7d761d7": {
      "model_module": "@jupyter-widgets/base",
      "model_module_version": "1.2.0",
      "model_name": "LayoutModel",
      "state": {}
     },
     "76e0430961754bfba58b50475f8782c5": {
      "model_module": "@jupyter-widgets/controls",
      "model_module_version": "1.5.0",
      "model_name": "DescriptionStyleModel",
      "state": {
       "description_width": ""
      }
     },
     "770c1edb046d4156adbdcf78e9c3aea3": {
      "model_module": "@jupyter-widgets/controls",
      "model_module_version": "1.5.0",
      "model_name": "DropdownModel",
      "state": {
       "_options_labels": [
        "denies",
        "endorses"
       ],
       "description": "current_trauma",
       "index": 0,
       "layout": "IPY_MODEL_5259318fb468446090efdf421640f15f",
       "style": "IPY_MODEL_1d131064a4c64f95ad0d8553c48000a8"
      }
     },
     "77307d3ef9c549d3993adb59e53952c1": {
      "model_module": "@jupyter-widgets/base",
      "model_module_version": "1.2.0",
      "model_name": "LayoutModel",
      "state": {}
     },
     "7763db44bf8e4f46920f444e149416f7": {
      "model_module": "@jupyter-widgets/base",
      "model_module_version": "1.2.0",
      "model_name": "LayoutModel",
      "state": {}
     },
     "777c2ba80d474831b5bf41cf0b59179b": {
      "model_module": "@jupyter-widgets/base",
      "model_module_version": "1.2.0",
      "model_name": "LayoutModel",
      "state": {}
     },
     "777d85307fd744b29ed2aa325a3718e9": {
      "model_module": "@jupyter-widgets/base",
      "model_module_version": "1.2.0",
      "model_name": "LayoutModel",
      "state": {}
     },
     "777ff2f526514166af27f9214464cdc6": {
      "model_module": "@jupyter-widgets/controls",
      "model_module_version": "1.5.0",
      "model_name": "VBoxModel",
      "state": {
       "_dom_classes": [
        "widget-interact"
       ],
       "children": [
        "IPY_MODEL_9719132237d84ac4958e9bfed53cc04e",
        "IPY_MODEL_d9daa0b07813403a8a522fe952311295"
       ],
       "layout": "IPY_MODEL_e0912353dd934a41aea8b58ed625fc39"
      }
     },
     "77ab0142f46b414aad110f1a4395ef2a": {
      "model_module": "@jupyter-widgets/controls",
      "model_module_version": "1.5.0",
      "model_name": "CheckboxModel",
      "state": {
       "description": "ADHD",
       "disabled": false,
       "layout": "IPY_MODEL_aa643b6bf18744cbabf8d82412b08f5e",
       "style": "IPY_MODEL_dbbe2fdea6e34980a4073f326d213b15",
       "value": false
      }
     },
     "77eeb655c5c14c42b027b185dd6588e5": {
      "model_module": "@jupyter-widgets/base",
      "model_module_version": "1.2.0",
      "model_name": "LayoutModel",
      "state": {}
     },
     "7803494ab7604f80b9b006909eb2cc85": {
      "model_module": "@jupyter-widgets/base",
      "model_module_version": "1.2.0",
      "model_name": "LayoutModel",
      "state": {}
     },
     "78315c4d027d422aafa1304666bafde0": {
      "model_module": "@jupyter-widgets/controls",
      "model_module_version": "1.5.0",
      "model_name": "VBoxModel",
      "state": {
       "_dom_classes": [
        "widget-interact"
       ],
       "children": [
        "IPY_MODEL_97cee99f5ddf40c8b69bccdbc49e6c9e",
        "IPY_MODEL_32ba5e80360047fbb6264e42d65132ec"
       ],
       "layout": "IPY_MODEL_5f6a2a51947a469ab405e93503f9f355"
      }
     },
     "7850492cd4c54785a6eb1d07e89c693a": {
      "model_module": "@jupyter-widgets/base",
      "model_module_version": "1.2.0",
      "model_name": "LayoutModel",
      "state": {}
     },
     "787d428fadc74450a18b78f6793022ca": {
      "model_module": "@jupyter-widgets/controls",
      "model_module_version": "1.5.0",
      "model_name": "CheckboxModel",
      "state": {
       "description": "alcohol",
       "disabled": false,
       "layout": "IPY_MODEL_859db574d9ff43408704e9f0e8189577",
       "style": "IPY_MODEL_7db213d435264b0ea390ecad61c92638",
       "value": false
      }
     },
     "78f6f80166b74162bc85f7b2e3200fc0": {
      "model_module": "@jupyter-widgets/controls",
      "model_module_version": "1.5.0",
      "model_name": "CheckboxModel",
      "state": {
       "description": "ketamine",
       "disabled": false,
       "layout": "IPY_MODEL_7dc6deba3b64479da10246907e005b8a",
       "style": "IPY_MODEL_8057f6f8d71844d9ae9668b5e966dae7",
       "value": false
      }
     },
     "78f75edf943b44d49ada364fb063a0cd": {
      "model_module": "@jupyter-widgets/controls",
      "model_module_version": "1.5.0",
      "model_name": "DropdownModel",
      "state": {
       "_options_labels": [
        "denies",
        "endorses"
       ],
       "description": "guilt",
       "index": 0,
       "layout": "IPY_MODEL_fa9ec4f225bc40b29e03b63fcbcbd3db",
       "style": "IPY_MODEL_b1f5b4b67ff74d30a3b8e6836841b957"
      }
     },
     "78f85ac80ee940438ce3d79b37a3bb70": {
      "model_module": "@jupyter-widgets/controls",
      "model_module_version": "1.5.0",
      "model_name": "CheckboxModel",
      "state": {
       "description": "methamphetamine",
       "disabled": false,
       "layout": "IPY_MODEL_820da7897d2344c6889c2762fcdd776b",
       "style": "IPY_MODEL_4bd7fc3c3e064e0db533ec69f63f1045",
       "value": false
      }
     },
     "79079ab744464fd4819fcda4794452dd": {
      "model_module": "@jupyter-widgets/base",
      "model_module_version": "1.2.0",
      "model_name": "LayoutModel",
      "state": {}
     },
     "791dec36866041c68ee88bc86138462b": {
      "model_module": "@jupyter-widgets/base",
      "model_module_version": "1.2.0",
      "model_name": "LayoutModel",
      "state": {}
     },
     "7981a652a2e7495a9b076df2d38affc4": {
      "model_module": "@jupyter-widgets/base",
      "model_module_version": "1.2.0",
      "model_name": "LayoutModel",
      "state": {}
     },
     "799ada80a08645ce9375f91de03b3839": {
      "model_module": "@jupyter-widgets/controls",
      "model_module_version": "1.5.0",
      "model_name": "TextModel",
      "state": {
       "description": "notes",
       "layout": "IPY_MODEL_57dff8c6f77e4aad88e092f42ad13209",
       "style": "IPY_MODEL_fb56ad341834495cb28d511d74bc29ae"
      }
     },
     "79ad22b2aad1454395610819d656480a": {
      "model_module": "@jupyter-widgets/base",
      "model_module_version": "1.2.0",
      "model_name": "LayoutModel",
      "state": {}
     },
     "79ca13c635ef405194d53d09d8677e45": {
      "model_module": "@jupyter-widgets/controls",
      "model_module_version": "1.5.0",
      "model_name": "TextareaModel",
      "state": {
       "description": "notes",
       "layout": "IPY_MODEL_57dff8c6f77e4aad88e092f42ad13209",
       "style": "IPY_MODEL_5cdc35d060f0478cb1812fd167fa5bfa",
       "value": "“I’ve been consistent” “It’s taken me 3 years to find a stable regimen”"
      }
     },
     "7a1ac73714664765ab463507527f8177": {
      "model_module": "@jupyter-widgets/controls",
      "model_module_version": "1.5.0",
      "model_name": "TextareaModel",
      "state": {
       "description": "notes",
       "layout": "IPY_MODEL_fa9ec4f225bc40b29e03b63fcbcbd3db",
       "style": "IPY_MODEL_b63d33e755e94b7da8aa4cd40bf144a0"
      }
     },
     "7a3734345d1a46f8997b187dc0b519de": {
      "model_module": "@jupyter-widgets/controls",
      "model_module_version": "1.5.0",
      "model_name": "DescriptionStyleModel",
      "state": {
       "description_width": "150px"
      }
     },
     "7a4005c0c5a642fc9c0ca89defae0aee": {
      "model_module": "@jupyter-widgets/controls",
      "model_module_version": "1.5.0",
      "model_name": "DescriptionStyleModel",
      "state": {
       "description_width": "150px"
      }
     },
     "7a485d9c7c3146468dee5ab129e9998b": {
      "model_module": "@jupyter-widgets/base",
      "model_module_version": "1.2.0",
      "model_name": "LayoutModel",
      "state": {}
     },
     "7a5195a56a144284914e18ce58675fd0": {
      "model_module": "@jupyter-widgets/controls",
      "model_module_version": "1.5.0",
      "model_name": "DescriptionStyleModel",
      "state": {
       "description_width": "150px"
      }
     },
     "7a598210544443b6b1cfd48f7f8d5d55": {
      "model_module": "@jupyter-widgets/controls",
      "model_module_version": "1.5.0",
      "model_name": "DescriptionStyleModel",
      "state": {
       "description_width": ""
      }
     },
     "7a6485430aef4a10a823b020a55921d2": {
      "model_module": "@jupyter-widgets/controls",
      "model_module_version": "1.5.0",
      "model_name": "DescriptionStyleModel",
      "state": {
       "description_width": "150px"
      }
     },
     "7a7cd7ffde8e4d38b8ea6251a78cca23": {
      "model_module": "@jupyter-widgets/controls",
      "model_module_version": "1.5.0",
      "model_name": "TextareaModel",
      "state": {
       "description": "med plan:",
       "layout": "IPY_MODEL_e97076a4782c41309eb32929095da95d",
       "placeholder": "Type something",
       "style": "IPY_MODEL_2496f288ab6b42de97b15791a8cd1c68",
       "value": "4. Continue medication."
      }
     },
     "7aad66b125684688ac5d2799cb9093df": {
      "model_module": "@jupyter-widgets/base",
      "model_module_version": "1.2.0",
      "model_name": "LayoutModel",
      "state": {}
     },
     "7b216fff6a324459bcc2f7225faca3a8": {
      "model_module": "@jupyter-widgets/controls",
      "model_module_version": "1.5.0",
      "model_name": "DescriptionStyleModel",
      "state": {
       "description_width": ""
      }
     },
     "7b6cbeac39a348d8bd76f445cddf8088": {
      "model_module": "@jupyter-widgets/base",
      "model_module_version": "1.2.0",
      "model_name": "LayoutModel",
      "state": {}
     },
     "7b7117c8cb544ff4a60fd4201af0e448": {
      "model_module": "@jupyter-widgets/base",
      "model_module_version": "1.2.0",
      "model_name": "LayoutModel",
      "state": {}
     },
     "7b95cad1c13b4dc2a6f4766542f5fa37": {
      "model_module": "@jupyter-widgets/controls",
      "model_module_version": "1.5.0",
      "model_name": "DescriptionStyleModel",
      "state": {
       "description_width": "150px"
      }
     },
     "7c24a40d904b480e91e1c047076ee21f": {
      "model_module": "@jupyter-widgets/base",
      "model_module_version": "1.2.0",
      "model_name": "LayoutModel",
      "state": {}
     },
     "7c25af1d5d164fcaabe7c4ac377d0b4e": {
      "model_module": "@jupyter-widgets/base",
      "model_module_version": "1.2.0",
      "model_name": "LayoutModel",
      "state": {}
     },
     "7c414122d3bc45cd8486f95396a41b9d": {
      "model_module": "@jupyter-widgets/base",
      "model_module_version": "1.2.0",
      "model_name": "LayoutModel",
      "state": {}
     },
     "7c586e327bb548f684dc249a2bb9abb4": {
      "model_module": "@jupyter-widgets/base",
      "model_module_version": "1.2.0",
      "model_name": "LayoutModel",
      "state": {}
     },
     "7c76a988c2354c309226465e198ac8ca": {
      "model_module": "@jupyter-widgets/base",
      "model_module_version": "1.2.0",
      "model_name": "LayoutModel",
      "state": {}
     },
     "7c89befafa4244bcb18739834d7243f3": {
      "model_module": "@jupyter-widgets/controls",
      "model_module_version": "1.5.0",
      "model_name": "VBoxModel",
      "state": {
       "children": [
        "IPY_MODEL_1d94fbff4b10461ab93eacd578d484cd",
        "IPY_MODEL_f1f293db60f54188b285641ee217c320"
       ],
       "layout": "IPY_MODEL_88f9596ca58e4e09892aa6dac8e8f51e"
      }
     },
     "7c95b43b563d45e4a73dec88e7e18e52": {
      "model_module": "@jupyter-widgets/controls",
      "model_module_version": "1.5.0",
      "model_name": "DescriptionStyleModel",
      "state": {
       "description_width": "150px"
      }
     },
     "7c9c2d9726be4a62b557262e1e1565e1": {
      "model_module": "@jupyter-widgets/controls",
      "model_module_version": "1.5.0",
      "model_name": "DropdownModel",
      "state": {
       "_options_labels": [
        "denies",
        "endorses"
       ],
       "description": "hopelessness",
       "index": 0,
       "layout": "IPY_MODEL_f3ab830ad14c40bcb60503d19e5f9870",
       "style": "IPY_MODEL_5e297c7b1f47446ebc73c72ac4316694"
      }
     },
     "7d088468530c4da5b2bcf9b0ed4c5906": {
      "model_module": "@jupyter-widgets/controls",
      "model_module_version": "1.5.0",
      "model_name": "DescriptionStyleModel",
      "state": {
       "description_width": ""
      }
     },
     "7d4f6c7eb9da45628f2ec5256c3a442b": {
      "model_module": "@jupyter-widgets/controls",
      "model_module_version": "1.5.0",
      "model_name": "HBoxModel",
      "state": {
       "children": [
        "IPY_MODEL_2e409530251345349a1cd19e7b0bd118"
       ],
       "layout": "IPY_MODEL_49077e65a23e4a039e297dc5d6812771"
      }
     },
     "7d53a228af744ff29890ab3109606216": {
      "model_module": "@jupyter-widgets/controls",
      "model_module_version": "1.5.0",
      "model_name": "DescriptionStyleModel",
      "state": {
       "description_width": ""
      }
     },
     "7d7043c318f447c2b833ac33fc4cacf1": {
      "model_module": "@jupyter-widgets/base",
      "model_module_version": "1.2.0",
      "model_name": "LayoutModel",
      "state": {}
     },
     "7d708cbc56834d17b06187a861719208": {
      "model_module": "@jupyter-widgets/base",
      "model_module_version": "1.2.0",
      "model_name": "LayoutModel",
      "state": {}
     },
     "7d758972aeb14633b2d04f5e7d8ce715": {
      "model_module": "@jupyter-widgets/output",
      "model_module_version": "1.0.0",
      "model_name": "OutputModel",
      "state": {
       "layout": "IPY_MODEL_21b348c3cc2e44b6a05d4bdd6204a8db",
       "outputs": [
        {
         "name": "stdout",
         "output_type": "stream",
         "text": "\nCurrent Medication:\n\n \nPatient declines adjustments to their medication regimen.\n\n\n\n"
        }
       ]
      }
     },
     "7d9f77ab1d81442aaac5ced9c72a8d4c": {
      "model_module": "@jupyter-widgets/base",
      "model_module_version": "1.2.0",
      "model_name": "LayoutModel",
      "state": {}
     },
     "7db1cbcc969f4d38a873dab232bd8447": {
      "model_module": "@jupyter-widgets/controls",
      "model_module_version": "1.5.0",
      "model_name": "DescriptionStyleModel",
      "state": {
       "description_width": "150px"
      }
     },
     "7db213d435264b0ea390ecad61c92638": {
      "model_module": "@jupyter-widgets/controls",
      "model_module_version": "1.5.0",
      "model_name": "DescriptionStyleModel",
      "state": {
       "description_width": ""
      }
     },
     "7dc6deba3b64479da10246907e005b8a": {
      "model_module": "@jupyter-widgets/base",
      "model_module_version": "1.2.0",
      "model_name": "LayoutModel",
      "state": {}
     },
     "7dd25f364f49485ab010b1dce32cf928": {
      "model_module": "@jupyter-widgets/controls",
      "model_module_version": "1.5.0",
      "model_name": "DescriptionStyleModel",
      "state": {
       "description_width": "150px"
      }
     },
     "7de87e1859ec4cb9973ea7537ec9a9b1": {
      "model_module": "@jupyter-widgets/controls",
      "model_module_version": "1.5.0",
      "model_name": "DescriptionStyleModel",
      "state": {
       "description_width": ""
      }
     },
     "7e0b7c2e45124338931df6fb80ff746a": {
      "model_module": "@jupyter-widgets/base",
      "model_module_version": "1.2.0",
      "model_name": "LayoutModel",
      "state": {}
     },
     "7e10450e7cba4332ad59fae20432663d": {
      "model_module": "@jupyter-widgets/controls",
      "model_module_version": "1.5.0",
      "model_name": "CheckboxModel",
      "state": {
       "description": "Amphetamine-type substance use disorder Severe",
       "disabled": false,
       "layout": "IPY_MODEL_2a91f30546b34e7aa72f6e18197f2a0a",
       "style": "IPY_MODEL_b3785733b9f04c8ca11090b23f525059",
       "value": false
      }
     },
     "7e3cbaa923ca40a685e4f46dfe07e583": {
      "model_module": "@jupyter-widgets/base",
      "model_module_version": "1.2.0",
      "model_name": "LayoutModel",
      "state": {}
     },
     "7e9fd04e9db448b5b5c73c41c191fb5c": {
      "model_module": "@jupyter-widgets/base",
      "model_module_version": "1.2.0",
      "model_name": "LayoutModel",
      "state": {}
     },
     "7ea6ce84ba4a46889501ad26f9573ebc": {
      "model_module": "@jupyter-widgets/controls",
      "model_module_version": "1.5.0",
      "model_name": "DescriptionStyleModel",
      "state": {
       "description_width": ""
      }
     },
     "7eb0d76df45e477cb3398aa731aa8d58": {
      "model_module": "@jupyter-widgets/base",
      "model_module_version": "1.2.0",
      "model_name": "LayoutModel",
      "state": {
       "width": "25%"
      }
     },
     "7eb5de9426bc45c8b44194f9b02403ce": {
      "model_module": "@jupyter-widgets/controls",
      "model_module_version": "1.5.0",
      "model_name": "CheckboxModel",
      "state": {
       "description": "adhd",
       "disabled": false,
       "layout": "IPY_MODEL_dac2e58d3e764f5aa522d16b47c90717",
       "style": "IPY_MODEL_9b6effd75bd64e179d11eed2a75512ba",
       "value": false
      }
     },
     "7ed8ba99b1a2424aa09782b3c56e38fc": {
      "model_module": "@jupyter-widgets/controls",
      "model_module_version": "1.5.0",
      "model_name": "CheckboxModel",
      "state": {
       "description": "methamphetamine",
       "disabled": false,
       "layout": "IPY_MODEL_bfe26114802542a3a8d6cc8318d1c9c5",
       "style": "IPY_MODEL_816ddcca4b6c49348df4ff42c35c68c6",
       "value": true
      }
     },
     "7ee919b9c14045d0a1840df00a7ad041": {
      "model_module": "@jupyter-widgets/controls",
      "model_module_version": "1.5.0",
      "model_name": "DescriptionStyleModel",
      "state": {
       "description_width": ""
      }
     },
     "7ef0c2c1746545fe9ea5aab0c14bf01d": {
      "model_module": "@jupyter-widgets/base",
      "model_module_version": "1.2.0",
      "model_name": "LayoutModel",
      "state": {}
     },
     "7f04391606bc4adc905f134fa8a0e894": {
      "model_module": "@jupyter-widgets/controls",
      "model_module_version": "1.5.0",
      "model_name": "DescriptionStyleModel",
      "state": {
       "description_width": "150px"
      }
     },
     "7f0b63d3c8e24410975352061007447f": {
      "model_module": "@jupyter-widgets/controls",
      "model_module_version": "1.5.0",
      "model_name": "DescriptionStyleModel",
      "state": {
       "description_width": ""
      }
     },
     "7f2d31e6067549979969bbf9725b732b": {
      "model_module": "@jupyter-widgets/controls",
      "model_module_version": "1.5.0",
      "model_name": "DropdownModel",
      "state": {
       "_options_labels": [
        "denies",
        "endorses"
       ],
       "description": "anxiety",
       "index": 0,
       "layout": "IPY_MODEL_5259318fb468446090efdf421640f15f",
       "style": "IPY_MODEL_d314eba098334ed1986597746f2976c3"
      }
     },
     "7f6870c48355493e82992fde2236c909": {
      "model_module": "@jupyter-widgets/base",
      "model_module_version": "1.2.0",
      "model_name": "LayoutModel",
      "state": {}
     },
     "7f7e336980c04930810b8334bee2a20b": {
      "model_module": "@jupyter-widgets/controls",
      "model_module_version": "1.5.0",
      "model_name": "TextareaModel",
      "state": {
       "description": "notes",
       "layout": "IPY_MODEL_ecfa8b2075df48d78b3e743fdae50eff",
       "style": "IPY_MODEL_2a84e31fe87342848de8a7a684322090",
       "value": "went to hospital"
      }
     },
     "7fadd9b9270c4764bde35dc3b0587544": {
      "model_module": "@jupyter-widgets/controls",
      "model_module_version": "1.5.0",
      "model_name": "DescriptionStyleModel",
      "state": {
       "description_width": ""
      }
     },
     "7fb748c493044f0ab3ddc05da8d876c4": {
      "model_module": "@jupyter-widgets/controls",
      "model_module_version": "1.5.0",
      "model_name": "CheckboxModel",
      "state": {
       "description": "Unspecified Bipolar Disorder",
       "disabled": false,
       "layout": "IPY_MODEL_812d987960e64fac90f9d56a24179ad2",
       "style": "IPY_MODEL_a0fb76212dbb4f91af9a0c099a7e7846",
       "value": false
      }
     },
     "7fd951b356d847bfb2e7c58f697ea7b8": {
      "model_module": "@jupyter-widgets/controls",
      "model_module_version": "1.5.0",
      "model_name": "CheckboxModel",
      "state": {
       "description": "Sedative, hypnotic and/or anxiolytic Use Disorder Severe",
       "disabled": false,
       "layout": "IPY_MODEL_7b7117c8cb544ff4a60fd4201af0e448",
       "style": "IPY_MODEL_ef7ef17010a74424ad7b80c919d20c3b",
       "value": false
      }
     },
     "7fe10bfd86ac43c39a70bcbf45fd136a": {
      "model_module": "@jupyter-widgets/controls",
      "model_module_version": "1.5.0",
      "model_name": "DescriptionStyleModel",
      "state": {
       "description_width": "150px"
      }
     },
     "80263663219d447aa92001eeb302569f": {
      "model_module": "@jupyter-widgets/base",
      "model_module_version": "1.2.0",
      "model_name": "LayoutModel",
      "state": {}
     },
     "8057f6f8d71844d9ae9668b5e966dae7": {
      "model_module": "@jupyter-widgets/controls",
      "model_module_version": "1.5.0",
      "model_name": "DescriptionStyleModel",
      "state": {
       "description_width": ""
      }
     },
     "8062c10e95cc41d1bd17c2bfb44dc762": {
      "model_module": "@jupyter-widgets/controls",
      "model_module_version": "1.5.0",
      "model_name": "DescriptionStyleModel",
      "state": {
       "description_width": "150px"
      }
     },
     "8089360b700746d3b420f0536150bd0a": {
      "model_module": "@jupyter-widgets/controls",
      "model_module_version": "1.5.0",
      "model_name": "VBoxModel",
      "state": {
       "children": [
        "IPY_MODEL_1031d422789442bda489377a1349ca37",
        "IPY_MODEL_22e5857c7f174c4bb09f8bf906e32ae6",
        "IPY_MODEL_a40241f2ab804c45b72d5416ab423660",
        "IPY_MODEL_f65f4bdc638c4b3bb6c0768718dbb22d"
       ],
       "layout": "IPY_MODEL_b9386e84648144e99fabf13d4f26c738"
      }
     },
     "80964be4bcfe4fc28b10301df410c09a": {
      "model_module": "@jupyter-widgets/controls",
      "model_module_version": "1.5.0",
      "model_name": "DescriptionStyleModel",
      "state": {
       "description_width": "150px"
      }
     },
     "8098d9c0c6114bf2b455e88cc94c7948": {
      "model_module": "@jupyter-widgets/controls",
      "model_module_version": "1.5.0",
      "model_name": "DropdownModel",
      "state": {
       "_options_labels": [
        "denies",
        "endorses"
       ],
       "description": "cravings_choice",
       "index": 0,
       "layout": "IPY_MODEL_5259318fb468446090efdf421640f15f",
       "style": "IPY_MODEL_956ee1a0dabe4d6f99c79548b276d360"
      }
     },
     "80a437aac7d44e319ab705082f9f63a3": {
      "model_module": "@jupyter-widgets/controls",
      "model_module_version": "1.5.0",
      "model_name": "DescriptionStyleModel",
      "state": {
       "description_width": "150px"
      }
     },
     "80b5d34441e24361984aca7f4d6ee888": {
      "model_module": "@jupyter-widgets/controls",
      "model_module_version": "1.5.0",
      "model_name": "CheckboxModel",
      "state": {
       "description": "Cocaine use disorder Severe",
       "disabled": false,
       "layout": "IPY_MODEL_7c586e327bb548f684dc249a2bb9abb4",
       "style": "IPY_MODEL_8d24844e0a924ed2a9be28c678d4edd3",
       "value": true
      }
     },
     "80bd8fe3dee2424daaa3c2a41b18028c": {
      "model_module": "@jupyter-widgets/base",
      "model_module_version": "1.2.0",
      "model_name": "LayoutModel",
      "state": {}
     },
     "80ebcfcf53ba4ceca73cf488c901ac60": {
      "model_module": "@jupyter-widgets/controls",
      "model_module_version": "1.5.0",
      "model_name": "TextareaModel",
      "state": {
       "description": "notes",
       "layout": "IPY_MODEL_fa9ec4f225bc40b29e03b63fcbcbd3db",
       "style": "IPY_MODEL_17535034587d445a99a94ffd4fbb80a5",
       "value": "Hx of depression in 2019. Reports hx of adhd in youth."
      }
     },
     "8122ba6ee37f4037ba307aeeac5af9f1": {
      "model_module": "@jupyter-widgets/controls",
      "model_module_version": "1.5.0",
      "model_name": "DescriptionStyleModel",
      "state": {
       "description_width": ""
      }
     },
     "8126282adb7a420b963ff02be88000f5": {
      "model_module": "@jupyter-widgets/base",
      "model_module_version": "1.2.0",
      "model_name": "LayoutModel",
      "state": {}
     },
     "812d987960e64fac90f9d56a24179ad2": {
      "model_module": "@jupyter-widgets/base",
      "model_module_version": "1.2.0",
      "model_name": "LayoutModel",
      "state": {}
     },
     "813eeac0caa648139c2f796151954d9a": {
      "model_module": "@jupyter-widgets/controls",
      "model_module_version": "1.5.0",
      "model_name": "DescriptionStyleModel",
      "state": {
       "description_width": ""
      }
     },
     "815048fbc58a4b6a8986619ec30c1969": {
      "model_module": "@jupyter-widgets/controls",
      "model_module_version": "1.5.0",
      "model_name": "DescriptionStyleModel",
      "state": {
       "description_width": "150px"
      }
     },
     "815a3f76cb44412aab395a7901fe5c51": {
      "model_module": "@jupyter-widgets/controls",
      "model_module_version": "1.5.0",
      "model_name": "DescriptionStyleModel",
      "state": {
       "description_width": "150px"
      }
     },
     "816ddcca4b6c49348df4ff42c35c68c6": {
      "model_module": "@jupyter-widgets/controls",
      "model_module_version": "1.5.0",
      "model_name": "DescriptionStyleModel",
      "state": {
       "description_width": ""
      }
     },
     "8173e92b46fa440bae9db7fd1c54483e": {
      "model_module": "@jupyter-widgets/base",
      "model_module_version": "1.2.0",
      "model_name": "LayoutModel",
      "state": {}
     },
     "817969365a0f450cbd0e9ccd6397bce6": {
      "model_module": "@jupyter-widgets/controls",
      "model_module_version": "1.5.0",
      "model_name": "DropdownModel",
      "state": {
       "_options_labels": [
        "denies",
        "endorses"
       ],
       "description": "mania",
       "index": 0,
       "layout": "IPY_MODEL_57dff8c6f77e4aad88e092f42ad13209",
       "style": "IPY_MODEL_29a127b40f66471db5d6ccbed482e17d"
      }
     },
     "819546f5df4549bcacebb89c2748d736": {
      "model_module": "@jupyter-widgets/base",
      "model_module_version": "1.2.0",
      "model_name": "LayoutModel",
      "state": {}
     },
     "81b1342d6a424b1c9edce945b64a0a27": {
      "model_module": "@jupyter-widgets/controls",
      "model_module_version": "1.5.0",
      "model_name": "CheckboxModel",
      "state": {
       "description": "sedative, hypnotic, or anxiolytic",
       "disabled": false,
       "layout": "IPY_MODEL_842c0171bfc24773996444b0ff209834",
       "style": "IPY_MODEL_248d53c920054a53a140b4c49dfeeb8b",
       "value": false
      }
     },
     "81e18646bfad4c738e5298bc4612bc1d": {
      "model_module": "@jupyter-widgets/base",
      "model_module_version": "1.2.0",
      "model_name": "LayoutModel",
      "state": {}
     },
     "820d98f4f5764d85a7dfc82651e2a2d6": {
      "model_module": "@jupyter-widgets/controls",
      "model_module_version": "1.5.0",
      "model_name": "VBoxModel",
      "state": {
       "_dom_classes": [
        "widget-interact"
       ],
       "children": [
        "IPY_MODEL_11e29582be6a4021950119bbc2fac652",
        "IPY_MODEL_04d39b79b830418190754f36d05ec7c9",
        "IPY_MODEL_927e8ca5ce1d44cdac62583784b302ee",
        "IPY_MODEL_28b9dd1f596d44f5bb6978fb1ada9c4c"
       ],
       "layout": "IPY_MODEL_d66677f31c284823af293cfa1a37b523"
      }
     },
     "820da7897d2344c6889c2762fcdd776b": {
      "model_module": "@jupyter-widgets/base",
      "model_module_version": "1.2.0",
      "model_name": "LayoutModel",
      "state": {}
     },
     "8240ca3a7c284bd380ed3d37f839f763": {
      "model_module": "@jupyter-widgets/base",
      "model_module_version": "1.2.0",
      "model_name": "LayoutModel",
      "state": {}
     },
     "825c14b637674efca2a02a79180b5c89": {
      "model_module": "@jupyter-widgets/controls",
      "model_module_version": "1.5.0",
      "model_name": "DescriptionStyleModel",
      "state": {
       "description_width": ""
      }
     },
     "825d1d88a7db4a60b12f80bae92aebca": {
      "model_module": "@jupyter-widgets/base",
      "model_module_version": "1.2.0",
      "model_name": "LayoutModel",
      "state": {}
     },
     "8298b83147e843b8b137a8a4871e159b": {
      "model_module": "@jupyter-widgets/controls",
      "model_module_version": "1.5.0",
      "model_name": "VBoxModel",
      "state": {
       "_dom_classes": [
        "widget-interact"
       ],
       "children": [
        "IPY_MODEL_50613d5f42194138b841d8e26f65d22e",
        "IPY_MODEL_34335ed652ae4b54a44815d49afb4b7d",
        "IPY_MODEL_1928508b84274a0fbdb445b3535bd43f",
        "IPY_MODEL_64a8d70b2dd64df6a8c94a6d4b18edbb",
        "IPY_MODEL_ff7b9a1768bd488581dbed13b90ae223",
        "IPY_MODEL_acb12f90bad246c7b256cf3a21ce5b01",
        "IPY_MODEL_4051fbacd74f40e79d652008624f3453"
       ],
       "layout": "IPY_MODEL_ce67e6fbd06b41228ba9937039fe9084"
      }
     },
     "82c0c8a243c04536ac02e78d8dd62242": {
      "model_module": "@jupyter-widgets/controls",
      "model_module_version": "1.5.0",
      "model_name": "DescriptionStyleModel",
      "state": {
       "description_width": "150px"
      }
     },
     "82da74febb234c6aad94adc0d638abf3": {
      "model_module": "@jupyter-widgets/base",
      "model_module_version": "1.2.0",
      "model_name": "LayoutModel",
      "state": {}
     },
     "82eb74f4f016438383e34be37f7ed4bb": {
      "model_module": "@jupyter-widgets/controls",
      "model_module_version": "1.5.0",
      "model_name": "DescriptionStyleModel",
      "state": {
       "description_width": "150px"
      }
     },
     "8320d913bf5b4c1ba88c76211b944d55": {
      "model_module": "@jupyter-widgets/controls",
      "model_module_version": "1.5.0",
      "model_name": "DescriptionStyleModel",
      "state": {
       "description_width": "150px"
      }
     },
     "834196f1031e43efa21f14ba302a402b": {
      "model_module": "@jupyter-widgets/controls",
      "model_module_version": "1.5.0",
      "model_name": "DescriptionStyleModel",
      "state": {
       "description_width": "150px"
      }
     },
     "835e61eba79f477488b2681a9367531b": {
      "model_module": "@jupyter-widgets/controls",
      "model_module_version": "1.5.0",
      "model_name": "VBoxModel",
      "state": {
       "_dom_classes": [
        "widget-interact"
       ],
       "children": [
        "IPY_MODEL_a8e4c1ad400d4a8998a29987121ca11f",
        "IPY_MODEL_c7a2d8c99d034d5099040d3534ccac24",
        "IPY_MODEL_94e60157f15b43598bd6b2c278ddd09c",
        "IPY_MODEL_6f3fa48cd39a49729428a52f37130c8e",
        "IPY_MODEL_7f7e336980c04930810b8334bee2a20b",
        "IPY_MODEL_837e034e55414276975516031048bbe3"
       ],
       "layout": "IPY_MODEL_2f49b2acbfb14b0492578fb67191988e"
      }
     },
     "8364691768404bc8a6bfa4ec6c517aa9": {
      "model_module": "@jupyter-widgets/base",
      "model_module_version": "1.2.0",
      "model_name": "LayoutModel",
      "state": {
       "height": "100px",
       "width": "500px"
      }
     },
     "83663cc7f0ba443e904dfb8d0176d869": {
      "model_module": "@jupyter-widgets/controls",
      "model_module_version": "1.5.0",
      "model_name": "TextareaModel",
      "state": {
       "description": "notes",
       "layout": "IPY_MODEL_f3ab830ad14c40bcb60503d19e5f9870",
       "style": "IPY_MODEL_0506b099d14a4ed781197f84c1774f75",
       "value": "Started using substances in 2017. Reports 2 seizures and DTs in the past june 2021 in jail. "
      }
     },
     "837e034e55414276975516031048bbe3": {
      "model_module": "@jupyter-widgets/output",
      "model_module_version": "1.0.0",
      "model_name": "OutputModel",
      "state": {
       "layout": "IPY_MODEL_475d823c20fd4b4db5d62b9e84904350",
       "outputs": [
        {
         "name": "stdout",
         "output_type": "stream",
         "text": "\nMedical History:\nThe patient denies any acute medical conditions. \nThe patient denies any history of HIV. \nThe patient denies any history of hepatitis.\nThe patient denies any history of TBI.\nwent to hospital\n\n"
        }
       ]
      }
     },
     "83d9fac476ad44cfb3b8e437607b7c1f": {
      "model_module": "@jupyter-widgets/controls",
      "model_module_version": "1.5.0",
      "model_name": "DescriptionStyleModel",
      "state": {
       "description_width": "150px"
      }
     },
     "841064d484b04807a0363c83ae5ce280": {
      "model_module": "@jupyter-widgets/controls",
      "model_module_version": "1.5.0",
      "model_name": "VBoxModel",
      "state": {
       "_dom_classes": [
        "widget-interact"
       ],
       "children": [
        "IPY_MODEL_4823edac57ba4d3a8fcbc660903da716",
        "IPY_MODEL_aa945b507c4342c9873c7483307c0fd8"
       ],
       "layout": "IPY_MODEL_8be75754bfe346b8a40f6d1bed87d4b9"
      }
     },
     "841210d37f6b4412a90e9ac6a6c6b92a": {
      "model_module": "@jupyter-widgets/controls",
      "model_module_version": "1.5.0",
      "model_name": "CheckboxModel",
      "state": {
       "description": "mushrooms",
       "disabled": false,
       "layout": "IPY_MODEL_e7901e6c700c4dba811e0e978d377658",
       "style": "IPY_MODEL_95476025f32741898f50464cf7dd968d",
       "value": false
      }
     },
     "84271eb06877499da188cbda23c16c39": {
      "model_module": "@jupyter-widgets/controls",
      "model_module_version": "1.5.0",
      "model_name": "CheckboxModel",
      "state": {
       "description": "sedative, hypnotic, or anxiolytic",
       "disabled": false,
       "layout": "IPY_MODEL_15bef88b21f8401f830692a01e252ae9",
       "style": "IPY_MODEL_75aec3b123804bb1a91072d61d907e9d",
       "value": false
      }
     },
     "84272efa75714aae96fd5be33911ac71": {
      "model_module": "@jupyter-widgets/controls",
      "model_module_version": "1.5.0",
      "model_name": "CheckboxModel",
      "state": {
       "description": "ketamine",
       "disabled": false,
       "layout": "IPY_MODEL_b4a5ca3a8043426bbe41f91e180e5bfe",
       "style": "IPY_MODEL_c399ed43efe74bd3bc401de788cb27b2",
       "value": false
      }
     },
     "842c0171bfc24773996444b0ff209834": {
      "model_module": "@jupyter-widgets/base",
      "model_module_version": "1.2.0",
      "model_name": "LayoutModel",
      "state": {}
     },
     "8485fa665dba404f9bd7894129d4f994": {
      "model_module": "@jupyter-widgets/base",
      "model_module_version": "1.2.0",
      "model_name": "LayoutModel",
      "state": {}
     },
     "849197f3cf4f4ae6b675bb55179eff45": {
      "model_module": "@jupyter-widgets/base",
      "model_module_version": "1.2.0",
      "model_name": "LayoutModel",
      "state": {}
     },
     "8498143d9dcc4219b06cf30fb6f4d05b": {
      "model_module": "@jupyter-widgets/controls",
      "model_module_version": "1.5.0",
      "model_name": "DescriptionStyleModel",
      "state": {
       "description_width": ""
      }
     },
     "849861231ea44d31af238fe92904708d": {
      "model_module": "@jupyter-widgets/base",
      "model_module_version": "1.2.0",
      "model_name": "LayoutModel",
      "state": {}
     },
     "84a78c371f8748d4ba07cc42a737b440": {
      "model_module": "@jupyter-widgets/controls",
      "model_module_version": "1.5.0",
      "model_name": "DescriptionStyleModel",
      "state": {
       "description_width": ""
      }
     },
     "84cabc7e0ccf4f4381aecd8bb50f3547": {
      "model_module": "@jupyter-widgets/controls",
      "model_module_version": "1.5.0",
      "model_name": "DescriptionStyleModel",
      "state": {
       "description_width": "150px"
      }
     },
     "850a8cce6e5b49d99161bbdde01bf6c2": {
      "model_module": "@jupyter-widgets/controls",
      "model_module_version": "1.5.0",
      "model_name": "TextareaModel",
      "state": {
       "description": "current_medication",
       "layout": "IPY_MODEL_5259318fb468446090efdf421640f15f",
       "placeholder": "Type something",
       "style": "IPY_MODEL_4f01c4bf0ff24a8c9be6f66c7eb04990"
      }
     },
     "850ed69d8aee4a889e82d3868f959bea": {
      "model_module": "@jupyter-widgets/output",
      "model_module_version": "1.0.0",
      "model_name": "OutputModel",
      "state": {
       "layout": "IPY_MODEL_ff5080ff1237458696df0ee97947ac64",
       "outputs": [
        {
         "name": "stdout",
         "output_type": "stream",
         "text": "\nThe patient denies that they worry regularly about multiple aspects of their life with accompanying physical symptoms.\nOver the past several weeks, the patient denies any excessive worrying,  \nfeeling keyed up and on edge, irritability, or panic attacks. \n\n\n"
        }
       ]
      }
     },
     "8532ce4afe8245f3a5c05e31ec1ca94e": {
      "model_module": "@jupyter-widgets/base",
      "model_module_version": "1.2.0",
      "model_name": "LayoutModel",
      "state": {}
     },
     "8570a661c47d49dfa5882ed2f9f90927": {
      "model_module": "@jupyter-widgets/controls",
      "model_module_version": "1.5.0",
      "model_name": "DescriptionStyleModel",
      "state": {
       "description_width": ""
      }
     },
     "857129641a2e4c479f599c8b91192459": {
      "model_module": "@jupyter-widgets/base",
      "model_module_version": "1.2.0",
      "model_name": "LayoutModel",
      "state": {}
     },
     "857573350542487983b396989279540f": {
      "model_module": "@jupyter-widgets/controls",
      "model_module_version": "1.5.0",
      "model_name": "DropdownModel",
      "state": {
       "_options_labels": [
        "denies",
        "endorses"
       ],
       "description": "anxiety",
       "index": 0,
       "layout": "IPY_MODEL_64f3493d9e7e4cd79d693795fcd61555",
       "style": "IPY_MODEL_09716543460e450380eb6417a3a64ac7"
      }
     },
     "85974db049064fe7859136c853328f84": {
      "model_module": "@jupyter-widgets/base",
      "model_module_version": "1.2.0",
      "model_name": "LayoutModel",
      "state": {}
     },
     "859d4b541fe6404e82795b466093e295": {
      "model_module": "@jupyter-widgets/base",
      "model_module_version": "1.2.0",
      "model_name": "LayoutModel",
      "state": {}
     },
     "859db574d9ff43408704e9f0e8189577": {
      "model_module": "@jupyter-widgets/base",
      "model_module_version": "1.2.0",
      "model_name": "LayoutModel",
      "state": {}
     },
     "85a6a880d1e444178b5c8dc884896437": {
      "model_module": "@jupyter-widgets/output",
      "model_module_version": "1.0.0",
      "model_name": "OutputModel",
      "state": {
       "layout": "IPY_MODEL_458a2ffc644d401d8ef5d6381d92bfb2",
       "outputs": [
        {
         "name": "stdout",
         "output_type": "stream",
         "text": "\nCurrent Medication:\n\n \nPatient declines adjustments to their medication regimen.\n\n\n\n"
        }
       ]
      }
     },
     "85b9daa3f21c4092a3c701f6187ba21b": {
      "model_module": "@jupyter-widgets/base",
      "model_module_version": "1.2.0",
      "model_name": "LayoutModel",
      "state": {}
     },
     "85c634a882764a248c04865858a9867b": {
      "model_module": "@jupyter-widgets/base",
      "model_module_version": "1.2.0",
      "model_name": "LayoutModel",
      "state": {}
     },
     "85cadcd16827419788c0e7ab0df6f5b5": {
      "model_module": "@jupyter-widgets/controls",
      "model_module_version": "1.5.0",
      "model_name": "DropdownModel",
      "state": {
       "_options_labels": [
        "denies",
        "endorses"
       ],
       "description": "anhedonia",
       "index": 0,
       "layout": "IPY_MODEL_5259318fb468446090efdf421640f15f",
       "style": "IPY_MODEL_1bd6c24056194b088ffc9953fe52ae0c"
      }
     },
     "85e8600011dc406383fc1fae94131e99": {
      "model_module": "@jupyter-widgets/controls",
      "model_module_version": "1.5.0",
      "model_name": "DropdownModel",
      "state": {
       "_options_labels": [
        "denies",
        "endorses"
       ],
       "description": "abuse",
       "index": 0,
       "layout": "IPY_MODEL_5259318fb468446090efdf421640f15f",
       "style": "IPY_MODEL_a719fda924964c5bab911571ec630a96"
      }
     },
     "85f4becd738b4092a006a72a15739897": {
      "model_module": "@jupyter-widgets/controls",
      "model_module_version": "1.5.0",
      "model_name": "CheckboxModel",
      "state": {
       "description": "fentanyl",
       "disabled": false,
       "layout": "IPY_MODEL_f50fb34eeebc4c24a7a469350cf14eab",
       "style": "IPY_MODEL_68bd64bd2b3247c4a309cd4319c8af6b",
       "value": false
      }
     },
     "86060f205a614d8d871416643605721a": {
      "model_module": "@jupyter-widgets/controls",
      "model_module_version": "1.5.0",
      "model_name": "DescriptionStyleModel",
      "state": {
       "description_width": ""
      }
     },
     "861979ecedc049fcbb70b0913792e903": {
      "model_module": "@jupyter-widgets/controls",
      "model_module_version": "1.5.0",
      "model_name": "VBoxModel",
      "state": {
       "children": [
        "IPY_MODEL_7fd951b356d847bfb2e7c58f697ea7b8",
        "IPY_MODEL_f868c9e0e9fc4686a668139f1a7cfabd",
        "IPY_MODEL_58d3cddcdb264a98b25771a8d189e371",
        "IPY_MODEL_5dc07f7dd2b240d09b1c625e2a1d3f65"
       ],
       "layout": "IPY_MODEL_ce8f5c2f73d744b28a5b16f498874e1e"
      }
     },
     "864c1e96fce84572a157de3a01df4eec": {
      "model_module": "@jupyter-widgets/output",
      "model_module_version": "1.0.0",
      "model_name": "OutputModel",
      "state": {
       "layout": "IPY_MODEL_bf8d5e7d4ab84dff89093a61ef9ded47",
       "outputs": [
        {
         "name": "stdout",
         "output_type": "stream",
         "text": "\nSubstance Use History:\nThe patient states that their primary substances of abuse include\nopioids with daily use for periods greater than \n6 months with resulting impairment in functioning. \nThey state that they have been in residential treatment 3 times, \nwith their longest period of sobriety lasting 9 months. \nThe patient endorses history of IVDU. \nPatient denies seizures, complicated withdrawal, and DTs.\nOpiates began about 15/16, Heroin around 18/19. Off and on for past 10 years.\n    \n"
        }
       ]
      }
     },
     "864c49fb4145499ab582e7dff6a75a9f": {
      "model_module": "@jupyter-widgets/controls",
      "model_module_version": "1.5.0",
      "model_name": "DescriptionStyleModel",
      "state": {
       "description_width": "150px"
      }
     },
     "8653ba30f2f14e8c8551486d2b758b9f": {
      "model_module": "@jupyter-widgets/base",
      "model_module_version": "1.2.0",
      "model_name": "LayoutModel",
      "state": {}
     },
     "8657cd193a144df3bf7b281f92b3bd4a": {
      "model_module": "@jupyter-widgets/controls",
      "model_module_version": "1.5.0",
      "model_name": "DropdownModel",
      "state": {
       "_options_labels": [
        "denies",
        "endorses"
       ],
       "description": "hopelessness",
       "index": 0,
       "layout": "IPY_MODEL_ecfa8b2075df48d78b3e743fdae50eff",
       "style": "IPY_MODEL_f32cf3f0d0764412893beef26a6d6874"
      }
     },
     "865d8159a7c04af8bb119b16d73f1e2f": {
      "model_module": "@jupyter-widgets/controls",
      "model_module_version": "1.5.0",
      "model_name": "DropdownModel",
      "state": {
       "_options_labels": [
        "denies",
        "endorses"
       ],
       "description": "past_trauma",
       "index": 0,
       "layout": "IPY_MODEL_5259318fb468446090efdf421640f15f",
       "style": "IPY_MODEL_928bbe6e2e6b4727b0f16d953ca7b432"
      }
     },
     "86749eeaff2e43519e2eee75ca10d1fc": {
      "model_module": "@jupyter-widgets/controls",
      "model_module_version": "1.5.0",
      "model_name": "CheckboxModel",
      "state": {
       "description": "Post-traumatic stress disorder",
       "disabled": false,
       "layout": "IPY_MODEL_8fb564320faf46798957a73fade949f3",
       "style": "IPY_MODEL_9de8603b39004033b09791f02daedf30",
       "value": false
      }
     },
     "86834d5c33d5408c9cab1259a0fd2ecd": {
      "model_module": "@jupyter-widgets/controls",
      "model_module_version": "1.5.0",
      "model_name": "VBoxModel",
      "state": {
       "_dom_classes": [
        "widget-interact"
       ],
       "children": [
        "IPY_MODEL_ea662acadd05488fbba5b5518f34728a",
        "IPY_MODEL_de838b0945cd4010b00008706c566f9e",
        "IPY_MODEL_dfa7cba6440749868611bec3557af697",
        "IPY_MODEL_8de9ccedfd3541cfa6e11f873f1e8243",
        "IPY_MODEL_b230114bb81e48e6a33f96ec3305878d",
        "IPY_MODEL_51026898257147df86dd2a4b1276f19e",
        "IPY_MODEL_92b4b4f7040247a1aa74c9352236d0f1"
       ],
       "layout": "IPY_MODEL_85974db049064fe7859136c853328f84"
      }
     },
     "86844f905bf744aa880760a730871adf": {
      "model_module": "@jupyter-widgets/base",
      "model_module_version": "1.2.0",
      "model_name": "LayoutModel",
      "state": {}
     },
     "86a7fc0bdc2040b28a3ea287bb2adb05": {
      "model_module": "@jupyter-widgets/controls",
      "model_module_version": "1.5.0",
      "model_name": "DescriptionStyleModel",
      "state": {
       "description_width": "150px"
      }
     },
     "86b662466e814bb88494f21939e96529": {
      "model_module": "@jupyter-widgets/base",
      "model_module_version": "1.2.0",
      "model_name": "LayoutModel",
      "state": {}
     },
     "870f4d7a441f42deb80fb9196e47e6d1": {
      "model_module": "@jupyter-widgets/base",
      "model_module_version": "1.2.0",
      "model_name": "LayoutModel",
      "state": {}
     },
     "875d6f5bbf5c4002a0527755d9143ccc": {
      "model_module": "@jupyter-widgets/controls",
      "model_module_version": "1.5.0",
      "model_name": "ComboboxModel",
      "state": {
       "description": "home",
       "ensure_option": false,
       "layout": "IPY_MODEL_5259318fb468446090efdf421640f15f",
       "options": [
        "in sober living",
        "at home"
       ],
       "style": "IPY_MODEL_2fa7b94a3def40f89e46aecd1d3b665a"
      }
     },
     "876645ac9f5743fa81eb3378b2f192a6": {
      "model_module": "@jupyter-widgets/controls",
      "model_module_version": "1.5.0",
      "model_name": "CheckboxModel",
      "state": {
       "description": "alcohol",
       "disabled": false,
       "layout": "IPY_MODEL_d8e4d24a00584207b5e588084cd03031",
       "style": "IPY_MODEL_6273c718865f4952ba36d55fd654c578",
       "value": false
      }
     },
     "876c8f0936b34706b9618bc18c720c59": {
      "model_module": "@jupyter-widgets/base",
      "model_module_version": "1.2.0",
      "model_name": "LayoutModel",
      "state": {}
     },
     "877af86b4827463eb7f7f98708a8ba39": {
      "model_module": "@jupyter-widgets/controls",
      "model_module_version": "1.5.0",
      "model_name": "TextareaModel",
      "state": {
       "description": "negative_impact",
       "layout": "IPY_MODEL_64f3493d9e7e4cd79d693795fcd61555",
       "placeholder": "Type Something",
       "style": "IPY_MODEL_80a437aac7d44e319ab705082f9f63a3"
      }
     },
     "877e592486014d36823dcd30b2fe5cb0": {
      "model_module": "@jupyter-widgets/controls",
      "model_module_version": "1.5.0",
      "model_name": "ComboboxModel",
      "state": {
       "description": "home",
       "ensure_option": false,
       "layout": "IPY_MODEL_f3ab830ad14c40bcb60503d19e5f9870",
       "options": [
        "in sober living",
        "at home"
       ],
       "style": "IPY_MODEL_7a6485430aef4a10a823b020a55921d2",
       "value": "in sober living"
      }
     },
     "878d10410c4c40a1ab85b6ce9ca59bac": {
      "model_module": "@jupyter-widgets/controls",
      "model_module_version": "1.5.0",
      "model_name": "DescriptionStyleModel",
      "state": {
       "description_width": "150px"
      }
     },
     "8793af2c2c9e45c6a1b6b84231ee460a": {
      "model_module": "@jupyter-widgets/controls",
      "model_module_version": "1.5.0",
      "model_name": "DescriptionStyleModel",
      "state": {
       "description_width": "150px"
      }
     },
     "879f9426eed0456fb92feab92f4ef4e5": {
      "model_module": "@jupyter-widgets/controls",
      "model_module_version": "1.5.0",
      "model_name": "DropdownModel",
      "state": {
       "_options_labels": [
        "denies",
        "endorses"
       ],
       "description": "legal",
       "index": 0,
       "layout": "IPY_MODEL_f3ab830ad14c40bcb60503d19e5f9870",
       "style": "IPY_MODEL_34b2570f7e874cabaff8b196c8d11444"
      }
     },
     "87e818ebafa344baaa83294e2d7b0023": {
      "model_module": "@jupyter-widgets/controls",
      "model_module_version": "1.5.0",
      "model_name": "DropdownModel",
      "state": {
       "_options_labels": [
        "single",
        "married"
       ],
       "description": "married",
       "index": 1,
       "layout": "IPY_MODEL_ecfa8b2075df48d78b3e743fdae50eff",
       "style": "IPY_MODEL_2c0de73dca05410bb158a2196c121627"
      }
     },
     "87f22443ae4c4b11a5f14c2edc78cbf1": {
      "model_module": "@jupyter-widgets/controls",
      "model_module_version": "1.5.0",
      "model_name": "DescriptionStyleModel",
      "state": {
       "description_width": "150px"
      }
     },
     "8880fbfeb0824aa2b0b2e55148651567": {
      "model_module": "@jupyter-widgets/controls",
      "model_module_version": "1.5.0",
      "model_name": "DropdownModel",
      "state": {
       "_options_labels": [
        "declines",
        "is amenable with"
       ],
       "description": "med_adjust",
       "index": 0,
       "layout": "IPY_MODEL_fa9ec4f225bc40b29e03b63fcbcbd3db",
       "style": "IPY_MODEL_2f15cd806815425ea592cbff4e3a0bde"
      }
     },
     "889870679c294917b47a395903b8aee0": {
      "model_module": "@jupyter-widgets/controls",
      "model_module_version": "1.5.0",
      "model_name": "BoundedIntTextModel",
      "state": {
       "description": "Sober Time:",
       "layout": "IPY_MODEL_f3ab830ad14c40bcb60503d19e5f9870",
       "max": 200,
       "style": "IPY_MODEL_218a2be855b241c895ad030e8f4f962e",
       "value": 100
      }
     },
     "88a3ec1e7ace4b97a234bf888f1e5962": {
      "model_module": "@jupyter-widgets/controls",
      "model_module_version": "1.5.0",
      "model_name": "DescriptionStyleModel",
      "state": {
       "description_width": "150px"
      }
     },
     "88bea6610a5947d7a5b16de8377f2600": {
      "model_module": "@jupyter-widgets/controls",
      "model_module_version": "1.5.0",
      "model_name": "DescriptionStyleModel",
      "state": {
       "description_width": "150px"
      }
     },
     "88cf8e5b0d384f8e9f97080a48687038": {
      "model_module": "@jupyter-widgets/controls",
      "model_module_version": "1.5.0",
      "model_name": "DropdownModel",
      "state": {
       "_options_labels": [
        "days",
        "weeks",
        "months",
        "years"
       ],
       "description": "longest_sober_period",
       "index": 2,
       "layout": "IPY_MODEL_57dff8c6f77e4aad88e092f42ad13209",
       "style": "IPY_MODEL_f416bccf40df4a2e8132e847e2dcab39"
      }
     },
     "88ea468fe2234d4b98da4e77ee46599d": {
      "model_module": "@jupyter-widgets/controls",
      "model_module_version": "1.5.0",
      "model_name": "VBoxModel",
      "state": {
       "children": [
        "IPY_MODEL_5fc17b8826d5409ea6962597b688ef2f",
        "IPY_MODEL_288032e7a62b436bb2835619f499d7e2",
        "IPY_MODEL_1061aab1875740bc8f6ba1427cd4942c",
        "IPY_MODEL_b78ff502702a4876bda38271e1764058"
       ],
       "layout": "IPY_MODEL_80bd8fe3dee2424daaa3c2a41b18028c"
      }
     },
     "88f9596ca58e4e09892aa6dac8e8f51e": {
      "model_module": "@jupyter-widgets/base",
      "model_module_version": "1.2.0",
      "model_name": "LayoutModel",
      "state": {}
     },
     "896b9411959f40edacbe500ee46f4b92": {
      "model_module": "@jupyter-widgets/controls",
      "model_module_version": "1.5.0",
      "model_name": "DescriptionStyleModel",
      "state": {
       "description_width": ""
      }
     },
     "89863180f9c346ce8bfe25f1b801899c": {
      "model_module": "@jupyter-widgets/controls",
      "model_module_version": "1.5.0",
      "model_name": "TextareaModel",
      "state": {
       "description": "notes",
       "layout": "IPY_MODEL_f3ab830ad14c40bcb60503d19e5f9870",
       "style": "IPY_MODEL_c1911c33ab184ffa994fdeeb9c5acef4",
       "value": "\"My medication helps with anxiety\""
      }
     },
     "8986dbb8ed594508b9998c189d630b5e": {
      "model_module": "@jupyter-widgets/controls",
      "model_module_version": "1.5.0",
      "model_name": "VBoxModel",
      "state": {
       "children": [
        "IPY_MODEL_35fcd874556844a2b9aa452b684edfff",
        "IPY_MODEL_787d428fadc74450a18b78f6793022ca",
        "IPY_MODEL_1f61e2253fb144c99785c0043b9fe1c1",
        "IPY_MODEL_62880044062e4ce6837dfcffc5d42ecd",
        "IPY_MODEL_11529dd9b6fd4e4f94721fa0789c1ebd",
        "IPY_MODEL_e25b4fe8cf5341a597f57364ba8ab437",
        "IPY_MODEL_d98437aa04874b058246c7193d53921c",
        "IPY_MODEL_95f930dc972148c78c16b2c48350dd0f",
        "IPY_MODEL_47a34ea72606421882f37664d170b8a5",
        "IPY_MODEL_90fd52c660c84f0eb41a0844c23afa65",
        "IPY_MODEL_c1f3b201f01341a4bd82309a1b8b807c",
        "IPY_MODEL_bc16c8932a9342b1bfdbc4256246974d",
        "IPY_MODEL_d2a1410c17b94f3fae71d8d7e0a3ea76",
        "IPY_MODEL_307be16c7d8e4f12b90af4be76366f15"
       ],
       "layout": "IPY_MODEL_0dd65fc948ee4795a32501f4f3805fd0"
      }
     },
     "898b3850d418414490580a8dba4f6271": {
      "model_module": "@jupyter-widgets/controls",
      "model_module_version": "1.5.0",
      "model_name": "DescriptionStyleModel",
      "state": {
       "description_width": ""
      }
     },
     "8999c261221c43ccba5b689e45f98dc8": {
      "model_module": "@jupyter-widgets/controls",
      "model_module_version": "1.5.0",
      "model_name": "CheckboxModel",
      "state": {
       "description": "Unspecified Bipolar Disorder",
       "disabled": false,
       "layout": "IPY_MODEL_345b63a4720a452cabf6d2bc570b33f5",
       "style": "IPY_MODEL_5107c2a323cc4fb39d06246504647127",
       "value": false
      }
     },
     "899fac0c7e7f40c2be306d993e7ea526": {
      "model_module": "@jupyter-widgets/controls",
      "model_module_version": "1.5.0",
      "model_name": "TextareaModel",
      "state": {
       "description": "allergies",
       "layout": "IPY_MODEL_f3ab830ad14c40bcb60503d19e5f9870",
       "style": "IPY_MODEL_bcfec2c77d4b4bb58a614436faaeff6f",
       "value": "NKDA"
      }
     },
     "89cbfe4cbe7a445cac1940892be60a11": {
      "model_module": "@jupyter-widgets/base",
      "model_module_version": "1.2.0",
      "model_name": "LayoutModel",
      "state": {}
     },
     "89e6e235ca08416cb98f5e490d017f14": {
      "model_module": "@jupyter-widgets/controls",
      "model_module_version": "1.5.0",
      "model_name": "DropdownModel",
      "state": {
       "_options_labels": [
        "good",
        "fair",
        "poor"
       ],
       "description": "energy",
       "index": 1,
       "layout": "IPY_MODEL_64f3493d9e7e4cd79d693795fcd61555",
       "style": "IPY_MODEL_01f36f67ba474359a0cc054d376ecfed"
      }
     },
     "8aa2dc4e31864e749dd9f9fdce7fb3d3": {
      "model_module": "@jupyter-widgets/base",
      "model_module_version": "1.2.0",
      "model_name": "LayoutModel",
      "state": {}
     },
     "8ae6a7a00ff148c9a6a8c3b5e09f4c1f": {
      "model_module": "@jupyter-widgets/controls",
      "model_module_version": "1.5.0",
      "model_name": "DescriptionStyleModel",
      "state": {
       "description_width": ""
      }
     },
     "8aec4b3d56f342098e0fb7f0b9c0cfee": {
      "model_module": "@jupyter-widgets/controls",
      "model_module_version": "1.5.0",
      "model_name": "DropdownModel",
      "state": {
       "_options_labels": [
        "Silicon Beach",
        "Momentum",
        "Create Recovery Center",
        "Casablanca"
       ],
       "description": "treatment_center:",
       "index": 2,
       "layout": "IPY_MODEL_64ce3b7412ac446bad3b83162663d5cf",
       "style": "IPY_MODEL_424ce1e6368248ba9ae50850684f2466"
      }
     },
     "8af819b0274f43249b16260cdf815ec1": {
      "model_module": "@jupyter-widgets/controls",
      "model_module_version": "1.5.0",
      "model_name": "CheckboxModel",
      "state": {
       "description": "Unspecified Bipolar Disorder",
       "disabled": false,
       "layout": "IPY_MODEL_44693bdf1c384f8fa7b3cc52c52ced5f",
       "style": "IPY_MODEL_cb980984c6684b50b8523632939c58e9",
       "value": false
      }
     },
     "8afb4069c35b438b89a8ec341cd63e2f": {
      "model_module": "@jupyter-widgets/controls",
      "model_module_version": "1.5.0",
      "model_name": "CheckboxModel",
      "state": {
       "description": "sedative, hypnotic, or anxiolytic",
       "disabled": false,
       "layout": "IPY_MODEL_da9ea7578be34a03a66432a3d4ab7bd9",
       "style": "IPY_MODEL_898b3850d418414490580a8dba4f6271",
       "value": false
      }
     },
     "8b29af0f96ed4ce4962372339e9b04da": {
      "model_module": "@jupyter-widgets/controls",
      "model_module_version": "1.5.0",
      "model_name": "CheckboxModel",
      "state": {
       "description": "no mental illness",
       "disabled": false,
       "layout": "IPY_MODEL_e424fc65ba3c4bc9a6e998c24c418406",
       "style": "IPY_MODEL_a4332e374ff14f519dd1479869feff89",
       "value": false
      }
     },
     "8b3c2baf3f1f46f497808107008c4cac": {
      "model_module": "@jupyter-widgets/base",
      "model_module_version": "1.2.0",
      "model_name": "LayoutModel",
      "state": {}
     },
     "8b486b486b4d485592dbc50e9fcded6f": {
      "model_module": "@jupyter-widgets/base",
      "model_module_version": "1.2.0",
      "model_name": "LayoutModel",
      "state": {}
     },
     "8b58f2870be54008b1a1ebd996329dba": {
      "model_module": "@jupyter-widgets/controls",
      "model_module_version": "1.5.0",
      "model_name": "DescriptionStyleModel",
      "state": {
       "description_width": "150px"
      }
     },
     "8b6db8829eec41cc815ff069137fe33a": {
      "model_module": "@jupyter-widgets/controls",
      "model_module_version": "1.5.0",
      "model_name": "DescriptionStyleModel",
      "state": {
       "description_width": "150px"
      }
     },
     "8b75e7fbdade4f34b5e1f129e21ae2c8": {
      "model_module": "@jupyter-widgets/controls",
      "model_module_version": "1.5.0",
      "model_name": "BoundedIntTextModel",
      "state": {
       "description": "Sober Time:",
       "layout": "IPY_MODEL_57dff8c6f77e4aad88e092f42ad13209",
       "max": 200,
       "style": "IPY_MODEL_6eaeb2eaf5d547c28ae0ca759fe98eb8",
       "value": 8
      }
     },
     "8ba1b06144584da3b6120a77e358e6a5": {
      "model_module": "@jupyter-widgets/base",
      "model_module_version": "1.2.0",
      "model_name": "LayoutModel",
      "state": {}
     },
     "8bccd6438158458da6d90143dc77e867": {
      "model_module": "@jupyter-widgets/base",
      "model_module_version": "1.2.0",
      "model_name": "LayoutModel",
      "state": {
       "height": "200px"
      }
     },
     "8be75754bfe346b8a40f6d1bed87d4b9": {
      "model_module": "@jupyter-widgets/base",
      "model_module_version": "1.2.0",
      "model_name": "LayoutModel",
      "state": {}
     },
     "8c18a8fc93974bd1be787f226d52a688": {
      "model_module": "@jupyter-widgets/base",
      "model_module_version": "1.2.0",
      "model_name": "LayoutModel",
      "state": {}
     },
     "8c5a2bac93c54a0daf9bc269fc7a5a52": {
      "model_module": "@jupyter-widgets/controls",
      "model_module_version": "1.5.0",
      "model_name": "ComboboxModel",
      "state": {
       "description": "med_statement",
       "ensure_option": false,
       "layout": "IPY_MODEL_f3ab830ad14c40bcb60503d19e5f9870",
       "options": [
        "Patient declines psychotropic medication and elects for more conservative approaches to psychiatric symptom management at this time."
       ],
       "style": "IPY_MODEL_4b954d0f30f24e9a8f2817706b336bd4"
      }
     },
     "8c7abfa55b06461abf72643602117e05": {
      "model_module": "@jupyter-widgets/controls",
      "model_module_version": "1.5.0",
      "model_name": "CheckboxModel",
      "state": {
       "description": "insomnia",
       "disabled": false,
       "layout": "IPY_MODEL_4213f4f08d1d4a05ac640e26f064bf44",
       "style": "IPY_MODEL_6254f16181224a43861aff3845d3b693",
       "value": false
      }
     },
     "8c8c22c5f10a4a9aabd945f3aaf07c26": {
      "model_module": "@jupyter-widgets/controls",
      "model_module_version": "1.5.0",
      "model_name": "DropdownModel",
      "state": {
       "_options_labels": [
        "denies",
        "endorses"
       ],
       "description": "sustained_sadness",
       "index": 0,
       "layout": "IPY_MODEL_64f3493d9e7e4cd79d693795fcd61555",
       "style": "IPY_MODEL_de114c4ef79e49a6942ea648488f7f0f"
      }
     },
     "8c9e705bb3214fb68e6544554a3bda8f": {
      "model_module": "@jupyter-widgets/base",
      "model_module_version": "1.2.0",
      "model_name": "LayoutModel",
      "state": {}
     },
     "8cb2508c9c934e02ba31eff00a8a3070": {
      "model_module": "@jupyter-widgets/controls",
      "model_module_version": "1.5.0",
      "model_name": "DescriptionStyleModel",
      "state": {
       "description_width": ""
      }
     },
     "8cb7361980bb466684e4666e7402d802": {
      "model_module": "@jupyter-widgets/controls",
      "model_module_version": "1.5.0",
      "model_name": "DescriptionStyleModel",
      "state": {
       "description_width": "150px"
      }
     },
     "8ce53486eb984cdfbaba57dd7565815b": {
      "model_module": "@jupyter-widgets/controls",
      "model_module_version": "1.5.0",
      "model_name": "DescriptionStyleModel",
      "state": {
       "description_width": "150px"
      }
     },
     "8cfea15f94f043b9a0ad9f19d5f4ae7d": {
      "model_module": "@jupyter-widgets/base",
      "model_module_version": "1.2.0",
      "model_name": "LayoutModel",
      "state": {}
     },
     "8d0ec0f36d3d4858be1e536f8160f01f": {
      "model_module": "@jupyter-widgets/controls",
      "model_module_version": "1.5.0",
      "model_name": "ComboboxModel",
      "state": {
       "description": "med_statement",
       "ensure_option": false,
       "layout": "IPY_MODEL_5259318fb468446090efdf421640f15f",
       "options": [
        "Patient declines psychotropic medication and elects for more conservative approaches to psychiatric symptom management at this time."
       ],
       "style": "IPY_MODEL_466233875e0f4c6fbc13b2ca35d39848"
      }
     },
     "8d1700ec5c8049b2bd2abb6d6aad6f42": {
      "model_module": "@jupyter-widgets/controls",
      "model_module_version": "1.5.0",
      "model_name": "VBoxModel",
      "state": {
       "children": [
        "IPY_MODEL_1be57e181d74449b9c4d54389e24bacd",
        "IPY_MODEL_5657b7ac808541daafb1ef45b072aef6",
        "IPY_MODEL_6241a7e435ff4fa88feab6eb4dc6ff11",
        "IPY_MODEL_3af74e6e269f450d972aa962e2208f5c"
       ],
       "layout": "IPY_MODEL_64a1d2cc6d4846749c2bbadfe0ab4502"
      }
     },
     "8d1bec2981da4b869da3f460f939a66c": {
      "model_module": "@jupyter-widgets/base",
      "model_module_version": "1.2.0",
      "model_name": "LayoutModel",
      "state": {}
     },
     "8d227bc42492462ca0597f4f11cc46e0": {
      "model_module": "@jupyter-widgets/controls",
      "model_module_version": "1.5.0",
      "model_name": "CheckboxModel",
      "state": {
       "description": "Major depressive disorder, rec, mod",
       "disabled": false,
       "layout": "IPY_MODEL_355695f48ff0478da050581f09f783db",
       "style": "IPY_MODEL_d3739cc52a25494e8a96c1b120f089c4",
       "value": true
      }
     },
     "8d24844e0a924ed2a9be28c678d4edd3": {
      "model_module": "@jupyter-widgets/controls",
      "model_module_version": "1.5.0",
      "model_name": "DescriptionStyleModel",
      "state": {
       "description_width": ""
      }
     },
     "8d3ca5fda2084f8f8e5c8d301f3fa5bb": {
      "model_module": "@jupyter-widgets/controls",
      "model_module_version": "1.5.0",
      "model_name": "DescriptionStyleModel",
      "state": {
       "description_width": "150px"
      }
     },
     "8d541e9fd4a444b9b1f33a63d4b9205f": {
      "model_module": "@jupyter-widgets/controls",
      "model_module_version": "1.5.0",
      "model_name": "DescriptionStyleModel",
      "state": {
       "description_width": "150px"
      }
     },
     "8d951670bc484d0a8b1d60ce90475500": {
      "model_module": "@jupyter-widgets/controls",
      "model_module_version": "1.5.0",
      "model_name": "DropdownModel",
      "state": {
       "_options_labels": [
        "male",
        "female",
        "nb"
       ],
       "description": "gender:",
       "index": 1,
       "layout": "IPY_MODEL_c6975850e22f439bb0b8ecb02a03c3a4",
       "style": "IPY_MODEL_7fadd9b9270c4764bde35dc3b0587544"
      }
     },
     "8de92873857f45b4a211e67870ffe1f7": {
      "model_module": "@jupyter-widgets/base",
      "model_module_version": "1.2.0",
      "model_name": "LayoutModel",
      "state": {}
     },
     "8de9ccedfd3541cfa6e11f873f1e8243": {
      "model_module": "@jupyter-widgets/controls",
      "model_module_version": "1.5.0",
      "model_name": "TextareaModel",
      "state": {
       "description": "previous_meds",
       "layout": "IPY_MODEL_5259318fb468446090efdf421640f15f",
       "style": "IPY_MODEL_8793af2c2c9e45c6a1b6b84231ee460a",
       "value": "None"
      }
     },
     "8df6a3957bf04ea986ce91b6e499fbd7": {
      "model_module": "@jupyter-widgets/base",
      "model_module_version": "1.2.0",
      "model_name": "LayoutModel",
      "state": {}
     },
     "8e08d2675e1640329c78b21e0c28b34b": {
      "model_module": "@jupyter-widgets/controls",
      "model_module_version": "1.5.0",
      "model_name": "DescriptionStyleModel",
      "state": {
       "description_width": "150px"
      }
     },
     "8e17cde492174e3ca82324b9558f4787": {
      "model_module": "@jupyter-widgets/controls",
      "model_module_version": "1.5.0",
      "model_name": "DescriptionStyleModel",
      "state": {
       "description_width": ""
      }
     },
     "8e4e3e7739f04f64b346d76d23132fb2": {
      "model_module": "@jupyter-widgets/base",
      "model_module_version": "1.2.0",
      "model_name": "LayoutModel",
      "state": {}
     },
     "8e4e40a6c3af49e194cbe87397390537": {
      "model_module": "@jupyter-widgets/controls",
      "model_module_version": "1.5.0",
      "model_name": "CheckboxModel",
      "state": {
       "description": "Bipolar II disorder",
       "disabled": false,
       "layout": "IPY_MODEL_849197f3cf4f4ae6b675bb55179eff45",
       "style": "IPY_MODEL_d3259bbbf22743bca7fca68fba9c26e8",
       "value": false
      }
     },
     "8e5140cdeffa4fb9b3e98ace7229e5eb": {
      "model_module": "@jupyter-widgets/controls",
      "model_module_version": "1.5.0",
      "model_name": "DescriptionStyleModel",
      "state": {
       "description_width": ""
      }
     },
     "8e566f738be34f3abc002fae8d3c1715": {
      "model_module": "@jupyter-widgets/controls",
      "model_module_version": "1.5.0",
      "model_name": "DescriptionStyleModel",
      "state": {
       "description_width": ""
      }
     },
     "8e5e04185bbc4e90ae7b532c223ce525": {
      "model_module": "@jupyter-widgets/controls",
      "model_module_version": "1.5.0",
      "model_name": "VBoxModel",
      "state": {
       "children": [
        "IPY_MODEL_b39f2e05cd8d4fa6ac123320cd180666",
        "IPY_MODEL_5f60edd08545433db9b303e242d0c6d8",
        "IPY_MODEL_d6b158da42b74902a5c59d8fa3c67ba4",
        "IPY_MODEL_4cef2a87cf904c6881f6871a214bcb32",
        "IPY_MODEL_8f8f7a252dd745f3a1a2f2e866cd5a07",
        "IPY_MODEL_fa985733067b4a54951c4583544924b3",
        "IPY_MODEL_184d2d7cb5bd4467be91ff3741d6ec49",
        "IPY_MODEL_479e591a3709434abe365d1465aa011b",
        "IPY_MODEL_47a03ad3226349c68d358a1d9486eed9",
        "IPY_MODEL_16dfd7eae8274d7688bd462e1da41f07"
       ],
       "layout": "IPY_MODEL_5cf8b70745ba40e6b546f6b7c7ac6cfc"
      }
     },
     "8e8e2efab65447f4b44a14a508536afd": {
      "model_module": "@jupyter-widgets/controls",
      "model_module_version": "1.5.0",
      "model_name": "DescriptionStyleModel",
      "state": {
       "description_width": "150px"
      }
     },
     "8e947304dc8e4b6abb882e19e5265182": {
      "model_module": "@jupyter-widgets/base",
      "model_module_version": "1.2.0",
      "model_name": "LayoutModel",
      "state": {}
     },
     "8ea134ec821a474fb6d7e79c1b5c5ff3": {
      "model_module": "@jupyter-widgets/controls",
      "model_module_version": "1.5.0",
      "model_name": "CheckboxModel",
      "state": {
       "description": "adhd",
       "disabled": false,
       "layout": "IPY_MODEL_279581f073504f94b8d74c17fa597c2e",
       "style": "IPY_MODEL_5fc5f74bf64344c3a0f915e4141df310",
       "value": false
      }
     },
     "8eb7162acce2498fa8c3a31048a2fd82": {
      "model_module": "@jupyter-widgets/base",
      "model_module_version": "1.2.0",
      "model_name": "LayoutModel",
      "state": {}
     },
     "8ebf729747fc49148f1021df07194d4e": {
      "model_module": "@jupyter-widgets/base",
      "model_module_version": "1.2.0",
      "model_name": "LayoutModel",
      "state": {}
     },
     "8f16a2f6d3164d429a671bd416f658fc": {
      "model_module": "@jupyter-widgets/controls",
      "model_module_version": "1.5.0",
      "model_name": "DropdownModel",
      "state": {
       "_options_labels": [
        "denies",
        "endorses"
       ],
       "description": "physical_anxiety",
       "index": 0,
       "layout": "IPY_MODEL_ecfa8b2075df48d78b3e743fdae50eff",
       "style": "IPY_MODEL_cd1596cbcec54fffbaee9007ef7e243b"
      }
     },
     "8f288677cd3548c4a86e35f23db242a9": {
      "model_module": "@jupyter-widgets/controls",
      "model_module_version": "1.5.0",
      "model_name": "VBoxModel",
      "state": {
       "_dom_classes": [
        "widget-interact"
       ],
       "children": [
        "IPY_MODEL_0822cfac79ce4899b4373b2b953b00a0",
        "IPY_MODEL_5c2ecdabb82d49cf899e177de7968bb4"
       ],
       "layout": "IPY_MODEL_00148c36bb9c42f59b0f105dbe9699f5"
      }
     },
     "8f370542fa5047a09401c6f978e488fb": {
      "model_module": "@jupyter-widgets/controls",
      "model_module_version": "1.5.0",
      "model_name": "DescriptionStyleModel",
      "state": {
       "description_width": "150px"
      }
     },
     "8f8bec4827a243b8b580947897d4f80b": {
      "model_module": "@jupyter-widgets/base",
      "model_module_version": "1.2.0",
      "model_name": "LayoutModel",
      "state": {}
     },
     "8f8f7a252dd745f3a1a2f2e866cd5a07": {
      "model_module": "@jupyter-widgets/controls",
      "model_module_version": "1.5.0",
      "model_name": "CheckboxModel",
      "state": {
       "description": "bipolar I disorder",
       "disabled": false,
       "layout": "IPY_MODEL_82da74febb234c6aad94adc0d638abf3",
       "style": "IPY_MODEL_bbff625885e0439e9ac612c9aa107a3a",
       "value": true
      }
     },
     "8fb564320faf46798957a73fade949f3": {
      "model_module": "@jupyter-widgets/base",
      "model_module_version": "1.2.0",
      "model_name": "LayoutModel",
      "state": {}
     },
     "8fd133e320914ebfb118963304e529c7": {
      "model_module": "@jupyter-widgets/controls",
      "model_module_version": "1.5.0",
      "model_name": "DropdownModel",
      "state": {
       "_options_labels": [
        "denies",
        "endorses"
       ],
       "description": "mania",
       "index": 0,
       "layout": "IPY_MODEL_f3ab830ad14c40bcb60503d19e5f9870",
       "style": "IPY_MODEL_a6f0a7531304418185a612200af76074"
      }
     },
     "8ff71b7515fa4880bedc3cfabcbed726": {
      "model_module": "@jupyter-widgets/controls",
      "model_module_version": "1.5.0",
      "model_name": "DescriptionStyleModel",
      "state": {
       "description_width": "150px"
      }
     },
     "8ffe0bd604ae4ae182c32df2d5ba4dc9": {
      "model_module": "@jupyter-widgets/base",
      "model_module_version": "1.2.0",
      "model_name": "LayoutModel",
      "state": {
       "height": "200px"
      }
     },
     "90042285ce2c4b118b1c182a6545b570": {
      "model_module": "@jupyter-widgets/base",
      "model_module_version": "1.2.0",
      "model_name": "LayoutModel",
      "state": {}
     },
     "901e71d4c35f485c91ec45a5e000cc1a": {
      "model_module": "@jupyter-widgets/base",
      "model_module_version": "1.2.0",
      "model_name": "LayoutModel",
      "state": {}
     },
     "905fecf31d7644b58733733bc9a4d062": {
      "model_module": "@jupyter-widgets/controls",
      "model_module_version": "1.5.0",
      "model_name": "DescriptionStyleModel",
      "state": {
       "description_width": "150px"
      }
     },
     "90742d3447de4bb0ad226264ce4474e4": {
      "model_module": "@jupyter-widgets/controls",
      "model_module_version": "1.5.0",
      "model_name": "DescriptionStyleModel",
      "state": {
       "description_width": "150px"
      }
     },
     "90865e18db03465688033d31060fc83f": {
      "model_module": "@jupyter-widgets/controls",
      "model_module_version": "1.5.0",
      "model_name": "CheckboxModel",
      "state": {
       "description": "Amphetamine-type substance use disorder Severe",
       "disabled": false,
       "layout": "IPY_MODEL_73008ceffa5d41fd958606067c59b1a5",
       "style": "IPY_MODEL_a986b5c0aa8544d58ba885fb5ac39975",
       "value": false
      }
     },
     "908a4490777c43a7a82b0f7bc670f5ed": {
      "model_module": "@jupyter-widgets/controls",
      "model_module_version": "1.5.0",
      "model_name": "DescriptionStyleModel",
      "state": {
       "description_width": "150px"
      }
     },
     "9096a02b7dc54ef8b21228424ada1c58": {
      "model_module": "@jupyter-widgets/controls",
      "model_module_version": "1.5.0",
      "model_name": "CheckboxModel",
      "state": {
       "description": "LSD",
       "disabled": false,
       "layout": "IPY_MODEL_423b91fdd3914bf8843d2fd9e56124cb",
       "style": "IPY_MODEL_5bd417121bcc45a0a4a4d467e94590b5",
       "value": false
      }
     },
     "90ab7c84966f495893bdac61e435e769": {
      "model_module": "@jupyter-widgets/controls",
      "model_module_version": "1.5.0",
      "model_name": "DescriptionStyleModel",
      "state": {
       "description_width": ""
      }
     },
     "90fd52c660c84f0eb41a0844c23afa65": {
      "model_module": "@jupyter-widgets/controls",
      "model_module_version": "1.5.0",
      "model_name": "CheckboxModel",
      "state": {
       "description": "ecstasy/MDMA",
       "disabled": false,
       "layout": "IPY_MODEL_e8c4bc6bdd1e45dbbd6fc96b41fc8086",
       "style": "IPY_MODEL_68a841b15a0f4dda92e60430c5a98f6d",
       "value": false
      }
     },
     "9105f8f0890d4c879315bbfe36fcb55a": {
      "model_module": "@jupyter-widgets/base",
      "model_module_version": "1.2.0",
      "model_name": "LayoutModel",
      "state": {}
     },
     "9113213d311949919d71ae112b71c147": {
      "model_module": "@jupyter-widgets/controls",
      "model_module_version": "1.5.0",
      "model_name": "VBoxModel",
      "state": {
       "_dom_classes": [
        "widget-interact"
       ],
       "children": [
        "IPY_MODEL_d77bff8863c044798a0bba4492339d1d",
        "IPY_MODEL_19dcc77bc95d4bb0b3622a2e561fd85a",
        "IPY_MODEL_c106b8bff44846b896de03f23c5f9253",
        "IPY_MODEL_0927b4acb7c84d3c810232503a3fe137",
        "IPY_MODEL_63c6c929d54f45508e1f9b890d724d03",
        "IPY_MODEL_979b582f495c46b3a9e28940b83ae723",
        "IPY_MODEL_b8288d2ec1e648c7835f1b084a3901b2",
        "IPY_MODEL_30feb745a1844dceac23f345ffc306c8",
        "IPY_MODEL_c8939e113a244d96bffebe576b6672e1"
       ],
       "layout": "IPY_MODEL_fd89ad42c2384858b3a386e97738701b"
      }
     },
     "911fabdfdf74411ea51f29c4616d030a": {
      "model_module": "@jupyter-widgets/controls",
      "model_module_version": "1.5.0",
      "model_name": "CheckboxModel",
      "state": {
       "description": "Post-traumatic stress disorder",
       "disabled": false,
       "layout": "IPY_MODEL_0bc49afe76e84d4e9d11e2a788ccbd92",
       "style": "IPY_MODEL_0a50a75a617142dd9fed84eed33cef79",
       "value": true
      }
     },
     "912049c2cf8e4836b698e5e4347ff150": {
      "model_module": "@jupyter-widgets/controls",
      "model_module_version": "1.5.0",
      "model_name": "TextareaModel",
      "state": {
       "description": "Current mood:",
       "layout": "IPY_MODEL_b964e5d4b25646019146bd789a694eb6",
       "placeholder": "Type something",
       "style": "IPY_MODEL_053d06f15e004c538b47d7cc4884cf4d",
       "value": "It’s pretty good."
      }
     },
     "913fc3f2a4294847bee27d46ac0fac9a": {
      "model_module": "@jupyter-widgets/base",
      "model_module_version": "1.2.0",
      "model_name": "LayoutModel",
      "state": {
       "width": "25%"
      }
     },
     "916cc9986d944260aadbb0fc1231f116": {
      "model_module": "@jupyter-widgets/controls",
      "model_module_version": "1.5.0",
      "model_name": "TextareaModel",
      "state": {
       "description": "notes",
       "layout": "IPY_MODEL_ecfa8b2075df48d78b3e743fdae50eff",
       "style": "IPY_MODEL_5ab10b1c536a467e8784302dbf465557",
       "value": "trauma notes"
      }
     },
     "91f13cbd880f4998b45b2d309ee13ce5": {
      "model_module": "@jupyter-widgets/controls",
      "model_module_version": "1.5.0",
      "model_name": "DescriptionStyleModel",
      "state": {
       "description_width": "150px"
      }
     },
     "91f699d718e946d0b79317fe2485ded1": {
      "model_module": "@jupyter-widgets/controls",
      "model_module_version": "1.5.0",
      "model_name": "DescriptionStyleModel",
      "state": {
       "description_width": ""
      }
     },
     "921b8afeffbe4a238c352d892b28372d": {
      "model_module": "@jupyter-widgets/base",
      "model_module_version": "1.2.0",
      "model_name": "LayoutModel",
      "state": {}
     },
     "923aecbd420d4036a12d9d2af20d3808": {
      "model_module": "@jupyter-widgets/controls",
      "model_module_version": "1.5.0",
      "model_name": "TextareaModel",
      "state": {
       "description": "primary_substances",
       "layout": "IPY_MODEL_57dff8c6f77e4aad88e092f42ad13209",
       "style": "IPY_MODEL_27ef9ddbfc824caebd8308e282b88c82",
       "value": "cocaine"
      }
     },
     "9260f16602054416968769bdf25ef557": {
      "model_module": "@jupyter-widgets/controls",
      "model_module_version": "1.5.0",
      "model_name": "DescriptionStyleModel",
      "state": {
       "description_width": "150px"
      }
     },
     "9275774919f446359a7baf76c820c8d2": {
      "model_module": "@jupyter-widgets/base",
      "model_module_version": "1.2.0",
      "model_name": "LayoutModel",
      "state": {}
     },
     "9278203f75544b29bd3acd9ebdd49037": {
      "model_module": "@jupyter-widgets/controls",
      "model_module_version": "1.5.0",
      "model_name": "DescriptionStyleModel",
      "state": {
       "description_width": ""
      }
     },
     "9279e81f2e484068a6f6fca83742da38": {
      "model_module": "@jupyter-widgets/controls",
      "model_module_version": "1.5.0",
      "model_name": "DropdownModel",
      "state": {
       "_options_labels": [
        "denies",
        "endorses"
       ],
       "description": "hospitalization",
       "index": 0,
       "layout": "IPY_MODEL_57dff8c6f77e4aad88e092f42ad13209",
       "style": "IPY_MODEL_f2f157d012eb423fb25122085ed5fe2b"
      }
     },
     "927e8ca5ce1d44cdac62583784b302ee": {
      "model_module": "@jupyter-widgets/controls",
      "model_module_version": "1.5.0",
      "model_name": "TextareaModel",
      "state": {
       "description": "notes",
       "layout": "IPY_MODEL_64f3493d9e7e4cd79d693795fcd61555",
       "style": "IPY_MODEL_3b191d386f3343cb93a79cc09302d750"
      }
     },
     "928bbe6e2e6b4727b0f16d953ca7b432": {
      "model_module": "@jupyter-widgets/controls",
      "model_module_version": "1.5.0",
      "model_name": "DescriptionStyleModel",
      "state": {
       "description_width": "150px"
      }
     },
     "92b4b4f7040247a1aa74c9352236d0f1": {
      "model_module": "@jupyter-widgets/output",
      "model_module_version": "1.0.0",
      "model_name": "OutputModel",
      "state": {
       "layout": "IPY_MODEL_ae2ca727a3e048e68ed59ef1143be3f9",
       "outputs": [
        {
         "name": "stdout",
         "output_type": "stream",
         "text": "\nPsychiatric History: \nPatient denies any history of psychiatric hospitalizations. \nPatient denies suicide attempts, \nPatient denies self-injurious behavior. \nPrevious meds: None \nCurrent outpatient psychiatrist: None\n\n\n"
        }
       ]
      }
     },
     "92c4de2c98494205982bcc5e74813d70": {
      "model_module": "@jupyter-widgets/controls",
      "model_module_version": "1.5.0",
      "model_name": "DescriptionStyleModel",
      "state": {
       "description_width": "150px"
      }
     },
     "92e4bebfdaa542caa79743e9f454c535": {
      "model_module": "@jupyter-widgets/controls",
      "model_module_version": "1.5.0",
      "model_name": "CheckboxModel",
      "state": {
       "description": "Opioid use disorder Severe",
       "disabled": false,
       "layout": "IPY_MODEL_3a035d313a5541dcac628e2504805312",
       "style": "IPY_MODEL_6202418e28c84b27b159be8ac8ab7a5b",
       "value": true
      }
     },
     "92f282c64e794d2dad3486adee90c1b5": {
      "model_module": "@jupyter-widgets/base",
      "model_module_version": "1.2.0",
      "model_name": "LayoutModel",
      "state": {}
     },
     "930edb8df39e4d8d986439e1a5fa68e6": {
      "model_module": "@jupyter-widgets/controls",
      "model_module_version": "1.5.0",
      "model_name": "DropdownModel",
      "state": {
       "_options_labels": [
        "denies",
        "endorses"
       ],
       "description": "anhedonia",
       "index": 0,
       "layout": "IPY_MODEL_57dff8c6f77e4aad88e092f42ad13209",
       "style": "IPY_MODEL_72aa76d1608b461da0f053831b03bbb1"
      }
     },
     "931824ae3ac54633b95fea4cd986433b": {
      "model_module": "@jupyter-widgets/controls",
      "model_module_version": "1.5.0",
      "model_name": "HBoxModel",
      "state": {
       "children": [
        "IPY_MODEL_ee8f441b0b6845f59e157cab0738a672",
        "IPY_MODEL_972f595ae05947aa8931902f483ff192",
        "IPY_MODEL_3d828fb1df654c85b4c93681d50e0f76"
       ],
       "layout": "IPY_MODEL_6c7e8f93f27b4ba399886a51ca6df9ea"
      }
     },
     "93545e5a9ffe42db9ff01184d1cc119f": {
      "model_module": "@jupyter-widgets/base",
      "model_module_version": "1.2.0",
      "model_name": "LayoutModel",
      "state": {}
     },
     "93b5e89d95744cdbb05290a29d6441f1": {
      "model_module": "@jupyter-widgets/controls",
      "model_module_version": "1.5.0",
      "model_name": "DropdownModel",
      "state": {
       "_options_labels": [
        "denies",
        "endorses"
       ],
       "description": "withdrawals_choice",
       "index": 0,
       "layout": "IPY_MODEL_57dff8c6f77e4aad88e092f42ad13209",
       "style": "IPY_MODEL_a4e23827bcce494eb6e3ce8b4a613a11"
      }
     },
     "93ce007ce9694225bf091a3085747685": {
      "model_module": "@jupyter-widgets/controls",
      "model_module_version": "1.5.0",
      "model_name": "DescriptionStyleModel",
      "state": {
       "description_width": ""
      }
     },
     "94417d97324645c5be040ad43d856c54": {
      "model_module": "@jupyter-widgets/controls",
      "model_module_version": "1.5.0",
      "model_name": "DescriptionStyleModel",
      "state": {
       "description_width": "150px"
      }
     },
     "94537a2fef9a427abc6751968c019c3a": {
      "model_module": "@jupyter-widgets/controls",
      "model_module_version": "1.5.0",
      "model_name": "DescriptionStyleModel",
      "state": {
       "description_width": "150px"
      }
     },
     "947514c8341e4e2e9eb54feb8eaa1aeb": {
      "model_module": "@jupyter-widgets/base",
      "model_module_version": "1.2.0",
      "model_name": "LayoutModel",
      "state": {}
     },
     "949bf9e3679c49d9a35e114625b5e084": {
      "model_module": "@jupyter-widgets/output",
      "model_module_version": "1.0.0",
      "model_name": "OutputModel",
      "state": {
       "layout": "IPY_MODEL_2373209cea6e4bae937776ef806825f5",
       "outputs": [
        {
         "name": "stdout",
         "output_type": "stream",
         "text": "\nCurrent Medication:\nadvil\nPatient reports that they have been compliant with their psychotropic medication regimen and denies adverse effects \nPatient is amenable with adjustments to their medication regimen.\nPatient declines psychotropic medication and elects for more conservative approaches to psychiatric symptom management at this time.\nextra notes\n\n"
        }
       ]
      }
     },
     "94b9d43784e74c79ade215091fc68006": {
      "model_module": "@jupyter-widgets/controls",
      "model_module_version": "1.5.0",
      "model_name": "TextareaModel",
      "state": {
       "description": "Current mood:",
       "layout": "IPY_MODEL_5c1ca7cb0e654a80a2f8a2b26e5be308",
       "placeholder": "Type something",
       "style": "IPY_MODEL_8e17cde492174e3ca82324b9558f4787",
       "value": "It’s pretty good."
      }
     },
     "94cc5841bc3548e0b95f47c6375a88fe": {
      "model_module": "@jupyter-widgets/base",
      "model_module_version": "1.2.0",
      "model_name": "LayoutModel",
      "state": {}
     },
     "94d9c9fa4b4e4e5385b0ddea547beff1": {
      "model_module": "@jupyter-widgets/controls",
      "model_module_version": "1.5.0",
      "model_name": "TextareaModel",
      "state": {
       "description": "current_medication",
       "layout": "IPY_MODEL_64f3493d9e7e4cd79d693795fcd61555",
       "placeholder": "Type something",
       "style": "IPY_MODEL_c6411d80ec034f41b834837c0d89adf8"
      }
     },
     "94e60157f15b43598bd6b2c278ddd09c": {
      "model_module": "@jupyter-widgets/controls",
      "model_module_version": "1.5.0",
      "model_name": "DropdownModel",
      "state": {
       "_options_labels": [
        "denies",
        "endorses"
       ],
       "description": "hep_medical",
       "index": 0,
       "layout": "IPY_MODEL_ecfa8b2075df48d78b3e743fdae50eff",
       "style": "IPY_MODEL_97df3fff0f054faaa7d3f4402721474c"
      }
     },
     "94e7771557754f2d8e60ca231f698cb7": {
      "model_module": "@jupyter-widgets/base",
      "model_module_version": "1.2.0",
      "model_name": "LayoutModel",
      "state": {}
     },
     "951e6269c7064f4d98f15344f4493c75": {
      "model_module": "@jupyter-widgets/base",
      "model_module_version": "1.2.0",
      "model_name": "LayoutModel",
      "state": {}
     },
     "95448b589bfe48bbaf12a489a0592ed5": {
      "model_module": "@jupyter-widgets/base",
      "model_module_version": "1.2.0",
      "model_name": "LayoutModel",
      "state": {}
     },
     "95476025f32741898f50464cf7dd968d": {
      "model_module": "@jupyter-widgets/controls",
      "model_module_version": "1.5.0",
      "model_name": "DescriptionStyleModel",
      "state": {
       "description_width": ""
      }
     },
     "956ee1a0dabe4d6f99c79548b276d360": {
      "model_module": "@jupyter-widgets/controls",
      "model_module_version": "1.5.0",
      "model_name": "DescriptionStyleModel",
      "state": {
       "description_width": "150px"
      }
     },
     "95bc1ae124e841c2b5978a53a0f83d35": {
      "model_module": "@jupyter-widgets/controls",
      "model_module_version": "1.5.0",
      "model_name": "DropdownModel",
      "state": {
       "_options_labels": [
        "denies",
        "endorses"
       ],
       "description": "tbi_medical",
       "index": 0,
       "layout": "IPY_MODEL_57dff8c6f77e4aad88e092f42ad13209",
       "style": "IPY_MODEL_878d10410c4c40a1ab85b6ce9ca59bac"
      }
     },
     "95cc4d5bfa044de085d81a02b184c825": {
      "model_module": "@jupyter-widgets/controls",
      "model_module_version": "1.5.0",
      "model_name": "VBoxModel",
      "state": {
       "children": [
        "IPY_MODEL_d071542b9136488891bf3446744d3577",
        "IPY_MODEL_07c13933ee044837921347a28a90c997",
        "IPY_MODEL_11eba56f7eb54f97bcd117a4e8560ed7",
        "IPY_MODEL_9cafeec4b30444e6b6b80554b29b1704"
       ],
       "layout": "IPY_MODEL_849861231ea44d31af238fe92904708d"
      }
     },
     "95f477f9ad4c49908b8227fa7ddd10ab": {
      "model_module": "@jupyter-widgets/controls",
      "model_module_version": "1.5.0",
      "model_name": "DescriptionStyleModel",
      "state": {
       "description_width": "150px"
      }
     },
     "95f71ef2312446229cf1094556145879": {
      "model_module": "@jupyter-widgets/controls",
      "model_module_version": "1.5.0",
      "model_name": "TextModel",
      "state": {
       "description": "labs",
       "layout": "IPY_MODEL_071c8d1d8815495692f98533c7cd541c",
       "style": "IPY_MODEL_1d9272f99a2341acb2b5096781dc41a8",
       "value": "None currently on file."
      }
     },
     "95f930dc972148c78c16b2c48350dd0f": {
      "model_module": "@jupyter-widgets/controls",
      "model_module_version": "1.5.0",
      "model_name": "CheckboxModel",
      "state": {
       "description": "cocaine",
       "disabled": false,
       "layout": "IPY_MODEL_0447bf9f6785468fa48360626933c7bf",
       "style": "IPY_MODEL_1e4b487eb3e9401194449440a0541f36",
       "value": false
      }
     },
     "95fa51e880034f799adc7e95022cc931": {
      "model_module": "@jupyter-widgets/controls",
      "model_module_version": "1.5.0",
      "model_name": "DescriptionStyleModel",
      "state": {
       "description_width": "150px"
      }
     },
     "960173ff2a6c47e39afd7480c182a08e": {
      "model_module": "@jupyter-widgets/controls",
      "model_module_version": "1.5.0",
      "model_name": "DescriptionStyleModel",
      "state": {
       "description_width": "150px"
      }
     },
     "963e175701bf43989384e81f3665e0be": {
      "model_module": "@jupyter-widgets/controls",
      "model_module_version": "1.5.0",
      "model_name": "DescriptionStyleModel",
      "state": {
       "description_width": ""
      }
     },
     "966efd9786564a238e25cc92aa253595": {
      "model_module": "@jupyter-widgets/controls",
      "model_module_version": "1.5.0",
      "model_name": "DescriptionStyleModel",
      "state": {
       "description_width": ""
      }
     },
     "968fd5828150499e85ac08bf6dd0b9b2": {
      "model_module": "@jupyter-widgets/controls",
      "model_module_version": "1.5.0",
      "model_name": "DescriptionStyleModel",
      "state": {
       "description_width": "150px"
      }
     },
     "96db84a1e4694360a0b93ffc21792664": {
      "model_module": "@jupyter-widgets/controls",
      "model_module_version": "1.5.0",
      "model_name": "TextareaModel",
      "state": {
       "description": "notes",
       "layout": "IPY_MODEL_64f3493d9e7e4cd79d693795fcd61555",
       "style": "IPY_MODEL_fdf3f52fa5bb48898ff4d175173e86a5"
      }
     },
     "96f74bc7fc1a4ca6ae20f8cf9b2b1513": {
      "model_module": "@jupyter-widgets/controls",
      "model_module_version": "1.5.0",
      "model_name": "DescriptionStyleModel",
      "state": {
       "description_width": "150px"
      }
     },
     "970775a641944e3fbff7fe009cdb265b": {
      "model_module": "@jupyter-widgets/controls",
      "model_module_version": "1.5.0",
      "model_name": "DescriptionStyleModel",
      "state": {
       "description_width": ""
      }
     },
     "97144f7177914c3e8dfef857df6eb000": {
      "model_module": "@jupyter-widgets/controls",
      "model_module_version": "1.5.0",
      "model_name": "DescriptionStyleModel",
      "state": {
       "description_width": ""
      }
     },
     "9719132237d84ac4958e9bfed53cc04e": {
      "model_module": "@jupyter-widgets/controls",
      "model_module_version": "1.5.0",
      "model_name": "TextModel",
      "state": {
       "description": "labs",
       "layout": "IPY_MODEL_aaa70e559e3540c39fb96f7a7ba6cd3e",
       "style": "IPY_MODEL_2b3777b7e7d14dffb8e93538128938e3",
       "value": "None currently on file."
      }
     },
     "972f595ae05947aa8931902f483ff192": {
      "model_module": "@jupyter-widgets/controls",
      "model_module_version": "1.5.0",
      "model_name": "HBoxModel",
      "state": {
       "children": [
        "IPY_MODEL_8986dbb8ed594508b9998c189d630b5e"
       ],
       "layout": "IPY_MODEL_2c7c5d042e9144a5919dede03687cbf9"
      }
     },
     "9791f010ab3d46999b52b5690c3944da": {
      "model_module": "@jupyter-widgets/controls",
      "model_module_version": "1.5.0",
      "model_name": "DropdownModel",
      "state": {
       "_options_labels": [
        "good",
        "fair",
        "poor"
       ],
       "description": "appetite",
       "index": 1,
       "layout": "IPY_MODEL_fa9ec4f225bc40b29e03b63fcbcbd3db",
       "style": "IPY_MODEL_960173ff2a6c47e39afd7480c182a08e"
      }
     },
     "979b582f495c46b3a9e28940b83ae723": {
      "model_module": "@jupyter-widgets/controls",
      "model_module_version": "1.5.0",
      "model_name": "DropdownModel",
      "state": {
       "_options_labels": [
        "days",
        "months",
        "years"
       ],
       "description": "sober_period",
       "index": 0,
       "layout": "IPY_MODEL_fa9ec4f225bc40b29e03b63fcbcbd3db",
       "style": "IPY_MODEL_ae79b7eb6c4949b6bc716881d73c87c6"
      }
     },
     "979d88fa375c4daca9bc79e6441796e5": {
      "model_module": "@jupyter-widgets/controls",
      "model_module_version": "1.5.0",
      "model_name": "CheckboxModel",
      "state": {
       "description": "cocaine",
       "disabled": false,
       "layout": "IPY_MODEL_5fc86e1c43dc4caf8c839e8a09de0489",
       "style": "IPY_MODEL_2ff117ff5b264945b2fceb2bfdf2a4ed",
       "value": true
      }
     },
     "97b155cad9c34626a47100eab3f044f9": {
      "model_module": "@jupyter-widgets/base",
      "model_module_version": "1.2.0",
      "model_name": "LayoutModel",
      "state": {}
     },
     "97b9a9c821d449269d073c160b1e0ff8": {
      "model_module": "@jupyter-widgets/controls",
      "model_module_version": "1.5.0",
      "model_name": "DescriptionStyleModel",
      "state": {
       "description_width": "150px"
      }
     },
     "97c2f6af09df4d689018aaad0715aa1a": {
      "model_module": "@jupyter-widgets/controls",
      "model_module_version": "1.5.0",
      "model_name": "DescriptionStyleModel",
      "state": {
       "description_width": "150px"
      }
     },
     "97cee99f5ddf40c8b69bccdbc49e6c9e": {
      "model_module": "@jupyter-widgets/controls",
      "model_module_version": "1.5.0",
      "model_name": "TextareaModel",
      "state": {
       "description": "allergies",
       "layout": "IPY_MODEL_57dff8c6f77e4aad88e092f42ad13209",
       "style": "IPY_MODEL_9ad0363366f4415683e5eff28c439434",
       "value": "PCN"
      }
     },
     "97df3fff0f054faaa7d3f4402721474c": {
      "model_module": "@jupyter-widgets/controls",
      "model_module_version": "1.5.0",
      "model_name": "DescriptionStyleModel",
      "state": {
       "description_width": "150px"
      }
     },
     "97ed0510df2145e29c1b29ee635e21c1": {
      "model_module": "@jupyter-widgets/controls",
      "model_module_version": "1.5.0",
      "model_name": "CheckboxModel",
      "state": {
       "description": "heroin",
       "disabled": false,
       "layout": "IPY_MODEL_ce2b4080d9ae48718d3378bfb0f3cd98",
       "style": "IPY_MODEL_b77ae0cb0b64409b8d2eab17698cc96d",
       "value": false
      }
     },
     "97f8259a6980484fa8df4aa6311a4418": {
      "model_module": "@jupyter-widgets/controls",
      "model_module_version": "1.5.0",
      "model_name": "VBoxModel",
      "state": {
       "children": [
        "IPY_MODEL_1fe65e7dc96b4279af3d814be0874a71",
        "IPY_MODEL_b6ad8b9203f44a16bc9aa272675a56e3",
        "IPY_MODEL_5851b201fabd44ebb200782ee9c6e924",
        "IPY_MODEL_ee3bcb2f37d94bccb8f30fb7c3d80c1d"
       ],
       "layout": "IPY_MODEL_1304ed2ab6e34647ba69857f2e8c51f2"
      }
     },
     "9837b6273d544bb78d41109b04ad236c": {
      "model_module": "@jupyter-widgets/base",
      "model_module_version": "1.2.0",
      "model_name": "LayoutModel",
      "state": {}
     },
     "98faa467744842eca75e422dd8b28167": {
      "model_module": "@jupyter-widgets/controls",
      "model_module_version": "1.5.0",
      "model_name": "DescriptionStyleModel",
      "state": {
       "description_width": ""
      }
     },
     "98fea2ae4d9b40d4a7d2ba57ecf916d9": {
      "model_module": "@jupyter-widgets/controls",
      "model_module_version": "1.5.0",
      "model_name": "DescriptionStyleModel",
      "state": {
       "description_width": ""
      }
     },
     "990350f3f11c460885d2a13c6541cd31": {
      "model_module": "@jupyter-widgets/controls",
      "model_module_version": "1.5.0",
      "model_name": "DescriptionStyleModel",
      "state": {
       "description_width": "150px"
      }
     },
     "9905d2d10f8a4ed2a21cbad3adbe8bba": {
      "model_module": "@jupyter-widgets/controls",
      "model_module_version": "1.5.0",
      "model_name": "DropdownModel",
      "state": {
       "_options_labels": [
        "denies",
        "endorses"
       ],
       "description": "mania",
       "index": 0,
       "layout": "IPY_MODEL_5259318fb468446090efdf421640f15f",
       "style": "IPY_MODEL_dc91b3cf673a4a819bcff1826c048c01"
      }
     },
     "991c12b58a3d4cfc8002187436d69247": {
      "model_module": "@jupyter-widgets/controls",
      "model_module_version": "1.5.0",
      "model_name": "DescriptionStyleModel",
      "state": {
       "description_width": ""
      }
     },
     "996c92481dca49ae8cbfd019b64acbf7": {
      "model_module": "@jupyter-widgets/controls",
      "model_module_version": "1.5.0",
      "model_name": "TextModel",
      "state": {
       "description": "notes",
       "layout": "IPY_MODEL_64f3493d9e7e4cd79d693795fcd61555",
       "style": "IPY_MODEL_a38563ca12cd44bc9be3e23640127d16"
      }
     },
     "99a9bdba250a434db0a5ea8f96a69211": {
      "model_module": "@jupyter-widgets/output",
      "model_module_version": "1.0.0",
      "model_name": "OutputModel",
      "state": {
       "layout": "IPY_MODEL_40aac47e9eee4e9b83bd3aac20cdfd6c",
       "outputs": [
        {
         "name": "stdout",
         "output_type": "stream",
         "text": "\nMental Status Examination: \nAppearance: WD/WN, looks stated age, fair grooming and hygiene, casually dressed\nBehavior: Calm, cooperative, fair eye contact\nPsychomotor: No activation or retardation\nSpeech: Fluent, spontaneous\nMood: “It’s pretty good.” \nAffect: Euthymic, full-range, congruent with mood\nThought Process: Linear, logical\nThought Content: Denies SI/HI/AH/VH/delusions\nInsight/Judgement: Limited to fair/Fair\n\n"
        }
       ]
      }
     },
     "99ec7c603fb04a72b316be39c80abf45": {
      "model_module": "@jupyter-widgets/controls",
      "model_module_version": "1.5.0",
      "model_name": "DescriptionStyleModel",
      "state": {
       "description_width": ""
      }
     },
     "99fbca5f6a5249f69837b9a8f4c703ff": {
      "model_module": "@jupyter-widgets/controls",
      "model_module_version": "1.5.0",
      "model_name": "DescriptionStyleModel",
      "state": {
       "description_width": "150px"
      }
     },
     "9a5e9013642646a2a4165862d9a6243e": {
      "model_module": "@jupyter-widgets/controls",
      "model_module_version": "1.5.0",
      "model_name": "CheckboxModel",
      "state": {
       "description": "opioid",
       "disabled": false,
       "layout": "IPY_MODEL_f3ee00688a4d49c1b1c8409f33b030fc",
       "style": "IPY_MODEL_7d53a228af744ff29890ab3109606216",
       "value": true
      }
     },
     "9a74a369b5c5460e8575d69661c614f1": {
      "model_module": "@jupyter-widgets/controls",
      "model_module_version": "1.5.0",
      "model_name": "DropdownModel",
      "state": {
       "_options_labels": [
        "denies",
        "endorses"
       ],
       "description": "anxiety",
       "index": 0,
       "layout": "IPY_MODEL_57dff8c6f77e4aad88e092f42ad13209",
       "style": "IPY_MODEL_8d541e9fd4a444b9b1f33a63d4b9205f"
      }
     },
     "9a79f237d2dd470e9141ee2e5d43ad74": {
      "model_module": "@jupyter-widgets/controls",
      "model_module_version": "1.5.0",
      "model_name": "VBoxModel",
      "state": {
       "_dom_classes": [
        "widget-interact"
       ],
       "children": [
        "IPY_MODEL_21be120ba23443fbabf0ea1ab66ae431",
        "IPY_MODEL_93b5e89d95744cdbb05290a29d6441f1",
        "IPY_MODEL_0d50b9b2e2fc487c8513c2225a648e2b",
        "IPY_MODEL_0eedbaf90f76482eb162186f8f7cc7f3",
        "IPY_MODEL_2041c5d6c0624368a2a3cdc791be8b19",
        "IPY_MODEL_e89abb2f227043eeb09aa16b18af7812",
        "IPY_MODEL_3b9dc5d6a24f43eb9cc2a9d0673adc3d",
        "IPY_MODEL_aa3cb1db939a4ae5baf2513c4d84292e",
        "IPY_MODEL_f3fec8f8379f4a54844c3e945aebd97c"
       ],
       "layout": "IPY_MODEL_cf65e7da0bcb4a69a73f8cbfdeaa9ba4"
      }
     },
     "9ab53ae6d2924c9d8304cc09ba1ae7e5": {
      "model_module": "@jupyter-widgets/controls",
      "model_module_version": "1.5.0",
      "model_name": "CheckboxModel",
      "state": {
       "description": "depression",
       "disabled": false,
       "layout": "IPY_MODEL_951e6269c7064f4d98f15344f4493c75",
       "style": "IPY_MODEL_8122ba6ee37f4037ba307aeeac5af9f1",
       "value": false
      }
     },
     "9ac26e82b40e4abf9e899a0078387306": {
      "model_module": "@jupyter-widgets/controls",
      "model_module_version": "1.5.0",
      "model_name": "VBoxModel",
      "state": {
       "_dom_classes": [
        "widget-interact"
       ],
       "children": [
        "IPY_MODEL_41eac342a0494c4c9681b3b2c6312be2",
        "IPY_MODEL_e4ecf4e11485493aad38be54a820218d",
        "IPY_MODEL_eb5d81d4c816444485a69f2f8fe32015",
        "IPY_MODEL_c04673b5e87a45b1a3fa7499145725fa",
        "IPY_MODEL_e02c3e11cd7b4447a8fb7226e1ee29da",
        "IPY_MODEL_afe00d87aa7940618d510143a477911b"
       ],
       "layout": "IPY_MODEL_d6a440cdec1f4ee69697b495da96ff32"
      }
     },
     "9ac8f24f1c144eaea37666a5f4923ab5": {
      "model_module": "@jupyter-widgets/base",
      "model_module_version": "1.2.0",
      "model_name": "LayoutModel",
      "state": {}
     },
     "9ad0363366f4415683e5eff28c439434": {
      "model_module": "@jupyter-widgets/controls",
      "model_module_version": "1.5.0",
      "model_name": "DescriptionStyleModel",
      "state": {
       "description_width": "150px"
      }
     },
     "9ae4005f45bc4a979542452a696acd9a": {
      "model_module": "@jupyter-widgets/base",
      "model_module_version": "1.2.0",
      "model_name": "LayoutModel",
      "state": {
       "height": "100px",
       "width": "500px"
      }
     },
     "9afabba64ddc475bb5b19fe9242fb369": {
      "model_module": "@jupyter-widgets/base",
      "model_module_version": "1.2.0",
      "model_name": "LayoutModel",
      "state": {}
     },
     "9b183a2683854fdabb521e137dca1a2a": {
      "model_module": "@jupyter-widgets/controls",
      "model_module_version": "1.5.0",
      "model_name": "DropdownModel",
      "state": {
       "_options_labels": [
        "a history",
        "no history"
       ],
       "description": "eating_disorder",
       "index": 1,
       "layout": "IPY_MODEL_f3ab830ad14c40bcb60503d19e5f9870",
       "style": "IPY_MODEL_80964be4bcfe4fc28b10301df410c09a"
      }
     },
     "9b6effd75bd64e179d11eed2a75512ba": {
      "model_module": "@jupyter-widgets/controls",
      "model_module_version": "1.5.0",
      "model_name": "DescriptionStyleModel",
      "state": {
       "description_width": ""
      }
     },
     "9b74de681e3a4102b72fb5274b289e93": {
      "model_module": "@jupyter-widgets/base",
      "model_module_version": "1.2.0",
      "model_name": "LayoutModel",
      "state": {}
     },
     "9baef90926f9468095b99c9a59e9e9a6": {
      "model_module": "@jupyter-widgets/controls",
      "model_module_version": "1.5.0",
      "model_name": "DescriptionStyleModel",
      "state": {
       "description_width": "150px"
      }
     },
     "9bbfc400493a42318b0e98547cf66028": {
      "model_module": "@jupyter-widgets/base",
      "model_module_version": "1.2.0",
      "model_name": "LayoutModel",
      "state": {}
     },
     "9bf776fd2a3f4d3f98bf5099a014a299": {
      "model_module": "@jupyter-widgets/controls",
      "model_module_version": "1.5.0",
      "model_name": "DropdownModel",
      "state": {
       "_options_labels": [
        "denies",
        "endorses"
       ],
       "description": "self_injury",
       "index": 1,
       "layout": "IPY_MODEL_f3ab830ad14c40bcb60503d19e5f9870",
       "style": "IPY_MODEL_3e2112a5202b4c0e9e5835e1cbcfa8e1"
      }
     },
     "9c3550df126f4616a63cf458fb09986b": {
      "model_module": "@jupyter-widgets/controls",
      "model_module_version": "1.5.0",
      "model_name": "DescriptionStyleModel",
      "state": {
       "description_width": ""
      }
     },
     "9c4e3a1842ff482daa249bcf5b8169d1": {
      "model_module": "@jupyter-widgets/controls",
      "model_module_version": "1.5.0",
      "model_name": "DropdownModel",
      "state": {
       "_options_labels": [
        "denies",
        "endorses"
       ],
       "description": "past_trauma",
       "index": 0,
       "layout": "IPY_MODEL_fa9ec4f225bc40b29e03b63fcbcbd3db",
       "style": "IPY_MODEL_5d7ec18cebda49d88bc0571b1439cb53"
      }
     },
     "9c71feb89dab4ae593a3da404f2b5c4f": {
      "model_module": "@jupyter-widgets/controls",
      "model_module_version": "1.5.0",
      "model_name": "DescriptionStyleModel",
      "state": {
       "description_width": ""
      }
     },
     "9c86a355cb5241ecaf0b91fb7970615e": {
      "model_module": "@jupyter-widgets/controls",
      "model_module_version": "1.5.0",
      "model_name": "DropdownModel",
      "state": {
       "_options_labels": [
        "denies",
        "endorses"
       ],
       "description": "current_trauma",
       "index": 0,
       "layout": "IPY_MODEL_fa9ec4f225bc40b29e03b63fcbcbd3db",
       "style": "IPY_MODEL_4da19309329347f390e7970aba8135f7"
      }
     },
     "9cafeec4b30444e6b6b80554b29b1704": {
      "model_module": "@jupyter-widgets/controls",
      "model_module_version": "1.5.0",
      "model_name": "CheckboxModel",
      "state": {
       "description": "Cannabis use disorder Severe",
       "disabled": false,
       "layout": "IPY_MODEL_1921db2e14584693b53c427cb822b137",
       "style": "IPY_MODEL_5ad872e719db4e34b6218eb1d9aa66b0",
       "value": false
      }
     },
     "9cb0527059cc4be5abb410ab56417fda": {
      "model_module": "@jupyter-widgets/controls",
      "model_module_version": "1.5.0",
      "model_name": "DescriptionStyleModel",
      "state": {
       "description_width": "150px"
      }
     },
     "9cb76e5f54d44a1abd51e84d325b339c": {
      "model_module": "@jupyter-widgets/base",
      "model_module_version": "1.2.0",
      "model_name": "LayoutModel",
      "state": {}
     },
     "9cb7999a2ea84f5483bc97527fd2bf20": {
      "model_module": "@jupyter-widgets/base",
      "model_module_version": "1.2.0",
      "model_name": "LayoutModel",
      "state": {}
     },
     "9d2f9e41c6dd465aa25462adadc1f411": {
      "model_module": "@jupyter-widgets/controls",
      "model_module_version": "1.5.0",
      "model_name": "DescriptionStyleModel",
      "state": {
       "description_width": "150px"
      }
     },
     "9d590b7a788e44de9cb933c01f0df7df": {
      "model_module": "@jupyter-widgets/controls",
      "model_module_version": "1.5.0",
      "model_name": "DropdownModel",
      "state": {
       "_options_labels": [
        "denies",
        "endorses"
       ],
       "description": "guilt",
       "index": 0,
       "layout": "IPY_MODEL_64f3493d9e7e4cd79d693795fcd61555",
       "style": "IPY_MODEL_60fdf1c78f4245b69c811d9c48efcc76"
      }
     },
     "9d91d6a576684c759ccab3fe8d87d95b": {
      "model_module": "@jupyter-widgets/base",
      "model_module_version": "1.2.0",
      "model_name": "LayoutModel",
      "state": {}
     },
     "9de8603b39004033b09791f02daedf30": {
      "model_module": "@jupyter-widgets/controls",
      "model_module_version": "1.5.0",
      "model_name": "DescriptionStyleModel",
      "state": {
       "description_width": ""
      }
     },
     "9dff7184293346d98ffd599b3641b26f": {
      "model_module": "@jupyter-widgets/controls",
      "model_module_version": "1.5.0",
      "model_name": "DescriptionStyleModel",
      "state": {
       "description_width": "150px"
      }
     },
     "9e5517686e1f43068495d781ad236e15": {
      "model_module": "@jupyter-widgets/base",
      "model_module_version": "1.2.0",
      "model_name": "LayoutModel",
      "state": {}
     },
     "9e64d75249ad4946b7f30362eebdb9d8": {
      "model_module": "@jupyter-widgets/controls",
      "model_module_version": "1.5.0",
      "model_name": "DropdownModel",
      "state": {
       "_options_labels": [
        "male",
        "female",
        "nb"
       ],
       "description": "gender:",
       "index": 1,
       "layout": "IPY_MODEL_2d9474a689144820b8ac8ff21a69ad9f",
       "style": "IPY_MODEL_ae030b6f869048a3a6d764e7cb00bf12"
      }
     },
     "9e848b298a1e4b5ca3fcf82e4257bdf7": {
      "model_module": "@jupyter-widgets/controls",
      "model_module_version": "1.5.0",
      "model_name": "DescriptionStyleModel",
      "state": {
       "description_width": ""
      }
     },
     "9e8f73cfd22c4ebcb6f795e6b1dcc763": {
      "model_module": "@jupyter-widgets/controls",
      "model_module_version": "1.5.0",
      "model_name": "DescriptionStyleModel",
      "state": {
       "description_width": ""
      }
     },
     "9f2813eb41674da990eb9ac6f36b2078": {
      "model_module": "@jupyter-widgets/controls",
      "model_module_version": "1.5.0",
      "model_name": "TextareaModel",
      "state": {
       "description": "notes",
       "layout": "IPY_MODEL_57dff8c6f77e4aad88e092f42ad13209",
       "style": "IPY_MODEL_288ef4ddc8504a9db79a38c2f3a1cbfd"
      }
     },
     "9fa0c43ea2b84412bb0aeb607731f002": {
      "model_module": "@jupyter-widgets/controls",
      "model_module_version": "1.5.0",
      "model_name": "DropdownModel",
      "state": {
       "_options_labels": [
        "denies",
        "endorses"
       ],
       "description": "depressed",
       "index": 0,
       "layout": "IPY_MODEL_57dff8c6f77e4aad88e092f42ad13209",
       "style": "IPY_MODEL_5ff574de19af43fe9483d77a54e037ec"
      }
     },
     "9fa44cca815343dea0b8c7b3619d5145": {
      "model_module": "@jupyter-widgets/controls",
      "model_module_version": "1.5.0",
      "model_name": "DescriptionStyleModel",
      "state": {
       "description_width": ""
      }
     },
     "9fce27e0e3c549fdb43b715977f597de": {
      "model_module": "@jupyter-widgets/controls",
      "model_module_version": "1.5.0",
      "model_name": "DescriptionStyleModel",
      "state": {
       "description_width": ""
      }
     },
     "a0314773dc464bb69dab47829ee399cb": {
      "model_module": "@jupyter-widgets/controls",
      "model_module_version": "1.5.0",
      "model_name": "DescriptionStyleModel",
      "state": {
       "description_width": "150px"
      }
     },
     "a033b8dda5f1430a88c2d5544efcdc69": {
      "model_module": "@jupyter-widgets/controls",
      "model_module_version": "1.5.0",
      "model_name": "CheckboxModel",
      "state": {
       "description": "Opioid use disorder Severe",
       "disabled": false,
       "layout": "IPY_MODEL_92f282c64e794d2dad3486adee90c1b5",
       "style": "IPY_MODEL_aa4b6448ef4145cbb886f039095e0303",
       "value": true
      }
     },
     "a07fb5a32fb24a60857eb4255d48dd38": {
      "model_module": "@jupyter-widgets/controls",
      "model_module_version": "1.5.0",
      "model_name": "DescriptionStyleModel",
      "state": {
       "description_width": "150px"
      }
     },
     "a0c9b350fb14486f8fcf20042dea8c4f": {
      "model_module": "@jupyter-widgets/controls",
      "model_module_version": "1.5.0",
      "model_name": "CheckboxModel",
      "state": {
       "description": "anxiety",
       "disabled": false,
       "layout": "IPY_MODEL_2898921cde594b3c9c4037a80c0c546d",
       "style": "IPY_MODEL_3fcd10767bd84cc194d75844199249df",
       "value": false
      }
     },
     "a0ca314cbc02458c953949922ebd0b86": {
      "model_module": "@jupyter-widgets/controls",
      "model_module_version": "1.5.0",
      "model_name": "DescriptionStyleModel",
      "state": {
       "description_width": "150px"
      }
     },
     "a0cd1ddaa5d6438ab9fd41af0c50be87": {
      "model_module": "@jupyter-widgets/controls",
      "model_module_version": "1.5.0",
      "model_name": "VBoxModel",
      "state": {
       "_dom_classes": [
        "widget-interact"
       ],
       "children": [
        "IPY_MODEL_c07052f170754c0888cc08283eb9dad2",
        "IPY_MODEL_dae7f0fe4e1d4419be035023d884d8bf",
        "IPY_MODEL_f2f053d9ca85433f9bd06c10fb84968a",
        "IPY_MODEL_d80853f76b614b45b7216fcd495f0d3f"
       ],
       "layout": "IPY_MODEL_dd484023cefb459ea0521c9964a6c3c6"
      }
     },
     "a0dccbe83af54127b7c40064105d3392": {
      "model_module": "@jupyter-widgets/base",
      "model_module_version": "1.2.0",
      "model_name": "LayoutModel",
      "state": {}
     },
     "a0dff1fea4ba456c867d92df987fe40b": {
      "model_module": "@jupyter-widgets/controls",
      "model_module_version": "1.5.0",
      "model_name": "TextareaModel",
      "state": {
       "description": "allergies",
       "layout": "IPY_MODEL_ecfa8b2075df48d78b3e743fdae50eff",
       "style": "IPY_MODEL_d480296497104dc7b778b0b3b58544d0",
       "value": "NKDA"
      }
     },
     "a0fb76212dbb4f91af9a0c099a7e7846": {
      "model_module": "@jupyter-widgets/controls",
      "model_module_version": "1.5.0",
      "model_name": "DescriptionStyleModel",
      "state": {
       "description_width": ""
      }
     },
     "a111e7544fd64caaa10f56617a409428": {
      "model_module": "@jupyter-widgets/controls",
      "model_module_version": "1.5.0",
      "model_name": "DescriptionStyleModel",
      "state": {
       "description_width": ""
      }
     },
     "a12b8f5099ec47e8a969526de248ebe2": {
      "model_module": "@jupyter-widgets/controls",
      "model_module_version": "1.5.0",
      "model_name": "HBoxModel",
      "state": {
       "children": [
        "IPY_MODEL_b4a613b38ef84a23a75080e0913be199",
        "IPY_MODEL_62bf96b88d3b4ff2bdf446c378a4e8fd"
       ],
       "layout": "IPY_MODEL_a67512b807594c21bbc23ae9fb573dfe"
      }
     },
     "a13f00415db44924bb593c4e49cb157e": {
      "model_module": "@jupyter-widgets/controls",
      "model_module_version": "1.5.0",
      "model_name": "DescriptionStyleModel",
      "state": {
       "description_width": "150px"
      }
     },
     "a177420a59c44699b6a9d736fe7e84bc": {
      "model_module": "@jupyter-widgets/controls",
      "model_module_version": "1.5.0",
      "model_name": "CheckboxModel",
      "state": {
       "description": "heroin",
       "disabled": false,
       "layout": "IPY_MODEL_d9ce251d5e9a48d5a51de156fc70f90a",
       "style": "IPY_MODEL_a6e263a6b0384983b25215fbbef71d6a",
       "value": false
      }
     },
     "a190d70680784fc7851bf6b3c58f614f": {
      "model_module": "@jupyter-widgets/base",
      "model_module_version": "1.2.0",
      "model_name": "LayoutModel",
      "state": {}
     },
     "a1b2967604af47a5aa15b11f689a80b5": {
      "model_module": "@jupyter-widgets/controls",
      "model_module_version": "1.5.0",
      "model_name": "DescriptionStyleModel",
      "state": {
       "description_width": "150px"
      }
     },
     "a20a09dc3c5d4373af1cf6fe82b051ce": {
      "model_module": "@jupyter-widgets/controls",
      "model_module_version": "1.5.0",
      "model_name": "TextareaModel",
      "state": {
       "description": "negative_impact",
       "layout": "IPY_MODEL_f3ab830ad14c40bcb60503d19e5f9870",
       "placeholder": "Type Something",
       "style": "IPY_MODEL_990350f3f11c460885d2a13c6541cd31",
       "value": "\"Well heroin use is not very good for your health. You don't ever see any old heroin addicts. I kinda don't want to die.\""
      }
     },
     "a223a93374a344f09ecdeadb4629b62a": {
      "model_module": "@jupyter-widgets/controls",
      "model_module_version": "1.5.0",
      "model_name": "DescriptionStyleModel",
      "state": {
       "description_width": ""
      }
     },
     "a237f91873894101ac640b90f05a27d9": {
      "model_module": "@jupyter-widgets/controls",
      "model_module_version": "1.5.0",
      "model_name": "CheckboxModel",
      "state": {
       "description": "methamphetamine",
       "disabled": false,
       "layout": "IPY_MODEL_6a77c27ba75f4017844b0e541b655763",
       "style": "IPY_MODEL_9fce27e0e3c549fdb43b715977f597de",
       "value": false
      }
     },
     "a24044a40ad04029bbac808d6bcd4861": {
      "model_module": "@jupyter-widgets/base",
      "model_module_version": "1.2.0",
      "model_name": "LayoutModel",
      "state": {}
     },
     "a257215cf64d4c4298e1f3084b34946d": {
      "model_module": "@jupyter-widgets/controls",
      "model_module_version": "1.5.0",
      "model_name": "DescriptionStyleModel",
      "state": {
       "description_width": ""
      }
     },
     "a258da2f2e8646efb80f828a8a64fdce": {
      "model_module": "@jupyter-widgets/controls",
      "model_module_version": "1.5.0",
      "model_name": "DescriptionStyleModel",
      "state": {
       "description_width": ""
      }
     },
     "a282a3b5221e48428f392f98378e8e1d": {
      "model_module": "@jupyter-widgets/controls",
      "model_module_version": "1.5.0",
      "model_name": "DropdownModel",
      "state": {
       "_options_labels": [
        "denies",
        "endorses"
       ],
       "description": "hep_medical",
       "index": 1,
       "layout": "IPY_MODEL_fa9ec4f225bc40b29e03b63fcbcbd3db",
       "style": "IPY_MODEL_a0ca314cbc02458c953949922ebd0b86"
      }
     },
     "a2f9d3d32b6949e784d21eb3cc8473b0": {
      "model_module": "@jupyter-widgets/controls",
      "model_module_version": "1.5.0",
      "model_name": "DescriptionStyleModel",
      "state": {
       "description_width": ""
      }
     },
     "a31a96d0230d4d84b6452da33418687e": {
      "model_module": "@jupyter-widgets/base",
      "model_module_version": "1.2.0",
      "model_name": "LayoutModel",
      "state": {}
     },
     "a32c5580c7e54043a26f894040adfbd7": {
      "model_module": "@jupyter-widgets/controls",
      "model_module_version": "1.5.0",
      "model_name": "DescriptionStyleModel",
      "state": {
       "description_width": ""
      }
     },
     "a33f723a88c94305b574964f1e9c8b84": {
      "model_module": "@jupyter-widgets/controls",
      "model_module_version": "1.5.0",
      "model_name": "DropdownModel",
      "state": {
       "_options_labels": [
        "denies",
        "endorses"
       ],
       "description": "past_trauma",
       "index": 1,
       "layout": "IPY_MODEL_f3ab830ad14c40bcb60503d19e5f9870",
       "style": "IPY_MODEL_7172dc48320d4580bf3089e1e65bd989"
      }
     },
     "a364dd78a9ac406887322882421beda4": {
      "model_module": "@jupyter-widgets/base",
      "model_module_version": "1.2.0",
      "model_name": "LayoutModel",
      "state": {}
     },
     "a38563ca12cd44bc9be3e23640127d16": {
      "model_module": "@jupyter-widgets/controls",
      "model_module_version": "1.5.0",
      "model_name": "DescriptionStyleModel",
      "state": {
       "description_width": "150px"
      }
     },
     "a3b577bd8211407e89068b92e36937d2": {
      "model_module": "@jupyter-widgets/controls",
      "model_module_version": "1.5.0",
      "model_name": "DescriptionStyleModel",
      "state": {
       "description_width": "150px"
      }
     },
     "a3c7371369ad425e8b3d23e5c9bb5051": {
      "model_module": "@jupyter-widgets/controls",
      "model_module_version": "1.5.0",
      "model_name": "DescriptionStyleModel",
      "state": {
       "description_width": ""
      }
     },
     "a3cbce6823344155a4ab29ec0db1c662": {
      "model_module": "@jupyter-widgets/output",
      "model_module_version": "1.0.0",
      "model_name": "OutputModel",
      "state": {
       "layout": "IPY_MODEL_c8b0a059de7a43b7ba497eb3a2cf80c1",
       "outputs": [
        {
         "name": "stdout",
         "output_type": "stream",
         "text": "\nSocial History:\nThe patient states that they are single, and have 0 children. \nThey report that they are currently living in sober living. \nThe patient denies any history of legal problems.  \nThe patient endorses a history of abuse.\n\n\n"
        }
       ]
      }
     },
     "a3d0fb472a104520a2baeb167f364aea": {
      "model_module": "@jupyter-widgets/controls",
      "model_module_version": "1.5.0",
      "model_name": "DropdownModel",
      "state": {
       "_options_labels": [
        "good",
        "fair",
        "poor"
       ],
       "description": "energy",
       "index": 2,
       "layout": "IPY_MODEL_f3ab830ad14c40bcb60503d19e5f9870",
       "style": "IPY_MODEL_f34fa39a10504404b0f4794c6571ab0f"
      }
     },
     "a3e3c9c23667450dbf37f03fa4bb91b1": {
      "model_module": "@jupyter-widgets/controls",
      "model_module_version": "1.5.0",
      "model_name": "HBoxModel",
      "state": {
       "children": [
        "IPY_MODEL_f7ff4303a0fc4d8f9c4a8ea24dcc6bf8",
        "IPY_MODEL_a8fa4b58097b4875857b361f6c1628c9"
       ],
       "layout": "IPY_MODEL_2a865556304f486c8b2f7ed3a7f5b5c5"
      }
     },
     "a3e4c208a3764feaa68f97f89f64cd15": {
      "model_module": "@jupyter-widgets/controls",
      "model_module_version": "1.5.0",
      "model_name": "DescriptionStyleModel",
      "state": {
       "description_width": ""
      }
     },
     "a3f27cfa292d4a7d8b4fa8f1ec4f9f78": {
      "model_module": "@jupyter-widgets/output",
      "model_module_version": "1.0.0",
      "model_name": "OutputModel",
      "state": {
       "layout": "IPY_MODEL_2b600027fbfb460b931a349ce5c8e7da",
       "outputs": [
        {
         "name": "stdout",
         "output_type": "stream",
         "text": "\nHistory of Present Illness:\nThe patient states that they decided to come to treatment because . \nPatient reports they have been sober for 4 days.\nThe patient denies withdrawals. The patient denies cravings.\nThe patient declines anti-craving medication.\nThe patient reports their substance use impacted their life negatively  \n \n    \n"
        }
       ]
      }
     },
     "a40241f2ab804c45b72d5416ab423660": {
      "model_module": "@jupyter-widgets/controls",
      "model_module_version": "1.5.0",
      "model_name": "CheckboxModel",
      "state": {
       "description": "Cocaine use disorder Severe",
       "disabled": false,
       "layout": "IPY_MODEL_2dced2f381cb4508b3dfa8b63ec830fc",
       "style": "IPY_MODEL_116f0f202bb44e40b87a72052748660d",
       "value": false
      }
     },
     "a429834afe644328b13bd8af90b51d25": {
      "model_module": "@jupyter-widgets/controls",
      "model_module_version": "1.5.0",
      "model_name": "ComboboxModel",
      "state": {
       "description": "med_compliant",
       "ensure_option": false,
       "layout": "IPY_MODEL_57dff8c6f77e4aad88e092f42ad13209",
       "options": [
        "Patient reports that they have been compliant with their psychotropic medication regimen and denies adverse effects",
        "Patient reports that they have been non-compliant with their psychotropic medication regimen and denies adverse effects"
       ],
       "style": "IPY_MODEL_cd3817a94da24fd2a82ce80c703acf74",
       "value": "Patient reports that they have been compliant with their psychotropic medication regimen and denies adverse effects"
      }
     },
     "a42b1665a93b459297b9d554a0f96bf3": {
      "model_module": "@jupyter-widgets/controls",
      "model_module_version": "1.5.0",
      "model_name": "CheckboxModel",
      "state": {
       "description": "Sedative, hypnotic and/or anxiolytic Use Disorder Severe",
       "disabled": false,
       "layout": "IPY_MODEL_04b07f226da341ac89467cbff83702ad",
       "style": "IPY_MODEL_c358ebd73908481c95358e36021e2550",
       "value": false
      }
     },
     "a4332e374ff14f519dd1479869feff89": {
      "model_module": "@jupyter-widgets/controls",
      "model_module_version": "1.5.0",
      "model_name": "DescriptionStyleModel",
      "state": {
       "description_width": ""
      }
     },
     "a4566efa53d14af49cefa098b5e28003": {
      "model_module": "@jupyter-widgets/controls",
      "model_module_version": "1.5.0",
      "model_name": "DropdownModel",
      "state": {
       "_options_labels": [
        "a history",
        "no history"
       ],
       "description": "eating_disorder",
       "index": 1,
       "layout": "IPY_MODEL_ecfa8b2075df48d78b3e743fdae50eff",
       "style": "IPY_MODEL_726aecb5f0b14614948bcb849ea8c738"
      }
     },
     "a458203f0ad741349f5e08953776ce20": {
      "model_module": "@jupyter-widgets/base",
      "model_module_version": "1.2.0",
      "model_name": "LayoutModel",
      "state": {}
     },
     "a473fe3d87124f8481fd28ee18e56325": {
      "model_module": "@jupyter-widgets/controls",
      "model_module_version": "1.5.0",
      "model_name": "DescriptionStyleModel",
      "state": {
       "description_width": "150px"
      }
     },
     "a475623b2cd549069a34fcc7d39b66ee": {
      "model_module": "@jupyter-widgets/controls",
      "model_module_version": "1.5.0",
      "model_name": "DropdownModel",
      "state": {
       "_options_labels": [
        "good",
        "fair",
        "poor"
       ],
       "description": "appetite",
       "index": 1,
       "layout": "IPY_MODEL_ecfa8b2075df48d78b3e743fdae50eff",
       "style": "IPY_MODEL_3df8cc08d721445fb42cc6e98cdb46ed"
      }
     },
     "a49f6137b8154036938205b7884bd72d": {
      "model_module": "@jupyter-widgets/controls",
      "model_module_version": "1.5.0",
      "model_name": "VBoxModel",
      "state": {
       "_dom_classes": [
        "widget-interact"
       ],
       "children": [
        "IPY_MODEL_1dbf50f32c5e42f98225cb75460e8596",
        "IPY_MODEL_f9af2d9f87f84e0b9d6e8c4e9845fe1a",
        "IPY_MODEL_a633e6a8f77740dfaaf276bfbabd948a",
        "IPY_MODEL_3f88429817714cb6b82d9cb0c5896bb7",
        "IPY_MODEL_ab3e44d76ae24f56b458bc423844b0ce",
        "IPY_MODEL_b619bb5a06ee4e01ab06b1a79da1270f",
        "IPY_MODEL_83663cc7f0ba443e904dfb8d0176d869",
        "IPY_MODEL_e851d78b563c4a748ba5879964b17992"
       ],
       "layout": "IPY_MODEL_8de92873857f45b4a211e67870ffe1f7"
      }
     },
     "a4a83e42e70343409955102eebf6eab5": {
      "model_module": "@jupyter-widgets/controls",
      "model_module_version": "1.5.0",
      "model_name": "DropdownModel",
      "state": {
       "_options_labels": [
        "a history",
        "no history"
       ],
       "description": "psychosis",
       "index": 1,
       "layout": "IPY_MODEL_fa9ec4f225bc40b29e03b63fcbcbd3db",
       "style": "IPY_MODEL_691826a5811942f6a41a80e5ce5a8eb7"
      }
     },
     "a4cfc005fb2d4197988480e7b1d95695": {
      "model_module": "@jupyter-widgets/controls",
      "model_module_version": "1.5.0",
      "model_name": "DescriptionStyleModel",
      "state": {
       "description_width": "150px"
      }
     },
     "a4d641a3d7324b84b2a69ae40cfc4ca8": {
      "model_module": "@jupyter-widgets/controls",
      "model_module_version": "1.5.0",
      "model_name": "DescriptionStyleModel",
      "state": {
       "description_width": ""
      }
     },
     "a4dbb48ca9494295ab501f5868b5008e": {
      "model_module": "@jupyter-widgets/controls",
      "model_module_version": "1.5.0",
      "model_name": "DescriptionStyleModel",
      "state": {
       "description_width": ""
      }
     },
     "a4e23827bcce494eb6e3ce8b4a613a11": {
      "model_module": "@jupyter-widgets/controls",
      "model_module_version": "1.5.0",
      "model_name": "DescriptionStyleModel",
      "state": {
       "description_width": "150px"
      }
     },
     "a50ce31d9934465db5e4ea8b95b5ae51": {
      "model_module": "@jupyter-widgets/controls",
      "model_module_version": "1.5.0",
      "model_name": "DescriptionStyleModel",
      "state": {
       "description_width": ""
      }
     },
     "a50fc1634b644b6084052b630e8564aa": {
      "model_module": "@jupyter-widgets/controls",
      "model_module_version": "1.5.0",
      "model_name": "VBoxModel",
      "state": {
       "_dom_classes": [
        "widget-interact"
       ],
       "children": [
        "IPY_MODEL_e908176930eb4d6e95059e21e4ef2d36",
        "IPY_MODEL_6cb8485ecb1646c3832197b7fd6ccdf9",
        "IPY_MODEL_38a5d0d4f264472380467f12f273473a",
        "IPY_MODEL_15f155367e414ac894ae3a49e70b6bd7",
        "IPY_MODEL_3e3760aaa9264c3cbf2c1eb09f0dd9db",
        "IPY_MODEL_80ebcfcf53ba4ceca73cf488c901ac60",
        "IPY_MODEL_4d166b8b1dd54d06b3c875b77b4412e3"
       ],
       "layout": "IPY_MODEL_39fe689cd67c478183bcf853fed4acf6"
      }
     },
     "a5730333cf644cf8911f136d202a0505": {
      "model_module": "@jupyter-widgets/base",
      "model_module_version": "1.2.0",
      "model_name": "LayoutModel",
      "state": {}
     },
     "a57e30f5e2c74fda88ff58f74ab5087f": {
      "model_module": "@jupyter-widgets/output",
      "model_module_version": "1.0.0",
      "model_name": "OutputModel",
      "state": {
       "layout": "IPY_MODEL_9bbfc400493a42318b0e98547cf66028",
       "outputs": [
        {
         "name": "stdout",
         "output_type": "stream",
         "text": "\nFamily Psychiatric History:\nSubstance abuse\n\n"
        }
       ]
      }
     },
     "a5805e1df04d4634af064cbd3f985d8c": {
      "model_module": "@jupyter-widgets/controls",
      "model_module_version": "1.5.0",
      "model_name": "VBoxModel",
      "state": {
       "_dom_classes": [
        "widget-interact"
       ],
       "children": [
        "IPY_MODEL_4cc1af4ed5ef48f68a501e82be92f995",
        "IPY_MODEL_3677c62dd4814bceaaab022256e5293e",
        "IPY_MODEL_254e5e92e0074113ae157ab606171ed9",
        "IPY_MODEL_abd30916e0974404a46061be4d6ec3b7",
        "IPY_MODEL_5772f115a7d4472b91a8feda9e988243",
        "IPY_MODEL_949bf9e3679c49d9a35e114625b5e084"
       ],
       "layout": "IPY_MODEL_5d6bdaf8494f442cb7a19b42a36a0a91"
      }
     },
     "a58d8e6a45f44b969f3d89b4b8cebcf4": {
      "model_module": "@jupyter-widgets/controls",
      "model_module_version": "1.5.0",
      "model_name": "DescriptionStyleModel",
      "state": {
       "description_width": ""
      }
     },
     "a59367994c2548a9a8cb73cc59a573de": {
      "model_module": "@jupyter-widgets/controls",
      "model_module_version": "1.5.0",
      "model_name": "CheckboxModel",
      "state": {
       "description": "depression",
       "disabled": false,
       "layout": "IPY_MODEL_cdee711470a64e4ba79f9f563069a82d",
       "style": "IPY_MODEL_a257215cf64d4c4298e1f3084b34946d",
       "value": false
      }
     },
     "a5aafeedace64bb4b857a9d44896284d": {
      "model_module": "@jupyter-widgets/controls",
      "model_module_version": "1.5.0",
      "model_name": "DescriptionStyleModel",
      "state": {
       "description_width": ""
      }
     },
     "a5e10f4d1a414aa3bfc7a29d89a3b3c3": {
      "model_module": "@jupyter-widgets/base",
      "model_module_version": "1.2.0",
      "model_name": "LayoutModel",
      "state": {}
     },
     "a62d0e7485b1495591bef60c6ad853da": {
      "model_module": "@jupyter-widgets/controls",
      "model_module_version": "1.5.0",
      "model_name": "CheckboxModel",
      "state": {
       "description": "mushrooms",
       "disabled": false,
       "layout": "IPY_MODEL_8c9e705bb3214fb68e6544554a3bda8f",
       "style": "IPY_MODEL_407ff966bc1840f38bef2fce3cedd127",
       "value": false
      }
     },
     "a633e6a8f77740dfaaf276bfbabd948a": {
      "model_module": "@jupyter-widgets/controls",
      "model_module_version": "1.5.0",
      "model_name": "BoundedIntTextModel",
      "state": {
       "description": "longest_sober_time",
       "layout": "IPY_MODEL_f3ab830ad14c40bcb60503d19e5f9870",
       "style": "IPY_MODEL_e3a2d0b19eb04d39bf10f748cfd5cfa0",
       "value": 100
      }
     },
     "a654b17f720d41a4be8d2165f13a895e": {
      "model_module": "@jupyter-widgets/controls",
      "model_module_version": "1.5.0",
      "model_name": "CheckboxModel",
      "state": {
       "description": "Generalized anxiety disorder",
       "disabled": false,
       "layout": "IPY_MODEL_97b155cad9c34626a47100eab3f044f9",
       "style": "IPY_MODEL_c6e6b2623f6143639cb6ca056063e58e",
       "value": false
      }
     },
     "a67512b807594c21bbc23ae9fb573dfe": {
      "model_module": "@jupyter-widgets/base",
      "model_module_version": "1.2.0",
      "model_name": "LayoutModel",
      "state": {}
     },
     "a6837f4669634605a914dcdb6f282cf4": {
      "model_module": "@jupyter-widgets/controls",
      "model_module_version": "1.5.0",
      "model_name": "TextareaModel",
      "state": {
       "description": "treatment_reason",
       "layout": "IPY_MODEL_57dff8c6f77e4aad88e092f42ad13209",
       "placeholder": "Type Something",
       "style": "IPY_MODEL_bf36b9d9690049ad9289acca1c88c137",
       "value": "\"Seeking stability and safe space\""
      }
     },
     "a683c5849f254d42af5a9446c7295935": {
      "model_module": "@jupyter-widgets/base",
      "model_module_version": "1.2.0",
      "model_name": "LayoutModel",
      "state": {}
     },
     "a692219f735f4224bb17405645aa8d9a": {
      "model_module": "@jupyter-widgets/controls",
      "model_module_version": "1.5.0",
      "model_name": "CheckboxModel",
      "state": {
       "description": "polysubstance",
       "disabled": false,
       "layout": "IPY_MODEL_2c375a5d5d37495fb9fe6c342d59a4f7",
       "style": "IPY_MODEL_16d5d3e453de49c1b8ccf193504aa8d0",
       "value": false
      }
     },
     "a6ba9bf3ca6e4369b65c28dd4b29ebe7": {
      "model_module": "@jupyter-widgets/base",
      "model_module_version": "1.2.0",
      "model_name": "LayoutModel",
      "state": {}
     },
     "a6c4ffc308c04c69b4acd9d5703cc8d4": {
      "model_module": "@jupyter-widgets/controls",
      "model_module_version": "1.5.0",
      "model_name": "ComboboxModel",
      "state": {
       "description": "home",
       "ensure_option": false,
       "layout": "IPY_MODEL_ecfa8b2075df48d78b3e743fdae50eff",
       "options": [
        "in sober living",
        "at home"
       ],
       "style": "IPY_MODEL_4c5b6c1458734e69891d3d65d1f970b2",
       "value": "at home"
      }
     },
     "a6cbf9b48f15482ebbb4c99b6a7bbf82": {
      "model_module": "@jupyter-widgets/base",
      "model_module_version": "1.2.0",
      "model_name": "LayoutModel",
      "state": {}
     },
     "a6e263a6b0384983b25215fbbef71d6a": {
      "model_module": "@jupyter-widgets/controls",
      "model_module_version": "1.5.0",
      "model_name": "DescriptionStyleModel",
      "state": {
       "description_width": ""
      }
     },
     "a6f0a7531304418185a612200af76074": {
      "model_module": "@jupyter-widgets/controls",
      "model_module_version": "1.5.0",
      "model_name": "DescriptionStyleModel",
      "state": {
       "description_width": "150px"
      }
     },
     "a719fda924964c5bab911571ec630a96": {
      "model_module": "@jupyter-widgets/controls",
      "model_module_version": "1.5.0",
      "model_name": "DescriptionStyleModel",
      "state": {
       "description_width": "150px"
      }
     },
     "a741f9733e4541d887c0c97715704e38": {
      "model_module": "@jupyter-widgets/controls",
      "model_module_version": "1.5.0",
      "model_name": "TextareaModel",
      "state": {
       "description": "current_medication",
       "layout": "IPY_MODEL_fa9ec4f225bc40b29e03b63fcbcbd3db",
       "placeholder": "Type something",
       "style": "IPY_MODEL_d2a3608a77e3449ab3e32e9b727a1dab",
       "value": "none"
      }
     },
     "a74d7adf7f8f4f9b8567223bea8ac158": {
      "model_module": "@jupyter-widgets/controls",
      "model_module_version": "1.5.0",
      "model_name": "DescriptionStyleModel",
      "state": {
       "description_width": "150px"
      }
     },
     "a76ceffd30bc4301a779e475a2f3dec4": {
      "model_module": "@jupyter-widgets/controls",
      "model_module_version": "1.5.0",
      "model_name": "DropdownModel",
      "state": {
       "_options_labels": [
        "denies",
        "endorses"
       ],
       "description": "hiv_medical",
       "index": 0,
       "layout": "IPY_MODEL_f3ab830ad14c40bcb60503d19e5f9870",
       "style": "IPY_MODEL_6fe931b09530490fa32291e7f33086ea"
      }
     },
     "a774b563036b4205a4a0dd7345f29a11": {
      "model_module": "@jupyter-widgets/base",
      "model_module_version": "1.2.0",
      "model_name": "LayoutModel",
      "state": {}
     },
     "a77e3ab25d864c1d93e60713a5a76d57": {
      "model_module": "@jupyter-widgets/base",
      "model_module_version": "1.2.0",
      "model_name": "LayoutModel",
      "state": {}
     },
     "a77ee17bdff0467dbae2e8f83da68669": {
      "model_module": "@jupyter-widgets/base",
      "model_module_version": "1.2.0",
      "model_name": "LayoutModel",
      "state": {}
     },
     "a787e89304df49078164f431f46f6b8f": {
      "model_module": "@jupyter-widgets/controls",
      "model_module_version": "1.5.0",
      "model_name": "DescriptionStyleModel",
      "state": {
       "description_width": ""
      }
     },
     "a7b05e5e38df4b9c9bfa26a542f80ef4": {
      "model_module": "@jupyter-widgets/controls",
      "model_module_version": "1.5.0",
      "model_name": "DescriptionStyleModel",
      "state": {
       "description_width": "150px"
      }
     },
     "a835c7df6d5c4015ad4d1fa6366a49b0": {
      "model_module": "@jupyter-widgets/base",
      "model_module_version": "1.2.0",
      "model_name": "LayoutModel",
      "state": {
       "height": "100px",
       "width": "500px"
      }
     },
     "a842b1956e384030b69f63f987171d01": {
      "model_module": "@jupyter-widgets/base",
      "model_module_version": "1.2.0",
      "model_name": "LayoutModel",
      "state": {}
     },
     "a863eb4b530941c8b7fd79e0621ee18c": {
      "model_module": "@jupyter-widgets/controls",
      "model_module_version": "1.5.0",
      "model_name": "DropdownModel",
      "state": {
       "_options_labels": [
        "denies",
        "endorses"
       ],
       "description": "hopelessness",
       "index": 0,
       "layout": "IPY_MODEL_5259318fb468446090efdf421640f15f",
       "style": "IPY_MODEL_905fecf31d7644b58733733bc9a4d062"
      }
     },
     "a8c3389af62a47adb0f19e613d8fbcf5": {
      "model_module": "@jupyter-widgets/controls",
      "model_module_version": "1.5.0",
      "model_name": "DescriptionStyleModel",
      "state": {
       "description_width": "150px"
      }
     },
     "a8d23cc9ea024e6fae625aa96ba734c1": {
      "model_module": "@jupyter-widgets/base",
      "model_module_version": "1.2.0",
      "model_name": "LayoutModel",
      "state": {}
     },
     "a8d4d4f58fb8417db5a2aca6c80c09fa": {
      "model_module": "@jupyter-widgets/controls",
      "model_module_version": "1.5.0",
      "model_name": "DescriptionStyleModel",
      "state": {
       "description_width": "150px"
      }
     },
     "a8e4c1ad400d4a8998a29987121ca11f": {
      "model_module": "@jupyter-widgets/controls",
      "model_module_version": "1.5.0",
      "model_name": "DropdownModel",
      "state": {
       "_options_labels": [
        "denies",
        "endorses"
       ],
       "description": "acute_medical",
       "index": 0,
       "layout": "IPY_MODEL_ecfa8b2075df48d78b3e743fdae50eff",
       "style": "IPY_MODEL_90742d3447de4bb0ad226264ce4474e4"
      }
     },
     "a8f16e07807f48c48956227e8f96255e": {
      "model_module": "@jupyter-widgets/base",
      "model_module_version": "1.2.0",
      "model_name": "LayoutModel",
      "state": {}
     },
     "a8fa4b58097b4875857b361f6c1628c9": {
      "model_module": "@jupyter-widgets/controls",
      "model_module_version": "1.5.0",
      "model_name": "VBoxModel",
      "state": {
       "children": [
        "IPY_MODEL_1550983ecf4741689f3575f8aaf2d64c",
        "IPY_MODEL_1c6531a07a984b2a9a7383fcf1c154cc",
        "IPY_MODEL_80b5d34441e24361984aca7f4d6ee888",
        "IPY_MODEL_f297abce9e264ea89ec0b1a13bd521a5"
       ],
       "layout": "IPY_MODEL_121524710d5143f78af643ea2cdc972f"
      }
     },
     "a986b5c0aa8544d58ba885fb5ac39975": {
      "model_module": "@jupyter-widgets/controls",
      "model_module_version": "1.5.0",
      "model_name": "DescriptionStyleModel",
      "state": {
       "description_width": ""
      }
     },
     "a98bf62092ee465cbd991bf18b438e5d": {
      "model_module": "@jupyter-widgets/controls",
      "model_module_version": "1.5.0",
      "model_name": "HBoxModel",
      "state": {
       "children": [
        "IPY_MODEL_caff9bd3b6c54ef78164a838496d143f",
        "IPY_MODEL_0a351c4733a347a29137a7d9879ddfb4",
        "IPY_MODEL_30fd4100edde447bb4201cf83a4246e8"
       ],
       "layout": "IPY_MODEL_23a4cf3bfddf47728232276c71ba3e2b"
      }
     },
     "a9ae7af71c3b4975b7d1be9e6aa480e5": {
      "model_module": "@jupyter-widgets/base",
      "model_module_version": "1.2.0",
      "model_name": "LayoutModel",
      "state": {}
     },
     "aa1e9f1dcc364402bee64291d6fa343d": {
      "model_module": "@jupyter-widgets/controls",
      "model_module_version": "1.5.0",
      "model_name": "VBoxModel",
      "state": {
       "_dom_classes": [
        "widget-interact"
       ],
       "children": [
        "IPY_MODEL_d2007ecf5f28441c8aa1c133e2da407a",
        "IPY_MODEL_9a74a369b5c5460e8575d69661c614f1",
        "IPY_MODEL_4d22d43d427049fd852423c13ac3c4ba",
        "IPY_MODEL_630e7cb1dbe545f18539bfd087b1c428"
       ],
       "layout": "IPY_MODEL_2a4f364b75664622b1805e04e1f148c3"
      }
     },
     "aa288908af164f5296d273983ece9ebf": {
      "model_module": "@jupyter-widgets/base",
      "model_module_version": "1.2.0",
      "model_name": "LayoutModel",
      "state": {}
     },
     "aa3cb1db939a4ae5baf2513c4d84292e": {
      "model_module": "@jupyter-widgets/controls",
      "model_module_version": "1.5.0",
      "model_name": "TextModel",
      "state": {
       "description": "notes",
       "layout": "IPY_MODEL_57dff8c6f77e4aad88e092f42ad13209",
       "style": "IPY_MODEL_f4aeaaac51c849e1bd0d446600d79b84"
      }
     },
     "aa4b6448ef4145cbb886f039095e0303": {
      "model_module": "@jupyter-widgets/controls",
      "model_module_version": "1.5.0",
      "model_name": "DescriptionStyleModel",
      "state": {
       "description_width": ""
      }
     },
     "aa5c99d34f0240f88771f70d8c049bdc": {
      "model_module": "@jupyter-widgets/controls",
      "model_module_version": "1.5.0",
      "model_name": "CheckboxModel",
      "state": {
       "description": "ecstasy/MDMA",
       "disabled": false,
       "layout": "IPY_MODEL_b48244ac7684419cb86fde22635e91dd",
       "style": "IPY_MODEL_119941e5f1d647bebf908e042228a482",
       "value": false
      }
     },
     "aa63a2286f9a4eff94f7f1041cd43d1c": {
      "model_module": "@jupyter-widgets/controls",
      "model_module_version": "1.5.0",
      "model_name": "DescriptionStyleModel",
      "state": {
       "description_width": "150px"
      }
     },
     "aa643b6bf18744cbabf8d82412b08f5e": {
      "model_module": "@jupyter-widgets/base",
      "model_module_version": "1.2.0",
      "model_name": "LayoutModel",
      "state": {}
     },
     "aa76fc07d08a4c95a7fee497a2274d72": {
      "model_module": "@jupyter-widgets/controls",
      "model_module_version": "1.5.0",
      "model_name": "CheckboxModel",
      "state": {
       "description": "mushrooms",
       "disabled": false,
       "layout": "IPY_MODEL_f4983124f607431fac23f8d3e53b7c77",
       "style": "IPY_MODEL_14e00fd13aba480a8d2d1d0ee6e9d926",
       "value": false
      }
     },
     "aa945b507c4342c9873c7483307c0fd8": {
      "model_module": "@jupyter-widgets/output",
      "model_module_version": "1.0.0",
      "model_name": "OutputModel",
      "state": {
       "layout": "IPY_MODEL_819546f5df4549bcacebb89c2748d736",
       "outputs": [
        {
         "name": "stdout",
         "output_type": "stream",
         "text": "\nLabs and Studies:\nNone currently on file.\n\n"
        }
       ]
      }
     },
     "aaa70e559e3540c39fb96f7a7ba6cd3e": {
      "model_module": "@jupyter-widgets/base",
      "model_module_version": "1.2.0",
      "model_name": "LayoutModel",
      "state": {}
     },
     "aab7c7f7ac0e41b38ed140db849ce10e": {
      "model_module": "@jupyter-widgets/controls",
      "model_module_version": "1.5.0",
      "model_name": "DropdownModel",
      "state": {
       "_options_labels": [
        "a history",
        "no history"
       ],
       "description": "learning_disabilties",
       "index": 1,
       "layout": "IPY_MODEL_fa9ec4f225bc40b29e03b63fcbcbd3db",
       "style": "IPY_MODEL_2892c7ca407d40c4ab7ff63b50868a37"
      }
     },
     "aacb1b0aa7e54f8c8cb710a2f3aa228f": {
      "model_module": "@jupyter-widgets/controls",
      "model_module_version": "1.5.0",
      "model_name": "CheckboxModel",
      "state": {
       "description": "Post-traumatic stress disorder",
       "disabled": false,
       "layout": "IPY_MODEL_fae3784c296e4836a12ec563769a9918",
       "style": "IPY_MODEL_2897581d05a44eb0bfd4cabd54c998a6",
       "value": false
      }
     },
     "aae144a7d21341af8de18c7f1e88c9e0": {
      "model_module": "@jupyter-widgets/controls",
      "model_module_version": "1.5.0",
      "model_name": "CheckboxModel",
      "state": {
       "description": "bipolar II disorder",
       "disabled": false,
       "layout": "IPY_MODEL_81e18646bfad4c738e5298bc4612bc1d",
       "style": "IPY_MODEL_0bec9cf4fbce4314939d2318702c3457",
       "value": false
      }
     },
     "ab24e45ded7943aaaab7af554b409664": {
      "model_module": "@jupyter-widgets/controls",
      "model_module_version": "1.5.0",
      "model_name": "DropdownModel",
      "state": {
       "_options_labels": [
        "denies",
        "endorses"
       ],
       "description": "abuse",
       "index": 0,
       "layout": "IPY_MODEL_f3ab830ad14c40bcb60503d19e5f9870",
       "style": "IPY_MODEL_9d2f9e41c6dd465aa25462adadc1f411"
      }
     },
     "ab34a3966fda404aa194084e25d24659": {
      "model_module": "@jupyter-widgets/controls",
      "model_module_version": "1.5.0",
      "model_name": "DropdownModel",
      "state": {
       "_options_labels": [
        "denies",
        "endorses"
       ],
       "description": "current_trauma",
       "index": 0,
       "layout": "IPY_MODEL_ecfa8b2075df48d78b3e743fdae50eff",
       "style": "IPY_MODEL_33496fb638b54d4fb39d1b6e9d4f9f0e"
      }
     },
     "ab3e44d76ae24f56b458bc423844b0ce": {
      "model_module": "@jupyter-widgets/controls",
      "model_module_version": "1.5.0",
      "model_name": "DropdownModel",
      "state": {
       "_options_labels": [
        "denies",
        "endorses"
       ],
       "description": "ivdu",
       "index": 1,
       "layout": "IPY_MODEL_f3ab830ad14c40bcb60503d19e5f9870",
       "style": "IPY_MODEL_59e6ffbda2a644fbb43a625e715dc09d"
      }
     },
     "ab6fd612d98f47ad8c1414f90b43f03c": {
      "model_module": "@jupyter-widgets/controls",
      "model_module_version": "1.5.0",
      "model_name": "TextModel",
      "state": {
       "description": "outpatient_psychiatrist",
       "layout": "IPY_MODEL_f3ab830ad14c40bcb60503d19e5f9870",
       "style": "IPY_MODEL_3629918e4b5348d09e7ccfa9b3ad8cd5",
       "value": "None"
      }
     },
     "abd183a386214c67bb4fed343231e0da": {
      "model_module": "@jupyter-widgets/controls",
      "model_module_version": "1.5.0",
      "model_name": "VBoxModel",
      "state": {
       "_dom_classes": [
        "widget-interact"
       ],
       "children": [
        "IPY_MODEL_2b5919b1e91f4c9f9f7de56f8218ed95",
        "IPY_MODEL_b39ac4db600d445b978d31c9ea5cc868",
        "IPY_MODEL_1ad8365e730847308d742e150d35687a",
        "IPY_MODEL_e1e14e41e38f46a189e8116b50719de3",
        "IPY_MODEL_2372100ae1a6483ba9e16e17d21880ae",
        "IPY_MODEL_6befca79d8db4049a319058bc0434a55"
       ],
       "layout": "IPY_MODEL_50a7a413793243099e91af896da7ec87"
      }
     },
     "abd30916e0974404a46061be4d6ec3b7": {
      "model_module": "@jupyter-widgets/controls",
      "model_module_version": "1.5.0",
      "model_name": "ComboboxModel",
      "state": {
       "description": "med_statement",
       "ensure_option": false,
       "layout": "IPY_MODEL_ecfa8b2075df48d78b3e743fdae50eff",
       "options": [
        "Patient declines psychotropic medication and elects for more conservative approaches to psychiatric symptom management at this time."
       ],
       "style": "IPY_MODEL_3f34017cbd91496cab318d51c4663f7c",
       "value": "Patient declines psychotropic medication and elects for more conservative approaches to psychiatric symptom management at this time."
      }
     },
     "abe1853245de4da6b06bba1827cf8689": {
      "model_module": "@jupyter-widgets/base",
      "model_module_version": "1.2.0",
      "model_name": "LayoutModel",
      "state": {}
     },
     "abe94fcd519e477da3daa7b3996f6c49": {
      "model_module": "@jupyter-widgets/controls",
      "model_module_version": "1.5.0",
      "model_name": "HBoxModel",
      "state": {
       "children": [
        "IPY_MODEL_062f2513266f4e7aacb626e2283721b1",
        "IPY_MODEL_7d4f6c7eb9da45628f2ec5256c3a442b",
        "IPY_MODEL_8e5e04185bbc4e90ae7b532c223ce525"
       ],
       "layout": "IPY_MODEL_a6ba9bf3ca6e4369b65c28dd4b29ebe7"
      }
     },
     "ac2006e8487f4ce993578f658eb14341": {
      "model_module": "@jupyter-widgets/base",
      "model_module_version": "1.2.0",
      "model_name": "LayoutModel",
      "state": {}
     },
     "ac2559d5d869452a98b218fefac7dd01": {
      "model_module": "@jupyter-widgets/controls",
      "model_module_version": "1.5.0",
      "model_name": "DescriptionStyleModel",
      "state": {
       "description_width": "150px"
      }
     },
     "ac2c3bd7eefe45bc95692ccdbac77be8": {
      "model_module": "@jupyter-widgets/controls",
      "model_module_version": "1.5.0",
      "model_name": "BoundedIntTextModel",
      "state": {
       "description": "longest_sober_time",
       "layout": "IPY_MODEL_ecfa8b2075df48d78b3e743fdae50eff",
       "style": "IPY_MODEL_5d5647aaea9c443494e6d406cbdaa2d4",
       "value": 5
      }
     },
     "ac4f6238a868446d904b6c5de8b69f14": {
      "model_module": "@jupyter-widgets/base",
      "model_module_version": "1.2.0",
      "model_name": "LayoutModel",
      "state": {}
     },
     "acb12f90bad246c7b256cf3a21ce5b01": {
      "model_module": "@jupyter-widgets/controls",
      "model_module_version": "1.5.0",
      "model_name": "TextareaModel",
      "state": {
       "description": "notes",
       "layout": "IPY_MODEL_fa9ec4f225bc40b29e03b63fcbcbd3db",
       "style": "IPY_MODEL_6fdf487f4b714f1d9a3a4031adf8c69a"
      }
     },
     "acb2307751864c3cbab497d599114e87": {
      "model_module": "@jupyter-widgets/output",
      "model_module_version": "1.0.0",
      "model_name": "OutputModel",
      "state": {
       "layout": "IPY_MODEL_f44aeeed11c84376addf4fe455dd68a0",
       "outputs": [
        {
         "name": "stdout",
         "output_type": "stream",
         "text": "\nPsychiatric History: \nPatient denies any history of psychiatric hospitalizations. \nPatient denies suicide attempts, \nPatient denies self-injurious behavior. \nPrevious meds: None \nCurrent outpatient psychiatrist: None\n\n\n"
        }
       ]
      }
     },
     "acc3b0075f2a46a98f79347864d3e90d": {
      "model_module": "@jupyter-widgets/controls",
      "model_module_version": "1.5.0",
      "model_name": "DescriptionStyleModel",
      "state": {
       "description_width": "150px"
      }
     },
     "acd53a5b71ed4ebda6f811e31c41d0e5": {
      "model_module": "@jupyter-widgets/controls",
      "model_module_version": "1.5.0",
      "model_name": "DescriptionStyleModel",
      "state": {
       "description_width": "150px"
      }
     },
     "acee5da9d40345d890b7d351cc9cbb71": {
      "model_module": "@jupyter-widgets/controls",
      "model_module_version": "1.5.0",
      "model_name": "CheckboxModel",
      "state": {
       "description": "Major depressive disorder, rec, mod",
       "disabled": false,
       "layout": "IPY_MODEL_f1e045a71c2e4a01b684c5c209d37a8a",
       "style": "IPY_MODEL_6a583e4e33934e818cddb6c83f08eb16",
       "value": false
      }
     },
     "ad1a191ec9f3418f88e85bdc550518fc": {
      "model_module": "@jupyter-widgets/controls",
      "model_module_version": "1.5.0",
      "model_name": "DescriptionStyleModel",
      "state": {
       "description_width": ""
      }
     },
     "ad2be4c8c58f48b68c450f8370ce8e75": {
      "model_module": "@jupyter-widgets/controls",
      "model_module_version": "1.5.0",
      "model_name": "DescriptionStyleModel",
      "state": {
       "description_width": "150px"
      }
     },
     "ad4e74c347b445df80d297306d896403": {
      "model_module": "@jupyter-widgets/base",
      "model_module_version": "1.2.0",
      "model_name": "LayoutModel",
      "state": {}
     },
     "ad5a9dad1be64fbdb8fb94ecf30e959e": {
      "model_module": "@jupyter-widgets/base",
      "model_module_version": "1.2.0",
      "model_name": "LayoutModel",
      "state": {}
     },
     "adc099d119ed4de5b8c1f15c389ec4b5": {
      "model_module": "@jupyter-widgets/base",
      "model_module_version": "1.2.0",
      "model_name": "LayoutModel",
      "state": {}
     },
     "adda7367321d4b98a9172cb68906242c": {
      "model_module": "@jupyter-widgets/controls",
      "model_module_version": "1.5.0",
      "model_name": "DescriptionStyleModel",
      "state": {
       "description_width": "150px"
      }
     },
     "ae030b6f869048a3a6d764e7cb00bf12": {
      "model_module": "@jupyter-widgets/controls",
      "model_module_version": "1.5.0",
      "model_name": "DescriptionStyleModel",
      "state": {
       "description_width": ""
      }
     },
     "ae2ca727a3e048e68ed59ef1143be3f9": {
      "model_module": "@jupyter-widgets/base",
      "model_module_version": "1.2.0",
      "model_name": "LayoutModel",
      "state": {}
     },
     "ae321ea0341f4082a4310e43c927cf00": {
      "model_module": "@jupyter-widgets/controls",
      "model_module_version": "1.5.0",
      "model_name": "DescriptionStyleModel",
      "state": {
       "description_width": "150px"
      }
     },
     "ae4353285392446c9e9115a37ebaa2e9": {
      "model_module": "@jupyter-widgets/controls",
      "model_module_version": "1.5.0",
      "model_name": "TextareaModel",
      "state": {
       "description": "notes",
       "layout": "IPY_MODEL_ecfa8b2075df48d78b3e743fdae50eff",
       "style": "IPY_MODEL_e9dd2162dc164b18a06bce9730092dd7",
       "value": "sammy"
      }
     },
     "ae79b7eb6c4949b6bc716881d73c87c6": {
      "model_module": "@jupyter-widgets/controls",
      "model_module_version": "1.5.0",
      "model_name": "DescriptionStyleModel",
      "state": {
       "description_width": "150px"
      }
     },
     "aeca018d86ef4c2fbdd8cbfca382fe6d": {
      "model_module": "@jupyter-widgets/controls",
      "model_module_version": "1.5.0",
      "model_name": "TextareaModel",
      "state": {
       "description": "treatment_reason",
       "layout": "IPY_MODEL_64f3493d9e7e4cd79d693795fcd61555",
       "placeholder": "Type Something",
       "style": "IPY_MODEL_91f13cbd880f4998b45b2d309ee13ce5"
      }
     },
     "aecc2e7ef2314287a1c2b6924be54760": {
      "model_module": "@jupyter-widgets/base",
      "model_module_version": "1.2.0",
      "model_name": "LayoutModel",
      "state": {}
     },
     "aeea4135203b4445bdbc8987b2df87d7": {
      "model_module": "@jupyter-widgets/base",
      "model_module_version": "1.2.0",
      "model_name": "LayoutModel",
      "state": {}
     },
     "aeee777d054344d6b5e725dcf8284204": {
      "model_module": "@jupyter-widgets/base",
      "model_module_version": "1.2.0",
      "model_name": "LayoutModel",
      "state": {}
     },
     "aef623d1ba0d4c27826655d48724bacb": {
      "model_module": "@jupyter-widgets/controls",
      "model_module_version": "1.5.0",
      "model_name": "ComboboxModel",
      "state": {
       "description": "med_compliant",
       "ensure_option": false,
       "layout": "IPY_MODEL_64f3493d9e7e4cd79d693795fcd61555",
       "options": [
        "Patient reports that they have been compliant with their psychotropic medication regimen and denies adverse effects",
        "Patient reports that they have been non-compliant with their psychotropic medication regimen and denies adverse effects"
       ],
       "style": "IPY_MODEL_3931a977c6f14d7a8920f4c297e289a0"
      }
     },
     "af01c6f8034b42b4893c6e2ed127f2ae": {
      "model_module": "@jupyter-widgets/base",
      "model_module_version": "1.2.0",
      "model_name": "LayoutModel",
      "state": {}
     },
     "af0b453b9b254c1c8e3527cfe4e60b15": {
      "model_module": "@jupyter-widgets/controls",
      "model_module_version": "1.5.0",
      "model_name": "CheckboxModel",
      "state": {
       "description": "Major depressive disorder, rec, mod",
       "disabled": false,
       "layout": "IPY_MODEL_f8d86dd027ea4813a65bb82c89b1456e",
       "style": "IPY_MODEL_67c43c9ada9f4451893554dc98e340c5",
       "value": false
      }
     },
     "af105eda4f854e27adc0937eef2908a5": {
      "model_module": "@jupyter-widgets/controls",
      "model_module_version": "1.5.0",
      "model_name": "DescriptionStyleModel",
      "state": {
       "description_width": "150px"
      }
     },
     "af3696ffd4684866a0bb04deced18fd3": {
      "model_module": "@jupyter-widgets/base",
      "model_module_version": "1.2.0",
      "model_name": "LayoutModel",
      "state": {}
     },
     "af5e5a9a22174824a076fafaf0ea932b": {
      "model_module": "@jupyter-widgets/controls",
      "model_module_version": "1.5.0",
      "model_name": "DropdownModel",
      "state": {
       "_options_labels": [
        "denies",
        "endorses"
       ],
       "description": "withdrawals_choice",
       "index": 0,
       "layout": "IPY_MODEL_57dff8c6f77e4aad88e092f42ad13209",
       "style": "IPY_MODEL_47e7b838e9a74ac1b324ca7566e07291"
      }
     },
     "af5fc9199d4c4eae8da5356400375951": {
      "model_module": "@jupyter-widgets/output",
      "model_module_version": "1.0.0",
      "model_name": "OutputModel",
      "state": {
       "layout": "IPY_MODEL_150e9ad1cf174c0fa84829c26a3a2b38",
       "outputs": [
        {
         "name": "stdout",
         "output_type": "stream",
         "text": "\nMental Status Examination: \nAppearance: WD/WN, looks stated age, fair grooming and hygiene, casually dressed\nBehavior: Calm, cooperative, fair eye contact\nPsychomotor: No activation or retardation\nSpeech: Fluent, spontaneous\nMood: “It’s pretty good.” \nAffect: Euthymic, full-range, congruent with mood\nThought Process: Linear, logical\nThought Content: Denies SI/HI/AH/VH/delusions\nInsight/Judgement: Limited to fair/Fair\n\n"
        }
       ]
      }
     },
     "af6279a31a7a4abfb89d6e97f7bddec7": {
      "model_module": "@jupyter-widgets/controls",
      "model_module_version": "1.5.0",
      "model_name": "BoundedIntTextModel",
      "state": {
       "description": "num_children",
       "layout": "IPY_MODEL_f3ab830ad14c40bcb60503d19e5f9870",
       "style": "IPY_MODEL_3e4e33754c3c4d139739b80514714b30",
       "value": 3
      }
     },
     "afa07f45f76d483b849f6f638675e6f4": {
      "model_module": "@jupyter-widgets/controls",
      "model_module_version": "1.5.0",
      "model_name": "CheckboxModel",
      "state": {
       "description": "methamphetamine",
       "disabled": false,
       "layout": "IPY_MODEL_28c0899083b3424b85761990fa8680f7",
       "style": "IPY_MODEL_0e22a5d4d01d484eb62769e0307da712",
       "value": false
      }
     },
     "afbad395b5654ba285bdf4a3108c7f93": {
      "model_module": "@jupyter-widgets/base",
      "model_module_version": "1.2.0",
      "model_name": "LayoutModel",
      "state": {}
     },
     "afdac7b5421040378970fdd034a67ddb": {
      "model_module": "@jupyter-widgets/base",
      "model_module_version": "1.2.0",
      "model_name": "LayoutModel",
      "state": {}
     },
     "afe00d87aa7940618d510143a477911b": {
      "model_module": "@jupyter-widgets/output",
      "model_module_version": "1.0.0",
      "model_name": "OutputModel",
      "state": {
       "layout": "IPY_MODEL_cc7e5d3df79c4920a76bbc2904178dda",
       "outputs": [
        {
         "name": "stdout",
         "output_type": "stream",
         "text": "\nThe patient reported no history of mania.\nThe patient reported no history of psychosis. \nThe patient reported no history of  learning disabilities, OCD or tics. \nThe patient reported no history of an eating disorder. \nThe patient reported no history of compulsive gambling, problematic internet/video game use, compulsive shopping, or sexual addiction. \n\n\n"
        }
       ]
      }
     },
     "aff05d9387b2401db3b1f4e68005956b": {
      "model_module": "@jupyter-widgets/controls",
      "model_module_version": "1.5.0",
      "model_name": "DropdownModel",
      "state": {
       "_options_labels": [
        "days",
        "months",
        "years"
       ],
       "description": "sober_period",
       "index": 0,
       "layout": "IPY_MODEL_5259318fb468446090efdf421640f15f",
       "style": "IPY_MODEL_21c8035b2fc84ec1a863d4e2b67836e7"
      }
     },
     "aff5c85727f34d93a820d7f0f4b6d643": {
      "model_module": "@jupyter-widgets/controls",
      "model_module_version": "1.5.0",
      "model_name": "CheckboxModel",
      "state": {
       "description": "LSD",
       "disabled": false,
       "layout": "IPY_MODEL_09c1abb807854a3cbe17b70c2ae351e6",
       "style": "IPY_MODEL_c3f12ee7fc724bec925bebe0737d5c9a",
       "value": false
      }
     },
     "b001c90d07d04f98ba5920d3cc04df57": {
      "model_module": "@jupyter-widgets/controls",
      "model_module_version": "1.5.0",
      "model_name": "DescriptionStyleModel",
      "state": {
       "description_width": "150px"
      }
     },
     "b03b53f7481444b2a8e1459b2001b401": {
      "model_module": "@jupyter-widgets/controls",
      "model_module_version": "1.5.0",
      "model_name": "DescriptionStyleModel",
      "state": {
       "description_width": ""
      }
     },
     "b04139923ac5487e97606804acff27dc": {
      "model_module": "@jupyter-widgets/controls",
      "model_module_version": "1.5.0",
      "model_name": "DescriptionStyleModel",
      "state": {
       "description_width": "150px"
      }
     },
     "b0aa77b3ad2d4498b687c08428f78c95": {
      "model_module": "@jupyter-widgets/controls",
      "model_module_version": "1.5.0",
      "model_name": "TextareaModel",
      "state": {
       "description": "previous_meds",
       "layout": "IPY_MODEL_f3ab830ad14c40bcb60503d19e5f9870",
       "style": "IPY_MODEL_b76c8d9ffc074f36a66b882eda75e158",
       "value": "None"
      }
     },
     "b0afc77961f746118699935f49589a8b": {
      "model_module": "@jupyter-widgets/controls",
      "model_module_version": "1.5.0",
      "model_name": "DescriptionStyleModel",
      "state": {
       "description_width": "150px"
      }
     },
     "b0dae254e9e446f6a5a8abdc82e82bd8": {
      "model_module": "@jupyter-widgets/controls",
      "model_module_version": "1.5.0",
      "model_name": "DescriptionStyleModel",
      "state": {
       "description_width": "150px"
      }
     },
     "b1156594443f4c54853e63ce8f57fdc1": {
      "model_module": "@jupyter-widgets/controls",
      "model_module_version": "1.5.0",
      "model_name": "HBoxModel",
      "state": {
       "children": [
        "IPY_MODEL_0f6e43b689d34d5a8a826c9362588cfb"
       ],
       "layout": "IPY_MODEL_d826e578bcc8461791efc792b147de05"
      }
     },
     "b11b4d60a48845d2b77e01313f9d3aa1": {
      "model_module": "@jupyter-widgets/base",
      "model_module_version": "1.2.0",
      "model_name": "LayoutModel",
      "state": {}
     },
     "b11e709ca96f45069d568d327edb67f3": {
      "model_module": "@jupyter-widgets/base",
      "model_module_version": "1.2.0",
      "model_name": "LayoutModel",
      "state": {}
     },
     "b11ed5bcfcab4670af0be1b6f7ba003e": {
      "model_module": "@jupyter-widgets/base",
      "model_module_version": "1.2.0",
      "model_name": "LayoutModel",
      "state": {}
     },
     "b1b616b3c5304e7a96815f78c405a58f": {
      "model_module": "@jupyter-widgets/controls",
      "model_module_version": "1.5.0",
      "model_name": "DescriptionStyleModel",
      "state": {
       "description_width": "150px"
      }
     },
     "b1f5b4b67ff74d30a3b8e6836841b957": {
      "model_module": "@jupyter-widgets/controls",
      "model_module_version": "1.5.0",
      "model_name": "DescriptionStyleModel",
      "state": {
       "description_width": "150px"
      }
     },
     "b230114bb81e48e6a33f96ec3305878d": {
      "model_module": "@jupyter-widgets/controls",
      "model_module_version": "1.5.0",
      "model_name": "TextModel",
      "state": {
       "description": "outpatient_psychiatrist",
       "layout": "IPY_MODEL_5259318fb468446090efdf421640f15f",
       "style": "IPY_MODEL_058100ab06274b96811bcc8e45c358a2",
       "value": "None"
      }
     },
     "b23fa6cda45c46ed86c61de1f6ed1a64": {
      "model_module": "@jupyter-widgets/base",
      "model_module_version": "1.2.0",
      "model_name": "LayoutModel",
      "state": {}
     },
     "b25c5a315c8c40f09c8b7ba171f92b91": {
      "model_module": "@jupyter-widgets/controls",
      "model_module_version": "1.5.0",
      "model_name": "DescriptionStyleModel",
      "state": {
       "description_width": "150px"
      }
     },
     "b26805628f224195a4a87e46dfcb339f": {
      "model_module": "@jupyter-widgets/controls",
      "model_module_version": "1.5.0",
      "model_name": "CheckboxModel",
      "state": {
       "description": "Bipolar I disorder",
       "disabled": false,
       "layout": "IPY_MODEL_20fc0f5c2a4b4bc2b08eb9bcf9b88414",
       "style": "IPY_MODEL_53f32d8e361d4ad2ac7228a2f6b00e16",
       "value": false
      }
     },
     "b27908a1f89f49958f37aba66a0b2b6f": {
      "model_module": "@jupyter-widgets/controls",
      "model_module_version": "1.5.0",
      "model_name": "VBoxModel",
      "state": {
       "_dom_classes": [
        "widget-interact"
       ],
       "children": [
        "IPY_MODEL_3d3c9556f8014fafa8e733c1b5bc7e94",
        "IPY_MODEL_5de465972362411399a3810bccab5749"
       ],
       "layout": "IPY_MODEL_29e6601b8eb442b38eaaa4d6e217f202"
      }
     },
     "b2835d5a19c1453fa5708246056c9954": {
      "model_module": "@jupyter-widgets/controls",
      "model_module_version": "1.5.0",
      "model_name": "DescriptionStyleModel",
      "state": {
       "description_width": ""
      }
     },
     "b28ddf1bc75c4d4a86d34e4e580e73ab": {
      "model_module": "@jupyter-widgets/base",
      "model_module_version": "1.2.0",
      "model_name": "LayoutModel",
      "state": {}
     },
     "b2b1f4e10ff642a2acd96084ca7bf6ba": {
      "model_module": "@jupyter-widgets/controls",
      "model_module_version": "1.5.0",
      "model_name": "DropdownModel",
      "state": {
       "_options_labels": [
        "deny",
        "indicate"
       ],
       "description": "past_depression",
       "index": 1,
       "layout": "IPY_MODEL_ecfa8b2075df48d78b3e743fdae50eff",
       "style": "IPY_MODEL_e9e7667f5dc441a398dd92783cc870d9"
      }
     },
     "b2b3d7f7b8784f44ab0b55991eb4fcc2": {
      "model_module": "@jupyter-widgets/controls",
      "model_module_version": "1.5.0",
      "model_name": "DropdownModel",
      "state": {
       "_options_labels": [
        "denies",
        "endorses"
       ],
       "description": "abuse",
       "index": 0,
       "layout": "IPY_MODEL_64f3493d9e7e4cd79d693795fcd61555",
       "style": "IPY_MODEL_008c9b650d8c444699f2af29feaa844f"
      }
     },
     "b2f0dd5c07714b69b18726912c43e152": {
      "model_module": "@jupyter-widgets/controls",
      "model_module_version": "1.5.0",
      "model_name": "DescriptionStyleModel",
      "state": {
       "description_width": ""
      }
     },
     "b2fb7a46746a4443a9cba0c87fe52c10": {
      "model_module": "@jupyter-widgets/controls",
      "model_module_version": "1.5.0",
      "model_name": "DescriptionStyleModel",
      "state": {
       "description_width": ""
      }
     },
     "b30d10f4124545e78ec6e41a6aed9f72": {
      "model_module": "@jupyter-widgets/output",
      "model_module_version": "1.0.0",
      "model_name": "OutputModel",
      "state": {
       "layout": "IPY_MODEL_68e96a04a865469b9ab881038bfe1cf3",
       "outputs": [
        {
         "name": "stdout",
         "output_type": "stream",
         "text": "\nPsychiatric History: \nPatient denies any history of psychiatric hospitalizations. \nPatient denies suicide attempts, \nPatient denies self-injurious behavior. \nPrevious meds: Hydroxyzine 50 mg BID \nProzac 60 mg qd, 40 + 20 during menstrual- 4 years\nGabapentin 600mg BID\nClonidine 0.1 mg prn anxiety \nTrazodone 100-200mg qhs prn insomnia \nCurrent outpatient psychiatrist: None\n4 years ago started seeing psychiatrist\n\n\n"
        }
       ]
      }
     },
     "b314ca204e5f4c96aa9b3f2360c0a86f": {
      "model_module": "@jupyter-widgets/base",
      "model_module_version": "1.2.0",
      "model_name": "LayoutModel",
      "state": {}
     },
     "b33946794e1547d4b52ed04f3d635a80": {
      "model_module": "@jupyter-widgets/controls",
      "model_module_version": "1.5.0",
      "model_name": "TextareaModel",
      "state": {
       "description": "notes",
       "layout": "IPY_MODEL_ecfa8b2075df48d78b3e743fdae50eff",
       "style": "IPY_MODEL_6390ea01c63f40ccb2fcb6601b1a2cd8",
       "value": "psych diorders"
      }
     },
     "b3785733b9f04c8ca11090b23f525059": {
      "model_module": "@jupyter-widgets/controls",
      "model_module_version": "1.5.0",
      "model_name": "DescriptionStyleModel",
      "state": {
       "description_width": ""
      }
     },
     "b387b89c81244ef68b67e3b09df93629": {
      "model_module": "@jupyter-widgets/base",
      "model_module_version": "1.2.0",
      "model_name": "LayoutModel",
      "state": {}
     },
     "b3885a964f4b4bc3999bf185561e00f0": {
      "model_module": "@jupyter-widgets/controls",
      "model_module_version": "1.5.0",
      "model_name": "DropdownModel",
      "state": {
       "_options_labels": [
        "declines",
        "elects to start",
        "would like to continue with"
       ],
       "description": "anti_cravings_choice",
       "index": 0,
       "layout": "IPY_MODEL_57dff8c6f77e4aad88e092f42ad13209",
       "style": "IPY_MODEL_4a7558c0d735442dbd490c130393c406"
      }
     },
     "b3988c59c43a4ea2ad64b952612ad5ec": {
      "model_module": "@jupyter-widgets/controls",
      "model_module_version": "1.5.0",
      "model_name": "CheckboxModel",
      "state": {
       "description": "schizophrenia",
       "disabled": false,
       "layout": "IPY_MODEL_ac2006e8487f4ce993578f658eb14341",
       "style": "IPY_MODEL_34c6b23703a9496a981db07ddbae6bbb",
       "value": false
      }
     },
     "b39ac4db600d445b978d31c9ea5cc868": {
      "model_module": "@jupyter-widgets/controls",
      "model_module_version": "1.5.0",
      "model_name": "DropdownModel",
      "state": {
       "_options_labels": [
        "denies",
        "endorses"
       ],
       "description": "hiv_medical",
       "index": 0,
       "layout": "IPY_MODEL_5259318fb468446090efdf421640f15f",
       "style": "IPY_MODEL_19b753795dbb404cbe41a00c96d21268"
      }
     },
     "b39f2e05cd8d4fa6ac123320cd180666": {
      "model_module": "@jupyter-widgets/controls",
      "model_module_version": "1.5.0",
      "model_name": "CheckboxModel",
      "state": {
       "description": "anxiety",
       "disabled": false,
       "layout": "IPY_MODEL_bf42ab969f0a4c84affcf9db147d2e62",
       "style": "IPY_MODEL_c070db4ae0774ae497d36583564c69a0",
       "value": true
      }
     },
     "b3a067ffde314cbbbaf42204f68cb653": {
      "model_module": "@jupyter-widgets/base",
      "model_module_version": "1.2.0",
      "model_name": "LayoutModel",
      "state": {}
     },
     "b3a77fabe91a40328051c67260301564": {
      "model_module": "@jupyter-widgets/controls",
      "model_module_version": "1.5.0",
      "model_name": "DescriptionStyleModel",
      "state": {
       "description_width": ""
      }
     },
     "b3b9020e7a44410298f7babe23ac13a6": {
      "model_module": "@jupyter-widgets/controls",
      "model_module_version": "1.5.0",
      "model_name": "DescriptionStyleModel",
      "state": {
       "description_width": "150px"
      }
     },
     "b3feabc5fcb64d79be9d6286cec6b96a": {
      "model_module": "@jupyter-widgets/controls",
      "model_module_version": "1.5.0",
      "model_name": "CheckboxModel",
      "state": {
       "description": "Cannabis use disorder Severe",
       "disabled": false,
       "layout": "IPY_MODEL_281899131288430d9d26ecd5c27b1b7b",
       "style": "IPY_MODEL_90ab7c84966f495893bdac61e435e769",
       "value": false
      }
     },
     "b44665c56eca41c2a5302e02e29f26d6": {
      "model_module": "@jupyter-widgets/output",
      "model_module_version": "1.0.0",
      "model_name": "OutputModel",
      "state": {
       "layout": "IPY_MODEL_0e49c864cf9f4eba9ae9d905180a1bd6",
       "outputs": [
        {
         "name": "stdout",
         "output_type": "stream",
         "text": "\nPsychiatric History: \nPatient endorses any history of psychiatric hospitalizations. \nPatient denies suicide attempts, \nPatient endorses self-injurious behavior. \nPrevious meds: None \nCurrent outpatient psychiatrist: None\nReports hx of 1 psych hosp in 2017 when she was diagnosed with bipolar disorder. Reports she was sober at the time. Reports 1 episode of suicide attempt in 2017 \"I tried to take a whole bunch of pills. I used to cut, instead of cutting I started getting tattoos. Last had a tattoo last month.\"\n\n"
        }
       ]
      }
     },
     "b482388b39874883875c0a506a0112dc": {
      "model_module": "@jupyter-widgets/output",
      "model_module_version": "1.0.0",
      "model_name": "OutputModel",
      "state": {
       "layout": "IPY_MODEL_df8025be05e04deabfbb2db2c5afc3bc",
       "outputs": [
        {
         "name": "stdout",
         "output_type": "stream",
         "text": "\nThis patient denies current depressed mood. \nOver the past several weeks, the patient denies sustained sadness, denies excessive guilt. \nThe patient denies anhedonia.\nThe patient reports poor ability to concentrate. \nThe patient denies issues with sleep. \nThe patient reports good appetite.\nReports poor energy level. \nThe patient denies hopelessness, worthlessness, SI/HI/AH/VH/delusions.\nThey indicate they have experienced depressive episodes lasting longer than two weeks in the absence of substance use.\nThe patient denies current decreased need for sleep, euphoria \nor grandiosity or irritability, flights of idea, impulsivity, uncharacteristic talkativeness or rapid speech.\nReports hx of bipolar disorder in 2017 following a manic episode. \n\n"
        }
       ]
      }
     },
     "b48244ac7684419cb86fde22635e91dd": {
      "model_module": "@jupyter-widgets/base",
      "model_module_version": "1.2.0",
      "model_name": "LayoutModel",
      "state": {}
     },
     "b4a5ca3a8043426bbe41f91e180e5bfe": {
      "model_module": "@jupyter-widgets/base",
      "model_module_version": "1.2.0",
      "model_name": "LayoutModel",
      "state": {}
     },
     "b4a613b38ef84a23a75080e0913be199": {
      "model_module": "@jupyter-widgets/controls",
      "model_module_version": "1.5.0",
      "model_name": "VBoxModel",
      "state": {
       "children": [
        "IPY_MODEL_8d227bc42492462ca0597f4f11cc46e0",
        "IPY_MODEL_c77a3841344e4a08bdc49214dda6fc6e",
        "IPY_MODEL_60728e91c7a8480faa98296bd6487e02",
        "IPY_MODEL_6abedc12ceec45c5a54aa918a0daff37"
       ],
       "layout": "IPY_MODEL_b8538c40317448aea82da099a80f8cbe"
      }
     },
     "b4b838e03d7f46c59eca5019b30e847e": {
      "model_module": "@jupyter-widgets/controls",
      "model_module_version": "1.5.0",
      "model_name": "DescriptionStyleModel",
      "state": {
       "description_width": ""
      }
     },
     "b4bc172900a24609a34eba659adc3de4": {
      "model_module": "@jupyter-widgets/base",
      "model_module_version": "1.2.0",
      "model_name": "LayoutModel",
      "state": {}
     },
     "b4de6b9015b34536bdf2f97178c2d6d4": {
      "model_module": "@jupyter-widgets/controls",
      "model_module_version": "1.5.0",
      "model_name": "DescriptionStyleModel",
      "state": {
       "description_width": "150px"
      }
     },
     "b4f08def9a6d44d2a9cc4c3620fc5bf0": {
      "model_module": "@jupyter-widgets/base",
      "model_module_version": "1.2.0",
      "model_name": "LayoutModel",
      "state": {}
     },
     "b50298a6e875483f97edf0852f30b420": {
      "model_module": "@jupyter-widgets/base",
      "model_module_version": "1.2.0",
      "model_name": "LayoutModel",
      "state": {}
     },
     "b5507128f0854322bfbcc5e0020ffb75": {
      "model_module": "@jupyter-widgets/controls",
      "model_module_version": "1.5.0",
      "model_name": "DescriptionStyleModel",
      "state": {
       "description_width": "150px"
      }
     },
     "b55193aa7566418d8fde39c83c60319d": {
      "model_module": "@jupyter-widgets/output",
      "model_module_version": "1.0.0",
      "model_name": "OutputModel",
      "state": {
       "layout": "IPY_MODEL_a842b1956e384030b69f63f987171d01",
       "outputs": [
        {
         "name": "stdout",
         "output_type": "stream",
         "text": "\nFamily Psychiatric History:\nDenies family history of mental illness\n\n"
        }
       ]
      }
     },
     "b56931f20082464cb8989b65540b6ae2": {
      "model_module": "@jupyter-widgets/controls",
      "model_module_version": "1.5.0",
      "model_name": "DescriptionStyleModel",
      "state": {
       "description_width": "150px"
      }
     },
     "b5a20e6798874e8cabbc4da61e2d3d50": {
      "model_module": "@jupyter-widgets/controls",
      "model_module_version": "1.5.0",
      "model_name": "HBoxModel",
      "state": {
       "children": [
        "IPY_MODEL_112c01ddb6244108ba10f34910ec5202",
        "IPY_MODEL_8089360b700746d3b420f0536150bd0a"
       ],
       "layout": "IPY_MODEL_90042285ce2c4b118b1c182a6545b570"
      }
     },
     "b5a30a4c8259441085bd62edc3aa8d47": {
      "model_module": "@jupyter-widgets/controls",
      "model_module_version": "1.5.0",
      "model_name": "VBoxModel",
      "state": {
       "_dom_classes": [
        "widget-interact"
       ],
       "children": [
        "IPY_MODEL_30aedbf448d04ce5acb4a148fd688050",
        "IPY_MODEL_058e95d7857a4daab9eea984d90419e2",
        "IPY_MODEL_bfbbf9561020494a9ef8c1f7363bc1fa",
        "IPY_MODEL_fa561f0d39d64642a08ff3f9d83960cc",
        "IPY_MODEL_7163485704ca49209c1a9ef1b9b7e3e6",
        "IPY_MODEL_dd9514ebcaec4480b1a70c1ea2fe2aff",
        "IPY_MODEL_389816ad29324d92b09e0ff53416b485",
        "IPY_MODEL_864c1e96fce84572a157de3a01df4eec"
       ],
       "layout": "IPY_MODEL_0a6a84cfdf2e499e93659bf2c9bac086"
      }
     },
     "b5b9caae344f4907873cf000baa3baaa": {
      "model_module": "@jupyter-widgets/base",
      "model_module_version": "1.2.0",
      "model_name": "LayoutModel",
      "state": {}
     },
     "b5ca67ebe4684791920d1f8cf6a3f270": {
      "model_module": "@jupyter-widgets/base",
      "model_module_version": "1.2.0",
      "model_name": "LayoutModel",
      "state": {
       "height": "200px"
      }
     },
     "b5cfe8207c4b4c6fb2e9a8f68e3c0400": {
      "model_module": "@jupyter-widgets/controls",
      "model_module_version": "1.5.0",
      "model_name": "DescriptionStyleModel",
      "state": {
       "description_width": "150px"
      }
     },
     "b5d2aa1373f24e42887f2049ceba9df4": {
      "model_module": "@jupyter-widgets/base",
      "model_module_version": "1.2.0",
      "model_name": "LayoutModel",
      "state": {}
     },
     "b5fe17f912734742bc755504b67a2ef7": {
      "model_module": "@jupyter-widgets/base",
      "model_module_version": "1.2.0",
      "model_name": "LayoutModel",
      "state": {}
     },
     "b6097be6bb094a10ad6b6d789fbeea2c": {
      "model_module": "@jupyter-widgets/controls",
      "model_module_version": "1.5.0",
      "model_name": "DropdownModel",
      "state": {
       "_options_labels": [
        "a history",
        "no history"
       ],
       "description": "learning_disabilties",
       "index": 1,
       "layout": "IPY_MODEL_ecfa8b2075df48d78b3e743fdae50eff",
       "style": "IPY_MODEL_8ff71b7515fa4880bedc3cfabcbed726"
      }
     },
     "b6177e04a8fe4dd49628b1f31190d796": {
      "model_module": "@jupyter-widgets/base",
      "model_module_version": "1.2.0",
      "model_name": "LayoutModel",
      "state": {}
     },
     "b619bb5a06ee4e01ab06b1a79da1270f": {
      "model_module": "@jupyter-widgets/controls",
      "model_module_version": "1.5.0",
      "model_name": "DropdownModel",
      "state": {
       "_options_labels": [
        "denies",
        "endorses"
       ],
       "description": "seizures",
       "index": 1,
       "layout": "IPY_MODEL_f3ab830ad14c40bcb60503d19e5f9870",
       "style": "IPY_MODEL_246dfdf6ee684a198e02590b15d6d3c2"
      }
     },
     "b63d33e755e94b7da8aa4cd40bf144a0": {
      "model_module": "@jupyter-widgets/controls",
      "model_module_version": "1.5.0",
      "model_name": "DescriptionStyleModel",
      "state": {
       "description_width": "150px"
      }
     },
     "b69f0d8ffc684166ac1603b91d3abb73": {
      "model_module": "@jupyter-widgets/output",
      "model_module_version": "1.0.0",
      "model_name": "OutputModel",
      "state": {
       "layout": "IPY_MODEL_ce48da4676f049359fdb49a51fc4311e",
       "outputs": [
        {
         "name": "stdout",
         "output_type": "stream",
         "text": "\nFamily Psychiatric History:\nDenies family history of mental illness\n\n"
        }
       ]
      }
     },
     "b6a7d5efca1146bd8c8b90b2e1ab7af8": {
      "model_module": "@jupyter-widgets/controls",
      "model_module_version": "1.5.0",
      "model_name": "DescriptionStyleModel",
      "state": {
       "description_width": ""
      }
     },
     "b6ad8b9203f44a16bc9aa272675a56e3": {
      "model_module": "@jupyter-widgets/controls",
      "model_module_version": "1.5.0",
      "model_name": "CheckboxModel",
      "state": {
       "description": "Unspecified Depressive Disorder",
       "disabled": false,
       "layout": "IPY_MODEL_b70c099b5b3e4b4c8c17dccaf8f57da1",
       "style": "IPY_MODEL_896b9411959f40edacbe500ee46f4b92",
       "value": false
      }
     },
     "b6ba9f337147470bbbccac9ffc8c0902": {
      "model_module": "@jupyter-widgets/controls",
      "model_module_version": "1.5.0",
      "model_name": "DescriptionStyleModel",
      "state": {
       "description_width": "150px"
      }
     },
     "b70c099b5b3e4b4c8c17dccaf8f57da1": {
      "model_module": "@jupyter-widgets/base",
      "model_module_version": "1.2.0",
      "model_name": "LayoutModel",
      "state": {}
     },
     "b71fbce82d8548c195f7c4cf5d6e1ca4": {
      "model_module": "@jupyter-widgets/controls",
      "model_module_version": "1.5.0",
      "model_name": "DescriptionStyleModel",
      "state": {
       "description_width": "150px"
      }
     },
     "b76c8d9ffc074f36a66b882eda75e158": {
      "model_module": "@jupyter-widgets/controls",
      "model_module_version": "1.5.0",
      "model_name": "DescriptionStyleModel",
      "state": {
       "description_width": "150px"
      }
     },
     "b77178663d3d4cc48406541e849d0c60": {
      "model_module": "@jupyter-widgets/controls",
      "model_module_version": "1.5.0",
      "model_name": "DescriptionStyleModel",
      "state": {
       "description_width": ""
      }
     },
     "b77ae0cb0b64409b8d2eab17698cc96d": {
      "model_module": "@jupyter-widgets/controls",
      "model_module_version": "1.5.0",
      "model_name": "DescriptionStyleModel",
      "state": {
       "description_width": ""
      }
     },
     "b78ff502702a4876bda38271e1764058": {
      "model_module": "@jupyter-widgets/controls",
      "model_module_version": "1.5.0",
      "model_name": "CheckboxModel",
      "state": {
       "description": "Cannabis use disorder Severe",
       "disabled": false,
       "layout": "IPY_MODEL_330ab34edbaf41189df70bbf4e64cf2e",
       "style": "IPY_MODEL_609567b264774ca49248bb001c3ae69c",
       "value": false
      }
     },
     "b7aa801d58d840d1ade9d0f67f881267": {
      "model_module": "@jupyter-widgets/controls",
      "model_module_version": "1.5.0",
      "model_name": "DropdownModel",
      "state": {
       "_options_labels": [
        "denies",
        "endorses"
       ],
       "description": "suicide",
       "index": 0,
       "layout": "IPY_MODEL_ecfa8b2075df48d78b3e743fdae50eff",
       "style": "IPY_MODEL_6abcf9d83ec44b30bda8de094d52cabc"
      }
     },
     "b7e088ba13a34452a5e57b9d310976c1": {
      "model_module": "@jupyter-widgets/controls",
      "model_module_version": "1.5.0",
      "model_name": "DescriptionStyleModel",
      "state": {
       "description_width": ""
      }
     },
     "b8184640c03b4e9886c84a8fc64428c9": {
      "model_module": "@jupyter-widgets/controls",
      "model_module_version": "1.5.0",
      "model_name": "DescriptionStyleModel",
      "state": {
       "description_width": "150px"
      }
     },
     "b8288d2ec1e648c7835f1b084a3901b2": {
      "model_module": "@jupyter-widgets/controls",
      "model_module_version": "1.5.0",
      "model_name": "TextareaModel",
      "state": {
       "description": "negative_impact",
       "layout": "IPY_MODEL_fa9ec4f225bc40b29e03b63fcbcbd3db",
       "placeholder": "Type Something",
       "style": "IPY_MODEL_4c67f45bc33d4a8693b30a8059fa2f64",
       "value": "I need to break old habits and establish myself."
      }
     },
     "b8538c40317448aea82da099a80f8cbe": {
      "model_module": "@jupyter-widgets/base",
      "model_module_version": "1.2.0",
      "model_name": "LayoutModel",
      "state": {}
     },
     "b868588d00a74795bc21fdb39635634b": {
      "model_module": "@jupyter-widgets/base",
      "model_module_version": "1.2.0",
      "model_name": "LayoutModel",
      "state": {}
     },
     "b8780f5a70444e629b68230dfebb7845": {
      "model_module": "@jupyter-widgets/controls",
      "model_module_version": "1.5.0",
      "model_name": "CheckboxModel",
      "state": {
       "description": "Generalized anxiety disorder",
       "disabled": false,
       "layout": "IPY_MODEL_4fbd5d01b5054f038d690fe1e6c32cd2",
       "style": "IPY_MODEL_eb59ae4bf91941bb89578716fe4ffd86",
       "value": false
      }
     },
     "b89f27a3c886455abdc24deeaacf2055": {
      "model_module": "@jupyter-widgets/controls",
      "model_module_version": "1.5.0",
      "model_name": "DescriptionStyleModel",
      "state": {
       "description_width": "150px"
      }
     },
     "b914d2d00fe24e2e98d74dc96f77cc78": {
      "model_module": "@jupyter-widgets/base",
      "model_module_version": "1.2.0",
      "model_name": "LayoutModel",
      "state": {}
     },
     "b9386e84648144e99fabf13d4f26c738": {
      "model_module": "@jupyter-widgets/base",
      "model_module_version": "1.2.0",
      "model_name": "LayoutModel",
      "state": {}
     },
     "b94e98c000d34e17953b75a68c6f5fcc": {
      "model_module": "@jupyter-widgets/controls",
      "model_module_version": "1.5.0",
      "model_name": "DropdownModel",
      "state": {
       "_options_labels": [
        "denies",
        "endorses"
       ],
       "description": "tbi_medical",
       "index": 0,
       "layout": "IPY_MODEL_f3ab830ad14c40bcb60503d19e5f9870",
       "style": "IPY_MODEL_b25c5a315c8c40f09c8b7ba171f92b91"
      }
     },
     "b95cfae0ae11464c93a56b4470cde998": {
      "model_module": "@jupyter-widgets/controls",
      "model_module_version": "1.5.0",
      "model_name": "TextModel",
      "state": {
       "description": "outpatient_psychiatrist",
       "layout": "IPY_MODEL_57dff8c6f77e4aad88e092f42ad13209",
       "style": "IPY_MODEL_dd4ee705eeac4bf28a2868c6b9ef8a2b",
       "value": "None"
      }
     },
     "b964e5d4b25646019146bd789a694eb6": {
      "model_module": "@jupyter-widgets/base",
      "model_module_version": "1.2.0",
      "model_name": "LayoutModel",
      "state": {
       "height": "100px",
       "width": "500px"
      }
     },
     "b993e7cd6a90408cacfc9f0644ec22ad": {
      "model_module": "@jupyter-widgets/controls",
      "model_module_version": "1.5.0",
      "model_name": "CheckboxModel",
      "state": {
       "description": "methamphetamine",
       "disabled": false,
       "layout": "IPY_MODEL_0389fb6ed2b64c8e91d4b84b1b7aad1b",
       "style": "IPY_MODEL_54076a0f5e3248b0bdf7733a2eb18d86",
       "value": false
      }
     },
     "ba337f90b7df462c8aa6f1346b95da8c": {
      "model_module": "@jupyter-widgets/base",
      "model_module_version": "1.2.0",
      "model_name": "LayoutModel",
      "state": {}
     },
     "babfc7bbad504e2fb759d57c8591a810": {
      "model_module": "@jupyter-widgets/controls",
      "model_module_version": "1.5.0",
      "model_name": "DescriptionStyleModel",
      "state": {
       "description_width": "150px"
      }
     },
     "bac2934e67a9436280c80954fbfc40d7": {
      "model_module": "@jupyter-widgets/controls",
      "model_module_version": "1.5.0",
      "model_name": "DropdownModel",
      "state": {
       "_options_labels": [
        "a history",
        "no history"
       ],
       "description": "psychosis",
       "index": 1,
       "layout": "IPY_MODEL_ecfa8b2075df48d78b3e743fdae50eff",
       "style": "IPY_MODEL_f3b6ed34009740a28f8f1d9db767117f"
      }
     },
     "bac45ad449b54951a4c576be8e56002b": {
      "model_module": "@jupyter-widgets/controls",
      "model_module_version": "1.5.0",
      "model_name": "TextareaModel",
      "state": {
       "description": "notes",
       "layout": "IPY_MODEL_5259318fb468446090efdf421640f15f",
       "style": "IPY_MODEL_dd15c01f93af456384e075bdbe6ba446"
      }
     },
     "bb2a047e7c4943ddaf06790398a096a2": {
      "model_module": "@jupyter-widgets/controls",
      "model_module_version": "1.5.0",
      "model_name": "DescriptionStyleModel",
      "state": {
       "description_width": "150px"
      }
     },
     "bb354c1f300d4d7e995f87b53f0a42ce": {
      "model_module": "@jupyter-widgets/base",
      "model_module_version": "1.2.0",
      "model_name": "LayoutModel",
      "state": {}
     },
     "bb3f17068a5c486ca3e20e4fe6ab485f": {
      "model_module": "@jupyter-widgets/controls",
      "model_module_version": "1.5.0",
      "model_name": "CheckboxModel",
      "state": {
       "description": "ADHD",
       "disabled": false,
       "layout": "IPY_MODEL_c6e2204a9e7c43cd94bbeaf7966f0cf3",
       "style": "IPY_MODEL_a2f9d3d32b6949e784d21eb3cc8473b0",
       "value": false
      }
     },
     "bb6398cd32d6418ca4e4e75d5e5b568e": {
      "model_module": "@jupyter-widgets/controls",
      "model_module_version": "1.5.0",
      "model_name": "DescriptionStyleModel",
      "state": {
       "description_width": ""
      }
     },
     "bb76d1e3e3b84f3ba3c2b37a4badcb01": {
      "model_module": "@jupyter-widgets/controls",
      "model_module_version": "1.5.0",
      "model_name": "CheckboxModel",
      "state": {
       "description": "alcohol",
       "disabled": false,
       "layout": "IPY_MODEL_44f7959efab94b10b7311e377c16c92c",
       "style": "IPY_MODEL_f82c83fd9d7948839a5d96a10af3c116",
       "value": true
      }
     },
     "bba1d048b9aa41daa46ccdd7b18dca19": {
      "model_module": "@jupyter-widgets/controls",
      "model_module_version": "1.5.0",
      "model_name": "CheckboxModel",
      "state": {
       "description": "bipolar I disorder",
       "disabled": false,
       "layout": "IPY_MODEL_431f9664b1e54484bb9d6d4a6f46e0ab",
       "style": "IPY_MODEL_763b9641e7b4452aa5fa294297bd395d",
       "value": false
      }
     },
     "bbc7d4caaeb14986b16368a5b5e28bba": {
      "model_module": "@jupyter-widgets/controls",
      "model_module_version": "1.5.0",
      "model_name": "CheckboxModel",
      "state": {
       "description": "bipolar II disorder",
       "disabled": false,
       "layout": "IPY_MODEL_6def70879fe84cb6b00fba4460a76588",
       "style": "IPY_MODEL_9c71feb89dab4ae593a3da404f2b5c4f",
       "value": false
      }
     },
     "bbdf595609b9441aa56161fd4aa98854": {
      "model_module": "@jupyter-widgets/controls",
      "model_module_version": "1.5.0",
      "model_name": "CheckboxModel",
      "state": {
       "description": "bipolar II disorder",
       "disabled": false,
       "layout": "IPY_MODEL_6b68d963b34c48bfbffea18009c198f2",
       "style": "IPY_MODEL_b3a77fabe91a40328051c67260301564",
       "value": false
      }
     },
     "bbe378b31abc47fb8cacbc191887f975": {
      "model_module": "@jupyter-widgets/controls",
      "model_module_version": "1.5.0",
      "model_name": "CheckboxModel",
      "state": {
       "description": "Major depressive disorder, rec, mod",
       "disabled": false,
       "layout": "IPY_MODEL_79079ab744464fd4819fcda4794452dd",
       "style": "IPY_MODEL_4173eb1e2088470f93c6744f7789a7e7",
       "value": false
      }
     },
     "bbff625885e0439e9ac612c9aa107a3a": {
      "model_module": "@jupyter-widgets/controls",
      "model_module_version": "1.5.0",
      "model_name": "DescriptionStyleModel",
      "state": {
       "description_width": ""
      }
     },
     "bc16c8932a9342b1bfdbc4256246974d": {
      "model_module": "@jupyter-widgets/controls",
      "model_module_version": "1.5.0",
      "model_name": "CheckboxModel",
      "state": {
       "description": "mushrooms",
       "disabled": false,
       "layout": "IPY_MODEL_df7c051fd01f40c7a68e25d1b98159ec",
       "style": "IPY_MODEL_6c7bc35a7e6247debbe4a2c360f595c4",
       "value": false
      }
     },
     "bc278675a83644e9a62eed8e4178e8ab": {
      "model_module": "@jupyter-widgets/controls",
      "model_module_version": "1.5.0",
      "model_name": "DescriptionStyleModel",
      "state": {
       "description_width": "150px"
      }
     },
     "bc70a02cc99245528caeb4182d8f54e5": {
      "model_module": "@jupyter-widgets/controls",
      "model_module_version": "1.5.0",
      "model_name": "CheckboxModel",
      "state": {
       "description": "Sedative, hypnotic and/or anxiolytic Use Disorder Severe",
       "disabled": false,
       "layout": "IPY_MODEL_6390148153cd4a1eb275d4b57deae594",
       "style": "IPY_MODEL_99ec7c603fb04a72b316be39c80abf45",
       "value": false
      }
     },
     "bce4133aa6b447f088d81f5c3634e9c8": {
      "model_module": "@jupyter-widgets/controls",
      "model_module_version": "1.5.0",
      "model_name": "TextareaModel",
      "state": {
       "description": "negative_impact",
       "layout": "IPY_MODEL_5259318fb468446090efdf421640f15f",
       "placeholder": "Type Something",
       "style": "IPY_MODEL_af105eda4f854e27adc0937eef2908a5"
      }
     },
     "bcfec2c77d4b4bb58a614436faaeff6f": {
      "model_module": "@jupyter-widgets/controls",
      "model_module_version": "1.5.0",
      "model_name": "DescriptionStyleModel",
      "state": {
       "description_width": "150px"
      }
     },
     "bd21cd36bb634b72957d45af7d5fe91f": {
      "model_module": "@jupyter-widgets/controls",
      "model_module_version": "1.5.0",
      "model_name": "VBoxModel",
      "state": {
       "_dom_classes": [
        "widget-interact"
       ],
       "children": [
        "IPY_MODEL_94b9d43784e74c79ade215091fc68006",
        "IPY_MODEL_af5fc9199d4c4eae8da5356400375951"
       ],
       "layout": "IPY_MODEL_10ad98c2830d4a869b77583484e25a1d"
      }
     },
     "bd5828eea772489ab172aed9f9d19380": {
      "model_module": "@jupyter-widgets/base",
      "model_module_version": "1.2.0",
      "model_name": "LayoutModel",
      "state": {}
     },
     "bd5b4fec0f3e40229034148e6d28637f": {
      "model_module": "@jupyter-widgets/controls",
      "model_module_version": "1.5.0",
      "model_name": "TextareaModel",
      "state": {
       "description": "notes",
       "layout": "IPY_MODEL_5259318fb468446090efdf421640f15f",
       "style": "IPY_MODEL_4ea333628747486d9242869ab908db66"
      }
     },
     "bd69737c26c24994a3c301bc8380f90e": {
      "model_module": "@jupyter-widgets/base",
      "model_module_version": "1.2.0",
      "model_name": "LayoutModel",
      "state": {}
     },
     "bda90b9f03494d2f8e38b1d7d8e61fa1": {
      "model_module": "@jupyter-widgets/controls",
      "model_module_version": "1.5.0",
      "model_name": "CheckboxModel",
      "state": {
       "description": "Cocaine use disorder Severe",
       "disabled": false,
       "layout": "IPY_MODEL_5c404a517fce491894f56ea7c9aa9f45",
       "style": "IPY_MODEL_270521cb79964511a5dbbb46bf6b0a79",
       "value": true
      }
     },
     "bdc59d6a0a4345d9a5bd7fbdf7d7f33b": {
      "model_module": "@jupyter-widgets/controls",
      "model_module_version": "1.5.0",
      "model_name": "VBoxModel",
      "state": {
       "_dom_classes": [
        "widget-interact"
       ],
       "children": [
        "IPY_MODEL_9fa0c43ea2b84412bb0aeb607731f002",
        "IPY_MODEL_3e1af367d3e24d3ca4bbf67b0191958b",
        "IPY_MODEL_55c8052c00954a0ab5fc4b9c2f9e273c",
        "IPY_MODEL_930edb8df39e4d8d986439e1a5fa68e6",
        "IPY_MODEL_e887c5f8a4d944c3aa37006fdd817dc6",
        "IPY_MODEL_ef70050df87743f29e92952e0abac0d5",
        "IPY_MODEL_2c9b0577584e443aa96abd4c3307b473",
        "IPY_MODEL_456c7e6975554c57aad554110516b166",
        "IPY_MODEL_e8d361a041d54a8c9b959c577c0facf9",
        "IPY_MODEL_bdd0282809ba4057bb515838d8161b3b",
        "IPY_MODEL_817969365a0f450cbd0e9ccd6397bce6",
        "IPY_MODEL_79ca13c635ef405194d53d09d8677e45",
        "IPY_MODEL_063e601f79424ae2be7176a205fc5b05"
       ],
       "layout": "IPY_MODEL_9ac8f24f1c144eaea37666a5f4923ab5"
      }
     },
     "bdd0282809ba4057bb515838d8161b3b": {
      "model_module": "@jupyter-widgets/controls",
      "model_module_version": "1.5.0",
      "model_name": "DropdownModel",
      "state": {
       "_options_labels": [
        "deny",
        "indicate"
       ],
       "description": "past_depression",
       "index": 1,
       "layout": "IPY_MODEL_57dff8c6f77e4aad88e092f42ad13209",
       "style": "IPY_MODEL_3bcfa75b60ea49d89df0c7f21cd90a68"
      }
     },
     "bdf782d6174a4a25a7b3080144a4d8aa": {
      "model_module": "@jupyter-widgets/controls",
      "model_module_version": "1.5.0",
      "model_name": "DescriptionStyleModel",
      "state": {
       "description_width": ""
      }
     },
     "be0ef820dfa8403189226ba033f8e1f0": {
      "model_module": "@jupyter-widgets/controls",
      "model_module_version": "1.5.0",
      "model_name": "DescriptionStyleModel",
      "state": {
       "description_width": "150px"
      }
     },
     "be10873a62f044a58e4d5fcd457749dd": {
      "model_module": "@jupyter-widgets/controls",
      "model_module_version": "1.5.0",
      "model_name": "DropdownModel",
      "state": {
       "_options_labels": [
        "denies",
        "endorses"
       ],
       "description": "guilt",
       "index": 0,
       "layout": "IPY_MODEL_5259318fb468446090efdf421640f15f",
       "style": "IPY_MODEL_3c714ac37d12438daa9ba9151d3c2703"
      }
     },
     "be6e9d28670542e790c9f27987980bdb": {
      "model_module": "@jupyter-widgets/controls",
      "model_module_version": "1.5.0",
      "model_name": "VBoxModel",
      "state": {
       "_dom_classes": [
        "widget-interact"
       ],
       "children": [
        "IPY_MODEL_ce74c78d9ce14d508e050d7d7e47cb10",
        "IPY_MODEL_f1739290e2ca446397c9ffcc514fc248"
       ],
       "layout": "IPY_MODEL_9105f8f0890d4c879315bbfe36fcb55a"
      }
     },
     "be92d1f2a9d146eda4a0ab7290f8f6db": {
      "model_module": "@jupyter-widgets/controls",
      "model_module_version": "1.5.0",
      "model_name": "CheckboxModel",
      "state": {
       "description": "ecstasy/MDMA",
       "disabled": false,
       "layout": "IPY_MODEL_64fe4d7a1ac146aa9c4a59d943c0f988",
       "style": "IPY_MODEL_eed1d7cc0b154069ad444d39835f31ff",
       "value": false
      }
     },
     "becc11c6e5544761bb83141db82091bd": {
      "model_module": "@jupyter-widgets/output",
      "model_module_version": "1.0.0",
      "model_name": "OutputModel",
      "state": {
       "layout": "IPY_MODEL_b11b4d60a48845d2b77e01313f9d3aa1",
       "outputs": [
        {
         "name": "stdout",
         "output_type": "stream",
         "text": "\nSocial History:\nThe patient states that they are single, and have 0 children. \nThey report that they are currently living . \nThe patient denies any history of legal problems.  \nThe patient denies a history of abuse.\n\n\n"
        }
       ]
      }
     },
     "beee3fe70d3c47238224df88ef410d6e": {
      "model_module": "@jupyter-widgets/controls",
      "model_module_version": "1.5.0",
      "model_name": "TextareaModel",
      "state": {
       "description": "med plan:",
       "layout": "IPY_MODEL_fda2e8dff9664b26a2d9b3c8981308e2",
       "placeholder": "Type something",
       "style": "IPY_MODEL_61106eda06bb49ef93340467b7ccebbe",
       "value": "4. Continue medication."
      }
     },
     "bf0f559428f24cc1babe40821b426a19": {
      "model_module": "@jupyter-widgets/base",
      "model_module_version": "1.2.0",
      "model_name": "LayoutModel",
      "state": {}
     },
     "bf36b9d9690049ad9289acca1c88c137": {
      "model_module": "@jupyter-widgets/controls",
      "model_module_version": "1.5.0",
      "model_name": "DescriptionStyleModel",
      "state": {
       "description_width": "150px"
      }
     },
     "bf42ab969f0a4c84affcf9db147d2e62": {
      "model_module": "@jupyter-widgets/base",
      "model_module_version": "1.2.0",
      "model_name": "LayoutModel",
      "state": {}
     },
     "bf4dbcb8e5b94e9aaddb2546e574c44f": {
      "model_module": "@jupyter-widgets/controls",
      "model_module_version": "1.5.0",
      "model_name": "DescriptionStyleModel",
      "state": {
       "description_width": ""
      }
     },
     "bf8d5e7d4ab84dff89093a61ef9ded47": {
      "model_module": "@jupyter-widgets/base",
      "model_module_version": "1.2.0",
      "model_name": "LayoutModel",
      "state": {}
     },
     "bfbbf9561020494a9ef8c1f7363bc1fa": {
      "model_module": "@jupyter-widgets/controls",
      "model_module_version": "1.5.0",
      "model_name": "BoundedIntTextModel",
      "state": {
       "description": "longest_sober_time",
       "layout": "IPY_MODEL_fa9ec4f225bc40b29e03b63fcbcbd3db",
       "style": "IPY_MODEL_ddd256ca8e694cebb8ed170dcddda54d",
       "value": 9
      }
     },
     "bfe26114802542a3a8d6cc8318d1c9c5": {
      "model_module": "@jupyter-widgets/base",
      "model_module_version": "1.2.0",
      "model_name": "LayoutModel",
      "state": {}
     },
     "bffc74f9ae344dc6bf44d72ac5aec295": {
      "model_module": "@jupyter-widgets/controls",
      "model_module_version": "1.5.0",
      "model_name": "CheckboxModel",
      "state": {
       "description": "Unspecified Bipolar Disorder",
       "disabled": false,
       "layout": "IPY_MODEL_b23fa6cda45c46ed86c61de1f6ed1a64",
       "style": "IPY_MODEL_12433bfb7109441982fe0cded06c09f0",
       "value": false
      }
     },
     "c04673b5e87a45b1a3fa7499145725fa": {
      "model_module": "@jupyter-widgets/controls",
      "model_module_version": "1.5.0",
      "model_name": "DropdownModel",
      "state": {
       "_options_labels": [
        "a history",
        "no history"
       ],
       "description": "eating_disorder",
       "index": 1,
       "layout": "IPY_MODEL_57dff8c6f77e4aad88e092f42ad13209",
       "style": "IPY_MODEL_8062c10e95cc41d1bd17c2bfb44dc762"
      }
     },
     "c05a3fd6e642408796b22969bf09cc46": {
      "model_module": "@jupyter-widgets/base",
      "model_module_version": "1.2.0",
      "model_name": "LayoutModel",
      "state": {}
     },
     "c06eb75eb2de44dcaff7aabad4fd8879": {
      "model_module": "@jupyter-widgets/controls",
      "model_module_version": "1.5.0",
      "model_name": "DescriptionStyleModel",
      "state": {
       "description_width": "150px"
      }
     },
     "c07052f170754c0888cc08283eb9dad2": {
      "model_module": "@jupyter-widgets/controls",
      "model_module_version": "1.5.0",
      "model_name": "DropdownModel",
      "state": {
       "_options_labels": [
        "denies",
        "endorses"
       ],
       "description": "past_trauma",
       "index": 1,
       "layout": "IPY_MODEL_57dff8c6f77e4aad88e092f42ad13209",
       "style": "IPY_MODEL_3f32916cc62e46b5bfc8634624ade844"
      }
     },
     "c070db4ae0774ae497d36583564c69a0": {
      "model_module": "@jupyter-widgets/controls",
      "model_module_version": "1.5.0",
      "model_name": "DescriptionStyleModel",
      "state": {
       "description_width": ""
      }
     },
     "c0798fe54533416b9c2bdd1677c16660": {
      "model_module": "@jupyter-widgets/controls",
      "model_module_version": "1.5.0",
      "model_name": "BoxModel",
      "state": {
       "children": [
        "IPY_MODEL_b4a613b38ef84a23a75080e0913be199",
        "IPY_MODEL_62bf96b88d3b4ff2bdf446c378a4e8fd",
        "IPY_MODEL_c6efec7a57dc4505a8c2497eabc1a238",
        "IPY_MODEL_d825bb58819941189bdfcc5a8617323a"
       ],
       "layout": "IPY_MODEL_0c747019062441849de2b0969f61ea1d"
      }
     },
     "c095594688bd479986ceadcfd6f9ad5e": {
      "model_module": "@jupyter-widgets/base",
      "model_module_version": "1.2.0",
      "model_name": "LayoutModel",
      "state": {}
     },
     "c09cf7c394a74fa5adb5ab9249be9b5e": {
      "model_module": "@jupyter-widgets/controls",
      "model_module_version": "1.5.0",
      "model_name": "DescriptionStyleModel",
      "state": {
       "description_width": "150px"
      }
     },
     "c0ba04a9a9ce408e933d75516e3e932b": {
      "model_module": "@jupyter-widgets/controls",
      "model_module_version": "1.5.0",
      "model_name": "TextareaModel",
      "state": {
       "description": "pcp plan:",
       "layout": "IPY_MODEL_438240eddf614d50be50c0c42b68ecd2",
       "placeholder": "Type something",
       "style": "IPY_MODEL_98faa467744842eca75e422dd8b28167",
       "value": "3. Medical and Lab: Per PCP. Patient encouraged to establish care with local PCP/urgent for routine physical and baseline labs and management of medical conditions."
      }
     },
     "c0cdb0821e8a43399dcced80488c6452": {
      "model_module": "@jupyter-widgets/controls",
      "model_module_version": "1.5.0",
      "model_name": "VBoxModel",
      "state": {
       "_dom_classes": [
        "widget-interact"
       ],
       "children": [
        "IPY_MODEL_3974efcda7174754848b8abc64e63cad",
        "IPY_MODEL_ca09a6ab0b7a4c3e80f0148ece1a2923",
        "IPY_MODEL_78f75edf943b44d49ada364fb063a0cd",
        "IPY_MODEL_fd63fdbab422495d893922fcae98bcb9",
        "IPY_MODEL_53c9f6a853e84df69403532fe6f2651d",
        "IPY_MODEL_9791f010ab3d46999b52b5690c3944da",
        "IPY_MODEL_2a88f66fcb55433e8d675e0a3bd4736c",
        "IPY_MODEL_46843948d8ab4cc1ab3fa9d191de94da",
        "IPY_MODEL_14cf28b750f341e498ba7d6b13181f3a",
        "IPY_MODEL_f1221dbad6d746f698018f354600c357",
        "IPY_MODEL_c94a880d14e34de7ae6a5e6a775147de",
        "IPY_MODEL_c3cb6b2e9ab14b368ef3506a143cc180",
        "IPY_MODEL_c828beff776e4299b44314ce175ae44b"
       ],
       "layout": "IPY_MODEL_ca999bb2327747548ab4ed45846f1d9e"
      }
     },
     "c0e2d41d6a3a44698064f53e11161256": {
      "model_module": "@jupyter-widgets/controls",
      "model_module_version": "1.5.0",
      "model_name": "DescriptionStyleModel",
      "state": {
       "description_width": ""
      }
     },
     "c0f1aa40c20742a2951a722c1653831b": {
      "model_module": "@jupyter-widgets/base",
      "model_module_version": "1.2.0",
      "model_name": "LayoutModel",
      "state": {}
     },
     "c106b8bff44846b896de03f23c5f9253": {
      "model_module": "@jupyter-widgets/controls",
      "model_module_version": "1.5.0",
      "model_name": "DropdownModel",
      "state": {
       "_options_labels": [
        "denies",
        "endorses"
       ],
       "description": "cravings_choice",
       "index": 1,
       "layout": "IPY_MODEL_fa9ec4f225bc40b29e03b63fcbcbd3db",
       "style": "IPY_MODEL_310fa700fa0c4dce843361a7e0845187"
      }
     },
     "c1443ba6acae4c75b351e16a25115d16": {
      "model_module": "@jupyter-widgets/base",
      "model_module_version": "1.2.0",
      "model_name": "LayoutModel",
      "state": {}
     },
     "c1911c33ab184ffa994fdeeb9c5acef4": {
      "model_module": "@jupyter-widgets/controls",
      "model_module_version": "1.5.0",
      "model_name": "DescriptionStyleModel",
      "state": {
       "description_width": "150px"
      }
     },
     "c1957ddfa8ab4f8d8974c8c178404d7c": {
      "model_module": "@jupyter-widgets/controls",
      "model_module_version": "1.5.0",
      "model_name": "DescriptionStyleModel",
      "state": {
       "description_width": "150px"
      }
     },
     "c1cca2fe2c654f889e3be0e7faa25ec2": {
      "model_module": "@jupyter-widgets/controls",
      "model_module_version": "1.5.0",
      "model_name": "CheckboxModel",
      "state": {
       "description": "Bipolar I disorder",
       "disabled": false,
       "layout": "IPY_MODEL_210099fbd1384e29bc4611bc2ca8c1a9",
       "style": "IPY_MODEL_e27222fa19454b468a980f65d2095b82",
       "value": false
      }
     },
     "c1f3b201f01341a4bd82309a1b8b807c": {
      "model_module": "@jupyter-widgets/controls",
      "model_module_version": "1.5.0",
      "model_name": "CheckboxModel",
      "state": {
       "description": "ketamine",
       "disabled": false,
       "layout": "IPY_MODEL_ba337f90b7df462c8aa6f1346b95da8c",
       "style": "IPY_MODEL_7517afcb367a4c4b88aed5dd7c5ef4c2",
       "value": false
      }
     },
     "c1f577df492c4205851925919193670e": {
      "model_module": "@jupyter-widgets/controls",
      "model_module_version": "1.5.0",
      "model_name": "BoundedIntTextModel",
      "state": {
       "description": "Age:",
       "layout": "IPY_MODEL_f67172e9f4654c199c2a913d235982e3",
       "max": 200,
       "style": "IPY_MODEL_632828f15aac4a879fda398f10fe78e1",
       "value": 30
      }
     },
     "c22a89649a1d47f4bf765b9a48d675f7": {
      "model_module": "@jupyter-widgets/controls",
      "model_module_version": "1.5.0",
      "model_name": "DescriptionStyleModel",
      "state": {
       "description_width": ""
      }
     },
     "c233f7689b8749989fa0b1f1001eb95d": {
      "model_module": "@jupyter-widgets/controls",
      "model_module_version": "1.5.0",
      "model_name": "VBoxModel",
      "state": {
       "children": [
        "IPY_MODEL_c1f577df492c4205851925919193670e",
        "IPY_MODEL_fe31a0350b8c45f8b8836cca3845dad9",
        "IPY_MODEL_2fc7bedd08a24023bec3461b8d462323",
        "IPY_MODEL_5d4055e22c2440d586eeb809e3efb3b0"
       ],
       "layout": "IPY_MODEL_cc1419104c434181b84eccc3efd81584"
      }
     },
     "c2595d26a67b4c1ab38c411b6c1ea772": {
      "model_module": "@jupyter-widgets/controls",
      "model_module_version": "1.5.0",
      "model_name": "DescriptionStyleModel",
      "state": {
       "description_width": ""
      }
     },
     "c28ee37ddafb4fcda6aedb4eec10f8c6": {
      "model_module": "@jupyter-widgets/controls",
      "model_module_version": "1.5.0",
      "model_name": "DescriptionStyleModel",
      "state": {
       "description_width": ""
      }
     },
     "c2b91a2c99e14390a838891aea8e3f0e": {
      "model_module": "@jupyter-widgets/controls",
      "model_module_version": "1.5.0",
      "model_name": "CheckboxModel",
      "state": {
       "description": "no mental illness",
       "disabled": false,
       "layout": "IPY_MODEL_b11e709ca96f45069d568d327edb67f3",
       "style": "IPY_MODEL_546a25f1073443fbb0094d7ca078656c",
       "value": false
      }
     },
     "c311a1d874f344b2b72bd39882931fef": {
      "model_module": "@jupyter-widgets/controls",
      "model_module_version": "1.5.0",
      "model_name": "DescriptionStyleModel",
      "state": {
       "description_width": "150px"
      }
     },
     "c358ebd73908481c95358e36021e2550": {
      "model_module": "@jupyter-widgets/controls",
      "model_module_version": "1.5.0",
      "model_name": "DescriptionStyleModel",
      "state": {
       "description_width": ""
      }
     },
     "c3714546bca246bd94e4dcb90bc8c059": {
      "model_module": "@jupyter-widgets/base",
      "model_module_version": "1.2.0",
      "model_name": "LayoutModel",
      "state": {}
     },
     "c371f9d7aa1f4beeb93cc19ac6c9c08b": {
      "model_module": "@jupyter-widgets/controls",
      "model_module_version": "1.5.0",
      "model_name": "DescriptionStyleModel",
      "state": {
       "description_width": "150px"
      }
     },
     "c3925ef7d62c444cace0df70a40f4851": {
      "model_module": "@jupyter-widgets/controls",
      "model_module_version": "1.5.0",
      "model_name": "DescriptionStyleModel",
      "state": {
       "description_width": ""
      }
     },
     "c399ed43efe74bd3bc401de788cb27b2": {
      "model_module": "@jupyter-widgets/controls",
      "model_module_version": "1.5.0",
      "model_name": "DescriptionStyleModel",
      "state": {
       "description_width": ""
      }
     },
     "c3a562a0bf1240cda387ff8a0d549817": {
      "model_module": "@jupyter-widgets/controls",
      "model_module_version": "1.5.0",
      "model_name": "HBoxModel",
      "state": {
       "children": [
        "IPY_MODEL_6b3766fa25f247d290a5d09b6d49c98f"
       ],
       "layout": "IPY_MODEL_22613bdb113a4930b14b0035c08448a4"
      }
     },
     "c3cb6b2e9ab14b368ef3506a143cc180": {
      "model_module": "@jupyter-widgets/controls",
      "model_module_version": "1.5.0",
      "model_name": "TextareaModel",
      "state": {
       "description": "notes",
       "layout": "IPY_MODEL_fa9ec4f225bc40b29e03b63fcbcbd3db",
       "style": "IPY_MODEL_52a6bb6c466a4f638355c7b990f698d7",
       "value": "Sleep comes pretty well for me. Sometimes at night, I can tell my body is still thinking about something else. My body is thirsty I can tell what it wants.\""
      }
     },
     "c3e0149ab16d4228aa3f3af78411dff4": {
      "model_module": "@jupyter-widgets/controls",
      "model_module_version": "1.5.0",
      "model_name": "DescriptionStyleModel",
      "state": {
       "description_width": ""
      }
     },
     "c3f12ee7fc724bec925bebe0737d5c9a": {
      "model_module": "@jupyter-widgets/controls",
      "model_module_version": "1.5.0",
      "model_name": "DescriptionStyleModel",
      "state": {
       "description_width": ""
      }
     },
     "c425605db25145429abdce5572a4ce1e": {
      "model_module": "@jupyter-widgets/controls",
      "model_module_version": "1.5.0",
      "model_name": "CheckboxModel",
      "state": {
       "description": "bipolar I disorder",
       "disabled": false,
       "layout": "IPY_MODEL_11fafe75ab9940ec85d926b4d6a6b082",
       "style": "IPY_MODEL_cf5a3592759149a6aa9f6c47b6a6cd85",
       "value": false
      }
     },
     "c446598fa7634ea7a95212b21e7cd218": {
      "model_module": "@jupyter-widgets/output",
      "model_module_version": "1.0.0",
      "model_name": "OutputModel",
      "state": {
       "layout": "IPY_MODEL_39ccd237fe1948ed9b088fee2fffd34f",
       "outputs": [
        {
         "name": "stdout",
         "output_type": "stream",
         "text": "\nAllergies:\nNKDA\n\n"
        }
       ]
      }
     },
     "c446d8674e7d4f84add60f97a1337d86": {
      "model_module": "@jupyter-widgets/output",
      "model_module_version": "1.0.0",
      "model_name": "OutputModel",
      "state": {
       "layout": "IPY_MODEL_327120f9fd7a413ba2b6124dcffc1bde",
       "outputs": [
        {
         "name": "stdout",
         "output_type": "stream",
         "text": "\nAllergies:\nNKDA\n\n"
        }
       ]
      }
     },
     "c49752e5bbb74edbbb4906cc57db29f2": {
      "model_module": "@jupyter-widgets/controls",
      "model_module_version": "1.5.0",
      "model_name": "ComboboxModel",
      "state": {
       "description": "med_compliant",
       "ensure_option": false,
       "layout": "IPY_MODEL_5259318fb468446090efdf421640f15f",
       "options": [
        "Patient reports that they have been compliant with their psychotropic medication regimen and denies adverse effects",
        "Patient reports that they have been non-compliant with their psychotropic medication regimen and denies adverse effects"
       ],
       "style": "IPY_MODEL_49f48536ec8646d4a751b2518ca346e6"
      }
     },
     "c4c32df9adde4c65b3a06a30a5fbb879": {
      "model_module": "@jupyter-widgets/controls",
      "model_module_version": "1.5.0",
      "model_name": "DropdownModel",
      "state": {
       "_options_labels": [
        "good",
        "fair",
        "poor"
       ],
       "description": "appetite",
       "index": 1,
       "layout": "IPY_MODEL_5259318fb468446090efdf421640f15f",
       "style": "IPY_MODEL_477fcf13d02742c2984ce27fde356e80"
      }
     },
     "c4cfa64582d74d3c9275ef97a401cf14": {
      "model_module": "@jupyter-widgets/controls",
      "model_module_version": "1.5.0",
      "model_name": "DescriptionStyleModel",
      "state": {
       "description_width": "150px"
      }
     },
     "c514edc473bf427599e3764cdd3aebac": {
      "model_module": "@jupyter-widgets/controls",
      "model_module_version": "1.5.0",
      "model_name": "CheckboxModel",
      "state": {
       "description": "Bipolar I disorder",
       "disabled": false,
       "layout": "IPY_MODEL_edb6b31eba434e6287e6111cb7e8f7ce",
       "style": "IPY_MODEL_d5ff3a1c5b46460eb1473b844f3cb229",
       "value": false
      }
     },
     "c51592b9e5b9444db42e6986521d03be": {
      "model_module": "@jupyter-widgets/base",
      "model_module_version": "1.2.0",
      "model_name": "LayoutModel",
      "state": {
       "height": "100px",
       "width": "500px"
      }
     },
     "c527bf8792c84dba8132692a7577f097": {
      "model_module": "@jupyter-widgets/controls",
      "model_module_version": "1.5.0",
      "model_name": "BoundedIntTextModel",
      "state": {
       "description": "Age:",
       "layout": "IPY_MODEL_0e8ee6e831e04ca8bfcf4ba61c76732c",
       "max": 200,
       "style": "IPY_MODEL_7d088468530c4da5b2bcf9b0ed4c5906",
       "value": 30
      }
     },
     "c52a70fad9ff440ab4c5b0b7c2e45f4f": {
      "model_module": "@jupyter-widgets/controls",
      "model_module_version": "1.5.0",
      "model_name": "DropdownModel",
      "state": {
       "_options_labels": [
        "denies",
        "endorses"
       ],
       "description": "tbi_medical",
       "index": 0,
       "layout": "IPY_MODEL_64f3493d9e7e4cd79d693795fcd61555",
       "style": "IPY_MODEL_3aac882f861744198edcb2d76af36a9b"
      }
     },
     "c5714eb64f13484b868fb2c437c10e41": {
      "model_module": "@jupyter-widgets/controls",
      "model_module_version": "1.5.0",
      "model_name": "DescriptionStyleModel",
      "state": {
       "description_width": "150px"
      }
     },
     "c583650926394767adcab594ac9acea0": {
      "model_module": "@jupyter-widgets/base",
      "model_module_version": "1.2.0",
      "model_name": "LayoutModel",
      "state": {}
     },
     "c588130dc9d8467ca70b7dec397effaa": {
      "model_module": "@jupyter-widgets/controls",
      "model_module_version": "1.5.0",
      "model_name": "VBoxModel",
      "state": {
       "_dom_classes": [
        "widget-interact"
       ],
       "children": [
        "IPY_MODEL_e42e5de50eb843e087597ee8da61470b",
        "IPY_MODEL_ab34a3966fda404aa194084e25d24659",
        "IPY_MODEL_916cc9986d944260aadbb0fc1231f116",
        "IPY_MODEL_58792fb83b4f4f87b0469396e85ed4c3"
       ],
       "layout": "IPY_MODEL_5b0635f268a14e4ab2965990d6f11573"
      }
     },
     "c5dd983208bd4bebb87e2065061f38a9": {
      "model_module": "@jupyter-widgets/controls",
      "model_module_version": "1.5.0",
      "model_name": "DescriptionStyleModel",
      "state": {
       "description_width": "150px"
      }
     },
     "c60065ccfcda4ab2ae1f8e295bcf80fa": {
      "model_module": "@jupyter-widgets/controls",
      "model_module_version": "1.5.0",
      "model_name": "VBoxModel",
      "state": {
       "_dom_classes": [
        "widget-interact"
       ],
       "children": [
        "IPY_MODEL_ef59cfeb10cb49088b630de7280d1b9b",
        "IPY_MODEL_df17f4b1d6b34876a4e6179075a35a84"
       ],
       "layout": "IPY_MODEL_30da40980b3e4143bfb416b970d5c68d"
      }
     },
     "c60e8442f8f641929d087026110f90d5": {
      "model_module": "@jupyter-widgets/output",
      "model_module_version": "1.0.0",
      "model_name": "OutputModel",
      "state": {
       "layout": "IPY_MODEL_1d0a864446cc4da99e12f883d3a7b2e5",
       "outputs": [
        {
         "name": "stdout",
         "output_type": "stream",
         "text": "\nThe patient reported no history of mania.\nThe patient reported no history of psychosis. \nThe patient reported no history of  learning disabilities, OCD or tics. \nThe patient reported no history of an eating disorder. \nThe patient reported no history of compulsive gambling, problematic internet/video game use, compulsive shopping, or sexual addiction. \n\n\n"
        }
       ]
      }
     },
     "c60edefed98445a2974023633e4d12af": {
      "model_module": "@jupyter-widgets/controls",
      "model_module_version": "1.5.0",
      "model_name": "CheckboxModel",
      "state": {
       "description": "opioid",
       "disabled": false,
       "layout": "IPY_MODEL_b914d2d00fe24e2e98d74dc96f77cc78",
       "style": "IPY_MODEL_813eeac0caa648139c2f796151954d9a",
       "value": false
      }
     },
     "c6411d80ec034f41b834837c0d89adf8": {
      "model_module": "@jupyter-widgets/controls",
      "model_module_version": "1.5.0",
      "model_name": "DescriptionStyleModel",
      "state": {
       "description_width": "150px"
      }
     },
     "c65ffd94729e4c64b1d72171f0c57ccc": {
      "model_module": "@jupyter-widgets/controls",
      "model_module_version": "1.5.0",
      "model_name": "DescriptionStyleModel",
      "state": {
       "description_width": ""
      }
     },
     "c6975850e22f439bb0b8ecb02a03c3a4": {
      "model_module": "@jupyter-widgets/base",
      "model_module_version": "1.2.0",
      "model_name": "LayoutModel",
      "state": {}
     },
     "c6e2204a9e7c43cd94bbeaf7966f0cf3": {
      "model_module": "@jupyter-widgets/base",
      "model_module_version": "1.2.0",
      "model_name": "LayoutModel",
      "state": {}
     },
     "c6e5a10e211d408385b43da31872302c": {
      "model_module": "@jupyter-widgets/controls",
      "model_module_version": "1.5.0",
      "model_name": "DescriptionStyleModel",
      "state": {
       "description_width": "150px"
      }
     },
     "c6e6b2623f6143639cb6ca056063e58e": {
      "model_module": "@jupyter-widgets/controls",
      "model_module_version": "1.5.0",
      "model_name": "DescriptionStyleModel",
      "state": {
       "description_width": ""
      }
     },
     "c6efec7a57dc4505a8c2497eabc1a238": {
      "model_module": "@jupyter-widgets/controls",
      "model_module_version": "1.5.0",
      "model_name": "VBoxModel",
      "state": {
       "children": [
        "IPY_MODEL_e1d178ee5b4944ebb3a05a06fab0495e",
        "IPY_MODEL_14c8cf214a7d498a9b16c7cbd8d753cc",
        "IPY_MODEL_a033b8dda5f1430a88c2d5544efcdc69",
        "IPY_MODEL_150dca633df149f3808acc7594d725a3"
       ],
       "layout": "IPY_MODEL_5b8fd1e9cad447b584a2d84d0df33db0"
      }
     },
     "c6f16778fb074b8e82c44eaf9af18d37": {
      "model_module": "@jupyter-widgets/base",
      "model_module_version": "1.2.0",
      "model_name": "LayoutModel",
      "state": {}
     },
     "c729ca87bc3844eea2356a31a73795f8": {
      "model_module": "@jupyter-widgets/controls",
      "model_module_version": "1.5.0",
      "model_name": "TextareaModel",
      "state": {
       "description": "Notes:",
       "layout": "IPY_MODEL_0303b9919399421ea44324b690cb0f39",
       "style": "IPY_MODEL_970775a641944e3fbff7fe009cdb265b"
      }
     },
     "c77a3841344e4a08bdc49214dda6fc6e": {
      "model_module": "@jupyter-widgets/controls",
      "model_module_version": "1.5.0",
      "model_name": "CheckboxModel",
      "state": {
       "description": "Post-traumatic stress disorder",
       "disabled": false,
       "layout": "IPY_MODEL_d5d5909348134bf6bbabcac159112bc8",
       "style": "IPY_MODEL_d8be1fb369254ac384115bfa30e4f576",
       "value": true
      }
     },
     "c79cc964cc08418cb0794b53c89f96f5": {
      "model_module": "@jupyter-widgets/controls",
      "model_module_version": "1.5.0",
      "model_name": "DescriptionStyleModel",
      "state": {
       "description_width": "150px"
      }
     },
     "c7a2d8c99d034d5099040d3534ccac24": {
      "model_module": "@jupyter-widgets/controls",
      "model_module_version": "1.5.0",
      "model_name": "DropdownModel",
      "state": {
       "_options_labels": [
        "denies",
        "endorses"
       ],
       "description": "hiv_medical",
       "index": 0,
       "layout": "IPY_MODEL_ecfa8b2075df48d78b3e743fdae50eff",
       "style": "IPY_MODEL_4fff1587c722406682cd8a4998c31d83"
      }
     },
     "c7ac7b755dd4447783f44ac79040f2a1": {
      "model_module": "@jupyter-widgets/controls",
      "model_module_version": "1.5.0",
      "model_name": "DescriptionStyleModel",
      "state": {
       "description_width": ""
      }
     },
     "c828beff776e4299b44314ce175ae44b": {
      "model_module": "@jupyter-widgets/output",
      "model_module_version": "1.0.0",
      "model_name": "OutputModel",
      "state": {
       "layout": "IPY_MODEL_fb20aabb93ac4cb0b45dc16d015b07b2",
       "outputs": [
        {
         "name": "stdout",
         "output_type": "stream",
         "text": "\nThis patient denies current depressed mood. \nOver the past several weeks, the patient denies sustained sadness, denies excessive guilt. \nThe patient denies anhedonia.\nThe patient reports fair ability to concentrate. \nThe patient denies issues with sleep. \nThe patient reports fair appetite.\nReports fair energy level. \nThe patient denies hopelessness, worthlessness, SI/HI/AH/VH/delusions.\nThey indicate they have experienced depressive episodes lasting longer than two weeks in the absence of substance use.\nThe patient denies current decreased need for sleep, euphoria \nor grandiosity or irritability, flights of idea, impulsivity, uncharacteristic talkativeness or rapid speech.\nSleep comes pretty well for me. Sometimes at night, I can tell my body is still thinking about something else. My body is thirsty I can tell what it wants.\"\n\n"
        }
       ]
      }
     },
     "c8656cdb264f486cbc49fe51f423a983": {
      "model_module": "@jupyter-widgets/controls",
      "model_module_version": "1.5.0",
      "model_name": "DropdownModel",
      "state": {
       "_options_labels": [
        "declines",
        "is amenable with"
       ],
       "description": "med_adjust",
       "index": 1,
       "layout": "IPY_MODEL_57dff8c6f77e4aad88e092f42ad13209",
       "style": "IPY_MODEL_fae3e05167a44aaab904309b75ac4e18"
      }
     },
     "c8780149c0b849579e450b62719a3b15": {
      "model_module": "@jupyter-widgets/base",
      "model_module_version": "1.2.0",
      "model_name": "LayoutModel",
      "state": {}
     },
     "c88754923f8947359357146ce4bb35b6": {
      "model_module": "@jupyter-widgets/controls",
      "model_module_version": "1.5.0",
      "model_name": "CheckboxModel",
      "state": {
       "description": "no drug",
       "disabled": false,
       "layout": "IPY_MODEL_8532ce4afe8245f3a5c05e31ec1ca94e",
       "style": "IPY_MODEL_c3e0149ab16d4228aa3f3af78411dff4",
       "value": false
      }
     },
     "c88f9cdb8c32408488f99cae069f025e": {
      "model_module": "@jupyter-widgets/base",
      "model_module_version": "1.2.0",
      "model_name": "LayoutModel",
      "state": {}
     },
     "c8939e113a244d96bffebe576b6672e1": {
      "model_module": "@jupyter-widgets/output",
      "model_module_version": "1.0.0",
      "model_name": "OutputModel",
      "state": {
       "layout": "IPY_MODEL_e7cf32fb588d4b5a872a61e833891ef9",
       "outputs": [
        {
         "name": "stdout",
         "output_type": "stream",
         "text": "\nHistory of Present Illness:\nThe patient states that they decided to come to treatment because \"Well I was here once before and I just seemed to do really well here, also a homeless issue.\". \nPatient reports they have been sober for 26 days.\nThe patient denies withdrawals. The patient endorses cravings.\nThe patient elects to start anti-craving medication.\nThe patient reports their substance use impacted their life negatively I need to break old habits and establish myself. \n \"Cravings still come and go, I'd be open to anticraving medication.\"\n    \n"
        }
       ]
      }
     },
     "c8a68a61946b434aae808d0214ff5cf9": {
      "model_module": "@jupyter-widgets/controls",
      "model_module_version": "1.5.0",
      "model_name": "DescriptionStyleModel",
      "state": {
       "description_width": ""
      }
     },
     "c8b0a059de7a43b7ba497eb3a2cf80c1": {
      "model_module": "@jupyter-widgets/base",
      "model_module_version": "1.2.0",
      "model_name": "LayoutModel",
      "state": {}
     },
     "c906307fd04f4c4a82d5fa634556fbc9": {
      "model_module": "@jupyter-widgets/output",
      "model_module_version": "1.0.0",
      "model_name": "OutputModel",
      "state": {
       "layout": "IPY_MODEL_29aa94cca10a454eb2257d6dc8781b1b",
       "outputs": [
        {
         "name": "stdout",
         "output_type": "stream",
         "text": "\nAllergies:\nNKDA\n\n"
        }
       ]
      }
     },
     "c91c54e89c4c45bb87965704c2c4a391": {
      "model_module": "@jupyter-widgets/controls",
      "model_module_version": "1.5.0",
      "model_name": "TextModel",
      "state": {
       "description": "notes",
       "layout": "IPY_MODEL_5259318fb468446090efdf421640f15f",
       "style": "IPY_MODEL_26e809260d794c3289bb3d131b4e5e6e"
      }
     },
     "c94a880d14e34de7ae6a5e6a775147de": {
      "model_module": "@jupyter-widgets/controls",
      "model_module_version": "1.5.0",
      "model_name": "DropdownModel",
      "state": {
       "_options_labels": [
        "denies",
        "endorses"
       ],
       "description": "mania",
       "index": 0,
       "layout": "IPY_MODEL_fa9ec4f225bc40b29e03b63fcbcbd3db",
       "style": "IPY_MODEL_59ccab524939497789818eceecfc2c91"
      }
     },
     "c968beaea8ca4634a46d7479ba8d2162": {
      "model_module": "@jupyter-widgets/base",
      "model_module_version": "1.2.0",
      "model_name": "LayoutModel",
      "state": {}
     },
     "c97ae6067ae64221a6f6cf14e54b8652": {
      "model_module": "@jupyter-widgets/controls",
      "model_module_version": "1.5.0",
      "model_name": "DescriptionStyleModel",
      "state": {
       "description_width": ""
      }
     },
     "c9a317fd6ea94a18a388a6dfecdec38e": {
      "model_module": "@jupyter-widgets/controls",
      "model_module_version": "1.5.0",
      "model_name": "DescriptionStyleModel",
      "state": {
       "description_width": "150px"
      }
     },
     "c9b362934d0347b88a33fa33aea79808": {
      "model_module": "@jupyter-widgets/controls",
      "model_module_version": "1.5.0",
      "model_name": "VBoxModel",
      "state": {
       "_dom_classes": [
        "widget-interact"
       ],
       "children": [
        "IPY_MODEL_a0dff1fea4ba456c867d92df987fe40b",
        "IPY_MODEL_c446598fa7634ea7a95212b21e7cd218"
       ],
       "layout": "IPY_MODEL_e7a7491e905842ef881bad0edb915215"
      }
     },
     "ca09a6ab0b7a4c3e80f0148ece1a2923": {
      "model_module": "@jupyter-widgets/controls",
      "model_module_version": "1.5.0",
      "model_name": "DropdownModel",
      "state": {
       "_options_labels": [
        "denies",
        "endorses"
       ],
       "description": "sustained_sadness",
       "index": 0,
       "layout": "IPY_MODEL_fa9ec4f225bc40b29e03b63fcbcbd3db",
       "style": "IPY_MODEL_c6e5a10e211d408385b43da31872302c"
      }
     },
     "ca2865b8f14b406283798853b56097d2": {
      "model_module": "@jupyter-widgets/controls",
      "model_module_version": "1.5.0",
      "model_name": "TextareaModel",
      "state": {
       "description": "med plan:",
       "layout": "IPY_MODEL_9ae4005f45bc4a979542452a696acd9a",
       "placeholder": "Type something",
       "style": "IPY_MODEL_4dca9c71545c4503899b8009a91b45e3",
       "value": "4. Continue Hydroxyzine 50 mg po BID prn anxiety \nContinue Prozac 40mg po qd, may take an additional 20mg qd prn during menstrual cycle \nContinue Gabapentin 600mg po BID\nContinue Clonidine 0.1 mg po prn anxiety Hold for BP less than 90 systolic or 60 diastolic, or HR less than 60 bpm\nContinue Trazodone 100-200mg po qhs prn insomnia"
      }
     },
     "ca421214a4f043c4a94e6f1ee59eb501": {
      "model_module": "@jupyter-widgets/controls",
      "model_module_version": "1.5.0",
      "model_name": "CheckboxModel",
      "state": {
       "description": "Bipolar I disorder",
       "disabled": false,
       "layout": "IPY_MODEL_f757a29107bb434691c03a8b5bd0cece",
       "style": "IPY_MODEL_93ce007ce9694225bf091a3085747685",
       "value": false
      }
     },
     "ca4c318df4b84847813c68927264113d": {
      "model_module": "@jupyter-widgets/controls",
      "model_module_version": "1.5.0",
      "model_name": "DescriptionStyleModel",
      "state": {
       "description_width": ""
      }
     },
     "ca4e2eb359e74dd6b004931661cfe722": {
      "model_module": "@jupyter-widgets/controls",
      "model_module_version": "1.5.0",
      "model_name": "DescriptionStyleModel",
      "state": {
       "description_width": ""
      }
     },
     "ca52fada09ca4a4eae83200ae1bc85a6": {
      "model_module": "@jupyter-widgets/controls",
      "model_module_version": "1.5.0",
      "model_name": "DescriptionStyleModel",
      "state": {
       "description_width": ""
      }
     },
     "ca8328fe8df14a87bd78488a31a080a1": {
      "model_module": "@jupyter-widgets/controls",
      "model_module_version": "1.5.0",
      "model_name": "DescriptionStyleModel",
      "state": {
       "description_width": ""
      }
     },
     "ca92a3e9f09d45cf8f36915599f7f55c": {
      "model_module": "@jupyter-widgets/controls",
      "model_module_version": "1.5.0",
      "model_name": "CheckboxModel",
      "state": {
       "description": "ptsd",
       "disabled": false,
       "layout": "IPY_MODEL_c583650926394767adcab594ac9acea0",
       "style": "IPY_MODEL_a111e7544fd64caaa10f56617a409428",
       "value": false
      }
     },
     "ca999bb2327747548ab4ed45846f1d9e": {
      "model_module": "@jupyter-widgets/base",
      "model_module_version": "1.2.0",
      "model_name": "LayoutModel",
      "state": {}
     },
     "ca9d692055d84c9fbbf952b3b1eeadae": {
      "model_module": "@jupyter-widgets/output",
      "model_module_version": "1.0.0",
      "model_name": "OutputModel",
      "state": {
       "layout": "IPY_MODEL_4b7cc2d3752e4a578d24c3d58d8412ec",
       "outputs": [
        {
         "name": "stdout",
         "output_type": "stream",
         "text": "\nMental Status Examination: \nAppearance: WD/WN, looks stated age, fair grooming and hygiene, casually dressed\nBehavior: Calm, cooperative, fair eye contact\nPsychomotor: No activation or retardation\nSpeech: Fluent, spontaneous\nMood: “It’s pretty good.” \nAffect: Euthymic, full-range, congruent with mood\nThought Process: Linear, logical\nThought Content: Denies SI/HI/AH/VH/delusions\nInsight/Judgement: Limited to fair/Fair\n\n"
        }
       ]
      }
     },
     "caa5395dc7134cb6b6c6f810c3614e5b": {
      "model_module": "@jupyter-widgets/base",
      "model_module_version": "1.2.0",
      "model_name": "LayoutModel",
      "state": {}
     },
     "cad7404d583846f7bdfe0c7a1e294847": {
      "model_module": "@jupyter-widgets/base",
      "model_module_version": "1.2.0",
      "model_name": "LayoutModel",
      "state": {}
     },
     "cae339c072cc4c9487394deab6a550d7": {
      "model_module": "@jupyter-widgets/controls",
      "model_module_version": "1.5.0",
      "model_name": "DropdownModel",
      "state": {
       "_options_labels": [
        "denies",
        "endorses"
       ],
       "description": "depressed",
       "index": 0,
       "layout": "IPY_MODEL_64f3493d9e7e4cd79d693795fcd61555",
       "style": "IPY_MODEL_474c745b86e04691be413e248e867683"
      }
     },
     "cae547b1b6f945638ec964ac9ff1c9a8": {
      "model_module": "@jupyter-widgets/controls",
      "model_module_version": "1.5.0",
      "model_name": "CheckboxModel",
      "state": {
       "description": "psychosis",
       "disabled": false,
       "layout": "IPY_MODEL_7ef0c2c1746545fe9ea5aab0c14bf01d",
       "style": "IPY_MODEL_f39c3d7cedd64c15a6836dc8d050126e",
       "value": false
      }
     },
     "caeaac728c48470c945b8ac5d245be04": {
      "model_module": "@jupyter-widgets/base",
      "model_module_version": "1.2.0",
      "model_name": "LayoutModel",
      "state": {}
     },
     "caec799f5b724eeabfb5009fe15a64fe": {
      "model_module": "@jupyter-widgets/controls",
      "model_module_version": "1.5.0",
      "model_name": "TextareaModel",
      "state": {
       "description": "notes",
       "layout": "IPY_MODEL_f3ab830ad14c40bcb60503d19e5f9870",
       "style": "IPY_MODEL_46c762967d7142c1b1d3673ebbbb8c76",
       "value": "\"I have flashbacks a lot, nightmares.\""
      }
     },
     "caf06070672e4d6889a290a9bad8438d": {
      "model_module": "@jupyter-widgets/controls",
      "model_module_version": "1.5.0",
      "model_name": "CheckboxModel",
      "state": {
       "description": "insomnia",
       "disabled": false,
       "layout": "IPY_MODEL_7d9f77ab1d81442aaac5ced9c72a8d4c",
       "style": "IPY_MODEL_7b216fff6a324459bcc2f7225faca3a8",
       "value": false
      }
     },
     "cafd24b2c5744a86b24925d18f4493a0": {
      "model_module": "@jupyter-widgets/controls",
      "model_module_version": "1.5.0",
      "model_name": "DescriptionStyleModel",
      "state": {
       "description_width": ""
      }
     },
     "caff9bd3b6c54ef78164a838496d143f": {
      "model_module": "@jupyter-widgets/controls",
      "model_module_version": "1.5.0",
      "model_name": "VBoxModel",
      "state": {
       "children": [
        "IPY_MODEL_1676ac174c934b4fae7cad4d9b223566",
        "IPY_MODEL_0c64c7ad19bc4c699cee8b5150f5e10b"
       ],
       "layout": "IPY_MODEL_8f8bec4827a243b8b580947897d4f80b"
      }
     },
     "cb0ff943578b46928294a41d479005b7": {
      "model_module": "@jupyter-widgets/base",
      "model_module_version": "1.2.0",
      "model_name": "LayoutModel",
      "state": {}
     },
     "cb2ff493e36e4ef3a41e8a541b4e4b4c": {
      "model_module": "@jupyter-widgets/base",
      "model_module_version": "1.2.0",
      "model_name": "LayoutModel",
      "state": {}
     },
     "cb6e5761473b4e09a8aeb6b4b17ba71d": {
      "model_module": "@jupyter-widgets/controls",
      "model_module_version": "1.5.0",
      "model_name": "DescriptionStyleModel",
      "state": {
       "description_width": ""
      }
     },
     "cb9475975d1c4bedbe91241686e94848": {
      "model_module": "@jupyter-widgets/controls",
      "model_module_version": "1.5.0",
      "model_name": "DescriptionStyleModel",
      "state": {
       "description_width": "150px"
      }
     },
     "cb980984c6684b50b8523632939c58e9": {
      "model_module": "@jupyter-widgets/controls",
      "model_module_version": "1.5.0",
      "model_name": "DescriptionStyleModel",
      "state": {
       "description_width": ""
      }
     },
     "cbcbf3cc80704f318430073e878b9cd8": {
      "model_module": "@jupyter-widgets/controls",
      "model_module_version": "1.5.0",
      "model_name": "VBoxModel",
      "state": {
       "_dom_classes": [
        "widget-interact"
       ],
       "children": [
        "IPY_MODEL_fec6263696fb401292147a51b21f9c27",
        "IPY_MODEL_0d08ae283d4743b295f73b8e909a3fe3",
        "IPY_MODEL_89863180f9c346ce8bfe25f1b801899c",
        "IPY_MODEL_55435d53da5c4cf0b06c971630b319f5"
       ],
       "layout": "IPY_MODEL_901e71d4c35f485c91ec45a5e000cc1a"
      }
     },
     "cbe0280d9ba44b02a2ef8b59ed4753be": {
      "model_module": "@jupyter-widgets/controls",
      "model_module_version": "1.5.0",
      "model_name": "DescriptionStyleModel",
      "state": {
       "description_width": ""
      }
     },
     "cbf2d016743b4e799e98a123ec0d8e56": {
      "model_module": "@jupyter-widgets/controls",
      "model_module_version": "1.5.0",
      "model_name": "BoundedIntTextModel",
      "state": {
       "description": "Age:",
       "layout": "IPY_MODEL_f46aaea058fd413baf197826ec8eba25",
       "max": 200,
       "style": "IPY_MODEL_66ae364f40834ac5832167ba071d53dd",
       "value": 33
      }
     },
     "cc1419104c434181b84eccc3efd81584": {
      "model_module": "@jupyter-widgets/base",
      "model_module_version": "1.2.0",
      "model_name": "LayoutModel",
      "state": {}
     },
     "cc3500e55dc2495c84bdab7d3b349171": {
      "model_module": "@jupyter-widgets/controls",
      "model_module_version": "1.5.0",
      "model_name": "TextareaModel",
      "state": {
       "description": "family",
       "layout": "IPY_MODEL_fa9ec4f225bc40b29e03b63fcbcbd3db",
       "style": "IPY_MODEL_908a4490777c43a7a82b0f7bc670f5ed",
       "value": "Denies family history of mental illness"
      }
     },
     "cc37d4f9036143049fac91e9821204d5": {
      "model_module": "@jupyter-widgets/controls",
      "model_module_version": "1.5.0",
      "model_name": "VBoxModel",
      "state": {
       "children": [
        "IPY_MODEL_e19aeaf9133c4ac79a294e58586b0a16",
        "IPY_MODEL_478a4a91c0c84b3f853e2c386eda0a6e",
        "IPY_MODEL_080aaef9714e49b88ad8833f1723c1db",
        "IPY_MODEL_a237f91873894101ac640b90f05a27d9",
        "IPY_MODEL_d23f2885d9d94bd6944ed84ad7693575",
        "IPY_MODEL_e09224e507d24a989b7bad023c149b25",
        "IPY_MODEL_81b1342d6a424b1c9edce945b64a0a27",
        "IPY_MODEL_e3b8288d51a14fd7ae573168758f6eb4",
        "IPY_MODEL_1295b8ca53e84293b0966fa4f369764c",
        "IPY_MODEL_ec24da4372214e36a903ff10d9691ba3",
        "IPY_MODEL_78f6f80166b74162bc85f7b2e3200fc0",
        "IPY_MODEL_d2a34fb3212846e484110ceb6f2dd183",
        "IPY_MODEL_9096a02b7dc54ef8b21228424ada1c58",
        "IPY_MODEL_5ee86194af334cc49b00f453846aa8f8"
       ],
       "layout": "IPY_MODEL_aecc2e7ef2314287a1c2b6924be54760"
      }
     },
     "cc5cdd509b2a443ead01221def213e72": {
      "model_module": "@jupyter-widgets/output",
      "model_module_version": "1.0.0",
      "model_name": "OutputModel",
      "state": {
       "layout": "IPY_MODEL_93545e5a9ffe42db9ff01184d1cc119f",
       "outputs": [
        {
         "name": "stdout",
         "output_type": "stream",
         "text": "\nCurrent Medication:\nnone\n \nPatient declines adjustments to their medication regimen.\nPatient declines psychotropic medication and elects for more conservative approaches to psychiatric symptom management at this time.\n\n\n"
        }
       ]
      }
     },
     "cc7e5d3df79c4920a76bbc2904178dda": {
      "model_module": "@jupyter-widgets/base",
      "model_module_version": "1.2.0",
      "model_name": "LayoutModel",
      "state": {}
     },
     "cc84b4180a254650ab6fc9407f0558a2": {
      "model_module": "@jupyter-widgets/controls",
      "model_module_version": "1.5.0",
      "model_name": "DescriptionStyleModel",
      "state": {
       "description_width": "150px"
      }
     },
     "cc9dee09bc1d468ab7235395681f97cb": {
      "model_module": "@jupyter-widgets/controls",
      "model_module_version": "1.5.0",
      "model_name": "DescriptionStyleModel",
      "state": {
       "description_width": "150px"
      }
     },
     "ccd31fc2f0894e10abbdc75d4264a45a": {
      "model_module": "@jupyter-widgets/base",
      "model_module_version": "1.2.0",
      "model_name": "LayoutModel",
      "state": {}
     },
     "cd1596cbcec54fffbaee9007ef7e243b": {
      "model_module": "@jupyter-widgets/controls",
      "model_module_version": "1.5.0",
      "model_name": "DescriptionStyleModel",
      "state": {
       "description_width": "150px"
      }
     },
     "cd3817a94da24fd2a82ce80c703acf74": {
      "model_module": "@jupyter-widgets/controls",
      "model_module_version": "1.5.0",
      "model_name": "DescriptionStyleModel",
      "state": {
       "description_width": "150px"
      }
     },
     "cd5e7a7ea20a4be580ca6df57a70b249": {
      "model_module": "@jupyter-widgets/controls",
      "model_module_version": "1.5.0",
      "model_name": "DropdownModel",
      "state": {
       "_options_labels": [
        "denies",
        "endorses"
       ],
       "description": "legal",
       "index": 0,
       "layout": "IPY_MODEL_5259318fb468446090efdf421640f15f",
       "style": "IPY_MODEL_834196f1031e43efa21f14ba302a402b"
      }
     },
     "cd79f5793ed84a129c5669d0093489f1": {
      "model_module": "@jupyter-widgets/base",
      "model_module_version": "1.2.0",
      "model_name": "LayoutModel",
      "state": {}
     },
     "cdbf6662b52546f2b1dbceee2014096c": {
      "model_module": "@jupyter-widgets/controls",
      "model_module_version": "1.5.0",
      "model_name": "CheckboxModel",
      "state": {
       "description": "Bipolar II disorder",
       "disabled": false,
       "layout": "IPY_MODEL_7c414122d3bc45cd8486f95396a41b9d",
       "style": "IPY_MODEL_e700a9f795c54ca1bf7ace352ac7447d",
       "value": false
      }
     },
     "cdee711470a64e4ba79f9f563069a82d": {
      "model_module": "@jupyter-widgets/base",
      "model_module_version": "1.2.0",
      "model_name": "LayoutModel",
      "state": {}
     },
     "cdf25aaf63314380b31dd03d0da292bd": {
      "model_module": "@jupyter-widgets/controls",
      "model_module_version": "1.5.0",
      "model_name": "DropdownModel",
      "state": {
       "_options_labels": [
        "denies",
        "endorses"
       ],
       "description": "sustained_sadness",
       "index": 0,
       "layout": "IPY_MODEL_ecfa8b2075df48d78b3e743fdae50eff",
       "style": "IPY_MODEL_e947d6ce0afe4a7da0295a177121c5e8"
      }
     },
     "ce22ab62392d48e094199d22ee423bb5": {
      "model_module": "@jupyter-widgets/controls",
      "model_module_version": "1.5.0",
      "model_name": "TextareaModel",
      "state": {
       "description": "treatment_reason",
       "layout": "IPY_MODEL_ecfa8b2075df48d78b3e743fdae50eff",
       "placeholder": "Type Something",
       "style": "IPY_MODEL_864c49fb4145499ab582e7dff6a75a9f",
       "value": "\"can't concentrate unless i do coke.\""
      }
     },
     "ce2b2b000fec48fb872b2b7a7f8dad82": {
      "model_module": "@jupyter-widgets/controls",
      "model_module_version": "1.5.0",
      "model_name": "DropdownModel",
      "state": {
       "_options_labels": [
        "declines",
        "is amenable with"
       ],
       "description": "med_adjust",
       "index": 1,
       "layout": "IPY_MODEL_f3ab830ad14c40bcb60503d19e5f9870",
       "style": "IPY_MODEL_1dcbff73e5e64c668b811ab305f2b6a1"
      }
     },
     "ce2b4080d9ae48718d3378bfb0f3cd98": {
      "model_module": "@jupyter-widgets/base",
      "model_module_version": "1.2.0",
      "model_name": "LayoutModel",
      "state": {}
     },
     "ce48da4676f049359fdb49a51fc4311e": {
      "model_module": "@jupyter-widgets/base",
      "model_module_version": "1.2.0",
      "model_name": "LayoutModel",
      "state": {}
     },
     "ce58720523df422e918c435843006eab": {
      "model_module": "@jupyter-widgets/controls",
      "model_module_version": "1.5.0",
      "model_name": "CheckboxModel",
      "state": {
       "description": "Unspecified Depressive Disorder",
       "disabled": false,
       "layout": "IPY_MODEL_ad4e74c347b445df80d297306d896403",
       "style": "IPY_MODEL_27932aa66fbd496ca5bf22aa1136be10",
       "value": false
      }
     },
     "ce5c303acf5847238c0704a5fae140e4": {
      "model_module": "@jupyter-widgets/base",
      "model_module_version": "1.2.0",
      "model_name": "LayoutModel",
      "state": {}
     },
     "ce67e6fbd06b41228ba9937039fe9084": {
      "model_module": "@jupyter-widgets/base",
      "model_module_version": "1.2.0",
      "model_name": "LayoutModel",
      "state": {}
     },
     "ce74c78d9ce14d508e050d7d7e47cb10": {
      "model_module": "@jupyter-widgets/controls",
      "model_module_version": "1.5.0",
      "model_name": "TextareaModel",
      "state": {
       "description": "allergies",
       "layout": "IPY_MODEL_5259318fb468446090efdf421640f15f",
       "style": "IPY_MODEL_442e57a4825f45ae906ef6e32e778ce5",
       "value": "NKDA"
      }
     },
     "ce8f5c2f73d744b28a5b16f498874e1e": {
      "model_module": "@jupyter-widgets/base",
      "model_module_version": "1.2.0",
      "model_name": "LayoutModel",
      "state": {}
     },
     "ce9f6215022e4659bf707d235cdb30f2": {
      "model_module": "@jupyter-widgets/controls",
      "model_module_version": "1.5.0",
      "model_name": "DescriptionStyleModel",
      "state": {
       "description_width": "150px"
      }
     },
     "cec889161de7473997d9e823fa70886f": {
      "model_module": "@jupyter-widgets/base",
      "model_module_version": "1.2.0",
      "model_name": "LayoutModel",
      "state": {}
     },
     "cecad76c345f4e30b3556007752bfb2e": {
      "model_module": "@jupyter-widgets/controls",
      "model_module_version": "1.5.0",
      "model_name": "TextareaModel",
      "state": {
       "description": "primary_substances",
       "layout": "IPY_MODEL_ecfa8b2075df48d78b3e743fdae50eff",
       "style": "IPY_MODEL_ac2559d5d869452a98b218fefac7dd01",
       "value": "nothing"
      }
     },
     "cedb5d11ecf6452d994600c1c9fd13bf": {
      "model_module": "@jupyter-widgets/controls",
      "model_module_version": "1.5.0",
      "model_name": "VBoxModel",
      "state": {
       "children": [
        "IPY_MODEL_c527bf8792c84dba8132692a7577f097",
        "IPY_MODEL_e60c2464e5c14eab8638ce87e7ef7a20",
        "IPY_MODEL_9e64d75249ad4946b7f30362eebdb9d8",
        "IPY_MODEL_23a50b0c323d44138b41dddb2bdb6ab5"
       ],
       "layout": "IPY_MODEL_a364dd78a9ac406887322882421beda4"
      }
     },
     "cef62f8423d248c98100d9db61c2544b": {
      "model_module": "@jupyter-widgets/controls",
      "model_module_version": "1.5.0",
      "model_name": "DropdownModel",
      "state": {
       "_options_labels": [
        "denies",
        "endorses"
       ],
       "description": "acute_medical",
       "index": 0,
       "layout": "IPY_MODEL_fa9ec4f225bc40b29e03b63fcbcbd3db",
       "style": "IPY_MODEL_0cf5f508fbd64ec2b3602503a2e0d94f"
      }
     },
     "cef77578efa94b178fb75ed78e87022d": {
      "model_module": "@jupyter-widgets/controls",
      "model_module_version": "1.5.0",
      "model_name": "DescriptionStyleModel",
      "state": {
       "description_width": "150px"
      }
     },
     "cf01f047007a4b7babf743b14c1678a8": {
      "model_module": "@jupyter-widgets/controls",
      "model_module_version": "1.5.0",
      "model_name": "CheckboxModel",
      "state": {
       "description": "cannabis",
       "disabled": false,
       "layout": "IPY_MODEL_23740e27bd6544f4bd613be5763acbee",
       "style": "IPY_MODEL_9c3550df126f4616a63cf458fb09986b",
       "value": false
      }
     },
     "cf39b4b3e53144d6af13d626053fe192": {
      "model_module": "@jupyter-widgets/controls",
      "model_module_version": "1.5.0",
      "model_name": "HBoxModel",
      "state": {
       "children": [
        "IPY_MODEL_cc37d4f9036143049fac91e9821204d5"
       ],
       "layout": "IPY_MODEL_e6b81a1408284230b9d15eeef772dbaa"
      }
     },
     "cf415332f60348a89ae8a43e50b97d7a": {
      "model_module": "@jupyter-widgets/controls",
      "model_module_version": "1.5.0",
      "model_name": "DescriptionStyleModel",
      "state": {
       "description_width": "150px"
      }
     },
     "cf5a3592759149a6aa9f6c47b6a6cd85": {
      "model_module": "@jupyter-widgets/controls",
      "model_module_version": "1.5.0",
      "model_name": "DescriptionStyleModel",
      "state": {
       "description_width": ""
      }
     },
     "cf65e7da0bcb4a69a73f8cbfdeaa9ba4": {
      "model_module": "@jupyter-widgets/base",
      "model_module_version": "1.2.0",
      "model_name": "LayoutModel",
      "state": {}
     },
     "cfd36bc7d0b84f26b2a36acd4eda81f3": {
      "model_module": "@jupyter-widgets/base",
      "model_module_version": "1.2.0",
      "model_name": "LayoutModel",
      "state": {}
     },
     "cfd4ba7228a94eb7ae06efa70a834f0f": {
      "model_module": "@jupyter-widgets/controls",
      "model_module_version": "1.5.0",
      "model_name": "CheckboxModel",
      "state": {
       "description": "sedative, hypnotic, or anxiolytic",
       "disabled": false,
       "layout": "IPY_MODEL_7b6cbeac39a348d8bd76f445cddf8088",
       "style": "IPY_MODEL_c65ffd94729e4c64b1d72171f0c57ccc",
       "value": false
      }
     },
     "d012b4b853e04169b4120225b96c8077": {
      "model_module": "@jupyter-widgets/controls",
      "model_module_version": "1.5.0",
      "model_name": "DescriptionStyleModel",
      "state": {
       "description_width": "150px"
      }
     },
     "d0182a6428aa4069bb2ba4d8619fd394": {
      "model_module": "@jupyter-widgets/controls",
      "model_module_version": "1.5.0",
      "model_name": "DescriptionStyleModel",
      "state": {
       "description_width": "150px"
      }
     },
     "d03c8446c73843b9942b7dc75509b0b3": {
      "model_module": "@jupyter-widgets/base",
      "model_module_version": "1.2.0",
      "model_name": "LayoutModel",
      "state": {}
     },
     "d03f548a81c54023912e899193a04111": {
      "model_module": "@jupyter-widgets/controls",
      "model_module_version": "1.5.0",
      "model_name": "DescriptionStyleModel",
      "state": {
       "description_width": "150px"
      }
     },
     "d05122e31e054c3c9d49b9cdc3fc77a8": {
      "model_module": "@jupyter-widgets/controls",
      "model_module_version": "1.5.0",
      "model_name": "DescriptionStyleModel",
      "state": {
       "description_width": "150px"
      }
     },
     "d0653bde6c3040b7a5a9e7deef4bffc4": {
      "model_module": "@jupyter-widgets/controls",
      "model_module_version": "1.5.0",
      "model_name": "DropdownModel",
      "state": {
       "_options_labels": [
        "denies",
        "endorses"
       ],
       "description": "anhedonia",
       "index": 0,
       "layout": "IPY_MODEL_f3ab830ad14c40bcb60503d19e5f9870",
       "style": "IPY_MODEL_6993d0b7e3f144e4a0dd9ec1515cd34f"
      }
     },
     "d071542b9136488891bf3446744d3577": {
      "model_module": "@jupyter-widgets/controls",
      "model_module_version": "1.5.0",
      "model_name": "CheckboxModel",
      "state": {
       "description": "Unspecified Anxiety Disorder",
       "disabled": false,
       "layout": "IPY_MODEL_6699feea42fc47f29477d3afdf9efde9",
       "style": "IPY_MODEL_a58d8e6a45f44b969f3d89b4b8cebcf4",
       "value": false
      }
     },
     "d08116b4df0f47f48d2a5d897beaf8de": {
      "model_module": "@jupyter-widgets/base",
      "model_module_version": "1.2.0",
      "model_name": "LayoutModel",
      "state": {}
     },
     "d0e2df0323714c118e6360ee4df39591": {
      "model_module": "@jupyter-widgets/controls",
      "model_module_version": "1.5.0",
      "model_name": "VBoxModel",
      "state": {
       "_dom_classes": [
        "widget-interact"
       ],
       "children": [
        "IPY_MODEL_aeca018d86ef4c2fbdd8cbfca382fe6d",
        "IPY_MODEL_5abc13be70474eaa9c88c271ab5b5d68",
        "IPY_MODEL_336359b2187240c8a31b7ea2827785be",
        "IPY_MODEL_6128ed6baa564219a13856b41d6adb47",
        "IPY_MODEL_6649daf904654248a1a248ecee2d73e6",
        "IPY_MODEL_e85c5a844ffe462eb430f5915058f2b3",
        "IPY_MODEL_877af86b4827463eb7f7f98708a8ba39",
        "IPY_MODEL_996c92481dca49ae8cbfd019b64acbf7",
        "IPY_MODEL_a3f27cfa292d4a7d8b4fa8f1ec4f9f78"
       ],
       "layout": "IPY_MODEL_36c617e81bba40009624a4b90b1ca9c1"
      }
     },
     "d0e7c29d22ed43f6919be5bcd9a8a931": {
      "model_module": "@jupyter-widgets/controls",
      "model_module_version": "1.5.0",
      "model_name": "VBoxModel",
      "state": {
       "_dom_classes": [
        "widget-interact"
       ],
       "children": [
        "IPY_MODEL_cecad76c345f4e30b3556007752bfb2e",
        "IPY_MODEL_51533299658e4ae49d927ce1be7ea9a0",
        "IPY_MODEL_ac2c3bd7eefe45bc95692ccdbac77be8",
        "IPY_MODEL_2c4bce41ab3e4161868bfe0dce5ca872",
        "IPY_MODEL_51559ede2e564ef289cca93aa37794e3",
        "IPY_MODEL_1b463e8bebfd4ce39d9b6cd9443247af",
        "IPY_MODEL_ecc4d5214687405a9bfa0188389dc737",
        "IPY_MODEL_25182c1a86ab4ea1b680a926d88ae05f"
       ],
       "layout": "IPY_MODEL_7c76a988c2354c309226465e198ac8ca"
      }
     },
     "d1017eca8cbe4e8eaeaaa45f2a3ed87e": {
      "model_module": "@jupyter-widgets/controls",
      "model_module_version": "1.5.0",
      "model_name": "DescriptionStyleModel",
      "state": {
       "description_width": "150px"
      }
     },
     "d11568ad371a467dacd0c2e68e581c1c": {
      "model_module": "@jupyter-widgets/base",
      "model_module_version": "1.2.0",
      "model_name": "LayoutModel",
      "state": {}
     },
     "d16f786dddd34cf1bdf1122014111c64": {
      "model_module": "@jupyter-widgets/controls",
      "model_module_version": "1.5.0",
      "model_name": "DescriptionStyleModel",
      "state": {
       "description_width": "150px"
      }
     },
     "d1716a90636948bd9aebdbdf4dd46504": {
      "model_module": "@jupyter-widgets/base",
      "model_module_version": "1.2.0",
      "model_name": "LayoutModel",
      "state": {}
     },
     "d171f5b6f6ee4b2d8884fa47c6411339": {
      "model_module": "@jupyter-widgets/controls",
      "model_module_version": "1.5.0",
      "model_name": "DropdownModel",
      "state": {
       "_options_labels": [
        "denies",
        "endorses"
       ],
       "description": "hospitalization",
       "index": 0,
       "layout": "IPY_MODEL_ecfa8b2075df48d78b3e743fdae50eff",
       "style": "IPY_MODEL_d3cae3321b29433d8c2cb233d9d34e37"
      }
     },
     "d192c5b2120148e4aeeacd932d1b6d6c": {
      "model_module": "@jupyter-widgets/base",
      "model_module_version": "1.2.0",
      "model_name": "LayoutModel",
      "state": {}
     },
     "d1a555a9a2cc405193192835ea0c3487": {
      "model_module": "@jupyter-widgets/base",
      "model_module_version": "1.2.0",
      "model_name": "LayoutModel",
      "state": {}
     },
     "d2007ecf5f28441c8aa1c133e2da407a": {
      "model_module": "@jupyter-widgets/controls",
      "model_module_version": "1.5.0",
      "model_name": "DropdownModel",
      "state": {
       "_options_labels": [
        "denies",
        "endorses"
       ],
       "description": "physical_anxiety",
       "index": 1,
       "layout": "IPY_MODEL_57dff8c6f77e4aad88e092f42ad13209",
       "style": "IPY_MODEL_99fbca5f6a5249f69837b9a8f4c703ff"
      }
     },
     "d23f2885d9d94bd6944ed84ad7693575": {
      "model_module": "@jupyter-widgets/controls",
      "model_module_version": "1.5.0",
      "model_name": "CheckboxModel",
      "state": {
       "description": "cannabis",
       "disabled": false,
       "layout": "IPY_MODEL_b314ca204e5f4c96aa9b3f2360c0a86f",
       "style": "IPY_MODEL_b7e088ba13a34452a5e57b9d310976c1",
       "value": false
      }
     },
     "d25d5faf7f0f48008262315b980b9a90": {
      "model_module": "@jupyter-widgets/controls",
      "model_module_version": "1.5.0",
      "model_name": "CheckboxModel",
      "state": {
       "description": "LSD",
       "disabled": false,
       "layout": "IPY_MODEL_f1bec9dda2ef4a07ac6b50148c32c9f3",
       "style": "IPY_MODEL_570361bd20df40aa87f8baf655e43f7d",
       "value": false
      }
     },
     "d26fea02ed534c2493a5831919fd58b8": {
      "model_module": "@jupyter-widgets/controls",
      "model_module_version": "1.5.0",
      "model_name": "ComboboxModel",
      "state": {
       "description": "home",
       "ensure_option": false,
       "layout": "IPY_MODEL_57dff8c6f77e4aad88e092f42ad13209",
       "options": [
        "in sober living",
        "at home"
       ],
       "style": "IPY_MODEL_f091db8af237410f9be70a102b42c29d",
       "value": "in sober living"
      }
     },
     "d28c64731a3b4720bd3124daa43aba70": {
      "model_module": "@jupyter-widgets/controls",
      "model_module_version": "1.5.0",
      "model_name": "CheckboxModel",
      "state": {
       "description": "Sedative, hypnotic and/or anxiolytic Use Disorder Severe",
       "disabled": false,
       "layout": "IPY_MODEL_178962fad52c48b094df47ae6c68a183",
       "style": "IPY_MODEL_669f070294a3431e9cb2e227f5cc2a7f",
       "value": false
      }
     },
     "d296e778b440437a8a6230b448d7926f": {
      "model_module": "@jupyter-widgets/controls",
      "model_module_version": "1.5.0",
      "model_name": "VBoxModel",
      "state": {
       "_dom_classes": [
        "widget-interact"
       ],
       "children": [
        "IPY_MODEL_0e45adfdbb2f421390f4b432b47cf857",
        "IPY_MODEL_0af9ae98b2464f51a179258ca41c9ecb",
        "IPY_MODEL_327ea5a9fb7546f88110e564a2bb4c40",
        "IPY_MODEL_95bc1ae124e841c2b5978a53a0f83d35",
        "IPY_MODEL_67d61903aa79487891b244c996750f20",
        "IPY_MODEL_27aa8d05f60e4ed6b4fb624f53a123f2"
       ],
       "layout": "IPY_MODEL_3235550e58074c06a5a494bdac530b54"
      }
     },
     "d2a1410c17b94f3fae71d8d7e0a3ea76": {
      "model_module": "@jupyter-widgets/controls",
      "model_module_version": "1.5.0",
      "model_name": "CheckboxModel",
      "state": {
       "description": "LSD",
       "disabled": false,
       "layout": "IPY_MODEL_2bf709eee0c942da8f66881fdd4bbfe7",
       "style": "IPY_MODEL_202ca91589ca4a00b5c160319bd38ec0",
       "value": false
      }
     },
     "d2a34fb3212846e484110ceb6f2dd183": {
      "model_module": "@jupyter-widgets/controls",
      "model_module_version": "1.5.0",
      "model_name": "CheckboxModel",
      "state": {
       "description": "mushrooms",
       "disabled": false,
       "layout": "IPY_MODEL_1d2be593b0ac43839159fdaff30b4118",
       "style": "IPY_MODEL_7a598210544443b6b1cfd48f7f8d5d55",
       "value": false
      }
     },
     "d2a3608a77e3449ab3e32e9b727a1dab": {
      "model_module": "@jupyter-widgets/controls",
      "model_module_version": "1.5.0",
      "model_name": "DescriptionStyleModel",
      "state": {
       "description_width": "150px"
      }
     },
     "d314eba098334ed1986597746f2976c3": {
      "model_module": "@jupyter-widgets/controls",
      "model_module_version": "1.5.0",
      "model_name": "DescriptionStyleModel",
      "state": {
       "description_width": "150px"
      }
     },
     "d3259bbbf22743bca7fca68fba9c26e8": {
      "model_module": "@jupyter-widgets/controls",
      "model_module_version": "1.5.0",
      "model_name": "DescriptionStyleModel",
      "state": {
       "description_width": ""
      }
     },
     "d3595011862a43bb8855663bc209c5c2": {
      "model_module": "@jupyter-widgets/controls",
      "model_module_version": "1.5.0",
      "model_name": "DescriptionStyleModel",
      "state": {
       "description_width": "150px"
      }
     },
     "d3739cc52a25494e8a96c1b120f089c4": {
      "model_module": "@jupyter-widgets/controls",
      "model_module_version": "1.5.0",
      "model_name": "DescriptionStyleModel",
      "state": {
       "description_width": ""
      }
     },
     "d3cae3321b29433d8c2cb233d9d34e37": {
      "model_module": "@jupyter-widgets/controls",
      "model_module_version": "1.5.0",
      "model_name": "DescriptionStyleModel",
      "state": {
       "description_width": "150px"
      }
     },
     "d3e5d262a6184479890315f3f1aeb740": {
      "model_module": "@jupyter-widgets/controls",
      "model_module_version": "1.5.0",
      "model_name": "DescriptionStyleModel",
      "state": {
       "description_width": ""
      }
     },
     "d3f54f90b01e4c0880472053c162b73c": {
      "model_module": "@jupyter-widgets/controls",
      "model_module_version": "1.5.0",
      "model_name": "DescriptionStyleModel",
      "state": {
       "description_width": "150px"
      }
     },
     "d44826826f7a48f198df7d0f59820fa5": {
      "model_module": "@jupyter-widgets/base",
      "model_module_version": "1.2.0",
      "model_name": "LayoutModel",
      "state": {
       "height": "100px",
       "width": "500px"
      }
     },
     "d44a90fb35ba4405835371b94a12fc5c": {
      "model_module": "@jupyter-widgets/base",
      "model_module_version": "1.2.0",
      "model_name": "LayoutModel",
      "state": {}
     },
     "d46289e85893481e8aff6f567d6b6501": {
      "model_module": "@jupyter-widgets/controls",
      "model_module_version": "1.5.0",
      "model_name": "CheckboxModel",
      "state": {
       "description": "Bipolar I disorder",
       "disabled": false,
       "layout": "IPY_MODEL_6ac66bc66cfb4cc589cdad527697b463",
       "style": "IPY_MODEL_62a6c5b5db32472c896e3c25e448a04d",
       "value": false
      }
     },
     "d4780938a3024082ba66bb8f07a8e928": {
      "model_module": "@jupyter-widgets/controls",
      "model_module_version": "1.5.0",
      "model_name": "DescriptionStyleModel",
      "state": {
       "description_width": "150px"
      }
     },
     "d47bc73869ed49ffa8314e372d452122": {
      "model_module": "@jupyter-widgets/controls",
      "model_module_version": "1.5.0",
      "model_name": "DropdownModel",
      "state": {
       "_options_labels": [
        "a history",
        "no history"
       ],
       "description": "learning_disabilties",
       "index": 1,
       "layout": "IPY_MODEL_5259318fb468446090efdf421640f15f",
       "style": "IPY_MODEL_94417d97324645c5be040ad43d856c54"
      }
     },
     "d480296497104dc7b778b0b3b58544d0": {
      "model_module": "@jupyter-widgets/controls",
      "model_module_version": "1.5.0",
      "model_name": "DescriptionStyleModel",
      "state": {
       "description_width": "150px"
      }
     },
     "d4887c6f15414508a5dd0327ac9cd229": {
      "model_module": "@jupyter-widgets/base",
      "model_module_version": "1.2.0",
      "model_name": "LayoutModel",
      "state": {}
     },
     "d491f8cf22314c738b8f72e061c9e1ab": {
      "model_module": "@jupyter-widgets/controls",
      "model_module_version": "1.5.0",
      "model_name": "DescriptionStyleModel",
      "state": {
       "description_width": ""
      }
     },
     "d4a9a3d8e57e42df98b540d0ee1b81f5": {
      "model_module": "@jupyter-widgets/base",
      "model_module_version": "1.2.0",
      "model_name": "LayoutModel",
      "state": {
       "width": "25%"
      }
     },
     "d4cb931c0fce43cfbaaf28ec08cef113": {
      "model_module": "@jupyter-widgets/base",
      "model_module_version": "1.2.0",
      "model_name": "LayoutModel",
      "state": {}
     },
     "d5051b38400f4b52a8520a3a41dc23f3": {
      "model_module": "@jupyter-widgets/controls",
      "model_module_version": "1.5.0",
      "model_name": "TextareaModel",
      "state": {
       "description": "treatment_reason",
       "layout": "IPY_MODEL_5259318fb468446090efdf421640f15f",
       "placeholder": "Type Something",
       "style": "IPY_MODEL_aa63a2286f9a4eff94f7f1041cd43d1c",
       "value": "i really neededhelp "
      }
     },
     "d53df8c7c73b4cadb4de82d7feb15959": {
      "model_module": "@jupyter-widgets/controls",
      "model_module_version": "1.5.0",
      "model_name": "CheckboxModel",
      "state": {
       "description": "insomnia",
       "disabled": false,
       "layout": "IPY_MODEL_8e947304dc8e4b6abb882e19e5265182",
       "style": "IPY_MODEL_445bc7fbb71c4e4a93f2db9bd671a2cb",
       "value": false
      }
     },
     "d55a47cc76b54277a3ad678666f3b0e6": {
      "model_module": "@jupyter-widgets/base",
      "model_module_version": "1.2.0",
      "model_name": "LayoutModel",
      "state": {}
     },
     "d5a3ccfe888c462293755b0e62ee986c": {
      "model_module": "@jupyter-widgets/controls",
      "model_module_version": "1.5.0",
      "model_name": "DropdownModel",
      "state": {
       "_options_labels": [
        "denies",
        "endorses"
       ],
       "description": "cravings_choice",
       "index": 0,
       "layout": "IPY_MODEL_ecfa8b2075df48d78b3e743fdae50eff",
       "style": "IPY_MODEL_45277ccff48f493d9e827e7764160c46"
      }
     },
     "d5d5909348134bf6bbabcac159112bc8": {
      "model_module": "@jupyter-widgets/base",
      "model_module_version": "1.2.0",
      "model_name": "LayoutModel",
      "state": {}
     },
     "d5e91944b6b24b01b102627755b9c3ee": {
      "model_module": "@jupyter-widgets/controls",
      "model_module_version": "1.5.0",
      "model_name": "DropdownModel",
      "state": {
       "_options_labels": [
        "good",
        "fair",
        "poor"
       ],
       "description": "concentration",
       "index": 1,
       "layout": "IPY_MODEL_5259318fb468446090efdf421640f15f",
       "style": "IPY_MODEL_b1b616b3c5304e7a96815f78c405a58f"
      }
     },
     "d5f7ad70e76546faa1dec862d431fa07": {
      "model_module": "@jupyter-widgets/base",
      "model_module_version": "1.2.0",
      "model_name": "LayoutModel",
      "state": {}
     },
     "d5ff3a1c5b46460eb1473b844f3cb229": {
      "model_module": "@jupyter-widgets/controls",
      "model_module_version": "1.5.0",
      "model_name": "DescriptionStyleModel",
      "state": {
       "description_width": ""
      }
     },
     "d65ccb0cacfb4a419ec9b3ff857bb716": {
      "model_module": "@jupyter-widgets/controls",
      "model_module_version": "1.5.0",
      "model_name": "DescriptionStyleModel",
      "state": {
       "description_width": "150px"
      }
     },
     "d66677f31c284823af293cfa1a37b523": {
      "model_module": "@jupyter-widgets/base",
      "model_module_version": "1.2.0",
      "model_name": "LayoutModel",
      "state": {}
     },
     "d66903a318494ce68111ab54211fd20b": {
      "model_module": "@jupyter-widgets/controls",
      "model_module_version": "1.5.0",
      "model_name": "DescriptionStyleModel",
      "state": {
       "description_width": "150px"
      }
     },
     "d6a440cdec1f4ee69697b495da96ff32": {
      "model_module": "@jupyter-widgets/base",
      "model_module_version": "1.2.0",
      "model_name": "LayoutModel",
      "state": {}
     },
     "d6b158da42b74902a5c59d8fa3c67ba4": {
      "model_module": "@jupyter-widgets/controls",
      "model_module_version": "1.5.0",
      "model_name": "CheckboxModel",
      "state": {
       "description": "ptsd",
       "disabled": false,
       "layout": "IPY_MODEL_fb9bd116b4bc4a759e1891cdc0569715",
       "style": "IPY_MODEL_3fd24a82bad245699584e374403992a9",
       "value": true
      }
     },
     "d6b309dfb10c43188f06eb910574c878": {
      "model_module": "@jupyter-widgets/base",
      "model_module_version": "1.2.0",
      "model_name": "LayoutModel",
      "state": {}
     },
     "d6e9353cbcb44706ae99ca3a09867fd0": {
      "model_module": "@jupyter-widgets/output",
      "model_module_version": "1.0.0",
      "model_name": "OutputModel",
      "state": {
       "layout": "IPY_MODEL_a0dccbe83af54127b7c40064105d3392",
       "outputs": [
        {
         "name": "stdout",
         "output_type": "stream",
         "text": "\nThe patient denies that they have sustained significant trauma, \ndenies current symptoms of PTSD including flashbacks, nightmares, hypervigilance, triggers, \nand avoidance of triggers.\n\n\n"
        }
       ]
      }
     },
     "d748a9f399f74048b677a2879d628422": {
      "model_module": "@jupyter-widgets/controls",
      "model_module_version": "1.5.0",
      "model_name": "DescriptionStyleModel",
      "state": {
       "description_width": "150px"
      }
     },
     "d77bff8863c044798a0bba4492339d1d": {
      "model_module": "@jupyter-widgets/controls",
      "model_module_version": "1.5.0",
      "model_name": "TextareaModel",
      "state": {
       "description": "treatment_reason",
       "layout": "IPY_MODEL_fa9ec4f225bc40b29e03b63fcbcbd3db",
       "placeholder": "Type Something",
       "style": "IPY_MODEL_d955e28177a147b2a28c88fd5b05736f",
       "value": "\"Well I was here once before and I just seemed to do really well here, also a homeless issue.\""
      }
     },
     "d782814f812f4389818af4e707f45ace": {
      "model_module": "@jupyter-widgets/controls",
      "model_module_version": "1.5.0",
      "model_name": "DescriptionStyleModel",
      "state": {
       "description_width": "150px"
      }
     },
     "d80853f76b614b45b7216fcd495f0d3f": {
      "model_module": "@jupyter-widgets/output",
      "model_module_version": "1.0.0",
      "model_name": "OutputModel",
      "state": {
       "layout": "IPY_MODEL_0204ea982ec242fe9f2c9add82ca94d4",
       "outputs": [
        {
         "name": "stdout",
         "output_type": "stream",
         "text": "\nThe patient endorses that they have sustained significant trauma, \nendorses current symptoms of PTSD including flashbacks, nightmares, hypervigilance, triggers, \nand avoidance of triggers.\nReports many traumas,\nEndorses hx of sexual and physical abuse \n\n\n"
        }
       ]
      }
     },
     "d825bb58819941189bdfcc5a8617323a": {
      "model_module": "@jupyter-widgets/controls",
      "model_module_version": "1.5.0",
      "model_name": "VBoxModel",
      "state": {
       "children": [
        "IPY_MODEL_7fb748c493044f0ab3ddc05da8d876c4",
        "IPY_MODEL_f9860c4d552e49b391951016ffd25579",
        "IPY_MODEL_30f45c1c6091472387e3f720bfe7a920"
       ],
       "layout": "IPY_MODEL_b4bc172900a24609a34eba659adc3de4"
      }
     },
     "d826e578bcc8461791efc792b147de05": {
      "model_module": "@jupyter-widgets/base",
      "model_module_version": "1.2.0",
      "model_name": "LayoutModel",
      "state": {}
     },
     "d860e0af5b6646969ac356648666f754": {
      "model_module": "@jupyter-widgets/base",
      "model_module_version": "1.2.0",
      "model_name": "LayoutModel",
      "state": {}
     },
     "d885be8b4df249e7b8d619fdd3679870": {
      "model_module": "@jupyter-widgets/controls",
      "model_module_version": "1.5.0",
      "model_name": "CheckboxModel",
      "state": {
       "description": "Sedative, hypnotic and/or anxiolytic Use Disorder Severe",
       "disabled": false,
       "layout": "IPY_MODEL_c0f1aa40c20742a2951a722c1653831b",
       "style": "IPY_MODEL_f64144d77a4d458a86d4a7ad3a9374ec",
       "value": false
      }
     },
     "d8be1fb369254ac384115bfa30e4f576": {
      "model_module": "@jupyter-widgets/controls",
      "model_module_version": "1.5.0",
      "model_name": "DescriptionStyleModel",
      "state": {
       "description_width": ""
      }
     },
     "d8c03cda99d24995acbe85eb6b1ef17c": {
      "model_module": "@jupyter-widgets/controls",
      "model_module_version": "1.5.0",
      "model_name": "DescriptionStyleModel",
      "state": {
       "description_width": ""
      }
     },
     "d8e4d24a00584207b5e588084cd03031": {
      "model_module": "@jupyter-widgets/base",
      "model_module_version": "1.2.0",
      "model_name": "LayoutModel",
      "state": {}
     },
     "d8f548e6112340af97e59483d90a3641": {
      "model_module": "@jupyter-widgets/controls",
      "model_module_version": "1.5.0",
      "model_name": "CheckboxModel",
      "state": {
       "description": "Alcohol use disorder Severe",
       "disabled": false,
       "layout": "IPY_MODEL_1303c68063cd492395701462720ffe4d",
       "style": "IPY_MODEL_5a624aaf5c1c476c99f036a3566a83a9",
       "value": false
      }
     },
     "d907e122859c45b8ba05992aa7cc00e6": {
      "model_module": "@jupyter-widgets/base",
      "model_module_version": "1.2.0",
      "model_name": "LayoutModel",
      "state": {}
     },
     "d955e28177a147b2a28c88fd5b05736f": {
      "model_module": "@jupyter-widgets/controls",
      "model_module_version": "1.5.0",
      "model_name": "DescriptionStyleModel",
      "state": {
       "description_width": "150px"
      }
     },
     "d95dd701432b463484ba11001a7e35dd": {
      "model_module": "@jupyter-widgets/controls",
      "model_module_version": "1.5.0",
      "model_name": "DescriptionStyleModel",
      "state": {
       "description_width": "150px"
      }
     },
     "d9690fe19f9f4eafac8e873dfbb51af5": {
      "model_module": "@jupyter-widgets/controls",
      "model_module_version": "1.5.0",
      "model_name": "DescriptionStyleModel",
      "state": {
       "description_width": ""
      }
     },
     "d9732e8931e945e6be49d3eefdd4a6d1": {
      "model_module": "@jupyter-widgets/base",
      "model_module_version": "1.2.0",
      "model_name": "LayoutModel",
      "state": {}
     },
     "d9771804c58249dcac0db4a1c5428f80": {
      "model_module": "@jupyter-widgets/base",
      "model_module_version": "1.2.0",
      "model_name": "LayoutModel",
      "state": {}
     },
     "d98437aa04874b058246c7193d53921c": {
      "model_module": "@jupyter-widgets/controls",
      "model_module_version": "1.5.0",
      "model_name": "CheckboxModel",
      "state": {
       "description": "sedative, hypnotic, or anxiolytic",
       "disabled": false,
       "layout": "IPY_MODEL_7d708cbc56834d17b06187a861719208",
       "style": "IPY_MODEL_963e175701bf43989384e81f3665e0be",
       "value": false
      }
     },
     "d993887c40f94981b8c6458343d9971e": {
      "model_module": "@jupyter-widgets/controls",
      "model_module_version": "1.5.0",
      "model_name": "DescriptionStyleModel",
      "state": {
       "description_width": ""
      }
     },
     "d9bc571368fa43eda6107e6eb298ecfd": {
      "model_module": "@jupyter-widgets/controls",
      "model_module_version": "1.5.0",
      "model_name": "HBoxModel",
      "state": {
       "children": [
        "IPY_MODEL_22dc9be5a82141c58f55e1890bae8373",
        "IPY_MODEL_431f8309ad304a969842b6b04d168f9f"
       ],
       "layout": "IPY_MODEL_423ef1e125f042dd9997813de3920525"
      }
     },
     "d9ce251d5e9a48d5a51de156fc70f90a": {
      "model_module": "@jupyter-widgets/base",
      "model_module_version": "1.2.0",
      "model_name": "LayoutModel",
      "state": {}
     },
     "d9daa0b07813403a8a522fe952311295": {
      "model_module": "@jupyter-widgets/output",
      "model_module_version": "1.0.0",
      "model_name": "OutputModel",
      "state": {
       "layout": "IPY_MODEL_fc6875f2581844e7adc81e32b7c1fa54",
       "outputs": [
        {
         "name": "stdout",
         "output_type": "stream",
         "text": "\nLabs and Studies:\nNone currently on file.\n\n"
        }
       ]
      }
     },
     "d9ed4ca8bc8047e9b3296eb77d672f75": {
      "model_module": "@jupyter-widgets/controls",
      "model_module_version": "1.5.0",
      "model_name": "DescriptionStyleModel",
      "state": {
       "description_width": ""
      }
     },
     "da2060c50a0e4b3da4bbaddb8eaf0aa9": {
      "model_module": "@jupyter-widgets/controls",
      "model_module_version": "1.5.0",
      "model_name": "DescriptionStyleModel",
      "state": {
       "description_width": ""
      }
     },
     "da95cadc5f264783a90bdf120732982a": {
      "model_module": "@jupyter-widgets/output",
      "model_module_version": "1.0.0",
      "model_name": "OutputModel",
      "state": {
       "layout": "IPY_MODEL_adc099d119ed4de5b8c1f15c389ec4b5",
       "outputs": [
        {
         "name": "stdout",
         "output_type": "stream",
         "text": "\nFamily Psychiatric History:\nDenies family history of mental illness\n\n"
        }
       ]
      }
     },
     "da9ea7578be34a03a66432a3d4ab7bd9": {
      "model_module": "@jupyter-widgets/base",
      "model_module_version": "1.2.0",
      "model_name": "LayoutModel",
      "state": {}
     },
     "dac2e58d3e764f5aa522d16b47c90717": {
      "model_module": "@jupyter-widgets/base",
      "model_module_version": "1.2.0",
      "model_name": "LayoutModel",
      "state": {}
     },
     "dacb5ead9c0648c7b9046fcf7a63ebee": {
      "model_module": "@jupyter-widgets/controls",
      "model_module_version": "1.5.0",
      "model_name": "CheckboxModel",
      "state": {
       "description": "Unspecified Bipolar Disorder",
       "disabled": false,
       "layout": "IPY_MODEL_668d9a9a79fc473f80d118b4ec44756c",
       "style": "IPY_MODEL_d491f8cf22314c738b8f72e061c9e1ab",
       "value": false
      }
     },
     "dae7f0fe4e1d4419be035023d884d8bf": {
      "model_module": "@jupyter-widgets/controls",
      "model_module_version": "1.5.0",
      "model_name": "DropdownModel",
      "state": {
       "_options_labels": [
        "denies",
        "endorses"
       ],
       "description": "current_trauma",
       "index": 1,
       "layout": "IPY_MODEL_57dff8c6f77e4aad88e092f42ad13209",
       "style": "IPY_MODEL_7218cb641d434b95a976dfc60004417f"
      }
     },
     "db13d81e46dc4f4fb38fef2872e552d0": {
      "model_module": "@jupyter-widgets/controls",
      "model_module_version": "1.5.0",
      "model_name": "DescriptionStyleModel",
      "state": {
       "description_width": "150px"
      }
     },
     "db3d94f703df4a49a16b596b142eb869": {
      "model_module": "@jupyter-widgets/base",
      "model_module_version": "1.2.0",
      "model_name": "LayoutModel",
      "state": {}
     },
     "dba8095b496e497aa584cbde0b7e404e": {
      "model_module": "@jupyter-widgets/controls",
      "model_module_version": "1.5.0",
      "model_name": "DescriptionStyleModel",
      "state": {
       "description_width": "150px"
      }
     },
     "dbb0fd7bff8e448eab76eba87139ac18": {
      "model_module": "@jupyter-widgets/base",
      "model_module_version": "1.2.0",
      "model_name": "LayoutModel",
      "state": {}
     },
     "dbbe2fdea6e34980a4073f326d213b15": {
      "model_module": "@jupyter-widgets/controls",
      "model_module_version": "1.5.0",
      "model_name": "DescriptionStyleModel",
      "state": {
       "description_width": ""
      }
     },
     "dbbe94337905411d8f63d79160d58c4e": {
      "model_module": "@jupyter-widgets/controls",
      "model_module_version": "1.5.0",
      "model_name": "DropdownModel",
      "state": {
       "_options_labels": [
        "male",
        "female",
        "nb"
       ],
       "description": "gender:",
       "index": 0,
       "layout": "IPY_MODEL_383f03e8e4b74a67b728c9d1b4f10515",
       "style": "IPY_MODEL_0ed5163ff4594508a025fe5a8727ac49"
      }
     },
     "dbce0f6d716449108d0a5f18fc25c177": {
      "model_module": "@jupyter-widgets/controls",
      "model_module_version": "1.5.0",
      "model_name": "DropdownModel",
      "state": {
       "_options_labels": [
        "days",
        "months",
        "years"
       ],
       "description": "sober_period",
       "index": 0,
       "layout": "IPY_MODEL_57dff8c6f77e4aad88e092f42ad13209",
       "style": "IPY_MODEL_2768d91b55344f6baf08f9dce42cd9a4"
      }
     },
     "dbd9650a2aeb415db8404a022b3df058": {
      "model_module": "@jupyter-widgets/controls",
      "model_module_version": "1.5.0",
      "model_name": "CheckboxModel",
      "state": {
       "description": "anxiety",
       "disabled": false,
       "layout": "IPY_MODEL_76d7c9a7bc624005811baf92a7d761d7",
       "style": "IPY_MODEL_b03b53f7481444b2a8e1459b2001b401",
       "value": false
      }
     },
     "dbf44da842b545eea71c0acf3049a9a7": {
      "model_module": "@jupyter-widgets/controls",
      "model_module_version": "1.5.0",
      "model_name": "TextareaModel",
      "state": {
       "description": "previous_meds",
       "layout": "IPY_MODEL_57dff8c6f77e4aad88e092f42ad13209",
       "style": "IPY_MODEL_4957af898a114875b4f1d011545e29d3",
       "value": "Hydroxyzine 50 mg BID \nProzac 60 mg qd, 40 + 20 during menstrual- 4 years\nGabapentin 600mg BID\nClonidine 0.1 mg prn anxiety \nTrazodone 100-200mg qhs prn insomnia"
      }
     },
     "dc30f373454844b58e30850b2634bbc9": {
      "model_module": "@jupyter-widgets/base",
      "model_module_version": "1.2.0",
      "model_name": "LayoutModel",
      "state": {}
     },
     "dc413dc40fa441ae9c69a5b7eb159fcb": {
      "model_module": "@jupyter-widgets/base",
      "model_module_version": "1.2.0",
      "model_name": "LayoutModel",
      "state": {}
     },
     "dc449e1869774da6b51056119e9abf32": {
      "model_module": "@jupyter-widgets/controls",
      "model_module_version": "1.5.0",
      "model_name": "DescriptionStyleModel",
      "state": {
       "description_width": "150px"
      }
     },
     "dc4b527b8e4341ee8631b0e087899b73": {
      "model_module": "@jupyter-widgets/controls",
      "model_module_version": "1.5.0",
      "model_name": "DescriptionStyleModel",
      "state": {
       "description_width": ""
      }
     },
     "dc7161c94d5449b09dc136577299df2f": {
      "model_module": "@jupyter-widgets/controls",
      "model_module_version": "1.5.0",
      "model_name": "CheckboxModel",
      "state": {
       "description": "Post-traumatic stress disorder",
       "disabled": false,
       "layout": "IPY_MODEL_01925deb26724f48b61465dc9813adf3",
       "style": "IPY_MODEL_42a5d16167a745f699f4f9ee20d622e1",
       "value": false
      }
     },
     "dc77b16b2f3141288d9248aab0b7af9e": {
      "model_module": "@jupyter-widgets/base",
      "model_module_version": "1.2.0",
      "model_name": "LayoutModel",
      "state": {}
     },
     "dc82db523a8f4d578365b7ea82cdd168": {
      "model_module": "@jupyter-widgets/controls",
      "model_module_version": "1.5.0",
      "model_name": "DescriptionStyleModel",
      "state": {
       "description_width": "150px"
      }
     },
     "dc861be32a3145a5b63d1294728735ed": {
      "model_module": "@jupyter-widgets/controls",
      "model_module_version": "1.5.0",
      "model_name": "TextareaModel",
      "state": {
       "description": "notes",
       "layout": "IPY_MODEL_f3ab830ad14c40bcb60503d19e5f9870",
       "style": "IPY_MODEL_2e5dcf13bebb45f7a84bc5ad0ef58a97",
       "value": "Reports she just found out she has syphilis, recently tested at her sober living, this is her second time getting syphilis. "
      }
     },
     "dc91b3cf673a4a819bcff1826c048c01": {
      "model_module": "@jupyter-widgets/controls",
      "model_module_version": "1.5.0",
      "model_name": "DescriptionStyleModel",
      "state": {
       "description_width": "150px"
      }
     },
     "dd15c01f93af456384e075bdbe6ba446": {
      "model_module": "@jupyter-widgets/controls",
      "model_module_version": "1.5.0",
      "model_name": "DescriptionStyleModel",
      "state": {
       "description_width": "150px"
      }
     },
     "dd2b5fcdc32e44f88c1cb869e1dc7417": {
      "model_module": "@jupyter-widgets/controls",
      "model_module_version": "1.5.0",
      "model_name": "DescriptionStyleModel",
      "state": {
       "description_width": ""
      }
     },
     "dd484023cefb459ea0521c9964a6c3c6": {
      "model_module": "@jupyter-widgets/base",
      "model_module_version": "1.2.0",
      "model_name": "LayoutModel",
      "state": {}
     },
     "dd4ee705eeac4bf28a2868c6b9ef8a2b": {
      "model_module": "@jupyter-widgets/controls",
      "model_module_version": "1.5.0",
      "model_name": "DescriptionStyleModel",
      "state": {
       "description_width": "150px"
      }
     },
     "dd9514ebcaec4480b1a70c1ea2fe2aff": {
      "model_module": "@jupyter-widgets/controls",
      "model_module_version": "1.5.0",
      "model_name": "DropdownModel",
      "state": {
       "_options_labels": [
        "denies",
        "endorses"
       ],
       "description": "seizures",
       "index": 0,
       "layout": "IPY_MODEL_fa9ec4f225bc40b29e03b63fcbcbd3db",
       "style": "IPY_MODEL_00ef1ab145b1433aacf5a94381aa0e6c"
      }
     },
     "dd9eadcd71174e74a62422a5c442e032": {
      "model_module": "@jupyter-widgets/output",
      "model_module_version": "1.0.0",
      "model_name": "OutputModel",
      "state": {
       "layout": "IPY_MODEL_791dec36866041c68ee88bc86138462b",
       "outputs": [
        {
         "name": "stdout",
         "output_type": "stream",
         "text": "\nHistory of Present Illness:\nThe patient states that they decided to come to treatment because \"I wanted to be more accountable and live more of a normal life.\". \nPatient reports they have been sober for 100 days.\nThe patient denies withdrawals. The patient denies cravings.\nThe patient declines anti-craving medication.\nThe patient reports their substance use impacted their life negatively \"Well heroin use is not very good for your health. You don't ever see any old heroin addicts. I kinda don't want to die.\" \n Takes Subutex 8mg TID- for past 100 days- I've had issues tapering down. I'm more than willing to start the taper.\" States suboxone interferes with my other medications too easily.\n    \n"
        }
       ]
      }
     },
     "ddd256ca8e694cebb8ed170dcddda54d": {
      "model_module": "@jupyter-widgets/controls",
      "model_module_version": "1.5.0",
      "model_name": "DescriptionStyleModel",
      "state": {
       "description_width": "150px"
      }
     },
     "dddde64d23a1440ba837ac8651261b96": {
      "model_module": "@jupyter-widgets/controls",
      "model_module_version": "1.5.0",
      "model_name": "HBoxModel",
      "state": {
       "children": [
        "IPY_MODEL_7c89befafa4244bcb18739834d7243f3",
        "IPY_MODEL_b1156594443f4c54853e63ce8f57fdc1",
        "IPY_MODEL_284bfc6e5ef64054bb155b778581add5"
       ],
       "layout": "IPY_MODEL_777d85307fd744b29ed2aa325a3718e9"
      }
     },
     "dde2794997f040f4aa7a8552e0e68796": {
      "model_module": "@jupyter-widgets/output",
      "model_module_version": "1.0.0",
      "model_name": "OutputModel",
      "state": {
       "layout": "IPY_MODEL_777c2ba80d474831b5bf41cf0b59179b",
       "outputs": [
        {
         "name": "stdout",
         "output_type": "stream",
         "text": "\nThis patient denies current depressed mood. \nOver the past several weeks, the patient denies sustained sadness, denies excessive guilt. \nThe patient denies anhedonia.\nThe patient reports fair ability to concentrate. \nThe patient denies issues with sleep. \nThe patient reports fair appetite.\nReports fair energy level. \nThe patient denies hopelessness, worthlessness, SI/HI/AH/VH/delusions.\nThey indicate they have experienced depressive episodes lasting longer than two weeks in the absence of substance use.\nThe patient denies current decreased need for sleep, euphoria \nor grandiosity or irritability, flights of idea, impulsivity, uncharacteristic talkativeness or rapid speech.\n\n\n"
        }
       ]
      }
     },
     "de114c4ef79e49a6942ea648488f7f0f": {
      "model_module": "@jupyter-widgets/controls",
      "model_module_version": "1.5.0",
      "model_name": "DescriptionStyleModel",
      "state": {
       "description_width": "150px"
      }
     },
     "de1d234b36124048a669718222f71b20": {
      "model_module": "@jupyter-widgets/controls",
      "model_module_version": "1.5.0",
      "model_name": "VBoxModel",
      "state": {
       "children": [
        "IPY_MODEL_e6198b0356164c318f3f74006997495c",
        "IPY_MODEL_0614ac8a2743432b895534873eb77433",
        "IPY_MODEL_00bbc63a743a45f4a167b1643806536d",
        "IPY_MODEL_29d51eb58c5241d4b6fc3332640d6afb",
        "IPY_MODEL_3f6a6f24286b4f439d32c45647fcf076",
        "IPY_MODEL_aae144a7d21341af8de18c7f1e88c9e0",
        "IPY_MODEL_5653ce2f59c3481485b158d9e03e2693",
        "IPY_MODEL_540a298405c7411ea63bfd87f13a2e6c",
        "IPY_MODEL_8c7abfa55b06461abf72643602117e05",
        "IPY_MODEL_1b7193936b0b43159bc046b9636027ee"
       ],
       "layout": "IPY_MODEL_311cd3e7d39f46c0881bdd7b1cee68c3"
      }
     },
     "de3279a8a5b04c0e8a866933e51c271c": {
      "model_module": "@jupyter-widgets/controls",
      "model_module_version": "1.5.0",
      "model_name": "DescriptionStyleModel",
      "state": {
       "description_width": ""
      }
     },
     "de4232dc546a4de48eef1196ff982fe2": {
      "model_module": "@jupyter-widgets/controls",
      "model_module_version": "1.5.0",
      "model_name": "TextareaModel",
      "state": {
       "description": "notes",
       "layout": "IPY_MODEL_f3ab830ad14c40bcb60503d19e5f9870",
       "style": "IPY_MODEL_1db97b90f3b5447da5f2dcdd73d89cfd",
       "value": "Reports hx of bipolar disorder in 2017 following a manic episode. "
      }
     },
     "de838b0945cd4010b00008706c566f9e": {
      "model_module": "@jupyter-widgets/controls",
      "model_module_version": "1.5.0",
      "model_name": "DropdownModel",
      "state": {
       "_options_labels": [
        "denies",
        "endorses"
       ],
       "description": "suicide",
       "index": 0,
       "layout": "IPY_MODEL_5259318fb468446090efdf421640f15f",
       "style": "IPY_MODEL_7209e39e7de646a09c12a261ed8b6c5c"
      }
     },
     "de859d20d7bb43cb840ebd52b0803daa": {
      "model_module": "@jupyter-widgets/controls",
      "model_module_version": "1.5.0",
      "model_name": "BoundedIntTextModel",
      "state": {
       "description": "num_children",
       "layout": "IPY_MODEL_5259318fb468446090efdf421640f15f",
       "style": "IPY_MODEL_82eb74f4f016438383e34be37f7ed4bb"
      }
     },
     "de979a2b9b8c468fb93d7d9ad24b60ed": {
      "model_module": "@jupyter-widgets/base",
      "model_module_version": "1.2.0",
      "model_name": "LayoutModel",
      "state": {}
     },
     "de9cf0adcfe64156851f2ef46ce31a73": {
      "model_module": "@jupyter-widgets/controls",
      "model_module_version": "1.5.0",
      "model_name": "DescriptionStyleModel",
      "state": {
       "description_width": "150px"
      }
     },
     "dea760f700104b7e9a461326656bf8e1": {
      "model_module": "@jupyter-widgets/controls",
      "model_module_version": "1.5.0",
      "model_name": "DescriptionStyleModel",
      "state": {
       "description_width": "150px"
      }
     },
     "dec66864844440af82ced14ebf7cc20b": {
      "model_module": "@jupyter-widgets/controls",
      "model_module_version": "1.5.0",
      "model_name": "DescriptionStyleModel",
      "state": {
       "description_width": ""
      }
     },
     "dee945bc34764e6a9859ca6955dba758": {
      "model_module": "@jupyter-widgets/controls",
      "model_module_version": "1.5.0",
      "model_name": "TextareaModel",
      "state": {
       "description": "notes",
       "layout": "IPY_MODEL_5259318fb468446090efdf421640f15f",
       "style": "IPY_MODEL_4a6e16e5ca8f4ff592503f725e535b65"
      }
     },
     "df0e1c41c2ff4242a89d764d874bbdb6": {
      "model_module": "@jupyter-widgets/controls",
      "model_module_version": "1.5.0",
      "model_name": "DescriptionStyleModel",
      "state": {
       "description_width": "150px"
      }
     },
     "df11e0a6b8734f1da4fb2667c8629ac4": {
      "model_module": "@jupyter-widgets/controls",
      "model_module_version": "1.5.0",
      "model_name": "VBoxModel",
      "state": {
       "_dom_classes": [
        "widget-interact"
       ],
       "children": [
        "IPY_MODEL_f39560178d2c462ca494e0665d9446ee",
        "IPY_MODEL_31c5a18dc273460981d7220efcc76153"
       ],
       "layout": "IPY_MODEL_8cfea15f94f043b9a0ad9f19d5f4ae7d"
      }
     },
     "df17f4b1d6b34876a4e6179075a35a84": {
      "model_module": "@jupyter-widgets/output",
      "model_module_version": "1.0.0",
      "model_name": "OutputModel",
      "state": {
       "layout": "IPY_MODEL_af3696ffd4684866a0bb04deced18fd3",
       "outputs": [
        {
         "name": "stdout",
         "output_type": "stream",
         "text": "\nFamily Psychiatric History:\nDenies family history of mental illness\n\n"
        }
       ]
      }
     },
     "df282420675448b5b7b33c0a413713e7": {
      "model_module": "@jupyter-widgets/output",
      "model_module_version": "1.0.0",
      "model_name": "OutputModel",
      "state": {
       "layout": "IPY_MODEL_7d7043c318f447c2b833ac33fc4cacf1",
       "outputs": [
        {
         "name": "stdout",
         "output_type": "stream",
         "text": "\nMental Status Examination: \nAppearance: WD/WN, looks stated age, fair grooming and hygiene, casually dressed\nBehavior: Calm, cooperative, fair eye contact\nPsychomotor: No activation or retardation\nSpeech: Fluent, spontaneous\nMood: “It’s pretty good.” \nAffect: Euthymic, full-range, congruent with mood\nThought Process: Linear, logical\nThought Content: Denies SI/HI/AH/VH/delusions\nInsight/Judgement: Limited to fair/Fair\n\n"
        }
       ]
      }
     },
     "df2cd603eab2480ba30e5a2a79cf9f89": {
      "model_module": "@jupyter-widgets/base",
      "model_module_version": "1.2.0",
      "model_name": "LayoutModel",
      "state": {}
     },
     "df7c051fd01f40c7a68e25d1b98159ec": {
      "model_module": "@jupyter-widgets/base",
      "model_module_version": "1.2.0",
      "model_name": "LayoutModel",
      "state": {}
     },
     "df8025be05e04deabfbb2db2c5afc3bc": {
      "model_module": "@jupyter-widgets/base",
      "model_module_version": "1.2.0",
      "model_name": "LayoutModel",
      "state": {}
     },
     "df9b98e0327f46788aec986b6dc3662d": {
      "model_module": "@jupyter-widgets/controls",
      "model_module_version": "1.5.0",
      "model_name": "HBoxModel",
      "state": {
       "children": [
        "IPY_MODEL_6d0fbcfa573040c29b9644ca5c69bf19"
       ],
       "layout": "IPY_MODEL_5ecb4fd31daa4a53bb52ee1da1c4626a"
      }
     },
     "dfa7cba6440749868611bec3557af697": {
      "model_module": "@jupyter-widgets/controls",
      "model_module_version": "1.5.0",
      "model_name": "DropdownModel",
      "state": {
       "_options_labels": [
        "denies",
        "endorses"
       ],
       "description": "self_injury",
       "index": 0,
       "layout": "IPY_MODEL_5259318fb468446090efdf421640f15f",
       "style": "IPY_MODEL_1195682b52f342f8b0957b5d2e02e0f5"
      }
     },
     "e00f61d76a3d4e4996ebeef602df8e6f": {
      "model_module": "@jupyter-widgets/controls",
      "model_module_version": "1.5.0",
      "model_name": "DescriptionStyleModel",
      "state": {
       "description_width": ""
      }
     },
     "e025ca64c2b541aabb3ec8d3c9e2fa0e": {
      "model_module": "@jupyter-widgets/base",
      "model_module_version": "1.2.0",
      "model_name": "LayoutModel",
      "state": {}
     },
     "e02c3e11cd7b4447a8fb7226e1ee29da": {
      "model_module": "@jupyter-widgets/controls",
      "model_module_version": "1.5.0",
      "model_name": "TextareaModel",
      "state": {
       "description": "notes",
       "layout": "IPY_MODEL_57dff8c6f77e4aad88e092f42ad13209",
       "style": "IPY_MODEL_2892e82b416e4a7f96209e470da4a1e4"
      }
     },
     "e038657a54b44f86b85052b8b109ba2b": {
      "model_module": "@jupyter-widgets/controls",
      "model_module_version": "1.5.0",
      "model_name": "VBoxModel",
      "state": {
       "children": [
        "IPY_MODEL_dacb5ead9c0648c7b9046fcf7a63ebee",
        "IPY_MODEL_66b88d29ae7a45b08ff4b481f9593bed",
        "IPY_MODEL_c514edc473bf427599e3764cdd3aebac"
       ],
       "layout": "IPY_MODEL_89cbfe4cbe7a445cac1940892be60a11"
      }
     },
     "e06b3ce8454d486eb27d8c1908781b31": {
      "model_module": "@jupyter-widgets/base",
      "model_module_version": "1.2.0",
      "model_name": "LayoutModel",
      "state": {}
     },
     "e0912353dd934a41aea8b58ed625fc39": {
      "model_module": "@jupyter-widgets/base",
      "model_module_version": "1.2.0",
      "model_name": "LayoutModel",
      "state": {}
     },
     "e09224e507d24a989b7bad023c149b25": {
      "model_module": "@jupyter-widgets/controls",
      "model_module_version": "1.5.0",
      "model_name": "CheckboxModel",
      "state": {
       "description": "opioid",
       "disabled": false,
       "layout": "IPY_MODEL_8240ca3a7c284bd380ed3d37f839f763",
       "style": "IPY_MODEL_cbe0280d9ba44b02a2ef8b59ed4753be",
       "value": false
      }
     },
     "e09be95f3ed74309b65c838f902097a4": {
      "model_module": "@jupyter-widgets/base",
      "model_module_version": "1.2.0",
      "model_name": "LayoutModel",
      "state": {}
     },
     "e0ae3ae18d8241f3b5dfe2ddfd7ad070": {
      "model_module": "@jupyter-widgets/controls",
      "model_module_version": "1.5.0",
      "model_name": "DescriptionStyleModel",
      "state": {
       "description_width": ""
      }
     },
     "e149941fbb934e4f987d96932d951c0f": {
      "model_module": "@jupyter-widgets/controls",
      "model_module_version": "1.5.0",
      "model_name": "CheckboxModel",
      "state": {
       "description": "Opioid use disorder Severe",
       "disabled": false,
       "layout": "IPY_MODEL_bd69737c26c24994a3c301bc8380f90e",
       "style": "IPY_MODEL_1894dcaa49db4a9a837320fa15d21bb6",
       "value": false
      }
     },
     "e15a00c3a3674afd9e3b23a42b4f5a50": {
      "model_module": "@jupyter-widgets/controls",
      "model_module_version": "1.5.0",
      "model_name": "DescriptionStyleModel",
      "state": {
       "description_width": "150px"
      }
     },
     "e16c212aaa0a4e2583e409cebc789bdc": {
      "model_module": "@jupyter-widgets/controls",
      "model_module_version": "1.5.0",
      "model_name": "VBoxModel",
      "state": {
       "_dom_classes": [
        "widget-interact"
       ],
       "children": [
        "IPY_MODEL_cae339c072cc4c9487394deab6a550d7",
        "IPY_MODEL_8c8c22c5f10a4a9aabd945f3aaf07c26",
        "IPY_MODEL_9d590b7a788e44de9cb933c01f0df7df",
        "IPY_MODEL_6131694dfa944810b1be53cd9709f0f9",
        "IPY_MODEL_f444dbe15aeb49e7ac55d07aaedc176c",
        "IPY_MODEL_363f930e944040e9ab06b61d04101b2a",
        "IPY_MODEL_89e6e235ca08416cb98f5e490d017f14",
        "IPY_MODEL_68f13d88bd664ac5a961d3bb5d2ae505",
        "IPY_MODEL_5026e7aa3d0b42dbac41e322512a74d8",
        "IPY_MODEL_0a7727981c1a449780ac3bccc1fcb9f6",
        "IPY_MODEL_304ec6f0a8ac4057b46229fb0ef54413",
        "IPY_MODEL_699a4cdeb78947db8b07bffa471d892f",
        "IPY_MODEL_dde2794997f040f4aa7a8552e0e68796"
       ],
       "layout": "IPY_MODEL_03f14874316b401e8f572a1fdba1dd45"
      }
     },
     "e1911d2dd2b84b70bd958acd2a8abbe3": {
      "model_module": "@jupyter-widgets/base",
      "model_module_version": "1.2.0",
      "model_name": "LayoutModel",
      "state": {}
     },
     "e19aeaf9133c4ac79a294e58586b0a16": {
      "model_module": "@jupyter-widgets/controls",
      "model_module_version": "1.5.0",
      "model_name": "CheckboxModel",
      "state": {
       "description": "polysubstance",
       "disabled": false,
       "layout": "IPY_MODEL_921b8afeffbe4a238c352d892b28372d",
       "style": "IPY_MODEL_8e5140cdeffa4fb9b3e98ace7229e5eb",
       "value": false
      }
     },
     "e1a8873668d84706ac859401f5b590fb": {
      "model_module": "@jupyter-widgets/controls",
      "model_module_version": "1.5.0",
      "model_name": "TextModel",
      "state": {
       "description": "Pronoun:",
       "layout": "IPY_MODEL_a458203f0ad741349f5e08953776ce20",
       "style": "IPY_MODEL_c3925ef7d62c444cace0df70a40f4851",
       "value": "they"
      }
     },
     "e1af67aa903642a4a54f3c7ef8caba8c": {
      "model_module": "@jupyter-widgets/controls",
      "model_module_version": "1.5.0",
      "model_name": "BoxModel",
      "state": {
       "children": [
        "IPY_MODEL_f253792eee6d492ebd14c1ac0d263473",
        "IPY_MODEL_88ea468fe2234d4b98da4e77ee46599d",
        "IPY_MODEL_22dc9be5a82141c58f55e1890bae8373",
        "IPY_MODEL_431f8309ad304a969842b6b04d168f9f"
       ],
       "layout": "IPY_MODEL_fbc84eadefc948e19150df4e1d194204"
      }
     },
     "e1bd6d1074e04749b0d6065f21646309": {
      "model_module": "@jupyter-widgets/controls",
      "model_module_version": "1.5.0",
      "model_name": "TextareaModel",
      "state": {
       "description": "notes",
       "layout": "IPY_MODEL_f3ab830ad14c40bcb60503d19e5f9870",
       "style": "IPY_MODEL_3b21fa2beb764a78a8c6338cf6ebec1b",
       "value": "Reports hx of 1 psych hosp in 2017 when she was diagnosed with bipolar disorder. Reports she was sober at the time. Reports 1 episode of suicide attempt in 2017 \"I tried to take a whole bunch of pills. I used to cut, instead of cutting I started getting tattoos. Last had a tattoo last month.\""
      }
     },
     "e1d178ee5b4944ebb3a05a06fab0495e": {
      "model_module": "@jupyter-widgets/controls",
      "model_module_version": "1.5.0",
      "model_name": "CheckboxModel",
      "state": {
       "description": "Sedative, hypnotic and/or anxiolytic Use Disorder Severe",
       "disabled": false,
       "layout": "IPY_MODEL_5e639c8de6174fd2b8dc79c66fe9ff44",
       "style": "IPY_MODEL_7371be0225984a6ea9b394bb09098784",
       "value": false
      }
     },
     "e1e14e41e38f46a189e8116b50719de3": {
      "model_module": "@jupyter-widgets/controls",
      "model_module_version": "1.5.0",
      "model_name": "DropdownModel",
      "state": {
       "_options_labels": [
        "denies",
        "endorses"
       ],
       "description": "tbi_medical",
       "index": 0,
       "layout": "IPY_MODEL_5259318fb468446090efdf421640f15f",
       "style": "IPY_MODEL_36a22cf02281484aabab20d7678ab391"
      }
     },
     "e1f9f3f91dfb4ff4b7f0fb00f813c4e7": {
      "model_module": "@jupyter-widgets/controls",
      "model_module_version": "1.5.0",
      "model_name": "BoundedIntTextModel",
      "state": {
       "description": "longest_sober_time",
       "layout": "IPY_MODEL_57dff8c6f77e4aad88e092f42ad13209",
       "style": "IPY_MODEL_750e7e1c21754ab6aed014e43ca7658a",
       "value": 6
      }
     },
     "e1fa1236ea9f4ab6a864ac25d4b50b17": {
      "model_module": "@jupyter-widgets/controls",
      "model_module_version": "1.5.0",
      "model_name": "CheckboxModel",
      "state": {
       "description": "ptsd",
       "disabled": false,
       "layout": "IPY_MODEL_5117c47ed5a443a4aada22712b86231b",
       "style": "IPY_MODEL_966efd9786564a238e25cc92aa253595",
       "value": false
      }
     },
     "e245ecdf450245cd9f8d6fc0f40974cb": {
      "model_module": "@jupyter-widgets/controls",
      "model_module_version": "1.5.0",
      "model_name": "TextModel",
      "state": {
       "description": "Pronoun:",
       "layout": "IPY_MODEL_9cb7999a2ea84f5483bc97527fd2bf20",
       "style": "IPY_MODEL_f5aaefb952a949fb8116cc39fb6149f9",
       "value": "they"
      }
     },
     "e2560298da0744cd961ac6712f394615": {
      "model_module": "@jupyter-widgets/base",
      "model_module_version": "1.2.0",
      "model_name": "LayoutModel",
      "state": {}
     },
     "e25b4fe8cf5341a597f57364ba8ab437": {
      "model_module": "@jupyter-widgets/controls",
      "model_module_version": "1.5.0",
      "model_name": "CheckboxModel",
      "state": {
       "description": "opioid",
       "disabled": false,
       "layout": "IPY_MODEL_59cd381e82384c2b86bd7d7c2f7fa18b",
       "style": "IPY_MODEL_2dcf42b0fb3046ed857208ba8bd37b8a",
       "value": false
      }
     },
     "e27222fa19454b468a980f65d2095b82": {
      "model_module": "@jupyter-widgets/controls",
      "model_module_version": "1.5.0",
      "model_name": "DescriptionStyleModel",
      "state": {
       "description_width": ""
      }
     },
     "e272c676db78421a9278d79420b07ee6": {
      "model_module": "@jupyter-widgets/controls",
      "model_module_version": "1.5.0",
      "model_name": "DescriptionStyleModel",
      "state": {
       "description_width": ""
      }
     },
     "e290b400623c48988855ef8ffdf28c0f": {
      "model_module": "@jupyter-widgets/controls",
      "model_module_version": "1.5.0",
      "model_name": "DescriptionStyleModel",
      "state": {
       "description_width": "150px"
      }
     },
     "e2a416eb076940b0b5d5c5138d22616d": {
      "model_module": "@jupyter-widgets/controls",
      "model_module_version": "1.5.0",
      "model_name": "DescriptionStyleModel",
      "state": {
       "description_width": "150px"
      }
     },
     "e2d468f116ab48d2a0c873c494faa76d": {
      "model_module": "@jupyter-widgets/output",
      "model_module_version": "1.0.0",
      "model_name": "OutputModel",
      "state": {
       "layout": "IPY_MODEL_afbad395b5654ba285bdf4a3108c7f93",
       "outputs": [
        {
         "name": "stdout",
         "output_type": "stream",
         "text": "\nMedical History:\nThe patient denies any acute medical conditions. \nThe patient denies any history of HIV. \nThe patient endorses any history of hepatitis.\nThe patient denies any history of TBI.\nReports he might have hep c. \n\n"
        }
       ]
      }
     },
     "e2fbb1c349384d1895b7d9fe283e101a": {
      "model_module": "@jupyter-widgets/controls",
      "model_module_version": "1.5.0",
      "model_name": "CheckboxModel",
      "state": {
       "description": "alcohol",
       "disabled": false,
       "layout": "IPY_MODEL_6ae27c6d98a7454482576d4880a5e3fb",
       "style": "IPY_MODEL_e272c676db78421a9278d79420b07ee6",
       "value": false
      }
     },
     "e34c6bd82949410a9acac6a09f7d4ef8": {
      "model_module": "@jupyter-widgets/controls",
      "model_module_version": "1.5.0",
      "model_name": "DropdownModel",
      "state": {
       "_options_labels": [
        "deny",
        "indicate"
       ],
       "description": "past_depression",
       "index": 1,
       "layout": "IPY_MODEL_5259318fb468446090efdf421640f15f",
       "style": "IPY_MODEL_7f04391606bc4adc905f134fa8a0e894"
      }
     },
     "e36e5a9f97a84c039c79ecaa852ce0a6": {
      "model_module": "@jupyter-widgets/controls",
      "model_module_version": "1.5.0",
      "model_name": "CheckboxModel",
      "state": {
       "description": "sedative, hypnotic, or anxiolytic",
       "disabled": false,
       "layout": "IPY_MODEL_648c986ad5584c0680883eec1c573eae",
       "style": "IPY_MODEL_4eed82d1cbe74885b2064a1b60e5d8af",
       "value": false
      }
     },
     "e399204e86914647b49f4ab23e7a6030": {
      "model_module": "@jupyter-widgets/controls",
      "model_module_version": "1.5.0",
      "model_name": "VBoxModel",
      "state": {
       "children": [
        "IPY_MODEL_8999c261221c43ccba5b689e45f98dc8",
        "IPY_MODEL_8e4e40a6c3af49e194cbe87397390537",
        "IPY_MODEL_b26805628f224195a4a87e46dfcb339f"
       ],
       "layout": "IPY_MODEL_ecbef0150fd645e097f9bf04f067bdbc"
      }
     },
     "e3a2d0b19eb04d39bf10f748cfd5cfa0": {
      "model_module": "@jupyter-widgets/controls",
      "model_module_version": "1.5.0",
      "model_name": "DescriptionStyleModel",
      "state": {
       "description_width": "150px"
      }
     },
     "e3b8288d51a14fd7ae573168758f6eb4": {
      "model_module": "@jupyter-widgets/controls",
      "model_module_version": "1.5.0",
      "model_name": "CheckboxModel",
      "state": {
       "description": "cocaine",
       "disabled": false,
       "layout": "IPY_MODEL_c88f9cdb8c32408488f99cae069f025e",
       "style": "IPY_MODEL_254095aeb32047468726b8286e22d543",
       "value": false
      }
     },
     "e3de02f6b08a4f4eb34bbc2f859509b0": {
      "model_module": "@jupyter-widgets/base",
      "model_module_version": "1.2.0",
      "model_name": "LayoutModel",
      "state": {}
     },
     "e3eb889a45d0403195c8c87d71023c64": {
      "model_module": "@jupyter-widgets/controls",
      "model_module_version": "1.5.0",
      "model_name": "ComboboxModel",
      "state": {
       "description": "med_compliant",
       "ensure_option": false,
       "layout": "IPY_MODEL_fa9ec4f225bc40b29e03b63fcbcbd3db",
       "options": [
        "Patient reports that they have been compliant with their psychotropic medication regimen and denies adverse effects",
        "Patient reports that they have been non-compliant with their psychotropic medication regimen and denies adverse effects"
       ],
       "style": "IPY_MODEL_1bf5e3fcc02a4c7dab3d9500a7edb49e"
      }
     },
     "e424fc65ba3c4bc9a6e998c24c418406": {
      "model_module": "@jupyter-widgets/base",
      "model_module_version": "1.2.0",
      "model_name": "LayoutModel",
      "state": {}
     },
     "e42e5de50eb843e087597ee8da61470b": {
      "model_module": "@jupyter-widgets/controls",
      "model_module_version": "1.5.0",
      "model_name": "DropdownModel",
      "state": {
       "_options_labels": [
        "denies",
        "endorses"
       ],
       "description": "past_trauma",
       "index": 0,
       "layout": "IPY_MODEL_ecfa8b2075df48d78b3e743fdae50eff",
       "style": "IPY_MODEL_c1957ddfa8ab4f8d8974c8c178404d7c"
      }
     },
     "e43930686bc8489dab7b85bb5a8722b9": {
      "model_module": "@jupyter-widgets/controls",
      "model_module_version": "1.5.0",
      "model_name": "DescriptionStyleModel",
      "state": {
       "description_width": ""
      }
     },
     "e44424c9fbb84b1796298c90e9b40da6": {
      "model_module": "@jupyter-widgets/controls",
      "model_module_version": "1.5.0",
      "model_name": "TextareaModel",
      "state": {
       "description": "notes",
       "layout": "IPY_MODEL_64f3493d9e7e4cd79d693795fcd61555",
       "style": "IPY_MODEL_fdf1cda1bdbc4590a882bc82d87f0da6"
      }
     },
     "e48e4b82bef44e6dbb183cea2e5aa5c9": {
      "model_module": "@jupyter-widgets/base",
      "model_module_version": "1.2.0",
      "model_name": "LayoutModel",
      "state": {}
     },
     "e4ecf4e11485493aad38be54a820218d": {
      "model_module": "@jupyter-widgets/controls",
      "model_module_version": "1.5.0",
      "model_name": "DropdownModel",
      "state": {
       "_options_labels": [
        "a history",
        "no history"
       ],
       "description": "psychosis",
       "index": 1,
       "layout": "IPY_MODEL_57dff8c6f77e4aad88e092f42ad13209",
       "style": "IPY_MODEL_b04139923ac5487e97606804acff27dc"
      }
     },
     "e50d8251ea444e20be0d2cb2ed124b53": {
      "model_module": "@jupyter-widgets/controls",
      "model_module_version": "1.5.0",
      "model_name": "DescriptionStyleModel",
      "state": {
       "description_width": "150px"
      }
     },
     "e52aa70aa373498ea45bd85b26dd613d": {
      "model_module": "@jupyter-widgets/controls",
      "model_module_version": "1.5.0",
      "model_name": "DropdownModel",
      "state": {
       "_options_labels": [
        "denies",
        "endorses"
       ],
       "description": "anhedonia",
       "index": 0,
       "layout": "IPY_MODEL_ecfa8b2075df48d78b3e743fdae50eff",
       "style": "IPY_MODEL_70c5d36d63734ec29e50ea21709a1bf5"
      }
     },
     "e571a40ad6764327bbc2c46ce72aefe3": {
      "model_module": "@jupyter-widgets/base",
      "model_module_version": "1.2.0",
      "model_name": "LayoutModel",
      "state": {}
     },
     "e5dc925e61bb4529b021ee5dbe97293a": {
      "model_module": "@jupyter-widgets/controls",
      "model_module_version": "1.5.0",
      "model_name": "DescriptionStyleModel",
      "state": {
       "description_width": "150px"
      }
     },
     "e60c2464e5c14eab8638ce87e7ef7a20": {
      "model_module": "@jupyter-widgets/controls",
      "model_module_version": "1.5.0",
      "model_name": "TextModel",
      "state": {
       "description": "Pronoun:",
       "layout": "IPY_MODEL_eae1d8c15fae4682832e9b0851664ee6",
       "style": "IPY_MODEL_9e8f73cfd22c4ebcb6f795e6b1dcc763",
       "value": "they"
      }
     },
     "e6198b0356164c318f3f74006997495c": {
      "model_module": "@jupyter-widgets/controls",
      "model_module_version": "1.5.0",
      "model_name": "CheckboxModel",
      "state": {
       "description": "anxiety",
       "disabled": false,
       "layout": "IPY_MODEL_a77e3ab25d864c1d93e60713a5a76d57",
       "style": "IPY_MODEL_5be5c8614a0346b6bad2f109511b4c92",
       "value": true
      }
     },
     "e64d1f47482a4c61b64e375a0e3f342c": {
      "model_module": "@jupyter-widgets/base",
      "model_module_version": "1.2.0",
      "model_name": "LayoutModel",
      "state": {
       "height": "100px",
       "width": "500px"
      }
     },
     "e65f798d6cc14a1cbb2755ca5d3cd9ac": {
      "model_module": "@jupyter-widgets/base",
      "model_module_version": "1.2.0",
      "model_name": "LayoutModel",
      "state": {}
     },
     "e6a1355e664f401d8b193e409e047834": {
      "model_module": "@jupyter-widgets/controls",
      "model_module_version": "1.5.0",
      "model_name": "TextareaModel",
      "state": {
       "description": "notes",
       "layout": "IPY_MODEL_fa9ec4f225bc40b29e03b63fcbcbd3db",
       "style": "IPY_MODEL_f9e5c4e6442d43daa1306b237474757d"
      }
     },
     "e6a3805415a44734aab616a3ea5c8092": {
      "model_module": "@jupyter-widgets/controls",
      "model_module_version": "1.5.0",
      "model_name": "BoundedIntTextModel",
      "state": {
       "description": "num_children",
       "layout": "IPY_MODEL_64f3493d9e7e4cd79d693795fcd61555",
       "style": "IPY_MODEL_6aa1cc13d9704d57a0cbdc3bffbeae07"
      }
     },
     "e6b81a1408284230b9d15eeef772dbaa": {
      "model_module": "@jupyter-widgets/base",
      "model_module_version": "1.2.0",
      "model_name": "LayoutModel",
      "state": {}
     },
     "e700a9f795c54ca1bf7ace352ac7447d": {
      "model_module": "@jupyter-widgets/controls",
      "model_module_version": "1.5.0",
      "model_name": "DescriptionStyleModel",
      "state": {
       "description_width": ""
      }
     },
     "e726a707031d469089e5059ac7603b34": {
      "model_module": "@jupyter-widgets/controls",
      "model_module_version": "1.5.0",
      "model_name": "DropdownModel",
      "state": {
       "_options_labels": [
        "denies",
        "endorses"
       ],
       "description": "legal",
       "index": 0,
       "layout": "IPY_MODEL_ecfa8b2075df48d78b3e743fdae50eff",
       "style": "IPY_MODEL_3ce31794891e48e98c068057eec03223"
      }
     },
     "e735ee4da829468b9e9e43161f28d456": {
      "model_module": "@jupyter-widgets/controls",
      "model_module_version": "1.5.0",
      "model_name": "CheckboxModel",
      "state": {
       "description": "fentanyl",
       "disabled": false,
       "layout": "IPY_MODEL_dc77b16b2f3141288d9248aab0b7af9e",
       "style": "IPY_MODEL_5931f565d16a462d9fdc119b67b95f67",
       "value": false
      }
     },
     "e7494dacc15143a2b28ce636ae2b75b6": {
      "model_module": "@jupyter-widgets/controls",
      "model_module_version": "1.5.0",
      "model_name": "HBoxModel",
      "state": {
       "children": [
        "IPY_MODEL_5f6f64d02dfc46d5910a1223beeca028",
        "IPY_MODEL_429584e02c1f4fd298cb3e0e4c71e619",
        "IPY_MODEL_de1d234b36124048a669718222f71b20"
       ],
       "layout": "IPY_MODEL_4b4b10fbc0d4417d8b1fc11d7accbfa4"
      }
     },
     "e75ff1d6c07048a1acb744dcce1d86af": {
      "model_module": "@jupyter-widgets/controls",
      "model_module_version": "1.5.0",
      "model_name": "TextareaModel",
      "state": {
       "description": "med plan:",
       "layout": "IPY_MODEL_033c2d27bff2420fb70b68f48171787d",
       "placeholder": "Type something",
       "style": "IPY_MODEL_b4b838e03d7f46c59eca5019b30e847e",
       "value": "Change Seroquel to 400mg po qhs\nDepakote 500mg bid\nPrazosin 5mg qhs\nChange Propranolol to 20mg qd BID prn anxiety\nBuspar 10mg BID\nWants to d/c Keppra 500mg bid- \"only had 2 when I was coming off xanax.\"\nIncrease Zoloft to 200mg qd\nChange Gabapentin 400mg bid \nFlexeril 10mg qd- PCP\nRobaxin 750mg QD- PCP\nContinue Trazodone 50mg qhs po qhs prn insomnia\nStart Subutex taper, declines narcan- "
      }
     },
     "e77a04aadeb04d6d89c2e21fed5508df": {
      "model_module": "@jupyter-widgets/controls",
      "model_module_version": "1.5.0",
      "model_name": "BoundedIntTextModel",
      "state": {
       "description": "Age:",
       "layout": "IPY_MODEL_79ad22b2aad1454395610819d656480a",
       "max": 200,
       "style": "IPY_MODEL_a4dbb48ca9494295ab501f5868b5008e",
       "value": 35
      }
     },
     "e78f8f6cd7a644d8936fe3b3c7bf4775": {
      "model_module": "@jupyter-widgets/controls",
      "model_module_version": "1.5.0",
      "model_name": "DescriptionStyleModel",
      "state": {
       "description_width": ""
      }
     },
     "e7901e6c700c4dba811e0e978d377658": {
      "model_module": "@jupyter-widgets/base",
      "model_module_version": "1.2.0",
      "model_name": "LayoutModel",
      "state": {}
     },
     "e7a7491e905842ef881bad0edb915215": {
      "model_module": "@jupyter-widgets/base",
      "model_module_version": "1.2.0",
      "model_name": "LayoutModel",
      "state": {}
     },
     "e7cf32fb588d4b5a872a61e833891ef9": {
      "model_module": "@jupyter-widgets/base",
      "model_module_version": "1.2.0",
      "model_name": "LayoutModel",
      "state": {}
     },
     "e7ed8c53da91488cb9f99c26e569a10e": {
      "model_module": "@jupyter-widgets/output",
      "model_module_version": "1.0.0",
      "model_name": "OutputModel",
      "state": {
       "layout": "IPY_MODEL_6c62f5995c0f4d22aa8fd3805016b602",
       "outputs": [
        {
         "name": "stdout",
         "output_type": "stream",
         "text": "\nThis patient denies current depressed mood. \nOver the past several weeks, the patient denies sustained sadness, denies excessive guilt. \nThe patient denies anhedonia.\nThe patient reports fair ability to concentrate. \nThe patient denies issues with sleep. \nThe patient reports fair appetite.\nReports fair energy level. \nThe patient denies hopelessness, worthlessness, SI/HI/AH/VH/delusions.\nThey indicate they have experienced depressive episodes lasting longer than two weeks in the absence of substance use.\nThe patient denies current decreased need for sleep, euphoria \nor grandiosity or irritability, flights of idea, impulsivity, uncharacteristic talkativeness or rapid speech.\n\n\n"
        }
       ]
      }
     },
     "e7fb5d481e8a48619074510cbb85dcb1": {
      "model_module": "@jupyter-widgets/controls",
      "model_module_version": "1.5.0",
      "model_name": "DropdownModel",
      "state": {
       "_options_labels": [
        "good",
        "fair",
        "poor"
       ],
       "description": "energy",
       "index": 1,
       "layout": "IPY_MODEL_ecfa8b2075df48d78b3e743fdae50eff",
       "style": "IPY_MODEL_d3f54f90b01e4c0880472053c162b73c"
      }
     },
     "e82b8b8759f349ff87d7b3341c53666c": {
      "model_module": "@jupyter-widgets/controls",
      "model_module_version": "1.5.0",
      "model_name": "DescriptionStyleModel",
      "state": {
       "description_width": "150px"
      }
     },
     "e830af3c88d94fabadb79af8b1008581": {
      "model_module": "@jupyter-widgets/controls",
      "model_module_version": "1.5.0",
      "model_name": "VBoxModel",
      "state": {
       "_dom_classes": [
        "widget-interact"
       ],
       "children": [
        "IPY_MODEL_a33f723a88c94305b574964f1e9c8b84",
        "IPY_MODEL_5550b40f1a534282a867470d91444446",
        "IPY_MODEL_caec799f5b724eeabfb5009fe15a64fe",
        "IPY_MODEL_3cc6d3c9ac6f41789aff589946618192"
       ],
       "layout": "IPY_MODEL_3101098747dc485e8abccdbc8a9f5eba"
      }
     },
     "e851d78b563c4a748ba5879964b17992": {
      "model_module": "@jupyter-widgets/output",
      "model_module_version": "1.0.0",
      "model_name": "OutputModel",
      "state": {
       "layout": "IPY_MODEL_69f03e636caa4d919f39d308a6878eb9",
       "outputs": [
        {
         "name": "stdout",
         "output_type": "stream",
         "text": "\nSubstance Use History:\nThe patient states that their primary substances of abuse include\nopioids with daily use for periods greater than \n6 months with resulting impairment in functioning. \nThey state that they have been in residential treatment 1 times, \nwith their longest period of sobriety lasting 100 days. \nThe patient endorses history of IVDU. \nPatient endorses seizures, complicated withdrawal, and DTs.\nStarted using substances in 2017. Reports 2 seizures and DTs in the past june 2021 in jail. \n    \n"
        }
       ]
      }
     },
     "e85c5a844ffe462eb430f5915058f2b3": {
      "model_module": "@jupyter-widgets/controls",
      "model_module_version": "1.5.0",
      "model_name": "DropdownModel",
      "state": {
       "_options_labels": [
        "days",
        "months",
        "years"
       ],
       "description": "sober_period",
       "index": 0,
       "layout": "IPY_MODEL_64f3493d9e7e4cd79d693795fcd61555",
       "style": "IPY_MODEL_968fd5828150499e85ac08bf6dd0b9b2"
      }
     },
     "e887c5f8a4d944c3aa37006fdd817dc6": {
      "model_module": "@jupyter-widgets/controls",
      "model_module_version": "1.5.0",
      "model_name": "DropdownModel",
      "state": {
       "_options_labels": [
        "denies",
        "endorses"
       ],
       "description": "sleep",
       "index": 0,
       "layout": "IPY_MODEL_57dff8c6f77e4aad88e092f42ad13209",
       "style": "IPY_MODEL_a4cfc005fb2d4197988480e7b1d95695"
      }
     },
     "e89abb2f227043eeb09aa16b18af7812": {
      "model_module": "@jupyter-widgets/controls",
      "model_module_version": "1.5.0",
      "model_name": "DropdownModel",
      "state": {
       "_options_labels": [
        "days",
        "months",
        "years"
       ],
       "description": "sober_period",
       "index": 0,
       "layout": "IPY_MODEL_57dff8c6f77e4aad88e092f42ad13209",
       "style": "IPY_MODEL_9dff7184293346d98ffd599b3641b26f"
      }
     },
     "e8c4bc6bdd1e45dbbd6fc96b41fc8086": {
      "model_module": "@jupyter-widgets/base",
      "model_module_version": "1.2.0",
      "model_name": "LayoutModel",
      "state": {}
     },
     "e8c9623d2d3c451b9025d6aa465fb8da": {
      "model_module": "@jupyter-widgets/base",
      "model_module_version": "1.2.0",
      "model_name": "LayoutModel",
      "state": {}
     },
     "e8cc04dacffb4ca88dfbc2e0c1a89840": {
      "model_module": "@jupyter-widgets/controls",
      "model_module_version": "1.5.0",
      "model_name": "DescriptionStyleModel",
      "state": {
       "description_width": "150px"
      }
     },
     "e8d361a041d54a8c9b959c577c0facf9": {
      "model_module": "@jupyter-widgets/controls",
      "model_module_version": "1.5.0",
      "model_name": "DropdownModel",
      "state": {
       "_options_labels": [
        "denies",
        "endorses"
       ],
       "description": "hopelessness",
       "index": 0,
       "layout": "IPY_MODEL_57dff8c6f77e4aad88e092f42ad13209",
       "style": "IPY_MODEL_c09cf7c394a74fa5adb5ab9249be9b5e"
      }
     },
     "e908176930eb4d6e95059e21e4ef2d36": {
      "model_module": "@jupyter-widgets/controls",
      "model_module_version": "1.5.0",
      "model_name": "DropdownModel",
      "state": {
       "_options_labels": [
        "denies",
        "endorses"
       ],
       "description": "hospitalization",
       "index": 0,
       "layout": "IPY_MODEL_fa9ec4f225bc40b29e03b63fcbcbd3db",
       "style": "IPY_MODEL_201337bfe5594067aaebaf1b15531068"
      }
     },
     "e947d6ce0afe4a7da0295a177121c5e8": {
      "model_module": "@jupyter-widgets/controls",
      "model_module_version": "1.5.0",
      "model_name": "DescriptionStyleModel",
      "state": {
       "description_width": "150px"
      }
     },
     "e97076a4782c41309eb32929095da95d": {
      "model_module": "@jupyter-widgets/base",
      "model_module_version": "1.2.0",
      "model_name": "LayoutModel",
      "state": {
       "height": "100px",
       "width": "500px"
      }
     },
     "e9dd2162dc164b18a06bce9730092dd7": {
      "model_module": "@jupyter-widgets/controls",
      "model_module_version": "1.5.0",
      "model_name": "DescriptionStyleModel",
      "state": {
       "description_width": "150px"
      }
     },
     "e9e7667f5dc441a398dd92783cc870d9": {
      "model_module": "@jupyter-widgets/controls",
      "model_module_version": "1.5.0",
      "model_name": "DescriptionStyleModel",
      "state": {
       "description_width": "150px"
      }
     },
     "e9fa4ce0b9aa4dd28d52a026be708a2a": {
      "model_module": "@jupyter-widgets/controls",
      "model_module_version": "1.5.0",
      "model_name": "DescriptionStyleModel",
      "state": {
       "description_width": "150px"
      }
     },
     "ea13c2b1fb494209b1dd920cb68568cb": {
      "model_module": "@jupyter-widgets/base",
      "model_module_version": "1.2.0",
      "model_name": "LayoutModel",
      "state": {}
     },
     "ea662acadd05488fbba5b5518f34728a": {
      "model_module": "@jupyter-widgets/controls",
      "model_module_version": "1.5.0",
      "model_name": "DropdownModel",
      "state": {
       "_options_labels": [
        "denies",
        "endorses"
       ],
       "description": "hospitalization",
       "index": 0,
       "layout": "IPY_MODEL_5259318fb468446090efdf421640f15f",
       "style": "IPY_MODEL_6aefb2cc648a43e89b6a232f8fbde2ec"
      }
     },
     "ea77fca1390446a0bd069c4c5d03bfaa": {
      "model_module": "@jupyter-widgets/controls",
      "model_module_version": "1.5.0",
      "model_name": "TextareaModel",
      "state": {
       "description": "family",
       "layout": "IPY_MODEL_f3ab830ad14c40bcb60503d19e5f9870",
       "style": "IPY_MODEL_d1017eca8cbe4e8eaeaaa45f2a3ed87e",
       "value": "Denies family history of mental illness"
      }
     },
     "eabbde0c37394c7bb5f7c6e7bbc31d6f": {
      "model_module": "@jupyter-widgets/base",
      "model_module_version": "1.2.0",
      "model_name": "LayoutModel",
      "state": {}
     },
     "eae1d8c15fae4682832e9b0851664ee6": {
      "model_module": "@jupyter-widgets/base",
      "model_module_version": "1.2.0",
      "model_name": "LayoutModel",
      "state": {}
     },
     "eb26576f87b943f29ffd09c583ce7d5a": {
      "model_module": "@jupyter-widgets/base",
      "model_module_version": "1.2.0",
      "model_name": "LayoutModel",
      "state": {}
     },
     "eb59ae4bf91941bb89578716fe4ffd86": {
      "model_module": "@jupyter-widgets/controls",
      "model_module_version": "1.5.0",
      "model_name": "DescriptionStyleModel",
      "state": {
       "description_width": ""
      }
     },
     "eb5d81d4c816444485a69f2f8fe32015": {
      "model_module": "@jupyter-widgets/controls",
      "model_module_version": "1.5.0",
      "model_name": "DropdownModel",
      "state": {
       "_options_labels": [
        "a history",
        "no history"
       ],
       "description": "learning_disabilties",
       "index": 1,
       "layout": "IPY_MODEL_57dff8c6f77e4aad88e092f42ad13209",
       "style": "IPY_MODEL_b3b9020e7a44410298f7babe23ac13a6"
      }
     },
     "ebce576460ff435f94b88b4e1b600c00": {
      "model_module": "@jupyter-widgets/controls",
      "model_module_version": "1.5.0",
      "model_name": "DescriptionStyleModel",
      "state": {
       "description_width": ""
      }
     },
     "ebf36e9fb2d8407f9eddde76003d86a1": {
      "model_module": "@jupyter-widgets/controls",
      "model_module_version": "1.5.0",
      "model_name": "DropdownModel",
      "state": {
       "_options_labels": [
        "denies",
        "endorses"
       ],
       "description": "abuse",
       "index": 0,
       "layout": "IPY_MODEL_ecfa8b2075df48d78b3e743fdae50eff",
       "style": "IPY_MODEL_95f477f9ad4c49908b8227fa7ddd10ab"
      }
     },
     "ec24da4372214e36a903ff10d9691ba3": {
      "model_module": "@jupyter-widgets/controls",
      "model_module_version": "1.5.0",
      "model_name": "CheckboxModel",
      "state": {
       "description": "ecstasy/MDMA",
       "disabled": false,
       "layout": "IPY_MODEL_2b28c340b5ad4d868dbed64b87d3f7cd",
       "style": "IPY_MODEL_de3279a8a5b04c0e8a866933e51c271c",
       "value": false
      }
     },
     "ec44ac80c7b449f4b2e0517689cf59b9": {
      "model_module": "@jupyter-widgets/controls",
      "model_module_version": "1.5.0",
      "model_name": "DescriptionStyleModel",
      "state": {
       "description_width": ""
      }
     },
     "ecab2b8253c04897a5d69b3ec1879398": {
      "model_module": "@jupyter-widgets/output",
      "model_module_version": "1.0.0",
      "model_name": "OutputModel",
      "state": {
       "layout": "IPY_MODEL_0eb1a258980041cbaa3bbe647ad915e5",
       "outputs": [
        {
         "name": "stdout",
         "output_type": "stream",
         "text": "\nThis patient denies current depressed mood. \nOver the past several weeks, the patient denies sustained sadness, denies excessive guilt. \nThe patient denies anhedonia.\nThe patient reports fair ability to concentrate. \nThe patient denies issues with sleep. \nThe patient reports fair appetite.\nReports fair energy level. \nThe patient denies hopelessness, worthlessness, SI/HI/AH/VH/delusions.\nThey indicate they have experienced depressive episodes lasting longer than two weeks in the absence of substance use.\nThe patient denies current decreased need for sleep, euphoria \nor grandiosity or irritability, flights of idea, impulsivity, uncharacteristic talkativeness or rapid speech.\nsammy\n\n"
        }
       ]
      }
     },
     "ecbef0150fd645e097f9bf04f067bdbc": {
      "model_module": "@jupyter-widgets/base",
      "model_module_version": "1.2.0",
      "model_name": "LayoutModel",
      "state": {}
     },
     "ecc4d5214687405a9bfa0188389dc737": {
      "model_module": "@jupyter-widgets/controls",
      "model_module_version": "1.5.0",
      "model_name": "TextareaModel",
      "state": {
       "description": "notes",
       "layout": "IPY_MODEL_ecfa8b2075df48d78b3e743fdae50eff",
       "style": "IPY_MODEL_f41bc571a9654f6f917b9f26d2cf081f",
       "value": "lotta drugs"
      }
     },
     "eccfea1c49d542d488daeacc5b8f64f4": {
      "model_module": "@jupyter-widgets/controls",
      "model_module_version": "1.5.0",
      "model_name": "CheckboxModel",
      "state": {
       "description": "Major depressive disorder, rec, mod",
       "disabled": false,
       "layout": "IPY_MODEL_735a637e2a3343b8a23c976ae14a3a11",
       "style": "IPY_MODEL_3fcddd0da0d0419f9fb6ddd00bf7ce23",
       "value": false
      }
     },
     "ece274de73ba4b009db52e163f0f0ff3": {
      "model_module": "@jupyter-widgets/controls",
      "model_module_version": "1.5.0",
      "model_name": "CheckboxModel",
      "state": {
       "description": "schizophrenia",
       "disabled": false,
       "layout": "IPY_MODEL_25b272db56924f4bb27f0c31619e3f72",
       "style": "IPY_MODEL_b2fb7a46746a4443a9cba0c87fe52c10",
       "value": false
      }
     },
     "ecfa8b2075df48d78b3e743fdae50eff": {
      "model_module": "@jupyter-widgets/base",
      "model_module_version": "1.2.0",
      "model_name": "LayoutModel",
      "state": {
       "width": "50%"
      }
     },
     "ed474a68d497472ba5c39df40e829f57": {
      "model_module": "@jupyter-widgets/controls",
      "model_module_version": "1.5.0",
      "model_name": "DescriptionStyleModel",
      "state": {
       "description_width": "150px"
      }
     },
     "ed49ce09d21e4700bed4a4447cc54f85": {
      "model_module": "@jupyter-widgets/controls",
      "model_module_version": "1.5.0",
      "model_name": "VBoxModel",
      "state": {
       "_dom_classes": [
        "widget-interact"
       ],
       "children": [
        "IPY_MODEL_8f16a2f6d3164d429a671bd416f658fc",
        "IPY_MODEL_718b7fd5e60c42f1bb466e3f7faab1e0",
        "IPY_MODEL_44cd6839c3fa468ba56062224eae642d",
        "IPY_MODEL_1da0233022e540d7893170fa59df81f6"
       ],
       "layout": "IPY_MODEL_059f9dacda6549de9e28823d7c4fb344"
      }
     },
     "ed9767ce9a4c4b76af0b567ba8231649": {
      "model_module": "@jupyter-widgets/base",
      "model_module_version": "1.2.0",
      "model_name": "LayoutModel",
      "state": {}
     },
     "edb6b31eba434e6287e6111cb7e8f7ce": {
      "model_module": "@jupyter-widgets/base",
      "model_module_version": "1.2.0",
      "model_name": "LayoutModel",
      "state": {}
     },
     "ee023538971346bf8d33dda6c2198bf3": {
      "model_module": "@jupyter-widgets/controls",
      "model_module_version": "1.5.0",
      "model_name": "DescriptionStyleModel",
      "state": {
       "description_width": "150px"
      }
     },
     "ee3bcb2f37d94bccb8f30fb7c3d80c1d": {
      "model_module": "@jupyter-widgets/controls",
      "model_module_version": "1.5.0",
      "model_name": "CheckboxModel",
      "state": {
       "description": "Cannabis use disorder Severe",
       "disabled": false,
       "layout": "IPY_MODEL_ccd31fc2f0894e10abbdc75d4264a45a",
       "style": "IPY_MODEL_31e252ba00624bc19224dbf431e8623a",
       "value": false
      }
     },
     "ee5e86e653494940b49446d58b592704": {
      "model_module": "@jupyter-widgets/base",
      "model_module_version": "1.2.0",
      "model_name": "LayoutModel",
      "state": {
       "height": "100px",
       "width": "500px"
      }
     },
     "ee8f441b0b6845f59e157cab0738a672": {
      "model_module": "@jupyter-widgets/controls",
      "model_module_version": "1.5.0",
      "model_name": "VBoxModel",
      "state": {
       "children": [
        "IPY_MODEL_53fea5807cd14747bf17cddb733a1660",
        "IPY_MODEL_3c0fb0cb556947ba9252d7757f928e6d"
       ],
       "layout": "IPY_MODEL_c3714546bca246bd94e4dcb90bc8c059"
      }
     },
     "eeb81455c07444e7b3fe483fd39cf385": {
      "model_module": "@jupyter-widgets/controls",
      "model_module_version": "1.5.0",
      "model_name": "DescriptionStyleModel",
      "state": {
       "description_width": ""
      }
     },
     "eed1d7cc0b154069ad444d39835f31ff": {
      "model_module": "@jupyter-widgets/controls",
      "model_module_version": "1.5.0",
      "model_name": "DescriptionStyleModel",
      "state": {
       "description_width": ""
      }
     },
     "eee8a54a8457459f99bd520f1ef9ea17": {
      "model_module": "@jupyter-widgets/base",
      "model_module_version": "1.2.0",
      "model_name": "LayoutModel",
      "state": {}
     },
     "eef9c4f80d364912be22ad2d3471423f": {
      "model_module": "@jupyter-widgets/controls",
      "model_module_version": "1.5.0",
      "model_name": "CheckboxModel",
      "state": {
       "description": "heroin",
       "disabled": false,
       "layout": "IPY_MODEL_d1a555a9a2cc405193192835ea0c3487",
       "style": "IPY_MODEL_825c14b637674efca2a02a79180b5c89",
       "value": true
      }
     },
     "ef092fe1810d4927add27dbfe3cf57c8": {
      "model_module": "@jupyter-widgets/controls",
      "model_module_version": "1.5.0",
      "model_name": "DescriptionStyleModel",
      "state": {
       "description_width": "150px"
      }
     },
     "ef375fdbc35445fe838e023d64eb537a": {
      "model_module": "@jupyter-widgets/controls",
      "model_module_version": "1.5.0",
      "model_name": "VBoxModel",
      "state": {
       "_dom_classes": [
        "widget-interact"
       ],
       "children": [
        "IPY_MODEL_2cabecd6432f4f3bb8ad47ad98d01822",
        "IPY_MODEL_6b07e57c005d4e288e2a95a8fe9ef1ec",
        "IPY_MODEL_14d160cb0f7d49548ada3a8010e5a8e6",
        "IPY_MODEL_6fdf319be11c4e30b5944b47395745d3",
        "IPY_MODEL_3366f0426a384bf980ac8c3ef532a505",
        "IPY_MODEL_4a474cb0505c4470afc3b7342332c2c5",
        "IPY_MODEL_dee945bc34764e6a9859ca6955dba758",
        "IPY_MODEL_4900c12e6b9f4d90a314acb4eecacd65"
       ],
       "layout": "IPY_MODEL_6ce04874777349eab5da5da28c79a82a"
      }
     },
     "ef4434f7993142ab9065ac5f0ef6aea8": {
      "model_module": "@jupyter-widgets/output",
      "model_module_version": "1.0.0",
      "model_name": "OutputModel",
      "state": {
       "layout": "IPY_MODEL_a8f16e07807f48c48956227e8f96255e",
       "outputs": [
        {
         "name": "stdout",
         "output_type": "stream",
         "text": "\nSubstance Use History:\nThe patient states that their primary substances of abuse include\ncocaine with daily use for periods greater than \n6 months with resulting impairment in functioning. \nThey state that they have been in residential treatment 8 times, \nwith their longest period of sobriety lasting 6 months. \nThe patient endorses history of IVDU. \nPatient endorses seizures, complicated withdrawal, and DTs.\n\n    \n"
        }
       ]
      }
     },
     "ef4d44ccc5f34d39ae6210506bc2e602": {
      "model_module": "@jupyter-widgets/base",
      "model_module_version": "1.2.0",
      "model_name": "LayoutModel",
      "state": {}
     },
     "ef59cfeb10cb49088b630de7280d1b9b": {
      "model_module": "@jupyter-widgets/controls",
      "model_module_version": "1.5.0",
      "model_name": "TextareaModel",
      "state": {
       "description": "family",
       "layout": "IPY_MODEL_ecfa8b2075df48d78b3e743fdae50eff",
       "style": "IPY_MODEL_5425e634379643bcafb96fd973fd28e8",
       "value": "Denies family history of mental illness"
      }
     },
     "ef70050df87743f29e92952e0abac0d5": {
      "model_module": "@jupyter-widgets/controls",
      "model_module_version": "1.5.0",
      "model_name": "DropdownModel",
      "state": {
       "_options_labels": [
        "good",
        "fair",
        "poor"
       ],
       "description": "appetite",
       "index": 1,
       "layout": "IPY_MODEL_57dff8c6f77e4aad88e092f42ad13209",
       "style": "IPY_MODEL_d05122e31e054c3c9d49b9cdc3fc77a8"
      }
     },
     "ef7ef17010a74424ad7b80c919d20c3b": {
      "model_module": "@jupyter-widgets/controls",
      "model_module_version": "1.5.0",
      "model_name": "DescriptionStyleModel",
      "state": {
       "description_width": ""
      }
     },
     "efa1804f29b344129a17783d3fb0de21": {
      "model_module": "@jupyter-widgets/controls",
      "model_module_version": "1.5.0",
      "model_name": "CheckboxModel",
      "state": {
       "description": "ketamine",
       "disabled": false,
       "layout": "IPY_MODEL_aeea4135203b4445bdbc8987b2df87d7",
       "style": "IPY_MODEL_588e39d90c694c20a5cdaeac9fdf4280",
       "value": false
      }
     },
     "efe9878053ae494e8c91331c5bd9dca8": {
      "model_module": "@jupyter-widgets/base",
      "model_module_version": "1.2.0",
      "model_name": "LayoutModel",
      "state": {}
     },
     "efec1eb0cb304e6b97cbe91df4f459b1": {
      "model_module": "@jupyter-widgets/base",
      "model_module_version": "1.2.0",
      "model_name": "LayoutModel",
      "state": {}
     },
     "f0326a4de2924feabeee954fdeaee9f2": {
      "model_module": "@jupyter-widgets/base",
      "model_module_version": "1.2.0",
      "model_name": "LayoutModel",
      "state": {}
     },
     "f03623319d3a4da083f6428313e52b13": {
      "model_module": "@jupyter-widgets/base",
      "model_module_version": "1.2.0",
      "model_name": "LayoutModel",
      "state": {}
     },
     "f05417088e8a4f859209a447bca9918c": {
      "model_module": "@jupyter-widgets/controls",
      "model_module_version": "1.5.0",
      "model_name": "BoundedIntTextModel",
      "state": {
       "description": "num_children",
       "layout": "IPY_MODEL_ecfa8b2075df48d78b3e743fdae50eff",
       "style": "IPY_MODEL_118547fd5d834d99870d5352ed2d11e6",
       "value": 1
      }
     },
     "f057c0ada7d44977a7e16b568fbff7a7": {
      "model_module": "@jupyter-widgets/controls",
      "model_module_version": "1.5.0",
      "model_name": "DropdownModel",
      "state": {
       "_options_labels": [
        "Silicon Beach",
        "Momentum",
        "Create Recovery Center",
        "Casablanca"
       ],
       "description": "treatment_center:",
       "index": 2,
       "layout": "IPY_MODEL_a9ae7af71c3b4975b7d1be9e6aa480e5",
       "style": "IPY_MODEL_9278203f75544b29bd3acd9ebdd49037"
      }
     },
     "f06e33a33d0d42a7bf22969884cfb997": {
      "model_module": "@jupyter-widgets/controls",
      "model_module_version": "1.5.0",
      "model_name": "CheckboxModel",
      "state": {
       "description": "ptsd",
       "disabled": false,
       "layout": "IPY_MODEL_3a221a1fb23b4a618263d2ab9a75488c",
       "style": "IPY_MODEL_d3e5d262a6184479890315f3f1aeb740",
       "value": false
      }
     },
     "f091db8af237410f9be70a102b42c29d": {
      "model_module": "@jupyter-widgets/controls",
      "model_module_version": "1.5.0",
      "model_name": "DescriptionStyleModel",
      "state": {
       "description_width": "150px"
      }
     },
     "f096735906e54ee6a7d90ae897938b32": {
      "model_module": "@jupyter-widgets/base",
      "model_module_version": "1.2.0",
      "model_name": "LayoutModel",
      "state": {}
     },
     "f0a10fa34af7421d8dfe72f18dc6ea49": {
      "model_module": "@jupyter-widgets/controls",
      "model_module_version": "1.5.0",
      "model_name": "TextareaModel",
      "state": {
       "description": "notes",
       "layout": "IPY_MODEL_f3ab830ad14c40bcb60503d19e5f9870",
       "style": "IPY_MODEL_86a7fc0bdc2040b28a3ea287bb2adb05",
       "value": "reports hx of sexual and physical abuse. "
      }
     },
     "f0a1bd2bf53f43f49853f4601e4e1614": {
      "model_module": "@jupyter-widgets/controls",
      "model_module_version": "1.5.0",
      "model_name": "VBoxModel",
      "state": {
       "children": [
        "IPY_MODEL_43276eed981c40399c68c8f5183436d4",
        "IPY_MODEL_61208a36a4a949ff8000480b9baaa9a1",
        "IPY_MODEL_d46289e85893481e8aff6f567d6b6501"
       ],
       "layout": "IPY_MODEL_4390bfd9ae6c46e789098e9dfc7b90fd"
      }
     },
     "f0c03a9eeee44b47b529968ff3597452": {
      "model_module": "@jupyter-widgets/controls",
      "model_module_version": "1.5.0",
      "model_name": "TextareaModel",
      "state": {
       "description": "notes",
       "layout": "IPY_MODEL_5259318fb468446090efdf421640f15f",
       "style": "IPY_MODEL_28fb193156964801926b9d709f041181"
      }
     },
     "f0c96bce1eda459d9860a1ee95448410": {
      "model_module": "@jupyter-widgets/base",
      "model_module_version": "1.2.0",
      "model_name": "LayoutModel",
      "state": {}
     },
     "f0e55d29cef543cf83d2371ce80b8bca": {
      "model_module": "@jupyter-widgets/controls",
      "model_module_version": "1.5.0",
      "model_name": "DescriptionStyleModel",
      "state": {
       "description_width": ""
      }
     },
     "f11c9bd37df146d8ae6bdfdb13634554": {
      "model_module": "@jupyter-widgets/controls",
      "model_module_version": "1.5.0",
      "model_name": "DescriptionStyleModel",
      "state": {
       "description_width": "150px"
      }
     },
     "f1221dbad6d746f698018f354600c357": {
      "model_module": "@jupyter-widgets/controls",
      "model_module_version": "1.5.0",
      "model_name": "DropdownModel",
      "state": {
       "_options_labels": [
        "deny",
        "indicate"
       ],
       "description": "past_depression",
       "index": 1,
       "layout": "IPY_MODEL_fa9ec4f225bc40b29e03b63fcbcbd3db",
       "style": "IPY_MODEL_f88cace6fa144831986fc88fea12704b"
      }
     },
     "f148003af3ba4b51853b7e4aae6e1abf": {
      "model_module": "@jupyter-widgets/controls",
      "model_module_version": "1.5.0",
      "model_name": "BoxModel",
      "state": {
       "children": [
        "IPY_MODEL_f7ff4303a0fc4d8f9c4a8ea24dcc6bf8",
        "IPY_MODEL_a8fa4b58097b4875857b361f6c1628c9",
        "IPY_MODEL_861979ecedc049fcbb70b0913792e903",
        "IPY_MODEL_e399204e86914647b49f4ab23e7a6030"
       ],
       "layout": "IPY_MODEL_1fd510db609f4f3f9852a3dd618873cd"
      }
     },
     "f1739290e2ca446397c9ffcc514fc248": {
      "model_module": "@jupyter-widgets/output",
      "model_module_version": "1.0.0",
      "model_name": "OutputModel",
      "state": {
       "layout": "IPY_MODEL_67336565fe6b449cb82661c324ca9692",
       "outputs": [
        {
         "name": "stdout",
         "output_type": "stream",
         "text": "\nAllergies:\nNKDA\n\n"
        }
       ]
      }
     },
     "f1bec9dda2ef4a07ac6b50148c32c9f3": {
      "model_module": "@jupyter-widgets/base",
      "model_module_version": "1.2.0",
      "model_name": "LayoutModel",
      "state": {}
     },
     "f1bf09db9fbb4d3f9547f803fcf230ef": {
      "model_module": "@jupyter-widgets/controls",
      "model_module_version": "1.5.0",
      "model_name": "TextareaModel",
      "state": {
       "description": "notes",
       "layout": "IPY_MODEL_57dff8c6f77e4aad88e092f42ad13209",
       "style": "IPY_MODEL_ad1a191ec9f3418f88e85bdc550518fc"
      }
     },
     "f1e045a71c2e4a01b684c5c209d37a8a": {
      "model_module": "@jupyter-widgets/base",
      "model_module_version": "1.2.0",
      "model_name": "LayoutModel",
      "state": {}
     },
     "f1f293db60f54188b285641ee217c320": {
      "model_module": "@jupyter-widgets/controls",
      "model_module_version": "1.5.0",
      "model_name": "HBoxModel",
      "state": {
       "children": [
        "IPY_MODEL_736ce7d2a2234c3593f8d8ab464ba8e2"
       ],
       "layout": "IPY_MODEL_d44a90fb35ba4405835371b94a12fc5c"
      }
     },
     "f21888dd29494af9801a28d0e082b761": {
      "model_module": "@jupyter-widgets/controls",
      "model_module_version": "1.5.0",
      "model_name": "CheckboxModel",
      "state": {
       "description": "cannabis",
       "disabled": false,
       "layout": "IPY_MODEL_a77ee17bdff0467dbae2e8f83da68669",
       "style": "IPY_MODEL_617a15a1b6fb4d0295306c7951f2b7a6",
       "value": true
      }
     },
     "f22830a3ef6f4d85be778974ced726e4": {
      "model_module": "@jupyter-widgets/controls",
      "model_module_version": "1.5.0",
      "model_name": "CheckboxModel",
      "state": {
       "description": "Opioid use disorder Severe",
       "disabled": false,
       "layout": "IPY_MODEL_d907e122859c45b8ba05992aa7cc00e6",
       "style": "IPY_MODEL_2820adfe2c1948819e087f544d1c8f03",
       "value": false
      }
     },
     "f23d5aaffde347f5a13a667cab65503a": {
      "model_module": "@jupyter-widgets/controls",
      "model_module_version": "1.5.0",
      "model_name": "DescriptionStyleModel",
      "state": {
       "description_width": "150px"
      }
     },
     "f253792eee6d492ebd14c1ac0d263473": {
      "model_module": "@jupyter-widgets/controls",
      "model_module_version": "1.5.0",
      "model_name": "VBoxModel",
      "state": {
       "children": [
        "IPY_MODEL_af0b453b9b254c1c8e3527cfe4e60b15",
        "IPY_MODEL_dc7161c94d5449b09dc136577299df2f",
        "IPY_MODEL_b8780f5a70444e629b68230dfebb7845",
        "IPY_MODEL_3f2fa98559134e6998e84a29dec9d83c"
       ],
       "layout": "IPY_MODEL_270b8b2a5d4e497199996ca210e83379"
      }
     },
     "f297abce9e264ea89ec0b1a13bd521a5": {
      "model_module": "@jupyter-widgets/controls",
      "model_module_version": "1.5.0",
      "model_name": "CheckboxModel",
      "state": {
       "description": "Cannabis use disorder Severe",
       "disabled": false,
       "layout": "IPY_MODEL_85c634a882764a248c04865858a9867b",
       "style": "IPY_MODEL_4dd1b45576b249209ac4a5b98f8d124a",
       "value": false
      }
     },
     "f2b241da3047449ca4a30ff9bc0c1b10": {
      "model_module": "@jupyter-widgets/controls",
      "model_module_version": "1.5.0",
      "model_name": "VBoxModel",
      "state": {
       "_dom_classes": [
        "widget-interact"
       ],
       "children": [
        "IPY_MODEL_899fac0c7e7f40c2be306d993e7ea526",
        "IPY_MODEL_f528ffe5b8ec4a3d8471757ffeb4d55a"
       ],
       "layout": "IPY_MODEL_af01c6f8034b42b4893c6e2ed127f2ae"
      }
     },
     "f2b2472a7c78442ca3338b99ebfd361b": {
      "model_module": "@jupyter-widgets/controls",
      "model_module_version": "1.5.0",
      "model_name": "HBoxModel",
      "state": {
       "children": [
        "IPY_MODEL_44e9d60b41294fd4b473da50ff616a22"
       ],
       "layout": "IPY_MODEL_12cc18bddcf3465c89c4b639afbab7a5"
      }
     },
     "f2f053d9ca85433f9bd06c10fb84968a": {
      "model_module": "@jupyter-widgets/controls",
      "model_module_version": "1.5.0",
      "model_name": "TextareaModel",
      "state": {
       "description": "notes",
       "layout": "IPY_MODEL_57dff8c6f77e4aad88e092f42ad13209",
       "style": "IPY_MODEL_31194952023945419100c3cdd79f9b47",
       "value": "Reports many traumas,\nEndorses hx of sexual and physical abuse \n"
      }
     },
     "f2f157d012eb423fb25122085ed5fe2b": {
      "model_module": "@jupyter-widgets/controls",
      "model_module_version": "1.5.0",
      "model_name": "DescriptionStyleModel",
      "state": {
       "description_width": "150px"
      }
     },
     "f32cf3f0d0764412893beef26a6d6874": {
      "model_module": "@jupyter-widgets/controls",
      "model_module_version": "1.5.0",
      "model_name": "DescriptionStyleModel",
      "state": {
       "description_width": "150px"
      }
     },
     "f34fa39a10504404b0f4794c6571ab0f": {
      "model_module": "@jupyter-widgets/controls",
      "model_module_version": "1.5.0",
      "model_name": "DescriptionStyleModel",
      "state": {
       "description_width": "150px"
      }
     },
     "f36710e1656b4352817f61c06da50e98": {
      "model_module": "@jupyter-widgets/controls",
      "model_module_version": "1.5.0",
      "model_name": "VBoxModel",
      "state": {
       "_dom_classes": [
        "widget-interact"
       ],
       "children": [
        "IPY_MODEL_94d9c9fa4b4e4e5385b0ddea547beff1",
        "IPY_MODEL_aef623d1ba0d4c27826655d48724bacb",
        "IPY_MODEL_4bd6de18e18c49b8b44cdc5ee8064d7e",
        "IPY_MODEL_061a785d40d04746a8feb7146bd21e5b",
        "IPY_MODEL_f643e81c5c62450eb8fe9ce8e83f2ee2",
        "IPY_MODEL_7d758972aeb14633b2d04f5e7d8ce715"
       ],
       "layout": "IPY_MODEL_3970797f8cf748399b95620e82dbdef0"
      }
     },
     "f370254c2d014d97ad322647675d4ae7": {
      "model_module": "@jupyter-widgets/controls",
      "model_module_version": "1.5.0",
      "model_name": "DescriptionStyleModel",
      "state": {
       "description_width": ""
      }
     },
     "f39560178d2c462ca494e0665d9446ee": {
      "model_module": "@jupyter-widgets/controls",
      "model_module_version": "1.5.0",
      "model_name": "TextModel",
      "state": {
       "description": "labs",
       "layout": "IPY_MODEL_8df6a3957bf04ea986ce91b6e499fbd7",
       "style": "IPY_MODEL_15117d5e96f04739895bc3ac8c876614",
       "value": "None currently on file."
      }
     },
     "f39c3d7cedd64c15a6836dc8d050126e": {
      "model_module": "@jupyter-widgets/controls",
      "model_module_version": "1.5.0",
      "model_name": "DescriptionStyleModel",
      "state": {
       "description_width": ""
      }
     },
     "f3ab830ad14c40bcb60503d19e5f9870": {
      "model_module": "@jupyter-widgets/base",
      "model_module_version": "1.2.0",
      "model_name": "LayoutModel",
      "state": {
       "width": "50%"
      }
     },
     "f3b6ed34009740a28f8f1d9db767117f": {
      "model_module": "@jupyter-widgets/controls",
      "model_module_version": "1.5.0",
      "model_name": "DescriptionStyleModel",
      "state": {
       "description_width": "150px"
      }
     },
     "f3ee00688a4d49c1b1c8409f33b030fc": {
      "model_module": "@jupyter-widgets/base",
      "model_module_version": "1.2.0",
      "model_name": "LayoutModel",
      "state": {}
     },
     "f3f0dc8d191d4191bbfeb98c2eadeda7": {
      "model_module": "@jupyter-widgets/controls",
      "model_module_version": "1.5.0",
      "model_name": "CheckboxModel",
      "state": {
       "description": "opioid",
       "disabled": false,
       "layout": "IPY_MODEL_e2560298da0744cd961ac6712f394615",
       "style": "IPY_MODEL_492477c431c94b0fb112f694d23088a5",
       "value": false
      }
     },
     "f3fec8f8379f4a54844c3e945aebd97c": {
      "model_module": "@jupyter-widgets/output",
      "model_module_version": "1.0.0",
      "model_name": "OutputModel",
      "state": {
       "layout": "IPY_MODEL_9e5517686e1f43068495d781ad236e15",
       "outputs": [
        {
         "name": "stdout",
         "output_type": "stream",
         "text": "\nHistory of Present Illness:\nThe patient states that they decided to come to treatment because i cant get it up. \nPatient reports they have been sober for 4 days.\nThe patient denies withdrawals. The patient denies cravings.\nThe patient declines anti-craving medication.\nThe patient reports their substance use impacted their life negatively \n\n\n"
        }
       ]
      }
     },
     "f416bccf40df4a2e8132e847e2dcab39": {
      "model_module": "@jupyter-widgets/controls",
      "model_module_version": "1.5.0",
      "model_name": "DescriptionStyleModel",
      "state": {
       "description_width": "150px"
      }
     },
     "f41bc571a9654f6f917b9f26d2cf081f": {
      "model_module": "@jupyter-widgets/controls",
      "model_module_version": "1.5.0",
      "model_name": "DescriptionStyleModel",
      "state": {
       "description_width": "150px"
      }
     },
     "f42ef67217e248628bb04a507f3d1e5f": {
      "model_module": "@jupyter-widgets/output",
      "model_module_version": "1.0.0",
      "model_name": "OutputModel",
      "state": {
       "layout": "IPY_MODEL_102785ffbfd14b4783b56ebc9f9ea190",
       "outputs": [
        {
         "name": "stdout",
         "output_type": "stream",
         "text": "\nPsychiatric History: \nPatient denies any history of psychiatric hospitalizations. \nPatient denies suicide attempts, \nPatient denies self-injurious behavior. \nPrevious meds: None \nCurrent outpatient psychiatrist: None\npsych history\n\n"
        }
       ]
      }
     },
     "f444dbe15aeb49e7ac55d07aaedc176c": {
      "model_module": "@jupyter-widgets/controls",
      "model_module_version": "1.5.0",
      "model_name": "DropdownModel",
      "state": {
       "_options_labels": [
        "denies",
        "endorses"
       ],
       "description": "sleep",
       "index": 0,
       "layout": "IPY_MODEL_64f3493d9e7e4cd79d693795fcd61555",
       "style": "IPY_MODEL_e50d8251ea444e20be0d2cb2ed124b53"
      }
     },
     "f44aeeed11c84376addf4fe455dd68a0": {
      "model_module": "@jupyter-widgets/base",
      "model_module_version": "1.2.0",
      "model_name": "LayoutModel",
      "state": {}
     },
     "f45d73842b6046fc8ef1b70c467a29f8": {
      "model_module": "@jupyter-widgets/controls",
      "model_module_version": "1.5.0",
      "model_name": "CheckboxModel",
      "state": {
       "description": "psychosis",
       "disabled": false,
       "layout": "IPY_MODEL_cb2ff493e36e4ef3a41e8a541b4e4b4c",
       "style": "IPY_MODEL_e78f8f6cd7a644d8936fe3b3c7bf4775",
       "value": false
      }
     },
     "f46aaea058fd413baf197826ec8eba25": {
      "model_module": "@jupyter-widgets/base",
      "model_module_version": "1.2.0",
      "model_name": "LayoutModel",
      "state": {}
     },
     "f47a65f2797f4ecbbcaf5d80d2e51d0b": {
      "model_module": "@jupyter-widgets/base",
      "model_module_version": "1.2.0",
      "model_name": "LayoutModel",
      "state": {
       "width": "25%"
      }
     },
     "f4983124f607431fac23f8d3e53b7c77": {
      "model_module": "@jupyter-widgets/base",
      "model_module_version": "1.2.0",
      "model_name": "LayoutModel",
      "state": {}
     },
     "f4aeaaac51c849e1bd0d446600d79b84": {
      "model_module": "@jupyter-widgets/controls",
      "model_module_version": "1.5.0",
      "model_name": "DescriptionStyleModel",
      "state": {
       "description_width": "150px"
      }
     },
     "f4e209c28858410bab77f6df15fb3f06": {
      "model_module": "@jupyter-widgets/controls",
      "model_module_version": "1.5.0",
      "model_name": "TextareaModel",
      "state": {
       "description": "primary_substances",
       "layout": "IPY_MODEL_64f3493d9e7e4cd79d693795fcd61555",
       "style": "IPY_MODEL_b71fbce82d8548c195f7c4cf5d6e1ca4",
       "value": "nothing"
      }
     },
     "f50fb34eeebc4c24a7a469350cf14eab": {
      "model_module": "@jupyter-widgets/base",
      "model_module_version": "1.2.0",
      "model_name": "LayoutModel",
      "state": {}
     },
     "f528ffe5b8ec4a3d8471757ffeb4d55a": {
      "model_module": "@jupyter-widgets/output",
      "model_module_version": "1.0.0",
      "model_name": "OutputModel",
      "state": {
       "layout": "IPY_MODEL_2e9b81bcae924f4d8b3de99ea3717b45",
       "outputs": [
        {
         "name": "stdout",
         "output_type": "stream",
         "text": "\nAllergies:\nNKDA\n\n"
        }
       ]
      }
     },
     "f56350bb16654dd9a0b9cc271febc957": {
      "model_module": "@jupyter-widgets/controls",
      "model_module_version": "1.5.0",
      "model_name": "TextareaModel",
      "state": {
       "description": "med plan:",
       "layout": "IPY_MODEL_3a8ac0bcf9904a5394dce38a60acc20f",
       "placeholder": "Type something",
       "style": "IPY_MODEL_05c9b23e91a141a8b3fd372addc394cc",
       "value": "4. Continue medication.\nsee me next month"
      }
     },
     "f5aaefb952a949fb8116cc39fb6149f9": {
      "model_module": "@jupyter-widgets/controls",
      "model_module_version": "1.5.0",
      "model_name": "DescriptionStyleModel",
      "state": {
       "description_width": ""
      }
     },
     "f601ee5263844d45bcd0da187c232e68": {
      "model_module": "@jupyter-widgets/controls",
      "model_module_version": "1.5.0",
      "model_name": "CheckboxModel",
      "state": {
       "description": "adhd",
       "disabled": false,
       "layout": "IPY_MODEL_34b92e6a108f4a27bf3a8a989af92cbe",
       "style": "IPY_MODEL_6e1c3fa4cbbb44028b7f329734747cea",
       "value": true
      }
     },
     "f60f52a669e64307a42282bcffc80377": {
      "model_module": "@jupyter-widgets/base",
      "model_module_version": "1.2.0",
      "model_name": "LayoutModel",
      "state": {}
     },
     "f64144d77a4d458a86d4a7ad3a9374ec": {
      "model_module": "@jupyter-widgets/controls",
      "model_module_version": "1.5.0",
      "model_name": "DescriptionStyleModel",
      "state": {
       "description_width": ""
      }
     },
     "f643e81c5c62450eb8fe9ce8e83f2ee2": {
      "model_module": "@jupyter-widgets/controls",
      "model_module_version": "1.5.0",
      "model_name": "TextareaModel",
      "state": {
       "description": "notes",
       "layout": "IPY_MODEL_64f3493d9e7e4cd79d693795fcd61555",
       "style": "IPY_MODEL_6248fba93f304bedbcb0d2a36fb3cd3b"
      }
     },
     "f64441c16995444ba5dbf9302abdd3f9": {
      "model_module": "@jupyter-widgets/controls",
      "model_module_version": "1.5.0",
      "model_name": "VBoxModel",
      "state": {
       "_dom_classes": [
        "widget-interact"
       ],
       "children": [
        "IPY_MODEL_6552d180af3948dc814b19ce54024696",
        "IPY_MODEL_58906d7c3ca5495c84fc1bcbba58ded0",
        "IPY_MODEL_73cc772bb62d465e8554ece6e07645ee",
        "IPY_MODEL_c52a70fad9ff440ab4c5b0b7c2e45f4f",
        "IPY_MODEL_96db84a1e4694360a0b93ffc21792664",
        "IPY_MODEL_5e4c18a2a74b4fc6a9dd249e915e04b1"
       ],
       "layout": "IPY_MODEL_195355190a3e4b6caa921320a85a5a8e"
      }
     },
     "f65f4bdc638c4b3bb6c0768718dbb22d": {
      "model_module": "@jupyter-widgets/controls",
      "model_module_version": "1.5.0",
      "model_name": "CheckboxModel",
      "state": {
       "description": "Cannabis use disorder Severe",
       "disabled": false,
       "layout": "IPY_MODEL_ff0867527e104c5085557dbfd435e8f8",
       "style": "IPY_MODEL_1d4d637f774d4b6d9eb90b2d89ba3e42",
       "value": false
      }
     },
     "f67172e9f4654c199c2a913d235982e3": {
      "model_module": "@jupyter-widgets/base",
      "model_module_version": "1.2.0",
      "model_name": "LayoutModel",
      "state": {}
     },
     "f68773c764924921935939bf67d28241": {
      "model_module": "@jupyter-widgets/controls",
      "model_module_version": "1.5.0",
      "model_name": "DescriptionStyleModel",
      "state": {
       "description_width": "150px"
      }
     },
     "f695cb9122ab41149f1972e00d01ee65": {
      "model_module": "@jupyter-widgets/controls",
      "model_module_version": "1.5.0",
      "model_name": "VBoxModel",
      "state": {
       "_dom_classes": [
        "widget-interact"
       ],
       "children": [
        "IPY_MODEL_1bd18540422b4dbfa12c9c2792e91b2d",
        "IPY_MODEL_e6a3805415a44734aab616a3ea5c8092",
        "IPY_MODEL_35d9e0a375b94fdfaf0a93e8bba13e70",
        "IPY_MODEL_574652c16e1c46f79fc7259ccd95ccb2",
        "IPY_MODEL_b2b3d7f7b8784f44ab0b55991eb4fcc2",
        "IPY_MODEL_0cfc82a4f50542c38e3f5d5880b7ce96",
        "IPY_MODEL_becc11c6e5544761bb83141db82091bd"
       ],
       "layout": "IPY_MODEL_62a4f3c1d0954dbfa8c1b1bfc7f5ed13"
      }
     },
     "f6aac723894c4e529844d096146dcc33": {
      "model_module": "@jupyter-widgets/controls",
      "model_module_version": "1.5.0",
      "model_name": "DescriptionStyleModel",
      "state": {
       "description_width": "150px"
      }
     },
     "f6b39950293d478789864440e1781f5c": {
      "model_module": "@jupyter-widgets/controls",
      "model_module_version": "1.5.0",
      "model_name": "DropdownModel",
      "state": {
       "_options_labels": [
        "denies",
        "endorses"
       ],
       "description": "seizures",
       "index": 1,
       "layout": "IPY_MODEL_57dff8c6f77e4aad88e092f42ad13209",
       "style": "IPY_MODEL_b001c90d07d04f98ba5920d3cc04df57"
      }
     },
     "f6de01e8bcab4e8a9e20acd76b73b566": {
      "model_module": "@jupyter-widgets/base",
      "model_module_version": "1.2.0",
      "model_name": "LayoutModel",
      "state": {}
     },
     "f6ed5fd4680c471bb48931aeef465763": {
      "model_module": "@jupyter-widgets/controls",
      "model_module_version": "1.5.0",
      "model_name": "DropdownModel",
      "state": {
       "_options_labels": [
        "denies",
        "endorses"
       ],
       "description": "depressed",
       "index": 0,
       "layout": "IPY_MODEL_ecfa8b2075df48d78b3e743fdae50eff",
       "style": "IPY_MODEL_acc3b0075f2a46a98f79347864d3e90d"
      }
     },
     "f73644679a6d40a9bfc734ad320b258a": {
      "model_module": "@jupyter-widgets/base",
      "model_module_version": "1.2.0",
      "model_name": "LayoutModel",
      "state": {
       "height": "200px"
      }
     },
     "f73f55ec10b44438a6c4756f30d043e2": {
      "model_module": "@jupyter-widgets/controls",
      "model_module_version": "1.5.0",
      "model_name": "DescriptionStyleModel",
      "state": {
       "description_width": ""
      }
     },
     "f751e374dffb4909b800f83f4a17e6a7": {
      "model_module": "@jupyter-widgets/controls",
      "model_module_version": "1.5.0",
      "model_name": "TextareaModel",
      "state": {
       "description": "Notes:",
       "layout": "IPY_MODEL_03260beee3994536a8a86c61c9e9df11",
       "style": "IPY_MODEL_7de87e1859ec4cb9973ea7537ec9a9b1"
      }
     },
     "f757a29107bb434691c03a8b5bd0cece": {
      "model_module": "@jupyter-widgets/base",
      "model_module_version": "1.2.0",
      "model_name": "LayoutModel",
      "state": {}
     },
     "f7725ed8feda47f5b8d4820341267c32": {
      "model_module": "@jupyter-widgets/base",
      "model_module_version": "1.2.0",
      "model_name": "LayoutModel",
      "state": {}
     },
     "f7998805aa5f41fc93f2cba76c43946b": {
      "model_module": "@jupyter-widgets/controls",
      "model_module_version": "1.5.0",
      "model_name": "DropdownModel",
      "state": {
       "_options_labels": [
        "good",
        "fair",
        "poor"
       ],
       "description": "appetite",
       "index": 0,
       "layout": "IPY_MODEL_f3ab830ad14c40bcb60503d19e5f9870",
       "style": "IPY_MODEL_b6ba9f337147470bbbccac9ffc8c0902"
      }
     },
     "f7ff4303a0fc4d8f9c4a8ea24dcc6bf8": {
      "model_module": "@jupyter-widgets/controls",
      "model_module_version": "1.5.0",
      "model_name": "VBoxModel",
      "state": {
       "children": [
        "IPY_MODEL_00a23196e1e84105b35a69ddfcdb324b",
        "IPY_MODEL_aacb1b0aa7e54f8c8cb710a2f3aa228f",
        "IPY_MODEL_3bc87cfaab334318992bee71084a1355",
        "IPY_MODEL_d8f548e6112340af97e59483d90a3641"
       ],
       "layout": "IPY_MODEL_947514c8341e4e2e9eb54feb8eaa1aeb"
      }
     },
     "f82c83fd9d7948839a5d96a10af3c116": {
      "model_module": "@jupyter-widgets/controls",
      "model_module_version": "1.5.0",
      "model_name": "DescriptionStyleModel",
      "state": {
       "description_width": ""
      }
     },
     "f868c9e0e9fc4686a668139f1a7cfabd": {
      "model_module": "@jupyter-widgets/controls",
      "model_module_version": "1.5.0",
      "model_name": "CheckboxModel",
      "state": {
       "description": "Amphetamine-type substance use disorder Severe",
       "disabled": false,
       "layout": "IPY_MODEL_eee8a54a8457459f99bd520f1ef9ea17",
       "style": "IPY_MODEL_ec44ac80c7b449f4b2e0517689cf59b9",
       "value": false
      }
     },
     "f88cace6fa144831986fc88fea12704b": {
      "model_module": "@jupyter-widgets/controls",
      "model_module_version": "1.5.0",
      "model_name": "DescriptionStyleModel",
      "state": {
       "description_width": "150px"
      }
     },
     "f8acaa37dcd5446eaa8ed0342fa2d0db": {
      "model_module": "@jupyter-widgets/base",
      "model_module_version": "1.2.0",
      "model_name": "LayoutModel",
      "state": {}
     },
     "f8d86dd027ea4813a65bb82c89b1456e": {
      "model_module": "@jupyter-widgets/base",
      "model_module_version": "1.2.0",
      "model_name": "LayoutModel",
      "state": {}
     },
     "f8f4e09d8e8c471c8c897fc104cf2f4b": {
      "model_module": "@jupyter-widgets/controls",
      "model_module_version": "1.5.0",
      "model_name": "DropdownModel",
      "state": {
       "_options_labels": [
        "denies",
        "endorses"
       ],
       "description": "hep_medical",
       "index": 0,
       "layout": "IPY_MODEL_f3ab830ad14c40bcb60503d19e5f9870",
       "style": "IPY_MODEL_510e61714c314c2bb80517a8a1f40f19"
      }
     },
     "f9860c4d552e49b391951016ffd25579": {
      "model_module": "@jupyter-widgets/controls",
      "model_module_version": "1.5.0",
      "model_name": "CheckboxModel",
      "state": {
       "description": "Bipolar II disorder",
       "disabled": false,
       "layout": "IPY_MODEL_6faea70aa932487caaa56dbad0ea9ffc",
       "style": "IPY_MODEL_31e7bf889aca48f49dcc8f5097d63c36",
       "value": false
      }
     },
     "f99a263702f846cf8fad255fd196de26": {
      "model_module": "@jupyter-widgets/controls",
      "model_module_version": "1.5.0",
      "model_name": "TextareaModel",
      "state": {
       "description": "allergies",
       "layout": "IPY_MODEL_fa9ec4f225bc40b29e03b63fcbcbd3db",
       "style": "IPY_MODEL_1c07a3d7067844b49cd11a22c6361581",
       "value": "NKDA"
      }
     },
     "f9af2d9f87f84e0b9d6e8c4e9845fe1a": {
      "model_module": "@jupyter-widgets/controls",
      "model_module_version": "1.5.0",
      "model_name": "BoundedIntTextModel",
      "state": {
       "description": "num_times_in_treatment",
       "layout": "IPY_MODEL_f3ab830ad14c40bcb60503d19e5f9870",
       "style": "IPY_MODEL_95fa51e880034f799adc7e95022cc931",
       "value": 1
      }
     },
     "f9c903508a244870bb34bdb34e9aea4b": {
      "model_module": "@jupyter-widgets/controls",
      "model_module_version": "1.5.0",
      "model_name": "DropdownModel",
      "state": {
       "_options_labels": [
        "declines",
        "elects to start",
        "would like to continue with"
       ],
       "description": "anti_cravings_choice",
       "index": 0,
       "layout": "IPY_MODEL_5259318fb468446090efdf421640f15f",
       "style": "IPY_MODEL_c4cfa64582d74d3c9275ef97a401cf14"
      }
     },
     "f9e5c4e6442d43daa1306b237474757d": {
      "model_module": "@jupyter-widgets/controls",
      "model_module_version": "1.5.0",
      "model_name": "DescriptionStyleModel",
      "state": {
       "description_width": "150px"
      }
     },
     "f9f09d6eb64b402dbb7f309b29647e11": {
      "model_module": "@jupyter-widgets/controls",
      "model_module_version": "1.5.0",
      "model_name": "VBoxModel",
      "state": {
       "_dom_classes": [
        "widget-interact"
       ],
       "children": [
        "IPY_MODEL_12a3b70d8826421986d4f6c6023e412a",
        "IPY_MODEL_12f64f7bab144b0ea2d845f2f837bd3b",
        "IPY_MODEL_ce2b2b000fec48fb872b2b7a7f8dad82",
        "IPY_MODEL_8c5a2bac93c54a0daf9bc269fc7a5a52",
        "IPY_MODEL_fb638c826a874e4eb1b19c718242e780",
        "IPY_MODEL_5a8a2141e5e34733b456394fbf3448b0"
       ],
       "layout": "IPY_MODEL_57f40f63276b46b4b36d390f8a422124"
      }
     },
     "fa4410919b3d4fdd972d0a9ef10534d9": {
      "model_module": "@jupyter-widgets/controls",
      "model_module_version": "1.5.0",
      "model_name": "CheckboxModel",
      "state": {
       "description": "bipolar II disorder",
       "disabled": false,
       "layout": "IPY_MODEL_65dd6dbe3d35472c96767e942c166525",
       "style": "IPY_MODEL_4e9531aa05664439afb618fed17d7fe4",
       "value": false
      }
     },
     "fa561f0d39d64642a08ff3f9d83960cc": {
      "model_module": "@jupyter-widgets/controls",
      "model_module_version": "1.5.0",
      "model_name": "DropdownModel",
      "state": {
       "_options_labels": [
        "days",
        "weeks",
        "months",
        "years"
       ],
       "description": "longest_sober_period",
       "index": 2,
       "layout": "IPY_MODEL_fa9ec4f225bc40b29e03b63fcbcbd3db",
       "style": "IPY_MODEL_53fe7018dfdf433da7161ce08d7e797b"
      }
     },
     "fa87d62dcadd4aaa83d94253ab7bb854": {
      "model_module": "@jupyter-widgets/base",
      "model_module_version": "1.2.0",
      "model_name": "LayoutModel",
      "state": {}
     },
     "fa985733067b4a54951c4583544924b3": {
      "model_module": "@jupyter-widgets/controls",
      "model_module_version": "1.5.0",
      "model_name": "CheckboxModel",
      "state": {
       "description": "bipolar II disorder",
       "disabled": false,
       "layout": "IPY_MODEL_8aa2dc4e31864e749dd9f9fdce7fb3d3",
       "style": "IPY_MODEL_6caaba45e155452f8c1e95f95c389166",
       "value": false
      }
     },
     "fa9ec4f225bc40b29e03b63fcbcbd3db": {
      "model_module": "@jupyter-widgets/base",
      "model_module_version": "1.2.0",
      "model_name": "LayoutModel",
      "state": {
       "width": "50%"
      }
     },
     "fae3784c296e4836a12ec563769a9918": {
      "model_module": "@jupyter-widgets/base",
      "model_module_version": "1.2.0",
      "model_name": "LayoutModel",
      "state": {}
     },
     "fae3e05167a44aaab904309b75ac4e18": {
      "model_module": "@jupyter-widgets/controls",
      "model_module_version": "1.5.0",
      "model_name": "DescriptionStyleModel",
      "state": {
       "description_width": "150px"
      }
     },
     "faed8596f8e64af9bad8c9759fccae2b": {
      "model_module": "@jupyter-widgets/controls",
      "model_module_version": "1.5.0",
      "model_name": "DescriptionStyleModel",
      "state": {
       "description_width": ""
      }
     },
     "faf4e3adf56e47ba961c35754912a3b9": {
      "model_module": "@jupyter-widgets/controls",
      "model_module_version": "1.5.0",
      "model_name": "TextModel",
      "state": {
       "description": "notes",
       "layout": "IPY_MODEL_ecfa8b2075df48d78b3e743fdae50eff",
       "style": "IPY_MODEL_16594f3dc5ae4a79a101b942e179d4c7",
       "value": "sammy"
      }
     },
     "fb1069ee9e384038aaa5d51be2b9a8b8": {
      "model_module": "@jupyter-widgets/controls",
      "model_module_version": "1.5.0",
      "model_name": "TextModel",
      "state": {
       "description": "labs",
       "layout": "IPY_MODEL_6d394698e39e419c9e2aebe570a3440b",
       "style": "IPY_MODEL_2de33bab9af84d9d840f3ddb0cfdfbb0",
       "value": "None currently on file."
      }
     },
     "fb20aabb93ac4cb0b45dc16d015b07b2": {
      "model_module": "@jupyter-widgets/base",
      "model_module_version": "1.2.0",
      "model_name": "LayoutModel",
      "state": {}
     },
     "fb48e802559442a5a0f097afae936956": {
      "model_module": "@jupyter-widgets/base",
      "model_module_version": "1.2.0",
      "model_name": "LayoutModel",
      "state": {}
     },
     "fb56ad341834495cb28d511d74bc29ae": {
      "model_module": "@jupyter-widgets/controls",
      "model_module_version": "1.5.0",
      "model_name": "DescriptionStyleModel",
      "state": {
       "description_width": "150px"
      }
     },
     "fb638c826a874e4eb1b19c718242e780": {
      "model_module": "@jupyter-widgets/controls",
      "model_module_version": "1.5.0",
      "model_name": "TextareaModel",
      "state": {
       "description": "notes",
       "layout": "IPY_MODEL_f3ab830ad14c40bcb60503d19e5f9870",
       "style": "IPY_MODEL_009e50839c63483597c0b94de630c161",
       "value": "Denies SE from medication"
      }
     },
     "fb9bd116b4bc4a759e1891cdc0569715": {
      "model_module": "@jupyter-widgets/base",
      "model_module_version": "1.2.0",
      "model_name": "LayoutModel",
      "state": {}
     },
     "fbc84eadefc948e19150df4e1d194204": {
      "model_module": "@jupyter-widgets/base",
      "model_module_version": "1.2.0",
      "model_name": "LayoutModel",
      "state": {}
     },
     "fbf3ddfcb6d643a4974a9d0279bd3fae": {
      "model_module": "@jupyter-widgets/controls",
      "model_module_version": "1.5.0",
      "model_name": "VBoxModel",
      "state": {
       "children": [
        "IPY_MODEL_bbe378b31abc47fb8cacbc191887f975",
        "IPY_MODEL_39cca054c96940039336148f4ddaa944",
        "IPY_MODEL_1c60ac97247145f48b449307bc66a895",
        "IPY_MODEL_6fc2050668e547759fbe5f54015f574a"
       ],
       "layout": "IPY_MODEL_c8780149c0b849579e450b62719a3b15"
      }
     },
     "fbfec2e8ee094fd69e9ceea6056e98a6": {
      "model_module": "@jupyter-widgets/base",
      "model_module_version": "1.2.0",
      "model_name": "LayoutModel",
      "state": {}
     },
     "fc31aadfcd124551a8077f48b798efb0": {
      "model_module": "@jupyter-widgets/controls",
      "model_module_version": "1.5.0",
      "model_name": "TextModel",
      "state": {
       "description": "Pronoun:",
       "layout": "IPY_MODEL_eabbde0c37394c7bb5f7c6e7bbc31d6f",
       "style": "IPY_MODEL_2db3213be7fe492b91f87577ad4150af",
       "value": "they"
      }
     },
     "fc6875f2581844e7adc81e32b7c1fa54": {
      "model_module": "@jupyter-widgets/base",
      "model_module_version": "1.2.0",
      "model_name": "LayoutModel",
      "state": {}
     },
     "fc6a340ba183409dbd44fad6bbdfcd8a": {
      "model_module": "@jupyter-widgets/controls",
      "model_module_version": "1.5.0",
      "model_name": "VBoxModel",
      "state": {
       "_dom_classes": [
        "widget-interact"
       ],
       "children": [
        "IPY_MODEL_f6ed5fd4680c471bb48931aeef465763",
        "IPY_MODEL_cdf25aaf63314380b31dd03d0da292bd",
        "IPY_MODEL_3f2ee59274c44241ba33dc07638be4b9",
        "IPY_MODEL_e52aa70aa373498ea45bd85b26dd613d",
        "IPY_MODEL_679980d3c39b45e1b341a96b3321c02d",
        "IPY_MODEL_a475623b2cd549069a34fcc7d39b66ee",
        "IPY_MODEL_e7fb5d481e8a48619074510cbb85dcb1",
        "IPY_MODEL_746fd2de36b94471908539f9a0cfb602",
        "IPY_MODEL_8657cd193a144df3bf7b281f92b3bd4a",
        "IPY_MODEL_b2b1f4e10ff642a2acd96084ca7bf6ba",
        "IPY_MODEL_48fad2350ef743fa81edb23f7bb9e00e",
        "IPY_MODEL_ae4353285392446c9e9115a37ebaa2e9",
        "IPY_MODEL_ecab2b8253c04897a5d69b3ec1879398"
       ],
       "layout": "IPY_MODEL_4a75e4c8b9774d16868321bbac4201fb"
      }
     },
     "fc89256f97d8478c89a72eb332518462": {
      "model_module": "@jupyter-widgets/controls",
      "model_module_version": "1.5.0",
      "model_name": "TextareaModel",
      "state": {
       "description": "Other:",
       "layout": "IPY_MODEL_fa9ec4f225bc40b29e03b63fcbcbd3db",
       "style": "IPY_MODEL_fd6df77f7a7b4836ab76bcacf681a7ac"
      }
     },
     "fc9be991baa04116b8087cfdf505bb4f": {
      "model_module": "@jupyter-widgets/controls",
      "model_module_version": "1.5.0",
      "model_name": "VBoxModel",
      "state": {
       "_dom_classes": [
        "widget-interact"
       ],
       "children": [
        "IPY_MODEL_9279e81f2e484068a6f6fca83742da38",
        "IPY_MODEL_fd408ac1cd0a4d26b78e7f7abd8f911d",
        "IPY_MODEL_ff94413c04d84134b032647364b736bb",
        "IPY_MODEL_dbf44da842b545eea71c0acf3049a9a7",
        "IPY_MODEL_b95cfae0ae11464c93a56b4470cde998",
        "IPY_MODEL_1876a4afe9a34e53a52972e8ab8db44b",
        "IPY_MODEL_b30d10f4124545e78ec6e41a6aed9f72"
       ],
       "layout": "IPY_MODEL_258b1ee20d724c9ca0623bee4e7b077f"
      }
     },
     "fc9e82e3af0e48d49cc021d528b295c9": {
      "model_module": "@jupyter-widgets/controls",
      "model_module_version": "1.5.0",
      "model_name": "VBoxModel",
      "state": {
       "_dom_classes": [
        "widget-interact"
       ],
       "children": [
        "IPY_MODEL_850a8cce6e5b49d99161bbdde01bf6c2",
        "IPY_MODEL_c49752e5bbb74edbbb4906cc57db29f2",
        "IPY_MODEL_6a16c18b81314cd3b04a466180366788",
        "IPY_MODEL_8d0ec0f36d3d4858be1e536f8160f01f",
        "IPY_MODEL_5a8091b687224e5392c6e34b865029cc",
        "IPY_MODEL_85a6a880d1e444178b5c8dc884896437"
       ],
       "layout": "IPY_MODEL_9275774919f446359a7baf76c820c8d2"
      }
     },
     "fcde67824a754f89adf698951058e27c": {
      "model_module": "@jupyter-widgets/base",
      "model_module_version": "1.2.0",
      "model_name": "LayoutModel",
      "state": {}
     },
     "fcded3ffaa2741dfbb892330e1ebb784": {
      "model_module": "@jupyter-widgets/controls",
      "model_module_version": "1.5.0",
      "model_name": "DescriptionStyleModel",
      "state": {
       "description_width": "150px"
      }
     },
     "fd2404655f2649e8ad7a6fd7a793065f": {
      "model_module": "@jupyter-widgets/base",
      "model_module_version": "1.2.0",
      "model_name": "LayoutModel",
      "state": {}
     },
     "fd408ac1cd0a4d26b78e7f7abd8f911d": {
      "model_module": "@jupyter-widgets/controls",
      "model_module_version": "1.5.0",
      "model_name": "DropdownModel",
      "state": {
       "_options_labels": [
        "denies",
        "endorses"
       ],
       "description": "suicide",
       "index": 0,
       "layout": "IPY_MODEL_57dff8c6f77e4aad88e092f42ad13209",
       "style": "IPY_MODEL_72424d0f6e9e451a8326cfdc929cae6f"
      }
     },
     "fd63fdbab422495d893922fcae98bcb9": {
      "model_module": "@jupyter-widgets/controls",
      "model_module_version": "1.5.0",
      "model_name": "DropdownModel",
      "state": {
       "_options_labels": [
        "denies",
        "endorses"
       ],
       "description": "anhedonia",
       "index": 0,
       "layout": "IPY_MODEL_fa9ec4f225bc40b29e03b63fcbcbd3db",
       "style": "IPY_MODEL_b0dae254e9e446f6a5a8abdc82e82bd8"
      }
     },
     "fd6df77f7a7b4836ab76bcacf681a7ac": {
      "model_module": "@jupyter-widgets/controls",
      "model_module_version": "1.5.0",
      "model_name": "DescriptionStyleModel",
      "state": {
       "description_width": "150px"
      }
     },
     "fd89ad42c2384858b3a386e97738701b": {
      "model_module": "@jupyter-widgets/base",
      "model_module_version": "1.2.0",
      "model_name": "LayoutModel",
      "state": {}
     },
     "fda2e8dff9664b26a2d9b3c8981308e2": {
      "model_module": "@jupyter-widgets/base",
      "model_module_version": "1.2.0",
      "model_name": "LayoutModel",
      "state": {
       "height": "100px",
       "width": "500px"
      }
     },
     "fdaca39b4ab143f98b9aedbdf0ea8da6": {
      "model_module": "@jupyter-widgets/controls",
      "model_module_version": "1.5.0",
      "model_name": "VBoxModel",
      "state": {
       "children": [
        "IPY_MODEL_00bfefba02b640b3b0ff97ddc9f72077",
        "IPY_MODEL_741705ec3d194783963b49bff92bc9c4",
        "IPY_MODEL_97ed0510df2145e29c1b29ee635e21c1",
        "IPY_MODEL_b993e7cd6a90408cacfc9f0644ec22ad",
        "IPY_MODEL_cf01f047007a4b7babf743b14c1678a8",
        "IPY_MODEL_9a5e9013642646a2a4165862d9a6243e",
        "IPY_MODEL_8afb4069c35b438b89a8ec341cd63e2f",
        "IPY_MODEL_979d88fa375c4daca9bc79e6441796e5",
        "IPY_MODEL_e735ee4da829468b9e9e43161f28d456",
        "IPY_MODEL_618b8a3add824e9f991ffbca5a96c7d9",
        "IPY_MODEL_efa1804f29b344129a17783d3fb0de21",
        "IPY_MODEL_a62d0e7485b1495591bef60c6ad853da",
        "IPY_MODEL_d25d5faf7f0f48008262315b980b9a90",
        "IPY_MODEL_66cd3271bada415a8bfa5a616b0e8cf0"
       ],
       "layout": "IPY_MODEL_fb48e802559442a5a0f097afae936956"
      }
     },
     "fdf1cda1bdbc4590a882bc82d87f0da6": {
      "model_module": "@jupyter-widgets/controls",
      "model_module_version": "1.5.0",
      "model_name": "DescriptionStyleModel",
      "state": {
       "description_width": "150px"
      }
     },
     "fdf3f52fa5bb48898ff4d175173e86a5": {
      "model_module": "@jupyter-widgets/controls",
      "model_module_version": "1.5.0",
      "model_name": "DescriptionStyleModel",
      "state": {
       "description_width": "150px"
      }
     },
     "fdfca06106bf4200bc3b57aa783c0750": {
      "model_module": "@jupyter-widgets/controls",
      "model_module_version": "1.5.0",
      "model_name": "CheckboxModel",
      "state": {
       "description": "bipolar I disorder",
       "disabled": false,
       "layout": "IPY_MODEL_fa87d62dcadd4aaa83d94253ab7bb854",
       "style": "IPY_MODEL_8570a661c47d49dfa5882ed2f9f90927",
       "value": false
      }
     },
     "fe31a0350b8c45f8b8836cca3845dad9": {
      "model_module": "@jupyter-widgets/controls",
      "model_module_version": "1.5.0",
      "model_name": "TextModel",
      "state": {
       "description": "Pronoun:",
       "layout": "IPY_MODEL_d08116b4df0f47f48d2a5d897beaf8de",
       "style": "IPY_MODEL_30129189ec10427a8f3f1f5a521904ca",
       "value": "they"
      }
     },
     "fe70715f163c400cb6eb55e027e810f3": {
      "model_module": "@jupyter-widgets/controls",
      "model_module_version": "1.5.0",
      "model_name": "VBoxModel",
      "state": {
       "_dom_classes": [
        "widget-interact"
       ],
       "children": [
        "IPY_MODEL_6fcf9ba5e34a4d67b4930594dbcadcfd",
        "IPY_MODEL_bac2934e67a9436280c80954fbfc40d7",
        "IPY_MODEL_b6097be6bb094a10ad6b6d789fbeea2c",
        "IPY_MODEL_a4566efa53d14af49cefa098b5e28003",
        "IPY_MODEL_b33946794e1547d4b52ed04f3d635a80",
        "IPY_MODEL_2e80a544cef949a3949b72536c79d482"
       ],
       "layout": "IPY_MODEL_5cdeb904f141448fab5859ea4036e353"
      }
     },
     "fe9b0cd062214a74a0cf5f53f174f07c": {
      "model_module": "@jupyter-widgets/base",
      "model_module_version": "1.2.0",
      "model_name": "LayoutModel",
      "state": {}
     },
     "fea7a883fa934c42937ca5e79950cd2c": {
      "model_module": "@jupyter-widgets/controls",
      "model_module_version": "1.5.0",
      "model_name": "DescriptionStyleModel",
      "state": {
       "description_width": ""
      }
     },
     "fec6263696fb401292147a51b21f9c27": {
      "model_module": "@jupyter-widgets/controls",
      "model_module_version": "1.5.0",
      "model_name": "DropdownModel",
      "state": {
       "_options_labels": [
        "denies",
        "endorses"
       ],
       "description": "physical_anxiety",
       "index": 1,
       "layout": "IPY_MODEL_f3ab830ad14c40bcb60503d19e5f9870",
       "style": "IPY_MODEL_ef092fe1810d4927add27dbfe3cf57c8"
      }
     },
     "fed90139f50b4957a3ebff6fafed7f0a": {
      "model_module": "@jupyter-widgets/base",
      "model_module_version": "1.2.0",
      "model_name": "LayoutModel",
      "state": {}
     },
     "ff0867527e104c5085557dbfd435e8f8": {
      "model_module": "@jupyter-widgets/base",
      "model_module_version": "1.2.0",
      "model_name": "LayoutModel",
      "state": {}
     },
     "ff5080ff1237458696df0ee97947ac64": {
      "model_module": "@jupyter-widgets/base",
      "model_module_version": "1.2.0",
      "model_name": "LayoutModel",
      "state": {}
     },
     "ff7b9a1768bd488581dbed13b90ae223": {
      "model_module": "@jupyter-widgets/controls",
      "model_module_version": "1.5.0",
      "model_name": "DropdownModel",
      "state": {
       "_options_labels": [
        "denies",
        "endorses"
       ],
       "description": "abuse",
       "index": 0,
       "layout": "IPY_MODEL_fa9ec4f225bc40b29e03b63fcbcbd3db",
       "style": "IPY_MODEL_2fd71364857c4530a3d39802cced6ead"
      }
     },
     "ff7fc74bc78b42f6ad3d3c82d7bb667c": {
      "model_module": "@jupyter-widgets/controls",
      "model_module_version": "1.5.0",
      "model_name": "TextareaModel",
      "state": {
       "description": "pcp plan:",
       "layout": "IPY_MODEL_d44826826f7a48f198df7d0f59820fa5",
       "placeholder": "Type something",
       "style": "IPY_MODEL_2122d8c6ed3a4d598485f65d4d7ee08c",
       "value": "3. Medical and Lab: Per PCP. Patient encouraged to establish care with local PCP for routine physical and baseline labs."
      }
     },
     "ff94413c04d84134b032647364b736bb": {
      "model_module": "@jupyter-widgets/controls",
      "model_module_version": "1.5.0",
      "model_name": "DropdownModel",
      "state": {
       "_options_labels": [
        "denies",
        "endorses"
       ],
       "description": "self_injury",
       "index": 0,
       "layout": "IPY_MODEL_57dff8c6f77e4aad88e092f42ad13209",
       "style": "IPY_MODEL_96f74bc7fc1a4ca6ae20f8cf9b2b1513"
      }
     }
    },
    "version_major": 2,
    "version_minor": 0
   }
  }
 },
 "nbformat": 4,
 "nbformat_minor": 4
}
