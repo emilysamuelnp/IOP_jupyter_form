{
 "cells": [
  {
   "cell_type": "markdown",
   "metadata": {
    "id": "Vyt4TxEvFDbo"
   },
   "source": [
    "# Important! Before first use\n",
    "In Top Navigation Bar, Click Runtime > Run all  ✅"
   ]
  },
  {
   "cell_type": "code",
   "execution_count": 1,
   "metadata": {
    "cellView": "form",
    "id": "KbJSQCFeb-Ib",
    "jupyter": {
     "source_hidden": true
    }
   },
   "outputs": [],
   "source": [
    "#@title imports\n",
    "from ipywidgets import interact, interactive, fixed, interact_manual\n",
    "import ipywidgets as widgets\n",
    "from ipywidgets import Button, Layout\n",
    "import sys"
   ]
  },
  {
   "cell_type": "markdown",
   "metadata": {
    "id": "rI7M-D7GO-70"
   },
   "source": [
    "\n",
    "\n",
    "<a href=\"https://docs.google.com/document/create\"><img src=\"https://drive.google.com/uc?export=download&id=1xOW1DGMOOo69DMDbIke0cmILnegvy8o9\" alt=\"open google doc\" style=\"width:42px;height:42px;\">Create Doc and name it</a>"
   ]
  },
  {
   "cell_type": "markdown",
   "metadata": {},
   "source": [
    "# patient ID 👤"
   ]
  },
  {
   "cell_type": "code",
   "execution_count": 2,
   "metadata": {
    "cellView": "form",
    "colab": {
     "base_uri": "https://localhost:8080/",
     "height": 465,
     "referenced_widgets": [
      "4ae4b79cd80942b085d5e7ed4831bbea"
     ]
    },
    "id": "5Hhi0vHuaWsX",
    "jupyter": {
     "source_hidden": true
    },
    "outputId": "046b3969-ba02-4999-ddd5-ccc4c5a66244",
    "tags": []
   },
   "outputs": [
    {
     "data": {
      "application/vnd.jupyter.widget-view+json": {
       "model_id": "b630fe970e9247788c657c9f9b9636bf",
       "version_major": 2,
       "version_minor": 0
      },
      "text/plain": [
       "HBox(children=(VBox(children=(VBox(children=(BoundedIntText(value=33, description='Age:', max=200), Text(value…"
      ]
     },
     "metadata": {},
     "output_type": "display_data"
    }
   ],
   "source": [
    "# @title Patient id form\n",
    "\n",
    "style = {'description_width': '150px'}\n",
    "layout_text_area = Layout(width='50%')\n",
    "layout_dropdown = Layout(width='25%')\n",
    "\n",
    "treatment_centers = [\"Silicon Beach\", \"Momentum\", \"Create Recovery Center\", \"Casablanca\"]\n",
    "\n",
    "substance_options=[\"polysubstance\", \"alcohol\", \"heroin\", \n",
    "             \"methamphetamine\", \"cannabis\", 'opioid',\n",
    "             'sedative, hypnotic, or anxiolytic', 'cocaine', 'fentanyl',\n",
    "             'ecstasy/MDMA', 'ketamine', 'mushrooms', 'LSD', 'no drug']\n",
    "\n",
    "mental_options=[\"anxiety\", 'depression', 'ptsd', 'adhd', \n",
    "             'bipolar I disorder', 'bipolar II disorder', 'schizophrenia',\n",
    "             'psychosis', 'insomnia', 'no mental illness']\n",
    "\n",
    "id_choices = widgets.HBox([widgets.VBox([widgets.VBox([\n",
    "                  widgets.BoundedIntText(\n",
    "                    value=33,\n",
    "                    min=0,\n",
    "                    max=200,\n",
    "                    step=1,\n",
    "                    description='Age:',\n",
    "                    disabled=False\n",
    "                ), widgets.Text(description='Pronoun:', value='they'),\n",
    "                widgets.Dropdown(description='gender:',\n",
    "                                 options=['male', 'female', 'nb']),\n",
    "            widgets.Dropdown(description='treatment_center:', \n",
    "                             value=\"Create Recovery Center\",\n",
    "                                 options=treatment_centers)]),\n",
    "    widgets.HBox([widgets.Textarea(description='Notes:', layout=Layout(height=\"200px\"))])]), \n",
    "    widgets.HBox([widgets.VBox(\n",
    "        [widgets.Checkbox(description=x) for x in substance_options])]),\n",
    "        widgets.VBox([widgets.Checkbox(description=x) for x in mental_options])])\n",
    "\n",
    "display(id_choices)\n",
    "\n"
   ]
  },
  {
   "cell_type": "markdown",
   "metadata": {},
   "source": [
    "# HPI 🤒"
   ]
  },
  {
   "cell_type": "code",
   "execution_count": 3,
   "metadata": {
    "cellView": "form",
    "colab": {
     "base_uri": "https://localhost:8080/",
     "height": 455,
     "referenced_widgets": [
      "59666ff510b04b25889e8a2990eef55e",
      "4b21d0788fda4af3b7e9aa8c107ecd33"
     ]
    },
    "id": "V0ESz3JbFjQt",
    "jupyter": {
     "source_hidden": true
    },
    "outputId": "e1cedb13-e500-4b15-8af7-5d826c497842",
    "tags": []
   },
   "outputs": [
    {
     "data": {
      "application/vnd.jupyter.widget-view+json": {
       "model_id": "75dbab08417248d49a33e208315f731a",
       "version_major": 2,
       "version_minor": 0
      },
      "text/plain": [
       "interactive(children=(Textarea(value='', description='treatment_reason', layout=Layout(width='50%'), placehold…"
      ]
     },
     "metadata": {},
     "output_type": "display_data"
    }
   ],
   "source": [
    "#@title HPI form\n",
    "\n",
    "treatment_reason_text = widgets.Textarea(layout=layout_text_area,\n",
    "                             placeholder='Type Something', style=style)\n",
    "\n",
    "time_box = widgets.BoundedIntText(layout=layout_text_area, value=4,min=0,max=200,\n",
    "                    description='Sober Time:',\n",
    "                    disabled=False,\n",
    "                    style=style)\n",
    "\n",
    "period_dropdown = widgets.Dropdown(layout=layout_text_area, value='days', options=['days', 'months', 'years'], \n",
    "                                 style=style, ensure_option=False)\n",
    "\n",
    "w_choice = widgets.Dropdown(layout=layout_text_area, \n",
    "            options=['denies', 'endorses'], value='denies',\n",
    "            style=style, ensure_option=False)\n",
    "\n",
    "c_choice = widgets.Dropdown(layout=layout_text_area, \n",
    "                            options=['denies', 'endorses'], value='denies', \n",
    "                            style=style, ensure_option=False)\n",
    " \n",
    "anti_cravings_dropdown = widgets.Dropdown(layout=layout_text_area, \n",
    "                        options=['declines', 'elects to start', \n",
    "                        'would like to continue with'], value='declines', \n",
    "                        style=style, ensure_option=False) \n",
    "\n",
    "negative_impact_text = widgets.Textarea(layout=layout_text_area,\n",
    "                             style=style, placeholder='Type Something')\n",
    "\n",
    "history_notes_text = widgets.Text(layout=layout_text_area, style=style)                        \n",
    "\n",
    "hpi_template = \"\"\"\n",
    "History of Present Illness:\n",
    "The patient states that they decided to come to treatment because {}. \n",
    "Patient reports they have been sober for {} {}.\n",
    "The patient {} withdrawals. The patient {} cravings.\n",
    "The patient {} anti-craving medication.\n",
    "The patient reports their substance use impacted their life negatively {} \\n {}\n",
    "    \"\"\"\n",
    "def print_history(treatment_reason, withdrawals_choice, cravings_choice,\n",
    "                  anti_cravings_choice,\n",
    "                  sober_time, sober_period, negative_impact, notes):\n",
    "    print(hpi_template.format(treatment_reason,\n",
    "                                sober_time,\n",
    "                                sober_period,\n",
    "                                withdrawals_choice,\n",
    "                                cravings_choice,\n",
    "                                anti_cravings_choice,\n",
    "                                negative_impact,\n",
    "                              notes))\n",
    "hpi = interactive(print_history, \n",
    "                               treatment_reason=treatment_reason_text,\n",
    "                               withdrawals_choice=w_choice,\n",
    "                               cravings_choice=c_choice,\n",
    "                               sober_time=time_box,\n",
    "                               sober_period=period_dropdown,\n",
    "                               negative_impact=negative_impact_text,\n",
    "                               anti_cravings_choice=anti_cravings_dropdown,\n",
    "                               notes=history_notes_text\n",
    "                               )\n",
    "display(hpi)\n",
    "\n",
    "hpi_string = hpi.children[-1]"
   ]
  },
  {
   "cell_type": "markdown",
   "metadata": {},
   "source": [
    "# Current Medication 💊"
   ]
  },
  {
   "cell_type": "code",
   "execution_count": 4,
   "metadata": {
    "cellView": "form",
    "colab": {
     "base_uri": "https://localhost:8080/",
     "height": 342,
     "referenced_widgets": [
      "266453f7e4a345059293e93c361df9ec",
      "107d510a35654aebaf47a525fae555ae",
      "9e1bc5c49b5b4fa5991ae6440cabfee0",
      "9c0e35714e594f44b29950b7662ff890",
      "f79b492415394ad9a5e5ff5f3e964065",
      "4b07f5774bc74049b5bcf820e85656e4",
      "50658378aeba4bbdb74edd85d5384f78",
      "61f9c2a3dde34c6eaaaf9a515c3d828f",
      "3aa4bb5fc16d43acb2630d24824ccae3",
      "59666ff510b04b25889e8a2990eef55e",
      "01d43bf6863b47c5af668c0caf9e14bb",
      "ca01587fc223485084ce30cd9aa18bd2",
      "767d1451a19e4848938d95968103a071",
      "c876fc1d909f454d992e14cd1b28caa1",
      "3a7aabafd8b14294a6068ead1cca5536"
     ]
    },
    "id": "Z1JUT07bujNV",
    "jupyter": {
     "source_hidden": true
    },
    "outputId": "e0443dcd-dcc2-49a0-ab36-73de21ec4710",
    "tags": []
   },
   "outputs": [
    {
     "data": {
      "application/vnd.jupyter.widget-view+json": {
       "model_id": "e1cda3d1e4ae44d2b281ac458b41ac83",
       "version_major": 2,
       "version_minor": 0
      },
      "text/plain": [
       "interactive(children=(Textarea(value='', description='current_medication', layout=Layout(width='50%'), placeho…"
      ]
     },
     "metadata": {},
     "output_type": "display_data"
    }
   ],
   "source": [
    "#@title Current Medication form\n",
    "med_statement_choice = \"Patient declines psychotropic medication and elects for more conservative approaches to psychiatric symptom management at this time.\"\n",
    "med_compliant_dropdown = widgets.Combobox(layout=layout_text_area, options=[\"Patient reports that they have been compliant with their psychotropic medication regimen and denies adverse effects\", \n",
    "                                                                            \"Patient reports that they have been non-compliant with their psychotropic medication regimen and denies adverse effects\"], \n",
    "                                          style=style, ensure_option=False)\n",
    "med_adjust_dropdown = widgets.Dropdown(layout=layout_text_area, options=[\"declines\", \"is amenable with\"], \n",
    "                                 style=style)\n",
    "med_statement_dropdown =widgets.Combobox(layout=layout_text_area, options=[med_statement_choice], \n",
    "                                 style=style)\n",
    "current_medication_text = widgets.Textarea(style=style, \n",
    "                                           layout=layout_text_area, \n",
    "                                           placeholder=\"Type something\")\n",
    "med_notes = widgets.Textarea(layout=layout_text_area)\n",
    "\n",
    "current_medication_template = \"\"\"\n",
    "Current Medication:\n",
    "{}\n",
    "{} \n",
    "Patient {} adjustments to their medication regimen.\n",
    "{}\n",
    "{}\n",
    "\"\"\"\n",
    "def print_medication(current_medication, med_compliant, med_adjust, \n",
    "                     med_statement, notes):\n",
    "    print(current_medication_template.format(current_medication,\n",
    "                                             med_compliant,\n",
    "                                             med_adjust,\n",
    "                                             med_statement,\n",
    "                                             notes))\n",
    "current_medication = interactive(print_medication,\n",
    "                               current_medication=current_medication_text, \n",
    "                               med_compliant=med_compliant_dropdown, \n",
    "                               med_adjust=med_adjust_dropdown,\n",
    "                               med_statement=med_statement_dropdown, \n",
    "                               notes=med_notes\n",
    "                               )\n",
    "display(current_medication)\n",
    "\n",
    "current_medication_string = current_medication.children[-1]"
   ]
  },
  {
   "cell_type": "markdown",
   "metadata": {},
   "source": [
    "# Mood 🔮"
   ]
  },
  {
   "cell_type": "code",
   "execution_count": 5,
   "metadata": {
    "cellView": "form",
    "colab": {
     "base_uri": "https://localhost:8080/",
     "height": 657,
     "referenced_widgets": [
      "59666ff510b04b25889e8a2990eef55e",
      "39127d40610b49569c6e33ec15d593b0"
     ]
    },
    "id": "WAMJobeOgb64",
    "jupyter": {
     "source_hidden": true
    },
    "outputId": "8a715af0-e6b4-4c05-885b-da73654c144e",
    "tags": []
   },
   "outputs": [
    {
     "data": {
      "application/vnd.jupyter.widget-view+json": {
       "model_id": "66a430e7b20942e59301983c5acf6ffa",
       "version_major": 2,
       "version_minor": 0
      },
      "text/plain": [
       "interactive(children=(Dropdown(description='depressed', layout=Layout(width='50%'), options=('denies', 'endors…"
      ]
     },
     "metadata": {},
     "output_type": "display_data"
    }
   ],
   "source": [
    "# @title Mood form\n",
    "\n",
    "depressed_choice_dropdown = widgets.Dropdown(layout=layout_text_area, options=['denies', 'endorses'], \n",
    "                                 value='denies', style=style, ensure_option=False)\n",
    "sustained_sadness_choice_dropdown = widgets.Dropdown(layout=layout_text_area, options=['denies', 'endorses'], \n",
    "                                 value='denies', style=style, ensure_option=False)\n",
    "guilt_choice_dropdown = widgets.Dropdown(layout=layout_text_area, options=['denies', 'endorses'], \n",
    "                                 value='denies', style=style, ensure_option=False)\n",
    "anhedonia_choice_dropdown = widgets.Dropdown(layout=layout_text_area, options=['denies', 'endorses'], \n",
    "                                 value='denies', style=style, ensure_option=False)\n",
    "sleep_choice_dropdown = widgets.Dropdown(layout=layout_text_area, options=['denies', 'endorses'], \n",
    "                                 value='denies', style=style, ensure_option=False)\n",
    "appetite_choice_dropdown = widgets.Dropdown(layout=layout_text_area, options=['good', 'fair', 'poor'], \n",
    "                                 value='fair', style=style, ensure_option=False)\n",
    "energy_choice_dropdown = widgets.Dropdown(layout=layout_text_area, options=['good', 'fair', 'poor'], \n",
    "                                 value='fair', style=style, ensure_option=False)\n",
    "concentration_choice_dropdown = widgets.Dropdown(layout=layout_text_area, options=['good', 'fair', 'poor'], \n",
    "                                 value='fair', style=style, ensure_option=False)\n",
    "hopelessness_choice_dropdown = widgets.Dropdown(layout=layout_text_area, options=['denies', 'endorses'], \n",
    "                                 value='denies', style=style, ensure_option=False)\n",
    "past_depression_dropdown = widgets.Dropdown(layout=layout_text_area, options=['deny', 'indicate'], \n",
    "                                 value='indicate', style=style, ensure_option=False)\n",
    "mania_choice_dropdown = widgets.Dropdown(layout=layout_text_area, options=['denies', 'endorses'], \n",
    "                                 value='denies', style=style, ensure_option=False)\n",
    "\n",
    "mood_notes_text = widgets.Textarea(layout=layout_text_area, style=style)                        \n",
    "\n",
    "mood_template =\"\"\"\n",
    "This patient {} current depressed mood. \n",
    "Over the past several weeks, the patient {} sustained sadness, {} excessive guilt. \n",
    "The patient {} anhedonia.\n",
    "The patient reports {} ability to concentrate. \n",
    "The patient {} issues with sleep. \n",
    "The patient reports {} appetite.\n",
    "Reports {} energy level. \n",
    "The patient {} hopelessness, worthlessness, SI/HI/AH/VH/delusions.\n",
    "They {} they have experienced depressive episodes lasting longer than two weeks in the absence of substance use.\n",
    "The patient {} current decreased need for sleep, euphoria \n",
    "or grandiosity or irritability, flights of idea, impulsivity, uncharacteristic talkativeness or rapid speech.\n",
    "{}\n",
    "\"\"\"\n",
    "def print_mood(depressed, sustained_sadness, guilt,\n",
    "                anhedonia, sleep, appetite, energy, concentration,\n",
    "               hopelessness, past_depression,\n",
    "               mania, notes):\n",
    "    print(mood_template.format(depressed, sustained_sadness, guilt,\n",
    "                anhedonia, concentration, sleep, appetite, energy,\n",
    "               hopelessness, past_depression,\n",
    "               mania,notes))\n",
    "mood = interactive(print_mood, \n",
    "                               depressed=depressed_choice_dropdown,\n",
    "                               sustained_sadness=sustained_sadness_choice_dropdown,\n",
    "                               guilt=guilt_choice_dropdown,\n",
    "                               anhedonia=anhedonia_choice_dropdown,\n",
    "                               sleep=sleep_choice_dropdown,\n",
    "                               appetite=appetite_choice_dropdown,\n",
    "                               energy=energy_choice_dropdown,\n",
    "                               concentration=concentration_choice_dropdown,\n",
    "                               hopelessness=hopelessness_choice_dropdown,\n",
    "                               past_depression=past_depression_dropdown,\n",
    "                               mania=mania_choice_dropdown,\n",
    "                               notes=mood_notes_text\n",
    "                               )\n",
    "display(mood)\n",
    "\n",
    "mood_string = mood.children[-1]"
   ]
  },
  {
   "cell_type": "markdown",
   "metadata": {},
   "source": [
    "# Anxiety 😱"
   ]
  },
  {
   "cell_type": "code",
   "execution_count": 6,
   "metadata": {
    "cellView": "form",
    "colab": {
     "base_uri": "https://localhost:8080/",
     "height": 230,
     "referenced_widgets": [
      "92bf0729d3cd435ca797c533932e9c65",
      "14265da382da4c4c858c896f156cf7d6",
      "4155093955bd4a4b91ce9b17886f49fe",
      "4c1492f7654849f2b757037252967517",
      "d2f4890161fb4d449c11fe967c20dcb2",
      "a709df12b84744d2be776a6c253a9a25",
      "bb5bdb5f9f074b948a0481a2ba1cd54a",
      "59666ff510b04b25889e8a2990eef55e",
      "e434d1d57ac0443f9b6e487934524e80",
      "df6fd77f7a0243ca9ed2178911ebba24",
      "7850dfad0d6246b1ab4c6402beb491a7"
     ]
    },
    "id": "RB27TULNs0SC",
    "jupyter": {
     "source_hidden": true
    },
    "outputId": "ea683b44-6e0d-4737-fc56-8b50d413f634"
   },
   "outputs": [
    {
     "data": {
      "application/vnd.jupyter.widget-view+json": {
       "model_id": "b521cecc929b43a49aedd942c8a3f2f6",
       "version_major": 2,
       "version_minor": 0
      },
      "text/plain": [
       "interactive(children=(Dropdown(description='physical_anxiety', layout=Layout(width='50%'), options=('denies', …"
      ]
     },
     "metadata": {},
     "output_type": "display_data"
    }
   ],
   "source": [
    "# @title Anxiety form\n",
    "\n",
    "physical_anxiety_dropdown = widgets.Dropdown(layout=layout_text_area, options=['denies', 'endorses'], \n",
    "                                 value='denies', style=style, ensure_option=False)\n",
    "anxiety_dropdown = widgets.Dropdown(layout=layout_text_area, options=['denies', 'endorses'], \n",
    "                                 value='denies', style=style, ensure_option=False)\n",
    "anxiety_notes = widgets.Textarea(layout=layout_text_area, style=style)\n",
    "\n",
    "anxiety_template = \"\"\"\n",
    "The patient {} that they worry regularly about multiple aspects of their life with accompanying physical symptoms.\n",
    "Over the past several weeks, the patient {} any excessive worrying,  \n",
    "feeling keyed up and on edge, irritability, or panic attacks. \n",
    "{}\n",
    "\"\"\"\n",
    "\n",
    "def print_anxiety(physical_anxiety, anxiety, notes):\n",
    "    print(anxiety_template.format(physical_anxiety, anxiety, notes))\n",
    "anxiety = interactive(print_anxiety, \n",
    "                               physical_anxiety=physical_anxiety_dropdown, \n",
    "                               anxiety=anxiety_dropdown, \n",
    "                               notes=anxiety_notes\n",
    "                               )\n",
    "display(anxiety)\n",
    "\n",
    "anxiety_string = anxiety.children[-1]"
   ]
  },
  {
   "cell_type": "markdown",
   "metadata": {},
   "source": [
    "# Trauma ⚔️"
   ]
  },
  {
   "cell_type": "code",
   "execution_count": 7,
   "metadata": {
    "cellView": "form",
    "colab": {
     "base_uri": "https://localhost:8080/",
     "height": 230,
     "referenced_widgets": [
      "63f856ec725844fa8a49cf0160bd0b53",
      "15dae970d05b4885ae1d5687e5819501",
      "09f43c29ba9448339923d10e59d6aabf",
      "974d65af5fb1468d81c672be6984bab0",
      "f6b88f70e03b496c92ee02f2c77e50f9",
      "02429984defd4e7293f509762ff20341",
      "1c2bafbd5f324a159ca854d40ca27499",
      "59666ff510b04b25889e8a2990eef55e",
      "1d5cfd786dc44775a417d20333008539",
      "1fa8511e2a604f7eb856f20b984b6b56",
      "7c0667356b6a4f87827aba5fb2cdb2da"
     ]
    },
    "id": "tKizbx2GtpTt",
    "jupyter": {
     "source_hidden": true
    },
    "outputId": "211fc2af-54c4-4767-91f3-62752232c9ec"
   },
   "outputs": [
    {
     "data": {
      "application/vnd.jupyter.widget-view+json": {
       "model_id": "bae121d9317e4d25be0d27d2bd9d1555",
       "version_major": 2,
       "version_minor": 0
      },
      "text/plain": [
       "interactive(children=(Dropdown(description='past_trauma', layout=Layout(width='50%'), options=('denies', 'endo…"
      ]
     },
     "metadata": {},
     "output_type": "display_data"
    }
   ],
   "source": [
    "#@title Trauma form\n",
    "\n",
    "past_trauma_dropdown = widgets.Dropdown(layout=layout_text_area, options=['denies', 'endorses'], \n",
    "                                 style=style)\n",
    "current_trauma_dropdown = widgets.Dropdown(layout=layout_text_area, options=['denies', 'endorses'], \n",
    "                                 style=style)\n",
    "trauma_notes = widgets.Textarea(layout=layout_text_area, style=style)\n",
    "\n",
    "trauma_template = \"\"\"\n",
    "The patient {} that they have sustained significant trauma, \n",
    "{} current symptoms of PTSD including flashbacks, nightmares, hypervigilance, triggers, \n",
    "and avoidance of triggers.\n",
    "{}\n",
    "\"\"\"\n",
    "def print_trauma(past_trauma, current_trauma, notes):\n",
    "    print(trauma_template.format(past_trauma, current_trauma, notes))\n",
    "\n",
    "trauma = interactive(print_trauma, \n",
    "                               past_trauma=past_trauma_dropdown, \n",
    "                               current_trauma=current_trauma_dropdown, \n",
    "                               notes=trauma_notes\n",
    "                               )\n",
    "display(trauma)\n",
    "\n",
    "trauma_string = trauma.children[-1]"
   ]
  },
  {
   "cell_type": "markdown",
   "metadata": {},
   "source": [
    "# Psych disorders 🧠"
   ]
  },
  {
   "cell_type": "code",
   "execution_count": 8,
   "metadata": {
    "cellView": "form",
    "colab": {
     "base_uri": "https://localhost:8080/",
     "height": 329,
     "referenced_widgets": [
      "f82b13e519cb4b65bb422b27eab34367",
      "545e6516bf47437b9e96a9b62d6a0d76",
      "f2e6a2f848e94b70b79e73e8f3c1a1e2",
      "75a19959f81e4c9688a006afc3ec8564",
      "7507f5886add40908e58300464f1bbf6",
      "28c3381997e94e8e8d8673bc195fa029",
      "23b99c10d042495c9e2fe2a51e8f868b",
      "cb5d1472d29748b0a2596e63db8b4090",
      "cb456f7758614513be2e0ab05ef08d87",
      "59666ff510b04b25889e8a2990eef55e",
      "1f4c4282d8b84e3ea7e47355b81b4544",
      "5b0796cde97641aea0530dfbeeb0ebed",
      "c2a2534a90094dddb8938f79369d1f69",
      "c563ab77ce534395805631510394afb4",
      "35a9385c05284603902b4fd5d50e7923"
     ]
    },
    "id": "zVQPZcEpKBXm",
    "jupyter": {
     "source_hidden": true
    },
    "outputId": "dad08a42-b824-4b51-9d52-59747acaa6d7"
   },
   "outputs": [
    {
     "data": {
      "application/vnd.jupyter.widget-view+json": {
       "model_id": "f25f18ccb26548f69d7325f662a070f7",
       "version_major": 2,
       "version_minor": 0
      },
      "text/plain": [
       "interactive(children=(Dropdown(description='mania', index=1, layout=Layout(width='50%'), options=('a history',…"
      ]
     },
     "metadata": {},
     "output_type": "display_data"
    }
   ],
   "source": [
    "#@title Psych disorders\n",
    "\n",
    "mania_dropdown = widgets.Dropdown(layout=layout_text_area, options=['a history', 'no history'], \n",
    "                                 value='no history', style=style)\n",
    "psychosis_dropdown = widgets.Dropdown(layout=layout_text_area, options=['a history', 'no history'], \n",
    "                                 value='no history', style=style)\n",
    "learning_disabilties_dropdown = widgets.Dropdown(layout=layout_text_area, options=['a history', 'no history'], \n",
    "                                 value='no history', style=style)\n",
    "eating_disorder_dropdown = widgets.Dropdown(layout=layout_text_area, options=['a history', 'no history'], \n",
    "                                 value='no history', style=style)\n",
    "\n",
    "psych_disorder_notes = widgets.Textarea(layout=layout_text_area, style=style)\n",
    "\n",
    "psych_disorder_template = \"\"\"\n",
    "The patient reported {} of mania.\n",
    "The patient reported {} of psychosis. \n",
    "The patient reported {} of  learning disabilities, OCD or tics. \n",
    "The patient reported {} of an eating disorder. \n",
    "The patient reported no history of compulsive gambling, problematic internet/video game use, compulsive shopping, or sexual addiction. \n",
    "{}\n",
    "\"\"\"\n",
    "def print_psych_disorders(mania, psychosis, learning_disabilties, \n",
    "                          eating_disorder, notes):\n",
    "    print(psych_disorder_template.format(mania, psychosis, learning_disabilties, \n",
    "                          eating_disorder, notes))\n",
    "psych_disorder = interactive(print_psych_disorders, \n",
    "                               mania=mania_dropdown,\n",
    "                     psychosis=psychosis_dropdown,\n",
    "                     learning_disabilties=learning_disabilties_dropdown,\n",
    "                     eating_disorder=eating_disorder_dropdown,\n",
    "                     notes=psych_disorder_notes\n",
    "                               )\n",
    "display(psych_disorder)\n",
    "\n",
    "psych_disorder_string = psych_disorder.children[-1]"
   ]
  },
  {
   "cell_type": "markdown",
   "metadata": {},
   "source": [
    "## Psych History 📼"
   ]
  },
  {
   "cell_type": "code",
   "execution_count": 9,
   "metadata": {
    "cellView": "form",
    "colab": {
     "base_uri": "https://localhost:8080/",
     "height": 391,
     "referenced_widgets": [
      "59666ff510b04b25889e8a2990eef55e",
      "e3a3f1a664db42eda1d75b3f686049b8"
     ]
    },
    "id": "VRxkYonO49sH",
    "jupyter": {
     "source_hidden": true
    },
    "outputId": "8398b6bf-2db2-41ea-ec08-23214ec2472c"
   },
   "outputs": [
    {
     "data": {
      "application/vnd.jupyter.widget-view+json": {
       "model_id": "00b3b90b4a2549c98b777b9095db4c24",
       "version_major": 2,
       "version_minor": 0
      },
      "text/plain": [
       "interactive(children=(Dropdown(description='hospitalization', layout=Layout(width='50%'), options=('denies', '…"
      ]
     },
     "metadata": {},
     "output_type": "display_data"
    }
   ],
   "source": [
    "#@title Psych History form\n",
    "\n",
    "hospitalization_dropdown = widgets.Dropdown(\n",
    "    layout=layout_text_area, options=['denies', 'endorses'], \n",
    "    style=style)\n",
    "suicide_dropdown = widgets.Dropdown(\n",
    "    layout=layout_text_area, options=['denies', 'endorses'], \n",
    "    style=style)\n",
    "self_injury_dropdown = widgets.Dropdown(\n",
    "    layout=layout_text_area, options=['denies', 'endorses'], \n",
    "    style=style)\n",
    "\n",
    "previous_meds_text = widgets.Textarea(layout=layout_text_area, style=style, value='None') \n",
    "outpatient_psychiatrist_text = widgets.Text(layout=layout_text_area, style=style, value='None')\n",
    "psych_notes = widgets.Textarea(layout=layout_text_area, style=style) \n",
    "\n",
    "psych_history_template = \"\"\"\n",
    "Psychiatric History: \n",
    "Patient {} any history of psychiatric hospitalizations. \n",
    "Patient {} suicide attempts, \n",
    "Patient {} self-injurious behavior. \n",
    "Previous meds: {} \n",
    "Current outpatient psychiatrist: {}\n",
    "{}\n",
    "\"\"\"\n",
    "def print_psych_history(hospitalization, suicide,\n",
    "                        self_injury, previous_meds, \n",
    "                        outpatient_psychiatrist, notes):\n",
    "    print(psych_history_template.format(hospitalization, suicide,\n",
    "                        self_injury, previous_meds, \n",
    "                        outpatient_psychiatrist, notes))\n",
    "psych_history = interactive(print_psych_history,\n",
    "                            hospitalization=hospitalization_dropdown,\n",
    "                               suicide=suicide_dropdown,\n",
    "                               self_injury=self_injury_dropdown,\n",
    "                               previous_meds=previous_meds_text,\n",
    "                               outpatient_psychiatrist=outpatient_psychiatrist_text,\n",
    "                               notes=psych_notes\n",
    "                               )\n",
    "display(psych_history)\n",
    "\n",
    "psych_history_string = psych_history.children[-1]"
   ]
  },
  {
   "cell_type": "markdown",
   "metadata": {},
   "source": [
    "# Substance Use History 🚬"
   ]
  },
  {
   "cell_type": "code",
   "execution_count": 10,
   "metadata": {
    "cellView": "form",
    "colab": {
     "base_uri": "https://localhost:8080/",
     "height": 458,
     "referenced_widgets": [
      "59666ff510b04b25889e8a2990eef55e",
      "acf0e89d28864d089da2f1f8b033c811"
     ]
    },
    "id": "w9cvVsx3U6k8",
    "jupyter": {
     "source_hidden": true
    },
    "outputId": "da69c16d-a2a7-43b5-ad62-2dc99e67e5e1"
   },
   "outputs": [
    {
     "data": {
      "application/vnd.jupyter.widget-view+json": {
       "model_id": "d98055d267cb4614bf81cd4d9405408d",
       "version_major": 2,
       "version_minor": 0
      },
      "text/plain": [
       "interactive(children=(Textarea(value='nothing', description='primary_substances', layout=Layout(width='50%'), …"
      ]
     },
     "metadata": {},
     "output_type": "display_data"
    }
   ],
   "source": [
    "#@title Substance Use History form\n",
    "primary_substances_text = widgets.Textarea(layout=layout_text_area, style=style,\n",
    "                                           value='nothing')\n",
    "num_times_in_treatment_int = widgets.BoundedIntText(value=0, style=style, layout=layout_text_area,min=0)\n",
    "longest_sober_time_int = widgets.BoundedIntText(style=style, layout=layout_text_area,min=0)\n",
    "longest_sober_period_dropdown = widgets.Dropdown(\n",
    "    layout=layout_text_area, options=['days', 'weeks', 'months', 'years'], \n",
    "    style=style)\n",
    "ivdu_dropdown = widgets.Dropdown(\n",
    "    layout=layout_text_area, options=['denies', 'endorses'], \n",
    "    style=style)\n",
    "seizures_dropdown = widgets.Dropdown(\n",
    "    layout=layout_text_area, options=['denies', 'endorses'], \n",
    "    style=style)\n",
    "substance_notes = widgets.Textarea(layout=layout_text_area, style=style) \n",
    "\n",
    "substance_history_template = \"\"\"\n",
    "Substance Use History:\n",
    "The patient states that their primary substances of abuse include\n",
    "{} with daily use for periods greater than \n",
    "6 months with resulting impairment in functioning. \n",
    "They state that they have been in residential treatment {} times, \n",
    "with their longest period of sobriety lasting {} {}. \n",
    "The patient {} history of IVDU. \n",
    "Patient {} seizures, complicated withdrawal, and DTs.\\n{}\n",
    "    \"\"\"\n",
    "def print_substance_history(primary_substances,\n",
    "                        num_times_in_treatment, longest_sober_time,\n",
    "                        longest_sober_period,\n",
    "                        ivdu, seizures, notes):\n",
    "    print(substance_history_template.format(primary_substances,\n",
    "                                                num_times_in_treatment,\n",
    "                                                longest_sober_time,\n",
    "                                                longest_sober_period,\n",
    "                                                ivdu,seizures,notes\n",
    "                                                ))\n",
    "substance_history = interactive(print_substance_history,\n",
    "    primary_substances=primary_substances_text,\n",
    "    num_times_in_treatment=num_times_in_treatment_int, \n",
    "    longest_sober_time=longest_sober_time_int,\n",
    "    longest_sober_period=longest_sober_period_dropdown, \n",
    "    ivdu=ivdu_dropdown, seizures=seizures_dropdown, \n",
    "    notes=substance_notes,\n",
    "    )\n",
    "display(substance_history)\n",
    "\n",
    "substance_history_string = substance_history.children[-1]"
   ]
  },
  {
   "cell_type": "markdown",
   "metadata": {},
   "source": [
    "# Medical History 🏥"
   ]
  },
  {
   "cell_type": "code",
   "execution_count": 11,
   "metadata": {
    "cellView": "form",
    "colab": {
     "base_uri": "https://localhost:8080/",
     "height": 329,
     "referenced_widgets": [
      "59666ff510b04b25889e8a2990eef55e",
      "c77757c304c14b50946f93c851fc1f55"
     ]
    },
    "id": "3mbO7y-0e7WV",
    "jupyter": {
     "source_hidden": true
    },
    "outputId": "3910b975-e653-4c16-8383-54b52e322a04"
   },
   "outputs": [
    {
     "data": {
      "application/vnd.jupyter.widget-view+json": {
       "model_id": "1ab53f6ab1dd4f5abc9ea38c5ec96753",
       "version_major": 2,
       "version_minor": 0
      },
      "text/plain": [
       "interactive(children=(Dropdown(description='acute_medical', layout=Layout(width='50%'), options=('denies', 'en…"
      ]
     },
     "metadata": {},
     "output_type": "display_data"
    }
   ],
   "source": [
    "#@title Medical History form\n",
    "\n",
    "acute_medical_dropdown = widgets.Dropdown(\n",
    "    layout=layout_text_area, options=['denies', 'endorses'], \n",
    "    style=style)\n",
    "hiv_medical_dropdown = widgets.Dropdown(\n",
    "    layout=layout_text_area, options=['denies', 'endorses'], \n",
    "    style=style)\n",
    "hep_medical_dropdown = widgets.Dropdown(\n",
    "    layout=layout_text_area, options=['denies', 'endorses'], \n",
    "    style=style)\n",
    "tbi_medical_dropdown = widgets.Dropdown(\n",
    "    layout=layout_text_area, options=['denies', 'endorses'], \n",
    "    style=style)\n",
    "acute_medical_notes = widgets.Textarea(layout=layout_text_area, style=style)\n",
    "\n",
    "medical_history_template = \"\"\"\n",
    "Medical History:\n",
    "The patient {} any acute medical conditions. \n",
    "The patient {} any history of HIV. \n",
    "The patient {} any history of hepatitis.\n",
    "The patient {} any history of TBI.\n",
    "{}\n",
    "\"\"\"\n",
    "def print_medical_history(acute_medical, hiv_medical, \n",
    "                          hep_medical, tbi_medical, notes):\n",
    "    print(medical_history_template.format(acute_medical, hiv_medical, \n",
    "                          hep_medical, tbi_medical, notes))\n",
    "medical_history = interactive(print_medical_history,\n",
    "                               acute_medical=acute_medical_dropdown,\n",
    "                               hiv_medical=hiv_medical_dropdown,\n",
    "                               hep_medical=hep_medical_dropdown,\n",
    "                               tbi_medical=tbi_medical_dropdown,\n",
    "                               notes=acute_medical_notes)\n",
    "display(medical_history)\n",
    "\n",
    "medical_history_string = medical_history.children[-1]"
   ]
  },
  {
   "cell_type": "markdown",
   "metadata": {},
   "source": [
    "# Allergies 🤧"
   ]
  },
  {
   "cell_type": "code",
   "execution_count": 12,
   "metadata": {
    "cellView": "form",
    "colab": {
     "base_uri": "https://localhost:8080/",
     "height": 17,
     "referenced_widgets": [
      "59666ff510b04b25889e8a2990eef55e",
      "ac64be68492045c2900675df469bd20d"
     ]
    },
    "id": "fOKDagBvgskt",
    "jupyter": {
     "source_hidden": true
    },
    "outputId": "dfbe8dfe-c8c5-4f63-ffaf-47353e414263"
   },
   "outputs": [
    {
     "data": {
      "application/vnd.jupyter.widget-view+json": {
       "model_id": "2432be86a42c4e508952a5223c1da5a8",
       "version_major": 2,
       "version_minor": 0
      },
      "text/plain": [
       "interactive(children=(Textarea(value='NKDA', description='allergies', layout=Layout(width='50%'), style=Descri…"
      ]
     },
     "metadata": {},
     "output_type": "display_data"
    }
   ],
   "source": [
    "#@title Allergies form\n",
    "\n",
    "allergies_text = widgets.Textarea(layout=layout_text_area, style=style,\n",
    "                                  value='NKDA')\n",
    "\n",
    "allergies_template = \"\"\"\n",
    "Allergies:\n",
    "{}\n",
    "\"\"\"\n",
    "def print_allergies_history(allergies):\n",
    "    print(allergies_template.format(allergies))\n",
    "allergies = interactive(print_allergies_history,\n",
    "                               allergies=allergies_text)\n",
    "display(allergies)\n",
    "\n",
    "allergies_string = allergies.children[-1]"
   ]
  },
  {
   "cell_type": "markdown",
   "metadata": {},
   "source": [
    "# Family Psych History 👨‍👩‍👦"
   ]
  },
  {
   "cell_type": "code",
   "execution_count": 13,
   "metadata": {
    "cellView": "form",
    "colab": {
     "base_uri": "https://localhost:8080/",
     "height": 17,
     "referenced_widgets": [
      "59666ff510b04b25889e8a2990eef55e",
      "45dae396413a4c9db5ca3ca03e11718e"
     ]
    },
    "id": "JwdmIAFghbxg",
    "jupyter": {
     "source_hidden": true
    },
    "outputId": "6265c045-1592-4938-d0ea-9f737136c049"
   },
   "outputs": [
    {
     "data": {
      "application/vnd.jupyter.widget-view+json": {
       "model_id": "c5d13625498740a191b5e6fe984d9e0c",
       "version_major": 2,
       "version_minor": 0
      },
      "text/plain": [
       "interactive(children=(Textarea(value='Denies family history of mental illness', description='family', layout=L…"
      ]
     },
     "metadata": {},
     "output_type": "display_data"
    }
   ],
   "source": [
    "#@title Family Psych History form\n",
    "\n",
    "family_text = widgets.Textarea(layout=layout_text_area, style=style,\n",
    "                                  value='Denies family history of mental illness')\n",
    "family_template = \"\"\"\n",
    "Family Psychiatric History:\n",
    "{}\n",
    "\"\"\"\n",
    "def print_family_history(family):\n",
    "    print(family_template.format(family))\n",
    "family = interactive(print_family_history,\n",
    "                               family=family_text)\n",
    "display(family)\n",
    "\n",
    "family_string = family.children[-1]"
   ]
  },
  {
   "cell_type": "markdown",
   "metadata": {},
   "source": [
    "# Social History 👫"
   ]
  },
  {
   "cell_type": "code",
   "execution_count": 14,
   "metadata": {
    "cellView": "form",
    "colab": {
     "base_uri": "https://localhost:8080/",
     "height": 361,
     "referenced_widgets": [
      "59666ff510b04b25889e8a2990eef55e",
      "073ff77cf15e416a91b3c26b5529f284"
     ]
    },
    "id": "VllLTIHvh599",
    "jupyter": {
     "source_hidden": true
    },
    "outputId": "dc91bb62-b504-4ccb-f0f3-976927484d49",
    "tags": []
   },
   "outputs": [
    {
     "data": {
      "application/vnd.jupyter.widget-view+json": {
       "model_id": "53836c9618ed46f9b1cdc95e738c1f61",
       "version_major": 2,
       "version_minor": 0
      },
      "text/plain": [
       "interactive(children=(Dropdown(description='married', layout=Layout(width='50%'), options=('single', 'married'…"
      ]
     },
     "metadata": {},
     "output_type": "display_data"
    }
   ],
   "source": [
    "# @title Social History form\n",
    "\n",
    "married_dropdown = widgets.Dropdown(\n",
    "    layout=layout_text_area, options=['single', 'married'], \n",
    "    style=style)\n",
    "\n",
    "num_children_int = widgets.BoundedIntText(value=0, style=style, layout=layout_text_area,min=0)\n",
    "home_dropdown = widgets.Combobox(layout=layout_text_area, \n",
    "                                 options=['in sober living', 'at home'], \n",
    "                                 style=style)\n",
    "legal_dropdown = widgets.Dropdown(layout=layout_text_area, \n",
    "                                  options=['denies', 'endorses'], \n",
    "                                  style=style)\n",
    "abuse_dropdown = widgets.Dropdown(layout=layout_text_area, \n",
    "                                  options=['denies', 'endorses'],\n",
    "                                  style=style)\n",
    "\n",
    "social_history_notes = widgets.Textarea(layout=layout_text_area, style=style)\n",
    "\n",
    "if num_children_int.value == 1:\n",
    "    num_child_int = 'child'\n",
    "else:\n",
    "    num_child_int = 'children'\n",
    "social_history_string = \"\"\"\n",
    "Social History:\n",
    "The patient states that they are {}, and have {} {}. \n",
    "They report that they are currently living {}. \n",
    "The patient {} any history of legal problems.  \n",
    "The patient {} a history of abuse.\n",
    "{}\n",
    "\"\"\"\n",
    "def print_social_history(married, num_children, \n",
    "                         home, legal, abuse, notes):\n",
    "    if num_children == 1:\n",
    "        num_child_int = 'child'\n",
    "    else:\n",
    "        num_child_int = 'children'\n",
    "    print(social_history_string.format(married, num_children, \n",
    "                        num_child_int, home, legal, abuse, notes))\n",
    "social = interactive(print_social_history,\n",
    "                     married=married_dropdown,\n",
    "                     num_children=num_children_int,\n",
    "                     home=home_dropdown,\n",
    "                     legal=legal_dropdown,\n",
    "                     abuse=abuse_dropdown,\n",
    "                     notes=social_history_notes\n",
    "                     )\n",
    "display(social)\n",
    "\n",
    "social_string = social.children[-1]"
   ]
  },
  {
   "cell_type": "markdown",
   "metadata": {},
   "source": [
    "# Mental Status Exam 📊"
   ]
  },
  {
   "cell_type": "code",
   "execution_count": 15,
   "metadata": {
    "cellView": "form",
    "colab": {
     "base_uri": "https://localhost:8080/",
     "height": 329,
     "referenced_widgets": [
      "2697a22e7e714511ab4c51b9f754a4ab"
     ]
    },
    "id": "pqwuQ8Zuk2Ia",
    "jupyter": {
     "source_hidden": true
    },
    "outputId": "6b3027b2-51f7-4640-b670-ffe8e4a250c3",
    "tags": []
   },
   "outputs": [
    {
     "data": {
      "application/vnd.jupyter.widget-view+json": {
       "model_id": "9a4adbffc7d4410c86895ae153722ae2",
       "version_major": 2,
       "version_minor": 0
      },
      "text/plain": [
       "interactive(children=(Textarea(value='It’s pretty good.', description='Current mood:', layout=Layout(height='1…"
      ]
     },
     "metadata": {},
     "output_type": "display_data"
    }
   ],
   "source": [
    "#@title mental_status_exam\n",
    "mse_mood_text = widgets.Textarea(layout=Layout(width='500px', height='100px'),\n",
    "    value=\"It’s pretty good.\",\n",
    "    placeholder='Type something',\n",
    "    description='Current mood:',\n",
    "    disabled=False\n",
    ")\n",
    "\n",
    "string = (\"\"\"\n",
    "Mental Status Examination: \n",
    "Appearance: WD/WN, looks stated age, fair grooming and hygiene, casually dressed\n",
    "Behavior: Calm, cooperative, fair eye contact\n",
    "Psychomotor: No activation or retardation\n",
    "Speech: Fluent, spontaneous\n",
    "Mood: “{}” \n",
    "Affect: Euthymic, full-range, congruent with mood\n",
    "Thought Process: Linear, logical\n",
    "Thought Content: Denies SI/HI/AH/VH/delusions\n",
    "Insight/Judgement: Limited to fair/Fair\n",
    "\"\"\")\n",
    "def print_mse(mse_mood):\n",
    "    print(string.format(mse_mood))\n",
    "mse = interactive(print_mse,\n",
    "                     mse_mood=mse_mood_text\n",
    "                     )\n",
    "display(mse)\n",
    "\n",
    "mse_string = mse.children[-1]"
   ]
  },
  {
   "cell_type": "markdown",
   "metadata": {},
   "source": [
    "# Labs 🧪"
   ]
  },
  {
   "cell_type": "code",
   "execution_count": 16,
   "metadata": {
    "cellView": "form",
    "colab": {
     "base_uri": "https://localhost:8080/",
     "height": 118,
     "referenced_widgets": [
      "0f65c313fcd640aea418509dc30b655c"
     ]
    },
    "id": "qZfroPcgyyp0",
    "jupyter": {
     "source_hidden": true
    },
    "outputId": "cb7e12a3-bb45-4e38-81af-2187b1c90901"
   },
   "outputs": [
    {
     "data": {
      "application/vnd.jupyter.widget-view+json": {
       "model_id": "bb36809058524bbbb329759ca4a16463",
       "version_major": 2,
       "version_minor": 0
      },
      "text/plain": [
       "interactive(children=(Text(value='None currently on file.', description='labs'), Output()), _dom_classes=('wid…"
      ]
     },
     "metadata": {},
     "output_type": "display_data"
    }
   ],
   "source": [
    "#@title Labs form\n",
    "labs_text = widgets.Text(value='None currently on file.')\n",
    "\n",
    "labs_template = \"\"\"\n",
    "Labs and Studies:\n",
    "{}\n",
    "\"\"\"\n",
    "def print_labs(labs):\n",
    "    print(labs_template.format(labs))\n",
    "\n",
    "labs = interactive(print_labs,\n",
    "                     labs=labs_text\n",
    "                     )\n",
    "display(labs)\n",
    "\n",
    "labs_string = labs.children[-1]"
   ]
  },
  {
   "cell_type": "markdown",
   "metadata": {},
   "source": [
    "# Disorders 💔"
   ]
  },
  {
   "cell_type": "code",
   "execution_count": 17,
   "metadata": {
    "cellView": "form",
    "colab": {
     "base_uri": "https://localhost:8080/",
     "height": 190,
     "referenced_widgets": [
      "59666ff510b04b25889e8a2990eef55e",
      "1a979349a38b4e9ba31d2117fb179b7a",
      "92491c20366543539db1885f076ff571"
     ]
    },
    "id": "oGfKpDnc0KNf",
    "jupyter": {
     "source_hidden": true
    },
    "outputId": "dc5c1562-b0f5-4ed7-8a07-4559469bb3cd"
   },
   "outputs": [
    {
     "data": {
      "application/vnd.jupyter.widget-view+json": {
       "model_id": "f3e3e42e9cc741dcaba3bf3f52db94ff",
       "version_major": 2,
       "version_minor": 0
      },
      "text/plain": [
       "Box(children=(VBox(children=(Checkbox(value=False, description='Major depressive disorder, rec, mod'), Checkbo…"
      ]
     },
     "metadata": {},
     "output_type": "display_data"
    },
    {
     "data": {
      "application/vnd.jupyter.widget-view+json": {
       "model_id": "dfbc01cc029f4bd69fa6998f8d90c0c1",
       "version_major": 2,
       "version_minor": 0
      },
      "text/plain": [
       "Textarea(value='', description='Other:', layout=Layout(width='50%'), style=DescriptionStyle(description_width=…"
      ]
     },
     "metadata": {},
     "output_type": "display_data"
    }
   ],
   "source": [
    "#@title disorders form\n",
    "\n",
    "disorders1 = ['Major depressive disorder, rec, mod',\n",
    "    'Post-traumatic stress disorder',\n",
    "    'Generalized anxiety disorder',\n",
    "    'Alcohol use disorder Severe']\n",
    "disorders2 = ['Unspecified Anxiety Disorder',\n",
    "    'Unspecified Depressive Disorder',\n",
    "    'Cocaine use disorder Severe',\n",
    "    'Cannabis use disorder Severe']\n",
    "disorders3 = ['Sedative, hypnotic and/or anxiolytic Use Disorder Severe',\n",
    "    'Amphetamine-type substance use disorder Severe',\n",
    "    'Opioid use disorder Severe',\n",
    "    'ADHD']\n",
    "disorders4 = ['Unspecified Bipolar Disorder',\n",
    "    'Bipolar II disorder',\n",
    "    'Bipolar I disorder']\n",
    "\n",
    "check1 = widgets.VBox([widgets.Checkbox(description=x) for x in disorders1])\n",
    "check2 = widgets.VBox([widgets.Checkbox(description=x) for x in disorders2])\n",
    "check3 = widgets.VBox([widgets.Checkbox(description=x) for x in disorders3])\n",
    "check4 = widgets.VBox([widgets.Checkbox(description=x) for x in disorders4])\n",
    "\n",
    "box1 = widgets.HBox([check1,check2])\n",
    "box2 = widgets.HBox([check3, check4])\n",
    "\n",
    "disorder_choices = widgets.Box([check1, check2, check3, check4]) \n",
    "disorder_notes = widgets.Textarea(description='Other:', style=style, layout=layout_text_area)\n",
    "       \n",
    "\n",
    "display(disorder_choices)\n",
    "display(disorder_notes)\n",
    "\n",
    "\n"
   ]
  },
  {
   "cell_type": "markdown",
   "metadata": {},
   "source": [
    "# Plan 🗺"
   ]
  },
  {
   "cell_type": "code",
   "execution_count": 18,
   "metadata": {
    "cellView": "form",
    "colab": {
     "base_uri": "https://localhost:8080/",
     "height": 223,
     "referenced_widgets": [
      "d492b7f7e64a4d21bc2dc5085de73379",
      "99281c846a1a433fa2fa2ebcff0d90b5",
      "6f2d021562664827ae8d110c74654afa",
      "5d601543480649238e98302a8a4cf69c",
      "a61a21a5cd2440ad8ef995bc74b8f103",
      "334ae6c3f24c4f6d874bbed7da77f548"
     ]
    },
    "id": "l1tDuTSzAJuo",
    "jupyter": {
     "source_hidden": true
    },
    "outputId": "759540b5-11be-433c-c472-8e33268bc82e"
   },
   "outputs": [
    {
     "data": {
      "application/vnd.jupyter.widget-view+json": {
       "model_id": "2a692321ab1f48c3ae7de3cef491c269",
       "version_major": 2,
       "version_minor": 0
      },
      "text/plain": [
       "Textarea(value='3. Medical and Lab: Per PCP. Patient encouraged to establish care with local PCP for routine p…"
      ]
     },
     "metadata": {},
     "output_type": "display_data"
    },
    {
     "data": {
      "application/vnd.jupyter.widget-view+json": {
       "model_id": "3741c9f62b544fd5bb0ada5d42281f92",
       "version_major": 2,
       "version_minor": 0
      },
      "text/plain": [
       "Textarea(value='4. Continue medication.', description='med plan:', layout=Layout(height='100px', width='500px'…"
      ]
     },
     "metadata": {},
     "output_type": "display_data"
    }
   ],
   "source": [
    "#@title med plan\n",
    "\n",
    "pcp_plan = widgets.Textarea(layout=Layout(width='500px', height='100px'),\n",
    "    value=\"3. Medical and Lab: Per PCP. Patient encouraged to establish care with local PCP for routine physical and baseline labs.\",\n",
    "    placeholder='Type something',\n",
    "    description='pcp plan:',\n",
    "    disabled=False\n",
    ")\n",
    "\n",
    "med_plan = widgets.Textarea(layout=Layout(width='500px', height='100px'),\n",
    "    value=\"4. Continue medication.\",\n",
    "    placeholder='Type something',\n",
    "    description='med plan:',\n",
    "    disabled=False\n",
    ")\n",
    "display(pcp_plan)\n",
    "display(med_plan)"
   ]
  },
  {
   "cell_type": "markdown",
   "metadata": {},
   "source": [
    "# You're not done yet! run cell below 👇\n",
    "\n",
    "then copy and paste into doc"
   ]
  },
  {
   "cell_type": "code",
   "execution_count": 19,
   "metadata": {
    "cellView": "form",
    "colab": {
     "base_uri": "https://localhost:8080/",
     "height": 1000,
     "referenced_widgets": [
      "8e422d4402d54067899798a6ed7225fa",
      "3b533668dc4c453d834d15c08a38f291",
      "61f9c2a3dde34c6eaaaf9a515c3d828f",
      "3a7aabafd8b14294a6068ead1cca5536",
      "00b24ec4605c427f917fcae31c125965",
      "d2bef938e5b742349b5522f1752c4cff",
      "a709df12b84744d2be776a6c253a9a25",
      "7850dfad0d6246b1ab4c6402beb491a7",
      "02429984defd4e7293f509762ff20341",
      "7c0667356b6a4f87827aba5fb2cdb2da",
      "cb5d1472d29748b0a2596e63db8b4090",
      "35a9385c05284603902b4fd5d50e7923",
      "39fafc71cc74420980806456ffdea060",
      "ab44efcff91048f28cb71d2de47ee72c",
      "1b71004116b8470d9b0c97e5c6a238bf",
      "223a4c366d6a455393ace7787c886ac2",
      "42f310373ac34ce7a061d901a0cf59f5",
      "9ab2f80404d04a04a889549bf4523ff3",
      "ded12e82c85b40d0af8d6321051642d1",
      "a7c9f0ad6fde4e8a960de2fd953ed0ee",
      "2b185fb1984d40c3bea253d864d1a1b8",
      "d7e875df8e37483abe947772f8ad98a3",
      "66f48c970fcb48798a44cc72944dab45",
      "8a862dc09ceb4bbbbde194eb0f3dc968",
      "fbb615d0aab44c029823a4a72f352589",
      "8ce7f8549164444e82addfe5ac8f926d",
      "8e08f49d11c7498e84f51152d7a8cf59",
      "4f486e0392f94aa2ba1c4a758879ccb7"
     ]
    },
    "id": "eqFpBALd-2vN",
    "jupyter": {
     "source_hidden": true
    },
    "outputId": "7c5e3a23-35a3-4154-af42-d11c3655eaf7",
    "tags": []
   },
   "outputs": [
    {
     "name": "stdout",
     "output_type": "stream",
     "text": [
      "Patient Identification:\n",
      "The patient is a 33 year old male with a self reported \n",
      "history of  use and ,\n",
      "who presents to Create Recovery Center for treatment.\n",
      "\n"
     ]
    },
    {
     "data": {
      "application/vnd.jupyter.widget-view+json": {
       "model_id": "3c9d4d589e544db08c0cbbbcc7568ab9",
       "version_major": 2,
       "version_minor": 0
      },
      "text/plain": [
       "Output()"
      ]
     },
     "metadata": {},
     "output_type": "display_data"
    },
    {
     "data": {
      "application/vnd.jupyter.widget-view+json": {
       "model_id": "b2741a499efe42838513fdcce2f1c019",
       "version_major": 2,
       "version_minor": 0
      },
      "text/plain": [
       "Output()"
      ]
     },
     "metadata": {},
     "output_type": "display_data"
    },
    {
     "data": {
      "application/vnd.jupyter.widget-view+json": {
       "model_id": "2ceb7af84c4946c896077c90868a3493",
       "version_major": 2,
       "version_minor": 0
      },
      "text/plain": [
       "Output()"
      ]
     },
     "metadata": {},
     "output_type": "display_data"
    },
    {
     "data": {
      "application/vnd.jupyter.widget-view+json": {
       "model_id": "0d839e96762541a0aea38a82cf109590",
       "version_major": 2,
       "version_minor": 0
      },
      "text/plain": [
       "Output()"
      ]
     },
     "metadata": {},
     "output_type": "display_data"
    },
    {
     "data": {
      "application/vnd.jupyter.widget-view+json": {
       "model_id": "626ce05b18ca4d2887e3bcdaa21f8454",
       "version_major": 2,
       "version_minor": 0
      },
      "text/plain": [
       "Output()"
      ]
     },
     "metadata": {},
     "output_type": "display_data"
    },
    {
     "data": {
      "application/vnd.jupyter.widget-view+json": {
       "model_id": "61a9e85b868542fc98f84b8bf23325e2",
       "version_major": 2,
       "version_minor": 0
      },
      "text/plain": [
       "Output()"
      ]
     },
     "metadata": {},
     "output_type": "display_data"
    },
    {
     "data": {
      "application/vnd.jupyter.widget-view+json": {
       "model_id": "41e7522bdb4043d5bee8c6f3e92deb63",
       "version_major": 2,
       "version_minor": 0
      },
      "text/plain": [
       "Output()"
      ]
     },
     "metadata": {},
     "output_type": "display_data"
    },
    {
     "data": {
      "application/vnd.jupyter.widget-view+json": {
       "model_id": "51aaa7f94a8c4dac9d232de337f673a0",
       "version_major": 2,
       "version_minor": 0
      },
      "text/plain": [
       "Output()"
      ]
     },
     "metadata": {},
     "output_type": "display_data"
    },
    {
     "data": {
      "application/vnd.jupyter.widget-view+json": {
       "model_id": "550aa218965a461f9bc80b370e82f2f5",
       "version_major": 2,
       "version_minor": 0
      },
      "text/plain": [
       "Output()"
      ]
     },
     "metadata": {},
     "output_type": "display_data"
    },
    {
     "data": {
      "application/vnd.jupyter.widget-view+json": {
       "model_id": "30fe27d23be54879b2b9ccce1e86f44e",
       "version_major": 2,
       "version_minor": 0
      },
      "text/plain": [
       "Output()"
      ]
     },
     "metadata": {},
     "output_type": "display_data"
    },
    {
     "data": {
      "application/vnd.jupyter.widget-view+json": {
       "model_id": "f37fae4788bf4896a3115e522d986aed",
       "version_major": 2,
       "version_minor": 0
      },
      "text/plain": [
       "Output()"
      ]
     },
     "metadata": {},
     "output_type": "display_data"
    },
    {
     "data": {
      "application/vnd.jupyter.widget-view+json": {
       "model_id": "2fd10ce8507f4ceca346d80cfaf615ae",
       "version_major": 2,
       "version_minor": 0
      },
      "text/plain": [
       "Output()"
      ]
     },
     "metadata": {},
     "output_type": "display_data"
    },
    {
     "data": {
      "application/vnd.jupyter.widget-view+json": {
       "model_id": "2376137a79fc4f7ab1fedfae45d8b3b6",
       "version_major": 2,
       "version_minor": 0
      },
      "text/plain": [
       "Output()"
      ]
     },
     "metadata": {},
     "output_type": "display_data"
    },
    {
     "data": {
      "application/vnd.jupyter.widget-view+json": {
       "model_id": "267178d9cffa4dc9ba9c9b8fd555710e",
       "version_major": 2,
       "version_minor": 0
      },
      "text/plain": [
       "Output()"
      ]
     },
     "metadata": {},
     "output_type": "display_data"
    },
    {
     "name": "stdout",
     "output_type": "stream",
     "text": [
      "Assessment:\n",
      "\n",
      "\n",
      "Risk Assessment:\n",
      "With respect to imminent suicide risk, the patient is low risk and appropriate to be managed in current level of care because the patient has no current SI, \n",
      "intent, plan, or hopelessness, and is actively engaged in treatment. \n",
      "With respect to imminent violence risk, the patient is low risk and appropriate to be managed in current level of care because the patient has no HI, intent, plan, \n",
      "or history of significant violence.\n",
      "\n",
      "Plan:\n",
      "1. Psychoeducation: Discussed diagnostic impressions, treatment options, and expected course and prognosis.\n",
      "2. Indications, benefits, risks, side effects, and alternatives including no treatment discussed.\n",
      "3. Medical and Lab: Per PCP. Patient encouraged to establish care with local PCP for routine physical and baseline labs.\n",
      "4. Continue medication.\n",
      "5. Discussed naltrexone/vivitrol/implant options. Pt declines.\n",
      "6. CURES database consulted\n",
      "7. Encouraged compliance with treatment program\n",
      "8. Patient instructed to call clinic, MD, 911, or go to the nearest emergency department if symptoms worsen, or if patient has an adverse reaction to a medication, or if feeling suicidal, homicidal, or for any other concern.  \n",
      "9. Urine drug testing is medically necessary for diagnostic, clinical, and therapeutic purposes, to detect the use of prescription medications and illegal substances of concern for the purpose of assessment and treatment and to monitor compliance with the medication protocol of the Program. Client will be tested 2-3 times a week as part of routine monitoring, or for attendance to group, return from pass, randomly, or under suspicion of relapse, according to this facility’s policies and procedures.\n",
      "10. Increase collateral database\n",
      "11. Follow-up weekly\n",
      "\n",
      "Emily Samuel, PMHNP\n",
      "\n"
     ]
    }
   ],
   "source": [
    "#@title Psychiatric Initial Evaluation\n",
    "\n",
    "age, pronoun, gender, treatment_center = id_choices.children[0].children[0].children\n",
    "notes = id_choices.children[0].children[1].children[0]\n",
    "\n",
    "substance_dict = {}\n",
    "for i, substance in enumerate(substance_options):\n",
    "    substance_dict[substance] = id_choices.children[1].children[0].children[i].value\n",
    "mental_dict = {}\n",
    "for i, mental in enumerate(mental_options):\n",
    "    mental_dict[mental] = id_choices.children[2].children[i].value\n",
    "\n",
    "substance_id = []\n",
    "mental_id = []\n",
    "for condition, val in substance_dict.items():\n",
    "    if val == True:\n",
    "        substance_id.append(condition)\n",
    "for condition, val in mental_dict.items():\n",
    "    if val == True:\n",
    "        mental_id.append(condition)\n",
    "\n",
    "mental_list = ', '.join([x for x in mental_id])\n",
    "substance_list = ', '.join([x for x in substance_id]) + ' use'\n",
    "\n",
    "disorders_list = []\n",
    "for i in range(len(disorders1)):\n",
    "    child = disorder_choices.children[0].children[i]\n",
    "    if child.value == True:\n",
    "        disorders_list.append(child.description)\n",
    "for i in range(len(disorders2)):\n",
    "    child = disorder_choices.children[1].children[i]\n",
    "    if child.value == True:\n",
    "        disorders_list.append(child.description)\n",
    "for i in range(len(disorders3)):\n",
    "    child = disorder_choices.children[2].children[i]\n",
    "    if child.value == True:\n",
    "        disorders_list.append(child.description)\n",
    "for i in range(len(disorders4)):\n",
    "    child = disorder_choices.children[3].children[i]\n",
    "    if child.value == True:\n",
    "        disorders_list.append(child.description)\n",
    "\n",
    "patient_id_string = f\"\"\"Patient Identification:\n",
    "The patient is a {age.value} year old {gender.value} with a self reported \n",
    "history of {substance_list} and {mental_list},\n",
    "who presents to {treatment_center.value} for treatment.\\n{notes.value}\"\"\"\n",
    "\n",
    "disorders_list = []\n",
    "for i in range(len(disorders1)):\n",
    "    child = disorder_choices.children[0].children[i]\n",
    "    if child.value == True:\n",
    "        disorders_list.append(child.description)\n",
    "for i in range(len(disorders2)):\n",
    "    child = disorder_choices.children[1].children[i]\n",
    "    if child.value == True:\n",
    "        disorders_list.append(child.description)\n",
    "for i in range(len(disorders3)):\n",
    "    child = disorder_choices.children[2].children[i]\n",
    "    if child.value == True:\n",
    "        disorders_list.append(child.description)\n",
    "for i in range(len(disorders4)):\n",
    "    child = disorder_choices.children[3].children[i]\n",
    "    if child.value == True:\n",
    "        disorders_list.append(child.description)\n",
    "\n",
    "# patient_id_string = f\"\"\"Patient Identification:\n",
    "# The patient is a {age.value} year old {gender.value} with a self reported \n",
    "# history of {substance_list} and {mental_list},\n",
    "# who presents to {treatment_center.value} for treatment.\n",
    "# {notes.value}\n",
    "#     \"\"\"\n",
    "\n",
    "disorders_string = \"\"\"Assessment:\n",
    "\"\"\" + '\\n'.join(disorders_list)\n",
    "\n",
    "disorders_notes_string = disorder_notes.value \n",
    "\n",
    "risk_assessment_string = f\"\"\"Risk Assessment:\n",
    "With respect to imminent suicide risk, the patient is low risk and appropriate to be managed in current level of care because the patient has no current SI, \n",
    "intent, plan, or hopelessness, and is actively engaged in treatment. \n",
    "With respect to imminent violence risk, the patient is low risk and appropriate to be managed in current level of care because the patient has no HI, intent, plan, \n",
    "or history of significant violence.\n",
    "\"\"\"\n",
    "\n",
    "plan_string = f\"\"\"Plan:\n",
    "1. Psychoeducation: Discussed diagnostic impressions, treatment options, and expected course and prognosis.\n",
    "2. Indications, benefits, risks, side effects, and alternatives including no treatment discussed.\n",
    "{pcp_plan.value}\n",
    "{med_plan.value}\n",
    "5. Discussed naltrexone/vivitrol/implant options. Pt declines.\n",
    "6. CURES database consulted\n",
    "7. Encouraged compliance with treatment program\n",
    "8. Patient instructed to call clinic, MD, 911, or go to the nearest emergency department if symptoms worsen, or if patient has an adverse reaction to a medication, or if feeling suicidal, homicidal, or for any other concern.  \n",
    "9. Urine drug testing is medically necessary for diagnostic, clinical, and therapeutic purposes, to detect the use of prescription medications and illegal substances of concern for the purpose of assessment and treatment and to monitor compliance with the medication protocol of the Program. Client will be tested 2-3 times a week as part of routine monitoring, or for attendance to group, return from pass, randomly, or under suspicion of relapse, according to this facility’s policies and procedures.\n",
    "10. Increase collateral database\n",
    "11. Follow-up weekly\n",
    "\n",
    "Emily Samuel, PMHNP\n",
    "\"\"\"\n",
    "\n",
    "text_strings = [patient_id_string,\n",
    "                hpi_string,\n",
    "                current_medication_string,\n",
    "                mood_string,\n",
    "                anxiety_string,\n",
    "                trauma_string,\n",
    "                psych_disorder_string,\n",
    "                psych_history_string,\n",
    "                substance_history_string,\n",
    "                medical_history_string,\n",
    "                allergies_string,\n",
    "                family_string,\n",
    "                social_string,\n",
    "                mse_string,\n",
    "                labs_string,\n",
    "                disorders_string,\n",
    "                disorders_notes_string,\n",
    "                risk_assessment_string,\n",
    "                plan_string]\n",
    "\n",
    "display_strings = [psych_history_string, \n",
    "                   psych_disorder_string,\n",
    "                   substance_history_string,\n",
    "                   allergies_string,\n",
    "                   social_string,\n",
    "                   mse_string,\n",
    "                   labs_string]\n",
    "\n",
    "print_strings = [patient_id_string,\n",
    "                disorders_string,\n",
    "                disorders_notes_string,\n",
    "                risk_assessment_string,\n",
    "                plan_string]\n",
    "\n",
    "for text_string in text_strings:\n",
    "    if text_string in print_strings:\n",
    "        print(text_string)\n",
    "    else:\n",
    "        display(text_string)\n",
    "    # if text_string in display_strings:\n",
    "    #     display(text_string) \n",
    "    # else:\n",
    "    #     print(text_string)\n"
   ]
  },
  {
   "cell_type": "code",
   "execution_count": null,
   "metadata": {
    "id": "T6lwHsznKHA3",
    "jupyter": {
     "source_hidden": true
    }
   },
   "outputs": [],
   "source": []
  }
 ],
 "metadata": {
  "colab": {
   "name": "template prod oct 6 2021",
   "provenance": [],
   "toc_visible": true
  },
  "kernelspec": {
   "display_name": "Python 3",
   "language": "python",
   "name": "python3"
  },
  "language_info": {
   "codemirror_mode": {
    "name": "ipython",
    "version": 3
   },
   "file_extension": ".py",
   "mimetype": "text/x-python",
   "name": "python",
   "nbconvert_exporter": "python",
   "pygments_lexer": "ipython3",
   "version": "3.8.8"
  },
  "toc-autonumbering": true,
  "toc-showmarkdowntxt": false,
  "widgets": {
   "application/vnd.jupyter.widget-state+json": {
    "state": {
     "0039957206f64544b7a34932b1b0b522": {
      "model_module": "@jupyter-widgets/controls",
      "model_module_version": "1.5.0",
      "model_name": "TextareaModel",
      "state": {
       "description": "Notes:",
       "layout": "IPY_MODEL_2ed2b3a6e8c342c9bb99b3da185e2276",
       "style": "IPY_MODEL_faf372754ceb4e5ebdbfd1b5d69f96d4"
      }
     },
     "00b3b90b4a2549c98b777b9095db4c24": {
      "model_module": "@jupyter-widgets/controls",
      "model_module_version": "1.5.0",
      "model_name": "VBoxModel",
      "state": {
       "_dom_classes": [
        "widget-interact"
       ],
       "children": [
        "IPY_MODEL_2997344101d341509f645c699184d9e5",
        "IPY_MODEL_23c22e058155462fbcd457a81dd60939",
        "IPY_MODEL_ccd913fe339d48498822db843da7bee0",
        "IPY_MODEL_27dcc0de6e094641a83e958cab3418ca",
        "IPY_MODEL_03cad89bbf104edaa747fd5adac9ff28",
        "IPY_MODEL_59450a62a4254457ba769158623072b1",
        "IPY_MODEL_41e7522bdb4043d5bee8c6f3e92deb63"
       ],
       "layout": "IPY_MODEL_5c063488a31741cca7cef86d597cb87a"
      }
     },
     "0134d570a9cb4483af8ede2a15a9aad5": {
      "model_module": "@jupyter-widgets/controls",
      "model_module_version": "1.5.0",
      "model_name": "DescriptionStyleModel",
      "state": {
       "description_width": "150px"
      }
     },
     "01a23146c6854aeba206185f07f816d4": {
      "model_module": "@jupyter-widgets/controls",
      "model_module_version": "1.5.0",
      "model_name": "DropdownModel",
      "state": {
       "_options_labels": [
        "denies",
        "endorses"
       ],
       "description": "ivdu",
       "index": 0,
       "layout": "IPY_MODEL_6ca1abb4c0974a9b85bd5dd3b0292df2",
       "style": "IPY_MODEL_b939f976df2d4552bc353ecfc4f47067"
      }
     },
     "01e0bc2f2f7d486584e38b3059ad0de4": {
      "model_module": "@jupyter-widgets/controls",
      "model_module_version": "1.5.0",
      "model_name": "CheckboxModel",
      "state": {
       "description": "schizophrenia",
       "disabled": false,
       "layout": "IPY_MODEL_ff3860b16a2a4f97a83185a132c5144a",
       "style": "IPY_MODEL_da2ff144c79a41b892c5aef07e1f6216",
       "value": false
      }
     },
     "02367092edfe42cf9edc8995747d16e1": {
      "model_module": "@jupyter-widgets/controls",
      "model_module_version": "1.5.0",
      "model_name": "CheckboxModel",
      "state": {
       "description": "Cocaine use disorder Severe",
       "disabled": false,
       "layout": "IPY_MODEL_75980e74a0d9412584c2f3d286b46050",
       "style": "IPY_MODEL_865debdca58a430e812dd5da084bfc10",
       "value": false
      }
     },
     "035075a838774c378a7184f70dd673a9": {
      "model_module": "@jupyter-widgets/controls",
      "model_module_version": "1.5.0",
      "model_name": "CheckboxModel",
      "state": {
       "description": "cannabis",
       "disabled": false,
       "layout": "IPY_MODEL_ff23e26ed6814b75bb537932a5aed405",
       "style": "IPY_MODEL_966132908a894920b57b276b50fc15f8",
       "value": false
      }
     },
     "03cad89bbf104edaa747fd5adac9ff28": {
      "model_module": "@jupyter-widgets/controls",
      "model_module_version": "1.5.0",
      "model_name": "TextModel",
      "state": {
       "description": "outpatient_psychiatrist",
       "layout": "IPY_MODEL_6ca1abb4c0974a9b85bd5dd3b0292df2",
       "style": "IPY_MODEL_70497cd9107a479b8aa7ac474d1c00f4",
       "value": "None"
      }
     },
     "04a62c97b11643c4b61f96a4065858b1": {
      "model_module": "@jupyter-widgets/controls",
      "model_module_version": "1.5.0",
      "model_name": "DescriptionStyleModel",
      "state": {
       "description_width": ""
      }
     },
     "04af655214624d2e8e50e7df78571659": {
      "model_module": "@jupyter-widgets/controls",
      "model_module_version": "1.5.0",
      "model_name": "DescriptionStyleModel",
      "state": {
       "description_width": "150px"
      }
     },
     "04e6e7d3f7174796b5f5813c8ec35696": {
      "model_module": "@jupyter-widgets/controls",
      "model_module_version": "1.5.0",
      "model_name": "DescriptionStyleModel",
      "state": {
       "description_width": "150px"
      }
     },
     "050793d5c5614a81818311bc244c1eee": {
      "model_module": "@jupyter-widgets/controls",
      "model_module_version": "1.5.0",
      "model_name": "DescriptionStyleModel",
      "state": {
       "description_width": "150px"
      }
     },
     "06addb645684467ca422bf4edd76a309": {
      "model_module": "@jupyter-widgets/controls",
      "model_module_version": "1.5.0",
      "model_name": "TextareaModel",
      "state": {
       "description": "treatment_reason",
       "layout": "IPY_MODEL_6ca1abb4c0974a9b85bd5dd3b0292df2",
       "placeholder": "Type Something",
       "style": "IPY_MODEL_3ba65c108425442e833b6d831c5f7d6b"
      }
     },
     "09beeb27725b49dcaf445c3a877123e2": {
      "model_module": "@jupyter-widgets/base",
      "model_module_version": "1.2.0",
      "model_name": "LayoutModel",
      "state": {}
     },
     "0c21d30145334326b659737add6065f8": {
      "model_module": "@jupyter-widgets/controls",
      "model_module_version": "1.5.0",
      "model_name": "TextareaModel",
      "state": {
       "description": "notes",
       "layout": "IPY_MODEL_6ca1abb4c0974a9b85bd5dd3b0292df2",
       "style": "IPY_MODEL_04e6e7d3f7174796b5f5813c8ec35696"
      }
     },
     "0c6884c62b8542faa8c326b1889337d2": {
      "model_module": "@jupyter-widgets/base",
      "model_module_version": "1.2.0",
      "model_name": "LayoutModel",
      "state": {}
     },
     "0cf01bdfc4c2436a8fa94ac7df5be78f": {
      "model_module": "@jupyter-widgets/controls",
      "model_module_version": "1.5.0",
      "model_name": "TextareaModel",
      "state": {
       "description": "current_medication",
       "layout": "IPY_MODEL_6ca1abb4c0974a9b85bd5dd3b0292df2",
       "placeholder": "Type something",
       "style": "IPY_MODEL_28f024907dbd4f7d87aa704c0cfad8d7"
      }
     },
     "0d79f11ae8674580a682266cfa9dcc44": {
      "model_module": "@jupyter-widgets/controls",
      "model_module_version": "1.5.0",
      "model_name": "DescriptionStyleModel",
      "state": {
       "description_width": ""
      }
     },
     "0d839e96762541a0aea38a82cf109590": {
      "model_module": "@jupyter-widgets/output",
      "model_module_version": "1.0.0",
      "model_name": "OutputModel",
      "state": {
       "layout": "IPY_MODEL_7f992d3f48604c4d99118bf8476bab55",
       "outputs": [
        {
         "name": "stdout",
         "output_type": "stream",
         "text": "\nThe patient denies that they worry regularly about multiple aspects of their life with accompanying physical symptoms.\nOver the past several weeks, the patient denies any excessive worrying,  \nfeeling keyed up and on edge, irritability, or panic attacks. \n\n\n"
        }
       ]
      }
     },
     "0f20b646ea67464086e939b6b4cc9712": {
      "model_module": "@jupyter-widgets/controls",
      "model_module_version": "1.5.0",
      "model_name": "DescriptionStyleModel",
      "state": {
       "description_width": ""
      }
     },
     "0fdc07c698284a828f1abd66c43222c9": {
      "model_module": "@jupyter-widgets/controls",
      "model_module_version": "1.5.0",
      "model_name": "DropdownModel",
      "state": {
       "_options_labels": [
        "denies",
        "endorses"
       ],
       "description": "depressed",
       "index": 0,
       "layout": "IPY_MODEL_6ca1abb4c0974a9b85bd5dd3b0292df2",
       "style": "IPY_MODEL_c4245ba767ac470d9831e40ed32c4bc4"
      }
     },
     "1059a84b249d43bbb577bb7c4e983c21": {
      "model_module": "@jupyter-widgets/controls",
      "model_module_version": "1.5.0",
      "model_name": "DescriptionStyleModel",
      "state": {
       "description_width": "150px"
      }
     },
     "1087e4d2c88d4769a0714cbc9af83e73": {
      "model_module": "@jupyter-widgets/base",
      "model_module_version": "1.2.0",
      "model_name": "LayoutModel",
      "state": {}
     },
     "115d0e3d24a84fbd82951f4efeb38f08": {
      "model_module": "@jupyter-widgets/controls",
      "model_module_version": "1.5.0",
      "model_name": "BoundedIntTextModel",
      "state": {
       "description": "num_times_in_treatment",
       "layout": "IPY_MODEL_6ca1abb4c0974a9b85bd5dd3b0292df2",
       "style": "IPY_MODEL_c3c84c97d5b1410298b6d03449f23073"
      }
     },
     "12ba092c7edd47eb8a3779741a3373a0": {
      "model_module": "@jupyter-widgets/controls",
      "model_module_version": "1.5.0",
      "model_name": "DescriptionStyleModel",
      "state": {
       "description_width": "150px"
      }
     },
     "172f4613e7884b47a251c02e50b68dde": {
      "model_module": "@jupyter-widgets/controls",
      "model_module_version": "1.5.0",
      "model_name": "DescriptionStyleModel",
      "state": {
       "description_width": "150px"
      }
     },
     "17785c68d46e4670a54ad50f2d95dac4": {
      "model_module": "@jupyter-widgets/controls",
      "model_module_version": "1.5.0",
      "model_name": "DescriptionStyleModel",
      "state": {
       "description_width": ""
      }
     },
     "17e43674fa964af7b4382073515f2463": {
      "model_module": "@jupyter-widgets/base",
      "model_module_version": "1.2.0",
      "model_name": "LayoutModel",
      "state": {}
     },
     "1948a170b76a4fd4aa9d16216be4166f": {
      "model_module": "@jupyter-widgets/controls",
      "model_module_version": "1.5.0",
      "model_name": "DescriptionStyleModel",
      "state": {
       "description_width": "150px"
      }
     },
     "1ab53f6ab1dd4f5abc9ea38c5ec96753": {
      "model_module": "@jupyter-widgets/controls",
      "model_module_version": "1.5.0",
      "model_name": "VBoxModel",
      "state": {
       "_dom_classes": [
        "widget-interact"
       ],
       "children": [
        "IPY_MODEL_8a7190e91d30479aa5b55dd1a6ec70da",
        "IPY_MODEL_93678ba598f34d358d4a6a17c3a33b5e",
        "IPY_MODEL_310af9c8c6a64bc7a5e8196ab27b7bb9",
        "IPY_MODEL_300b040509ac4d3c92913d8e44ea3a06",
        "IPY_MODEL_6ba3868fd8e94261bade00383e151850",
        "IPY_MODEL_550aa218965a461f9bc80b370e82f2f5"
       ],
       "layout": "IPY_MODEL_20585382b49348e0a84768ac99e5d9c9"
      }
     },
     "1b3abd33be314f8eb39df44afd2e4ca0": {
      "model_module": "@jupyter-widgets/controls",
      "model_module_version": "1.5.0",
      "model_name": "DescriptionStyleModel",
      "state": {
       "description_width": ""
      }
     },
     "1c2c66963aae41cea2cc301da8f4d90e": {
      "model_module": "@jupyter-widgets/base",
      "model_module_version": "1.2.0",
      "model_name": "LayoutModel",
      "state": {}
     },
     "1d549e97114d4af28cd5a7eb30c430f5": {
      "model_module": "@jupyter-widgets/controls",
      "model_module_version": "1.5.0",
      "model_name": "DescriptionStyleModel",
      "state": {
       "description_width": ""
      }
     },
     "20585382b49348e0a84768ac99e5d9c9": {
      "model_module": "@jupyter-widgets/base",
      "model_module_version": "1.2.0",
      "model_name": "LayoutModel",
      "state": {}
     },
     "23573e90e6084b8fa0f9492deaa8ba48": {
      "model_module": "@jupyter-widgets/base",
      "model_module_version": "1.2.0",
      "model_name": "LayoutModel",
      "state": {}
     },
     "2371ac8a6a43444f8ce214732cc4dd78": {
      "model_module": "@jupyter-widgets/controls",
      "model_module_version": "1.5.0",
      "model_name": "DropdownModel",
      "state": {
       "_options_labels": [
        "denies",
        "endorses"
       ],
       "description": "sleep",
       "index": 0,
       "layout": "IPY_MODEL_6ca1abb4c0974a9b85bd5dd3b0292df2",
       "style": "IPY_MODEL_535cf17dafd34b19ae9520648441304e"
      }
     },
     "2376137a79fc4f7ab1fedfae45d8b3b6": {
      "model_module": "@jupyter-widgets/output",
      "model_module_version": "1.0.0",
      "model_name": "OutputModel",
      "state": {
       "layout": "IPY_MODEL_a019ed7e3be449599e643a649ad8d300",
       "outputs": [
        {
         "name": "stdout",
         "output_type": "stream",
         "text": "\nMental Status Examination: \nAppearance: WD/WN, looks stated age, fair grooming and hygiene, casually dressed\nBehavior: Calm, cooperative, fair eye contact\nPsychomotor: No activation or retardation\nSpeech: Fluent, spontaneous\nMood: “It’s pretty good.” \nAffect: Euthymic, full-range, congruent with mood\nThought Process: Linear, logical\nThought Content: Denies SI/HI/AH/VH/delusions\nInsight/Judgement: Limited to fair/Fair\n\n"
        }
       ]
      }
     },
     "23c22e058155462fbcd457a81dd60939": {
      "model_module": "@jupyter-widgets/controls",
      "model_module_version": "1.5.0",
      "model_name": "DropdownModel",
      "state": {
       "_options_labels": [
        "denies",
        "endorses"
       ],
       "description": "suicide",
       "index": 0,
       "layout": "IPY_MODEL_6ca1abb4c0974a9b85bd5dd3b0292df2",
       "style": "IPY_MODEL_0134d570a9cb4483af8ede2a15a9aad5"
      }
     },
     "240d7c00076a4c21af673a65db617cb4": {
      "model_module": "@jupyter-widgets/controls",
      "model_module_version": "1.5.0",
      "model_name": "DescriptionStyleModel",
      "state": {
       "description_width": ""
      }
     },
     "2432be86a42c4e508952a5223c1da5a8": {
      "model_module": "@jupyter-widgets/controls",
      "model_module_version": "1.5.0",
      "model_name": "VBoxModel",
      "state": {
       "_dom_classes": [
        "widget-interact"
       ],
       "children": [
        "IPY_MODEL_e830d1c5f3644661bba55186094e18c5",
        "IPY_MODEL_30fe27d23be54879b2b9ccce1e86f44e"
       ],
       "layout": "IPY_MODEL_1087e4d2c88d4769a0714cbc9af83e73"
      }
     },
     "24ca18878bf34e4fbcfa2fee523e339b": {
      "model_module": "@jupyter-widgets/controls",
      "model_module_version": "1.5.0",
      "model_name": "DescriptionStyleModel",
      "state": {
       "description_width": ""
      }
     },
     "267178d9cffa4dc9ba9c9b8fd555710e": {
      "model_module": "@jupyter-widgets/output",
      "model_module_version": "1.0.0",
      "model_name": "OutputModel",
      "state": {
       "layout": "IPY_MODEL_4e5ec85b44fb45959497fcdfcd01a696",
       "outputs": [
        {
         "name": "stdout",
         "output_type": "stream",
         "text": "\nLabs and Studies:\nNone currently on file.\n\n"
        }
       ]
      }
     },
     "27059326ec9e44dbbbafa9b6b3c78b43": {
      "model_module": "@jupyter-widgets/base",
      "model_module_version": "1.2.0",
      "model_name": "LayoutModel",
      "state": {}
     },
     "278526a897024e7091aeabe06379b49e": {
      "model_module": "@jupyter-widgets/base",
      "model_module_version": "1.2.0",
      "model_name": "LayoutModel",
      "state": {}
     },
     "27a3173985804df39cf9df41c26d02bf": {
      "model_module": "@jupyter-widgets/controls",
      "model_module_version": "1.5.0",
      "model_name": "DescriptionStyleModel",
      "state": {
       "description_width": "150px"
      }
     },
     "27dcc0de6e094641a83e958cab3418ca": {
      "model_module": "@jupyter-widgets/controls",
      "model_module_version": "1.5.0",
      "model_name": "TextareaModel",
      "state": {
       "description": "previous_meds",
       "layout": "IPY_MODEL_6ca1abb4c0974a9b85bd5dd3b0292df2",
       "style": "IPY_MODEL_e25a23312a984dd785941b4d24f453f6",
       "value": "None"
      }
     },
     "28f024907dbd4f7d87aa704c0cfad8d7": {
      "model_module": "@jupyter-widgets/controls",
      "model_module_version": "1.5.0",
      "model_name": "DescriptionStyleModel",
      "state": {
       "description_width": "150px"
      }
     },
     "2997344101d341509f645c699184d9e5": {
      "model_module": "@jupyter-widgets/controls",
      "model_module_version": "1.5.0",
      "model_name": "DropdownModel",
      "state": {
       "_options_labels": [
        "denies",
        "endorses"
       ],
       "description": "hospitalization",
       "index": 0,
       "layout": "IPY_MODEL_6ca1abb4c0974a9b85bd5dd3b0292df2",
       "style": "IPY_MODEL_865f0492f9994fd68784b629ffd08b6c"
      }
     },
     "29d0dc3284f84c51b72e160947431ba0": {
      "model_module": "@jupyter-widgets/controls",
      "model_module_version": "1.5.0",
      "model_name": "DescriptionStyleModel",
      "state": {
       "description_width": "150px"
      }
     },
     "2a152efcc54f4646a26c16fd9761bab0": {
      "model_module": "@jupyter-widgets/controls",
      "model_module_version": "1.5.0",
      "model_name": "DescriptionStyleModel",
      "state": {
       "description_width": "150px"
      }
     },
     "2a692321ab1f48c3ae7de3cef491c269": {
      "model_module": "@jupyter-widgets/controls",
      "model_module_version": "1.5.0",
      "model_name": "TextareaModel",
      "state": {
       "description": "pcp plan:",
       "layout": "IPY_MODEL_43a64e3178354a1aabb700481845b0dc",
       "placeholder": "Type something",
       "style": "IPY_MODEL_d0745a4322354061bd90bf0ed5df765f",
       "value": "3. Medical and Lab: Per PCP. Patient encouraged to establish care with local PCP for routine physical and baseline labs."
      }
     },
     "2bc194d999244bd68138908376be8a22": {
      "model_module": "@jupyter-widgets/controls",
      "model_module_version": "1.5.0",
      "model_name": "DescriptionStyleModel",
      "state": {
       "description_width": "150px"
      }
     },
     "2bde354aab0b4e5b851f9de84be6fc5f": {
      "model_module": "@jupyter-widgets/controls",
      "model_module_version": "1.5.0",
      "model_name": "DropdownModel",
      "state": {
       "_options_labels": [
        "denies",
        "endorses"
       ],
       "description": "sustained_sadness",
       "index": 0,
       "layout": "IPY_MODEL_6ca1abb4c0974a9b85bd5dd3b0292df2",
       "style": "IPY_MODEL_b893fc0e5ece4926b0cbd514e7c44119"
      }
     },
     "2c43fb3bcc8049bd8afa7ee6eb06ee32": {
      "model_module": "@jupyter-widgets/controls",
      "model_module_version": "1.5.0",
      "model_name": "DescriptionStyleModel",
      "state": {
       "description_width": "150px"
      }
     },
     "2c8355b6f09b403d98de2ee2f9325962": {
      "model_module": "@jupyter-widgets/base",
      "model_module_version": "1.2.0",
      "model_name": "LayoutModel",
      "state": {}
     },
     "2ceb7af84c4946c896077c90868a3493": {
      "model_module": "@jupyter-widgets/output",
      "model_module_version": "1.0.0",
      "model_name": "OutputModel",
      "state": {
       "layout": "IPY_MODEL_23573e90e6084b8fa0f9492deaa8ba48",
       "outputs": [
        {
         "name": "stdout",
         "output_type": "stream",
         "text": "\nThis patient denies current depressed mood. \nOver the past several weeks, the patient denies sustained sadness, denies excessive guilt. \nThe patient denies anhedonia.\nThe patient reports fair ability to concentrate. \nThe patient denies issues with sleep. \nThe patient reports fair appetite.\nReports fair energy level. \nThe patient denies hopelessness, worthlessness, SI/HI/AH/VH/delusions.\nThey indicate they have experienced depressive episodes lasting longer than two weeks in the absence of substance use.\nThe patient denies current decreased need for sleep, euphoria \nor grandiosity or irritability, flights of idea, impulsivity, uncharacteristic talkativeness or rapid speech.\n\n\n"
        }
       ]
      }
     },
     "2e290dd7072e4c6f9d0a9d24fa958812": {
      "model_module": "@jupyter-widgets/controls",
      "model_module_version": "1.5.0",
      "model_name": "VBoxModel",
      "state": {
       "children": [
        "IPY_MODEL_e646518155cc432ea1ebe8fc17ee6b22",
        "IPY_MODEL_9292ce012b1d4765b194fbd03b25c243",
        "IPY_MODEL_f1307b2d2ed148b18bc97a66d2523543",
        "IPY_MODEL_5d11a11a25af4a8792de31a0d2a1af11"
       ],
       "layout": "IPY_MODEL_3bb93b89b97b44b3855c9ab329318d62"
      }
     },
     "2ed2b3a6e8c342c9bb99b3da185e2276": {
      "model_module": "@jupyter-widgets/base",
      "model_module_version": "1.2.0",
      "model_name": "LayoutModel",
      "state": {
       "height": "200px"
      }
     },
     "2fd10ce8507f4ceca346d80cfaf615ae": {
      "model_module": "@jupyter-widgets/output",
      "model_module_version": "1.0.0",
      "model_name": "OutputModel",
      "state": {
       "layout": "IPY_MODEL_e5383ae993d64c93920a7e799dd983c9",
       "outputs": [
        {
         "name": "stdout",
         "output_type": "stream",
         "text": "\nSocial History:\nThe patient states that they are single, and have 0 children. \nThey report that they are currently living . \nThe patient denies any history of legal problems.  \nThe patient denies a history of abuse.\n\n\n"
        }
       ]
      }
     },
     "300b040509ac4d3c92913d8e44ea3a06": {
      "model_module": "@jupyter-widgets/controls",
      "model_module_version": "1.5.0",
      "model_name": "DropdownModel",
      "state": {
       "_options_labels": [
        "denies",
        "endorses"
       ],
       "description": "tbi_medical",
       "index": 0,
       "layout": "IPY_MODEL_6ca1abb4c0974a9b85bd5dd3b0292df2",
       "style": "IPY_MODEL_5dbd6e9030064fafb4118aad8638ea0c"
      }
     },
     "30484244b9864d6eb276f5458a34909a": {
      "model_module": "@jupyter-widgets/controls",
      "model_module_version": "1.5.0",
      "model_name": "DescriptionStyleModel",
      "state": {
       "description_width": ""
      }
     },
     "30e5315303604026b6e2767131e6f2c8": {
      "model_module": "@jupyter-widgets/controls",
      "model_module_version": "1.5.0",
      "model_name": "DescriptionStyleModel",
      "state": {
       "description_width": "150px"
      }
     },
     "30fe27d23be54879b2b9ccce1e86f44e": {
      "model_module": "@jupyter-widgets/output",
      "model_module_version": "1.0.0",
      "model_name": "OutputModel",
      "state": {
       "layout": "IPY_MODEL_5f9b58e6b91c4574997bb3e04a5d50ec",
       "outputs": [
        {
         "name": "stdout",
         "output_type": "stream",
         "text": "\nAllergies:\nNKDA\n\n"
        }
       ]
      }
     },
     "310af9c8c6a64bc7a5e8196ab27b7bb9": {
      "model_module": "@jupyter-widgets/controls",
      "model_module_version": "1.5.0",
      "model_name": "DropdownModel",
      "state": {
       "_options_labels": [
        "denies",
        "endorses"
       ],
       "description": "hep_medical",
       "index": 0,
       "layout": "IPY_MODEL_6ca1abb4c0974a9b85bd5dd3b0292df2",
       "style": "IPY_MODEL_2c43fb3bcc8049bd8afa7ee6eb06ee32"
      }
     },
     "31112621d005486c979dbca4101e7bc2": {
      "model_module": "@jupyter-widgets/controls",
      "model_module_version": "1.5.0",
      "model_name": "CheckboxModel",
      "state": {
       "description": "Bipolar II disorder",
       "disabled": false,
       "layout": "IPY_MODEL_906046ff1c094f07b334ae2f061a7993",
       "style": "IPY_MODEL_ba47f78f11f845d1b54d83fad549c7ba",
       "value": false
      }
     },
     "32631bf505584c61a7b131d9d1e8b783": {
      "model_module": "@jupyter-widgets/controls",
      "model_module_version": "1.5.0",
      "model_name": "DescriptionStyleModel",
      "state": {
       "description_width": ""
      }
     },
     "3367943482894df1a10c8d3fef9f71d0": {
      "model_module": "@jupyter-widgets/base",
      "model_module_version": "1.2.0",
      "model_name": "LayoutModel",
      "state": {}
     },
     "3425784f222f4adeb5401c7c531dd62f": {
      "model_module": "@jupyter-widgets/controls",
      "model_module_version": "1.5.0",
      "model_name": "DescriptionStyleModel",
      "state": {
       "description_width": "150px"
      }
     },
     "3452f9b4dd6a4cd7997c8e7e7a6466ed": {
      "model_module": "@jupyter-widgets/base",
      "model_module_version": "1.2.0",
      "model_name": "LayoutModel",
      "state": {}
     },
     "358b54f98b35430893b7cfe3124ab8e4": {
      "model_module": "@jupyter-widgets/controls",
      "model_module_version": "1.5.0",
      "model_name": "TextareaModel",
      "state": {
       "description": "notes",
       "layout": "IPY_MODEL_6ca1abb4c0974a9b85bd5dd3b0292df2",
       "style": "IPY_MODEL_95a2efbd655842b99ca5dcf8dfff7125"
      }
     },
     "365e674cee834830a59831c728e5cf79": {
      "model_module": "@jupyter-widgets/controls",
      "model_module_version": "1.5.0",
      "model_name": "DescriptionStyleModel",
      "state": {
       "description_width": "150px"
      }
     },
     "36b8cebcdc964638bb42b6ddb5156e12": {
      "model_module": "@jupyter-widgets/base",
      "model_module_version": "1.2.0",
      "model_name": "LayoutModel",
      "state": {}
     },
     "371c9121c69e4b4b80646b779d1608d3": {
      "model_module": "@jupyter-widgets/base",
      "model_module_version": "1.2.0",
      "model_name": "LayoutModel",
      "state": {}
     },
     "373df1206fe34f5fabca3c1a27466585": {
      "model_module": "@jupyter-widgets/controls",
      "model_module_version": "1.5.0",
      "model_name": "DescriptionStyleModel",
      "state": {
       "description_width": "150px"
      }
     },
     "3741c9f62b544fd5bb0ada5d42281f92": {
      "model_module": "@jupyter-widgets/controls",
      "model_module_version": "1.5.0",
      "model_name": "TextareaModel",
      "state": {
       "description": "med plan:",
       "layout": "IPY_MODEL_aa3c0fc6dd5e45f0a5817574d6c1d3ca",
       "placeholder": "Type something",
       "style": "IPY_MODEL_240d7c00076a4c21af673a65db617cb4",
       "value": "4. Continue medication."
      }
     },
     "377385d7864a4d089e7077c936c4a1b5": {
      "model_module": "@jupyter-widgets/controls",
      "model_module_version": "1.5.0",
      "model_name": "DescriptionStyleModel",
      "state": {
       "description_width": "150px"
      }
     },
     "37b004014a944774ab8cf4c672e7ae16": {
      "model_module": "@jupyter-widgets/controls",
      "model_module_version": "1.5.0",
      "model_name": "DescriptionStyleModel",
      "state": {
       "description_width": ""
      }
     },
     "384d151c539042d8b923e7a2882f0291": {
      "model_module": "@jupyter-widgets/controls",
      "model_module_version": "1.5.0",
      "model_name": "DropdownModel",
      "state": {
       "_options_labels": [
        "denies",
        "endorses"
       ],
       "description": "cravings_choice",
       "index": 0,
       "layout": "IPY_MODEL_6ca1abb4c0974a9b85bd5dd3b0292df2",
       "style": "IPY_MODEL_e3a9d4a42b4748748fd150ccb111bea9"
      }
     },
     "38be4d73dd3f49098fbadc1a8710dc8b": {
      "model_module": "@jupyter-widgets/controls",
      "model_module_version": "1.5.0",
      "model_name": "CheckboxModel",
      "state": {
       "description": "Opioid use disorder Severe",
       "disabled": false,
       "layout": "IPY_MODEL_b81ac85c42f546949e2c4037f9a34cef",
       "style": "IPY_MODEL_37b004014a944774ab8cf4c672e7ae16",
       "value": false
      }
     },
     "397ff7cb92c04016853d4fa54fb9bc2e": {
      "model_module": "@jupyter-widgets/controls",
      "model_module_version": "1.5.0",
      "model_name": "DescriptionStyleModel",
      "state": {
       "description_width": ""
      }
     },
     "39e2f87be8a84f49812c845fb7a683a7": {
      "model_module": "@jupyter-widgets/base",
      "model_module_version": "1.2.0",
      "model_name": "LayoutModel",
      "state": {}
     },
     "3a75d1d208bf4bd29b33b0afd6b71d71": {
      "model_module": "@jupyter-widgets/base",
      "model_module_version": "1.2.0",
      "model_name": "LayoutModel",
      "state": {}
     },
     "3b2d5b968e4f4878a91f262c841c0813": {
      "model_module": "@jupyter-widgets/controls",
      "model_module_version": "1.5.0",
      "model_name": "DescriptionStyleModel",
      "state": {
       "description_width": "150px"
      }
     },
     "3b5809d9225f4067831c4ef310342a96": {
      "model_module": "@jupyter-widgets/base",
      "model_module_version": "1.2.0",
      "model_name": "LayoutModel",
      "state": {}
     },
     "3ba65c108425442e833b6d831c5f7d6b": {
      "model_module": "@jupyter-widgets/controls",
      "model_module_version": "1.5.0",
      "model_name": "DescriptionStyleModel",
      "state": {
       "description_width": "150px"
      }
     },
     "3bb93b89b97b44b3855c9ab329318d62": {
      "model_module": "@jupyter-widgets/base",
      "model_module_version": "1.2.0",
      "model_name": "LayoutModel",
      "state": {}
     },
     "3c76be7b0cc04fffbc396f62f72ca14c": {
      "model_module": "@jupyter-widgets/controls",
      "model_module_version": "1.5.0",
      "model_name": "DropdownModel",
      "state": {
       "_options_labels": [
        "denies",
        "endorses"
       ],
       "description": "past_trauma",
       "index": 0,
       "layout": "IPY_MODEL_6ca1abb4c0974a9b85bd5dd3b0292df2",
       "style": "IPY_MODEL_dcd0d164c5244ba988cfe530f907fe1a"
      }
     },
     "3c9d4d589e544db08c0cbbbcc7568ab9": {
      "model_module": "@jupyter-widgets/output",
      "model_module_version": "1.0.0",
      "model_name": "OutputModel",
      "state": {
       "layout": "IPY_MODEL_b155b30b37dd48d3ab4c586c16ca9c09",
       "outputs": [
        {
         "name": "stdout",
         "output_type": "stream",
         "text": "\nHistory of Present Illness:\nThe patient states that they decided to come to treatment because . \nPatient reports they have been sober for 4 days.\nThe patient denies withdrawals. The patient denies cravings.\nThe patient declines anti-craving medication.\nThe patient reports their substance use impacted their life negatively  \n \n    \n"
        }
       ]
      }
     },
     "3cc54dce08bb4caa9160372fd30997b9": {
      "model_module": "@jupyter-widgets/base",
      "model_module_version": "1.2.0",
      "model_name": "LayoutModel",
      "state": {}
     },
     "40b6a6db5a8b49869f6d4b0238ac24ae": {
      "model_module": "@jupyter-widgets/controls",
      "model_module_version": "1.5.0",
      "model_name": "DescriptionStyleModel",
      "state": {
       "description_width": "150px"
      }
     },
     "41e7522bdb4043d5bee8c6f3e92deb63": {
      "model_module": "@jupyter-widgets/output",
      "model_module_version": "1.0.0",
      "model_name": "OutputModel",
      "state": {
       "layout": "IPY_MODEL_8145621ecca04de1ac1c1d50c80fa617",
       "outputs": [
        {
         "name": "stdout",
         "output_type": "stream",
         "text": "\nPsychiatric History: \nPatient denies any history of psychiatric hospitalizations. \nPatient denies suicide attempts, \nPatient denies self-injurious behavior. \nPrevious meds: None \nCurrent outpatient psychiatrist: None\n\n\n"
        }
       ]
      }
     },
     "434a32c744fe4ee4914af4d017abb0c9": {
      "model_module": "@jupyter-widgets/controls",
      "model_module_version": "1.5.0",
      "model_name": "TextareaModel",
      "state": {
       "description": "notes",
       "layout": "IPY_MODEL_6ca1abb4c0974a9b85bd5dd3b0292df2",
       "style": "IPY_MODEL_50949bb6a8b8420785b304044ae879d6"
      }
     },
     "43a64e3178354a1aabb700481845b0dc": {
      "model_module": "@jupyter-widgets/base",
      "model_module_version": "1.2.0",
      "model_name": "LayoutModel",
      "state": {
       "height": "100px",
       "width": "500px"
      }
     },
     "447a50422c544a24a231cff36031c707": {
      "model_module": "@jupyter-widgets/base",
      "model_module_version": "1.2.0",
      "model_name": "LayoutModel",
      "state": {}
     },
     "44a4c7b3bec04746a9ec8d37c675775d": {
      "model_module": "@jupyter-widgets/controls",
      "model_module_version": "1.5.0",
      "model_name": "CheckboxModel",
      "state": {
       "description": "bipolar II disorder",
       "disabled": false,
       "layout": "IPY_MODEL_4e8e8deb644e4829a202761d60f6fd01",
       "style": "IPY_MODEL_486bb13441dd4c99bc7ae116bf233118",
       "value": false
      }
     },
     "44c5eb4ded2c4ab48e5aa418f680bc99": {
      "model_module": "@jupyter-widgets/controls",
      "model_module_version": "1.5.0",
      "model_name": "DescriptionStyleModel",
      "state": {
       "description_width": "150px"
      }
     },
     "4649d938aef94172be6c6926f349fdd0": {
      "model_module": "@jupyter-widgets/controls",
      "model_module_version": "1.5.0",
      "model_name": "DropdownModel",
      "state": {
       "_options_labels": [
        "Silicon Beach",
        "Momentum",
        "Create Recovery Center",
        "Casablanca"
       ],
       "description": "treatment_center:",
       "index": 2,
       "layout": "IPY_MODEL_fe28d58f745a45fa8581c62b7592965f",
       "style": "IPY_MODEL_84d1a55dddea4833885ccd368169c7b4"
      }
     },
     "486bb13441dd4c99bc7ae116bf233118": {
      "model_module": "@jupyter-widgets/controls",
      "model_module_version": "1.5.0",
      "model_name": "DescriptionStyleModel",
      "state": {
       "description_width": ""
      }
     },
     "48c6ece62b8946c08ea82eebd3459b87": {
      "model_module": "@jupyter-widgets/controls",
      "model_module_version": "1.5.0",
      "model_name": "DropdownModel",
      "state": {
       "_options_labels": [
        "a history",
        "no history"
       ],
       "description": "eating_disorder",
       "index": 1,
       "layout": "IPY_MODEL_6ca1abb4c0974a9b85bd5dd3b0292df2",
       "style": "IPY_MODEL_dd080e9ffd3348e8963d5ee24da3c0b0"
      }
     },
     "49759ffbf0c4418f8f8a4985586155ff": {
      "model_module": "@jupyter-widgets/controls",
      "model_module_version": "1.5.0",
      "model_name": "TextareaModel",
      "state": {
       "description": "Current mood:",
       "layout": "IPY_MODEL_f66fdc635a5b4249a3649589eabdb70c",
       "placeholder": "Type something",
       "style": "IPY_MODEL_e1ab6c92dbde41e983bc3e5f7bccda03",
       "value": "It’s pretty good."
      }
     },
     "4b1eba02aa9d44ba93f61a2cb6b8aeb9": {
      "model_module": "@jupyter-widgets/controls",
      "model_module_version": "1.5.0",
      "model_name": "VBoxModel",
      "state": {
       "children": [
        "IPY_MODEL_cefd040181954414a3ace4f7c4013084",
        "IPY_MODEL_cdfb38834ad444389ce890245dee596e",
        "IPY_MODEL_d1540e537f114bb6a5bb2622ffc41999",
        "IPY_MODEL_f091b2c45ddb47f5930607365f0f9b82",
        "IPY_MODEL_8f4f5482f6e34daca6262ac46e2ea75b",
        "IPY_MODEL_44a4c7b3bec04746a9ec8d37c675775d",
        "IPY_MODEL_01e0bc2f2f7d486584e38b3059ad0de4",
        "IPY_MODEL_8644548328744ed19eb7498b8a5faa51",
        "IPY_MODEL_f0c9de96307041eda5eff0392727ce7f",
        "IPY_MODEL_ada830d162e54a51bf20e22c5a839849"
       ],
       "layout": "IPY_MODEL_8c72f15885bf4e34bc3574bb51340033"
      }
     },
     "4bf81c8f4b0c492fb2d503d304f4080f": {
      "model_module": "@jupyter-widgets/controls",
      "model_module_version": "1.5.0",
      "model_name": "DescriptionStyleModel",
      "state": {
       "description_width": "150px"
      }
     },
     "4dba952bb761402986809b8f00b998d5": {
      "model_module": "@jupyter-widgets/controls",
      "model_module_version": "1.5.0",
      "model_name": "DescriptionStyleModel",
      "state": {
       "description_width": ""
      }
     },
     "4e5ec85b44fb45959497fcdfcd01a696": {
      "model_module": "@jupyter-widgets/base",
      "model_module_version": "1.2.0",
      "model_name": "LayoutModel",
      "state": {}
     },
     "4e8e8deb644e4829a202761d60f6fd01": {
      "model_module": "@jupyter-widgets/base",
      "model_module_version": "1.2.0",
      "model_name": "LayoutModel",
      "state": {}
     },
     "4ea19e66ffea44e7a537dbe0a3d8454c": {
      "model_module": "@jupyter-widgets/controls",
      "model_module_version": "1.5.0",
      "model_name": "CheckboxModel",
      "state": {
       "description": "polysubstance",
       "disabled": false,
       "layout": "IPY_MODEL_e5c807bf6d4b4521b5bfa15b0ee116c4",
       "style": "IPY_MODEL_17785c68d46e4670a54ad50f2d95dac4",
       "value": false
      }
     },
     "4f871885ed2d48388193936c34bfaa63": {
      "model_module": "@jupyter-widgets/controls",
      "model_module_version": "1.5.0",
      "model_name": "CheckboxModel",
      "state": {
       "description": "alcohol",
       "disabled": false,
       "layout": "IPY_MODEL_c19a1bf16b1240fab0e3a775f6fcafca",
       "style": "IPY_MODEL_79216363d026439eb835689a21dde077",
       "value": false
      }
     },
     "5037eeb29bd0498b9bac24503ccac771": {
      "model_module": "@jupyter-widgets/controls",
      "model_module_version": "1.5.0",
      "model_name": "DropdownModel",
      "state": {
       "_options_labels": [
        "denies",
        "endorses"
       ],
       "description": "abuse",
       "index": 0,
       "layout": "IPY_MODEL_6ca1abb4c0974a9b85bd5dd3b0292df2",
       "style": "IPY_MODEL_2a152efcc54f4646a26c16fd9761bab0"
      }
     },
     "50949bb6a8b8420785b304044ae879d6": {
      "model_module": "@jupyter-widgets/controls",
      "model_module_version": "1.5.0",
      "model_name": "DescriptionStyleModel",
      "state": {
       "description_width": "150px"
      }
     },
     "519e1974b8cc4adeb227605ced65e98a": {
      "model_module": "@jupyter-widgets/controls",
      "model_module_version": "1.5.0",
      "model_name": "DescriptionStyleModel",
      "state": {
       "description_width": "150px"
      }
     },
     "51aaa7f94a8c4dac9d232de337f673a0": {
      "model_module": "@jupyter-widgets/output",
      "model_module_version": "1.0.0",
      "model_name": "OutputModel",
      "state": {
       "layout": "IPY_MODEL_b0ea61871eb345bab9a1c914096f52ff",
       "outputs": [
        {
         "name": "stdout",
         "output_type": "stream",
         "text": "\nSubstance Use History:\nThe patient states that their primary substances of abuse include\nnothing with daily use for periods greater than \n6 months with resulting impairment in functioning. \nThey state that they have been in residential treatment 0 times, \nwith their longest period of sobriety lasting 0 days. \nThe patient denies history of IVDU. \nPatient denies seizures, complicated withdrawal, and DTs.\n\n    \n"
        }
       ]
      }
     },
     "52ab9bf1c48b4809bf515fb199fe8076": {
      "model_module": "@jupyter-widgets/controls",
      "model_module_version": "1.5.0",
      "model_name": "DescriptionStyleModel",
      "state": {
       "description_width": ""
      }
     },
     "53207a79206e4df280207af3c3ae5c99": {
      "model_module": "@jupyter-widgets/controls",
      "model_module_version": "1.5.0",
      "model_name": "DescriptionStyleModel",
      "state": {
       "description_width": ""
      }
     },
     "5329c11e09e04847bf9932360ae23df2": {
      "model_module": "@jupyter-widgets/controls",
      "model_module_version": "1.5.0",
      "model_name": "DropdownModel",
      "state": {
       "_options_labels": [
        "denies",
        "endorses"
       ],
       "description": "withdrawals_choice",
       "index": 0,
       "layout": "IPY_MODEL_6ca1abb4c0974a9b85bd5dd3b0292df2",
       "style": "IPY_MODEL_377385d7864a4d089e7077c936c4a1b5"
      }
     },
     "53514f0caa6c490db986efd6e1ebfb14": {
      "model_module": "@jupyter-widgets/base",
      "model_module_version": "1.2.0",
      "model_name": "LayoutModel",
      "state": {}
     },
     "535cf17dafd34b19ae9520648441304e": {
      "model_module": "@jupyter-widgets/controls",
      "model_module_version": "1.5.0",
      "model_name": "DescriptionStyleModel",
      "state": {
       "description_width": "150px"
      }
     },
     "53836c9618ed46f9b1cdc95e738c1f61": {
      "model_module": "@jupyter-widgets/controls",
      "model_module_version": "1.5.0",
      "model_name": "VBoxModel",
      "state": {
       "_dom_classes": [
        "widget-interact"
       ],
       "children": [
        "IPY_MODEL_6e1dd01c29294572b2ae5e77ed6d3914",
        "IPY_MODEL_b381a36815664d5eadcdd20a24374b8f",
        "IPY_MODEL_6f0cf25e2ef6486393b23c572a305574",
        "IPY_MODEL_dea156597bb247b992d000379f41e107",
        "IPY_MODEL_5037eeb29bd0498b9bac24503ccac771",
        "IPY_MODEL_f0b45eb62de741ec9e79e89b19de74b6",
        "IPY_MODEL_2fd10ce8507f4ceca346d80cfaf615ae"
       ],
       "layout": "IPY_MODEL_53514f0caa6c490db986efd6e1ebfb14"
      }
     },
     "53d06c644a7b46cbba6612a0ee895639": {
      "model_module": "@jupyter-widgets/base",
      "model_module_version": "1.2.0",
      "model_name": "LayoutModel",
      "state": {}
     },
     "543549e43c654fcb9027e7bfefbf6b7a": {
      "model_module": "@jupyter-widgets/base",
      "model_module_version": "1.2.0",
      "model_name": "LayoutModel",
      "state": {}
     },
     "54d99072a43a4502bffb34e399f836c6": {
      "model_module": "@jupyter-widgets/controls",
      "model_module_version": "1.5.0",
      "model_name": "DropdownModel",
      "state": {
       "_options_labels": [
        "good",
        "fair",
        "poor"
       ],
       "description": "concentration",
       "index": 1,
       "layout": "IPY_MODEL_6ca1abb4c0974a9b85bd5dd3b0292df2",
       "style": "IPY_MODEL_d00f3485ff5b4264aaf14cbdb1371c95"
      }
     },
     "550aa218965a461f9bc80b370e82f2f5": {
      "model_module": "@jupyter-widgets/output",
      "model_module_version": "1.0.0",
      "model_name": "OutputModel",
      "state": {
       "layout": "IPY_MODEL_c5999d58e8eb4cd88f5666e2ac53fd85",
       "outputs": [
        {
         "name": "stdout",
         "output_type": "stream",
         "text": "\nMedical History:\nThe patient denies any acute medical conditions. \nThe patient denies any history of HIV. \nThe patient denies any history of hepatitis.\nThe patient denies any history of TBI.\n\n\n"
        }
       ]
      }
     },
     "5527beaeff044bd8a12aad4f67651a68": {
      "model_module": "@jupyter-widgets/base",
      "model_module_version": "1.2.0",
      "model_name": "LayoutModel",
      "state": {}
     },
     "55292650e777465da31a40547a0249db": {
      "model_module": "@jupyter-widgets/controls",
      "model_module_version": "1.5.0",
      "model_name": "DescriptionStyleModel",
      "state": {
       "description_width": "150px"
      }
     },
     "556702f9feab41cdae7d2366cbc16dd3": {
      "model_module": "@jupyter-widgets/controls",
      "model_module_version": "1.5.0",
      "model_name": "DescriptionStyleModel",
      "state": {
       "description_width": ""
      }
     },
     "5656d708b0e64252807ca840b82ad75d": {
      "model_module": "@jupyter-widgets/controls",
      "model_module_version": "1.5.0",
      "model_name": "CheckboxModel",
      "state": {
       "description": "Unspecified Anxiety Disorder",
       "disabled": false,
       "layout": "IPY_MODEL_bcc9ecfd00fc4bcea825d5720c1d6b43",
       "style": "IPY_MODEL_619ed20ea23349eca5ccc4139aa4e06b",
       "value": false
      }
     },
     "57231c1855804d289505d05df61f8e19": {
      "model_module": "@jupyter-widgets/controls",
      "model_module_version": "1.5.0",
      "model_name": "DescriptionStyleModel",
      "state": {
       "description_width": ""
      }
     },
     "57fea0c1bbb34d91b7cfcdba0468c3d4": {
      "model_module": "@jupyter-widgets/controls",
      "model_module_version": "1.5.0",
      "model_name": "DropdownModel",
      "state": {
       "_options_labels": [
        "denies",
        "endorses"
       ],
       "description": "anxiety",
       "index": 0,
       "layout": "IPY_MODEL_6ca1abb4c0974a9b85bd5dd3b0292df2",
       "style": "IPY_MODEL_e9f171e311f94076acee2ce98d1edd3b"
      }
     },
     "5835c5d8d7f14164aa013a0c0e521b5d": {
      "model_module": "@jupyter-widgets/controls",
      "model_module_version": "1.5.0",
      "model_name": "DescriptionStyleModel",
      "state": {
       "description_width": ""
      }
     },
     "59450a62a4254457ba769158623072b1": {
      "model_module": "@jupyter-widgets/controls",
      "model_module_version": "1.5.0",
      "model_name": "TextareaModel",
      "state": {
       "description": "notes",
       "layout": "IPY_MODEL_6ca1abb4c0974a9b85bd5dd3b0292df2",
       "style": "IPY_MODEL_30e5315303604026b6e2767131e6f2c8"
      }
     },
     "5b0dce47bb2149a988847bdff1ae2cb4": {
      "model_module": "@jupyter-widgets/base",
      "model_module_version": "1.2.0",
      "model_name": "LayoutModel",
      "state": {}
     },
     "5c063488a31741cca7cef86d597cb87a": {
      "model_module": "@jupyter-widgets/base",
      "model_module_version": "1.2.0",
      "model_name": "LayoutModel",
      "state": {}
     },
     "5c611c636697430494e4fe0263b721b5": {
      "model_module": "@jupyter-widgets/controls",
      "model_module_version": "1.5.0",
      "model_name": "DescriptionStyleModel",
      "state": {
       "description_width": "150px"
      }
     },
     "5d11a11a25af4a8792de31a0d2a1af11": {
      "model_module": "@jupyter-widgets/controls",
      "model_module_version": "1.5.0",
      "model_name": "CheckboxModel",
      "state": {
       "description": "Alcohol use disorder Severe",
       "disabled": false,
       "layout": "IPY_MODEL_dd867f5e1a184d96be44a99bbc56805e",
       "style": "IPY_MODEL_6bd671d4a35f4eb58d3d4264880c629e",
       "value": false
      }
     },
     "5d1d6d6ef50e45bd913146bded827b07": {
      "model_module": "@jupyter-widgets/base",
      "model_module_version": "1.2.0",
      "model_name": "LayoutModel",
      "state": {}
     },
     "5dbd6e9030064fafb4118aad8638ea0c": {
      "model_module": "@jupyter-widgets/controls",
      "model_module_version": "1.5.0",
      "model_name": "DescriptionStyleModel",
      "state": {
       "description_width": "150px"
      }
     },
     "5eefca396d7f474e93ad67c47d4bfc25": {
      "model_module": "@jupyter-widgets/controls",
      "model_module_version": "1.5.0",
      "model_name": "DescriptionStyleModel",
      "state": {
       "description_width": "150px"
      }
     },
     "5f9b58e6b91c4574997bb3e04a5d50ec": {
      "model_module": "@jupyter-widgets/base",
      "model_module_version": "1.2.0",
      "model_name": "LayoutModel",
      "state": {}
     },
     "61121a37146244c297ef046d7d46733b": {
      "model_module": "@jupyter-widgets/controls",
      "model_module_version": "1.5.0",
      "model_name": "DescriptionStyleModel",
      "state": {
       "description_width": "150px"
      }
     },
     "6193521e4b174f5f93e51ec52bc1493b": {
      "model_module": "@jupyter-widgets/controls",
      "model_module_version": "1.5.0",
      "model_name": "CheckboxModel",
      "state": {
       "description": "sedative, hypnotic, or anxiolytic",
       "disabled": false,
       "layout": "IPY_MODEL_bc630083804748dfbee516d5a2edd542",
       "style": "IPY_MODEL_5835c5d8d7f14164aa013a0c0e521b5d",
       "value": false
      }
     },
     "619ed20ea23349eca5ccc4139aa4e06b": {
      "model_module": "@jupyter-widgets/controls",
      "model_module_version": "1.5.0",
      "model_name": "DescriptionStyleModel",
      "state": {
       "description_width": ""
      }
     },
     "61a9e85b868542fc98f84b8bf23325e2": {
      "model_module": "@jupyter-widgets/output",
      "model_module_version": "1.0.0",
      "model_name": "OutputModel",
      "state": {
       "layout": "IPY_MODEL_36b8cebcdc964638bb42b6ddb5156e12",
       "outputs": [
        {
         "name": "stdout",
         "output_type": "stream",
         "text": "\nThe patient reported no history of mania.\nThe patient reported no history of psychosis. \nThe patient reported no history of  learning disabilities, OCD or tics. \nThe patient reported no history of an eating disorder. \nThe patient reported no history of compulsive gambling, problematic internet/video game use, compulsive shopping, or sexual addiction. \n\n\n"
        }
       ]
      }
     },
     "626ce05b18ca4d2887e3bcdaa21f8454": {
      "model_module": "@jupyter-widgets/output",
      "model_module_version": "1.0.0",
      "model_name": "OutputModel",
      "state": {
       "layout": "IPY_MODEL_de92cab07f684e449171b9c5df1b7922",
       "outputs": [
        {
         "name": "stdout",
         "output_type": "stream",
         "text": "\nThe patient denies that they have sustained significant trauma, \ndenies current symptoms of PTSD including flashbacks, nightmares, hypervigilance, triggers, \nand avoidance of triggers.\n\n\n"
        }
       ]
      }
     },
     "629d799977ba49aeb539f64522b569ee": {
      "model_module": "@jupyter-widgets/controls",
      "model_module_version": "1.5.0",
      "model_name": "TextareaModel",
      "state": {
       "description": "negative_impact",
       "layout": "IPY_MODEL_6ca1abb4c0974a9b85bd5dd3b0292df2",
       "placeholder": "Type Something",
       "style": "IPY_MODEL_675b91ab8f6f4d088f477d6ba4a94f13"
      }
     },
     "64521613d98d418d8735b0717bf26b2e": {
      "model_module": "@jupyter-widgets/controls",
      "model_module_version": "1.5.0",
      "model_name": "DropdownModel",
      "state": {
       "_options_labels": [
        "days",
        "weeks",
        "months",
        "years"
       ],
       "description": "longest_sober_period",
       "index": 0,
       "layout": "IPY_MODEL_6ca1abb4c0974a9b85bd5dd3b0292df2",
       "style": "IPY_MODEL_519e1974b8cc4adeb227605ced65e98a"
      }
     },
     "64a6755a00f54085961656b06152b60f": {
      "model_module": "@jupyter-widgets/base",
      "model_module_version": "1.2.0",
      "model_name": "LayoutModel",
      "state": {}
     },
     "65a2317457384a849d283e07a418d839": {
      "model_module": "@jupyter-widgets/base",
      "model_module_version": "1.2.0",
      "model_name": "LayoutModel",
      "state": {}
     },
     "66a430e7b20942e59301983c5acf6ffa": {
      "model_module": "@jupyter-widgets/controls",
      "model_module_version": "1.5.0",
      "model_name": "VBoxModel",
      "state": {
       "_dom_classes": [
        "widget-interact"
       ],
       "children": [
        "IPY_MODEL_0fdc07c698284a828f1abd66c43222c9",
        "IPY_MODEL_2bde354aab0b4e5b851f9de84be6fc5f",
        "IPY_MODEL_9e12a70cc0b24b5d8517d407f5320012",
        "IPY_MODEL_ede372a445d14fd4b6003f6f411a8cc4",
        "IPY_MODEL_2371ac8a6a43444f8ce214732cc4dd78",
        "IPY_MODEL_a26755ee5b7c4a18bb07a20e1ae21f13",
        "IPY_MODEL_c91f1f18a95f4878a8fd6b84c0b78486",
        "IPY_MODEL_54d99072a43a4502bffb34e399f836c6",
        "IPY_MODEL_ffad1dd90e374cda88cf494b6656040c",
        "IPY_MODEL_a038eb9d369d4c1cae614594be440edf",
        "IPY_MODEL_71101c1c1f434aadbe70a384b7d6ead2",
        "IPY_MODEL_0c21d30145334326b659737add6065f8",
        "IPY_MODEL_2ceb7af84c4946c896077c90868a3493"
       ],
       "layout": "IPY_MODEL_f9207524794246e6940873bfb8a22f5f"
      }
     },
     "675b91ab8f6f4d088f477d6ba4a94f13": {
      "model_module": "@jupyter-widgets/controls",
      "model_module_version": "1.5.0",
      "model_name": "DescriptionStyleModel",
      "state": {
       "description_width": "150px"
      }
     },
     "69bb34c7c9f84b828714616ef1ac5328": {
      "model_module": "@jupyter-widgets/base",
      "model_module_version": "1.2.0",
      "model_name": "LayoutModel",
      "state": {}
     },
     "6ae43f3cf99d48ccb9f831d722f93b3c": {
      "model_module": "@jupyter-widgets/base",
      "model_module_version": "1.2.0",
      "model_name": "LayoutModel",
      "state": {}
     },
     "6b15f0994d554b8f92cbc8c0ec311b59": {
      "model_module": "@jupyter-widgets/controls",
      "model_module_version": "1.5.0",
      "model_name": "DescriptionStyleModel",
      "state": {
       "description_width": ""
      }
     },
     "6ba3868fd8e94261bade00383e151850": {
      "model_module": "@jupyter-widgets/controls",
      "model_module_version": "1.5.0",
      "model_name": "TextareaModel",
      "state": {
       "description": "notes",
       "layout": "IPY_MODEL_6ca1abb4c0974a9b85bd5dd3b0292df2",
       "style": "IPY_MODEL_5c611c636697430494e4fe0263b721b5"
      }
     },
     "6bd671d4a35f4eb58d3d4264880c629e": {
      "model_module": "@jupyter-widgets/controls",
      "model_module_version": "1.5.0",
      "model_name": "DescriptionStyleModel",
      "state": {
       "description_width": ""
      }
     },
     "6ca1abb4c0974a9b85bd5dd3b0292df2": {
      "model_module": "@jupyter-widgets/base",
      "model_module_version": "1.2.0",
      "model_name": "LayoutModel",
      "state": {
       "width": "50%"
      }
     },
     "6cbad3a6220446129e04d2e52c5bb991": {
      "model_module": "@jupyter-widgets/controls",
      "model_module_version": "1.5.0",
      "model_name": "DescriptionStyleModel",
      "state": {
       "description_width": "150px"
      }
     },
     "6cef39ea73954365b04f4c3fd59f5152": {
      "model_module": "@jupyter-widgets/base",
      "model_module_version": "1.2.0",
      "model_name": "LayoutModel",
      "state": {}
     },
     "6e1dd01c29294572b2ae5e77ed6d3914": {
      "model_module": "@jupyter-widgets/controls",
      "model_module_version": "1.5.0",
      "model_name": "DropdownModel",
      "state": {
       "_options_labels": [
        "single",
        "married"
       ],
       "description": "married",
       "index": 0,
       "layout": "IPY_MODEL_6ca1abb4c0974a9b85bd5dd3b0292df2",
       "style": "IPY_MODEL_7937e999e14b450798d5d4353c1944a1"
      }
     },
     "6f0cf25e2ef6486393b23c572a305574": {
      "model_module": "@jupyter-widgets/controls",
      "model_module_version": "1.5.0",
      "model_name": "ComboboxModel",
      "state": {
       "description": "home",
       "ensure_option": false,
       "layout": "IPY_MODEL_6ca1abb4c0974a9b85bd5dd3b0292df2",
       "options": [
        "in sober living",
        "at home"
       ],
       "style": "IPY_MODEL_04af655214624d2e8e50e7df78571659"
      }
     },
     "70497cd9107a479b8aa7ac474d1c00f4": {
      "model_module": "@jupyter-widgets/controls",
      "model_module_version": "1.5.0",
      "model_name": "DescriptionStyleModel",
      "state": {
       "description_width": "150px"
      }
     },
     "71101c1c1f434aadbe70a384b7d6ead2": {
      "model_module": "@jupyter-widgets/controls",
      "model_module_version": "1.5.0",
      "model_name": "DropdownModel",
      "state": {
       "_options_labels": [
        "denies",
        "endorses"
       ],
       "description": "mania",
       "index": 0,
       "layout": "IPY_MODEL_6ca1abb4c0974a9b85bd5dd3b0292df2",
       "style": "IPY_MODEL_d72b1770a89546f981d0ebcb2cf495a5"
      }
     },
     "711fefc230ee48b69cf933fb3454ad48": {
      "model_module": "@jupyter-widgets/controls",
      "model_module_version": "1.5.0",
      "model_name": "HBoxModel",
      "state": {
       "children": [
        "IPY_MODEL_cebd19c6df1341f08f0cc4925a81ab39",
        "IPY_MODEL_bb85d42d74094b5da0fde33aec444ff2"
       ],
       "layout": "IPY_MODEL_3cc54dce08bb4caa9160372fd30997b9"
      }
     },
     "71b200da96ca427282116f5a72527fb5": {
      "model_module": "@jupyter-widgets/controls",
      "model_module_version": "1.5.0",
      "model_name": "DescriptionStyleModel",
      "state": {
       "description_width": ""
      }
     },
     "72b8e769f7594a97b7f1a32e940a65a1": {
      "model_module": "@jupyter-widgets/base",
      "model_module_version": "1.2.0",
      "model_name": "LayoutModel",
      "state": {}
     },
     "74b04b0b20364944b1d89ab6066179e5": {
      "model_module": "@jupyter-widgets/base",
      "model_module_version": "1.2.0",
      "model_name": "LayoutModel",
      "state": {}
     },
     "75980e74a0d9412584c2f3d286b46050": {
      "model_module": "@jupyter-widgets/base",
      "model_module_version": "1.2.0",
      "model_name": "LayoutModel",
      "state": {}
     },
     "75dbab08417248d49a33e208315f731a": {
      "model_module": "@jupyter-widgets/controls",
      "model_module_version": "1.5.0",
      "model_name": "VBoxModel",
      "state": {
       "_dom_classes": [
        "widget-interact"
       ],
       "children": [
        "IPY_MODEL_06addb645684467ca422bf4edd76a309",
        "IPY_MODEL_5329c11e09e04847bf9932360ae23df2",
        "IPY_MODEL_384d151c539042d8b923e7a2882f0291",
        "IPY_MODEL_7a39e8b869844a7890a5fb2cd4957899",
        "IPY_MODEL_d7b7c16a1fb64f498baffcc42a14dce9",
        "IPY_MODEL_ce06f6e7b1a0400192634ae18e6b98e3",
        "IPY_MODEL_629d799977ba49aeb539f64522b569ee",
        "IPY_MODEL_867f88918fc349dcb0f564594982fc87",
        "IPY_MODEL_3c9d4d589e544db08c0cbbbcc7568ab9"
       ],
       "layout": "IPY_MODEL_fe779ac7a7034dcf8bd6ea5ef053ffca"
      }
     },
     "764c465f802c4e98b79f402cf672c06a": {
      "model_module": "@jupyter-widgets/controls",
      "model_module_version": "1.5.0",
      "model_name": "CheckboxModel",
      "state": {
       "description": "fentanyl",
       "disabled": false,
       "layout": "IPY_MODEL_a40dc7ac397f441aa66fe2e3d10ae3a9",
       "style": "IPY_MODEL_b5366678f9ec424f9b1e86b1d22d5448",
       "value": false
      }
     },
     "783073b8c24643f584d290521162b8a6": {
      "model_module": "@jupyter-widgets/controls",
      "model_module_version": "1.5.0",
      "model_name": "VBoxModel",
      "state": {
       "children": [
        "IPY_MODEL_d34e3fea8b614e79a9f2a2717c7f1162",
        "IPY_MODEL_c096380afa1147af8f08257f99854437",
        "IPY_MODEL_857092f81c034fe3a8584c1ce7ce1207",
        "IPY_MODEL_4649d938aef94172be6c6926f349fdd0"
       ],
       "layout": "IPY_MODEL_e3815a20d83f4ada9e60407329027818"
      }
     },
     "788be75013c748298f0620476da29d18": {
      "model_module": "@jupyter-widgets/controls",
      "model_module_version": "1.5.0",
      "model_name": "DescriptionStyleModel",
      "state": {
       "description_width": ""
      }
     },
     "79216363d026439eb835689a21dde077": {
      "model_module": "@jupyter-widgets/controls",
      "model_module_version": "1.5.0",
      "model_name": "DescriptionStyleModel",
      "state": {
       "description_width": ""
      }
     },
     "7937e999e14b450798d5d4353c1944a1": {
      "model_module": "@jupyter-widgets/controls",
      "model_module_version": "1.5.0",
      "model_name": "DescriptionStyleModel",
      "state": {
       "description_width": "150px"
      }
     },
     "7a39e8b869844a7890a5fb2cd4957899": {
      "model_module": "@jupyter-widgets/controls",
      "model_module_version": "1.5.0",
      "model_name": "DropdownModel",
      "state": {
       "_options_labels": [
        "declines",
        "elects to start",
        "would like to continue with"
       ],
       "description": "anti_cravings_choice",
       "index": 0,
       "layout": "IPY_MODEL_6ca1abb4c0974a9b85bd5dd3b0292df2",
       "style": "IPY_MODEL_7f8d57510c3f4f558634faf9b5594807"
      }
     },
     "7a54aa3f4dc34b70b6f7de5167f819c5": {
      "model_module": "@jupyter-widgets/controls",
      "model_module_version": "1.5.0",
      "model_name": "DescriptionStyleModel",
      "state": {
       "description_width": "150px"
      }
     },
     "7cf693c7c23b4dbdbfcb2d50143f105f": {
      "model_module": "@jupyter-widgets/controls",
      "model_module_version": "1.5.0",
      "model_name": "CheckboxModel",
      "state": {
       "description": "ketamine",
       "disabled": false,
       "layout": "IPY_MODEL_d5c47b78fde2486083e49dc23a8d5568",
       "style": "IPY_MODEL_4dba952bb761402986809b8f00b998d5",
       "value": false
      }
     },
     "7d7b2dfdfe864fbe8287c1d24f38c360": {
      "model_module": "@jupyter-widgets/base",
      "model_module_version": "1.2.0",
      "model_name": "LayoutModel",
      "state": {}
     },
     "7dc52b61defe4d30853ade796f319971": {
      "model_module": "@jupyter-widgets/controls",
      "model_module_version": "1.5.0",
      "model_name": "CheckboxModel",
      "state": {
       "description": "Cannabis use disorder Severe",
       "disabled": false,
       "layout": "IPY_MODEL_f6834fed0f5b48cca20a941f8c5aed1e",
       "style": "IPY_MODEL_b8c0538812bd4dcab15b591b25fd2690",
       "value": false
      }
     },
     "7f8d57510c3f4f558634faf9b5594807": {
      "model_module": "@jupyter-widgets/controls",
      "model_module_version": "1.5.0",
      "model_name": "DescriptionStyleModel",
      "state": {
       "description_width": "150px"
      }
     },
     "7f992d3f48604c4d99118bf8476bab55": {
      "model_module": "@jupyter-widgets/base",
      "model_module_version": "1.2.0",
      "model_name": "LayoutModel",
      "state": {}
     },
     "7fa606936d6042728ac8049e40eb0c99": {
      "model_module": "@jupyter-widgets/base",
      "model_module_version": "1.2.0",
      "model_name": "LayoutModel",
      "state": {}
     },
     "7fb24ccd5a994d4cae7111d33951db14": {
      "model_module": "@jupyter-widgets/controls",
      "model_module_version": "1.5.0",
      "model_name": "DescriptionStyleModel",
      "state": {
       "description_width": "150px"
      }
     },
     "8145621ecca04de1ac1c1d50c80fa617": {
      "model_module": "@jupyter-widgets/base",
      "model_module_version": "1.2.0",
      "model_name": "LayoutModel",
      "state": {}
     },
     "84cd2b01cb134e6f9b687f8f5fca18c8": {
      "model_module": "@jupyter-widgets/controls",
      "model_module_version": "1.5.0",
      "model_name": "DropdownModel",
      "state": {
       "_options_labels": [
        "denies",
        "endorses"
       ],
       "description": "current_trauma",
       "index": 0,
       "layout": "IPY_MODEL_6ca1abb4c0974a9b85bd5dd3b0292df2",
       "style": "IPY_MODEL_cf54a56708f54934ad404a1cef6b03c5"
      }
     },
     "84d1a55dddea4833885ccd368169c7b4": {
      "model_module": "@jupyter-widgets/controls",
      "model_module_version": "1.5.0",
      "model_name": "DescriptionStyleModel",
      "state": {
       "description_width": ""
      }
     },
     "850ab1b5e69048d08f6e6f181b4b85dc": {
      "model_module": "@jupyter-widgets/controls",
      "model_module_version": "1.5.0",
      "model_name": "TextareaModel",
      "state": {
       "description": "notes",
       "layout": "IPY_MODEL_6ca1abb4c0974a9b85bd5dd3b0292df2",
       "style": "IPY_MODEL_1b3abd33be314f8eb39df44afd2e4ca0"
      }
     },
     "857092f81c034fe3a8584c1ce7ce1207": {
      "model_module": "@jupyter-widgets/controls",
      "model_module_version": "1.5.0",
      "model_name": "DropdownModel",
      "state": {
       "_options_labels": [
        "male",
        "female",
        "nb"
       ],
       "description": "gender:",
       "index": 0,
       "layout": "IPY_MODEL_74b04b0b20364944b1d89ab6066179e5",
       "style": "IPY_MODEL_ca867ad318074d1da8183b360d9b32f5"
      }
     },
     "8582037d1ce7426aa10a53bbfd137255": {
      "model_module": "@jupyter-widgets/controls",
      "model_module_version": "1.5.0",
      "model_name": "CheckboxModel",
      "state": {
       "description": "cocaine",
       "disabled": false,
       "layout": "IPY_MODEL_69bb34c7c9f84b828714616ef1ac5328",
       "style": "IPY_MODEL_8e6220bcdb844790904288c74cb18688",
       "value": false
      }
     },
     "8644548328744ed19eb7498b8a5faa51": {
      "model_module": "@jupyter-widgets/controls",
      "model_module_version": "1.5.0",
      "model_name": "CheckboxModel",
      "state": {
       "description": "psychosis",
       "disabled": false,
       "layout": "IPY_MODEL_3367943482894df1a10c8d3fef9f71d0",
       "style": "IPY_MODEL_397ff7cb92c04016853d4fa54fb9bc2e",
       "value": false
      }
     },
     "865debdca58a430e812dd5da084bfc10": {
      "model_module": "@jupyter-widgets/controls",
      "model_module_version": "1.5.0",
      "model_name": "DescriptionStyleModel",
      "state": {
       "description_width": ""
      }
     },
     "865f0492f9994fd68784b629ffd08b6c": {
      "model_module": "@jupyter-widgets/controls",
      "model_module_version": "1.5.0",
      "model_name": "DescriptionStyleModel",
      "state": {
       "description_width": "150px"
      }
     },
     "867f88918fc349dcb0f564594982fc87": {
      "model_module": "@jupyter-widgets/controls",
      "model_module_version": "1.5.0",
      "model_name": "TextModel",
      "state": {
       "description": "notes",
       "layout": "IPY_MODEL_6ca1abb4c0974a9b85bd5dd3b0292df2",
       "style": "IPY_MODEL_2bc194d999244bd68138908376be8a22"
      }
     },
     "89f3f7215a5c4882890ad13beb01cf95": {
      "model_module": "@jupyter-widgets/controls",
      "model_module_version": "1.5.0",
      "model_name": "VBoxModel",
      "state": {
       "children": [
        "IPY_MODEL_783073b8c24643f584d290521162b8a6",
        "IPY_MODEL_b6e1e260f00c4530ba49279c945a1a63"
       ],
       "layout": "IPY_MODEL_2c8355b6f09b403d98de2ee2f9325962"
      }
     },
     "8a3fb53d569d403485db2e4225f3d62e": {
      "model_module": "@jupyter-widgets/controls",
      "model_module_version": "1.5.0",
      "model_name": "DropdownModel",
      "state": {
       "_options_labels": [
        "a history",
        "no history"
       ],
       "description": "learning_disabilties",
       "index": 1,
       "layout": "IPY_MODEL_6ca1abb4c0974a9b85bd5dd3b0292df2",
       "style": "IPY_MODEL_dced599fd5bc404e981386918b9d6356"
      }
     },
     "8a7190e91d30479aa5b55dd1a6ec70da": {
      "model_module": "@jupyter-widgets/controls",
      "model_module_version": "1.5.0",
      "model_name": "DropdownModel",
      "state": {
       "_options_labels": [
        "denies",
        "endorses"
       ],
       "description": "acute_medical",
       "index": 0,
       "layout": "IPY_MODEL_6ca1abb4c0974a9b85bd5dd3b0292df2",
       "style": "IPY_MODEL_44c5eb4ded2c4ab48e5aa418f680bc99"
      }
     },
     "8c72f15885bf4e34bc3574bb51340033": {
      "model_module": "@jupyter-widgets/base",
      "model_module_version": "1.2.0",
      "model_name": "LayoutModel",
      "state": {}
     },
     "8e6220bcdb844790904288c74cb18688": {
      "model_module": "@jupyter-widgets/controls",
      "model_module_version": "1.5.0",
      "model_name": "DescriptionStyleModel",
      "state": {
       "description_width": ""
      }
     },
     "8f4f5482f6e34daca6262ac46e2ea75b": {
      "model_module": "@jupyter-widgets/controls",
      "model_module_version": "1.5.0",
      "model_name": "CheckboxModel",
      "state": {
       "description": "bipolar I disorder",
       "disabled": false,
       "layout": "IPY_MODEL_1c2c66963aae41cea2cc301da8f4d90e",
       "style": "IPY_MODEL_e9fbb58f5f304dff8b4ea6001dd6520f",
       "value": false
      }
     },
     "906046ff1c094f07b334ae2f061a7993": {
      "model_module": "@jupyter-widgets/base",
      "model_module_version": "1.2.0",
      "model_name": "LayoutModel",
      "state": {}
     },
     "929257c24fab491ea3a39a27fa48f7da": {
      "model_module": "@jupyter-widgets/controls",
      "model_module_version": "1.5.0",
      "model_name": "DropdownModel",
      "state": {
       "_options_labels": [
        "denies",
        "endorses"
       ],
       "description": "physical_anxiety",
       "index": 0,
       "layout": "IPY_MODEL_6ca1abb4c0974a9b85bd5dd3b0292df2",
       "style": "IPY_MODEL_e4cd9c052df74b00b268b421e76badd7"
      }
     },
     "9292ce012b1d4765b194fbd03b25c243": {
      "model_module": "@jupyter-widgets/controls",
      "model_module_version": "1.5.0",
      "model_name": "CheckboxModel",
      "state": {
       "description": "Post-traumatic stress disorder",
       "disabled": false,
       "layout": "IPY_MODEL_7d7b2dfdfe864fbe8287c1d24f38c360",
       "style": "IPY_MODEL_32631bf505584c61a7b131d9d1e8b783",
       "value": false
      }
     },
     "93678ba598f34d358d4a6a17c3a33b5e": {
      "model_module": "@jupyter-widgets/controls",
      "model_module_version": "1.5.0",
      "model_name": "DropdownModel",
      "state": {
       "_options_labels": [
        "denies",
        "endorses"
       ],
       "description": "hiv_medical",
       "index": 0,
       "layout": "IPY_MODEL_6ca1abb4c0974a9b85bd5dd3b0292df2",
       "style": "IPY_MODEL_c811542c8b354eaa9cc5ff28da1aa28c"
      }
     },
     "93c434342d244187ac66cdc51695830f": {
      "model_module": "@jupyter-widgets/base",
      "model_module_version": "1.2.0",
      "model_name": "LayoutModel",
      "state": {}
     },
     "9457f1f5be064adea7eb13218741d377": {
      "model_module": "@jupyter-widgets/controls",
      "model_module_version": "1.5.0",
      "model_name": "CheckboxModel",
      "state": {
       "description": "ecstasy/MDMA",
       "disabled": false,
       "layout": "IPY_MODEL_a8332089f68b4f44b44d9385198a32bf",
       "style": "IPY_MODEL_57231c1855804d289505d05df61f8e19",
       "value": false
      }
     },
     "95a2efbd655842b99ca5dcf8dfff7125": {
      "model_module": "@jupyter-widgets/controls",
      "model_module_version": "1.5.0",
      "model_name": "DescriptionStyleModel",
      "state": {
       "description_width": "150px"
      }
     },
     "95ad028c28dc4d4a837e3c5be859a171": {
      "model_module": "@jupyter-widgets/base",
      "model_module_version": "1.2.0",
      "model_name": "LayoutModel",
      "state": {}
     },
     "966132908a894920b57b276b50fc15f8": {
      "model_module": "@jupyter-widgets/controls",
      "model_module_version": "1.5.0",
      "model_name": "DescriptionStyleModel",
      "state": {
       "description_width": ""
      }
     },
     "9711e155392143529766e8584741a8e5": {
      "model_module": "@jupyter-widgets/base",
      "model_module_version": "1.2.0",
      "model_name": "LayoutModel",
      "state": {}
     },
     "97754e200d534658a74a7c4efb510532": {
      "model_module": "@jupyter-widgets/base",
      "model_module_version": "1.2.0",
      "model_name": "LayoutModel",
      "state": {}
     },
     "9a4adbffc7d4410c86895ae153722ae2": {
      "model_module": "@jupyter-widgets/controls",
      "model_module_version": "1.5.0",
      "model_name": "VBoxModel",
      "state": {
       "_dom_classes": [
        "widget-interact"
       ],
       "children": [
        "IPY_MODEL_49759ffbf0c4418f8f8a4985586155ff",
        "IPY_MODEL_2376137a79fc4f7ab1fedfae45d8b3b6"
       ],
       "layout": "IPY_MODEL_3b5809d9225f4067831c4ef310342a96"
      }
     },
     "9a6b912fbd6845a7818d7f75274e5889": {
      "model_module": "@jupyter-widgets/controls",
      "model_module_version": "1.5.0",
      "model_name": "CheckboxModel",
      "state": {
       "description": "ADHD",
       "disabled": false,
       "layout": "IPY_MODEL_ee7b03fa9853425a9f6e8a16f8785b0c",
       "style": "IPY_MODEL_6b15f0994d554b8f92cbc8c0ec311b59",
       "value": false
      }
     },
     "9b52b391300f4e389741adfb0a8d7711": {
      "model_module": "@jupyter-widgets/controls",
      "model_module_version": "1.5.0",
      "model_name": "CheckboxModel",
      "state": {
       "description": "Sedative, hypnotic and/or anxiolytic Use Disorder Severe",
       "disabled": false,
       "layout": "IPY_MODEL_5527beaeff044bd8a12aad4f67651a68",
       "style": "IPY_MODEL_a25b76fa7728430c9edcd5aa951f6ff2",
       "value": false
      }
     },
     "9b77fe6570904bbf9ea80a2d5a9366ed": {
      "model_module": "@jupyter-widgets/controls",
      "model_module_version": "1.5.0",
      "model_name": "DescriptionStyleModel",
      "state": {
       "description_width": ""
      }
     },
     "9c14772d2775478b9a90116585e4a597": {
      "model_module": "@jupyter-widgets/base",
      "model_module_version": "1.2.0",
      "model_name": "LayoutModel",
      "state": {}
     },
     "9c1c0dab75f34f8db7bbc6f774427732": {
      "model_module": "@jupyter-widgets/base",
      "model_module_version": "1.2.0",
      "model_name": "LayoutModel",
      "state": {
       "width": "25%"
      }
     },
     "9cdf1202378e48babf5309c7c0460393": {
      "model_module": "@jupyter-widgets/controls",
      "model_module_version": "1.5.0",
      "model_name": "DropdownModel",
      "state": {
       "_options_labels": [
        "a history",
        "no history"
       ],
       "description": "mania",
       "index": 1,
       "layout": "IPY_MODEL_6ca1abb4c0974a9b85bd5dd3b0292df2",
       "style": "IPY_MODEL_1059a84b249d43bbb577bb7c4e983c21"
      }
     },
     "9d46cf32a2434b1086f2adcc56d9e9c2": {
      "model_module": "@jupyter-widgets/base",
      "model_module_version": "1.2.0",
      "model_name": "LayoutModel",
      "state": {}
     },
     "9dff653867724dfd88054ba905da7309": {
      "model_module": "@jupyter-widgets/controls",
      "model_module_version": "1.5.0",
      "model_name": "ComboboxModel",
      "state": {
       "description": "med_statement",
       "ensure_option": false,
       "layout": "IPY_MODEL_6ca1abb4c0974a9b85bd5dd3b0292df2",
       "options": [
        "Patient declines psychotropic medication and elects for more conservative approaches to psychiatric symptom management at this time."
       ],
       "style": "IPY_MODEL_172f4613e7884b47a251c02e50b68dde"
      }
     },
     "9e12a70cc0b24b5d8517d407f5320012": {
      "model_module": "@jupyter-widgets/controls",
      "model_module_version": "1.5.0",
      "model_name": "DropdownModel",
      "state": {
       "_options_labels": [
        "denies",
        "endorses"
       ],
       "description": "guilt",
       "index": 0,
       "layout": "IPY_MODEL_6ca1abb4c0974a9b85bd5dd3b0292df2",
       "style": "IPY_MODEL_a0e0a25a890e44af970cf5522a965641"
      }
     },
     "9efac89adfba41baa4e0067710b07d0e": {
      "model_module": "@jupyter-widgets/controls",
      "model_module_version": "1.5.0",
      "model_name": "BoundedIntTextModel",
      "state": {
       "description": "longest_sober_time",
       "layout": "IPY_MODEL_6ca1abb4c0974a9b85bd5dd3b0292df2",
       "style": "IPY_MODEL_12ba092c7edd47eb8a3779741a3373a0"
      }
     },
     "9fb2e71b312944bd87e174d0c520c45c": {
      "model_module": "@jupyter-widgets/base",
      "model_module_version": "1.2.0",
      "model_name": "LayoutModel",
      "state": {}
     },
     "a019ed7e3be449599e643a649ad8d300": {
      "model_module": "@jupyter-widgets/base",
      "model_module_version": "1.2.0",
      "model_name": "LayoutModel",
      "state": {}
     },
     "a038eb9d369d4c1cae614594be440edf": {
      "model_module": "@jupyter-widgets/controls",
      "model_module_version": "1.5.0",
      "model_name": "DropdownModel",
      "state": {
       "_options_labels": [
        "deny",
        "indicate"
       ],
       "description": "past_depression",
       "index": 1,
       "layout": "IPY_MODEL_6ca1abb4c0974a9b85bd5dd3b0292df2",
       "style": "IPY_MODEL_373df1206fe34f5fabca3c1a27466585"
      }
     },
     "a0e0a25a890e44af970cf5522a965641": {
      "model_module": "@jupyter-widgets/controls",
      "model_module_version": "1.5.0",
      "model_name": "DescriptionStyleModel",
      "state": {
       "description_width": "150px"
      }
     },
     "a25b76fa7728430c9edcd5aa951f6ff2": {
      "model_module": "@jupyter-widgets/controls",
      "model_module_version": "1.5.0",
      "model_name": "DescriptionStyleModel",
      "state": {
       "description_width": ""
      }
     },
     "a26755ee5b7c4a18bb07a20e1ae21f13": {
      "model_module": "@jupyter-widgets/controls",
      "model_module_version": "1.5.0",
      "model_name": "DropdownModel",
      "state": {
       "_options_labels": [
        "good",
        "fair",
        "poor"
       ],
       "description": "appetite",
       "index": 1,
       "layout": "IPY_MODEL_6ca1abb4c0974a9b85bd5dd3b0292df2",
       "style": "IPY_MODEL_27a3173985804df39cf9df41c26d02bf"
      }
     },
     "a32a2d168bb4459aa427f700655a6e21": {
      "model_module": "@jupyter-widgets/base",
      "model_module_version": "1.2.0",
      "model_name": "LayoutModel",
      "state": {}
     },
     "a40dc7ac397f441aa66fe2e3d10ae3a9": {
      "model_module": "@jupyter-widgets/base",
      "model_module_version": "1.2.0",
      "model_name": "LayoutModel",
      "state": {}
     },
     "a51872fc08d745f18f407e0ff6a878ba": {
      "model_module": "@jupyter-widgets/base",
      "model_module_version": "1.2.0",
      "model_name": "LayoutModel",
      "state": {}
     },
     "a8332089f68b4f44b44d9385198a32bf": {
      "model_module": "@jupyter-widgets/base",
      "model_module_version": "1.2.0",
      "model_name": "LayoutModel",
      "state": {}
     },
     "a906364ef6ea4adc9742768dc81d97c1": {
      "model_module": "@jupyter-widgets/base",
      "model_module_version": "1.2.0",
      "model_name": "LayoutModel",
      "state": {}
     },
     "aa3c0fc6dd5e45f0a5817574d6c1d3ca": {
      "model_module": "@jupyter-widgets/base",
      "model_module_version": "1.2.0",
      "model_name": "LayoutModel",
      "state": {
       "height": "100px",
       "width": "500px"
      }
     },
     "aab26c2e53fa40fcad4f1542853b37aa": {
      "model_module": "@jupyter-widgets/base",
      "model_module_version": "1.2.0",
      "model_name": "LayoutModel",
      "state": {}
     },
     "aae003a4103e48a9b9dc938b8c4feabb": {
      "model_module": "@jupyter-widgets/controls",
      "model_module_version": "1.5.0",
      "model_name": "HBoxModel",
      "state": {
       "children": [
        "IPY_MODEL_2e290dd7072e4c6f9d0a9d24fa958812",
        "IPY_MODEL_bde4dc62db8b47e0a8be80e351b4b57a"
       ],
       "layout": "IPY_MODEL_64a6755a00f54085961656b06152b60f"
      }
     },
     "ab998ccadcf44ac08bbaa13359248f09": {
      "model_module": "@jupyter-widgets/base",
      "model_module_version": "1.2.0",
      "model_name": "LayoutModel",
      "state": {}
     },
     "ada830d162e54a51bf20e22c5a839849": {
      "model_module": "@jupyter-widgets/controls",
      "model_module_version": "1.5.0",
      "model_name": "CheckboxModel",
      "state": {
       "description": "no mental illness",
       "disabled": false,
       "layout": "IPY_MODEL_5b0dce47bb2149a988847bdff1ae2cb4",
       "style": "IPY_MODEL_788be75013c748298f0620476da29d18",
       "value": false
      }
     },
     "aed4814ede43464abe8599ab3b183604": {
      "model_module": "@jupyter-widgets/controls",
      "model_module_version": "1.5.0",
      "model_name": "CheckboxModel",
      "state": {
       "description": "Amphetamine-type substance use disorder Severe",
       "disabled": false,
       "layout": "IPY_MODEL_371c9121c69e4b4b80646b779d1608d3",
       "style": "IPY_MODEL_0f20b646ea67464086e939b6b4cc9712",
       "value": false
      }
     },
     "b0ea61871eb345bab9a1c914096f52ff": {
      "model_module": "@jupyter-widgets/base",
      "model_module_version": "1.2.0",
      "model_name": "LayoutModel",
      "state": {}
     },
     "b14dbce9d3fd4061a0d7503837646711": {
      "model_module": "@jupyter-widgets/controls",
      "model_module_version": "1.5.0",
      "model_name": "DropdownModel",
      "state": {
       "_options_labels": [
        "denies",
        "endorses"
       ],
       "description": "seizures",
       "index": 0,
       "layout": "IPY_MODEL_6ca1abb4c0974a9b85bd5dd3b0292df2",
       "style": "IPY_MODEL_7fb24ccd5a994d4cae7111d33951db14"
      }
     },
     "b155b30b37dd48d3ab4c586c16ca9c09": {
      "model_module": "@jupyter-widgets/base",
      "model_module_version": "1.2.0",
      "model_name": "LayoutModel",
      "state": {}
     },
     "b2741a499efe42838513fdcce2f1c019": {
      "model_module": "@jupyter-widgets/output",
      "model_module_version": "1.0.0",
      "model_name": "OutputModel",
      "state": {
       "layout": "IPY_MODEL_9fb2e71b312944bd87e174d0c520c45c",
       "outputs": [
        {
         "name": "stdout",
         "output_type": "stream",
         "text": "\nCurrent Medication:\n\n \nPatient declines adjustments to their medication regimen.\n\n\n\n"
        }
       ]
      }
     },
     "b381a36815664d5eadcdd20a24374b8f": {
      "model_module": "@jupyter-widgets/controls",
      "model_module_version": "1.5.0",
      "model_name": "BoundedIntTextModel",
      "state": {
       "description": "num_children",
       "layout": "IPY_MODEL_6ca1abb4c0974a9b85bd5dd3b0292df2",
       "style": "IPY_MODEL_29d0dc3284f84c51b72e160947431ba0"
      }
     },
     "b521cecc929b43a49aedd942c8a3f2f6": {
      "model_module": "@jupyter-widgets/controls",
      "model_module_version": "1.5.0",
      "model_name": "VBoxModel",
      "state": {
       "_dom_classes": [
        "widget-interact"
       ],
       "children": [
        "IPY_MODEL_929257c24fab491ea3a39a27fa48f7da",
        "IPY_MODEL_57fea0c1bbb34d91b7cfcdba0468c3d4",
        "IPY_MODEL_ca4f0dd260f54507b65483af45f89fb5",
        "IPY_MODEL_0d839e96762541a0aea38a82cf109590"
       ],
       "layout": "IPY_MODEL_ff7ff2cb6c3441cf9463e6aacbdf3acc"
      }
     },
     "b5366678f9ec424f9b1e86b1d22d5448": {
      "model_module": "@jupyter-widgets/controls",
      "model_module_version": "1.5.0",
      "model_name": "DescriptionStyleModel",
      "state": {
       "description_width": ""
      }
     },
     "b630fe970e9247788c657c9f9b9636bf": {
      "model_module": "@jupyter-widgets/controls",
      "model_module_version": "1.5.0",
      "model_name": "HBoxModel",
      "state": {
       "children": [
        "IPY_MODEL_89f3f7215a5c4882890ad13beb01cf95",
        "IPY_MODEL_bfccc952ff68445e8fdbe7d7a01efb35",
        "IPY_MODEL_4b1eba02aa9d44ba93f61a2cb6b8aeb9"
       ],
       "layout": "IPY_MODEL_09beeb27725b49dcaf445c3a877123e2"
      }
     },
     "b6334e48a6cc4197bbe5e072e1a92caf": {
      "model_module": "@jupyter-widgets/controls",
      "model_module_version": "1.5.0",
      "model_name": "CheckboxModel",
      "state": {
       "description": "no drug",
       "disabled": false,
       "layout": "IPY_MODEL_c0bc17dccebe4de9833814949bb6f562",
       "style": "IPY_MODEL_71b200da96ca427282116f5a72527fb5",
       "value": false
      }
     },
     "b641789054574d57b1d8413ff9236352": {
      "model_module": "@jupyter-widgets/controls",
      "model_module_version": "1.5.0",
      "model_name": "CheckboxModel",
      "state": {
       "description": "Bipolar I disorder",
       "disabled": false,
       "layout": "IPY_MODEL_3452f9b4dd6a4cd7997c8e7e7a6466ed",
       "style": "IPY_MODEL_e850e2fce4b349f58495dd1d25358270",
       "value": false
      }
     },
     "b6e1e260f00c4530ba49279c945a1a63": {
      "model_module": "@jupyter-widgets/controls",
      "model_module_version": "1.5.0",
      "model_name": "HBoxModel",
      "state": {
       "children": [
        "IPY_MODEL_0039957206f64544b7a34932b1b0b522"
       ],
       "layout": "IPY_MODEL_5d1d6d6ef50e45bd913146bded827b07"
      }
     },
     "b81ac85c42f546949e2c4037f9a34cef": {
      "model_module": "@jupyter-widgets/base",
      "model_module_version": "1.2.0",
      "model_name": "LayoutModel",
      "state": {}
     },
     "b893fc0e5ece4926b0cbd514e7c44119": {
      "model_module": "@jupyter-widgets/controls",
      "model_module_version": "1.5.0",
      "model_name": "DescriptionStyleModel",
      "state": {
       "description_width": "150px"
      }
     },
     "b8c0538812bd4dcab15b591b25fd2690": {
      "model_module": "@jupyter-widgets/controls",
      "model_module_version": "1.5.0",
      "model_name": "DescriptionStyleModel",
      "state": {
       "description_width": ""
      }
     },
     "b939f976df2d4552bc353ecfc4f47067": {
      "model_module": "@jupyter-widgets/controls",
      "model_module_version": "1.5.0",
      "model_name": "DescriptionStyleModel",
      "state": {
       "description_width": "150px"
      }
     },
     "ba47f78f11f845d1b54d83fad549c7ba": {
      "model_module": "@jupyter-widgets/controls",
      "model_module_version": "1.5.0",
      "model_name": "DescriptionStyleModel",
      "state": {
       "description_width": ""
      }
     },
     "ba7cfe7f60fc43a9befe871c683ddd11": {
      "model_module": "@jupyter-widgets/controls",
      "model_module_version": "1.5.0",
      "model_name": "DescriptionStyleModel",
      "state": {
       "description_width": ""
      }
     },
     "baa07b8a14ee4ac69dfbaae707295c72": {
      "model_module": "@jupyter-widgets/base",
      "model_module_version": "1.2.0",
      "model_name": "LayoutModel",
      "state": {}
     },
     "bae121d9317e4d25be0d27d2bd9d1555": {
      "model_module": "@jupyter-widgets/controls",
      "model_module_version": "1.5.0",
      "model_name": "VBoxModel",
      "state": {
       "_dom_classes": [
        "widget-interact"
       ],
       "children": [
        "IPY_MODEL_3c76be7b0cc04fffbc396f62f72ca14c",
        "IPY_MODEL_84cd2b01cb134e6f9b687f8f5fca18c8",
        "IPY_MODEL_d1e8c10cf76149cca490d993d1f8305b",
        "IPY_MODEL_626ce05b18ca4d2887e3bcdaa21f8454"
       ],
       "layout": "IPY_MODEL_0c6884c62b8542faa8c326b1889337d2"
      }
     },
     "bb36809058524bbbb329759ca4a16463": {
      "model_module": "@jupyter-widgets/controls",
      "model_module_version": "1.5.0",
      "model_name": "VBoxModel",
      "state": {
       "_dom_classes": [
        "widget-interact"
       ],
       "children": [
        "IPY_MODEL_e1d48f9aa81f4f49b230246229eee3a9",
        "IPY_MODEL_267178d9cffa4dc9ba9c9b8fd555710e"
       ],
       "layout": "IPY_MODEL_17e43674fa964af7b4382073515f2463"
      }
     },
     "bb85d42d74094b5da0fde33aec444ff2": {
      "model_module": "@jupyter-widgets/controls",
      "model_module_version": "1.5.0",
      "model_name": "VBoxModel",
      "state": {
       "children": [
        "IPY_MODEL_e7769a8d81b24865bfcf6f2ee1e78125",
        "IPY_MODEL_31112621d005486c979dbca4101e7bc2",
        "IPY_MODEL_b641789054574d57b1d8413ff9236352"
       ],
       "layout": "IPY_MODEL_65a2317457384a849d283e07a418d839"
      }
     },
     "bc630083804748dfbee516d5a2edd542": {
      "model_module": "@jupyter-widgets/base",
      "model_module_version": "1.2.0",
      "model_name": "LayoutModel",
      "state": {}
     },
     "bcc9ecfd00fc4bcea825d5720c1d6b43": {
      "model_module": "@jupyter-widgets/base",
      "model_module_version": "1.2.0",
      "model_name": "LayoutModel",
      "state": {}
     },
     "bde4dc62db8b47e0a8be80e351b4b57a": {
      "model_module": "@jupyter-widgets/controls",
      "model_module_version": "1.5.0",
      "model_name": "VBoxModel",
      "state": {
       "children": [
        "IPY_MODEL_5656d708b0e64252807ca840b82ad75d",
        "IPY_MODEL_e48956ea7e294ab8a2ba8dcd496dcb7b",
        "IPY_MODEL_02367092edfe42cf9edc8995747d16e1",
        "IPY_MODEL_7dc52b61defe4d30853ade796f319971"
       ],
       "layout": "IPY_MODEL_3a75d1d208bf4bd29b33b0afd6b71d71"
      }
     },
     "bfc95fad807a45fc9a9023ca8dd5cce8": {
      "model_module": "@jupyter-widgets/controls",
      "model_module_version": "1.5.0",
      "model_name": "DescriptionStyleModel",
      "state": {
       "description_width": ""
      }
     },
     "bfccc952ff68445e8fdbe7d7a01efb35": {
      "model_module": "@jupyter-widgets/controls",
      "model_module_version": "1.5.0",
      "model_name": "HBoxModel",
      "state": {
       "children": [
        "IPY_MODEL_f61ad913c1e94a72a10391c40fd9bd98"
       ],
       "layout": "IPY_MODEL_93c434342d244187ac66cdc51695830f"
      }
     },
     "c096380afa1147af8f08257f99854437": {
      "model_module": "@jupyter-widgets/controls",
      "model_module_version": "1.5.0",
      "model_name": "TextModel",
      "state": {
       "description": "Pronoun:",
       "layout": "IPY_MODEL_a51872fc08d745f18f407e0ff6a878ba",
       "style": "IPY_MODEL_9b77fe6570904bbf9ea80a2d5a9366ed",
       "value": "they"
      }
     },
     "c0bc17dccebe4de9833814949bb6f562": {
      "model_module": "@jupyter-widgets/base",
      "model_module_version": "1.2.0",
      "model_name": "LayoutModel",
      "state": {}
     },
     "c19a1bf16b1240fab0e3a775f6fcafca": {
      "model_module": "@jupyter-widgets/base",
      "model_module_version": "1.2.0",
      "model_name": "LayoutModel",
      "state": {}
     },
     "c205ef6cfec2403b8ea6a193a28d77bb": {
      "model_module": "@jupyter-widgets/controls",
      "model_module_version": "1.5.0",
      "model_name": "CheckboxModel",
      "state": {
       "description": "heroin",
       "disabled": false,
       "layout": "IPY_MODEL_39e2f87be8a84f49812c845fb7a683a7",
       "style": "IPY_MODEL_dac47e6e0bba423b9f191afb871a01c7",
       "value": false
      }
     },
     "c3c84c97d5b1410298b6d03449f23073": {
      "model_module": "@jupyter-widgets/controls",
      "model_module_version": "1.5.0",
      "model_name": "DescriptionStyleModel",
      "state": {
       "description_width": "150px"
      }
     },
     "c4245ba767ac470d9831e40ed32c4bc4": {
      "model_module": "@jupyter-widgets/controls",
      "model_module_version": "1.5.0",
      "model_name": "DescriptionStyleModel",
      "state": {
       "description_width": "150px"
      }
     },
     "c5999d58e8eb4cd88f5666e2ac53fd85": {
      "model_module": "@jupyter-widgets/base",
      "model_module_version": "1.2.0",
      "model_name": "LayoutModel",
      "state": {}
     },
     "c5d13625498740a191b5e6fe984d9e0c": {
      "model_module": "@jupyter-widgets/controls",
      "model_module_version": "1.5.0",
      "model_name": "VBoxModel",
      "state": {
       "_dom_classes": [
        "widget-interact"
       ],
       "children": [
        "IPY_MODEL_e92756a93b1c4e0f998974b1667a1490",
        "IPY_MODEL_f37fae4788bf4896a3115e522d986aed"
       ],
       "layout": "IPY_MODEL_27059326ec9e44dbbbafa9b6b3c78b43"
      }
     },
     "c811542c8b354eaa9cc5ff28da1aa28c": {
      "model_module": "@jupyter-widgets/controls",
      "model_module_version": "1.5.0",
      "model_name": "DescriptionStyleModel",
      "state": {
       "description_width": "150px"
      }
     },
     "c91f1f18a95f4878a8fd6b84c0b78486": {
      "model_module": "@jupyter-widgets/controls",
      "model_module_version": "1.5.0",
      "model_name": "DropdownModel",
      "state": {
       "_options_labels": [
        "good",
        "fair",
        "poor"
       ],
       "description": "energy",
       "index": 1,
       "layout": "IPY_MODEL_6ca1abb4c0974a9b85bd5dd3b0292df2",
       "style": "IPY_MODEL_61121a37146244c297ef046d7d46733b"
      }
     },
     "ca3ba431babf4a4c85ed80bf7b51723f": {
      "model_module": "@jupyter-widgets/controls",
      "model_module_version": "1.5.0",
      "model_name": "CheckboxModel",
      "state": {
       "description": "opioid",
       "disabled": false,
       "layout": "IPY_MODEL_d213925ba17c42f5b44ad3fa3e232aa0",
       "style": "IPY_MODEL_d0edac4e7e3548519b3d53ca190ee074",
       "value": false
      }
     },
     "ca4f0dd260f54507b65483af45f89fb5": {
      "model_module": "@jupyter-widgets/controls",
      "model_module_version": "1.5.0",
      "model_name": "TextareaModel",
      "state": {
       "description": "notes",
       "layout": "IPY_MODEL_6ca1abb4c0974a9b85bd5dd3b0292df2",
       "style": "IPY_MODEL_e4a890c382ea4a00b88111bb719a49f4"
      }
     },
     "ca867ad318074d1da8183b360d9b32f5": {
      "model_module": "@jupyter-widgets/controls",
      "model_module_version": "1.5.0",
      "model_name": "DescriptionStyleModel",
      "state": {
       "description_width": ""
      }
     },
     "cb9e5d63a67442df8513a03a96fd1f7a": {
      "model_module": "@jupyter-widgets/controls",
      "model_module_version": "1.5.0",
      "model_name": "DescriptionStyleModel",
      "state": {
       "description_width": "150px"
      }
     },
     "ccd913fe339d48498822db843da7bee0": {
      "model_module": "@jupyter-widgets/controls",
      "model_module_version": "1.5.0",
      "model_name": "DropdownModel",
      "state": {
       "_options_labels": [
        "denies",
        "endorses"
       ],
       "description": "self_injury",
       "index": 0,
       "layout": "IPY_MODEL_6ca1abb4c0974a9b85bd5dd3b0292df2",
       "style": "IPY_MODEL_ce36dab2814742299a4049d200eaaa7c"
      }
     },
     "cdfb38834ad444389ce890245dee596e": {
      "model_module": "@jupyter-widgets/controls",
      "model_module_version": "1.5.0",
      "model_name": "CheckboxModel",
      "state": {
       "description": "depression",
       "disabled": false,
       "layout": "IPY_MODEL_6ae43f3cf99d48ccb9f831d722f93b3c",
       "style": "IPY_MODEL_556702f9feab41cdae7d2366cbc16dd3",
       "value": false
      }
     },
     "ce06f6e7b1a0400192634ae18e6b98e3": {
      "model_module": "@jupyter-widgets/controls",
      "model_module_version": "1.5.0",
      "model_name": "DropdownModel",
      "state": {
       "_options_labels": [
        "days",
        "months",
        "years"
       ],
       "description": "sober_period",
       "index": 0,
       "layout": "IPY_MODEL_6ca1abb4c0974a9b85bd5dd3b0292df2",
       "style": "IPY_MODEL_050793d5c5614a81818311bc244c1eee"
      }
     },
     "ce36dab2814742299a4049d200eaaa7c": {
      "model_module": "@jupyter-widgets/controls",
      "model_module_version": "1.5.0",
      "model_name": "DescriptionStyleModel",
      "state": {
       "description_width": "150px"
      }
     },
     "cebd19c6df1341f08f0cc4925a81ab39": {
      "model_module": "@jupyter-widgets/controls",
      "model_module_version": "1.5.0",
      "model_name": "VBoxModel",
      "state": {
       "children": [
        "IPY_MODEL_9b52b391300f4e389741adfb0a8d7711",
        "IPY_MODEL_aed4814ede43464abe8599ab3b183604",
        "IPY_MODEL_38be4d73dd3f49098fbadc1a8710dc8b",
        "IPY_MODEL_9a6b912fbd6845a7818d7f75274e5889"
       ],
       "layout": "IPY_MODEL_9711e155392143529766e8584741a8e5"
      }
     },
     "cefd040181954414a3ace4f7c4013084": {
      "model_module": "@jupyter-widgets/controls",
      "model_module_version": "1.5.0",
      "model_name": "CheckboxModel",
      "state": {
       "description": "anxiety",
       "disabled": false,
       "layout": "IPY_MODEL_543549e43c654fcb9027e7bfefbf6b7a",
       "style": "IPY_MODEL_30484244b9864d6eb276f5458a34909a",
       "value": false
      }
     },
     "cf54a56708f54934ad404a1cef6b03c5": {
      "model_module": "@jupyter-widgets/controls",
      "model_module_version": "1.5.0",
      "model_name": "DescriptionStyleModel",
      "state": {
       "description_width": "150px"
      }
     },
     "d00f3485ff5b4264aaf14cbdb1371c95": {
      "model_module": "@jupyter-widgets/controls",
      "model_module_version": "1.5.0",
      "model_name": "DescriptionStyleModel",
      "state": {
       "description_width": "150px"
      }
     },
     "d0745a4322354061bd90bf0ed5df765f": {
      "model_module": "@jupyter-widgets/controls",
      "model_module_version": "1.5.0",
      "model_name": "DescriptionStyleModel",
      "state": {
       "description_width": ""
      }
     },
     "d0edac4e7e3548519b3d53ca190ee074": {
      "model_module": "@jupyter-widgets/controls",
      "model_module_version": "1.5.0",
      "model_name": "DescriptionStyleModel",
      "state": {
       "description_width": ""
      }
     },
     "d1540e537f114bb6a5bb2622ffc41999": {
      "model_module": "@jupyter-widgets/controls",
      "model_module_version": "1.5.0",
      "model_name": "CheckboxModel",
      "state": {
       "description": "ptsd",
       "disabled": false,
       "layout": "IPY_MODEL_ab998ccadcf44ac08bbaa13359248f09",
       "style": "IPY_MODEL_52ab9bf1c48b4809bf515fb199fe8076",
       "value": false
      }
     },
     "d182c5dc910d4091b9a87afc814562f0": {
      "model_module": "@jupyter-widgets/controls",
      "model_module_version": "1.5.0",
      "model_name": "CheckboxModel",
      "state": {
       "description": "methamphetamine",
       "disabled": false,
       "layout": "IPY_MODEL_d5544608d3cf40c6b0a3b2b8013406b3",
       "style": "IPY_MODEL_d6651618b98e491d976f9774dd062bb3",
       "value": false
      }
     },
     "d1e8c10cf76149cca490d993d1f8305b": {
      "model_module": "@jupyter-widgets/controls",
      "model_module_version": "1.5.0",
      "model_name": "TextareaModel",
      "state": {
       "description": "notes",
       "layout": "IPY_MODEL_6ca1abb4c0974a9b85bd5dd3b0292df2",
       "style": "IPY_MODEL_7a54aa3f4dc34b70b6f7de5167f819c5"
      }
     },
     "d213925ba17c42f5b44ad3fa3e232aa0": {
      "model_module": "@jupyter-widgets/base",
      "model_module_version": "1.2.0",
      "model_name": "LayoutModel",
      "state": {}
     },
     "d34e3fea8b614e79a9f2a2717c7f1162": {
      "model_module": "@jupyter-widgets/controls",
      "model_module_version": "1.5.0",
      "model_name": "BoundedIntTextModel",
      "state": {
       "description": "Age:",
       "layout": "IPY_MODEL_eac9743c928b42638d4e33b04b88cf8f",
       "max": 200,
       "style": "IPY_MODEL_e0276263cf084462b06b4b2e96b14ddc",
       "value": 33
      }
     },
     "d5544608d3cf40c6b0a3b2b8013406b3": {
      "model_module": "@jupyter-widgets/base",
      "model_module_version": "1.2.0",
      "model_name": "LayoutModel",
      "state": {}
     },
     "d5c47b78fde2486083e49dc23a8d5568": {
      "model_module": "@jupyter-widgets/base",
      "model_module_version": "1.2.0",
      "model_name": "LayoutModel",
      "state": {}
     },
     "d6651618b98e491d976f9774dd062bb3": {
      "model_module": "@jupyter-widgets/controls",
      "model_module_version": "1.5.0",
      "model_name": "DescriptionStyleModel",
      "state": {
       "description_width": ""
      }
     },
     "d72b1770a89546f981d0ebcb2cf495a5": {
      "model_module": "@jupyter-widgets/controls",
      "model_module_version": "1.5.0",
      "model_name": "DescriptionStyleModel",
      "state": {
       "description_width": "150px"
      }
     },
     "d7b7c16a1fb64f498baffcc42a14dce9": {
      "model_module": "@jupyter-widgets/controls",
      "model_module_version": "1.5.0",
      "model_name": "BoundedIntTextModel",
      "state": {
       "description": "Sober Time:",
       "layout": "IPY_MODEL_6ca1abb4c0974a9b85bd5dd3b0292df2",
       "max": 200,
       "style": "IPY_MODEL_365e674cee834830a59831c728e5cf79",
       "value": 4
      }
     },
     "d8a8ef339ea34e829bc454428292c630": {
      "model_module": "@jupyter-widgets/controls",
      "model_module_version": "1.5.0",
      "model_name": "TextareaModel",
      "state": {
       "description": "primary_substances",
       "layout": "IPY_MODEL_6ca1abb4c0974a9b85bd5dd3b0292df2",
       "style": "IPY_MODEL_dc53e74e701449cea7421605e6fbdff2",
       "value": "nothing"
      }
     },
     "d901b694a95c41f3b352b4527de2dd20": {
      "model_module": "@jupyter-widgets/controls",
      "model_module_version": "1.5.0",
      "model_name": "CheckboxModel",
      "state": {
       "description": "LSD",
       "disabled": false,
       "layout": "IPY_MODEL_53d06c644a7b46cbba6612a0ee895639",
       "style": "IPY_MODEL_e0713a3bd7834bdb9c8b74ce090c38a2",
       "value": false
      }
     },
     "d978bec1669a49fb92e818afa4c691e5": {
      "model_module": "@jupyter-widgets/controls",
      "model_module_version": "1.5.0",
      "model_name": "DropdownModel",
      "state": {
       "_options_labels": [
        "a history",
        "no history"
       ],
       "description": "psychosis",
       "index": 1,
       "layout": "IPY_MODEL_6ca1abb4c0974a9b85bd5dd3b0292df2",
       "style": "IPY_MODEL_40b6a6db5a8b49869f6d4b0238ac24ae"
      }
     },
     "d98055d267cb4614bf81cd4d9405408d": {
      "model_module": "@jupyter-widgets/controls",
      "model_module_version": "1.5.0",
      "model_name": "VBoxModel",
      "state": {
       "_dom_classes": [
        "widget-interact"
       ],
       "children": [
        "IPY_MODEL_d8a8ef339ea34e829bc454428292c630",
        "IPY_MODEL_115d0e3d24a84fbd82951f4efeb38f08",
        "IPY_MODEL_9efac89adfba41baa4e0067710b07d0e",
        "IPY_MODEL_64521613d98d418d8735b0717bf26b2e",
        "IPY_MODEL_01a23146c6854aeba206185f07f816d4",
        "IPY_MODEL_b14dbce9d3fd4061a0d7503837646711",
        "IPY_MODEL_358b54f98b35430893b7cfe3124ab8e4",
        "IPY_MODEL_51aaa7f94a8c4dac9d232de337f673a0"
       ],
       "layout": "IPY_MODEL_72b8e769f7594a97b7f1a32e940a65a1"
      }
     },
     "da2ff144c79a41b892c5aef07e1f6216": {
      "model_module": "@jupyter-widgets/controls",
      "model_module_version": "1.5.0",
      "model_name": "DescriptionStyleModel",
      "state": {
       "description_width": ""
      }
     },
     "dac47e6e0bba423b9f191afb871a01c7": {
      "model_module": "@jupyter-widgets/controls",
      "model_module_version": "1.5.0",
      "model_name": "DescriptionStyleModel",
      "state": {
       "description_width": ""
      }
     },
     "dc53e74e701449cea7421605e6fbdff2": {
      "model_module": "@jupyter-widgets/controls",
      "model_module_version": "1.5.0",
      "model_name": "DescriptionStyleModel",
      "state": {
       "description_width": "150px"
      }
     },
     "dcd0d164c5244ba988cfe530f907fe1a": {
      "model_module": "@jupyter-widgets/controls",
      "model_module_version": "1.5.0",
      "model_name": "DescriptionStyleModel",
      "state": {
       "description_width": "150px"
      }
     },
     "dced599fd5bc404e981386918b9d6356": {
      "model_module": "@jupyter-widgets/controls",
      "model_module_version": "1.5.0",
      "model_name": "DescriptionStyleModel",
      "state": {
       "description_width": "150px"
      }
     },
     "dd080e9ffd3348e8963d5ee24da3c0b0": {
      "model_module": "@jupyter-widgets/controls",
      "model_module_version": "1.5.0",
      "model_name": "DescriptionStyleModel",
      "state": {
       "description_width": "150px"
      }
     },
     "dd867f5e1a184d96be44a99bbc56805e": {
      "model_module": "@jupyter-widgets/base",
      "model_module_version": "1.2.0",
      "model_name": "LayoutModel",
      "state": {}
     },
     "de92cab07f684e449171b9c5df1b7922": {
      "model_module": "@jupyter-widgets/base",
      "model_module_version": "1.2.0",
      "model_name": "LayoutModel",
      "state": {}
     },
     "dea156597bb247b992d000379f41e107": {
      "model_module": "@jupyter-widgets/controls",
      "model_module_version": "1.5.0",
      "model_name": "DropdownModel",
      "state": {
       "_options_labels": [
        "denies",
        "endorses"
       ],
       "description": "legal",
       "index": 0,
       "layout": "IPY_MODEL_6ca1abb4c0974a9b85bd5dd3b0292df2",
       "style": "IPY_MODEL_3b2d5b968e4f4878a91f262c841c0813"
      }
     },
     "df7d0685f05f412aa9668d6b59f644e9": {
      "model_module": "@jupyter-widgets/controls",
      "model_module_version": "1.5.0",
      "model_name": "DescriptionStyleModel",
      "state": {
       "description_width": "150px"
      }
     },
     "dfbc01cc029f4bd69fa6998f8d90c0c1": {
      "model_module": "@jupyter-widgets/controls",
      "model_module_version": "1.5.0",
      "model_name": "TextareaModel",
      "state": {
       "description": "Other:",
       "layout": "IPY_MODEL_6ca1abb4c0974a9b85bd5dd3b0292df2",
       "style": "IPY_MODEL_3425784f222f4adeb5401c7c531dd62f"
      }
     },
     "e0276263cf084462b06b4b2e96b14ddc": {
      "model_module": "@jupyter-widgets/controls",
      "model_module_version": "1.5.0",
      "model_name": "DescriptionStyleModel",
      "state": {
       "description_width": ""
      }
     },
     "e0713a3bd7834bdb9c8b74ce090c38a2": {
      "model_module": "@jupyter-widgets/controls",
      "model_module_version": "1.5.0",
      "model_name": "DescriptionStyleModel",
      "state": {
       "description_width": ""
      }
     },
     "e1ab6c92dbde41e983bc3e5f7bccda03": {
      "model_module": "@jupyter-widgets/controls",
      "model_module_version": "1.5.0",
      "model_name": "DescriptionStyleModel",
      "state": {
       "description_width": ""
      }
     },
     "e1cda3d1e4ae44d2b281ac458b41ac83": {
      "model_module": "@jupyter-widgets/controls",
      "model_module_version": "1.5.0",
      "model_name": "VBoxModel",
      "state": {
       "_dom_classes": [
        "widget-interact"
       ],
       "children": [
        "IPY_MODEL_0cf01bdfc4c2436a8fa94ac7df5be78f",
        "IPY_MODEL_fb3fece99df74cb0bcfdfb083e2fc8e7",
        "IPY_MODEL_ebbd6a48ddc84df58a36d75db3f632f9",
        "IPY_MODEL_9dff653867724dfd88054ba905da7309",
        "IPY_MODEL_850ab1b5e69048d08f6e6f181b4b85dc",
        "IPY_MODEL_b2741a499efe42838513fdcce2f1c019"
       ],
       "layout": "IPY_MODEL_baa07b8a14ee4ac69dfbaae707295c72"
      }
     },
     "e1d48f9aa81f4f49b230246229eee3a9": {
      "model_module": "@jupyter-widgets/controls",
      "model_module_version": "1.5.0",
      "model_name": "TextModel",
      "state": {
       "description": "labs",
       "layout": "IPY_MODEL_aab26c2e53fa40fcad4f1542853b37aa",
       "style": "IPY_MODEL_0d79f11ae8674580a682266cfa9dcc44",
       "value": "None currently on file."
      }
     },
     "e25a23312a984dd785941b4d24f453f6": {
      "model_module": "@jupyter-widgets/controls",
      "model_module_version": "1.5.0",
      "model_name": "DescriptionStyleModel",
      "state": {
       "description_width": "150px"
      }
     },
     "e3815a20d83f4ada9e60407329027818": {
      "model_module": "@jupyter-widgets/base",
      "model_module_version": "1.2.0",
      "model_name": "LayoutModel",
      "state": {}
     },
     "e3a9d4a42b4748748fd150ccb111bea9": {
      "model_module": "@jupyter-widgets/controls",
      "model_module_version": "1.5.0",
      "model_name": "DescriptionStyleModel",
      "state": {
       "description_width": "150px"
      }
     },
     "e48956ea7e294ab8a2ba8dcd496dcb7b": {
      "model_module": "@jupyter-widgets/controls",
      "model_module_version": "1.5.0",
      "model_name": "CheckboxModel",
      "state": {
       "description": "Unspecified Depressive Disorder",
       "disabled": false,
       "layout": "IPY_MODEL_a32a2d168bb4459aa427f700655a6e21",
       "style": "IPY_MODEL_bfc95fad807a45fc9a9023ca8dd5cce8",
       "value": false
      }
     },
     "e4a890c382ea4a00b88111bb719a49f4": {
      "model_module": "@jupyter-widgets/controls",
      "model_module_version": "1.5.0",
      "model_name": "DescriptionStyleModel",
      "state": {
       "description_width": "150px"
      }
     },
     "e4cd9c052df74b00b268b421e76badd7": {
      "model_module": "@jupyter-widgets/controls",
      "model_module_version": "1.5.0",
      "model_name": "DescriptionStyleModel",
      "state": {
       "description_width": "150px"
      }
     },
     "e5383ae993d64c93920a7e799dd983c9": {
      "model_module": "@jupyter-widgets/base",
      "model_module_version": "1.2.0",
      "model_name": "LayoutModel",
      "state": {}
     },
     "e5c807bf6d4b4521b5bfa15b0ee116c4": {
      "model_module": "@jupyter-widgets/base",
      "model_module_version": "1.2.0",
      "model_name": "LayoutModel",
      "state": {}
     },
     "e646518155cc432ea1ebe8fc17ee6b22": {
      "model_module": "@jupyter-widgets/controls",
      "model_module_version": "1.5.0",
      "model_name": "CheckboxModel",
      "state": {
       "description": "Major depressive disorder, rec, mod",
       "disabled": false,
       "layout": "IPY_MODEL_6cef39ea73954365b04f4c3fd59f5152",
       "style": "IPY_MODEL_1d549e97114d4af28cd5a7eb30c430f5",
       "value": false
      }
     },
     "e7769a8d81b24865bfcf6f2ee1e78125": {
      "model_module": "@jupyter-widgets/controls",
      "model_module_version": "1.5.0",
      "model_name": "CheckboxModel",
      "state": {
       "description": "Unspecified Bipolar Disorder",
       "disabled": false,
       "layout": "IPY_MODEL_7fa606936d6042728ac8049e40eb0c99",
       "style": "IPY_MODEL_24ca18878bf34e4fbcfa2fee523e339b",
       "value": false
      }
     },
     "e830d1c5f3644661bba55186094e18c5": {
      "model_module": "@jupyter-widgets/controls",
      "model_module_version": "1.5.0",
      "model_name": "TextareaModel",
      "state": {
       "description": "allergies",
       "layout": "IPY_MODEL_6ca1abb4c0974a9b85bd5dd3b0292df2",
       "style": "IPY_MODEL_cb9e5d63a67442df8513a03a96fd1f7a",
       "value": "NKDA"
      }
     },
     "e850e2fce4b349f58495dd1d25358270": {
      "model_module": "@jupyter-widgets/controls",
      "model_module_version": "1.5.0",
      "model_name": "DescriptionStyleModel",
      "state": {
       "description_width": ""
      }
     },
     "e92756a93b1c4e0f998974b1667a1490": {
      "model_module": "@jupyter-widgets/controls",
      "model_module_version": "1.5.0",
      "model_name": "TextareaModel",
      "state": {
       "description": "family",
       "layout": "IPY_MODEL_6ca1abb4c0974a9b85bd5dd3b0292df2",
       "style": "IPY_MODEL_4bf81c8f4b0c492fb2d503d304f4080f",
       "value": "Denies family history of mental illness"
      }
     },
     "e9f171e311f94076acee2ce98d1edd3b": {
      "model_module": "@jupyter-widgets/controls",
      "model_module_version": "1.5.0",
      "model_name": "DescriptionStyleModel",
      "state": {
       "description_width": "150px"
      }
     },
     "e9fbb58f5f304dff8b4ea6001dd6520f": {
      "model_module": "@jupyter-widgets/controls",
      "model_module_version": "1.5.0",
      "model_name": "DescriptionStyleModel",
      "state": {
       "description_width": ""
      }
     },
     "ea9900b23b8247558e4cf39d4d7d3207": {
      "model_module": "@jupyter-widgets/controls",
      "model_module_version": "1.5.0",
      "model_name": "CheckboxModel",
      "state": {
       "description": "mushrooms",
       "disabled": false,
       "layout": "IPY_MODEL_278526a897024e7091aeabe06379b49e",
       "style": "IPY_MODEL_53207a79206e4df280207af3c3ae5c99",
       "value": false
      }
     },
     "eac9743c928b42638d4e33b04b88cf8f": {
      "model_module": "@jupyter-widgets/base",
      "model_module_version": "1.2.0",
      "model_name": "LayoutModel",
      "state": {}
     },
     "ebbd6a48ddc84df58a36d75db3f632f9": {
      "model_module": "@jupyter-widgets/controls",
      "model_module_version": "1.5.0",
      "model_name": "DropdownModel",
      "state": {
       "_options_labels": [
        "declines",
        "is amenable with"
       ],
       "description": "med_adjust",
       "index": 0,
       "layout": "IPY_MODEL_6ca1abb4c0974a9b85bd5dd3b0292df2",
       "style": "IPY_MODEL_6cbad3a6220446129e04d2e52c5bb991"
      }
     },
     "ede372a445d14fd4b6003f6f411a8cc4": {
      "model_module": "@jupyter-widgets/controls",
      "model_module_version": "1.5.0",
      "model_name": "DropdownModel",
      "state": {
       "_options_labels": [
        "denies",
        "endorses"
       ],
       "description": "anhedonia",
       "index": 0,
       "layout": "IPY_MODEL_6ca1abb4c0974a9b85bd5dd3b0292df2",
       "style": "IPY_MODEL_5eefca396d7f474e93ad67c47d4bfc25"
      }
     },
     "edfb63d92eec4494a5e2d3218d94c632": {
      "model_module": "@jupyter-widgets/base",
      "model_module_version": "1.2.0",
      "model_name": "LayoutModel",
      "state": {}
     },
     "ee7b03fa9853425a9f6e8a16f8785b0c": {
      "model_module": "@jupyter-widgets/base",
      "model_module_version": "1.2.0",
      "model_name": "LayoutModel",
      "state": {}
     },
     "f091b2c45ddb47f5930607365f0f9b82": {
      "model_module": "@jupyter-widgets/controls",
      "model_module_version": "1.5.0",
      "model_name": "CheckboxModel",
      "state": {
       "description": "adhd",
       "disabled": false,
       "layout": "IPY_MODEL_edfb63d92eec4494a5e2d3218d94c632",
       "style": "IPY_MODEL_04a62c97b11643c4b61f96a4065858b1",
       "value": false
      }
     },
     "f0ad015327e245e0ab27c5e5c85a06e5": {
      "model_module": "@jupyter-widgets/controls",
      "model_module_version": "1.5.0",
      "model_name": "DescriptionStyleModel",
      "state": {
       "description_width": ""
      }
     },
     "f0b45eb62de741ec9e79e89b19de74b6": {
      "model_module": "@jupyter-widgets/controls",
      "model_module_version": "1.5.0",
      "model_name": "TextareaModel",
      "state": {
       "description": "notes",
       "layout": "IPY_MODEL_6ca1abb4c0974a9b85bd5dd3b0292df2",
       "style": "IPY_MODEL_55292650e777465da31a40547a0249db"
      }
     },
     "f0c9de96307041eda5eff0392727ce7f": {
      "model_module": "@jupyter-widgets/controls",
      "model_module_version": "1.5.0",
      "model_name": "CheckboxModel",
      "state": {
       "description": "insomnia",
       "disabled": false,
       "layout": "IPY_MODEL_447a50422c544a24a231cff36031c707",
       "style": "IPY_MODEL_ba7cfe7f60fc43a9befe871c683ddd11",
       "value": false
      }
     },
     "f1307b2d2ed148b18bc97a66d2523543": {
      "model_module": "@jupyter-widgets/controls",
      "model_module_version": "1.5.0",
      "model_name": "CheckboxModel",
      "state": {
       "description": "Generalized anxiety disorder",
       "disabled": false,
       "layout": "IPY_MODEL_9c14772d2775478b9a90116585e4a597",
       "style": "IPY_MODEL_f0ad015327e245e0ab27c5e5c85a06e5",
       "value": false
      }
     },
     "f25f18ccb26548f69d7325f662a070f7": {
      "model_module": "@jupyter-widgets/controls",
      "model_module_version": "1.5.0",
      "model_name": "VBoxModel",
      "state": {
       "_dom_classes": [
        "widget-interact"
       ],
       "children": [
        "IPY_MODEL_9cdf1202378e48babf5309c7c0460393",
        "IPY_MODEL_d978bec1669a49fb92e818afa4c691e5",
        "IPY_MODEL_8a3fb53d569d403485db2e4225f3d62e",
        "IPY_MODEL_48c6ece62b8946c08ea82eebd3459b87",
        "IPY_MODEL_434a32c744fe4ee4914af4d017abb0c9",
        "IPY_MODEL_61a9e85b868542fc98f84b8bf23325e2"
       ],
       "layout": "IPY_MODEL_a906364ef6ea4adc9742768dc81d97c1"
      }
     },
     "f37fae4788bf4896a3115e522d986aed": {
      "model_module": "@jupyter-widgets/output",
      "model_module_version": "1.0.0",
      "model_name": "OutputModel",
      "state": {
       "layout": "IPY_MODEL_9d46cf32a2434b1086f2adcc56d9e9c2",
       "outputs": [
        {
         "name": "stdout",
         "output_type": "stream",
         "text": "\nFamily Psychiatric History:\nDenies family history of mental illness\n\n"
        }
       ]
      }
     },
     "f3e3e42e9cc741dcaba3bf3f52db94ff": {
      "model_module": "@jupyter-widgets/controls",
      "model_module_version": "1.5.0",
      "model_name": "BoxModel",
      "state": {
       "children": [
        "IPY_MODEL_2e290dd7072e4c6f9d0a9d24fa958812",
        "IPY_MODEL_bde4dc62db8b47e0a8be80e351b4b57a",
        "IPY_MODEL_cebd19c6df1341f08f0cc4925a81ab39",
        "IPY_MODEL_bb85d42d74094b5da0fde33aec444ff2"
       ],
       "layout": "IPY_MODEL_95ad028c28dc4d4a837e3c5be859a171"
      }
     },
     "f61ad913c1e94a72a10391c40fd9bd98": {
      "model_module": "@jupyter-widgets/controls",
      "model_module_version": "1.5.0",
      "model_name": "VBoxModel",
      "state": {
       "children": [
        "IPY_MODEL_4ea19e66ffea44e7a537dbe0a3d8454c",
        "IPY_MODEL_4f871885ed2d48388193936c34bfaa63",
        "IPY_MODEL_c205ef6cfec2403b8ea6a193a28d77bb",
        "IPY_MODEL_d182c5dc910d4091b9a87afc814562f0",
        "IPY_MODEL_035075a838774c378a7184f70dd673a9",
        "IPY_MODEL_ca3ba431babf4a4c85ed80bf7b51723f",
        "IPY_MODEL_6193521e4b174f5f93e51ec52bc1493b",
        "IPY_MODEL_8582037d1ce7426aa10a53bbfd137255",
        "IPY_MODEL_764c465f802c4e98b79f402cf672c06a",
        "IPY_MODEL_9457f1f5be064adea7eb13218741d377",
        "IPY_MODEL_7cf693c7c23b4dbdbfcb2d50143f105f",
        "IPY_MODEL_ea9900b23b8247558e4cf39d4d7d3207",
        "IPY_MODEL_d901b694a95c41f3b352b4527de2dd20",
        "IPY_MODEL_b6334e48a6cc4197bbe5e072e1a92caf"
       ],
       "layout": "IPY_MODEL_97754e200d534658a74a7c4efb510532"
      }
     },
     "f66fdc635a5b4249a3649589eabdb70c": {
      "model_module": "@jupyter-widgets/base",
      "model_module_version": "1.2.0",
      "model_name": "LayoutModel",
      "state": {
       "height": "100px",
       "width": "500px"
      }
     },
     "f6834fed0f5b48cca20a941f8c5aed1e": {
      "model_module": "@jupyter-widgets/base",
      "model_module_version": "1.2.0",
      "model_name": "LayoutModel",
      "state": {}
     },
     "f9207524794246e6940873bfb8a22f5f": {
      "model_module": "@jupyter-widgets/base",
      "model_module_version": "1.2.0",
      "model_name": "LayoutModel",
      "state": {}
     },
     "faf372754ceb4e5ebdbfd1b5d69f96d4": {
      "model_module": "@jupyter-widgets/controls",
      "model_module_version": "1.5.0",
      "model_name": "DescriptionStyleModel",
      "state": {
       "description_width": ""
      }
     },
     "fb3fece99df74cb0bcfdfb083e2fc8e7": {
      "model_module": "@jupyter-widgets/controls",
      "model_module_version": "1.5.0",
      "model_name": "ComboboxModel",
      "state": {
       "description": "med_compliant",
       "ensure_option": false,
       "layout": "IPY_MODEL_6ca1abb4c0974a9b85bd5dd3b0292df2",
       "options": [
        "Patient reports that they have been compliant with their psychotropic medication regimen and denies adverse effects",
        "Patient reports that they have been non-compliant with their psychotropic medication regimen and denies adverse effects"
       ],
       "style": "IPY_MODEL_df7d0685f05f412aa9668d6b59f644e9"
      }
     },
     "fe28d58f745a45fa8581c62b7592965f": {
      "model_module": "@jupyter-widgets/base",
      "model_module_version": "1.2.0",
      "model_name": "LayoutModel",
      "state": {}
     },
     "fe779ac7a7034dcf8bd6ea5ef053ffca": {
      "model_module": "@jupyter-widgets/base",
      "model_module_version": "1.2.0",
      "model_name": "LayoutModel",
      "state": {}
     },
     "ff23e26ed6814b75bb537932a5aed405": {
      "model_module": "@jupyter-widgets/base",
      "model_module_version": "1.2.0",
      "model_name": "LayoutModel",
      "state": {}
     },
     "ff3860b16a2a4f97a83185a132c5144a": {
      "model_module": "@jupyter-widgets/base",
      "model_module_version": "1.2.0",
      "model_name": "LayoutModel",
      "state": {}
     },
     "ff7ff2cb6c3441cf9463e6aacbdf3acc": {
      "model_module": "@jupyter-widgets/base",
      "model_module_version": "1.2.0",
      "model_name": "LayoutModel",
      "state": {}
     },
     "ffad1dd90e374cda88cf494b6656040c": {
      "model_module": "@jupyter-widgets/controls",
      "model_module_version": "1.5.0",
      "model_name": "DropdownModel",
      "state": {
       "_options_labels": [
        "denies",
        "endorses"
       ],
       "description": "hopelessness",
       "index": 0,
       "layout": "IPY_MODEL_6ca1abb4c0974a9b85bd5dd3b0292df2",
       "style": "IPY_MODEL_1948a170b76a4fd4aa9d16216be4166f"
      }
     }
    },
    "version_major": 2,
    "version_minor": 0
   }
  }
 },
 "nbformat": 4,
 "nbformat_minor": 4
}
