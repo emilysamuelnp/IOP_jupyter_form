{
 "cells": [
  {
   "cell_type": "markdown",
   "metadata": {
    "id": "Vyt4TxEvFDbo"
   },
   "source": [
    "# Important! Before first use\n",
    "In Top Navigation Bar, Click Runtime > Run all  ✅"
   ]
  },
  {
   "cell_type": "code",
   "execution_count": 20,
   "metadata": {
    "cellView": "form",
    "id": "KbJSQCFeb-Ib",
    "jupyter": {
     "source_hidden": true
    },
    "tags": []
   },
   "outputs": [],
   "source": [
    "# imports\n",
    "from ipywidgets import interact, interactive, fixed, interact_manual\n",
    "import ipywidgets as widgets\n",
    "from ipywidgets import Button, Layout\n",
    "import sys"
   ]
  },
  {
   "cell_type": "markdown",
   "metadata": {
    "id": "rI7M-D7GO-70"
   },
   "source": [
    "\n",
    "\n",
    "<a href=\"https://docs.google.com/document/create\"><img src=\"https://drive.google.com/uc?export=download&id=1xOW1DGMOOo69DMDbIke0cmILnegvy8o9\" alt=\"open google doc\" style=\"width:42px;height:42px;\">Create Doc and name it</a>"
   ]
  },
  {
   "cell_type": "markdown",
   "metadata": {},
   "source": [
    "# patient ID 👤"
   ]
  },
  {
   "cell_type": "code",
   "execution_count": 25,
   "metadata": {
    "cellView": "form",
    "colab": {
     "base_uri": "https://localhost:8080/",
     "height": 465,
     "referenced_widgets": [
      "4ae4b79cd80942b085d5e7ed4831bbea"
     ]
    },
    "id": "5Hhi0vHuaWsX",
    "jupyter": {
     "source_hidden": true
    },
    "outputId": "046b3969-ba02-4999-ddd5-ccc4c5a66244",
    "tags": []
   },
   "outputs": [
    {
     "data": {
      "application/vnd.jupyter.widget-view+json": {
       "model_id": "67370c9cd4bd4580941c699fea1a7461",
       "version_major": 2,
       "version_minor": 0
      },
      "text/plain": [
       "HBox(children=(VBox(children=(VBox(children=(BoundedIntText(value=33, description='Age:', max=200), Text(value…"
      ]
     },
     "metadata": {},
     "output_type": "display_data"
    }
   ],
   "source": [
    "# @title Patient id form\n",
    "\n",
    "style = {'description_width': '150px'}\n",
    "layout_text_area = Layout(width='50%')\n",
    "layout_dropdown = Layout(width='25%')\n",
    "\n",
    "treatment_centers = [\"Silicon Beach\", \"Momentum\", \"Create Recovery Center\", \"Casablanca\"]\n",
    "\n",
    "substance_options=[\"polysubstance\", \"alcohol\", \"heroin\", \n",
    "             \"methamphetamine\", \"cannabis\", 'opioid',\n",
    "             'sedative, hypnotic, or anxiolytic', 'cocaine', 'fentanyl',\n",
    "             'ecstasy/MDMA', 'ketamine', 'mushrooms', 'LSD', 'no drug']\n",
    "\n",
    "mental_options=[\"anxiety\", 'depression', 'ptsd', 'adhd', \n",
    "             'bipolar I disorder', 'bipolar II disorder', 'schizophrenia',\n",
    "             'psychosis', 'insomnia', 'no mental illness']\n",
    "\n",
    "id_choices = widgets.HBox([widgets.VBox([widgets.VBox([\n",
    "                  widgets.BoundedIntText(\n",
    "                    value=33,\n",
    "                    min=0,\n",
    "                    max=200,\n",
    "                    step=1,\n",
    "                    description='Age:',\n",
    "                    disabled=False\n",
    "                ), widgets.Text(description='Pronoun:', value='they'),\n",
    "                widgets.Dropdown(description='Gender:',\n",
    "                                 options=['male', 'female', 'nb']),\n",
    "            widgets.Dropdown(description='Trmt Center:', \n",
    "                             value=\"Create Recovery Center\",\n",
    "                                 options=treatment_centers)]),\n",
    "    widgets.HBox([widgets.Textarea(description='Notes:', layout=Layout(height=\"200px\"))])]), \n",
    "    widgets.HBox([widgets.VBox(\n",
    "        [widgets.Checkbox(description=x) for x in substance_options])]),\n",
    "        widgets.VBox([widgets.Checkbox(description=x) for x in mental_options])])\n",
    "\n",
    "display(id_choices)\n",
    "\n"
   ]
  },
  {
   "cell_type": "markdown",
   "metadata": {},
   "source": [
    "# HPI 🤒"
   ]
  },
  {
   "cell_type": "code",
   "execution_count": 31,
   "metadata": {
    "cellView": "form",
    "colab": {
     "base_uri": "https://localhost:8080/",
     "height": 455,
     "referenced_widgets": [
      "59666ff510b04b25889e8a2990eef55e",
      "4b21d0788fda4af3b7e9aa8c107ecd33"
     ]
    },
    "id": "V0ESz3JbFjQt",
    "jupyter": {
     "source_hidden": true
    },
    "outputId": "e1cedb13-e500-4b15-8af7-5d826c497842",
    "tags": []
   },
   "outputs": [
    {
     "data": {
      "application/vnd.jupyter.widget-view+json": {
       "model_id": "f135b18077914a1fb1d547041795e54c",
       "version_major": 2,
       "version_minor": 0
      },
      "text/plain": [
       "interactive(children=(Textarea(value='', description='Treatment Reason', layout=Layout(width='50%'), placehold…"
      ]
     },
     "metadata": {},
     "output_type": "display_data"
    }
   ],
   "source": [
    "#@title HPI form\n",
    "\n",
    "treatment_reason_text = widgets.Textarea(layout=layout_text_area, description=\"Treatment Reason\",\n",
    "                             placeholder='Type Something', style=style)\n",
    "\n",
    "time_box = widgets.BoundedIntText(layout=layout_text_area, value=4,min=0,max=200,\n",
    "                    description='Sober Time:',\n",
    "                    disabled=False,\n",
    "                    style=style)\n",
    "\n",
    "period_dropdown = widgets.Dropdown(layout=layout_text_area, value='days', options=['days', 'months', 'years'], \n",
    "                                 style=style, ensure_option=False, description=\"Sober period\",)\n",
    "\n",
    "w_choice = widgets.Dropdown(layout=layout_text_area, description=\"Withdrawals\", \n",
    "            options=['denies', 'endorses'], value='denies',\n",
    "            style=style, ensure_option=False)\n",
    "\n",
    "c_choice = widgets.Dropdown(layout=layout_text_area, description=\"Cravings\",\n",
    "                            options=['denies', 'endorses'], value='denies', \n",
    "                            style=style, ensure_option=False)\n",
    " \n",
    "anti_cravings_dropdown = widgets.Dropdown(layout=layout_text_area, \n",
    "                        options=['declines', 'elects to start''would like to continue with'], \n",
    "                        description=\"Anti-Craving Medication\", value='declines', \n",
    "                        style=style, ensure_option=False) \n",
    "\n",
    "negative_impact_text = widgets.Textarea(layout=layout_text_area, description=\"Negative Impact\",\n",
    "                             style=style, placeholder='Type Something')\n",
    "\n",
    "history_notes_text = widgets.Text(layout=layout_text_area, style=style)                        \n",
    "\n",
    "hpi_template = \"\"\"\n",
    "History of Present Illness:\n",
    "The patient states that they decided to come to treatment because {}. \n",
    "Patient reports they have been sober for {} {}.\n",
    "The patient {} withdrawals. The patient {} cravings.\n",
    "The patient {} anti-craving medication.\n",
    "The patient reports their substance use impacted their life negatively {} \\n {}\n",
    "    \"\"\"\n",
    "def print_history(treatment_reason, withdrawals_choice, cravings_choice,\n",
    "                  anti_cravings_choice,\n",
    "                  sober_time, sober_period, negative_impact, notes):\n",
    "    print(hpi_template.format(treatment_reason,\n",
    "                                sober_time,\n",
    "                                sober_period,\n",
    "                                withdrawals_choice,\n",
    "                                cravings_choice,\n",
    "                                anti_cravings_choice,\n",
    "                                negative_impact,\n",
    "                              notes))\n",
    "hpi = interactive(print_history, \n",
    "                               treatment_reason=treatment_reason_text,\n",
    "                               withdrawals_choice=w_choice,\n",
    "                               cravings_choice=c_choice,\n",
    "                               sober_time=time_box,\n",
    "                               sober_period=period_dropdown,\n",
    "                               negative_impact=negative_impact_text,\n",
    "                               anti_cravings_choice=anti_cravings_dropdown,\n",
    "                               notes=history_notes_text\n",
    "                               )\n",
    "display(hpi)\n",
    "\n",
    "hpi_string = hpi.children[-1]"
   ]
  },
  {
   "cell_type": "markdown",
   "metadata": {},
   "source": [
    "# Current Medication 💊"
   ]
  },
  {
   "cell_type": "code",
   "execution_count": 37,
   "metadata": {
    "cellView": "form",
    "colab": {
     "base_uri": "https://localhost:8080/",
     "height": 342,
     "referenced_widgets": [
      "266453f7e4a345059293e93c361df9ec",
      "107d510a35654aebaf47a525fae555ae",
      "9e1bc5c49b5b4fa5991ae6440cabfee0",
      "9c0e35714e594f44b29950b7662ff890",
      "f79b492415394ad9a5e5ff5f3e964065",
      "4b07f5774bc74049b5bcf820e85656e4",
      "50658378aeba4bbdb74edd85d5384f78",
      "61f9c2a3dde34c6eaaaf9a515c3d828f",
      "3aa4bb5fc16d43acb2630d24824ccae3",
      "59666ff510b04b25889e8a2990eef55e",
      "01d43bf6863b47c5af668c0caf9e14bb",
      "ca01587fc223485084ce30cd9aa18bd2",
      "767d1451a19e4848938d95968103a071",
      "c876fc1d909f454d992e14cd1b28caa1",
      "3a7aabafd8b14294a6068ead1cca5536"
     ]
    },
    "id": "Z1JUT07bujNV",
    "jupyter": {
     "source_hidden": true
    },
    "outputId": "e0443dcd-dcc2-49a0-ab36-73de21ec4710",
    "tags": []
   },
   "outputs": [
    {
     "data": {
      "application/vnd.jupyter.widget-view+json": {
       "model_id": "62b2c011126c4ddbb6b68a6eec0d1c03",
       "version_major": 2,
       "version_minor": 0
      },
      "text/plain": [
       "interactive(children=(Textarea(value='', description='Current medication', layout=Layout(width='50%'), placeho…"
      ]
     },
     "metadata": {},
     "output_type": "display_data"
    }
   ],
   "source": [
    "#@title Current Medication form\n",
    "med_statement_choice = \"Patient declines psychotropic medication and elects for more conservative approaches to psychiatric symptom management at this time.\"\n",
    "med_compliant_dropdown = widgets.Combobox(layout=layout_text_area, options=[\"Patient reports that they have been compliant with their psychotropic medication regimen and denies adverse effects\", \n",
    "                                                                            \"Patient reports that they have been non-compliant with their psychotropic medication regimen and denies adverse effects\"],\n",
    "                                          description=\"Med Compliant\",\n",
    "                                          style=style, ensure_option=False)\n",
    "med_adjust_dropdown = widgets.Dropdown(layout=layout_text_area, options=[\"declines\", \"is amenable with\"], \n",
    "                                 style=style, description=\"Med Adjust\")\n",
    "med_statement_dropdown =widgets.Combobox(layout=layout_text_area, options=[med_statement_choice], \n",
    "                                 style=style, description=\"Med Statement\")\n",
    "current_medication_text = widgets.Textarea(style=style, description=\"Current medication\",\n",
    "                                           layout=layout_text_area, \n",
    "                                           placeholder=\"Type something\")\n",
    "med_notes = widgets.Textarea(layout=layout_text_area)\n",
    "\n",
    "current_medication_template = \"\"\"\n",
    "Current Medication:\n",
    "{}\n",
    "{} \n",
    "Patient {} adjustments to their medication regimen.\n",
    "{}\n",
    "{}\n",
    "\"\"\"\n",
    "def print_medication(current_medication, med_compliant, med_adjust, \n",
    "                     med_statement, notes):\n",
    "    print(current_medication_template.format(current_medication,\n",
    "                                             med_compliant,\n",
    "                                             med_adjust,\n",
    "                                             med_statement,\n",
    "                                             notes))\n",
    "current_medication = interactive(print_medication,\n",
    "                               current_medication=current_medication_text, \n",
    "                               med_compliant=med_compliant_dropdown, \n",
    "                               med_adjust=med_adjust_dropdown,\n",
    "                               med_statement=med_statement_dropdown, \n",
    "                               notes=med_notes\n",
    "                               )\n",
    "display(current_medication)\n",
    "\n",
    "current_medication_string = current_medication.children[-1]"
   ]
  },
  {
   "cell_type": "markdown",
   "metadata": {},
   "source": [
    "# Mood 🔮"
   ]
  },
  {
   "cell_type": "code",
   "execution_count": 40,
   "metadata": {
    "cellView": "form",
    "colab": {
     "base_uri": "https://localhost:8080/",
     "height": 657,
     "referenced_widgets": [
      "59666ff510b04b25889e8a2990eef55e",
      "39127d40610b49569c6e33ec15d593b0"
     ]
    },
    "id": "WAMJobeOgb64",
    "jupyter": {
     "source_hidden": true
    },
    "outputId": "8a715af0-e6b4-4c05-885b-da73654c144e",
    "tags": []
   },
   "outputs": [
    {
     "data": {
      "application/vnd.jupyter.widget-view+json": {
       "model_id": "31be634a51e8406b964c051ee381b9c4",
       "version_major": 2,
       "version_minor": 0
      },
      "text/plain": [
       "interactive(children=(Dropdown(description='depressed', layout=Layout(width='50%'), options=('denies', 'endors…"
      ]
     },
     "metadata": {},
     "output_type": "display_data"
    }
   ],
   "source": [
    "# @title Mood form\n",
    "\n",
    "depressed_choice_dropdown = widgets.Dropdown(layout=layout_text_area, options=['denies', 'endorses'], \n",
    "                                 value='denies', style=style, ensure_option=False)\n",
    "sustained_sadness_choice_dropdown = widgets.Dropdown(layout=layout_text_area, options=['denies', 'endorses'], \n",
    "                                description=\"Sust Sadness\", value='denies', style=style, ensure_option=False)\n",
    "guilt_choice_dropdown = widgets.Dropdown(layout=layout_text_area, options=['denies', 'endorses'], \n",
    "                                 value='denies', style=style, ensure_option=False)\n",
    "anhedonia_choice_dropdown = widgets.Dropdown(layout=layout_text_area, options=['denies', 'endorses'], \n",
    "                                 value='denies', style=style, ensure_option=False)\n",
    "sleep_choice_dropdown = widgets.Dropdown(layout=layout_text_area, options=['denies', 'endorses'], \n",
    "                                 value='denies', style=style, ensure_option=False)\n",
    "appetite_choice_dropdown = widgets.Dropdown(layout=layout_text_area, options=['good', 'fair', 'poor'], \n",
    "                                 value='fair', style=style, ensure_option=False)\n",
    "energy_choice_dropdown = widgets.Dropdown(layout=layout_text_area, options=['good', 'fair', 'poor'], \n",
    "                                 value='fair', style=style, ensure_option=False)\n",
    "concentration_choice_dropdown = widgets.Dropdown(layout=layout_text_area, options=['good', 'fair', 'poor'], \n",
    "                                 value='fair', style=style, ensure_option=False)\n",
    "hopelessness_choice_dropdown = widgets.Dropdown(layout=layout_text_area, options=['denies', 'endorses'], \n",
    "                                 value='denies', style=style, ensure_option=False)\n",
    "past_depression_dropdown = widgets.Dropdown(layout=layout_text_area, options=['deny', 'indicate'], \n",
    "                                 description=\"Past Depression\", value='indicate', style=style, ensure_option=False)\n",
    "mania_choice_dropdown = widgets.Dropdown(layout=layout_text_area, options=['denies', 'endorses'], \n",
    "                                 value='denies', style=style, ensure_option=False)\n",
    "\n",
    "mood_notes_text = widgets.Textarea(layout=layout_text_area, style=style)                        \n",
    "\n",
    "mood_template =\"\"\"\n",
    "This patient {} current depressed mood. \n",
    "Over the past several weeks, the patient {} sustained sadness, {} excessive guilt. \n",
    "The patient {} anhedonia.\n",
    "The patient reports {} ability to concentrate. \n",
    "The patient {} issues with sleep. \n",
    "The patient reports {} appetite.\n",
    "Reports {} energy level. \n",
    "The patient {} hopelessness, worthlessness, SI/HI/AH/VH/delusions.\n",
    "They {} they have experienced depressive episodes lasting longer than two weeks in the absence of substance use.\n",
    "The patient {} current decreased need for sleep, euphoria \n",
    "or grandiosity or irritability, flights of idea, impulsivity, uncharacteristic talkativeness or rapid speech.\n",
    "{}\n",
    "\"\"\"\n",
    "def print_mood(depressed, sustained_sadness, guilt,\n",
    "                anhedonia, sleep, appetite, energy, concentration,\n",
    "               hopelessness, past_depression,\n",
    "               mania, notes):\n",
    "    print(mood_template.format(depressed, sustained_sadness, guilt,\n",
    "                anhedonia, concentration, sleep, appetite, energy,\n",
    "               hopelessness, past_depression,\n",
    "               mania,notes))\n",
    "mood = interactive(print_mood, \n",
    "                               depressed=depressed_choice_dropdown,\n",
    "                               sustained_sadness=sustained_sadness_choice_dropdown,\n",
    "                               guilt=guilt_choice_dropdown,\n",
    "                               anhedonia=anhedonia_choice_dropdown,\n",
    "                               sleep=sleep_choice_dropdown,\n",
    "                               appetite=appetite_choice_dropdown,\n",
    "                               energy=energy_choice_dropdown,\n",
    "                               concentration=concentration_choice_dropdown,\n",
    "                               hopelessness=hopelessness_choice_dropdown,\n",
    "                               past_depression=past_depression_dropdown,\n",
    "                               mania=mania_choice_dropdown,\n",
    "                               notes=mood_notes_text\n",
    "                               )\n",
    "display(mood)\n",
    "\n",
    "mood_string = mood.children[-1]"
   ]
  },
  {
   "cell_type": "markdown",
   "metadata": {},
   "source": [
    "# Anxiety 😱"
   ]
  },
  {
   "cell_type": "code",
   "execution_count": 41,
   "metadata": {
    "cellView": "form",
    "colab": {
     "base_uri": "https://localhost:8080/",
     "height": 230,
     "referenced_widgets": [
      "92bf0729d3cd435ca797c533932e9c65",
      "14265da382da4c4c858c896f156cf7d6",
      "4155093955bd4a4b91ce9b17886f49fe",
      "4c1492f7654849f2b757037252967517",
      "d2f4890161fb4d449c11fe967c20dcb2",
      "a709df12b84744d2be776a6c253a9a25",
      "bb5bdb5f9f074b948a0481a2ba1cd54a",
      "59666ff510b04b25889e8a2990eef55e",
      "e434d1d57ac0443f9b6e487934524e80",
      "df6fd77f7a0243ca9ed2178911ebba24",
      "7850dfad0d6246b1ab4c6402beb491a7"
     ]
    },
    "id": "RB27TULNs0SC",
    "jupyter": {
     "source_hidden": true
    },
    "outputId": "ea683b44-6e0d-4737-fc56-8b50d413f634",
    "tags": []
   },
   "outputs": [
    {
     "data": {
      "application/vnd.jupyter.widget-view+json": {
       "model_id": "6c7777371de240768d724aba8f02aac3",
       "version_major": 2,
       "version_minor": 0
      },
      "text/plain": [
       "interactive(children=(Dropdown(description='Physical Anxiety', layout=Layout(width='50%'), options=('denies', …"
      ]
     },
     "metadata": {},
     "output_type": "display_data"
    }
   ],
   "source": [
    "# @title Anxiety form\n",
    "\n",
    "physical_anxiety_dropdown = widgets.Dropdown(layout=layout_text_area, options=['denies', 'endorses'], \n",
    "                                 description=\"Physical Anxiety\", value='denies', style=style, ensure_option=False)\n",
    "anxiety_dropdown = widgets.Dropdown(layout=layout_text_area, options=['denies', 'endorses'], \n",
    "                                 value='denies', style=style, ensure_option=False)\n",
    "anxiety_notes = widgets.Textarea(layout=layout_text_area, style=style)\n",
    "\n",
    "anxiety_template = \"\"\"\n",
    "The patient {} that they worry regularly about multiple aspects of their life with accompanying physical symptoms.\n",
    "Over the past several weeks, the patient {} any excessive worrying,  \n",
    "feeling keyed up and on edge, irritability, or panic attacks. \n",
    "{}\n",
    "\"\"\"\n",
    "\n",
    "def print_anxiety(physical_anxiety, anxiety, notes):\n",
    "    print(anxiety_template.format(physical_anxiety, anxiety, notes))\n",
    "anxiety = interactive(print_anxiety, \n",
    "                               physical_anxiety=physical_anxiety_dropdown, \n",
    "                               anxiety=anxiety_dropdown, \n",
    "                               notes=anxiety_notes\n",
    "                               )\n",
    "display(anxiety)\n",
    "\n",
    "anxiety_string = anxiety.children[-1]"
   ]
  },
  {
   "cell_type": "markdown",
   "metadata": {},
   "source": [
    "# Trauma ⚔️"
   ]
  },
  {
   "cell_type": "code",
   "execution_count": 42,
   "metadata": {
    "cellView": "form",
    "colab": {
     "base_uri": "https://localhost:8080/",
     "height": 230,
     "referenced_widgets": [
      "63f856ec725844fa8a49cf0160bd0b53",
      "15dae970d05b4885ae1d5687e5819501",
      "09f43c29ba9448339923d10e59d6aabf",
      "974d65af5fb1468d81c672be6984bab0",
      "f6b88f70e03b496c92ee02f2c77e50f9",
      "02429984defd4e7293f509762ff20341",
      "1c2bafbd5f324a159ca854d40ca27499",
      "59666ff510b04b25889e8a2990eef55e",
      "1d5cfd786dc44775a417d20333008539",
      "1fa8511e2a604f7eb856f20b984b6b56",
      "7c0667356b6a4f87827aba5fb2cdb2da"
     ]
    },
    "id": "tKizbx2GtpTt",
    "jupyter": {
     "source_hidden": true
    },
    "outputId": "211fc2af-54c4-4767-91f3-62752232c9ec",
    "tags": []
   },
   "outputs": [
    {
     "data": {
      "application/vnd.jupyter.widget-view+json": {
       "model_id": "4b691e3e47e2403c8f75edfd65eac371",
       "version_major": 2,
       "version_minor": 0
      },
      "text/plain": [
       "interactive(children=(Dropdown(description='Past Trauma', layout=Layout(width='50%'), options=('denies', 'endo…"
      ]
     },
     "metadata": {},
     "output_type": "display_data"
    }
   ],
   "source": [
    "#@title Trauma form\n",
    "\n",
    "past_trauma_dropdown = widgets.Dropdown(layout=layout_text_area, options=['denies', 'endorses'], \n",
    "                                 description=\"Past Trauma\", style=style)\n",
    "current_trauma_dropdown = widgets.Dropdown(layout=layout_text_area, options=['denies', 'endorses'], \n",
    "                                 description=\"Current Trauma\", style=style)\n",
    "trauma_notes = widgets.Textarea(layout=layout_text_area, style=style)\n",
    "\n",
    "trauma_template = \"\"\"\n",
    "The patient {} that they have sustained significant trauma, \n",
    "{} current symptoms of PTSD including flashbacks, nightmares, hypervigilance, triggers, \n",
    "and avoidance of triggers.\n",
    "{}\n",
    "\"\"\"\n",
    "def print_trauma(past_trauma, current_trauma, notes):\n",
    "    print(trauma_template.format(past_trauma, current_trauma, notes))\n",
    "\n",
    "trauma = interactive(print_trauma, \n",
    "                               past_trauma=past_trauma_dropdown, \n",
    "                               current_trauma=current_trauma_dropdown, \n",
    "                               notes=trauma_notes\n",
    "                               )\n",
    "display(trauma)\n",
    "\n",
    "trauma_string = trauma.children[-1]"
   ]
  },
  {
   "cell_type": "markdown",
   "metadata": {},
   "source": [
    "# Psych disorders 🧠"
   ]
  },
  {
   "cell_type": "code",
   "execution_count": 44,
   "metadata": {
    "cellView": "form",
    "colab": {
     "base_uri": "https://localhost:8080/",
     "height": 329,
     "referenced_widgets": [
      "f82b13e519cb4b65bb422b27eab34367",
      "545e6516bf47437b9e96a9b62d6a0d76",
      "f2e6a2f848e94b70b79e73e8f3c1a1e2",
      "75a19959f81e4c9688a006afc3ec8564",
      "7507f5886add40908e58300464f1bbf6",
      "28c3381997e94e8e8d8673bc195fa029",
      "23b99c10d042495c9e2fe2a51e8f868b",
      "cb5d1472d29748b0a2596e63db8b4090",
      "cb456f7758614513be2e0ab05ef08d87",
      "59666ff510b04b25889e8a2990eef55e",
      "1f4c4282d8b84e3ea7e47355b81b4544",
      "5b0796cde97641aea0530dfbeeb0ebed",
      "c2a2534a90094dddb8938f79369d1f69",
      "c563ab77ce534395805631510394afb4",
      "35a9385c05284603902b4fd5d50e7923"
     ]
    },
    "id": "zVQPZcEpKBXm",
    "jupyter": {
     "source_hidden": true
    },
    "outputId": "dad08a42-b824-4b51-9d52-59747acaa6d7",
    "tags": []
   },
   "outputs": [
    {
     "data": {
      "application/vnd.jupyter.widget-view+json": {
       "model_id": "f5701dda6f6848029499d9921f954515",
       "version_major": 2,
       "version_minor": 0
      },
      "text/plain": [
       "interactive(children=(Dropdown(description='mania', index=1, layout=Layout(width='50%'), options=('a history',…"
      ]
     },
     "metadata": {},
     "output_type": "display_data"
    }
   ],
   "source": [
    "#@title Psych disorders\n",
    "\n",
    "mania_dropdown = widgets.Dropdown(layout=layout_text_area, options=['a history', 'no history'], \n",
    "                                 value='no history', style=style)\n",
    "psychosis_dropdown = widgets.Dropdown(layout=layout_text_area, options=['a history', 'no history'], \n",
    "                                 value='no history', style=style)\n",
    "learning_disabilties_dropdown = widgets.Dropdown(layout=layout_text_area, options=['a history', 'no history'], \n",
    "                                 description=\"Learning Disabilities\", value='no history', style=style)\n",
    "eating_disorder_dropdown = widgets.Dropdown(layout=layout_text_area, options=['a history', 'no history'], \n",
    "                                 description=\"Eating Disorders\", value='no history', style=style)\n",
    "\n",
    "psych_disorder_notes = widgets.Textarea(layout=layout_text_area, style=style)\n",
    "\n",
    "psych_disorder_template = \"\"\"\n",
    "The patient reported {} of mania.\n",
    "The patient reported {} of psychosis. \n",
    "The patient reported {} of  learning disabilities, OCD or tics. \n",
    "The patient reported {} of an eating disorder. \n",
    "The patient reported no history of compulsive gambling, problematic internet/video game use, compulsive shopping, or sexual addiction. \n",
    "{}\n",
    "\"\"\"\n",
    "def print_psych_disorders(mania, psychosis, learning_disabilties, \n",
    "                          eating_disorder, notes):\n",
    "    print(psych_disorder_template.format(mania, psychosis, learning_disabilties, \n",
    "                          eating_disorder, notes))\n",
    "psych_disorder = interactive(print_psych_disorders, \n",
    "                               mania=mania_dropdown,\n",
    "                     psychosis=psychosis_dropdown,\n",
    "                     learning_disabilties=learning_disabilties_dropdown,\n",
    "                     eating_disorder=eating_disorder_dropdown,\n",
    "                     notes=psych_disorder_notes\n",
    "                               )\n",
    "display(psych_disorder)\n",
    "\n",
    "psych_disorder_string = psych_disorder.children[-1]"
   ]
  },
  {
   "cell_type": "markdown",
   "metadata": {},
   "source": [
    "## Psych History 📼"
   ]
  },
  {
   "cell_type": "code",
   "execution_count": 48,
   "metadata": {
    "cellView": "form",
    "colab": {
     "base_uri": "https://localhost:8080/",
     "height": 391,
     "referenced_widgets": [
      "59666ff510b04b25889e8a2990eef55e",
      "e3a3f1a664db42eda1d75b3f686049b8"
     ]
    },
    "id": "VRxkYonO49sH",
    "jupyter": {
     "source_hidden": true
    },
    "outputId": "8398b6bf-2db2-41ea-ec08-23214ec2472c",
    "tags": []
   },
   "outputs": [
    {
     "data": {
      "application/vnd.jupyter.widget-view+json": {
       "model_id": "6ff88cf937ba464d89238e6d6bdf5126",
       "version_major": 2,
       "version_minor": 0
      },
      "text/plain": [
       "interactive(children=(Dropdown(description='hospitalization', layout=Layout(width='50%'), options=('denies', '…"
      ]
     },
     "metadata": {},
     "output_type": "display_data"
    }
   ],
   "source": [
    "#@title Psych History form\n",
    "\n",
    "hospitalization_dropdown = widgets.Dropdown(\n",
    "    layout=layout_text_area, options=['denies', 'endorses'], \n",
    "    style=style)\n",
    "suicide_dropdown = widgets.Dropdown(\n",
    "    layout=layout_text_area, options=['denies', 'endorses'], \n",
    "    style=style)\n",
    "self_injury_dropdown = widgets.Dropdown(\n",
    "    layout=layout_text_area, options=['denies', 'endorses'], \n",
    "    style=style, description=\"Self injury\")\n",
    "\n",
    "previous_meds_text = widgets.Textarea(layout=layout_text_area, style=style, value='None', description=\"Prev Meds\") \n",
    "outpatient_psychiatrist_text = widgets.Text(layout=layout_text_area, style=style, value='None', description=\"Outpatient Psych\")\n",
    "psych_notes = widgets.Textarea(layout=layout_text_area, style=style) \n",
    "\n",
    "psych_history_template = \"\"\"\n",
    "Psychiatric History: \n",
    "Patient {} any history of psychiatric hospitalizations. \n",
    "Patient {} suicide attempts, \n",
    "Patient {} self-injurious behavior. \n",
    "Previous meds: {} \n",
    "Current outpatient psychiatrist: {}\n",
    "{}\n",
    "\"\"\"\n",
    "def print_psych_history(hospitalization, suicide,\n",
    "                        self_injury, previous_meds, \n",
    "                        outpatient_psychiatrist, notes):\n",
    "    print(psych_history_template.format(hospitalization, suicide,\n",
    "                        self_injury, previous_meds, \n",
    "                        outpatient_psychiatrist, notes))\n",
    "psych_history = interactive(print_psych_history,\n",
    "                            hospitalization=hospitalization_dropdown,\n",
    "                               suicide=suicide_dropdown,\n",
    "                               self_injury=self_injury_dropdown,\n",
    "                               previous_meds=previous_meds_text,\n",
    "                               outpatient_psychiatrist=outpatient_psychiatrist_text,\n",
    "                               notes=psych_notes\n",
    "                               )\n",
    "display(psych_history)\n",
    "\n",
    "psych_history_string = psych_history.children[-1]"
   ]
  },
  {
   "cell_type": "markdown",
   "metadata": {},
   "source": [
    "# Substance Use History 🚬"
   ]
  },
  {
   "cell_type": "code",
   "execution_count": 51,
   "metadata": {
    "cellView": "form",
    "colab": {
     "base_uri": "https://localhost:8080/",
     "height": 458,
     "referenced_widgets": [
      "59666ff510b04b25889e8a2990eef55e",
      "acf0e89d28864d089da2f1f8b033c811"
     ]
    },
    "id": "w9cvVsx3U6k8",
    "jupyter": {
     "source_hidden": true
    },
    "outputId": "da69c16d-a2a7-43b5-ad62-2dc99e67e5e1",
    "tags": []
   },
   "outputs": [
    {
     "data": {
      "application/vnd.jupyter.widget-view+json": {
       "model_id": "c6a3699368474561af5d87f7212cf8b8",
       "version_major": 2,
       "version_minor": 0
      },
      "text/plain": [
       "interactive(children=(Textarea(value='nothing', description='primary_substances', layout=Layout(width='50%'), …"
      ]
     },
     "metadata": {},
     "output_type": "display_data"
    }
   ],
   "source": [
    "#@title Substance Use History form\n",
    "primary_substances_text = widgets.Textarea(layout=layout_text_area, style=style,\n",
    "                                           value='nothing')\n",
    "num_times_in_treatment_int = widgets.BoundedIntText(value=0, style=style, layout=layout_text_area,min=0, description=\"# times in treatment\")\n",
    "longest_sober_time_int = widgets.BoundedIntText(style=style, layout=layout_text_area,min=0, description=\"Longest sober time\")\n",
    "longest_sober_period_dropdown = widgets.Dropdown(\n",
    "    layout=layout_text_area, options=['days', 'weeks', 'months', 'years'], \n",
    "    style=style, description=\"Longest sober period\")\n",
    "ivdu_dropdown = widgets.Dropdown(\n",
    "    layout=layout_text_area, options=['denies', 'endorses'], \n",
    "    style=style)\n",
    "seizures_dropdown = widgets.Dropdown(\n",
    "    layout=layout_text_area, options=['denies', 'endorses'], \n",
    "    style=style)\n",
    "substance_notes = widgets.Textarea(layout=layout_text_area, style=style) \n",
    "\n",
    "substance_history_template = \"\"\"\n",
    "Substance Use History:\n",
    "The patient states that their primary substances of abuse include\n",
    "{} with daily use for periods greater than \n",
    "6 months with resulting impairment in functioning. \n",
    "They state that they have been in residential treatment {} times, \n",
    "with their longest period of sobriety lasting {} {}. \n",
    "The patient {} history of IVDU. \n",
    "Patient {} seizures, complicated withdrawal, and DTs.\\n{}\n",
    "    \"\"\"\n",
    "def print_substance_history(primary_substances,\n",
    "                        num_times_in_treatment, longest_sober_time,\n",
    "                        longest_sober_period,\n",
    "                        ivdu, seizures, notes):\n",
    "    print(substance_history_template.format(primary_substances,\n",
    "                                                num_times_in_treatment,\n",
    "                                                longest_sober_time,\n",
    "                                                longest_sober_period,\n",
    "                                                ivdu,seizures,notes\n",
    "                                                ))\n",
    "substance_history = interactive(print_substance_history,\n",
    "    primary_substances=primary_substances_text,\n",
    "    num_times_in_treatment=num_times_in_treatment_int, \n",
    "    longest_sober_time=longest_sober_time_int,\n",
    "    longest_sober_period=longest_sober_period_dropdown, \n",
    "    ivdu=ivdu_dropdown, seizures=seizures_dropdown, \n",
    "    notes=substance_notes,\n",
    "    )\n",
    "display(substance_history)\n",
    "\n",
    "substance_history_string = substance_history.children[-1]"
   ]
  },
  {
   "cell_type": "markdown",
   "metadata": {},
   "source": [
    "# Medical History 🏥"
   ]
  },
  {
   "cell_type": "code",
   "execution_count": 53,
   "metadata": {
    "cellView": "form",
    "colab": {
     "base_uri": "https://localhost:8080/",
     "height": 329,
     "referenced_widgets": [
      "59666ff510b04b25889e8a2990eef55e",
      "c77757c304c14b50946f93c851fc1f55"
     ]
    },
    "id": "3mbO7y-0e7WV",
    "jupyter": {
     "source_hidden": true
    },
    "outputId": "3910b975-e653-4c16-8383-54b52e322a04",
    "tags": []
   },
   "outputs": [
    {
     "data": {
      "application/vnd.jupyter.widget-view+json": {
       "model_id": "c581f4bd68124a649d0edccabdc1ff9d",
       "version_major": 2,
       "version_minor": 0
      },
      "text/plain": [
       "interactive(children=(Dropdown(description='Acute Medical', layout=Layout(width='50%'), options=('denies', 'en…"
      ]
     },
     "metadata": {},
     "output_type": "display_data"
    }
   ],
   "source": [
    "#@title Medical History form\n",
    "\n",
    "acute_medical_dropdown = widgets.Dropdown(\n",
    "    layout=layout_text_area, options=['denies', 'endorses'], \n",
    "    style=style, description=\"Acute Medical\")\n",
    "hiv_medical_dropdown = widgets.Dropdown(\n",
    "    layout=layout_text_area, options=['denies', 'endorses'], \n",
    "    style=style, description=\"HIV Medical\")\n",
    "hep_medical_dropdown = widgets.Dropdown(\n",
    "    layout=layout_text_area, options=['denies', 'endorses'], \n",
    "    style=style, description=\"HEP Medical\")\n",
    "tbi_medical_dropdown = widgets.Dropdown(\n",
    "    layout=layout_text_area, options=['denies', 'endorses'], \n",
    "    style=style, description=\"TBI Medical\")\n",
    "acute_medical_notes = widgets.Textarea(layout=layout_text_area, style=style)\n",
    "\n",
    "medical_history_template = \"\"\"\n",
    "Medical History:\n",
    "The patient {} any acute medical conditions. \n",
    "The patient {} any history of HIV. \n",
    "The patient {} any history of hepatitis.\n",
    "The patient {} any history of TBI.\n",
    "{}\n",
    "\"\"\"\n",
    "def print_medical_history(acute_medical, hiv_medical, \n",
    "                          hep_medical, tbi_medical, notes):\n",
    "    print(medical_history_template.format(acute_medical, hiv_medical, \n",
    "                          hep_medical, tbi_medical, notes))\n",
    "medical_history = interactive(print_medical_history,\n",
    "                               acute_medical=acute_medical_dropdown,\n",
    "                               hiv_medical=hiv_medical_dropdown,\n",
    "                               hep_medical=hep_medical_dropdown,\n",
    "                               tbi_medical=tbi_medical_dropdown,\n",
    "                               notes=acute_medical_notes)\n",
    "display(medical_history)\n",
    "\n",
    "medical_history_string = medical_history.children[-1]"
   ]
  },
  {
   "cell_type": "markdown",
   "metadata": {},
   "source": [
    "# Allergies 🤧"
   ]
  },
  {
   "cell_type": "code",
   "execution_count": 12,
   "metadata": {
    "cellView": "form",
    "colab": {
     "base_uri": "https://localhost:8080/",
     "height": 17,
     "referenced_widgets": [
      "59666ff510b04b25889e8a2990eef55e",
      "ac64be68492045c2900675df469bd20d"
     ]
    },
    "id": "fOKDagBvgskt",
    "jupyter": {
     "source_hidden": true
    },
    "outputId": "dfbe8dfe-c8c5-4f63-ffaf-47353e414263"
   },
   "outputs": [
    {
     "data": {
      "application/vnd.jupyter.widget-view+json": {
       "model_id": "2432be86a42c4e508952a5223c1da5a8",
       "version_major": 2,
       "version_minor": 0
      },
      "text/plain": [
       "interactive(children=(Textarea(value='NKDA', description='allergies', layout=Layout(width='50%'), style=Descri…"
      ]
     },
     "metadata": {},
     "output_type": "display_data"
    }
   ],
   "source": [
    "#@title Allergies form\n",
    "\n",
    "allergies_text = widgets.Textarea(layout=layout_text_area, style=style,\n",
    "                                  value='NKDA')\n",
    "\n",
    "allergies_template = \"\"\"\n",
    "Allergies:\n",
    "{}\n",
    "\"\"\"\n",
    "def print_allergies_history(allergies):\n",
    "    print(allergies_template.format(allergies))\n",
    "allergies = interactive(print_allergies_history,\n",
    "                               allergies=allergies_text)\n",
    "display(allergies)\n",
    "\n",
    "allergies_string = allergies.children[-1]"
   ]
  },
  {
   "cell_type": "markdown",
   "metadata": {},
   "source": [
    "# Family Psych History 👨‍👩‍👦"
   ]
  },
  {
   "cell_type": "code",
   "execution_count": 13,
   "metadata": {
    "cellView": "form",
    "colab": {
     "base_uri": "https://localhost:8080/",
     "height": 17,
     "referenced_widgets": [
      "59666ff510b04b25889e8a2990eef55e",
      "45dae396413a4c9db5ca3ca03e11718e"
     ]
    },
    "id": "JwdmIAFghbxg",
    "jupyter": {
     "source_hidden": true
    },
    "outputId": "6265c045-1592-4938-d0ea-9f737136c049"
   },
   "outputs": [
    {
     "data": {
      "application/vnd.jupyter.widget-view+json": {
       "model_id": "c5d13625498740a191b5e6fe984d9e0c",
       "version_major": 2,
       "version_minor": 0
      },
      "text/plain": [
       "interactive(children=(Textarea(value='Denies family history of mental illness', description='family', layout=L…"
      ]
     },
     "metadata": {},
     "output_type": "display_data"
    }
   ],
   "source": [
    "#@title Family Psych History form\n",
    "\n",
    "family_text = widgets.Textarea(layout=layout_text_area, style=style,\n",
    "                                  value='Denies family history of mental illness')\n",
    "family_template = \"\"\"\n",
    "Family Psychiatric History:\n",
    "{}\n",
    "\"\"\"\n",
    "def print_family_history(family):\n",
    "    print(family_template.format(family))\n",
    "family = interactive(print_family_history,\n",
    "                               family=family_text)\n",
    "display(family)\n",
    "\n",
    "family_string = family.children[-1]"
   ]
  },
  {
   "cell_type": "markdown",
   "metadata": {},
   "source": [
    "# Social History 👫"
   ]
  },
  {
   "cell_type": "code",
   "execution_count": 54,
   "metadata": {
    "cellView": "form",
    "colab": {
     "base_uri": "https://localhost:8080/",
     "height": 361,
     "referenced_widgets": [
      "59666ff510b04b25889e8a2990eef55e",
      "073ff77cf15e416a91b3c26b5529f284"
     ]
    },
    "id": "VllLTIHvh599",
    "jupyter": {
     "source_hidden": true
    },
    "outputId": "dc91bb62-b504-4ccb-f0f3-976927484d49",
    "tags": []
   },
   "outputs": [
    {
     "data": {
      "application/vnd.jupyter.widget-view+json": {
       "model_id": "355449fb4e774ab0a9d3432525102b05",
       "version_major": 2,
       "version_minor": 0
      },
      "text/plain": [
       "interactive(children=(Dropdown(description='married', layout=Layout(width='50%'), options=('single', 'married'…"
      ]
     },
     "metadata": {},
     "output_type": "display_data"
    }
   ],
   "source": [
    "# @title Social History form\n",
    "\n",
    "married_dropdown = widgets.Dropdown(\n",
    "    layout=layout_text_area, options=['single', 'married'], \n",
    "    style=style)\n",
    "\n",
    "num_children_int = widgets.BoundedIntText(value=0, style=style, layout=layout_text_area,min=0, description=\"# Children\")\n",
    "home_dropdown = widgets.Combobox(layout=layout_text_area, \n",
    "                                 options=['in sober living', 'at home'], \n",
    "                                 style=style)\n",
    "legal_dropdown = widgets.Dropdown(layout=layout_text_area, \n",
    "                                  options=['denies', 'endorses'], \n",
    "                                  style=style)\n",
    "abuse_dropdown = widgets.Dropdown(layout=layout_text_area, \n",
    "                                  options=['denies', 'endorses'],\n",
    "                                  style=style)\n",
    "\n",
    "social_history_notes = widgets.Textarea(layout=layout_text_area, style=style)\n",
    "\n",
    "if num_children_int.value == 1:\n",
    "    num_child_int = 'child'\n",
    "else:\n",
    "    num_child_int = 'children'\n",
    "social_history_string = \"\"\"\n",
    "Social History:\n",
    "The patient states that they are {}, and have {} {}. \n",
    "They report that they are currently living {}. \n",
    "The patient {} any history of legal problems.  \n",
    "The patient {} a history of abuse.\n",
    "{}\n",
    "\"\"\"\n",
    "def print_social_history(married, num_children, \n",
    "                         home, legal, abuse, notes):\n",
    "    if num_children == 1:\n",
    "        num_child_int = 'child'\n",
    "    else:\n",
    "        num_child_int = 'children'\n",
    "    print(social_history_string.format(married, num_children, \n",
    "                        num_child_int, home, legal, abuse, notes))\n",
    "social = interactive(print_social_history,\n",
    "                     married=married_dropdown,\n",
    "                     num_children=num_children_int,\n",
    "                     home=home_dropdown,\n",
    "                     legal=legal_dropdown,\n",
    "                     abuse=abuse_dropdown,\n",
    "                     notes=social_history_notes\n",
    "                     )\n",
    "display(social)\n",
    "\n",
    "social_string = social.children[-1]"
   ]
  },
  {
   "cell_type": "markdown",
   "metadata": {},
   "source": [
    "# Mental Status Exam 📊"
   ]
  },
  {
   "cell_type": "code",
   "execution_count": 55,
   "metadata": {
    "cellView": "form",
    "colab": {
     "base_uri": "https://localhost:8080/",
     "height": 329,
     "referenced_widgets": [
      "2697a22e7e714511ab4c51b9f754a4ab"
     ]
    },
    "id": "pqwuQ8Zuk2Ia",
    "jupyter": {
     "source_hidden": true
    },
    "outputId": "6b3027b2-51f7-4640-b670-ffe8e4a250c3",
    "tags": []
   },
   "outputs": [
    {
     "data": {
      "application/vnd.jupyter.widget-view+json": {
       "model_id": "2a33209b65e84f8683c46dacadf8a9a1",
       "version_major": 2,
       "version_minor": 0
      },
      "text/plain": [
       "interactive(children=(Textarea(value='It’s pretty good.', description='Mood:', layout=Layout(height='100px', w…"
      ]
     },
     "metadata": {},
     "output_type": "display_data"
    }
   ],
   "source": [
    "#@title mental_status_exam\n",
    "mse_mood_text = widgets.Textarea(layout=Layout(width='500px', height='100px'),\n",
    "    value=\"It’s pretty good.\",\n",
    "    placeholder='Type something',\n",
    "    description='Mood:',\n",
    "    disabled=False\n",
    ")\n",
    "\n",
    "string = (\"\"\"\n",
    "Mental Status Examination: \n",
    "Appearance: WD/WN, looks stated age, fair grooming and hygiene, casually dressed\n",
    "Behavior: Calm, cooperative, fair eye contact\n",
    "Psychomotor: No activation or retardation\n",
    "Speech: Fluent, spontaneous\n",
    "Mood: “{}” \n",
    "Affect: Euthymic, full-range, congruent with mood\n",
    "Thought Process: Linear, logical\n",
    "Thought Content: Denies SI/HI/AH/VH/delusions\n",
    "Insight/Judgement: Limited to fair/Fair\n",
    "\"\"\")\n",
    "def print_mse(mse_mood):\n",
    "    print(string.format(mse_mood))\n",
    "mse = interactive(print_mse,\n",
    "                     mse_mood=mse_mood_text\n",
    "                     )\n",
    "display(mse)\n",
    "\n",
    "mse_string = mse.children[-1]"
   ]
  },
  {
   "cell_type": "markdown",
   "metadata": {},
   "source": [
    "# Labs 🧪"
   ]
  },
  {
   "cell_type": "code",
   "execution_count": 16,
   "metadata": {
    "cellView": "form",
    "colab": {
     "base_uri": "https://localhost:8080/",
     "height": 118,
     "referenced_widgets": [
      "0f65c313fcd640aea418509dc30b655c"
     ]
    },
    "id": "qZfroPcgyyp0",
    "jupyter": {
     "source_hidden": true
    },
    "outputId": "cb7e12a3-bb45-4e38-81af-2187b1c90901"
   },
   "outputs": [
    {
     "data": {
      "application/vnd.jupyter.widget-view+json": {
       "model_id": "bb36809058524bbbb329759ca4a16463",
       "version_major": 2,
       "version_minor": 0
      },
      "text/plain": [
       "interactive(children=(Text(value='None currently on file.', description='labs'), Output()), _dom_classes=('wid…"
      ]
     },
     "metadata": {},
     "output_type": "display_data"
    }
   ],
   "source": [
    "#@title Labs form\n",
    "labs_text = widgets.Text(value='None currently on file.')\n",
    "\n",
    "labs_template = \"\"\"\n",
    "Labs and Studies:\n",
    "{}\n",
    "\"\"\"\n",
    "def print_labs(labs):\n",
    "    print(labs_template.format(labs))\n",
    "\n",
    "labs = interactive(print_labs,\n",
    "                     labs=labs_text\n",
    "                     )\n",
    "display(labs)\n",
    "\n",
    "labs_string = labs.children[-1]"
   ]
  },
  {
   "cell_type": "markdown",
   "metadata": {},
   "source": [
    "# Disorders 💔"
   ]
  },
  {
   "cell_type": "code",
   "execution_count": 17,
   "metadata": {
    "cellView": "form",
    "colab": {
     "base_uri": "https://localhost:8080/",
     "height": 190,
     "referenced_widgets": [
      "59666ff510b04b25889e8a2990eef55e",
      "1a979349a38b4e9ba31d2117fb179b7a",
      "92491c20366543539db1885f076ff571"
     ]
    },
    "id": "oGfKpDnc0KNf",
    "jupyter": {
     "source_hidden": true
    },
    "outputId": "dc5c1562-b0f5-4ed7-8a07-4559469bb3cd"
   },
   "outputs": [
    {
     "data": {
      "application/vnd.jupyter.widget-view+json": {
       "model_id": "f3e3e42e9cc741dcaba3bf3f52db94ff",
       "version_major": 2,
       "version_minor": 0
      },
      "text/plain": [
       "Box(children=(VBox(children=(Checkbox(value=False, description='Major depressive disorder, rec, mod'), Checkbo…"
      ]
     },
     "metadata": {},
     "output_type": "display_data"
    },
    {
     "data": {
      "application/vnd.jupyter.widget-view+json": {
       "model_id": "dfbc01cc029f4bd69fa6998f8d90c0c1",
       "version_major": 2,
       "version_minor": 0
      },
      "text/plain": [
       "Textarea(value='', description='Other:', layout=Layout(width='50%'), style=DescriptionStyle(description_width=…"
      ]
     },
     "metadata": {},
     "output_type": "display_data"
    }
   ],
   "source": [
    "#@title disorders form\n",
    "\n",
    "disorders1 = ['Major depressive disorder, rec, mod',\n",
    "    'Post-traumatic stress disorder',\n",
    "    'Generalized anxiety disorder',\n",
    "    'Alcohol use disorder Severe']\n",
    "disorders2 = ['Unspecified Anxiety Disorder',\n",
    "    'Unspecified Depressive Disorder',\n",
    "    'Cocaine use disorder Severe',\n",
    "    'Cannabis use disorder Severe']\n",
    "disorders3 = ['Sedative, hypnotic and/or anxiolytic Use Disorder Severe',\n",
    "    'Amphetamine-type substance use disorder Severe',\n",
    "    'Opioid use disorder Severe',\n",
    "    'ADHD']\n",
    "disorders4 = ['Unspecified Bipolar Disorder',\n",
    "    'Bipolar II disorder',\n",
    "    'Bipolar I disorder']\n",
    "\n",
    "check1 = widgets.VBox([widgets.Checkbox(description=x) for x in disorders1])\n",
    "check2 = widgets.VBox([widgets.Checkbox(description=x) for x in disorders2])\n",
    "check3 = widgets.VBox([widgets.Checkbox(description=x) for x in disorders3])\n",
    "check4 = widgets.VBox([widgets.Checkbox(description=x) for x in disorders4])\n",
    "\n",
    "box1 = widgets.HBox([check1,check2])\n",
    "box2 = widgets.HBox([check3, check4])\n",
    "\n",
    "disorder_choices = widgets.Box([check1, check2, check3, check4]) \n",
    "disorder_notes = widgets.Textarea(description='Other:', style=style, layout=layout_text_area)\n",
    "       \n",
    "\n",
    "display(disorder_choices)\n",
    "display(disorder_notes)\n",
    "\n",
    "\n"
   ]
  },
  {
   "cell_type": "markdown",
   "metadata": {},
   "source": [
    "# Plan 🗺"
   ]
  },
  {
   "cell_type": "code",
   "execution_count": 18,
   "metadata": {
    "cellView": "form",
    "colab": {
     "base_uri": "https://localhost:8080/",
     "height": 223,
     "referenced_widgets": [
      "d492b7f7e64a4d21bc2dc5085de73379",
      "99281c846a1a433fa2fa2ebcff0d90b5",
      "6f2d021562664827ae8d110c74654afa",
      "5d601543480649238e98302a8a4cf69c",
      "a61a21a5cd2440ad8ef995bc74b8f103",
      "334ae6c3f24c4f6d874bbed7da77f548"
     ]
    },
    "id": "l1tDuTSzAJuo",
    "jupyter": {
     "source_hidden": true
    },
    "outputId": "759540b5-11be-433c-c472-8e33268bc82e"
   },
   "outputs": [
    {
     "data": {
      "application/vnd.jupyter.widget-view+json": {
       "model_id": "2a692321ab1f48c3ae7de3cef491c269",
       "version_major": 2,
       "version_minor": 0
      },
      "text/plain": [
       "Textarea(value='3. Medical and Lab: Per PCP. Patient encouraged to establish care with local PCP for routine p…"
      ]
     },
     "metadata": {},
     "output_type": "display_data"
    },
    {
     "data": {
      "application/vnd.jupyter.widget-view+json": {
       "model_id": "3741c9f62b544fd5bb0ada5d42281f92",
       "version_major": 2,
       "version_minor": 0
      },
      "text/plain": [
       "Textarea(value='4. Continue medication.', description='med plan:', layout=Layout(height='100px', width='500px'…"
      ]
     },
     "metadata": {},
     "output_type": "display_data"
    }
   ],
   "source": [
    "#@title med plan\n",
    "\n",
    "pcp_plan = widgets.Textarea(layout=Layout(width='500px', height='100px'),\n",
    "    value=\"3. Medical and Lab: Per PCP. Patient encouraged to establish care with local PCP for routine physical and baseline labs.\",\n",
    "    placeholder='Type something',\n",
    "    description='pcp plan:',\n",
    "    disabled=False\n",
    ")\n",
    "\n",
    "med_plan = widgets.Textarea(layout=Layout(width='500px', height='100px'),\n",
    "    value=\"4. Continue medication.\",\n",
    "    placeholder='Type something',\n",
    "    description='med plan:',\n",
    "    disabled=False\n",
    ")\n",
    "display(pcp_plan)\n",
    "display(med_plan)"
   ]
  },
  {
   "cell_type": "markdown",
   "metadata": {},
   "source": [
    "# You're not done yet! run cell below 👇\n",
    "\n",
    "then copy and paste into doc"
   ]
  },
  {
   "cell_type": "code",
   "execution_count": 19,
   "metadata": {
    "cellView": "form",
    "colab": {
     "base_uri": "https://localhost:8080/",
     "height": 1000,
     "referenced_widgets": [
      "8e422d4402d54067899798a6ed7225fa",
      "3b533668dc4c453d834d15c08a38f291",
      "61f9c2a3dde34c6eaaaf9a515c3d828f",
      "3a7aabafd8b14294a6068ead1cca5536",
      "00b24ec4605c427f917fcae31c125965",
      "d2bef938e5b742349b5522f1752c4cff",
      "a709df12b84744d2be776a6c253a9a25",
      "7850dfad0d6246b1ab4c6402beb491a7",
      "02429984defd4e7293f509762ff20341",
      "7c0667356b6a4f87827aba5fb2cdb2da",
      "cb5d1472d29748b0a2596e63db8b4090",
      "35a9385c05284603902b4fd5d50e7923",
      "39fafc71cc74420980806456ffdea060",
      "ab44efcff91048f28cb71d2de47ee72c",
      "1b71004116b8470d9b0c97e5c6a238bf",
      "223a4c366d6a455393ace7787c886ac2",
      "42f310373ac34ce7a061d901a0cf59f5",
      "9ab2f80404d04a04a889549bf4523ff3",
      "ded12e82c85b40d0af8d6321051642d1",
      "a7c9f0ad6fde4e8a960de2fd953ed0ee",
      "2b185fb1984d40c3bea253d864d1a1b8",
      "d7e875df8e37483abe947772f8ad98a3",
      "66f48c970fcb48798a44cc72944dab45",
      "8a862dc09ceb4bbbbde194eb0f3dc968",
      "fbb615d0aab44c029823a4a72f352589",
      "8ce7f8549164444e82addfe5ac8f926d",
      "8e08f49d11c7498e84f51152d7a8cf59",
      "4f486e0392f94aa2ba1c4a758879ccb7"
     ]
    },
    "id": "eqFpBALd-2vN",
    "jupyter": {
     "source_hidden": true
    },
    "outputId": "7c5e3a23-35a3-4154-af42-d11c3655eaf7",
    "tags": []
   },
   "outputs": [
    {
     "name": "stdout",
     "output_type": "stream",
     "text": [
      "Patient Identification:\n",
      "The patient is a 33 year old male with a self reported \n",
      "history of  use and ,\n",
      "who presents to Create Recovery Center for treatment.\n",
      "\n"
     ]
    },
    {
     "data": {
      "application/vnd.jupyter.widget-view+json": {
       "model_id": "3c9d4d589e544db08c0cbbbcc7568ab9",
       "version_major": 2,
       "version_minor": 0
      },
      "text/plain": [
       "Output()"
      ]
     },
     "metadata": {},
     "output_type": "display_data"
    },
    {
     "data": {
      "application/vnd.jupyter.widget-view+json": {
       "model_id": "b2741a499efe42838513fdcce2f1c019",
       "version_major": 2,
       "version_minor": 0
      },
      "text/plain": [
       "Output()"
      ]
     },
     "metadata": {},
     "output_type": "display_data"
    },
    {
     "data": {
      "application/vnd.jupyter.widget-view+json": {
       "model_id": "2ceb7af84c4946c896077c90868a3493",
       "version_major": 2,
       "version_minor": 0
      },
      "text/plain": [
       "Output()"
      ]
     },
     "metadata": {},
     "output_type": "display_data"
    },
    {
     "data": {
      "application/vnd.jupyter.widget-view+json": {
       "model_id": "0d839e96762541a0aea38a82cf109590",
       "version_major": 2,
       "version_minor": 0
      },
      "text/plain": [
       "Output()"
      ]
     },
     "metadata": {},
     "output_type": "display_data"
    },
    {
     "data": {
      "application/vnd.jupyter.widget-view+json": {
       "model_id": "626ce05b18ca4d2887e3bcdaa21f8454",
       "version_major": 2,
       "version_minor": 0
      },
      "text/plain": [
       "Output()"
      ]
     },
     "metadata": {},
     "output_type": "display_data"
    },
    {
     "data": {
      "application/vnd.jupyter.widget-view+json": {
       "model_id": "61a9e85b868542fc98f84b8bf23325e2",
       "version_major": 2,
       "version_minor": 0
      },
      "text/plain": [
       "Output()"
      ]
     },
     "metadata": {},
     "output_type": "display_data"
    },
    {
     "data": {
      "application/vnd.jupyter.widget-view+json": {
       "model_id": "41e7522bdb4043d5bee8c6f3e92deb63",
       "version_major": 2,
       "version_minor": 0
      },
      "text/plain": [
       "Output()"
      ]
     },
     "metadata": {},
     "output_type": "display_data"
    },
    {
     "data": {
      "application/vnd.jupyter.widget-view+json": {
       "model_id": "51aaa7f94a8c4dac9d232de337f673a0",
       "version_major": 2,
       "version_minor": 0
      },
      "text/plain": [
       "Output()"
      ]
     },
     "metadata": {},
     "output_type": "display_data"
    },
    {
     "data": {
      "application/vnd.jupyter.widget-view+json": {
       "model_id": "550aa218965a461f9bc80b370e82f2f5",
       "version_major": 2,
       "version_minor": 0
      },
      "text/plain": [
       "Output()"
      ]
     },
     "metadata": {},
     "output_type": "display_data"
    },
    {
     "data": {
      "application/vnd.jupyter.widget-view+json": {
       "model_id": "30fe27d23be54879b2b9ccce1e86f44e",
       "version_major": 2,
       "version_minor": 0
      },
      "text/plain": [
       "Output()"
      ]
     },
     "metadata": {},
     "output_type": "display_data"
    },
    {
     "data": {
      "application/vnd.jupyter.widget-view+json": {
       "model_id": "f37fae4788bf4896a3115e522d986aed",
       "version_major": 2,
       "version_minor": 0
      },
      "text/plain": [
       "Output()"
      ]
     },
     "metadata": {},
     "output_type": "display_data"
    },
    {
     "data": {
      "application/vnd.jupyter.widget-view+json": {
       "model_id": "2fd10ce8507f4ceca346d80cfaf615ae",
       "version_major": 2,
       "version_minor": 0
      },
      "text/plain": [
       "Output()"
      ]
     },
     "metadata": {},
     "output_type": "display_data"
    },
    {
     "data": {
      "application/vnd.jupyter.widget-view+json": {
       "model_id": "2376137a79fc4f7ab1fedfae45d8b3b6",
       "version_major": 2,
       "version_minor": 0
      },
      "text/plain": [
       "Output()"
      ]
     },
     "metadata": {},
     "output_type": "display_data"
    },
    {
     "data": {
      "application/vnd.jupyter.widget-view+json": {
       "model_id": "267178d9cffa4dc9ba9c9b8fd555710e",
       "version_major": 2,
       "version_minor": 0
      },
      "text/plain": [
       "Output()"
      ]
     },
     "metadata": {},
     "output_type": "display_data"
    },
    {
     "name": "stdout",
     "output_type": "stream",
     "text": [
      "Assessment:\n",
      "\n",
      "\n",
      "Risk Assessment:\n",
      "With respect to imminent suicide risk, the patient is low risk and appropriate to be managed in current level of care because the patient has no current SI, \n",
      "intent, plan, or hopelessness, and is actively engaged in treatment. \n",
      "With respect to imminent violence risk, the patient is low risk and appropriate to be managed in current level of care because the patient has no HI, intent, plan, \n",
      "or history of significant violence.\n",
      "\n",
      "Plan:\n",
      "1. Psychoeducation: Discussed diagnostic impressions, treatment options, and expected course and prognosis.\n",
      "2. Indications, benefits, risks, side effects, and alternatives including no treatment discussed.\n",
      "3. Medical and Lab: Per PCP. Patient encouraged to establish care with local PCP for routine physical and baseline labs.\n",
      "4. Continue medication.\n",
      "5. Discussed naltrexone/vivitrol/implant options. Pt declines.\n",
      "6. CURES database consulted\n",
      "7. Encouraged compliance with treatment program\n",
      "8. Patient instructed to call clinic, MD, 911, or go to the nearest emergency department if symptoms worsen, or if patient has an adverse reaction to a medication, or if feeling suicidal, homicidal, or for any other concern.  \n",
      "9. Urine drug testing is medically necessary for diagnostic, clinical, and therapeutic purposes, to detect the use of prescription medications and illegal substances of concern for the purpose of assessment and treatment and to monitor compliance with the medication protocol of the Program. Client will be tested 2-3 times a week as part of routine monitoring, or for attendance to group, return from pass, randomly, or under suspicion of relapse, according to this facility’s policies and procedures.\n",
      "10. Increase collateral database\n",
      "11. Follow-up weekly\n",
      "\n",
      "Emily Samuel, PMHNP\n",
      "\n"
     ]
    }
   ],
   "source": [
    "#@title Psychiatric Initial Evaluation\n",
    "\n",
    "age, pronoun, gender, treatment_center = id_choices.children[0].children[0].children\n",
    "notes = id_choices.children[0].children[1].children[0]\n",
    "\n",
    "substance_dict = {}\n",
    "for i, substance in enumerate(substance_options):\n",
    "    substance_dict[substance] = id_choices.children[1].children[0].children[i].value\n",
    "mental_dict = {}\n",
    "for i, mental in enumerate(mental_options):\n",
    "    mental_dict[mental] = id_choices.children[2].children[i].value\n",
    "\n",
    "substance_id = []\n",
    "mental_id = []\n",
    "for condition, val in substance_dict.items():\n",
    "    if val == True:\n",
    "        substance_id.append(condition)\n",
    "for condition, val in mental_dict.items():\n",
    "    if val == True:\n",
    "        mental_id.append(condition)\n",
    "\n",
    "mental_list = ', '.join([x for x in mental_id])\n",
    "substance_list = ', '.join([x for x in substance_id]) + ' use'\n",
    "\n",
    "disorders_list = []\n",
    "for i in range(len(disorders1)):\n",
    "    child = disorder_choices.children[0].children[i]\n",
    "    if child.value == True:\n",
    "        disorders_list.append(child.description)\n",
    "for i in range(len(disorders2)):\n",
    "    child = disorder_choices.children[1].children[i]\n",
    "    if child.value == True:\n",
    "        disorders_list.append(child.description)\n",
    "for i in range(len(disorders3)):\n",
    "    child = disorder_choices.children[2].children[i]\n",
    "    if child.value == True:\n",
    "        disorders_list.append(child.description)\n",
    "for i in range(len(disorders4)):\n",
    "    child = disorder_choices.children[3].children[i]\n",
    "    if child.value == True:\n",
    "        disorders_list.append(child.description)\n",
    "\n",
    "patient_id_string = f\"\"\"Patient Identification:\n",
    "The patient is a {age.value} year old {gender.value} with a self reported \n",
    "history of {substance_list} and {mental_list},\n",
    "who presents to {treatment_center.value} for treatment.\\n{notes.value}\"\"\"\n",
    "\n",
    "disorders_list = []\n",
    "for i in range(len(disorders1)):\n",
    "    child = disorder_choices.children[0].children[i]\n",
    "    if child.value == True:\n",
    "        disorders_list.append(child.description)\n",
    "for i in range(len(disorders2)):\n",
    "    child = disorder_choices.children[1].children[i]\n",
    "    if child.value == True:\n",
    "        disorders_list.append(child.description)\n",
    "for i in range(len(disorders3)):\n",
    "    child = disorder_choices.children[2].children[i]\n",
    "    if child.value == True:\n",
    "        disorders_list.append(child.description)\n",
    "for i in range(len(disorders4)):\n",
    "    child = disorder_choices.children[3].children[i]\n",
    "    if child.value == True:\n",
    "        disorders_list.append(child.description)\n",
    "\n",
    "# patient_id_string = f\"\"\"Patient Identification:\n",
    "# The patient is a {age.value} year old {gender.value} with a self reported \n",
    "# history of {substance_list} and {mental_list},\n",
    "# who presents to {treatment_center.value} for treatment.\n",
    "# {notes.value}\n",
    "#     \"\"\"\n",
    "\n",
    "disorders_string = \"\"\"Assessment:\n",
    "\"\"\" + '\\n'.join(disorders_list)\n",
    "\n",
    "disorders_notes_string = disorder_notes.value \n",
    "\n",
    "risk_assessment_string = f\"\"\"Risk Assessment:\n",
    "With respect to imminent suicide risk, the patient is low risk and appropriate to be managed in current level of care because the patient has no current SI, \n",
    "intent, plan, or hopelessness, and is actively engaged in treatment. \n",
    "With respect to imminent violence risk, the patient is low risk and appropriate to be managed in current level of care because the patient has no HI, intent, plan, \n",
    "or history of significant violence.\n",
    "\"\"\"\n",
    "\n",
    "plan_string = f\"\"\"Plan:\n",
    "1. Psychoeducation: Discussed diagnostic impressions, treatment options, and expected course and prognosis.\n",
    "2. Indications, benefits, risks, side effects, and alternatives including no treatment discussed.\n",
    "{pcp_plan.value}\n",
    "{med_plan.value}\n",
    "5. Discussed naltrexone/vivitrol/implant options. Pt declines.\n",
    "6. CURES database consulted\n",
    "7. Encouraged compliance with treatment program\n",
    "8. Patient instructed to call clinic, MD, 911, or go to the nearest emergency department if symptoms worsen, or if patient has an adverse reaction to a medication, or if feeling suicidal, homicidal, or for any other concern.  \n",
    "9. Urine drug testing is medically necessary for diagnostic, clinical, and therapeutic purposes, to detect the use of prescription medications and illegal substances of concern for the purpose of assessment and treatment and to monitor compliance with the medication protocol of the Program. Client will be tested 2-3 times a week as part of routine monitoring, or for attendance to group, return from pass, randomly, or under suspicion of relapse, according to this facility’s policies and procedures.\n",
    "10. Increase collateral database\n",
    "11. Follow-up weekly\n",
    "\n",
    "Emily Samuel, PMHNP\n",
    "\"\"\"\n",
    "\n",
    "text_strings = [patient_id_string,\n",
    "                hpi_string,\n",
    "                current_medication_string,\n",
    "                mood_string,\n",
    "                anxiety_string,\n",
    "                trauma_string,\n",
    "                psych_disorder_string,\n",
    "                psych_history_string,\n",
    "                substance_history_string,\n",
    "                medical_history_string,\n",
    "                allergies_string,\n",
    "                family_string,\n",
    "                social_string,\n",
    "                mse_string,\n",
    "                labs_string,\n",
    "                disorders_string,\n",
    "                disorders_notes_string,\n",
    "                risk_assessment_string,\n",
    "                plan_string]\n",
    "\n",
    "display_strings = [psych_history_string, \n",
    "                   psych_disorder_string,\n",
    "                   substance_history_string,\n",
    "                   allergies_string,\n",
    "                   social_string,\n",
    "                   mse_string,\n",
    "                   labs_string]\n",
    "\n",
    "print_strings = [patient_id_string,\n",
    "                disorders_string,\n",
    "                disorders_notes_string,\n",
    "                risk_assessment_string,\n",
    "                plan_string]\n",
    "\n",
    "for text_string in text_strings:\n",
    "    if text_string in print_strings:\n",
    "        print(text_string)\n",
    "    else:\n",
    "        display(text_string)\n",
    "    # if text_string in display_strings:\n",
    "    #     display(text_string) \n",
    "    # else:\n",
    "    #     print(text_string)\n"
   ]
  },
  {
   "cell_type": "code",
   "execution_count": null,
   "metadata": {
    "id": "T6lwHsznKHA3",
    "jupyter": {
     "source_hidden": true
    }
   },
   "outputs": [],
   "source": []
  }
 ],
 "metadata": {
  "colab": {
   "name": "template prod oct 6 2021",
   "provenance": [],
   "toc_visible": true
  },
  "kernelspec": {
   "display_name": "Python 3",
   "language": "python",
   "name": "python3"
  },
  "language_info": {
   "codemirror_mode": {
    "name": "ipython",
    "version": 3
   },
   "file_extension": ".py",
   "mimetype": "text/x-python",
   "name": "python",
   "nbconvert_exporter": "python",
   "pygments_lexer": "ipython3",
   "version": "3.8.8"
  },
  "toc-autonumbering": true,
  "toc-showmarkdowntxt": false,
  "widgets": {
   "application/vnd.jupyter.widget-state+json": {
    "state": {
     "00095684173a4498b67f8b53c70d138f": {
      "model_module": "@jupyter-widgets/controls",
      "model_module_version": "1.5.0",
      "model_name": "HBoxModel",
      "state": {
       "children": [
        "IPY_MODEL_06fb143e26884c789789dd0bd9cbc4aa"
       ],
       "layout": "IPY_MODEL_f1057e53bd9d4598919a4715ff7cc86b"
      }
     },
     "0039957206f64544b7a34932b1b0b522": {
      "model_module": "@jupyter-widgets/controls",
      "model_module_version": "1.5.0",
      "model_name": "TextareaModel",
      "state": {
       "description": "Notes:",
       "layout": "IPY_MODEL_2ed2b3a6e8c342c9bb99b3da185e2276",
       "style": "IPY_MODEL_faf372754ceb4e5ebdbfd1b5d69f96d4"
      }
     },
     "00b25902547740adac6fcda4e48cb39c": {
      "model_module": "@jupyter-widgets/controls",
      "model_module_version": "1.5.0",
      "model_name": "BoundedIntTextModel",
      "state": {
       "description": "Sober Time:",
       "layout": "IPY_MODEL_42f9ab8dcbd947b893f1ada0c235c49a",
       "max": 200,
       "style": "IPY_MODEL_20e71282e4e443638aa1a48f4a386084",
       "value": 4
      }
     },
     "00b3b90b4a2549c98b777b9095db4c24": {
      "model_module": "@jupyter-widgets/controls",
      "model_module_version": "1.5.0",
      "model_name": "VBoxModel",
      "state": {
       "_dom_classes": [
        "widget-interact"
       ],
       "children": [
        "IPY_MODEL_2997344101d341509f645c699184d9e5",
        "IPY_MODEL_23c22e058155462fbcd457a81dd60939",
        "IPY_MODEL_ccd913fe339d48498822db843da7bee0",
        "IPY_MODEL_27dcc0de6e094641a83e958cab3418ca",
        "IPY_MODEL_03cad89bbf104edaa747fd5adac9ff28",
        "IPY_MODEL_59450a62a4254457ba769158623072b1",
        "IPY_MODEL_41e7522bdb4043d5bee8c6f3e92deb63"
       ],
       "layout": "IPY_MODEL_5c063488a31741cca7cef86d597cb87a"
      }
     },
     "00f3228b9abb4c1f8636d508e7cdf07f": {
      "model_module": "@jupyter-widgets/controls",
      "model_module_version": "1.5.0",
      "model_name": "DescriptionStyleModel",
      "state": {
       "description_width": ""
      }
     },
     "0134d570a9cb4483af8ede2a15a9aad5": {
      "model_module": "@jupyter-widgets/controls",
      "model_module_version": "1.5.0",
      "model_name": "DescriptionStyleModel",
      "state": {
       "description_width": "150px"
      }
     },
     "013de706383f4c84b7ed3f1c78732fc7": {
      "model_module": "@jupyter-widgets/controls",
      "model_module_version": "1.5.0",
      "model_name": "DescriptionStyleModel",
      "state": {
       "description_width": "150px"
      }
     },
     "01672c8bf3f04353871feb06293cc9f7": {
      "model_module": "@jupyter-widgets/controls",
      "model_module_version": "1.5.0",
      "model_name": "CheckboxModel",
      "state": {
       "description": "fentanyl",
       "disabled": false,
       "layout": "IPY_MODEL_6715f24fa8064b32b90c38d9c31e71fc",
       "style": "IPY_MODEL_c994f918ded741a29369d1d5ede7dea6",
       "value": false
      }
     },
     "01a23146c6854aeba206185f07f816d4": {
      "model_module": "@jupyter-widgets/controls",
      "model_module_version": "1.5.0",
      "model_name": "DropdownModel",
      "state": {
       "_options_labels": [
        "denies",
        "endorses"
       ],
       "description": "ivdu",
       "index": 0,
       "layout": "IPY_MODEL_6ca1abb4c0974a9b85bd5dd3b0292df2",
       "style": "IPY_MODEL_b939f976df2d4552bc353ecfc4f47067"
      }
     },
     "01e0bc2f2f7d486584e38b3059ad0de4": {
      "model_module": "@jupyter-widgets/controls",
      "model_module_version": "1.5.0",
      "model_name": "CheckboxModel",
      "state": {
       "description": "schizophrenia",
       "disabled": false,
       "layout": "IPY_MODEL_ff3860b16a2a4f97a83185a132c5144a",
       "style": "IPY_MODEL_da2ff144c79a41b892c5aef07e1f6216",
       "value": false
      }
     },
     "01f86503e7a54a90855c518f6c1f20d8": {
      "model_module": "@jupyter-widgets/controls",
      "model_module_version": "1.5.0",
      "model_name": "DescriptionStyleModel",
      "state": {
       "description_width": ""
      }
     },
     "020770a15c324daf872a3f76d407d6db": {
      "model_module": "@jupyter-widgets/controls",
      "model_module_version": "1.5.0",
      "model_name": "DescriptionStyleModel",
      "state": {
       "description_width": ""
      }
     },
     "02088a21d0454c36ba8476972db6445b": {
      "model_module": "@jupyter-widgets/controls",
      "model_module_version": "1.5.0",
      "model_name": "DescriptionStyleModel",
      "state": {
       "description_width": ""
      }
     },
     "02367092edfe42cf9edc8995747d16e1": {
      "model_module": "@jupyter-widgets/controls",
      "model_module_version": "1.5.0",
      "model_name": "CheckboxModel",
      "state": {
       "description": "Cocaine use disorder Severe",
       "disabled": false,
       "layout": "IPY_MODEL_75980e74a0d9412584c2f3d286b46050",
       "style": "IPY_MODEL_865debdca58a430e812dd5da084bfc10",
       "value": false
      }
     },
     "023b0d6f13e446ebb1f31281c1257652": {
      "model_module": "@jupyter-widgets/controls",
      "model_module_version": "1.5.0",
      "model_name": "DropdownModel",
      "state": {
       "_options_labels": [
        "denies",
        "endorses"
       ],
       "description": "guilt",
       "index": 0,
       "layout": "IPY_MODEL_42f9ab8dcbd947b893f1ada0c235c49a",
       "style": "IPY_MODEL_0ca4cc49dbf0496b822c321c116e883d"
      }
     },
     "027ec7be8e75423b8e53c865a76b58eb": {
      "model_module": "@jupyter-widgets/base",
      "model_module_version": "1.2.0",
      "model_name": "LayoutModel",
      "state": {
       "width": "25%"
      }
     },
     "027f2a5a747e4938860a79363c408a7b": {
      "model_module": "@jupyter-widgets/controls",
      "model_module_version": "1.5.0",
      "model_name": "DropdownModel",
      "state": {
       "_options_labels": [
        "denies",
        "endorses"
       ],
       "description": "depressed",
       "index": 0,
       "layout": "IPY_MODEL_42f9ab8dcbd947b893f1ada0c235c49a",
       "style": "IPY_MODEL_0ac0b5af05f94a14b6364c035bb30d19"
      }
     },
     "035075a838774c378a7184f70dd673a9": {
      "model_module": "@jupyter-widgets/controls",
      "model_module_version": "1.5.0",
      "model_name": "CheckboxModel",
      "state": {
       "description": "cannabis",
       "disabled": false,
       "layout": "IPY_MODEL_ff23e26ed6814b75bb537932a5aed405",
       "style": "IPY_MODEL_966132908a894920b57b276b50fc15f8",
       "value": false
      }
     },
     "035a849a00084413b0bf9193b6a66d12": {
      "model_module": "@jupyter-widgets/controls",
      "model_module_version": "1.5.0",
      "model_name": "DescriptionStyleModel",
      "state": {
       "description_width": ""
      }
     },
     "035b8fc93c0944ab8d034d6ccfea73a5": {
      "model_module": "@jupyter-widgets/controls",
      "model_module_version": "1.5.0",
      "model_name": "DescriptionStyleModel",
      "state": {
       "description_width": "150px"
      }
     },
     "036e7a59571648bf9d72a677b125d456": {
      "model_module": "@jupyter-widgets/base",
      "model_module_version": "1.2.0",
      "model_name": "LayoutModel",
      "state": {}
     },
     "03cad89bbf104edaa747fd5adac9ff28": {
      "model_module": "@jupyter-widgets/controls",
      "model_module_version": "1.5.0",
      "model_name": "TextModel",
      "state": {
       "description": "outpatient_psychiatrist",
       "layout": "IPY_MODEL_6ca1abb4c0974a9b85bd5dd3b0292df2",
       "style": "IPY_MODEL_70497cd9107a479b8aa7ac474d1c00f4",
       "value": "None"
      }
     },
     "0425f3f93ef44fd1890aa57795afc2a2": {
      "model_module": "@jupyter-widgets/base",
      "model_module_version": "1.2.0",
      "model_name": "LayoutModel",
      "state": {}
     },
     "04a62c97b11643c4b61f96a4065858b1": {
      "model_module": "@jupyter-widgets/controls",
      "model_module_version": "1.5.0",
      "model_name": "DescriptionStyleModel",
      "state": {
       "description_width": ""
      }
     },
     "04af655214624d2e8e50e7df78571659": {
      "model_module": "@jupyter-widgets/controls",
      "model_module_version": "1.5.0",
      "model_name": "DescriptionStyleModel",
      "state": {
       "description_width": "150px"
      }
     },
     "04e6e7d3f7174796b5f5813c8ec35696": {
      "model_module": "@jupyter-widgets/controls",
      "model_module_version": "1.5.0",
      "model_name": "DescriptionStyleModel",
      "state": {
       "description_width": "150px"
      }
     },
     "04e9472c969640409e19d7e575409ab4": {
      "model_module": "@jupyter-widgets/base",
      "model_module_version": "1.2.0",
      "model_name": "LayoutModel",
      "state": {}
     },
     "050793d5c5614a81818311bc244c1eee": {
      "model_module": "@jupyter-widgets/controls",
      "model_module_version": "1.5.0",
      "model_name": "DescriptionStyleModel",
      "state": {
       "description_width": "150px"
      }
     },
     "0536a4cdde4a4119969f791aa3fd3ff4": {
      "model_module": "@jupyter-widgets/controls",
      "model_module_version": "1.5.0",
      "model_name": "DescriptionStyleModel",
      "state": {
       "description_width": "150px"
      }
     },
     "059d1aeda52c46c6aab8b2ed72150a1e": {
      "model_module": "@jupyter-widgets/base",
      "model_module_version": "1.2.0",
      "model_name": "LayoutModel",
      "state": {}
     },
     "05a17c0ec73848d4846fc7d0488d8262": {
      "model_module": "@jupyter-widgets/base",
      "model_module_version": "1.2.0",
      "model_name": "LayoutModel",
      "state": {}
     },
     "06062a1bd0c54aaca27b8e9d37330de3": {
      "model_module": "@jupyter-widgets/controls",
      "model_module_version": "1.5.0",
      "model_name": "DescriptionStyleModel",
      "state": {
       "description_width": ""
      }
     },
     "0618e834445c40cf94f839eb59d0b2b4": {
      "model_module": "@jupyter-widgets/controls",
      "model_module_version": "1.5.0",
      "model_name": "DescriptionStyleModel",
      "state": {
       "description_width": "150px"
      }
     },
     "0658d911da904ec2b9a3ad118f67cc8b": {
      "model_module": "@jupyter-widgets/controls",
      "model_module_version": "1.5.0",
      "model_name": "DescriptionStyleModel",
      "state": {
       "description_width": ""
      }
     },
     "068fe166ea414430a1f90baa93abdd26": {
      "model_module": "@jupyter-widgets/base",
      "model_module_version": "1.2.0",
      "model_name": "LayoutModel",
      "state": {}
     },
     "06addb645684467ca422bf4edd76a309": {
      "model_module": "@jupyter-widgets/controls",
      "model_module_version": "1.5.0",
      "model_name": "TextareaModel",
      "state": {
       "description": "treatment_reason",
       "layout": "IPY_MODEL_6ca1abb4c0974a9b85bd5dd3b0292df2",
       "placeholder": "Type Something",
       "style": "IPY_MODEL_3ba65c108425442e833b6d831c5f7d6b"
      }
     },
     "06b3088fc7be4034b1122b62eee34eb6": {
      "model_module": "@jupyter-widgets/base",
      "model_module_version": "1.2.0",
      "model_name": "LayoutModel",
      "state": {}
     },
     "06d700338fd949449208cb8da22329b1": {
      "model_module": "@jupyter-widgets/controls",
      "model_module_version": "1.5.0",
      "model_name": "DropdownModel",
      "state": {
       "_options_labels": [
        "a history",
        "no history"
       ],
       "description": "mania",
       "index": 1,
       "layout": "IPY_MODEL_42f9ab8dcbd947b893f1ada0c235c49a",
       "style": "IPY_MODEL_8f24d7bcb6644692b43dbdbb78cbf002"
      }
     },
     "06f619d9655446468c5d6fd497b40da6": {
      "model_module": "@jupyter-widgets/controls",
      "model_module_version": "1.5.0",
      "model_name": "TextareaModel",
      "state": {
       "description": "notes",
       "layout": "IPY_MODEL_42f9ab8dcbd947b893f1ada0c235c49a",
       "style": "IPY_MODEL_675c4d9b47ca47198e9df8509e6dca5b"
      }
     },
     "06fb143e26884c789789dd0bd9cbc4aa": {
      "model_module": "@jupyter-widgets/controls",
      "model_module_version": "1.5.0",
      "model_name": "VBoxModel",
      "state": {
       "children": [
        "IPY_MODEL_ab79367380014aa6b38c503965b03625",
        "IPY_MODEL_cc2106353bb342d0a68177aca7316f95",
        "IPY_MODEL_bab079a1f4ec4d29be1f58068ddf1e66",
        "IPY_MODEL_eb4e222e82774b98bdb7e15e8eb83957",
        "IPY_MODEL_15bdca69fc9a4287bca007b68fbcd865",
        "IPY_MODEL_2d2fbbc3ea2c4dfcba9b3fd55c9f7f13",
        "IPY_MODEL_41f4fc8e45c34bb69f4b66771c051b93",
        "IPY_MODEL_78d7a422c7df49f4a05ddad8dcb1dcfd",
        "IPY_MODEL_e04c2acd0fc24815b4d311ca42e7e857",
        "IPY_MODEL_b304a49a64b3422d9b6c0da2668c3331",
        "IPY_MODEL_e49cf12bcf054e4dbd7ca5345c0a39ef",
        "IPY_MODEL_7dc2d0a896d84ed3a8a852479197610f",
        "IPY_MODEL_64cea7954bdf45158c38ac028ee11bbe",
        "IPY_MODEL_ddfdd4be5fbc44f3adc66d381182be5b"
       ],
       "layout": "IPY_MODEL_15a8b04a7c77483898a68a29c4192fa0"
      }
     },
     "071e08afdc734e02bab496db47cda407": {
      "model_module": "@jupyter-widgets/controls",
      "model_module_version": "1.5.0",
      "model_name": "CheckboxModel",
      "state": {
       "description": "cannabis",
       "disabled": false,
       "layout": "IPY_MODEL_bf26ce87c0ca4b2d9a1a52edffd9db7b",
       "style": "IPY_MODEL_02088a21d0454c36ba8476972db6445b",
       "value": false
      }
     },
     "0733ab4ce486452baa19d6b30dd6169e": {
      "model_module": "@jupyter-widgets/controls",
      "model_module_version": "1.5.0",
      "model_name": "CheckboxModel",
      "state": {
       "description": "methamphetamine",
       "disabled": false,
       "layout": "IPY_MODEL_8f55ddad51344728ac74b757f4599150",
       "style": "IPY_MODEL_8bed25acc05f46d1960cac48b219d478",
       "value": false
      }
     },
     "0747dec3ec974d3a91a48425419b5e4b": {
      "model_module": "@jupyter-widgets/controls",
      "model_module_version": "1.5.0",
      "model_name": "DropdownModel",
      "state": {
       "_options_labels": [
        "declines",
        "is amenable with"
       ],
       "description": "med_adjust",
       "index": 0,
       "layout": "IPY_MODEL_42f9ab8dcbd947b893f1ada0c235c49a",
       "style": "IPY_MODEL_a0fe0667a89b4dfd8d5edff78e89761a"
      }
     },
     "0775e71a82a84a3ead73fd41c90d5e4b": {
      "model_module": "@jupyter-widgets/base",
      "model_module_version": "1.2.0",
      "model_name": "LayoutModel",
      "state": {}
     },
     "078e0868328c4b60abb2c3879011c488": {
      "model_module": "@jupyter-widgets/controls",
      "model_module_version": "1.5.0",
      "model_name": "DescriptionStyleModel",
      "state": {
       "description_width": "150px"
      }
     },
     "080e00957f8b4976b2b5905163206e5a": {
      "model_module": "@jupyter-widgets/controls",
      "model_module_version": "1.5.0",
      "model_name": "CheckboxModel",
      "state": {
       "description": "ketamine",
       "disabled": false,
       "layout": "IPY_MODEL_a9ee95d9e04a4424a7069556080fb4f1",
       "style": "IPY_MODEL_afdb1d47800d40968cb3c3c9b7f2369f",
       "value": false
      }
     },
     "08cff6b88042457b99f4702cdcbaf20b": {
      "model_module": "@jupyter-widgets/controls",
      "model_module_version": "1.5.0",
      "model_name": "DescriptionStyleModel",
      "state": {
       "description_width": ""
      }
     },
     "092eed831e7a42d281ed73d2eb59bb97": {
      "model_module": "@jupyter-widgets/controls",
      "model_module_version": "1.5.0",
      "model_name": "VBoxModel",
      "state": {
       "_dom_classes": [
        "widget-interact"
       ],
       "children": [
        "IPY_MODEL_52ed62b74e9249419990358fec6e0beb",
        "IPY_MODEL_1dec7042bb1544898c4d52122d5f2d40",
        "IPY_MODEL_a349c9939eb84e36b207ed0326bde844",
        "IPY_MODEL_b29342a239b54fbfa6f7c99be479e1ac",
        "IPY_MODEL_6b4bad9abb514a22b29d696393d58db4",
        "IPY_MODEL_f6fd5cb09b7b4bdaac8469099e5a5863",
        "IPY_MODEL_f9e32149c3504439a9656388505e0c2e",
        "IPY_MODEL_932af9359d0f4c26b3455d19c0366af8",
        "IPY_MODEL_88156249f81a4f46a92fbd56d3f86f24",
        "IPY_MODEL_d15dcb9fe0204e79bb8ddfb1a550077d",
        "IPY_MODEL_33c1742b363041ab818b7b1af7bec94e",
        "IPY_MODEL_16011bb13fff40e18a1c4a53082e9147",
        "IPY_MODEL_805cefa305994e03954040d8a6e8ee5a"
       ],
       "layout": "IPY_MODEL_3794eb4ef17d47dbbbea383ff755dd1c"
      }
     },
     "09beeb27725b49dcaf445c3a877123e2": {
      "model_module": "@jupyter-widgets/base",
      "model_module_version": "1.2.0",
      "model_name": "LayoutModel",
      "state": {}
     },
     "09e4b031574e490db5525ca663d15732": {
      "model_module": "@jupyter-widgets/controls",
      "model_module_version": "1.5.0",
      "model_name": "TextareaModel",
      "state": {
       "description": "notes",
       "layout": "IPY_MODEL_42f9ab8dcbd947b893f1ada0c235c49a",
       "style": "IPY_MODEL_9c9df79a361540c980a137ea9fb99840"
      }
     },
     "09e686a54dca40eeb7686f6cc14cfbd4": {
      "model_module": "@jupyter-widgets/controls",
      "model_module_version": "1.5.0",
      "model_name": "VBoxModel",
      "state": {
       "children": [
        "IPY_MODEL_a55a13d808a749c787ac448fc0a70f22",
        "IPY_MODEL_6647c7359711476fa3441b49d35940f1",
        "IPY_MODEL_d9750e63caf243e18cb73648ee7cf1fb",
        "IPY_MODEL_cad87a87a34e4e44b46ef4451b3b01f5",
        "IPY_MODEL_409e29d0735b4f8282241f24eb6c6e6c",
        "IPY_MODEL_97a17b4c764343e0aeae228dc6b9f2c4",
        "IPY_MODEL_6c2cf19889ec48e6b1d677f8f1d8a7bb",
        "IPY_MODEL_2645a0c571514ce799ff6207a0a51b99",
        "IPY_MODEL_677f2cde3a8a473b9d6819ea05cd0a7d",
        "IPY_MODEL_3e825ed1512745f8a2fa5a64d03633f3"
       ],
       "layout": "IPY_MODEL_3702706f98594cfeadec2499a0837024"
      }
     },
     "09efe573216e41edb66bc77815eebc1e": {
      "model_module": "@jupyter-widgets/output",
      "model_module_version": "1.0.0",
      "model_name": "OutputModel",
      "state": {
       "layout": "IPY_MODEL_759ad814c511499599219d0b6a8e8a8d",
       "outputs": [
        {
         "name": "stdout",
         "output_type": "stream",
         "text": "\nCurrent Medication:\n\n \nPatient declines adjustments to their medication regimen.\n\n\n\n"
        }
       ]
      }
     },
     "0a03f50d283e4e6ebd80cb8d5011d623": {
      "model_module": "@jupyter-widgets/controls",
      "model_module_version": "1.5.0",
      "model_name": "DescriptionStyleModel",
      "state": {
       "description_width": "150px"
      }
     },
     "0a5868fd00d440cc879f7c52b0f24020": {
      "model_module": "@jupyter-widgets/controls",
      "model_module_version": "1.5.0",
      "model_name": "DescriptionStyleModel",
      "state": {
       "description_width": "150px"
      }
     },
     "0a72519928ed402c8a67cdb80e1551a8": {
      "model_module": "@jupyter-widgets/base",
      "model_module_version": "1.2.0",
      "model_name": "LayoutModel",
      "state": {}
     },
     "0ac0b5af05f94a14b6364c035bb30d19": {
      "model_module": "@jupyter-widgets/controls",
      "model_module_version": "1.5.0",
      "model_name": "DescriptionStyleModel",
      "state": {
       "description_width": "150px"
      }
     },
     "0b084ac389234041bccc5ba35675603d": {
      "model_module": "@jupyter-widgets/controls",
      "model_module_version": "1.5.0",
      "model_name": "HBoxModel",
      "state": {
       "children": [
        "IPY_MODEL_e45a377c91fe4c1e8ea46bd09450d63a",
        "IPY_MODEL_00095684173a4498b67f8b53c70d138f",
        "IPY_MODEL_557ae2329937406eabf90be06637ae22"
       ],
       "layout": "IPY_MODEL_31094192c1eb4baaa6cdb074b784882f"
      }
     },
     "0b17e0b7a22f42358baf6190b28f15a9": {
      "model_module": "@jupyter-widgets/controls",
      "model_module_version": "1.5.0",
      "model_name": "DescriptionStyleModel",
      "state": {
       "description_width": ""
      }
     },
     "0b789c2eb67a4db4af7c6374869e52aa": {
      "model_module": "@jupyter-widgets/controls",
      "model_module_version": "1.5.0",
      "model_name": "DescriptionStyleModel",
      "state": {
       "description_width": ""
      }
     },
     "0b9baa0733bc4ad1bc25f1dd61983a35": {
      "model_module": "@jupyter-widgets/base",
      "model_module_version": "1.2.0",
      "model_name": "LayoutModel",
      "state": {}
     },
     "0bfd4df0fba749a7bbcd6136ed6fdb94": {
      "model_module": "@jupyter-widgets/controls",
      "model_module_version": "1.5.0",
      "model_name": "DescriptionStyleModel",
      "state": {
       "description_width": ""
      }
     },
     "0c0e9b815a544d5cbff79f61666afd00": {
      "model_module": "@jupyter-widgets/controls",
      "model_module_version": "1.5.0",
      "model_name": "DescriptionStyleModel",
      "state": {
       "description_width": ""
      }
     },
     "0c21d30145334326b659737add6065f8": {
      "model_module": "@jupyter-widgets/controls",
      "model_module_version": "1.5.0",
      "model_name": "TextareaModel",
      "state": {
       "description": "notes",
       "layout": "IPY_MODEL_6ca1abb4c0974a9b85bd5dd3b0292df2",
       "style": "IPY_MODEL_04e6e7d3f7174796b5f5813c8ec35696"
      }
     },
     "0c2b1df5a3ae43a4907343367fc7b2a4": {
      "model_module": "@jupyter-widgets/output",
      "model_module_version": "1.0.0",
      "model_name": "OutputModel",
      "state": {
       "layout": "IPY_MODEL_7c807188f17846ecb8cef0c3f166ef78",
       "outputs": [
        {
         "name": "stdout",
         "output_type": "stream",
         "text": "\nMedical History:\nThe patient denies any acute medical conditions. \nThe patient denies any history of HIV. \nThe patient denies any history of hepatitis.\nThe patient denies any history of TBI.\n\n\n"
        }
       ]
      }
     },
     "0c6884c62b8542faa8c326b1889337d2": {
      "model_module": "@jupyter-widgets/base",
      "model_module_version": "1.2.0",
      "model_name": "LayoutModel",
      "state": {}
     },
     "0ca4cc49dbf0496b822c321c116e883d": {
      "model_module": "@jupyter-widgets/controls",
      "model_module_version": "1.5.0",
      "model_name": "DescriptionStyleModel",
      "state": {
       "description_width": "150px"
      }
     },
     "0cb443286a6e4736adfaabc43a2e1faa": {
      "model_module": "@jupyter-widgets/controls",
      "model_module_version": "1.5.0",
      "model_name": "DescriptionStyleModel",
      "state": {
       "description_width": ""
      }
     },
     "0cf01bdfc4c2436a8fa94ac7df5be78f": {
      "model_module": "@jupyter-widgets/controls",
      "model_module_version": "1.5.0",
      "model_name": "TextareaModel",
      "state": {
       "description": "current_medication",
       "layout": "IPY_MODEL_6ca1abb4c0974a9b85bd5dd3b0292df2",
       "placeholder": "Type something",
       "style": "IPY_MODEL_28f024907dbd4f7d87aa704c0cfad8d7"
      }
     },
     "0cfb8fe3ffbe46a6b6ca852f2a2200e3": {
      "model_module": "@jupyter-widgets/base",
      "model_module_version": "1.2.0",
      "model_name": "LayoutModel",
      "state": {
       "height": "200px"
      }
     },
     "0d45a872e56a4b3eb7d72f07cb8c24ba": {
      "model_module": "@jupyter-widgets/controls",
      "model_module_version": "1.5.0",
      "model_name": "TextareaModel",
      "state": {
       "description": "Treatment Reason",
       "layout": "IPY_MODEL_42f9ab8dcbd947b893f1ada0c235c49a",
       "placeholder": "Type Something",
       "style": "IPY_MODEL_962c919ff13f4ba891b886f609331fd4"
      }
     },
     "0d79f11ae8674580a682266cfa9dcc44": {
      "model_module": "@jupyter-widgets/controls",
      "model_module_version": "1.5.0",
      "model_name": "DescriptionStyleModel",
      "state": {
       "description_width": ""
      }
     },
     "0d7e749942dd409b98bede97aa2139d2": {
      "model_module": "@jupyter-widgets/base",
      "model_module_version": "1.2.0",
      "model_name": "LayoutModel",
      "state": {}
     },
     "0d839e96762541a0aea38a82cf109590": {
      "model_module": "@jupyter-widgets/output",
      "model_module_version": "1.0.0",
      "model_name": "OutputModel",
      "state": {
       "layout": "IPY_MODEL_7f992d3f48604c4d99118bf8476bab55",
       "outputs": [
        {
         "name": "stdout",
         "output_type": "stream",
         "text": "\nThe patient denies that they worry regularly about multiple aspects of their life with accompanying physical symptoms.\nOver the past several weeks, the patient denies any excessive worrying,  \nfeeling keyed up and on edge, irritability, or panic attacks. \n\n\n"
        }
       ]
      }
     },
     "0d92b31c7d464f3cb5f8c5d89c52ebbf": {
      "model_module": "@jupyter-widgets/controls",
      "model_module_version": "1.5.0",
      "model_name": "DropdownModel",
      "state": {
       "_options_labels": [
        "denies",
        "endorses"
       ],
       "description": "tbi_medical",
       "index": 0,
       "layout": "IPY_MODEL_42f9ab8dcbd947b893f1ada0c235c49a",
       "style": "IPY_MODEL_124daa8c43b84d78b95149781b8d201f"
      }
     },
     "0deae60fcb114f24bbc3e839c9db38ee": {
      "model_module": "@jupyter-widgets/base",
      "model_module_version": "1.2.0",
      "model_name": "LayoutModel",
      "state": {}
     },
     "0e3dd7b16f814d58a9f0a38d71446433": {
      "model_module": "@jupyter-widgets/controls",
      "model_module_version": "1.5.0",
      "model_name": "TextModel",
      "state": {
       "description": "Pronoun:",
       "layout": "IPY_MODEL_23780cef0b06482e84792f8e240af21d",
       "style": "IPY_MODEL_f6fc55c8cadb46aaa56a4fde5127c975",
       "value": "they"
      }
     },
     "0e4270f933ba48edb5554b974a9fd791": {
      "model_module": "@jupyter-widgets/controls",
      "model_module_version": "1.5.0",
      "model_name": "CheckboxModel",
      "state": {
       "description": "no drug",
       "disabled": false,
       "layout": "IPY_MODEL_95a4ee2a06294b74b502d4db50233e89",
       "style": "IPY_MODEL_3619dc5ce3c047a39cc345dedde82fc8",
       "value": false
      }
     },
     "0e63bc2d2d2b4cea83483070267d601a": {
      "model_module": "@jupyter-widgets/controls",
      "model_module_version": "1.5.0",
      "model_name": "TextareaModel",
      "state": {
       "description": "notes",
       "layout": "IPY_MODEL_42f9ab8dcbd947b893f1ada0c235c49a",
       "style": "IPY_MODEL_48e2b52fb0d34f9fbe827b23ef484a04"
      }
     },
     "0ed99f826a2e4a3dbe6ee1b9486746d9": {
      "model_module": "@jupyter-widgets/controls",
      "model_module_version": "1.5.0",
      "model_name": "DescriptionStyleModel",
      "state": {
       "description_width": ""
      }
     },
     "0ee56f744b0a46ea8456026a267d3e49": {
      "model_module": "@jupyter-widgets/controls",
      "model_module_version": "1.5.0",
      "model_name": "DescriptionStyleModel",
      "state": {
       "description_width": ""
      }
     },
     "0f0653382a9a4d7494486f56f6f70c30": {
      "model_module": "@jupyter-widgets/base",
      "model_module_version": "1.2.0",
      "model_name": "LayoutModel",
      "state": {}
     },
     "0f20b646ea67464086e939b6b4cc9712": {
      "model_module": "@jupyter-widgets/controls",
      "model_module_version": "1.5.0",
      "model_name": "DescriptionStyleModel",
      "state": {
       "description_width": ""
      }
     },
     "0f6873566a0a4c94894cd30ad96d3825": {
      "model_module": "@jupyter-widgets/controls",
      "model_module_version": "1.5.0",
      "model_name": "TextModel",
      "state": {
       "description": "Pronoun:",
       "layout": "IPY_MODEL_bd950d04fd044806953094a40f728920",
       "style": "IPY_MODEL_0b789c2eb67a4db4af7c6374869e52aa",
       "value": "they"
      }
     },
     "0f70560c14764652a1002b9f86d06010": {
      "model_module": "@jupyter-widgets/controls",
      "model_module_version": "1.5.0",
      "model_name": "CheckboxModel",
      "state": {
       "description": "insomnia",
       "disabled": false,
       "layout": "IPY_MODEL_5ceacdce7b394789bf9cf92c203a2f67",
       "style": "IPY_MODEL_1987c68e22dc4e9f9f8f9c15b8728d1b",
       "value": false
      }
     },
     "0faf80ac6fd942049c0e471f48b6b535": {
      "model_module": "@jupyter-widgets/controls",
      "model_module_version": "1.5.0",
      "model_name": "CheckboxModel",
      "state": {
       "description": "methamphetamine",
       "disabled": false,
       "layout": "IPY_MODEL_10c22849f8bb42e4b61c369c04697256",
       "style": "IPY_MODEL_de736a944a5f42e1bb10d962ca8327fc",
       "value": false
      }
     },
     "0fdc07c698284a828f1abd66c43222c9": {
      "model_module": "@jupyter-widgets/controls",
      "model_module_version": "1.5.0",
      "model_name": "DropdownModel",
      "state": {
       "_options_labels": [
        "denies",
        "endorses"
       ],
       "description": "depressed",
       "index": 0,
       "layout": "IPY_MODEL_6ca1abb4c0974a9b85bd5dd3b0292df2",
       "style": "IPY_MODEL_c4245ba767ac470d9831e40ed32c4bc4"
      }
     },
     "0ff32e03ccee4aa5850262ad1f0fe73d": {
      "model_module": "@jupyter-widgets/controls",
      "model_module_version": "1.5.0",
      "model_name": "DescriptionStyleModel",
      "state": {
       "description_width": ""
      }
     },
     "1059a84b249d43bbb577bb7c4e983c21": {
      "model_module": "@jupyter-widgets/controls",
      "model_module_version": "1.5.0",
      "model_name": "DescriptionStyleModel",
      "state": {
       "description_width": "150px"
      }
     },
     "106fa938035e4971883163fd284acb63": {
      "model_module": "@jupyter-widgets/controls",
      "model_module_version": "1.5.0",
      "model_name": "DescriptionStyleModel",
      "state": {
       "description_width": ""
      }
     },
     "108620068dd7443da573b29ab1f5ee52": {
      "model_module": "@jupyter-widgets/controls",
      "model_module_version": "1.5.0",
      "model_name": "CheckboxModel",
      "state": {
       "description": "ketamine",
       "disabled": false,
       "layout": "IPY_MODEL_0775e71a82a84a3ead73fd41c90d5e4b",
       "style": "IPY_MODEL_90e5e9d0933d4fd0975d743a719dc732",
       "value": false
      }
     },
     "1087e4d2c88d4769a0714cbc9af83e73": {
      "model_module": "@jupyter-widgets/base",
      "model_module_version": "1.2.0",
      "model_name": "LayoutModel",
      "state": {}
     },
     "10c22849f8bb42e4b61c369c04697256": {
      "model_module": "@jupyter-widgets/base",
      "model_module_version": "1.2.0",
      "model_name": "LayoutModel",
      "state": {}
     },
     "10e49df0ac144957966cba922c06f00a": {
      "model_module": "@jupyter-widgets/controls",
      "model_module_version": "1.5.0",
      "model_name": "DropdownModel",
      "state": {
       "_options_labels": [
        "days",
        "months",
        "years"
       ],
       "description": "Sober period",
       "index": 0,
       "layout": "IPY_MODEL_42f9ab8dcbd947b893f1ada0c235c49a",
       "style": "IPY_MODEL_24a6b5f35507465a8f5fb0bfb95562e3"
      }
     },
     "1127efc2605a48e98bf8260984e93a57": {
      "model_module": "@jupyter-widgets/base",
      "model_module_version": "1.2.0",
      "model_name": "LayoutModel",
      "state": {}
     },
     "115609eea89343b1b771b7dd46fa3327": {
      "model_module": "@jupyter-widgets/controls",
      "model_module_version": "1.5.0",
      "model_name": "DescriptionStyleModel",
      "state": {
       "description_width": "150px"
      }
     },
     "115d0e3d24a84fbd82951f4efeb38f08": {
      "model_module": "@jupyter-widgets/controls",
      "model_module_version": "1.5.0",
      "model_name": "BoundedIntTextModel",
      "state": {
       "description": "num_times_in_treatment",
       "layout": "IPY_MODEL_6ca1abb4c0974a9b85bd5dd3b0292df2",
       "style": "IPY_MODEL_c3c84c97d5b1410298b6d03449f23073"
      }
     },
     "1247d55cb80144bcbc9a7c1a10f2f646": {
      "model_module": "@jupyter-widgets/controls",
      "model_module_version": "1.5.0",
      "model_name": "DescriptionStyleModel",
      "state": {
       "description_width": "150px"
      }
     },
     "124daa8c43b84d78b95149781b8d201f": {
      "model_module": "@jupyter-widgets/controls",
      "model_module_version": "1.5.0",
      "model_name": "DescriptionStyleModel",
      "state": {
       "description_width": "150px"
      }
     },
     "1269b0d6a8684da386b40aa8abe4e7d1": {
      "model_module": "@jupyter-widgets/controls",
      "model_module_version": "1.5.0",
      "model_name": "DropdownModel",
      "state": {
       "_options_labels": [
        "days",
        "weeks",
        "months",
        "years"
       ],
       "description": "Longest sober period",
       "index": 0,
       "layout": "IPY_MODEL_42f9ab8dcbd947b893f1ada0c235c49a",
       "style": "IPY_MODEL_c92aa82c280b4704946cab34003b3366"
      }
     },
     "12898b0933d34dd69ef008a04ce9c3b6": {
      "model_module": "@jupyter-widgets/controls",
      "model_module_version": "1.5.0",
      "model_name": "DescriptionStyleModel",
      "state": {
       "description_width": ""
      }
     },
     "12ba092c7edd47eb8a3779741a3373a0": {
      "model_module": "@jupyter-widgets/controls",
      "model_module_version": "1.5.0",
      "model_name": "DescriptionStyleModel",
      "state": {
       "description_width": "150px"
      }
     },
     "12df1037a1ac448cb65384dfa29170a4": {
      "model_module": "@jupyter-widgets/base",
      "model_module_version": "1.2.0",
      "model_name": "LayoutModel",
      "state": {}
     },
     "1339762613d14a19b76461d4ef8d9e5e": {
      "model_module": "@jupyter-widgets/output",
      "model_module_version": "1.0.0",
      "model_name": "OutputModel",
      "state": {
       "layout": "IPY_MODEL_226396be4a8a4914a4de9fe77346d9a8",
       "outputs": [
        {
         "name": "stdout",
         "output_type": "stream",
         "text": "\nMental Status Examination: \nAppearance: WD/WN, looks stated age, fair grooming and hygiene, casually dressed\nBehavior: Calm, cooperative, fair eye contact\nPsychomotor: No activation or retardation\nSpeech: Fluent, spontaneous\nMood: “It’s pretty good.” \nAffect: Euthymic, full-range, congruent with mood\nThought Process: Linear, logical\nThought Content: Denies SI/HI/AH/VH/delusions\nInsight/Judgement: Limited to fair/Fair\n\n"
        }
       ]
      }
     },
     "136bcbf8604e4284a9ea932d8de980eb": {
      "model_module": "@jupyter-widgets/controls",
      "model_module_version": "1.5.0",
      "model_name": "DescriptionStyleModel",
      "state": {
       "description_width": "150px"
      }
     },
     "1378adb44c5244ecb483f46de67eb2ef": {
      "model_module": "@jupyter-widgets/controls",
      "model_module_version": "1.5.0",
      "model_name": "DescriptionStyleModel",
      "state": {
       "description_width": ""
      }
     },
     "13b09d05c7934a779b4a1c4ba118641e": {
      "model_module": "@jupyter-widgets/controls",
      "model_module_version": "1.5.0",
      "model_name": "DropdownModel",
      "state": {
       "_options_labels": [
        "good",
        "fair",
        "poor"
       ],
       "description": "appetite",
       "index": 1,
       "layout": "IPY_MODEL_42f9ab8dcbd947b893f1ada0c235c49a",
       "style": "IPY_MODEL_bed472e3c56e4932bfcc6694399b8694"
      }
     },
     "13c6710050fe47e1837880e836ff9618": {
      "model_module": "@jupyter-widgets/base",
      "model_module_version": "1.2.0",
      "model_name": "LayoutModel",
      "state": {}
     },
     "13e2b63de7c04423868d7e8d281a50da": {
      "model_module": "@jupyter-widgets/controls",
      "model_module_version": "1.5.0",
      "model_name": "TextareaModel",
      "state": {
       "description": "Notes:",
       "layout": "IPY_MODEL_2a22c4e7a60f4cdfa54f64ec40357a21",
       "style": "IPY_MODEL_4c0fc52dfd81423f87a16a09dcd84b24"
      }
     },
     "13f32d64d3c84e78895981a71bb3e7a6": {
      "model_module": "@jupyter-widgets/controls",
      "model_module_version": "1.5.0",
      "model_name": "DescriptionStyleModel",
      "state": {
       "description_width": ""
      }
     },
     "145355c9914e4c07936043c5ba18a574": {
      "model_module": "@jupyter-widgets/base",
      "model_module_version": "1.2.0",
      "model_name": "LayoutModel",
      "state": {}
     },
     "1484a796ed6347e08c719759a96463bd": {
      "model_module": "@jupyter-widgets/controls",
      "model_module_version": "1.5.0",
      "model_name": "DescriptionStyleModel",
      "state": {
       "description_width": ""
      }
     },
     "14a2078f5cae4085a9d89f3d8d44d39a": {
      "model_module": "@jupyter-widgets/controls",
      "model_module_version": "1.5.0",
      "model_name": "TextareaModel",
      "state": {
       "description": "Prev Meds",
       "layout": "IPY_MODEL_42f9ab8dcbd947b893f1ada0c235c49a",
       "style": "IPY_MODEL_5392dcc5886848b3a087448cd30ebaff",
       "value": "None"
      }
     },
     "14ee34138e7d47f9b5d7931855f48551": {
      "model_module": "@jupyter-widgets/controls",
      "model_module_version": "1.5.0",
      "model_name": "DropdownModel",
      "state": {
       "_options_labels": [
        "a history",
        "no history"
       ],
       "description": "mania",
       "index": 1,
       "layout": "IPY_MODEL_42f9ab8dcbd947b893f1ada0c235c49a",
       "style": "IPY_MODEL_b468ac281544419582538787fa8e08a6"
      }
     },
     "15784d2598d04e8a81b0e5d188b6efa6": {
      "model_module": "@jupyter-widgets/controls",
      "model_module_version": "1.5.0",
      "model_name": "DescriptionStyleModel",
      "state": {
       "description_width": "150px"
      }
     },
     "15a25cdddd184ebb871e2d0895b03ab7": {
      "model_module": "@jupyter-widgets/controls",
      "model_module_version": "1.5.0",
      "model_name": "CheckboxModel",
      "state": {
       "description": "opioid",
       "disabled": false,
       "layout": "IPY_MODEL_f901336661f94398861f0ad96b1c0112",
       "style": "IPY_MODEL_c1da71fdfd1647e0b79fa7c19a5c3cc2",
       "value": false
      }
     },
     "15a8b04a7c77483898a68a29c4192fa0": {
      "model_module": "@jupyter-widgets/base",
      "model_module_version": "1.2.0",
      "model_name": "LayoutModel",
      "state": {}
     },
     "15bdca69fc9a4287bca007b68fbcd865": {
      "model_module": "@jupyter-widgets/controls",
      "model_module_version": "1.5.0",
      "model_name": "CheckboxModel",
      "state": {
       "description": "cannabis",
       "disabled": false,
       "layout": "IPY_MODEL_9acca90d32e34b98b76756f9b68efa2c",
       "style": "IPY_MODEL_71060e427de54618902962f6238da8e7",
       "value": false
      }
     },
     "16011bb13fff40e18a1c4a53082e9147": {
      "model_module": "@jupyter-widgets/controls",
      "model_module_version": "1.5.0",
      "model_name": "TextareaModel",
      "state": {
       "description": "notes",
       "layout": "IPY_MODEL_42f9ab8dcbd947b893f1ada0c235c49a",
       "style": "IPY_MODEL_0618e834445c40cf94f839eb59d0b2b4"
      }
     },
     "1667b7a6a5b14fdda8ac69ea806486a0": {
      "model_module": "@jupyter-widgets/base",
      "model_module_version": "1.2.0",
      "model_name": "LayoutModel",
      "state": {}
     },
     "16c56bcb81534729802cbedbe16b71e9": {
      "model_module": "@jupyter-widgets/controls",
      "model_module_version": "1.5.0",
      "model_name": "HBoxModel",
      "state": {
       "children": [
        "IPY_MODEL_d8ac6a6e0d794c3798d871df9b5001b3"
       ],
       "layout": "IPY_MODEL_98225ee3884c45c1bd331f2f7bdbbe9f"
      }
     },
     "16f02214e1e847f59d63fdec7868c1f3": {
      "model_module": "@jupyter-widgets/base",
      "model_module_version": "1.2.0",
      "model_name": "LayoutModel",
      "state": {
       "width": "25%"
      }
     },
     "172f4613e7884b47a251c02e50b68dde": {
      "model_module": "@jupyter-widgets/controls",
      "model_module_version": "1.5.0",
      "model_name": "DescriptionStyleModel",
      "state": {
       "description_width": "150px"
      }
     },
     "17535b5219a841208862008eb51bb068": {
      "model_module": "@jupyter-widgets/controls",
      "model_module_version": "1.5.0",
      "model_name": "DescriptionStyleModel",
      "state": {
       "description_width": ""
      }
     },
     "1776639e5cc64aaa9582cacceb3d9fe4": {
      "model_module": "@jupyter-widgets/controls",
      "model_module_version": "1.5.0",
      "model_name": "DescriptionStyleModel",
      "state": {
       "description_width": "150px"
      }
     },
     "17785c68d46e4670a54ad50f2d95dac4": {
      "model_module": "@jupyter-widgets/controls",
      "model_module_version": "1.5.0",
      "model_name": "DescriptionStyleModel",
      "state": {
       "description_width": ""
      }
     },
     "17a4a5316f5d4ac5b151f6a6175a7f1f": {
      "model_module": "@jupyter-widgets/controls",
      "model_module_version": "1.5.0",
      "model_name": "TextareaModel",
      "state": {
       "description": "Treatment Reason",
       "layout": "IPY_MODEL_42f9ab8dcbd947b893f1ada0c235c49a",
       "placeholder": "Type Something",
       "style": "IPY_MODEL_fb6622ab75254b789ec3a702e61af1c4"
      }
     },
     "17e43674fa964af7b4382073515f2463": {
      "model_module": "@jupyter-widgets/base",
      "model_module_version": "1.2.0",
      "model_name": "LayoutModel",
      "state": {}
     },
     "17e704b87e914ee9b65cb7e91ff14a69": {
      "model_module": "@jupyter-widgets/controls",
      "model_module_version": "1.5.0",
      "model_name": "CheckboxModel",
      "state": {
       "description": "cocaine",
       "disabled": false,
       "layout": "IPY_MODEL_cb14bcf6ad5a4715824ae61c82e794ea",
       "style": "IPY_MODEL_1b14ecf9d7984534908586392e0cb9da",
       "value": false
      }
     },
     "180794b1bb2b40b88d3405eb78e39837": {
      "model_module": "@jupyter-widgets/controls",
      "model_module_version": "1.5.0",
      "model_name": "DescriptionStyleModel",
      "state": {
       "description_width": ""
      }
     },
     "1807f406914f490286715e57780785e8": {
      "model_module": "@jupyter-widgets/base",
      "model_module_version": "1.2.0",
      "model_name": "LayoutModel",
      "state": {}
     },
     "185c2fdccae74d32b9464eb61fbab848": {
      "model_module": "@jupyter-widgets/controls",
      "model_module_version": "1.5.0",
      "model_name": "DropdownModel",
      "state": {
       "_options_labels": [
        "denies",
        "endorses"
       ],
       "description": "hospitalization",
       "index": 0,
       "layout": "IPY_MODEL_42f9ab8dcbd947b893f1ada0c235c49a",
       "style": "IPY_MODEL_e4da2dbb77f8435296a0ae372f556df1"
      }
     },
     "1881443a187747268b338e893b8d068c": {
      "model_module": "@jupyter-widgets/controls",
      "model_module_version": "1.5.0",
      "model_name": "DescriptionStyleModel",
      "state": {
       "description_width": ""
      }
     },
     "18d58d9bd0954bba9c5e9c84eadd2064": {
      "model_module": "@jupyter-widgets/controls",
      "model_module_version": "1.5.0",
      "model_name": "HBoxModel",
      "state": {
       "children": [
        "IPY_MODEL_c8d4c96fb858476dade3d9d2d365e395"
       ],
       "layout": "IPY_MODEL_deb2e7f43cc049dab3479ba7b28eda59"
      }
     },
     "1948a170b76a4fd4aa9d16216be4166f": {
      "model_module": "@jupyter-widgets/controls",
      "model_module_version": "1.5.0",
      "model_name": "DescriptionStyleModel",
      "state": {
       "description_width": "150px"
      }
     },
     "195983c3972843e79bf56e557d73c3b5": {
      "model_module": "@jupyter-widgets/base",
      "model_module_version": "1.2.0",
      "model_name": "LayoutModel",
      "state": {}
     },
     "1987c68e22dc4e9f9f8f9c15b8728d1b": {
      "model_module": "@jupyter-widgets/controls",
      "model_module_version": "1.5.0",
      "model_name": "DescriptionStyleModel",
      "state": {
       "description_width": ""
      }
     },
     "19b378b22035486c98979340e382fc41": {
      "model_module": "@jupyter-widgets/base",
      "model_module_version": "1.2.0",
      "model_name": "LayoutModel",
      "state": {}
     },
     "1a0e33ac584349a6b4d269a947149161": {
      "model_module": "@jupyter-widgets/controls",
      "model_module_version": "1.5.0",
      "model_name": "DescriptionStyleModel",
      "state": {
       "description_width": ""
      }
     },
     "1a4c9d2935414c7585e3c12c5215b983": {
      "model_module": "@jupyter-widgets/output",
      "model_module_version": "1.0.0",
      "model_name": "OutputModel",
      "state": {
       "layout": "IPY_MODEL_e416acb9b8064166a272f02c66e7630d",
       "outputs": [
        {
         "name": "stdout",
         "output_type": "stream",
         "text": "\nThis patient denies current depressed mood. \nOver the past several weeks, the patient denies sustained sadness, denies excessive guilt. \nThe patient denies anhedonia.\nThe patient reports fair ability to concentrate. \nThe patient denies issues with sleep. \nThe patient reports fair appetite.\nReports fair energy level. \nThe patient denies hopelessness, worthlessness, SI/HI/AH/VH/delusions.\nThey indicate they have experienced depressive episodes lasting longer than two weeks in the absence of substance use.\nThe patient denies current decreased need for sleep, euphoria \nor grandiosity or irritability, flights of idea, impulsivity, uncharacteristic talkativeness or rapid speech.\n\n\n"
        }
       ]
      }
     },
     "1a60125e17094f9da950b47fcabd7daa": {
      "model_module": "@jupyter-widgets/output",
      "model_module_version": "1.0.0",
      "model_name": "OutputModel",
      "state": {
       "layout": "IPY_MODEL_5050f74c2945485ca181627c493e87d3",
       "outputs": [
        {
         "name": "stdout",
         "output_type": "stream",
         "text": "\nHistory of Present Illness:\nThe patient states that they decided to come to treatment because . \nPatient reports they have been sober for 4 days.\nThe patient denies withdrawals. The patient denies cravings.\nThe patient declines anti-craving medication.\nThe patient reports their substance use impacted their life negatively  \n \n    \n"
        }
       ]
      }
     },
     "1a812601d0a24144832cd12e9a8b41f4": {
      "model_module": "@jupyter-widgets/base",
      "model_module_version": "1.2.0",
      "model_name": "LayoutModel",
      "state": {}
     },
     "1a9e3dff7c5e45eda756a94d9904392d": {
      "model_module": "@jupyter-widgets/controls",
      "model_module_version": "1.5.0",
      "model_name": "CheckboxModel",
      "state": {
       "description": "bipolar I disorder",
       "disabled": false,
       "layout": "IPY_MODEL_2897146c792e44e5a1e555513fd2962d",
       "style": "IPY_MODEL_decf20dddd22452fadd4e8f2fa6d9ae3",
       "value": false
      }
     },
     "1ab53f6ab1dd4f5abc9ea38c5ec96753": {
      "model_module": "@jupyter-widgets/controls",
      "model_module_version": "1.5.0",
      "model_name": "VBoxModel",
      "state": {
       "_dom_classes": [
        "widget-interact"
       ],
       "children": [
        "IPY_MODEL_8a7190e91d30479aa5b55dd1a6ec70da",
        "IPY_MODEL_93678ba598f34d358d4a6a17c3a33b5e",
        "IPY_MODEL_310af9c8c6a64bc7a5e8196ab27b7bb9",
        "IPY_MODEL_300b040509ac4d3c92913d8e44ea3a06",
        "IPY_MODEL_6ba3868fd8e94261bade00383e151850",
        "IPY_MODEL_550aa218965a461f9bc80b370e82f2f5"
       ],
       "layout": "IPY_MODEL_20585382b49348e0a84768ac99e5d9c9"
      }
     },
     "1ab90ce796884dd4b75450cb823d5c18": {
      "model_module": "@jupyter-widgets/controls",
      "model_module_version": "1.5.0",
      "model_name": "DescriptionStyleModel",
      "state": {
       "description_width": ""
      }
     },
     "1afddf70bbc64f52954cf45fdeeed6a9": {
      "model_module": "@jupyter-widgets/controls",
      "model_module_version": "1.5.0",
      "model_name": "BoundedIntTextModel",
      "state": {
       "description": "Sober Time:",
       "layout": "IPY_MODEL_42f9ab8dcbd947b893f1ada0c235c49a",
       "max": 200,
       "style": "IPY_MODEL_454169182f2c4a2ea2295a43f5bf1c69",
       "value": 4
      }
     },
     "1b14ecf9d7984534908586392e0cb9da": {
      "model_module": "@jupyter-widgets/controls",
      "model_module_version": "1.5.0",
      "model_name": "DescriptionStyleModel",
      "state": {
       "description_width": ""
      }
     },
     "1b3511117ac8410bb2abb4c39a9ec110": {
      "model_module": "@jupyter-widgets/base",
      "model_module_version": "1.2.0",
      "model_name": "LayoutModel",
      "state": {}
     },
     "1b3abd33be314f8eb39df44afd2e4ca0": {
      "model_module": "@jupyter-widgets/controls",
      "model_module_version": "1.5.0",
      "model_name": "DescriptionStyleModel",
      "state": {
       "description_width": ""
      }
     },
     "1c022e53b2844297ad8f813f806fe300": {
      "model_module": "@jupyter-widgets/controls",
      "model_module_version": "1.5.0",
      "model_name": "HBoxModel",
      "state": {
       "children": [
        "IPY_MODEL_47fc85fbd2de401c8d62d8bdef150c18"
       ],
       "layout": "IPY_MODEL_741d14126fae48b2b5f59948f9115e97"
      }
     },
     "1c2c66963aae41cea2cc301da8f4d90e": {
      "model_module": "@jupyter-widgets/base",
      "model_module_version": "1.2.0",
      "model_name": "LayoutModel",
      "state": {}
     },
     "1c50e71cdc1b437586349c29b55422c8": {
      "model_module": "@jupyter-widgets/controls",
      "model_module_version": "1.5.0",
      "model_name": "DescriptionStyleModel",
      "state": {
       "description_width": "150px"
      }
     },
     "1c70024d70b748ab9e7521f132c5e652": {
      "model_module": "@jupyter-widgets/controls",
      "model_module_version": "1.5.0",
      "model_name": "DescriptionStyleModel",
      "state": {
       "description_width": "150px"
      }
     },
     "1c9007a666164c7f82b50d263df0454b": {
      "model_module": "@jupyter-widgets/base",
      "model_module_version": "1.2.0",
      "model_name": "LayoutModel",
      "state": {}
     },
     "1cf2cc6aade244118831c78bbd7a7d8e": {
      "model_module": "@jupyter-widgets/base",
      "model_module_version": "1.2.0",
      "model_name": "LayoutModel",
      "state": {}
     },
     "1cfca7a8be3047c3a1e35917d19024d7": {
      "model_module": "@jupyter-widgets/controls",
      "model_module_version": "1.5.0",
      "model_name": "DescriptionStyleModel",
      "state": {
       "description_width": ""
      }
     },
     "1d549e97114d4af28cd5a7eb30c430f5": {
      "model_module": "@jupyter-widgets/controls",
      "model_module_version": "1.5.0",
      "model_name": "DescriptionStyleModel",
      "state": {
       "description_width": ""
      }
     },
     "1d602b645c674458b5ffeeb70cd14b24": {
      "model_module": "@jupyter-widgets/base",
      "model_module_version": "1.2.0",
      "model_name": "LayoutModel",
      "state": {
       "width": "25%"
      }
     },
     "1dec7042bb1544898c4d52122d5f2d40": {
      "model_module": "@jupyter-widgets/controls",
      "model_module_version": "1.5.0",
      "model_name": "DropdownModel",
      "state": {
       "_options_labels": [
        "denies",
        "endorses"
       ],
       "description": "Sust Sadness",
       "index": 0,
       "layout": "IPY_MODEL_42f9ab8dcbd947b893f1ada0c235c49a",
       "style": "IPY_MODEL_2079095b95ad48368506a22168032d31"
      }
     },
     "1e0a2cacac7b44bbae56defc3db2487a": {
      "model_module": "@jupyter-widgets/controls",
      "model_module_version": "1.5.0",
      "model_name": "DropdownModel",
      "state": {
       "_options_labels": [
        "denies",
        "endorses"
       ],
       "description": "mania",
       "index": 0,
       "layout": "IPY_MODEL_42f9ab8dcbd947b893f1ada0c235c49a",
       "style": "IPY_MODEL_e34dd579aba8415ab5bd90e305c01ad8"
      }
     },
     "1e36c5d0a494473aa45f41df758e9141": {
      "model_module": "@jupyter-widgets/base",
      "model_module_version": "1.2.0",
      "model_name": "LayoutModel",
      "state": {}
     },
     "1e3f325a63234ee9865ee8ca832ca0e9": {
      "model_module": "@jupyter-widgets/controls",
      "model_module_version": "1.5.0",
      "model_name": "CheckboxModel",
      "state": {
       "description": "sedative, hypnotic, or anxiolytic",
       "disabled": false,
       "layout": "IPY_MODEL_0a72519928ed402c8a67cdb80e1551a8",
       "style": "IPY_MODEL_9b8c042757b4446c8067490b2f961b2e",
       "value": false
      }
     },
     "1e484304904546ce953ab7002d09f714": {
      "model_module": "@jupyter-widgets/output",
      "model_module_version": "1.0.0",
      "model_name": "OutputModel",
      "state": {
       "layout": "IPY_MODEL_dc95b05c735445d58a0c238197ebfe52",
       "outputs": [
        {
         "name": "stdout",
         "output_type": "stream",
         "text": "\nHistory of Present Illness:\nThe patient states that they decided to come to treatment because . \nPatient reports they have been sober for 4 days.\nThe patient denies withdrawals. The patient denies cravings.\nThe patient declines anti-craving medication.\nThe patient reports their substance use impacted their life negatively  \n \n    \n"
        }
       ]
      }
     },
     "1ea4bd75ff8642c5a4c66bcc24077ec0": {
      "model_module": "@jupyter-widgets/controls",
      "model_module_version": "1.5.0",
      "model_name": "DescriptionStyleModel",
      "state": {
       "description_width": "150px"
      }
     },
     "1ec6520db5784c66bfd9904a7a1db78d": {
      "model_module": "@jupyter-widgets/controls",
      "model_module_version": "1.5.0",
      "model_name": "CheckboxModel",
      "state": {
       "description": "heroin",
       "disabled": false,
       "layout": "IPY_MODEL_c416495c55df4e569c6fb7080747c0eb",
       "style": "IPY_MODEL_e2c3a0b8483b4cad8dd826b8f94e676a",
       "value": false
      }
     },
     "1ed7b156dff54009a32f0247c5324013": {
      "model_module": "@jupyter-widgets/controls",
      "model_module_version": "1.5.0",
      "model_name": "DescriptionStyleModel",
      "state": {
       "description_width": "150px"
      }
     },
     "1ee8730049754059ad95de0b1daa7205": {
      "model_module": "@jupyter-widgets/controls",
      "model_module_version": "1.5.0",
      "model_name": "DescriptionStyleModel",
      "state": {
       "description_width": "150px"
      }
     },
     "1eebf0002dfd419b8974722ba09478a9": {
      "model_module": "@jupyter-widgets/controls",
      "model_module_version": "1.5.0",
      "model_name": "DropdownModel",
      "state": {
       "_options_labels": [
        "denies",
        "endorses"
       ],
       "description": "seizures",
       "index": 0,
       "layout": "IPY_MODEL_42f9ab8dcbd947b893f1ada0c235c49a",
       "style": "IPY_MODEL_7fb5ee14aee34db8a237660d4f23fbff"
      }
     },
     "1ef6231ff25f4c7a9bc10e688177c5a3": {
      "model_module": "@jupyter-widgets/controls",
      "model_module_version": "1.5.0",
      "model_name": "DropdownModel",
      "state": {
       "_options_labels": [
        "days",
        "weeks",
        "months",
        "years"
       ],
       "description": "longest_sober_period",
       "index": 0,
       "layout": "IPY_MODEL_42f9ab8dcbd947b893f1ada0c235c49a",
       "style": "IPY_MODEL_d264ea73db794c05ac11508aea9f9919"
      }
     },
     "1f1fa295806b4446992b7a8b22ec9e42": {
      "model_module": "@jupyter-widgets/controls",
      "model_module_version": "1.5.0",
      "model_name": "DescriptionStyleModel",
      "state": {
       "description_width": ""
      }
     },
     "1f28e5c9f8dc4e3794f58291b9403b8f": {
      "model_module": "@jupyter-widgets/controls",
      "model_module_version": "1.5.0",
      "model_name": "DescriptionStyleModel",
      "state": {
       "description_width": "150px"
      }
     },
     "1f3b0b9767d74a4fba33d62f9333d8d8": {
      "model_module": "@jupyter-widgets/controls",
      "model_module_version": "1.5.0",
      "model_name": "DescriptionStyleModel",
      "state": {
       "description_width": ""
      }
     },
     "1f9233f8f57b43c1b493b308785de49d": {
      "model_module": "@jupyter-widgets/controls",
      "model_module_version": "1.5.0",
      "model_name": "HBoxModel",
      "state": {
       "children": [
        "IPY_MODEL_fc11560328854e608eccfd3b77ca5779"
       ],
       "layout": "IPY_MODEL_783feefb4988472daff87d423ea27bb7"
      }
     },
     "1ffdb5f029fc472e9c52580d60eb9964": {
      "model_module": "@jupyter-widgets/controls",
      "model_module_version": "1.5.0",
      "model_name": "DescriptionStyleModel",
      "state": {
       "description_width": "150px"
      }
     },
     "203f1333122a4ce486405c77fe688d5f": {
      "model_module": "@jupyter-widgets/base",
      "model_module_version": "1.2.0",
      "model_name": "LayoutModel",
      "state": {}
     },
     "20585382b49348e0a84768ac99e5d9c9": {
      "model_module": "@jupyter-widgets/base",
      "model_module_version": "1.2.0",
      "model_name": "LayoutModel",
      "state": {}
     },
     "2079095b95ad48368506a22168032d31": {
      "model_module": "@jupyter-widgets/controls",
      "model_module_version": "1.5.0",
      "model_name": "DescriptionStyleModel",
      "state": {
       "description_width": "150px"
      }
     },
     "20e71282e4e443638aa1a48f4a386084": {
      "model_module": "@jupyter-widgets/controls",
      "model_module_version": "1.5.0",
      "model_name": "DescriptionStyleModel",
      "state": {
       "description_width": "150px"
      }
     },
     "21039848d8164ef994adeb561aab0275": {
      "model_module": "@jupyter-widgets/controls",
      "model_module_version": "1.5.0",
      "model_name": "DescriptionStyleModel",
      "state": {
       "description_width": ""
      }
     },
     "218938329ad543c3a89d56451629bacf": {
      "model_module": "@jupyter-widgets/controls",
      "model_module_version": "1.5.0",
      "model_name": "DescriptionStyleModel",
      "state": {
       "description_width": "150px"
      }
     },
     "21f62d6162464515abc70d1d2f6a4b38": {
      "model_module": "@jupyter-widgets/controls",
      "model_module_version": "1.5.0",
      "model_name": "DropdownModel",
      "state": {
       "_options_labels": [
        "denies",
        "endorses"
       ],
       "description": "hiv_medical",
       "index": 0,
       "layout": "IPY_MODEL_42f9ab8dcbd947b893f1ada0c235c49a",
       "style": "IPY_MODEL_d2c540031f90445e8e4f8845218261cc"
      }
     },
     "226396be4a8a4914a4de9fe77346d9a8": {
      "model_module": "@jupyter-widgets/base",
      "model_module_version": "1.2.0",
      "model_name": "LayoutModel",
      "state": {}
     },
     "229ba40796064fdabdda0f73bb07de11": {
      "model_module": "@jupyter-widgets/controls",
      "model_module_version": "1.5.0",
      "model_name": "DescriptionStyleModel",
      "state": {
       "description_width": ""
      }
     },
     "22d8fe9dca9b4fd5a6bae6788822db12": {
      "model_module": "@jupyter-widgets/controls",
      "model_module_version": "1.5.0",
      "model_name": "CheckboxModel",
      "state": {
       "description": "mushrooms",
       "disabled": false,
       "layout": "IPY_MODEL_f7bef693bdbb41c59910278890530009",
       "style": "IPY_MODEL_371d845792e84074b69f4e10b46b2e51",
       "value": false
      }
     },
     "232280cc65444fa9983a4d50a3293b08": {
      "model_module": "@jupyter-widgets/controls",
      "model_module_version": "1.5.0",
      "model_name": "ComboboxModel",
      "state": {
       "description": "med_statement",
       "ensure_option": false,
       "layout": "IPY_MODEL_42f9ab8dcbd947b893f1ada0c235c49a",
       "options": [
        "Patient declines psychotropic medication and elects for more conservative approaches to psychiatric symptom management at this time."
       ],
       "style": "IPY_MODEL_acde96118e4445f7bd55084baee5f78c"
      }
     },
     "23573e90e6084b8fa0f9492deaa8ba48": {
      "model_module": "@jupyter-widgets/base",
      "model_module_version": "1.2.0",
      "model_name": "LayoutModel",
      "state": {}
     },
     "2371ac8a6a43444f8ce214732cc4dd78": {
      "model_module": "@jupyter-widgets/controls",
      "model_module_version": "1.5.0",
      "model_name": "DropdownModel",
      "state": {
       "_options_labels": [
        "denies",
        "endorses"
       ],
       "description": "sleep",
       "index": 0,
       "layout": "IPY_MODEL_6ca1abb4c0974a9b85bd5dd3b0292df2",
       "style": "IPY_MODEL_535cf17dafd34b19ae9520648441304e"
      }
     },
     "2376137a79fc4f7ab1fedfae45d8b3b6": {
      "model_module": "@jupyter-widgets/output",
      "model_module_version": "1.0.0",
      "model_name": "OutputModel",
      "state": {
       "layout": "IPY_MODEL_a019ed7e3be449599e643a649ad8d300",
       "outputs": [
        {
         "name": "stdout",
         "output_type": "stream",
         "text": "\nMental Status Examination: \nAppearance: WD/WN, looks stated age, fair grooming and hygiene, casually dressed\nBehavior: Calm, cooperative, fair eye contact\nPsychomotor: No activation or retardation\nSpeech: Fluent, spontaneous\nMood: “It’s pretty good.” \nAffect: Euthymic, full-range, congruent with mood\nThought Process: Linear, logical\nThought Content: Denies SI/HI/AH/VH/delusions\nInsight/Judgement: Limited to fair/Fair\n\n"
        }
       ]
      }
     },
     "23780cef0b06482e84792f8e240af21d": {
      "model_module": "@jupyter-widgets/base",
      "model_module_version": "1.2.0",
      "model_name": "LayoutModel",
      "state": {}
     },
     "2387df111c444ce99b95e04600f466cb": {
      "model_module": "@jupyter-widgets/base",
      "model_module_version": "1.2.0",
      "model_name": "LayoutModel",
      "state": {}
     },
     "23a964681dd2439f802eb2f24a5b38f0": {
      "model_module": "@jupyter-widgets/base",
      "model_module_version": "1.2.0",
      "model_name": "LayoutModel",
      "state": {}
     },
     "23c22e058155462fbcd457a81dd60939": {
      "model_module": "@jupyter-widgets/controls",
      "model_module_version": "1.5.0",
      "model_name": "DropdownModel",
      "state": {
       "_options_labels": [
        "denies",
        "endorses"
       ],
       "description": "suicide",
       "index": 0,
       "layout": "IPY_MODEL_6ca1abb4c0974a9b85bd5dd3b0292df2",
       "style": "IPY_MODEL_0134d570a9cb4483af8ede2a15a9aad5"
      }
     },
     "240d7c00076a4c21af673a65db617cb4": {
      "model_module": "@jupyter-widgets/controls",
      "model_module_version": "1.5.0",
      "model_name": "DescriptionStyleModel",
      "state": {
       "description_width": ""
      }
     },
     "2432be86a42c4e508952a5223c1da5a8": {
      "model_module": "@jupyter-widgets/controls",
      "model_module_version": "1.5.0",
      "model_name": "VBoxModel",
      "state": {
       "_dom_classes": [
        "widget-interact"
       ],
       "children": [
        "IPY_MODEL_e830d1c5f3644661bba55186094e18c5",
        "IPY_MODEL_30fe27d23be54879b2b9ccce1e86f44e"
       ],
       "layout": "IPY_MODEL_1087e4d2c88d4769a0714cbc9af83e73"
      }
     },
     "247810c5bd82463fb58726f6e5980f26": {
      "model_module": "@jupyter-widgets/base",
      "model_module_version": "1.2.0",
      "model_name": "LayoutModel",
      "state": {}
     },
     "24a6b5f35507465a8f5fb0bfb95562e3": {
      "model_module": "@jupyter-widgets/controls",
      "model_module_version": "1.5.0",
      "model_name": "DescriptionStyleModel",
      "state": {
       "description_width": "150px"
      }
     },
     "24ca18878bf34e4fbcfa2fee523e339b": {
      "model_module": "@jupyter-widgets/controls",
      "model_module_version": "1.5.0",
      "model_name": "DescriptionStyleModel",
      "state": {
       "description_width": ""
      }
     },
     "24cbcb40e7234f9e9b0487a5accf1afe": {
      "model_module": "@jupyter-widgets/controls",
      "model_module_version": "1.5.0",
      "model_name": "DescriptionStyleModel",
      "state": {
       "description_width": "150px"
      }
     },
     "254b4307807544d294dde79af9fce6a1": {
      "model_module": "@jupyter-widgets/controls",
      "model_module_version": "1.5.0",
      "model_name": "DescriptionStyleModel",
      "state": {
       "description_width": "150px"
      }
     },
     "261ec2350e26422f8d1701de9d9e9f17": {
      "model_module": "@jupyter-widgets/controls",
      "model_module_version": "1.5.0",
      "model_name": "HBoxModel",
      "state": {
       "children": [
        "IPY_MODEL_b59f60555abb4322a62b0138932cd6c7"
       ],
       "layout": "IPY_MODEL_9c75a5379974484e9ba7ce2d772c0fb8"
      }
     },
     "2645a0c571514ce799ff6207a0a51b99": {
      "model_module": "@jupyter-widgets/controls",
      "model_module_version": "1.5.0",
      "model_name": "CheckboxModel",
      "state": {
       "description": "psychosis",
       "disabled": false,
       "layout": "IPY_MODEL_f131c653aaef464283c2f3ba6be99921",
       "style": "IPY_MODEL_035a849a00084413b0bf9193b6a66d12",
       "value": false
      }
     },
     "265c5b95f0814562ae90c183ebe90df4": {
      "model_module": "@jupyter-widgets/controls",
      "model_module_version": "1.5.0",
      "model_name": "CheckboxModel",
      "state": {
       "description": "sedative, hypnotic, or anxiolytic",
       "disabled": false,
       "layout": "IPY_MODEL_f418a760497c442daeb2bd466368091c",
       "style": "IPY_MODEL_1f3b0b9767d74a4fba33d62f9333d8d8",
       "value": false
      }
     },
     "266a354315ed42b59ab0dc4cb78d46b7": {
      "model_module": "@jupyter-widgets/controls",
      "model_module_version": "1.5.0",
      "model_name": "VBoxModel",
      "state": {
       "children": [
        "IPY_MODEL_b84c7de32cce426ba94fe90f305026ae",
        "IPY_MODEL_6cfdbcabdc1b44569b981f255c2644bd"
       ],
       "layout": "IPY_MODEL_4ade6b45607a484ba5a59271a0033457"
      }
     },
     "267178d9cffa4dc9ba9c9b8fd555710e": {
      "model_module": "@jupyter-widgets/output",
      "model_module_version": "1.0.0",
      "model_name": "OutputModel",
      "state": {
       "layout": "IPY_MODEL_4e5ec85b44fb45959497fcdfcd01a696",
       "outputs": [
        {
         "name": "stdout",
         "output_type": "stream",
         "text": "\nLabs and Studies:\nNone currently on file.\n\n"
        }
       ]
      }
     },
     "267ce9d98c2a4ceca920c6457f0d9a58": {
      "model_module": "@jupyter-widgets/controls",
      "model_module_version": "1.5.0",
      "model_name": "CheckboxModel",
      "state": {
       "description": "polysubstance",
       "disabled": false,
       "layout": "IPY_MODEL_778a57f152f84061af3750efed46c044",
       "style": "IPY_MODEL_0658d911da904ec2b9a3ad118f67cc8b",
       "value": false
      }
     },
     "26a8e5c5f5ca43b5840ac2a329e17c8f": {
      "model_module": "@jupyter-widgets/controls",
      "model_module_version": "1.5.0",
      "model_name": "ComboboxModel",
      "state": {
       "description": "med_statement",
       "ensure_option": false,
       "layout": "IPY_MODEL_42f9ab8dcbd947b893f1ada0c235c49a",
       "options": [
        "Patient declines psychotropic medication and elects for more conservative approaches to psychiatric symptom management at this time."
       ],
       "style": "IPY_MODEL_254b4307807544d294dde79af9fce6a1"
      }
     },
     "26cce6ec3f1d474f8789bb5d2628b2cc": {
      "model_module": "@jupyter-widgets/base",
      "model_module_version": "1.2.0",
      "model_name": "LayoutModel",
      "state": {}
     },
     "27059326ec9e44dbbbafa9b6b3c78b43": {
      "model_module": "@jupyter-widgets/base",
      "model_module_version": "1.2.0",
      "model_name": "LayoutModel",
      "state": {}
     },
     "2747d87b2d0c48e5b7b707b992f58217": {
      "model_module": "@jupyter-widgets/controls",
      "model_module_version": "1.5.0",
      "model_name": "CheckboxModel",
      "state": {
       "description": "polysubstance",
       "disabled": false,
       "layout": "IPY_MODEL_b5b942290bf7426c81449e01bb76c8c5",
       "style": "IPY_MODEL_482ea02e686440569fb4c39f6c837e92",
       "value": false
      }
     },
     "275b6248b741413194e389b3398071e8": {
      "model_module": "@jupyter-widgets/controls",
      "model_module_version": "1.5.0",
      "model_name": "DescriptionStyleModel",
      "state": {
       "description_width": "150px"
      }
     },
     "278526a897024e7091aeabe06379b49e": {
      "model_module": "@jupyter-widgets/base",
      "model_module_version": "1.2.0",
      "model_name": "LayoutModel",
      "state": {}
     },
     "27a3173985804df39cf9df41c26d02bf": {
      "model_module": "@jupyter-widgets/controls",
      "model_module_version": "1.5.0",
      "model_name": "DescriptionStyleModel",
      "state": {
       "description_width": "150px"
      }
     },
     "27dcc0de6e094641a83e958cab3418ca": {
      "model_module": "@jupyter-widgets/controls",
      "model_module_version": "1.5.0",
      "model_name": "TextareaModel",
      "state": {
       "description": "previous_meds",
       "layout": "IPY_MODEL_6ca1abb4c0974a9b85bd5dd3b0292df2",
       "style": "IPY_MODEL_e25a23312a984dd785941b4d24f453f6",
       "value": "None"
      }
     },
     "27f725d7f3b54e79b14b2f149046fb88": {
      "model_module": "@jupyter-widgets/controls",
      "model_module_version": "1.5.0",
      "model_name": "CheckboxModel",
      "state": {
       "description": "schizophrenia",
       "disabled": false,
       "layout": "IPY_MODEL_6b01526bb3e54f1da8fe80a508337ae0",
       "style": "IPY_MODEL_9921cb75219848eaa9449bf6ba42ee83",
       "value": false
      }
     },
     "2897146c792e44e5a1e555513fd2962d": {
      "model_module": "@jupyter-widgets/base",
      "model_module_version": "1.2.0",
      "model_name": "LayoutModel",
      "state": {}
     },
     "289de0b1945e47749f29193322fceaaf": {
      "model_module": "@jupyter-widgets/controls",
      "model_module_version": "1.5.0",
      "model_name": "DropdownModel",
      "state": {
       "_options_labels": [
        "days",
        "months",
        "years"
       ],
       "description": "sober_period",
       "index": 0,
       "layout": "IPY_MODEL_42f9ab8dcbd947b893f1ada0c235c49a",
       "style": "IPY_MODEL_0a5868fd00d440cc879f7c52b0f24020"
      }
     },
     "28e670661ffe4675ac3cc9cb2b7a3805": {
      "model_module": "@jupyter-widgets/controls",
      "model_module_version": "1.5.0",
      "model_name": "CheckboxModel",
      "state": {
       "description": "insomnia",
       "disabled": false,
       "layout": "IPY_MODEL_7b76d518b45448308bd79ae2418f506c",
       "style": "IPY_MODEL_55e9cd24034049a6a9b1683324dff296",
       "value": false
      }
     },
     "28f024907dbd4f7d87aa704c0cfad8d7": {
      "model_module": "@jupyter-widgets/controls",
      "model_module_version": "1.5.0",
      "model_name": "DescriptionStyleModel",
      "state": {
       "description_width": "150px"
      }
     },
     "28f6b604dd9942ce9c7e50c6a45e47d7": {
      "model_module": "@jupyter-widgets/base",
      "model_module_version": "1.2.0",
      "model_name": "LayoutModel",
      "state": {}
     },
     "2921982a903d4c5a9419820cf56a6c7d": {
      "model_module": "@jupyter-widgets/controls",
      "model_module_version": "1.5.0",
      "model_name": "CheckboxModel",
      "state": {
       "description": "anxiety",
       "disabled": false,
       "layout": "IPY_MODEL_92aa750376ee42018c8f9fa2fc0d8475",
       "style": "IPY_MODEL_41b41aa833e44be3ba6d549de3ce9a45",
       "value": false
      }
     },
     "2997344101d341509f645c699184d9e5": {
      "model_module": "@jupyter-widgets/controls",
      "model_module_version": "1.5.0",
      "model_name": "DropdownModel",
      "state": {
       "_options_labels": [
        "denies",
        "endorses"
       ],
       "description": "hospitalization",
       "index": 0,
       "layout": "IPY_MODEL_6ca1abb4c0974a9b85bd5dd3b0292df2",
       "style": "IPY_MODEL_865f0492f9994fd68784b629ffd08b6c"
      }
     },
     "29b3276f299849fe9e6a4eee2891adbc": {
      "model_module": "@jupyter-widgets/output",
      "model_module_version": "1.0.0",
      "model_name": "OutputModel",
      "state": {
       "layout": "IPY_MODEL_0d7e749942dd409b98bede97aa2139d2",
       "outputs": [
        {
         "name": "stdout",
         "output_type": "stream",
         "text": "\nThe patient reported no history of mania.\nThe patient reported no history of psychosis. \nThe patient reported no history of  learning disabilities, OCD or tics. \nThe patient reported no history of an eating disorder. \nThe patient reported no history of compulsive gambling, problematic internet/video game use, compulsive shopping, or sexual addiction. \n\n\n"
        }
       ]
      }
     },
     "29d0dc3284f84c51b72e160947431ba0": {
      "model_module": "@jupyter-widgets/controls",
      "model_module_version": "1.5.0",
      "model_name": "DescriptionStyleModel",
      "state": {
       "description_width": "150px"
      }
     },
     "2a152efcc54f4646a26c16fd9761bab0": {
      "model_module": "@jupyter-widgets/controls",
      "model_module_version": "1.5.0",
      "model_name": "DescriptionStyleModel",
      "state": {
       "description_width": "150px"
      }
     },
     "2a22c4e7a60f4cdfa54f64ec40357a21": {
      "model_module": "@jupyter-widgets/base",
      "model_module_version": "1.2.0",
      "model_name": "LayoutModel",
      "state": {
       "height": "200px"
      }
     },
     "2a33209b65e84f8683c46dacadf8a9a1": {
      "model_module": "@jupyter-widgets/controls",
      "model_module_version": "1.5.0",
      "model_name": "VBoxModel",
      "state": {
       "_dom_classes": [
        "widget-interact"
       ],
       "children": [
        "IPY_MODEL_dbbc0bd05f7e4e409c14c7d4e0a388eb",
        "IPY_MODEL_1339762613d14a19b76461d4ef8d9e5e"
       ],
       "layout": "IPY_MODEL_bc82781d83544d27b5448efe61916bab"
      }
     },
     "2a692321ab1f48c3ae7de3cef491c269": {
      "model_module": "@jupyter-widgets/controls",
      "model_module_version": "1.5.0",
      "model_name": "TextareaModel",
      "state": {
       "description": "pcp plan:",
       "layout": "IPY_MODEL_43a64e3178354a1aabb700481845b0dc",
       "placeholder": "Type something",
       "style": "IPY_MODEL_d0745a4322354061bd90bf0ed5df765f",
       "value": "3. Medical and Lab: Per PCP. Patient encouraged to establish care with local PCP for routine physical and baseline labs."
      }
     },
     "2a94d25428054318a5ca0999da6531d2": {
      "model_module": "@jupyter-widgets/controls",
      "model_module_version": "1.5.0",
      "model_name": "CheckboxModel",
      "state": {
       "description": "LSD",
       "disabled": false,
       "layout": "IPY_MODEL_ac5a71d2fc0b4eaaa7944b79fbce9df5",
       "style": "IPY_MODEL_dd9c558e913145efa0d42c673a807c9f",
       "value": false
      }
     },
     "2abcf76939a34076b2985ab1f4bf49c3": {
      "model_module": "@jupyter-widgets/controls",
      "model_module_version": "1.5.0",
      "model_name": "DropdownModel",
      "state": {
       "_options_labels": [
        "male",
        "female",
        "nb"
       ],
       "description": "gender:",
       "index": 0,
       "layout": "IPY_MODEL_f68de31844cd448faeb5ff315fc83e9f",
       "style": "IPY_MODEL_4cbad5b6586b4ccbbd42ff1c0ab15f13"
      }
     },
     "2b75d9d09562425eaa9d7900319d42b9": {
      "model_module": "@jupyter-widgets/controls",
      "model_module_version": "1.5.0",
      "model_name": "CheckboxModel",
      "state": {
       "description": "opioid",
       "disabled": false,
       "layout": "IPY_MODEL_ac162acf8d054751aba3ddd4622a856a",
       "style": "IPY_MODEL_70b18ea143804428aa97d6a26d028c95",
       "value": false
      }
     },
     "2bc194d999244bd68138908376be8a22": {
      "model_module": "@jupyter-widgets/controls",
      "model_module_version": "1.5.0",
      "model_name": "DescriptionStyleModel",
      "state": {
       "description_width": "150px"
      }
     },
     "2bd31e86f30f43bab549791841e9c265": {
      "model_module": "@jupyter-widgets/controls",
      "model_module_version": "1.5.0",
      "model_name": "DescriptionStyleModel",
      "state": {
       "description_width": ""
      }
     },
     "2bd96cbf6f3c4fd0912d389e9bae6500": {
      "model_module": "@jupyter-widgets/controls",
      "model_module_version": "1.5.0",
      "model_name": "CheckboxModel",
      "state": {
       "description": "ptsd",
       "disabled": false,
       "layout": "IPY_MODEL_04e9472c969640409e19d7e575409ab4",
       "style": "IPY_MODEL_3f524cc0b8d44f519ea81db488cb28b6",
       "value": false
      }
     },
     "2bde354aab0b4e5b851f9de84be6fc5f": {
      "model_module": "@jupyter-widgets/controls",
      "model_module_version": "1.5.0",
      "model_name": "DropdownModel",
      "state": {
       "_options_labels": [
        "denies",
        "endorses"
       ],
       "description": "sustained_sadness",
       "index": 0,
       "layout": "IPY_MODEL_6ca1abb4c0974a9b85bd5dd3b0292df2",
       "style": "IPY_MODEL_b893fc0e5ece4926b0cbd514e7c44119"
      }
     },
     "2c2caebce45c4fdf94cb77931dbb7a4b": {
      "model_module": "@jupyter-widgets/controls",
      "model_module_version": "1.5.0",
      "model_name": "TextareaModel",
      "state": {
       "description": "Treatment Reason",
       "layout": "IPY_MODEL_42f9ab8dcbd947b893f1ada0c235c49a",
       "placeholder": "Type Something",
       "style": "IPY_MODEL_c8ce1f0a4cbf4d41affcf4d5fccfc0f0"
      }
     },
     "2c3397bf0a4d4594b196d49c08207cba": {
      "model_module": "@jupyter-widgets/controls",
      "model_module_version": "1.5.0",
      "model_name": "CheckboxModel",
      "state": {
       "description": "bipolar I disorder",
       "disabled": false,
       "layout": "IPY_MODEL_13c6710050fe47e1837880e836ff9618",
       "style": "IPY_MODEL_499e244b61ba4ebcb08a2d61ec2c009d",
       "value": false
      }
     },
     "2c43fb3bcc8049bd8afa7ee6eb06ee32": {
      "model_module": "@jupyter-widgets/controls",
      "model_module_version": "1.5.0",
      "model_name": "DescriptionStyleModel",
      "state": {
       "description_width": "150px"
      }
     },
     "2c8355b6f09b403d98de2ee2f9325962": {
      "model_module": "@jupyter-widgets/base",
      "model_module_version": "1.2.0",
      "model_name": "LayoutModel",
      "state": {}
     },
     "2ceb7af84c4946c896077c90868a3493": {
      "model_module": "@jupyter-widgets/output",
      "model_module_version": "1.0.0",
      "model_name": "OutputModel",
      "state": {
       "layout": "IPY_MODEL_23573e90e6084b8fa0f9492deaa8ba48",
       "outputs": [
        {
         "name": "stdout",
         "output_type": "stream",
         "text": "\nThis patient denies current depressed mood. \nOver the past several weeks, the patient denies sustained sadness, denies excessive guilt. \nThe patient denies anhedonia.\nThe patient reports fair ability to concentrate. \nThe patient denies issues with sleep. \nThe patient reports fair appetite.\nReports fair energy level. \nThe patient denies hopelessness, worthlessness, SI/HI/AH/VH/delusions.\nThey indicate they have experienced depressive episodes lasting longer than two weeks in the absence of substance use.\nThe patient denies current decreased need for sleep, euphoria \nor grandiosity or irritability, flights of idea, impulsivity, uncharacteristic talkativeness or rapid speech.\n\n\n"
        }
       ]
      }
     },
     "2d18213ce2d74b8cbacd03c6a4c4454f": {
      "model_module": "@jupyter-widgets/base",
      "model_module_version": "1.2.0",
      "model_name": "LayoutModel",
      "state": {}
     },
     "2d1ca3f6ec714bdaa0770877bb27a79b": {
      "model_module": "@jupyter-widgets/base",
      "model_module_version": "1.2.0",
      "model_name": "LayoutModel",
      "state": {}
     },
     "2d2fbbc3ea2c4dfcba9b3fd55c9f7f13": {
      "model_module": "@jupyter-widgets/controls",
      "model_module_version": "1.5.0",
      "model_name": "CheckboxModel",
      "state": {
       "description": "opioid",
       "disabled": false,
       "layout": "IPY_MODEL_e73b4388e08c4cd7a4541ad5d9da579b",
       "style": "IPY_MODEL_0b17e0b7a22f42358baf6190b28f15a9",
       "value": false
      }
     },
     "2d706268bea8447394df191d1f7f13a1": {
      "model_module": "@jupyter-widgets/controls",
      "model_module_version": "1.5.0",
      "model_name": "TextareaModel",
      "state": {
       "description": "negative_impact",
       "layout": "IPY_MODEL_42f9ab8dcbd947b893f1ada0c235c49a",
       "placeholder": "Type Something",
       "style": "IPY_MODEL_6eee785cd9cb4d09bef37f73eb6ccf77"
      }
     },
     "2dbff914ca2e47f48801d6454a1a97bc": {
      "model_module": "@jupyter-widgets/controls",
      "model_module_version": "1.5.0",
      "model_name": "VBoxModel",
      "state": {
       "_dom_classes": [
        "widget-interact"
       ],
       "children": [
        "IPY_MODEL_835d129ed5e545c3b330ad80dfc26a95",
        "IPY_MODEL_21f62d6162464515abc70d1d2f6a4b38",
        "IPY_MODEL_9465a4a62dba4bd4b1965ac08bc0e5a5",
        "IPY_MODEL_0d92b31c7d464f3cb5f8c5d89c52ebbf",
        "IPY_MODEL_a6ebb3a967fb4d02aa226ac9cdc84294",
        "IPY_MODEL_0c2b1df5a3ae43a4907343367fc7b2a4"
       ],
       "layout": "IPY_MODEL_145355c9914e4c07936043c5ba18a574"
      }
     },
     "2e09a68b963b415c9c6101e4afda2924": {
      "model_module": "@jupyter-widgets/controls",
      "model_module_version": "1.5.0",
      "model_name": "VBoxModel",
      "state": {
       "_dom_classes": [
        "widget-interact"
       ],
       "children": [
        "IPY_MODEL_8c4f69dac846475a9ed58a03e14e1db6",
        "IPY_MODEL_6212bcb41e824a5084ee2336e11c89b7",
        "IPY_MODEL_a624aee6697148adb62da432c6c74dad",
        "IPY_MODEL_4933ca30b6c541c589f6778fde82bfbf",
        "IPY_MODEL_db78a5ec3ec1446facbcec720e3feb84",
        "IPY_MODEL_954cb65fdaf347ec93d2e92cad663e4c",
        "IPY_MODEL_daed87c171464f66809cba7b101506f5"
       ],
       "layout": "IPY_MODEL_203f1333122a4ce486405c77fe688d5f"
      }
     },
     "2e241c1b26d04c738bddaa705ac73c47": {
      "model_module": "@jupyter-widgets/controls",
      "model_module_version": "1.5.0",
      "model_name": "DropdownModel",
      "state": {
       "_options_labels": [
        "denies",
        "endorses"
       ],
       "description": "Withdrawals",
       "index": 0,
       "layout": "IPY_MODEL_42f9ab8dcbd947b893f1ada0c235c49a",
       "style": "IPY_MODEL_357d136a44114855b5d7264d1fd678fc"
      }
     },
     "2e290dd7072e4c6f9d0a9d24fa958812": {
      "model_module": "@jupyter-widgets/controls",
      "model_module_version": "1.5.0",
      "model_name": "VBoxModel",
      "state": {
       "children": [
        "IPY_MODEL_e646518155cc432ea1ebe8fc17ee6b22",
        "IPY_MODEL_9292ce012b1d4765b194fbd03b25c243",
        "IPY_MODEL_f1307b2d2ed148b18bc97a66d2523543",
        "IPY_MODEL_5d11a11a25af4a8792de31a0d2a1af11"
       ],
       "layout": "IPY_MODEL_3bb93b89b97b44b3855c9ab329318d62"
      }
     },
     "2e4b40c530604e3490642cc244c7f0b7": {
      "model_module": "@jupyter-widgets/controls",
      "model_module_version": "1.5.0",
      "model_name": "DescriptionStyleModel",
      "state": {
       "description_width": "150px"
      }
     },
     "2ea3d1dad8d74a1bb978893b0636418d": {
      "model_module": "@jupyter-widgets/controls",
      "model_module_version": "1.5.0",
      "model_name": "DescriptionStyleModel",
      "state": {
       "description_width": ""
      }
     },
     "2ea9bf1eb784458a9c1c5c5a51e2fa19": {
      "model_module": "@jupyter-widgets/controls",
      "model_module_version": "1.5.0",
      "model_name": "DescriptionStyleModel",
      "state": {
       "description_width": "150px"
      }
     },
     "2ed2b3a6e8c342c9bb99b3da185e2276": {
      "model_module": "@jupyter-widgets/base",
      "model_module_version": "1.2.0",
      "model_name": "LayoutModel",
      "state": {
       "height": "200px"
      }
     },
     "2f13270087ba4ceab25e789eaef15c6f": {
      "model_module": "@jupyter-widgets/base",
      "model_module_version": "1.2.0",
      "model_name": "LayoutModel",
      "state": {}
     },
     "2fb6543378dc46298206eb1137e4af40": {
      "model_module": "@jupyter-widgets/controls",
      "model_module_version": "1.5.0",
      "model_name": "DropdownModel",
      "state": {
       "_options_labels": [
        "a history",
        "no history"
       ],
       "description": "Learning Disabilities",
       "index": 1,
       "layout": "IPY_MODEL_42f9ab8dcbd947b893f1ada0c235c49a",
       "style": "IPY_MODEL_ea3d497a13914264a007fbf41aa4339e"
      }
     },
     "2fd10ce8507f4ceca346d80cfaf615ae": {
      "model_module": "@jupyter-widgets/output",
      "model_module_version": "1.0.0",
      "model_name": "OutputModel",
      "state": {
       "layout": "IPY_MODEL_e5383ae993d64c93920a7e799dd983c9",
       "outputs": [
        {
         "name": "stdout",
         "output_type": "stream",
         "text": "\nSocial History:\nThe patient states that they are single, and have 0 children. \nThey report that they are currently living . \nThe patient denies any history of legal problems.  \nThe patient denies a history of abuse.\n\n\n"
        }
       ]
      }
     },
     "2ffe7c2370f34da990f49000d4be16e4": {
      "model_module": "@jupyter-widgets/controls",
      "model_module_version": "1.5.0",
      "model_name": "BoundedIntTextModel",
      "state": {
       "description": "Age:",
       "layout": "IPY_MODEL_bc569026c7cd4843a9125fa491dc0b54",
       "max": 200,
       "style": "IPY_MODEL_bfed78415fdf4b4cb3d6dbeef5363463",
       "value": 33
      }
     },
     "300b040509ac4d3c92913d8e44ea3a06": {
      "model_module": "@jupyter-widgets/controls",
      "model_module_version": "1.5.0",
      "model_name": "DropdownModel",
      "state": {
       "_options_labels": [
        "denies",
        "endorses"
       ],
       "description": "tbi_medical",
       "index": 0,
       "layout": "IPY_MODEL_6ca1abb4c0974a9b85bd5dd3b0292df2",
       "style": "IPY_MODEL_5dbd6e9030064fafb4118aad8638ea0c"
      }
     },
     "303b6c16667c4d338b9c01e08cddad68": {
      "model_module": "@jupyter-widgets/controls",
      "model_module_version": "1.5.0",
      "model_name": "DescriptionStyleModel",
      "state": {
       "description_width": "150px"
      }
     },
     "30484244b9864d6eb276f5458a34909a": {
      "model_module": "@jupyter-widgets/controls",
      "model_module_version": "1.5.0",
      "model_name": "DescriptionStyleModel",
      "state": {
       "description_width": ""
      }
     },
     "309dc19a0110474eaa94a41524f5b7af": {
      "model_module": "@jupyter-widgets/controls",
      "model_module_version": "1.5.0",
      "model_name": "DescriptionStyleModel",
      "state": {
       "description_width": "150px"
      }
     },
     "30e5315303604026b6e2767131e6f2c8": {
      "model_module": "@jupyter-widgets/controls",
      "model_module_version": "1.5.0",
      "model_name": "DescriptionStyleModel",
      "state": {
       "description_width": "150px"
      }
     },
     "30fe27d23be54879b2b9ccce1e86f44e": {
      "model_module": "@jupyter-widgets/output",
      "model_module_version": "1.0.0",
      "model_name": "OutputModel",
      "state": {
       "layout": "IPY_MODEL_5f9b58e6b91c4574997bb3e04a5d50ec",
       "outputs": [
        {
         "name": "stdout",
         "output_type": "stream",
         "text": "\nAllergies:\nNKDA\n\n"
        }
       ]
      }
     },
     "31094192c1eb4baaa6cdb074b784882f": {
      "model_module": "@jupyter-widgets/base",
      "model_module_version": "1.2.0",
      "model_name": "LayoutModel",
      "state": {}
     },
     "310af9c8c6a64bc7a5e8196ab27b7bb9": {
      "model_module": "@jupyter-widgets/controls",
      "model_module_version": "1.5.0",
      "model_name": "DropdownModel",
      "state": {
       "_options_labels": [
        "denies",
        "endorses"
       ],
       "description": "hep_medical",
       "index": 0,
       "layout": "IPY_MODEL_6ca1abb4c0974a9b85bd5dd3b0292df2",
       "style": "IPY_MODEL_2c43fb3bcc8049bd8afa7ee6eb06ee32"
      }
     },
     "31112621d005486c979dbca4101e7bc2": {
      "model_module": "@jupyter-widgets/controls",
      "model_module_version": "1.5.0",
      "model_name": "CheckboxModel",
      "state": {
       "description": "Bipolar II disorder",
       "disabled": false,
       "layout": "IPY_MODEL_906046ff1c094f07b334ae2f061a7993",
       "style": "IPY_MODEL_ba47f78f11f845d1b54d83fad549c7ba",
       "value": false
      }
     },
     "3164eb6553db43b4a17144fffdf09433": {
      "model_module": "@jupyter-widgets/base",
      "model_module_version": "1.2.0",
      "model_name": "LayoutModel",
      "state": {}
     },
     "31be634a51e8406b964c051ee381b9c4": {
      "model_module": "@jupyter-widgets/controls",
      "model_module_version": "1.5.0",
      "model_name": "VBoxModel",
      "state": {
       "_dom_classes": [
        "widget-interact"
       ],
       "children": [
        "IPY_MODEL_027f2a5a747e4938860a79363c408a7b",
        "IPY_MODEL_88f6cefa612948eeb0224d923479ed1a",
        "IPY_MODEL_023b0d6f13e446ebb1f31281c1257652",
        "IPY_MODEL_d6d2a811a947459fa4843952182f6fba",
        "IPY_MODEL_cee0dbd804264d5abc3eaaad2ed1b0db",
        "IPY_MODEL_13b09d05c7934a779b4a1c4ba118641e",
        "IPY_MODEL_524803c20c50426ebc3af802115ae4b3",
        "IPY_MODEL_fe7d734bf7d742758dcee9ad26ad62d9",
        "IPY_MODEL_37045a1833834e3cbca028ad0955668b",
        "IPY_MODEL_a7eb8595ff5d40f0a1e7132f9d600121",
        "IPY_MODEL_1e0a2cacac7b44bbae56defc3db2487a",
        "IPY_MODEL_09e4b031574e490db5525ca663d15732",
        "IPY_MODEL_1a4c9d2935414c7585e3c12c5215b983"
       ],
       "layout": "IPY_MODEL_4327fdf471de4dc8965888ee13b90981"
      }
     },
     "32084074d8e84edd99fe484de6862a12": {
      "model_module": "@jupyter-widgets/controls",
      "model_module_version": "1.5.0",
      "model_name": "DescriptionStyleModel",
      "state": {
       "description_width": ""
      }
     },
     "32631bf505584c61a7b131d9d1e8b783": {
      "model_module": "@jupyter-widgets/controls",
      "model_module_version": "1.5.0",
      "model_name": "DescriptionStyleModel",
      "state": {
       "description_width": ""
      }
     },
     "32be5a0941974d139cc767e1dd4aac30": {
      "model_module": "@jupyter-widgets/controls",
      "model_module_version": "1.5.0",
      "model_name": "DropdownModel",
      "state": {
       "_options_labels": [
        "declines",
        "is amenable with"
       ],
       "description": "med_adjust",
       "index": 0,
       "layout": "IPY_MODEL_42f9ab8dcbd947b893f1ada0c235c49a",
       "style": "IPY_MODEL_f28ae02977f442819f03dc0ffffdff48"
      }
     },
     "331840d204c94221b3cf63fcba9b637f": {
      "model_module": "@jupyter-widgets/controls",
      "model_module_version": "1.5.0",
      "model_name": "DescriptionStyleModel",
      "state": {
       "description_width": ""
      }
     },
     "33391e3fc0f840b8ae404781e30f4e82": {
      "model_module": "@jupyter-widgets/controls",
      "model_module_version": "1.5.0",
      "model_name": "DescriptionStyleModel",
      "state": {
       "description_width": ""
      }
     },
     "3360a46e33d745dcae9c02b0407c9b83": {
      "model_module": "@jupyter-widgets/controls",
      "model_module_version": "1.5.0",
      "model_name": "CheckboxModel",
      "state": {
       "description": "polysubstance",
       "disabled": false,
       "layout": "IPY_MODEL_ade172e8e61d45d9ad1fe97cc4cd9ff1",
       "style": "IPY_MODEL_aad2ec1abfb244b9acf157bd315fdd35",
       "value": false
      }
     },
     "3367943482894df1a10c8d3fef9f71d0": {
      "model_module": "@jupyter-widgets/base",
      "model_module_version": "1.2.0",
      "model_name": "LayoutModel",
      "state": {}
     },
     "33763fff9c6544998458b186f739c6a4": {
      "model_module": "@jupyter-widgets/controls",
      "model_module_version": "1.5.0",
      "model_name": "CheckboxModel",
      "state": {
       "description": "no mental illness",
       "disabled": false,
       "layout": "IPY_MODEL_cf347f9fb48c4ea38868f7e7e00714ce",
       "style": "IPY_MODEL_cdc14f69d56b4b7fb6115daed58f13ea",
       "value": false
      }
     },
     "33a674c6601a4b5dad9c82cb562957c7": {
      "model_module": "@jupyter-widgets/controls",
      "model_module_version": "1.5.0",
      "model_name": "DropdownModel",
      "state": {
       "_options_labels": [
        "denies",
        "endorses"
       ],
       "description": "seizures",
       "index": 0,
       "layout": "IPY_MODEL_42f9ab8dcbd947b893f1ada0c235c49a",
       "style": "IPY_MODEL_881cdcfd501046d2845ed74f48e05530"
      }
     },
     "33b766c829164907a14df8eefbcd3ff2": {
      "model_module": "@jupyter-widgets/controls",
      "model_module_version": "1.5.0",
      "model_name": "TextareaModel",
      "state": {
       "description": "notes",
       "layout": "IPY_MODEL_42f9ab8dcbd947b893f1ada0c235c49a",
       "style": "IPY_MODEL_b43d3ea89aeb44c085bb08f8a46bd2b7"
      }
     },
     "33c1742b363041ab818b7b1af7bec94e": {
      "model_module": "@jupyter-widgets/controls",
      "model_module_version": "1.5.0",
      "model_name": "DropdownModel",
      "state": {
       "_options_labels": [
        "denies",
        "endorses"
       ],
       "description": "mania",
       "index": 0,
       "layout": "IPY_MODEL_42f9ab8dcbd947b893f1ada0c235c49a",
       "style": "IPY_MODEL_f97c3b5b1fa948e19129d06beda687b8"
      }
     },
     "3425784f222f4adeb5401c7c531dd62f": {
      "model_module": "@jupyter-widgets/controls",
      "model_module_version": "1.5.0",
      "model_name": "DescriptionStyleModel",
      "state": {
       "description_width": "150px"
      }
     },
     "343e7938085d4d52a0d44552c0e8b123": {
      "model_module": "@jupyter-widgets/controls",
      "model_module_version": "1.5.0",
      "model_name": "DescriptionStyleModel",
      "state": {
       "description_width": ""
      }
     },
     "344362a652cf4d58b4faf9361abf9555": {
      "model_module": "@jupyter-widgets/controls",
      "model_module_version": "1.5.0",
      "model_name": "TextareaModel",
      "state": {
       "description": "notes",
       "layout": "IPY_MODEL_42f9ab8dcbd947b893f1ada0c235c49a",
       "style": "IPY_MODEL_d3158215d3fa4f01bf9b54ebdaa96368"
      }
     },
     "3452f9b4dd6a4cd7997c8e7e7a6466ed": {
      "model_module": "@jupyter-widgets/base",
      "model_module_version": "1.2.0",
      "model_name": "LayoutModel",
      "state": {}
     },
     "3468003e2e2a46f1bbb62cf5f997314d": {
      "model_module": "@jupyter-widgets/controls",
      "model_module_version": "1.5.0",
      "model_name": "DescriptionStyleModel",
      "state": {
       "description_width": ""
      }
     },
     "34a1786614d841b89d6008f075784352": {
      "model_module": "@jupyter-widgets/base",
      "model_module_version": "1.2.0",
      "model_name": "LayoutModel",
      "state": {}
     },
     "34d0a8dd60094e0a99f983b41deeb20b": {
      "model_module": "@jupyter-widgets/base",
      "model_module_version": "1.2.0",
      "model_name": "LayoutModel",
      "state": {}
     },
     "351292f785ef4077948cfeb0d3395935": {
      "model_module": "@jupyter-widgets/controls",
      "model_module_version": "1.5.0",
      "model_name": "DescriptionStyleModel",
      "state": {
       "description_width": "150px"
      }
     },
     "355449fb4e774ab0a9d3432525102b05": {
      "model_module": "@jupyter-widgets/controls",
      "model_module_version": "1.5.0",
      "model_name": "VBoxModel",
      "state": {
       "_dom_classes": [
        "widget-interact"
       ],
       "children": [
        "IPY_MODEL_f4f4c665aa994114b41d03eb543a1cc9",
        "IPY_MODEL_97e9fb636ea3415db0b1a58122370e21",
        "IPY_MODEL_93e5194cb2774901a063fab50425042c",
        "IPY_MODEL_ff9b3d28dadf4169809b2526e0acb2b0",
        "IPY_MODEL_8a28fc0e971640b5b7e4a0e1265c5d3a",
        "IPY_MODEL_83e9b027a0c0460abab67ea7c020500b",
        "IPY_MODEL_7f534e385b4a4409a0247b64e5d6739d"
       ],
       "layout": "IPY_MODEL_90667fb3fdb040d9932b42b9c66f8f34"
      }
     },
     "357d136a44114855b5d7264d1fd678fc": {
      "model_module": "@jupyter-widgets/controls",
      "model_module_version": "1.5.0",
      "model_name": "DescriptionStyleModel",
      "state": {
       "description_width": "150px"
      }
     },
     "358b54f98b35430893b7cfe3124ab8e4": {
      "model_module": "@jupyter-widgets/controls",
      "model_module_version": "1.5.0",
      "model_name": "TextareaModel",
      "state": {
       "description": "notes",
       "layout": "IPY_MODEL_6ca1abb4c0974a9b85bd5dd3b0292df2",
       "style": "IPY_MODEL_95a2efbd655842b99ca5dcf8dfff7125"
      }
     },
     "35a2e8c78b994a559bb628e1d9f87c06": {
      "model_module": "@jupyter-widgets/base",
      "model_module_version": "1.2.0",
      "model_name": "LayoutModel",
      "state": {}
     },
     "35ad2e44671247ff99b6fd4845278fd8": {
      "model_module": "@jupyter-widgets/controls",
      "model_module_version": "1.5.0",
      "model_name": "DescriptionStyleModel",
      "state": {
       "description_width": ""
      }
     },
     "3619dc5ce3c047a39cc345dedde82fc8": {
      "model_module": "@jupyter-widgets/controls",
      "model_module_version": "1.5.0",
      "model_name": "DescriptionStyleModel",
      "state": {
       "description_width": ""
      }
     },
     "3642f861f74b49b1b64a10ba26ee82d3": {
      "model_module": "@jupyter-widgets/controls",
      "model_module_version": "1.5.0",
      "model_name": "DescriptionStyleModel",
      "state": {
       "description_width": "150px"
      }
     },
     "365e674cee834830a59831c728e5cf79": {
      "model_module": "@jupyter-widgets/controls",
      "model_module_version": "1.5.0",
      "model_name": "DescriptionStyleModel",
      "state": {
       "description_width": "150px"
      }
     },
     "36ad2f20a16d4267a502e1627b1a3a4f": {
      "model_module": "@jupyter-widgets/base",
      "model_module_version": "1.2.0",
      "model_name": "LayoutModel",
      "state": {}
     },
     "36b8cebcdc964638bb42b6ddb5156e12": {
      "model_module": "@jupyter-widgets/base",
      "model_module_version": "1.2.0",
      "model_name": "LayoutModel",
      "state": {}
     },
     "3702706f98594cfeadec2499a0837024": {
      "model_module": "@jupyter-widgets/base",
      "model_module_version": "1.2.0",
      "model_name": "LayoutModel",
      "state": {}
     },
     "37045a1833834e3cbca028ad0955668b": {
      "model_module": "@jupyter-widgets/controls",
      "model_module_version": "1.5.0",
      "model_name": "DropdownModel",
      "state": {
       "_options_labels": [
        "denies",
        "endorses"
       ],
       "description": "hopelessness",
       "index": 0,
       "layout": "IPY_MODEL_42f9ab8dcbd947b893f1ada0c235c49a",
       "style": "IPY_MODEL_3a5bf9b1a6314583ab3ee24a8432c9f5"
      }
     },
     "371c9121c69e4b4b80646b779d1608d3": {
      "model_module": "@jupyter-widgets/base",
      "model_module_version": "1.2.0",
      "model_name": "LayoutModel",
      "state": {}
     },
     "371d845792e84074b69f4e10b46b2e51": {
      "model_module": "@jupyter-widgets/controls",
      "model_module_version": "1.5.0",
      "model_name": "DescriptionStyleModel",
      "state": {
       "description_width": ""
      }
     },
     "373df1206fe34f5fabca3c1a27466585": {
      "model_module": "@jupyter-widgets/controls",
      "model_module_version": "1.5.0",
      "model_name": "DescriptionStyleModel",
      "state": {
       "description_width": "150px"
      }
     },
     "3741c9f62b544fd5bb0ada5d42281f92": {
      "model_module": "@jupyter-widgets/controls",
      "model_module_version": "1.5.0",
      "model_name": "TextareaModel",
      "state": {
       "description": "med plan:",
       "layout": "IPY_MODEL_aa3c0fc6dd5e45f0a5817574d6c1d3ca",
       "placeholder": "Type something",
       "style": "IPY_MODEL_240d7c00076a4c21af673a65db617cb4",
       "value": "4. Continue medication."
      }
     },
     "377385d7864a4d089e7077c936c4a1b5": {
      "model_module": "@jupyter-widgets/controls",
      "model_module_version": "1.5.0",
      "model_name": "DescriptionStyleModel",
      "state": {
       "description_width": "150px"
      }
     },
     "3791b6827de04da29be39264cc078f13": {
      "model_module": "@jupyter-widgets/controls",
      "model_module_version": "1.5.0",
      "model_name": "CheckboxModel",
      "state": {
       "description": "depression",
       "disabled": false,
       "layout": "IPY_MODEL_1a812601d0a24144832cd12e9a8b41f4",
       "style": "IPY_MODEL_7be105d767af4af7936cca69ab4e1731",
       "value": false
      }
     },
     "3794eb4ef17d47dbbbea383ff755dd1c": {
      "model_module": "@jupyter-widgets/base",
      "model_module_version": "1.2.0",
      "model_name": "LayoutModel",
      "state": {}
     },
     "37b004014a944774ab8cf4c672e7ae16": {
      "model_module": "@jupyter-widgets/controls",
      "model_module_version": "1.5.0",
      "model_name": "DescriptionStyleModel",
      "state": {
       "description_width": ""
      }
     },
     "37d4ae6d829049958bc65d1ff831e6d0": {
      "model_module": "@jupyter-widgets/controls",
      "model_module_version": "1.5.0",
      "model_name": "DropdownModel",
      "state": {
       "_options_labels": [
        "male",
        "female",
        "nb"
       ],
       "description": "gender:",
       "index": 0,
       "layout": "IPY_MODEL_fe23297322744356b81351acbbe47ddf",
       "style": "IPY_MODEL_3468003e2e2a46f1bbb62cf5f997314d"
      }
     },
     "384d151c539042d8b923e7a2882f0291": {
      "model_module": "@jupyter-widgets/controls",
      "model_module_version": "1.5.0",
      "model_name": "DropdownModel",
      "state": {
       "_options_labels": [
        "denies",
        "endorses"
       ],
       "description": "cravings_choice",
       "index": 0,
       "layout": "IPY_MODEL_6ca1abb4c0974a9b85bd5dd3b0292df2",
       "style": "IPY_MODEL_e3a9d4a42b4748748fd150ccb111bea9"
      }
     },
     "388c925711b74c86bea62c3c6586116c": {
      "model_module": "@jupyter-widgets/base",
      "model_module_version": "1.2.0",
      "model_name": "LayoutModel",
      "state": {}
     },
     "38bdcc579ab2441fad5af5eceb9de672": {
      "model_module": "@jupyter-widgets/controls",
      "model_module_version": "1.5.0",
      "model_name": "VBoxModel",
      "state": {
       "_dom_classes": [
        "widget-interact"
       ],
       "children": [
        "IPY_MODEL_0d45a872e56a4b3eb7d72f07cb8c24ba",
        "IPY_MODEL_91d5d650e48e4b30bc20533d6c18a883",
        "IPY_MODEL_4918ea276c1c46b6ab71a9ad0982b438",
        "IPY_MODEL_ddffd83502194ddc8a6bc3e88f5d4f08",
        "IPY_MODEL_1afddf70bbc64f52954cf45fdeeed6a9",
        "IPY_MODEL_b60c2ccfdd164fd7b39007f9e82f8445",
        "IPY_MODEL_fb285e4abee74fcab018856f6325ff65",
        "IPY_MODEL_72f190f44449488e92faf1a09c39db38",
        "IPY_MODEL_1e484304904546ce953ab7002d09f714"
       ],
       "layout": "IPY_MODEL_42e69fa45ffa41b5b2bdeef9b1d4a339"
      }
     },
     "38be4d73dd3f49098fbadc1a8710dc8b": {
      "model_module": "@jupyter-widgets/controls",
      "model_module_version": "1.5.0",
      "model_name": "CheckboxModel",
      "state": {
       "description": "Opioid use disorder Severe",
       "disabled": false,
       "layout": "IPY_MODEL_b81ac85c42f546949e2c4037f9a34cef",
       "style": "IPY_MODEL_37b004014a944774ab8cf4c672e7ae16",
       "value": false
      }
     },
     "3918adcc1d7c41b19144a827336d8ee2": {
      "model_module": "@jupyter-widgets/controls",
      "model_module_version": "1.5.0",
      "model_name": "DescriptionStyleModel",
      "state": {
       "description_width": ""
      }
     },
     "397ff7cb92c04016853d4fa54fb9bc2e": {
      "model_module": "@jupyter-widgets/controls",
      "model_module_version": "1.5.0",
      "model_name": "DescriptionStyleModel",
      "state": {
       "description_width": ""
      }
     },
     "3999a989c395413f9cec5234339c20f8": {
      "model_module": "@jupyter-widgets/controls",
      "model_module_version": "1.5.0",
      "model_name": "DescriptionStyleModel",
      "state": {
       "description_width": "150px"
      }
     },
     "39a26cc7cd8248a8ae129f90119be915": {
      "model_module": "@jupyter-widgets/controls",
      "model_module_version": "1.5.0",
      "model_name": "DescriptionStyleModel",
      "state": {
       "description_width": ""
      }
     },
     "39e2f87be8a84f49812c845fb7a683a7": {
      "model_module": "@jupyter-widgets/base",
      "model_module_version": "1.2.0",
      "model_name": "LayoutModel",
      "state": {}
     },
     "39e8793c3f7f463ba4a5685fb8087187": {
      "model_module": "@jupyter-widgets/controls",
      "model_module_version": "1.5.0",
      "model_name": "DescriptionStyleModel",
      "state": {
       "description_width": ""
      }
     },
     "3a3107517c9643028da5e6c3497b2ff5": {
      "model_module": "@jupyter-widgets/controls",
      "model_module_version": "1.5.0",
      "model_name": "TextModel",
      "state": {
       "description": "notes",
       "layout": "IPY_MODEL_42f9ab8dcbd947b893f1ada0c235c49a",
       "style": "IPY_MODEL_84d6bd3461504a659433113dbd7ee360"
      }
     },
     "3a5bf9b1a6314583ab3ee24a8432c9f5": {
      "model_module": "@jupyter-widgets/controls",
      "model_module_version": "1.5.0",
      "model_name": "DescriptionStyleModel",
      "state": {
       "description_width": "150px"
      }
     },
     "3a63cd62cf81400188f7cf414b3df314": {
      "model_module": "@jupyter-widgets/controls",
      "model_module_version": "1.5.0",
      "model_name": "DescriptionStyleModel",
      "state": {
       "description_width": "150px"
      }
     },
     "3a75d1d208bf4bd29b33b0afd6b71d71": {
      "model_module": "@jupyter-widgets/base",
      "model_module_version": "1.2.0",
      "model_name": "LayoutModel",
      "state": {}
     },
     "3a84c9d2ae4e487c932ed33909e4570c": {
      "model_module": "@jupyter-widgets/controls",
      "model_module_version": "1.5.0",
      "model_name": "DescriptionStyleModel",
      "state": {
       "description_width": ""
      }
     },
     "3abae2e3dd154b25bb87a37f176dabbc": {
      "model_module": "@jupyter-widgets/controls",
      "model_module_version": "1.5.0",
      "model_name": "CheckboxModel",
      "state": {
       "description": "polysubstance",
       "disabled": false,
       "layout": "IPY_MODEL_db37dc12ac584bf298dd7aa7a558ee19",
       "style": "IPY_MODEL_12898b0933d34dd69ef008a04ce9c3b6",
       "value": false
      }
     },
     "3b00bc2ca6114b7d90b594b704cab5a6": {
      "model_module": "@jupyter-widgets/controls",
      "model_module_version": "1.5.0",
      "model_name": "VBoxModel",
      "state": {
       "children": [
        "IPY_MODEL_fbc1b1c0ba9449f9ac46749d31c57b8d",
        "IPY_MODEL_4d81d9dc2ef244c7b089c9f051deec20"
       ],
       "layout": "IPY_MODEL_5b4426b0d17e43148b376bbe27d98196"
      }
     },
     "3b10a0ffb730451dbc6349c5721ef790": {
      "model_module": "@jupyter-widgets/controls",
      "model_module_version": "1.5.0",
      "model_name": "DescriptionStyleModel",
      "state": {
       "description_width": ""
      }
     },
     "3b2d5b968e4f4878a91f262c841c0813": {
      "model_module": "@jupyter-widgets/controls",
      "model_module_version": "1.5.0",
      "model_name": "DescriptionStyleModel",
      "state": {
       "description_width": "150px"
      }
     },
     "3b5809d9225f4067831c4ef310342a96": {
      "model_module": "@jupyter-widgets/base",
      "model_module_version": "1.2.0",
      "model_name": "LayoutModel",
      "state": {}
     },
     "3ba65c108425442e833b6d831c5f7d6b": {
      "model_module": "@jupyter-widgets/controls",
      "model_module_version": "1.5.0",
      "model_name": "DescriptionStyleModel",
      "state": {
       "description_width": "150px"
      }
     },
     "3bad5ea976dc47a4a2b49a535d2f8a2f": {
      "model_module": "@jupyter-widgets/controls",
      "model_module_version": "1.5.0",
      "model_name": "DescriptionStyleModel",
      "state": {
       "description_width": ""
      }
     },
     "3bb93b89b97b44b3855c9ab329318d62": {
      "model_module": "@jupyter-widgets/base",
      "model_module_version": "1.2.0",
      "model_name": "LayoutModel",
      "state": {}
     },
     "3bc0ab40afa74975991bc16345aa022b": {
      "model_module": "@jupyter-widgets/controls",
      "model_module_version": "1.5.0",
      "model_name": "HBoxModel",
      "state": {
       "children": [
        "IPY_MODEL_53684c391f004bcb9bca0e99044c6e7e",
        "IPY_MODEL_d998a122403241a5862a423ba58e9f35",
        "IPY_MODEL_90aadc8b4e984f3187a05045b3bd02e8"
       ],
       "layout": "IPY_MODEL_1cf2cc6aade244118831c78bbd7a7d8e"
      }
     },
     "3bcf3d121f87402388498cd164d4f428": {
      "model_module": "@jupyter-widgets/controls",
      "model_module_version": "1.5.0",
      "model_name": "DropdownModel",
      "state": {
       "_options_labels": [
        "a history",
        "no history"
       ],
       "description": "psychosis",
       "index": 1,
       "layout": "IPY_MODEL_42f9ab8dcbd947b893f1ada0c235c49a",
       "style": "IPY_MODEL_7730cf903d0d48b5ad9ab08246f96064"
      }
     },
     "3c76be7b0cc04fffbc396f62f72ca14c": {
      "model_module": "@jupyter-widgets/controls",
      "model_module_version": "1.5.0",
      "model_name": "DropdownModel",
      "state": {
       "_options_labels": [
        "denies",
        "endorses"
       ],
       "description": "past_trauma",
       "index": 0,
       "layout": "IPY_MODEL_6ca1abb4c0974a9b85bd5dd3b0292df2",
       "style": "IPY_MODEL_dcd0d164c5244ba988cfe530f907fe1a"
      }
     },
     "3c9d4d589e544db08c0cbbbcc7568ab9": {
      "model_module": "@jupyter-widgets/output",
      "model_module_version": "1.0.0",
      "model_name": "OutputModel",
      "state": {
       "layout": "IPY_MODEL_b155b30b37dd48d3ab4c586c16ca9c09",
       "outputs": [
        {
         "name": "stdout",
         "output_type": "stream",
         "text": "\nHistory of Present Illness:\nThe patient states that they decided to come to treatment because . \nPatient reports they have been sober for 4 days.\nThe patient denies withdrawals. The patient denies cravings.\nThe patient declines anti-craving medication.\nThe patient reports their substance use impacted their life negatively  \n \n    \n"
        }
       ]
      }
     },
     "3cc54dce08bb4caa9160372fd30997b9": {
      "model_module": "@jupyter-widgets/base",
      "model_module_version": "1.2.0",
      "model_name": "LayoutModel",
      "state": {}
     },
     "3d38b10321d64a6cac24c080ee3a140e": {
      "model_module": "@jupyter-widgets/controls",
      "model_module_version": "1.5.0",
      "model_name": "DescriptionStyleModel",
      "state": {
       "description_width": "150px"
      }
     },
     "3d6b4b36d5304a6ebd851363c8692cfc": {
      "model_module": "@jupyter-widgets/controls",
      "model_module_version": "1.5.0",
      "model_name": "DescriptionStyleModel",
      "state": {
       "description_width": ""
      }
     },
     "3d97fad050d841a3a67a1b8f056855fd": {
      "model_module": "@jupyter-widgets/controls",
      "model_module_version": "1.5.0",
      "model_name": "TextModel",
      "state": {
       "description": "outpatient_psychiatrist",
       "layout": "IPY_MODEL_42f9ab8dcbd947b893f1ada0c235c49a",
       "style": "IPY_MODEL_a6cd6b7d34ea4ab0b11154e5594a256a",
       "value": "None"
      }
     },
     "3d9e3593442a49e68654fdfe45cc9e61": {
      "model_module": "@jupyter-widgets/base",
      "model_module_version": "1.2.0",
      "model_name": "LayoutModel",
      "state": {}
     },
     "3da71ac7fe8643d48fee8a652f5dccdd": {
      "model_module": "@jupyter-widgets/controls",
      "model_module_version": "1.5.0",
      "model_name": "VBoxModel",
      "state": {
       "_dom_classes": [
        "widget-interact"
       ],
       "children": [
        "IPY_MODEL_9dc4619c9ade4739b3cb93f9ea73649c",
        "IPY_MODEL_b0b31859f8624202b2348a0dd0714632",
        "IPY_MODEL_45d7ec2b7a4e43e29741ec758284d393",
        "IPY_MODEL_4b333048ddfe401d968667e80b5b1d3c",
        "IPY_MODEL_8481697d357f4cd2af23837d4728e6f0",
        "IPY_MODEL_1eebf0002dfd419b8974722ba09478a9",
        "IPY_MODEL_06f619d9655446468c5d6fd497b40da6",
        "IPY_MODEL_b8ce08106d97411081fbf535f6a80d72"
       ],
       "layout": "IPY_MODEL_b500b88e17a34a9db30814b862c63902"
      }
     },
     "3def6f18bb164ebb8e2d41af94fef717": {
      "model_module": "@jupyter-widgets/controls",
      "model_module_version": "1.5.0",
      "model_name": "DropdownModel",
      "state": {
       "_options_labels": [
        "male",
        "female",
        "nb"
       ],
       "description": "Gender:",
       "index": 0,
       "layout": "IPY_MODEL_f66e8240cafb407d89ede96dc55c4177",
       "style": "IPY_MODEL_39e8793c3f7f463ba4a5685fb8087187"
      }
     },
     "3e825ed1512745f8a2fa5a64d03633f3": {
      "model_module": "@jupyter-widgets/controls",
      "model_module_version": "1.5.0",
      "model_name": "CheckboxModel",
      "state": {
       "description": "no mental illness",
       "disabled": false,
       "layout": "IPY_MODEL_bb55cf7b299c42f69694869f42ab5153",
       "style": "IPY_MODEL_5864056008e5473fb068d7be4a943331",
       "value": false
      }
     },
     "3e9873413e824873bc4aa3a11a599255": {
      "model_module": "@jupyter-widgets/controls",
      "model_module_version": "1.5.0",
      "model_name": "DescriptionStyleModel",
      "state": {
       "description_width": "150px"
      }
     },
     "3f462d4598324abdb5671c039ca31420": {
      "model_module": "@jupyter-widgets/controls",
      "model_module_version": "1.5.0",
      "model_name": "TextareaModel",
      "state": {
       "description": "Notes:",
       "layout": "IPY_MODEL_c676502fe0dc4f9b918563994e426f66",
       "style": "IPY_MODEL_7e9acd3d5c7e42d4b1841280a1422858"
      }
     },
     "3f524cc0b8d44f519ea81db488cb28b6": {
      "model_module": "@jupyter-widgets/controls",
      "model_module_version": "1.5.0",
      "model_name": "DescriptionStyleModel",
      "state": {
       "description_width": ""
      }
     },
     "3fd94cf2225945acb5354e49c1e8e217": {
      "model_module": "@jupyter-widgets/controls",
      "model_module_version": "1.5.0",
      "model_name": "DescriptionStyleModel",
      "state": {
       "description_width": "150px"
      }
     },
     "40040558a8e947778c2dce3687c19e7e": {
      "model_module": "@jupyter-widgets/base",
      "model_module_version": "1.2.0",
      "model_name": "LayoutModel",
      "state": {}
     },
     "405fcdff480446e585c199162509cd86": {
      "model_module": "@jupyter-widgets/base",
      "model_module_version": "1.2.0",
      "model_name": "LayoutModel",
      "state": {}
     },
     "409e29d0735b4f8282241f24eb6c6e6c": {
      "model_module": "@jupyter-widgets/controls",
      "model_module_version": "1.5.0",
      "model_name": "CheckboxModel",
      "state": {
       "description": "bipolar I disorder",
       "disabled": false,
       "layout": "IPY_MODEL_9d90cf3f248d48318bfb8473a5a9faaf",
       "style": "IPY_MODEL_2ea3d1dad8d74a1bb978893b0636418d",
       "value": false
      }
     },
     "40b6a6db5a8b49869f6d4b0238ac24ae": {
      "model_module": "@jupyter-widgets/controls",
      "model_module_version": "1.5.0",
      "model_name": "DescriptionStyleModel",
      "state": {
       "description_width": "150px"
      }
     },
     "4141426eaacd412d83bc71f8812014c7": {
      "model_module": "@jupyter-widgets/controls",
      "model_module_version": "1.5.0",
      "model_name": "CheckboxModel",
      "state": {
       "description": "fentanyl",
       "disabled": false,
       "layout": "IPY_MODEL_c0a659cc0c044544b4ede80c7e48e4b4",
       "style": "IPY_MODEL_7080b8fe632f41eca8f8b190b6d9743d",
       "value": false
      }
     },
     "4170ddd07b294c20adbcd6a47e99c511": {
      "model_module": "@jupyter-widgets/base",
      "model_module_version": "1.2.0",
      "model_name": "LayoutModel",
      "state": {
       "width": "50%"
      }
     },
     "418cbffc4f0048d195dc26d09ca9a28f": {
      "model_module": "@jupyter-widgets/output",
      "model_module_version": "1.0.0",
      "model_name": "OutputModel",
      "state": {
       "layout": "IPY_MODEL_2f13270087ba4ceab25e789eaef15c6f",
       "outputs": [
        {
         "name": "stdout",
         "output_type": "stream",
         "text": "\nCurrent Medication:\n\n \nPatient declines adjustments to their medication regimen.\n\n\n\n"
        }
       ]
      }
     },
     "41b41aa833e44be3ba6d549de3ce9a45": {
      "model_module": "@jupyter-widgets/controls",
      "model_module_version": "1.5.0",
      "model_name": "DescriptionStyleModel",
      "state": {
       "description_width": ""
      }
     },
     "41e0696faf56421bbbaa9d74f16d1129": {
      "model_module": "@jupyter-widgets/base",
      "model_module_version": "1.2.0",
      "model_name": "LayoutModel",
      "state": {}
     },
     "41e7522bdb4043d5bee8c6f3e92deb63": {
      "model_module": "@jupyter-widgets/output",
      "model_module_version": "1.0.0",
      "model_name": "OutputModel",
      "state": {
       "layout": "IPY_MODEL_8145621ecca04de1ac1c1d50c80fa617",
       "outputs": [
        {
         "name": "stdout",
         "output_type": "stream",
         "text": "\nPsychiatric History: \nPatient denies any history of psychiatric hospitalizations. \nPatient denies suicide attempts, \nPatient denies self-injurious behavior. \nPrevious meds: None \nCurrent outpatient psychiatrist: None\n\n\n"
        }
       ]
      }
     },
     "41f4fc8e45c34bb69f4b66771c051b93": {
      "model_module": "@jupyter-widgets/controls",
      "model_module_version": "1.5.0",
      "model_name": "CheckboxModel",
      "state": {
       "description": "sedative, hypnotic, or anxiolytic",
       "disabled": false,
       "layout": "IPY_MODEL_6de71875702d459eb9e4dc1a1b7baa63",
       "style": "IPY_MODEL_6f3c245117304878aae48777c1c18530",
       "value": false
      }
     },
     "422d2cb292c94ee9baa07d5b12d4ca5c": {
      "model_module": "@jupyter-widgets/base",
      "model_module_version": "1.2.0",
      "model_name": "LayoutModel",
      "state": {}
     },
     "42e69fa45ffa41b5b2bdeef9b1d4a339": {
      "model_module": "@jupyter-widgets/base",
      "model_module_version": "1.2.0",
      "model_name": "LayoutModel",
      "state": {}
     },
     "42eb47574851485b9fa4e94d1287dfac": {
      "model_module": "@jupyter-widgets/controls",
      "model_module_version": "1.5.0",
      "model_name": "DescriptionStyleModel",
      "state": {
       "description_width": "150px"
      }
     },
     "42f9ab8dcbd947b893f1ada0c235c49a": {
      "model_module": "@jupyter-widgets/base",
      "model_module_version": "1.2.0",
      "model_name": "LayoutModel",
      "state": {
       "width": "50%"
      }
     },
     "4327fdf471de4dc8965888ee13b90981": {
      "model_module": "@jupyter-widgets/base",
      "model_module_version": "1.2.0",
      "model_name": "LayoutModel",
      "state": {}
     },
     "432db5d5e8a1427291cefbc5ec8783b9": {
      "model_module": "@jupyter-widgets/controls",
      "model_module_version": "1.5.0",
      "model_name": "CheckboxModel",
      "state": {
       "description": "anxiety",
       "disabled": false,
       "layout": "IPY_MODEL_40040558a8e947778c2dce3687c19e7e",
       "style": "IPY_MODEL_98b2fef95345458d9f3bcf2b8793e1b7",
       "value": false
      }
     },
     "4332519624224070bb607b01b52ef8d6": {
      "model_module": "@jupyter-widgets/controls",
      "model_module_version": "1.5.0",
      "model_name": "DropdownModel",
      "state": {
       "_options_labels": [
        "Silicon Beach",
        "Momentum",
        "Create Recovery Center",
        "Casablanca"
       ],
       "description": "Treatment Center:",
       "index": 2,
       "layout": "IPY_MODEL_247810c5bd82463fb58726f6e5980f26",
       "style": "IPY_MODEL_efeb742cdd2c40839d777ae703bedafe"
      }
     },
     "434a32c744fe4ee4914af4d017abb0c9": {
      "model_module": "@jupyter-widgets/controls",
      "model_module_version": "1.5.0",
      "model_name": "TextareaModel",
      "state": {
       "description": "notes",
       "layout": "IPY_MODEL_6ca1abb4c0974a9b85bd5dd3b0292df2",
       "style": "IPY_MODEL_50949bb6a8b8420785b304044ae879d6"
      }
     },
     "43a64e3178354a1aabb700481845b0dc": {
      "model_module": "@jupyter-widgets/base",
      "model_module_version": "1.2.0",
      "model_name": "LayoutModel",
      "state": {
       "height": "100px",
       "width": "500px"
      }
     },
     "447a50422c544a24a231cff36031c707": {
      "model_module": "@jupyter-widgets/base",
      "model_module_version": "1.2.0",
      "model_name": "LayoutModel",
      "state": {}
     },
     "449f88d8dd2048eb9585e00e7b855e26": {
      "model_module": "@jupyter-widgets/controls",
      "model_module_version": "1.5.0",
      "model_name": "DescriptionStyleModel",
      "state": {
       "description_width": ""
      }
     },
     "44a4c7b3bec04746a9ec8d37c675775d": {
      "model_module": "@jupyter-widgets/controls",
      "model_module_version": "1.5.0",
      "model_name": "CheckboxModel",
      "state": {
       "description": "bipolar II disorder",
       "disabled": false,
       "layout": "IPY_MODEL_4e8e8deb644e4829a202761d60f6fd01",
       "style": "IPY_MODEL_486bb13441dd4c99bc7ae116bf233118",
       "value": false
      }
     },
     "44c5eb4ded2c4ab48e5aa418f680bc99": {
      "model_module": "@jupyter-widgets/controls",
      "model_module_version": "1.5.0",
      "model_name": "DescriptionStyleModel",
      "state": {
       "description_width": "150px"
      }
     },
     "44da7cd9218d4866b6c36cff062f4283": {
      "model_module": "@jupyter-widgets/output",
      "model_module_version": "1.0.0",
      "model_name": "OutputModel",
      "state": {
       "layout": "IPY_MODEL_9103648b45ca4ca8bb170c4e56fcd964",
       "outputs": [
        {
         "name": "stdout",
         "output_type": "stream",
         "text": "\nPsychiatric History: \nPatient denies any history of psychiatric hospitalizations. \nPatient denies suicide attempts, \nPatient denies self-injurious behavior. \nPrevious meds: None \nCurrent outpatient psychiatrist: None\n\n\n"
        }
       ]
      }
     },
     "454169182f2c4a2ea2295a43f5bf1c69": {
      "model_module": "@jupyter-widgets/controls",
      "model_module_version": "1.5.0",
      "model_name": "DescriptionStyleModel",
      "state": {
       "description_width": "150px"
      }
     },
     "456c2c8ceb534651b895d0b983e6c2e0": {
      "model_module": "@jupyter-widgets/output",
      "model_module_version": "1.0.0",
      "model_name": "OutputModel",
      "state": {
       "layout": "IPY_MODEL_916ef2cc11b94f92bf62357ad8989dc1",
       "outputs": [
        {
         "name": "stdout",
         "output_type": "stream",
         "text": "\nCurrent Medication:\n\n \nPatient declines adjustments to their medication regimen.\n\n\n\n"
        }
       ]
      }
     },
     "45d7ec2b7a4e43e29741ec758284d393": {
      "model_module": "@jupyter-widgets/controls",
      "model_module_version": "1.5.0",
      "model_name": "BoundedIntTextModel",
      "state": {
       "description": "longest_sober_time",
       "layout": "IPY_MODEL_42f9ab8dcbd947b893f1ada0c235c49a",
       "style": "IPY_MODEL_74fc5f66ce5d43c2ae4b563eda441b3c"
      }
     },
     "4649d938aef94172be6c6926f349fdd0": {
      "model_module": "@jupyter-widgets/controls",
      "model_module_version": "1.5.0",
      "model_name": "DropdownModel",
      "state": {
       "_options_labels": [
        "Silicon Beach",
        "Momentum",
        "Create Recovery Center",
        "Casablanca"
       ],
       "description": "treatment_center:",
       "index": 2,
       "layout": "IPY_MODEL_fe28d58f745a45fa8581c62b7592965f",
       "style": "IPY_MODEL_84d1a55dddea4833885ccd368169c7b4"
      }
     },
     "464d1a874a1248538154d09dcfd9e6cf": {
      "model_module": "@jupyter-widgets/base",
      "model_module_version": "1.2.0",
      "model_name": "LayoutModel",
      "state": {}
     },
     "479892b537024ac0ade879e09d51c19e": {
      "model_module": "@jupyter-widgets/base",
      "model_module_version": "1.2.0",
      "model_name": "LayoutModel",
      "state": {}
     },
     "47c39f5bbe3442e1a8a12e0084cba595": {
      "model_module": "@jupyter-widgets/controls",
      "model_module_version": "1.5.0",
      "model_name": "CheckboxModel",
      "state": {
       "description": "depression",
       "disabled": false,
       "layout": "IPY_MODEL_849548b6521846cda04491a2d875adac",
       "style": "IPY_MODEL_21039848d8164ef994adeb561aab0275",
       "value": false
      }
     },
     "47fc85fbd2de401c8d62d8bdef150c18": {
      "model_module": "@jupyter-widgets/controls",
      "model_module_version": "1.5.0",
      "model_name": "VBoxModel",
      "state": {
       "children": [
        "IPY_MODEL_267ce9d98c2a4ceca920c6457f0d9a58",
        "IPY_MODEL_cc641f1f5669416b885336b9db88b1d6",
        "IPY_MODEL_849032c5df004096abaaaf28c329ef74",
        "IPY_MODEL_0733ab4ce486452baa19d6b30dd6169e",
        "IPY_MODEL_d3acc26298c7456ba4b140610713ac45",
        "IPY_MODEL_684807c1734e42a386127081e7ce69c4",
        "IPY_MODEL_1e3f325a63234ee9865ee8ca832ca0e9",
        "IPY_MODEL_7cb8210c6514418495b1aeb530d30600",
        "IPY_MODEL_e040f323880b4259a6f17b2f49464d87",
        "IPY_MODEL_b292893fc7454cfe8179dd10b7169b82",
        "IPY_MODEL_b13c5b2cb83847aab6ea2bef28118121",
        "IPY_MODEL_a382ee3577c4450ebeca581c06bb307a",
        "IPY_MODEL_2a94d25428054318a5ca0999da6531d2",
        "IPY_MODEL_5c3575c75e0e48658e94fef56c998d8d"
       ],
       "layout": "IPY_MODEL_c4431f6609174bfa85e34bea39a45c6e"
      }
     },
     "481776b32c5c461e8fdd176d1775eb27": {
      "model_module": "@jupyter-widgets/controls",
      "model_module_version": "1.5.0",
      "model_name": "DescriptionStyleModel",
      "state": {
       "description_width": "150px"
      }
     },
     "482ea02e686440569fb4c39f6c837e92": {
      "model_module": "@jupyter-widgets/controls",
      "model_module_version": "1.5.0",
      "model_name": "DescriptionStyleModel",
      "state": {
       "description_width": ""
      }
     },
     "485de74c38294dce9c3900a201d8dd81": {
      "model_module": "@jupyter-widgets/base",
      "model_module_version": "1.2.0",
      "model_name": "LayoutModel",
      "state": {
       "width": "50%"
      }
     },
     "486bb13441dd4c99bc7ae116bf233118": {
      "model_module": "@jupyter-widgets/controls",
      "model_module_version": "1.5.0",
      "model_name": "DescriptionStyleModel",
      "state": {
       "description_width": ""
      }
     },
     "48c6ece62b8946c08ea82eebd3459b87": {
      "model_module": "@jupyter-widgets/controls",
      "model_module_version": "1.5.0",
      "model_name": "DropdownModel",
      "state": {
       "_options_labels": [
        "a history",
        "no history"
       ],
       "description": "eating_disorder",
       "index": 1,
       "layout": "IPY_MODEL_6ca1abb4c0974a9b85bd5dd3b0292df2",
       "style": "IPY_MODEL_dd080e9ffd3348e8963d5ee24da3c0b0"
      }
     },
     "48e2b52fb0d34f9fbe827b23ef484a04": {
      "model_module": "@jupyter-widgets/controls",
      "model_module_version": "1.5.0",
      "model_name": "DescriptionStyleModel",
      "state": {
       "description_width": "150px"
      }
     },
     "48f3e9a2be094b4cb9e1eba72d0e8243": {
      "model_module": "@jupyter-widgets/controls",
      "model_module_version": "1.5.0",
      "model_name": "DropdownModel",
      "state": {
       "_options_labels": [
        "denies",
        "endorses"
       ],
       "description": "withdrawals_choice",
       "index": 0,
       "layout": "IPY_MODEL_42f9ab8dcbd947b893f1ada0c235c49a",
       "style": "IPY_MODEL_a990f2a38aa5437181d8e33eb38faea2"
      }
     },
     "4918ea276c1c46b6ab71a9ad0982b438": {
      "model_module": "@jupyter-widgets/controls",
      "model_module_version": "1.5.0",
      "model_name": "DropdownModel",
      "state": {
       "_options_labels": [
        "denies",
        "endorses"
       ],
       "description": "cravings_choice",
       "index": 0,
       "layout": "IPY_MODEL_42f9ab8dcbd947b893f1ada0c235c49a",
       "style": "IPY_MODEL_a8887e16d9364df4af765443438652b9"
      }
     },
     "4933ca30b6c541c589f6778fde82bfbf": {
      "model_module": "@jupyter-widgets/controls",
      "model_module_version": "1.5.0",
      "model_name": "TextareaModel",
      "state": {
       "description": "previous_meds",
       "layout": "IPY_MODEL_42f9ab8dcbd947b893f1ada0c235c49a",
       "style": "IPY_MODEL_69a54f74587b4e90b16986775ae7f824",
       "value": "None"
      }
     },
     "49759ffbf0c4418f8f8a4985586155ff": {
      "model_module": "@jupyter-widgets/controls",
      "model_module_version": "1.5.0",
      "model_name": "TextareaModel",
      "state": {
       "description": "Current mood:",
       "layout": "IPY_MODEL_f66fdc635a5b4249a3649589eabdb70c",
       "placeholder": "Type something",
       "style": "IPY_MODEL_e1ab6c92dbde41e983bc3e5f7bccda03",
       "value": "It’s pretty good."
      }
     },
     "498edc26ac224a61872f8d7b6718494d": {
      "model_module": "@jupyter-widgets/controls",
      "model_module_version": "1.5.0",
      "model_name": "BoundedIntTextModel",
      "state": {
       "description": "# times in treatment",
       "layout": "IPY_MODEL_42f9ab8dcbd947b893f1ada0c235c49a",
       "style": "IPY_MODEL_5debc9e59c56446a96f801c5ef6e3fb1"
      }
     },
     "499e244b61ba4ebcb08a2d61ec2c009d": {
      "model_module": "@jupyter-widgets/controls",
      "model_module_version": "1.5.0",
      "model_name": "DescriptionStyleModel",
      "state": {
       "description_width": ""
      }
     },
     "4a07549478b04a76b905658e4fa89c16": {
      "model_module": "@jupyter-widgets/controls",
      "model_module_version": "1.5.0",
      "model_name": "VBoxModel",
      "state": {
       "children": [
        "IPY_MODEL_3360a46e33d745dcae9c02b0407c9b83",
        "IPY_MODEL_9a1f464c64874c14bc32489a0281ab7c",
        "IPY_MODEL_1ec6520db5784c66bfd9904a7a1db78d",
        "IPY_MODEL_ab9064a6ee9d41f581b2ca585e57930f",
        "IPY_MODEL_071e08afdc734e02bab496db47cda407",
        "IPY_MODEL_15a25cdddd184ebb871e2d0895b03ab7",
        "IPY_MODEL_70e520ff64114ce28b809c40b9e2653e",
        "IPY_MODEL_92e09d2b86b24fbb98b36ce428e0513d",
        "IPY_MODEL_4141426eaacd412d83bc71f8812014c7",
        "IPY_MODEL_b72f6fe7c1f34958acea8eb838977ca5",
        "IPY_MODEL_108620068dd7443da573b29ab1f5ee52",
        "IPY_MODEL_22d8fe9dca9b4fd5a6bae6788822db12",
        "IPY_MODEL_5dd2f8f971d44e06be2e5a8d1b92e897",
        "IPY_MODEL_b9706c2a3c1340a1955e749915f2bce2"
       ],
       "layout": "IPY_MODEL_95431a940ce8434db519770f8c255369"
      }
     },
     "4ade6b45607a484ba5a59271a0033457": {
      "model_module": "@jupyter-widgets/base",
      "model_module_version": "1.2.0",
      "model_name": "LayoutModel",
      "state": {}
     },
     "4b1eba02aa9d44ba93f61a2cb6b8aeb9": {
      "model_module": "@jupyter-widgets/controls",
      "model_module_version": "1.5.0",
      "model_name": "VBoxModel",
      "state": {
       "children": [
        "IPY_MODEL_cefd040181954414a3ace4f7c4013084",
        "IPY_MODEL_cdfb38834ad444389ce890245dee596e",
        "IPY_MODEL_d1540e537f114bb6a5bb2622ffc41999",
        "IPY_MODEL_f091b2c45ddb47f5930607365f0f9b82",
        "IPY_MODEL_8f4f5482f6e34daca6262ac46e2ea75b",
        "IPY_MODEL_44a4c7b3bec04746a9ec8d37c675775d",
        "IPY_MODEL_01e0bc2f2f7d486584e38b3059ad0de4",
        "IPY_MODEL_8644548328744ed19eb7498b8a5faa51",
        "IPY_MODEL_f0c9de96307041eda5eff0392727ce7f",
        "IPY_MODEL_ada830d162e54a51bf20e22c5a839849"
       ],
       "layout": "IPY_MODEL_8c72f15885bf4e34bc3574bb51340033"
      }
     },
     "4b333048ddfe401d968667e80b5b1d3c": {
      "model_module": "@jupyter-widgets/controls",
      "model_module_version": "1.5.0",
      "model_name": "DropdownModel",
      "state": {
       "_options_labels": [
        "days",
        "weeks",
        "months",
        "years"
       ],
       "description": "longest_sober_period",
       "index": 0,
       "layout": "IPY_MODEL_42f9ab8dcbd947b893f1ada0c235c49a",
       "style": "IPY_MODEL_dac100b5353145b8bb2076e225085564"
      }
     },
     "4b691e3e47e2403c8f75edfd65eac371": {
      "model_module": "@jupyter-widgets/controls",
      "model_module_version": "1.5.0",
      "model_name": "VBoxModel",
      "state": {
       "_dom_classes": [
        "widget-interact"
       ],
       "children": [
        "IPY_MODEL_4e65ecd0a63941ee8778b3a2e0c40868",
        "IPY_MODEL_98c751230a69441b98705623bcd5fc43",
        "IPY_MODEL_bb4f8b992b494aec81145ea55309b5f4",
        "IPY_MODEL_7e1333540fc8407fa914fd2291406f46"
       ],
       "layout": "IPY_MODEL_405fcdff480446e585c199162509cd86"
      }
     },
     "4bf81c8f4b0c492fb2d503d304f4080f": {
      "model_module": "@jupyter-widgets/controls",
      "model_module_version": "1.5.0",
      "model_name": "DescriptionStyleModel",
      "state": {
       "description_width": "150px"
      }
     },
     "4c0fc52dfd81423f87a16a09dcd84b24": {
      "model_module": "@jupyter-widgets/controls",
      "model_module_version": "1.5.0",
      "model_name": "DescriptionStyleModel",
      "state": {
       "description_width": ""
      }
     },
     "4c3391b29d304c89a9aec0dfd78ba2fc": {
      "model_module": "@jupyter-widgets/controls",
      "model_module_version": "1.5.0",
      "model_name": "DescriptionStyleModel",
      "state": {
       "description_width": ""
      }
     },
     "4c93018bfaf547a3b986088279aae86d": {
      "model_module": "@jupyter-widgets/controls",
      "model_module_version": "1.5.0",
      "model_name": "CheckboxModel",
      "state": {
       "description": "no mental illness",
       "disabled": false,
       "layout": "IPY_MODEL_b3b05ff090c64e4dad3b9f3e24ffecd3",
       "style": "IPY_MODEL_08cff6b88042457b99f4702cdcbaf20b",
       "value": false
      }
     },
     "4cbad5b6586b4ccbbd42ff1c0ab15f13": {
      "model_module": "@jupyter-widgets/controls",
      "model_module_version": "1.5.0",
      "model_name": "DescriptionStyleModel",
      "state": {
       "description_width": ""
      }
     },
     "4cc37202707842a1b11e5dd0d584edff": {
      "model_module": "@jupyter-widgets/controls",
      "model_module_version": "1.5.0",
      "model_name": "CheckboxModel",
      "state": {
       "description": "insomnia",
       "disabled": false,
       "layout": "IPY_MODEL_647627993b8d4f7bb5b9261ee5b00538",
       "style": "IPY_MODEL_d89ce043ef4f47d2a91cea2e3d0eb3ff",
       "value": false
      }
     },
     "4d81d9dc2ef244c7b089c9f051deec20": {
      "model_module": "@jupyter-widgets/controls",
      "model_module_version": "1.5.0",
      "model_name": "HBoxModel",
      "state": {
       "children": [
        "IPY_MODEL_13e2b63de7c04423868d7e8d281a50da"
       ],
       "layout": "IPY_MODEL_a385c3642131421aa31f266a9b19c830"
      }
     },
     "4da42d5d0db7481bb038a19c7f1037ed": {
      "model_module": "@jupyter-widgets/controls",
      "model_module_version": "1.5.0",
      "model_name": "BoundedIntTextModel",
      "state": {
       "description": "Age:",
       "layout": "IPY_MODEL_72489107f37c4a9b8532fa6c0df62dbf",
       "max": 200,
       "style": "IPY_MODEL_5cda1f6bfe4a4714a51b1e1b5b8e673a",
       "value": 33
      }
     },
     "4dba952bb761402986809b8f00b998d5": {
      "model_module": "@jupyter-widgets/controls",
      "model_module_version": "1.5.0",
      "model_name": "DescriptionStyleModel",
      "state": {
       "description_width": ""
      }
     },
     "4e2e32ed8b4e4273b3c290608d5bee4f": {
      "model_module": "@jupyter-widgets/base",
      "model_module_version": "1.2.0",
      "model_name": "LayoutModel",
      "state": {}
     },
     "4e3a2edeba8144bdb2b74be6969fc3c9": {
      "model_module": "@jupyter-widgets/controls",
      "model_module_version": "1.5.0",
      "model_name": "DescriptionStyleModel",
      "state": {
       "description_width": "150px"
      }
     },
     "4e5ec85b44fb45959497fcdfcd01a696": {
      "model_module": "@jupyter-widgets/base",
      "model_module_version": "1.2.0",
      "model_name": "LayoutModel",
      "state": {}
     },
     "4e65ecd0a63941ee8778b3a2e0c40868": {
      "model_module": "@jupyter-widgets/controls",
      "model_module_version": "1.5.0",
      "model_name": "DropdownModel",
      "state": {
       "_options_labels": [
        "denies",
        "endorses"
       ],
       "description": "Past Trauma",
       "index": 0,
       "layout": "IPY_MODEL_42f9ab8dcbd947b893f1ada0c235c49a",
       "style": "IPY_MODEL_275b6248b741413194e389b3398071e8"
      }
     },
     "4e8e8deb644e4829a202761d60f6fd01": {
      "model_module": "@jupyter-widgets/base",
      "model_module_version": "1.2.0",
      "model_name": "LayoutModel",
      "state": {}
     },
     "4ea19e66ffea44e7a537dbe0a3d8454c": {
      "model_module": "@jupyter-widgets/controls",
      "model_module_version": "1.5.0",
      "model_name": "CheckboxModel",
      "state": {
       "description": "polysubstance",
       "disabled": false,
       "layout": "IPY_MODEL_e5c807bf6d4b4521b5bfa15b0ee116c4",
       "style": "IPY_MODEL_17785c68d46e4670a54ad50f2d95dac4",
       "value": false
      }
     },
     "4ea73c3464a9467d9e1dd5ca7de982b5": {
      "model_module": "@jupyter-widgets/base",
      "model_module_version": "1.2.0",
      "model_name": "LayoutModel",
      "state": {}
     },
     "4f1cec0139c04e0e939f9bd29a1c9eba": {
      "model_module": "@jupyter-widgets/controls",
      "model_module_version": "1.5.0",
      "model_name": "DescriptionStyleModel",
      "state": {
       "description_width": ""
      }
     },
     "4f370f6615254446ad81e95559c2c928": {
      "model_module": "@jupyter-widgets/controls",
      "model_module_version": "1.5.0",
      "model_name": "DropdownModel",
      "state": {
       "_options_labels": [
        "denies",
        "endorses"
       ],
       "description": "cravings_choice",
       "index": 0,
       "layout": "IPY_MODEL_42f9ab8dcbd947b893f1ada0c235c49a",
       "style": "IPY_MODEL_6c6315c24a824a2db838e0bb819d1939"
      }
     },
     "4f647f8a97d54fa0a9861749d3275f33": {
      "model_module": "@jupyter-widgets/controls",
      "model_module_version": "1.5.0",
      "model_name": "TextareaModel",
      "state": {
       "description": "Current medication",
       "layout": "IPY_MODEL_42f9ab8dcbd947b893f1ada0c235c49a",
       "placeholder": "Type something",
       "style": "IPY_MODEL_f3f283adced84069b6b41ce7af120da0"
      }
     },
     "4f76fcaa674147c5951c36e21c33bd60": {
      "model_module": "@jupyter-widgets/controls",
      "model_module_version": "1.5.0",
      "model_name": "CheckboxModel",
      "state": {
       "description": "psychosis",
       "disabled": false,
       "layout": "IPY_MODEL_fab1702b71f445adaf21ab36994fdf48",
       "style": "IPY_MODEL_fd8ad8ccc49645aaac814ce1b7589c0a",
       "value": false
      }
     },
     "4f871885ed2d48388193936c34bfaa63": {
      "model_module": "@jupyter-widgets/controls",
      "model_module_version": "1.5.0",
      "model_name": "CheckboxModel",
      "state": {
       "description": "alcohol",
       "disabled": false,
       "layout": "IPY_MODEL_c19a1bf16b1240fab0e3a775f6fcafca",
       "style": "IPY_MODEL_79216363d026439eb835689a21dde077",
       "value": false
      }
     },
     "4fdb9976a7b7402bbce443f0fb87a388": {
      "model_module": "@jupyter-widgets/controls",
      "model_module_version": "1.5.0",
      "model_name": "TextModel",
      "state": {
       "description": "notes",
       "layout": "IPY_MODEL_42f9ab8dcbd947b893f1ada0c235c49a",
       "style": "IPY_MODEL_71e941cd97ca45ce962693374f1a6c23"
      }
     },
     "4ffae84a7b5f4c93a694e777f05ab530": {
      "model_module": "@jupyter-widgets/controls",
      "model_module_version": "1.5.0",
      "model_name": "DropdownModel",
      "state": {
       "_options_labels": [
        "denies",
        "endorses"
       ],
       "description": "cravings_choice",
       "index": 0,
       "layout": "IPY_MODEL_42f9ab8dcbd947b893f1ada0c235c49a",
       "style": "IPY_MODEL_cc9936efbd004a12b364b01f1307c186"
      }
     },
     "5037c91adfbe41d9bc297ad7123b3c03": {
      "model_module": "@jupyter-widgets/controls",
      "model_module_version": "1.5.0",
      "model_name": "DescriptionStyleModel",
      "state": {
       "description_width": "150px"
      }
     },
     "5037eeb29bd0498b9bac24503ccac771": {
      "model_module": "@jupyter-widgets/controls",
      "model_module_version": "1.5.0",
      "model_name": "DropdownModel",
      "state": {
       "_options_labels": [
        "denies",
        "endorses"
       ],
       "description": "abuse",
       "index": 0,
       "layout": "IPY_MODEL_6ca1abb4c0974a9b85bd5dd3b0292df2",
       "style": "IPY_MODEL_2a152efcc54f4646a26c16fd9761bab0"
      }
     },
     "5050f74c2945485ca181627c493e87d3": {
      "model_module": "@jupyter-widgets/base",
      "model_module_version": "1.2.0",
      "model_name": "LayoutModel",
      "state": {}
     },
     "50949bb6a8b8420785b304044ae879d6": {
      "model_module": "@jupyter-widgets/controls",
      "model_module_version": "1.5.0",
      "model_name": "DescriptionStyleModel",
      "state": {
       "description_width": "150px"
      }
     },
     "5096d2b34acd46238cf3b8fa62b86af4": {
      "model_module": "@jupyter-widgets/controls",
      "model_module_version": "1.5.0",
      "model_name": "CheckboxModel",
      "state": {
       "description": "methamphetamine",
       "disabled": false,
       "layout": "IPY_MODEL_71d56dc00fdb42fdb29684cccb4bd281",
       "style": "IPY_MODEL_bc4abd6343ed44939197309c48a6d7de",
       "value": false
      }
     },
     "50a4fd38ced24acd9acbff2ae602b96a": {
      "model_module": "@jupyter-widgets/controls",
      "model_module_version": "1.5.0",
      "model_name": "DescriptionStyleModel",
      "state": {
       "description_width": ""
      }
     },
     "519e1974b8cc4adeb227605ced65e98a": {
      "model_module": "@jupyter-widgets/controls",
      "model_module_version": "1.5.0",
      "model_name": "DescriptionStyleModel",
      "state": {
       "description_width": "150px"
      }
     },
     "51aaa7f94a8c4dac9d232de337f673a0": {
      "model_module": "@jupyter-widgets/output",
      "model_module_version": "1.0.0",
      "model_name": "OutputModel",
      "state": {
       "layout": "IPY_MODEL_b0ea61871eb345bab9a1c914096f52ff",
       "outputs": [
        {
         "name": "stdout",
         "output_type": "stream",
         "text": "\nSubstance Use History:\nThe patient states that their primary substances of abuse include\nnothing with daily use for periods greater than \n6 months with resulting impairment in functioning. \nThey state that they have been in residential treatment 0 times, \nwith their longest period of sobriety lasting 0 days. \nThe patient denies history of IVDU. \nPatient denies seizures, complicated withdrawal, and DTs.\n\n    \n"
        }
       ]
      }
     },
     "51d8b862da7944a3aca5c65138ae80a6": {
      "model_module": "@jupyter-widgets/controls",
      "model_module_version": "1.5.0",
      "model_name": "DescriptionStyleModel",
      "state": {
       "description_width": ""
      }
     },
     "524803c20c50426ebc3af802115ae4b3": {
      "model_module": "@jupyter-widgets/controls",
      "model_module_version": "1.5.0",
      "model_name": "DropdownModel",
      "state": {
       "_options_labels": [
        "good",
        "fair",
        "poor"
       ],
       "description": "energy",
       "index": 1,
       "layout": "IPY_MODEL_42f9ab8dcbd947b893f1ada0c235c49a",
       "style": "IPY_MODEL_303b6c16667c4d338b9c01e08cddad68"
      }
     },
     "52ab9bf1c48b4809bf515fb199fe8076": {
      "model_module": "@jupyter-widgets/controls",
      "model_module_version": "1.5.0",
      "model_name": "DescriptionStyleModel",
      "state": {
       "description_width": ""
      }
     },
     "52ed62b74e9249419990358fec6e0beb": {
      "model_module": "@jupyter-widgets/controls",
      "model_module_version": "1.5.0",
      "model_name": "DropdownModel",
      "state": {
       "_options_labels": [
        "denies",
        "endorses"
       ],
       "description": "depressed",
       "index": 0,
       "layout": "IPY_MODEL_42f9ab8dcbd947b893f1ada0c235c49a",
       "style": "IPY_MODEL_b67b1738623941a480b3d4306a970628"
      }
     },
     "531fd0f79a134458aefdf175c4cedd90": {
      "model_module": "@jupyter-widgets/controls",
      "model_module_version": "1.5.0",
      "model_name": "TextareaModel",
      "state": {
       "description": "notes",
       "layout": "IPY_MODEL_42f9ab8dcbd947b893f1ada0c235c49a",
       "style": "IPY_MODEL_5aecfa84bf2a4b7cb8e7589e14b5cf59"
      }
     },
     "53207a79206e4df280207af3c3ae5c99": {
      "model_module": "@jupyter-widgets/controls",
      "model_module_version": "1.5.0",
      "model_name": "DescriptionStyleModel",
      "state": {
       "description_width": ""
      }
     },
     "5329c11e09e04847bf9932360ae23df2": {
      "model_module": "@jupyter-widgets/controls",
      "model_module_version": "1.5.0",
      "model_name": "DropdownModel",
      "state": {
       "_options_labels": [
        "denies",
        "endorses"
       ],
       "description": "withdrawals_choice",
       "index": 0,
       "layout": "IPY_MODEL_6ca1abb4c0974a9b85bd5dd3b0292df2",
       "style": "IPY_MODEL_377385d7864a4d089e7077c936c4a1b5"
      }
     },
     "53514f0caa6c490db986efd6e1ebfb14": {
      "model_module": "@jupyter-widgets/base",
      "model_module_version": "1.2.0",
      "model_name": "LayoutModel",
      "state": {}
     },
     "535cf17dafd34b19ae9520648441304e": {
      "model_module": "@jupyter-widgets/controls",
      "model_module_version": "1.5.0",
      "model_name": "DescriptionStyleModel",
      "state": {
       "description_width": "150px"
      }
     },
     "5361bd2969eb478b835522fd2dab1a20": {
      "model_module": "@jupyter-widgets/controls",
      "model_module_version": "1.5.0",
      "model_name": "DescriptionStyleModel",
      "state": {
       "description_width": "150px"
      }
     },
     "53684c391f004bcb9bca0e99044c6e7e": {
      "model_module": "@jupyter-widgets/controls",
      "model_module_version": "1.5.0",
      "model_name": "VBoxModel",
      "state": {
       "children": [
        "IPY_MODEL_a2e017a2cb634e8a95b90ce8d2f6cab6",
        "IPY_MODEL_1f9233f8f57b43c1b493b308785de49d"
       ],
       "layout": "IPY_MODEL_b176ff9d339a410e854782529972edd2"
      }
     },
     "53836c9618ed46f9b1cdc95e738c1f61": {
      "model_module": "@jupyter-widgets/controls",
      "model_module_version": "1.5.0",
      "model_name": "VBoxModel",
      "state": {
       "_dom_classes": [
        "widget-interact"
       ],
       "children": [
        "IPY_MODEL_6e1dd01c29294572b2ae5e77ed6d3914",
        "IPY_MODEL_b381a36815664d5eadcdd20a24374b8f",
        "IPY_MODEL_6f0cf25e2ef6486393b23c572a305574",
        "IPY_MODEL_dea156597bb247b992d000379f41e107",
        "IPY_MODEL_5037eeb29bd0498b9bac24503ccac771",
        "IPY_MODEL_f0b45eb62de741ec9e79e89b19de74b6",
        "IPY_MODEL_2fd10ce8507f4ceca346d80cfaf615ae"
       ],
       "layout": "IPY_MODEL_53514f0caa6c490db986efd6e1ebfb14"
      }
     },
     "5392758271004ee9a24712f878bd32d2": {
      "model_module": "@jupyter-widgets/base",
      "model_module_version": "1.2.0",
      "model_name": "LayoutModel",
      "state": {}
     },
     "5392dcc5886848b3a087448cd30ebaff": {
      "model_module": "@jupyter-widgets/controls",
      "model_module_version": "1.5.0",
      "model_name": "DescriptionStyleModel",
      "state": {
       "description_width": "150px"
      }
     },
     "53930ef91f56485cbf723849271fd89f": {
      "model_module": "@jupyter-widgets/base",
      "model_module_version": "1.2.0",
      "model_name": "LayoutModel",
      "state": {}
     },
     "53d06c644a7b46cbba6612a0ee895639": {
      "model_module": "@jupyter-widgets/base",
      "model_module_version": "1.2.0",
      "model_name": "LayoutModel",
      "state": {}
     },
     "543305bf71744d5381abb9e92632ea18": {
      "model_module": "@jupyter-widgets/output",
      "model_module_version": "1.0.0",
      "model_name": "OutputModel",
      "state": {
       "layout": "IPY_MODEL_4e2e32ed8b4e4273b3c290608d5bee4f",
       "outputs": [
        {
         "name": "stdout",
         "output_type": "stream",
         "text": "\nMedical History:\nThe patient denies any acute medical conditions. \nThe patient denies any history of HIV. \nThe patient denies any history of hepatitis.\nThe patient denies any history of TBI.\n\n\n"
        }
       ]
      }
     },
     "543549e43c654fcb9027e7bfefbf6b7a": {
      "model_module": "@jupyter-widgets/base",
      "model_module_version": "1.2.0",
      "model_name": "LayoutModel",
      "state": {}
     },
     "5450456c91b24f24bdfc277eaadd2cb5": {
      "model_module": "@jupyter-widgets/controls",
      "model_module_version": "1.5.0",
      "model_name": "DescriptionStyleModel",
      "state": {
       "description_width": "150px"
      }
     },
     "5479daf092e7446c9ae5c9c01911dad8": {
      "model_module": "@jupyter-widgets/base",
      "model_module_version": "1.2.0",
      "model_name": "LayoutModel",
      "state": {}
     },
     "54d99072a43a4502bffb34e399f836c6": {
      "model_module": "@jupyter-widgets/controls",
      "model_module_version": "1.5.0",
      "model_name": "DropdownModel",
      "state": {
       "_options_labels": [
        "good",
        "fair",
        "poor"
       ],
       "description": "concentration",
       "index": 1,
       "layout": "IPY_MODEL_6ca1abb4c0974a9b85bd5dd3b0292df2",
       "style": "IPY_MODEL_d00f3485ff5b4264aaf14cbdb1371c95"
      }
     },
     "54e79be693a0499eb9969b9ecebccc0e": {
      "model_module": "@jupyter-widgets/base",
      "model_module_version": "1.2.0",
      "model_name": "LayoutModel",
      "state": {}
     },
     "550aa218965a461f9bc80b370e82f2f5": {
      "model_module": "@jupyter-widgets/output",
      "model_module_version": "1.0.0",
      "model_name": "OutputModel",
      "state": {
       "layout": "IPY_MODEL_c5999d58e8eb4cd88f5666e2ac53fd85",
       "outputs": [
        {
         "name": "stdout",
         "output_type": "stream",
         "text": "\nMedical History:\nThe patient denies any acute medical conditions. \nThe patient denies any history of HIV. \nThe patient denies any history of hepatitis.\nThe patient denies any history of TBI.\n\n\n"
        }
       ]
      }
     },
     "5527beaeff044bd8a12aad4f67651a68": {
      "model_module": "@jupyter-widgets/base",
      "model_module_version": "1.2.0",
      "model_name": "LayoutModel",
      "state": {}
     },
     "55292650e777465da31a40547a0249db": {
      "model_module": "@jupyter-widgets/controls",
      "model_module_version": "1.5.0",
      "model_name": "DescriptionStyleModel",
      "state": {
       "description_width": "150px"
      }
     },
     "556702f9feab41cdae7d2366cbc16dd3": {
      "model_module": "@jupyter-widgets/controls",
      "model_module_version": "1.5.0",
      "model_name": "DescriptionStyleModel",
      "state": {
       "description_width": ""
      }
     },
     "557ae2329937406eabf90be06637ae22": {
      "model_module": "@jupyter-widgets/controls",
      "model_module_version": "1.5.0",
      "model_name": "VBoxModel",
      "state": {
       "children": [
        "IPY_MODEL_432db5d5e8a1427291cefbc5ec8783b9",
        "IPY_MODEL_3791b6827de04da29be39264cc078f13",
        "IPY_MODEL_aabc11ddb15e4887a80d49c3e506b7b2",
        "IPY_MODEL_c116da6a590b4ac9ba777348d3fea274",
        "IPY_MODEL_d803e86b0e614e51ab630c358e4fcb68",
        "IPY_MODEL_5f76ee60a50b4ed7b2c0207acd29d266",
        "IPY_MODEL_f8833bd67dbc43fb80b3e654697759b1",
        "IPY_MODEL_4f76fcaa674147c5951c36e21c33bd60",
        "IPY_MODEL_0f70560c14764652a1002b9f86d06010",
        "IPY_MODEL_bb20e56017d446a098a458729d589f8e"
       ],
       "layout": "IPY_MODEL_19b378b22035486c98979340e382fc41"
      }
     },
     "5586f76b965a461e96fa400950c9b10d": {
      "model_module": "@jupyter-widgets/controls",
      "model_module_version": "1.5.0",
      "model_name": "BoundedIntTextModel",
      "state": {
       "description": "Longest sober time",
       "layout": "IPY_MODEL_42f9ab8dcbd947b893f1ada0c235c49a",
       "style": "IPY_MODEL_db3d9b8a81ef417e8c3957b913c26c4c"
      }
     },
     "55e9cd24034049a6a9b1683324dff296": {
      "model_module": "@jupyter-widgets/controls",
      "model_module_version": "1.5.0",
      "model_name": "DescriptionStyleModel",
      "state": {
       "description_width": ""
      }
     },
     "55ebe309af2d4708904af91e0a4be1fc": {
      "model_module": "@jupyter-widgets/controls",
      "model_module_version": "1.5.0",
      "model_name": "DescriptionStyleModel",
      "state": {
       "description_width": ""
      }
     },
     "5656d708b0e64252807ca840b82ad75d": {
      "model_module": "@jupyter-widgets/controls",
      "model_module_version": "1.5.0",
      "model_name": "CheckboxModel",
      "state": {
       "description": "Unspecified Anxiety Disorder",
       "disabled": false,
       "layout": "IPY_MODEL_bcc9ecfd00fc4bcea825d5720c1d6b43",
       "style": "IPY_MODEL_619ed20ea23349eca5ccc4139aa4e06b",
       "value": false
      }
     },
     "56754758998042dd8e4401b7d76c2653": {
      "model_module": "@jupyter-widgets/base",
      "model_module_version": "1.2.0",
      "model_name": "LayoutModel",
      "state": {}
     },
     "57231c1855804d289505d05df61f8e19": {
      "model_module": "@jupyter-widgets/controls",
      "model_module_version": "1.5.0",
      "model_name": "DescriptionStyleModel",
      "state": {
       "description_width": ""
      }
     },
     "573fe0df43114d2684d7c68cc2bf542f": {
      "model_module": "@jupyter-widgets/controls",
      "model_module_version": "1.5.0",
      "model_name": "DescriptionStyleModel",
      "state": {
       "description_width": "150px"
      }
     },
     "57fea0c1bbb34d91b7cfcdba0468c3d4": {
      "model_module": "@jupyter-widgets/controls",
      "model_module_version": "1.5.0",
      "model_name": "DropdownModel",
      "state": {
       "_options_labels": [
        "denies",
        "endorses"
       ],
       "description": "anxiety",
       "index": 0,
       "layout": "IPY_MODEL_6ca1abb4c0974a9b85bd5dd3b0292df2",
       "style": "IPY_MODEL_e9f171e311f94076acee2ce98d1edd3b"
      }
     },
     "5835c5d8d7f14164aa013a0c0e521b5d": {
      "model_module": "@jupyter-widgets/controls",
      "model_module_version": "1.5.0",
      "model_name": "DescriptionStyleModel",
      "state": {
       "description_width": ""
      }
     },
     "584cdb7a5c874c79a344ff46d86c40cc": {
      "model_module": "@jupyter-widgets/controls",
      "model_module_version": "1.5.0",
      "model_name": "DescriptionStyleModel",
      "state": {
       "description_width": "150px"
      }
     },
     "5864056008e5473fb068d7be4a943331": {
      "model_module": "@jupyter-widgets/controls",
      "model_module_version": "1.5.0",
      "model_name": "DescriptionStyleModel",
      "state": {
       "description_width": ""
      }
     },
     "59450a62a4254457ba769158623072b1": {
      "model_module": "@jupyter-widgets/controls",
      "model_module_version": "1.5.0",
      "model_name": "TextareaModel",
      "state": {
       "description": "notes",
       "layout": "IPY_MODEL_6ca1abb4c0974a9b85bd5dd3b0292df2",
       "style": "IPY_MODEL_30e5315303604026b6e2767131e6f2c8"
      }
     },
     "59c25275f0c941438a1ce54c64848f37": {
      "model_module": "@jupyter-widgets/controls",
      "model_module_version": "1.5.0",
      "model_name": "TextareaModel",
      "state": {
       "description": "notes",
       "layout": "IPY_MODEL_42f9ab8dcbd947b893f1ada0c235c49a",
       "style": "IPY_MODEL_c882f46428cd477dae8b9ea572c8ebfa"
      }
     },
     "5a3c94d6bea24592963a31730360af64": {
      "model_module": "@jupyter-widgets/controls",
      "model_module_version": "1.5.0",
      "model_name": "DropdownModel",
      "state": {
       "_options_labels": [
        "a history",
        "no history"
       ],
       "description": "Learning Disabilities",
       "index": 1,
       "layout": "IPY_MODEL_42f9ab8dcbd947b893f1ada0c235c49a",
       "style": "IPY_MODEL_9d786211907646ec857d396ecf991e73"
      }
     },
     "5acd3e8714824635adf99cea9e44433f": {
      "model_module": "@jupyter-widgets/base",
      "model_module_version": "1.2.0",
      "model_name": "LayoutModel",
      "state": {}
     },
     "5aecfa84bf2a4b7cb8e7589e14b5cf59": {
      "model_module": "@jupyter-widgets/controls",
      "model_module_version": "1.5.0",
      "model_name": "DescriptionStyleModel",
      "state": {
       "description_width": "150px"
      }
     },
     "5b0dce47bb2149a988847bdff1ae2cb4": {
      "model_module": "@jupyter-widgets/base",
      "model_module_version": "1.2.0",
      "model_name": "LayoutModel",
      "state": {}
     },
     "5b4426b0d17e43148b376bbe27d98196": {
      "model_module": "@jupyter-widgets/base",
      "model_module_version": "1.2.0",
      "model_name": "LayoutModel",
      "state": {}
     },
     "5b8cb1abbba04879bb70bb5e4209a550": {
      "model_module": "@jupyter-widgets/controls",
      "model_module_version": "1.5.0",
      "model_name": "CheckboxModel",
      "state": {
       "description": "opioid",
       "disabled": false,
       "layout": "IPY_MODEL_eb9909b9287f4259a9cb5e225e3294cb",
       "style": "IPY_MODEL_60ad81ef00f64d0395e149acefd3452a",
       "value": false
      }
     },
     "5c063488a31741cca7cef86d597cb87a": {
      "model_module": "@jupyter-widgets/base",
      "model_module_version": "1.2.0",
      "model_name": "LayoutModel",
      "state": {}
     },
     "5c3575c75e0e48658e94fef56c998d8d": {
      "model_module": "@jupyter-widgets/controls",
      "model_module_version": "1.5.0",
      "model_name": "CheckboxModel",
      "state": {
       "description": "no drug",
       "disabled": false,
       "layout": "IPY_MODEL_879e93a6c64d4e1793acf7fda2435fc0",
       "style": "IPY_MODEL_7c2670ba3142496ab201636a49addfc5",
       "value": false
      }
     },
     "5c611c636697430494e4fe0263b721b5": {
      "model_module": "@jupyter-widgets/controls",
      "model_module_version": "1.5.0",
      "model_name": "DescriptionStyleModel",
      "state": {
       "description_width": "150px"
      }
     },
     "5c627b3ccf3341cdb862a6aa1faeb6e4": {
      "model_module": "@jupyter-widgets/base",
      "model_module_version": "1.2.0",
      "model_name": "LayoutModel",
      "state": {}
     },
     "5c6b9b486d844c7995987ad84822d403": {
      "model_module": "@jupyter-widgets/base",
      "model_module_version": "1.2.0",
      "model_name": "LayoutModel",
      "state": {}
     },
     "5c9197f7c6f542cc8b6b50699dc0b6ec": {
      "model_module": "@jupyter-widgets/base",
      "model_module_version": "1.2.0",
      "model_name": "LayoutModel",
      "state": {}
     },
     "5cda1f6bfe4a4714a51b1e1b5b8e673a": {
      "model_module": "@jupyter-widgets/controls",
      "model_module_version": "1.5.0",
      "model_name": "DescriptionStyleModel",
      "state": {
       "description_width": ""
      }
     },
     "5ceacdce7b394789bf9cf92c203a2f67": {
      "model_module": "@jupyter-widgets/base",
      "model_module_version": "1.2.0",
      "model_name": "LayoutModel",
      "state": {}
     },
     "5d11a11a25af4a8792de31a0d2a1af11": {
      "model_module": "@jupyter-widgets/controls",
      "model_module_version": "1.5.0",
      "model_name": "CheckboxModel",
      "state": {
       "description": "Alcohol use disorder Severe",
       "disabled": false,
       "layout": "IPY_MODEL_dd867f5e1a184d96be44a99bbc56805e",
       "style": "IPY_MODEL_6bd671d4a35f4eb58d3d4264880c629e",
       "value": false
      }
     },
     "5d1d6d6ef50e45bd913146bded827b07": {
      "model_module": "@jupyter-widgets/base",
      "model_module_version": "1.2.0",
      "model_name": "LayoutModel",
      "state": {}
     },
     "5d1ea54238124010ace6631028e609e4": {
      "model_module": "@jupyter-widgets/controls",
      "model_module_version": "1.5.0",
      "model_name": "DropdownModel",
      "state": {
       "_options_labels": [
        "denies",
        "endorses"
       ],
       "description": "ivdu",
       "index": 0,
       "layout": "IPY_MODEL_42f9ab8dcbd947b893f1ada0c235c49a",
       "style": "IPY_MODEL_8dd570aa4c364e8e866e89593738739d"
      }
     },
     "5d42c710b7f44c85adbb2cb8be2f1204": {
      "model_module": "@jupyter-widgets/controls",
      "model_module_version": "1.5.0",
      "model_name": "DescriptionStyleModel",
      "state": {
       "description_width": ""
      }
     },
     "5d499a287f7c474aac81997c1bdfaed1": {
      "model_module": "@jupyter-widgets/controls",
      "model_module_version": "1.5.0",
      "model_name": "DescriptionStyleModel",
      "state": {
       "description_width": ""
      }
     },
     "5dbd6e9030064fafb4118aad8638ea0c": {
      "model_module": "@jupyter-widgets/controls",
      "model_module_version": "1.5.0",
      "model_name": "DescriptionStyleModel",
      "state": {
       "description_width": "150px"
      }
     },
     "5dc8bdeb9d30417a87a48b2f8989e419": {
      "model_module": "@jupyter-widgets/controls",
      "model_module_version": "1.5.0",
      "model_name": "DescriptionStyleModel",
      "state": {
       "description_width": "150px"
      }
     },
     "5dc9e0312f184e86bf0a3fca40dc14c8": {
      "model_module": "@jupyter-widgets/base",
      "model_module_version": "1.2.0",
      "model_name": "LayoutModel",
      "state": {}
     },
     "5dd2f8f971d44e06be2e5a8d1b92e897": {
      "model_module": "@jupyter-widgets/controls",
      "model_module_version": "1.5.0",
      "model_name": "CheckboxModel",
      "state": {
       "description": "LSD",
       "disabled": false,
       "layout": "IPY_MODEL_e83d802138774a5ba7cd2c6b67cb904e",
       "style": "IPY_MODEL_f77c78fd0c0d4889a78966627fbec028",
       "value": false
      }
     },
     "5debc9e59c56446a96f801c5ef6e3fb1": {
      "model_module": "@jupyter-widgets/controls",
      "model_module_version": "1.5.0",
      "model_name": "DescriptionStyleModel",
      "state": {
       "description_width": "150px"
      }
     },
     "5ee3b1624e4b4acaa5ac4852906eb40c": {
      "model_module": "@jupyter-widgets/controls",
      "model_module_version": "1.5.0",
      "model_name": "CheckboxModel",
      "state": {
       "description": "adhd",
       "disabled": false,
       "layout": "IPY_MODEL_9fdfe4f45fb04284b15097ddbf868f9f",
       "style": "IPY_MODEL_4f1cec0139c04e0e939f9bd29a1c9eba",
       "value": false
      }
     },
     "5eefca396d7f474e93ad67c47d4bfc25": {
      "model_module": "@jupyter-widgets/controls",
      "model_module_version": "1.5.0",
      "model_name": "DescriptionStyleModel",
      "state": {
       "description_width": "150px"
      }
     },
     "5f5aedd13b4e4d61aa3095c8f2e93782": {
      "model_module": "@jupyter-widgets/controls",
      "model_module_version": "1.5.0",
      "model_name": "CheckboxModel",
      "state": {
       "description": "bipolar II disorder",
       "disabled": false,
       "layout": "IPY_MODEL_6d8f0c1d8d4045fba38dd097430d9cc5",
       "style": "IPY_MODEL_33391e3fc0f840b8ae404781e30f4e82",
       "value": false
      }
     },
     "5f76ee60a50b4ed7b2c0207acd29d266": {
      "model_module": "@jupyter-widgets/controls",
      "model_module_version": "1.5.0",
      "model_name": "CheckboxModel",
      "state": {
       "description": "bipolar II disorder",
       "disabled": false,
       "layout": "IPY_MODEL_4ea73c3464a9467d9e1dd5ca7de982b5",
       "style": "IPY_MODEL_6fa37ed0f1554e59b18d6db20998ed77",
       "value": false
      }
     },
     "5f9b58e6b91c4574997bb3e04a5d50ec": {
      "model_module": "@jupyter-widgets/base",
      "model_module_version": "1.2.0",
      "model_name": "LayoutModel",
      "state": {}
     },
     "60ad81ef00f64d0395e149acefd3452a": {
      "model_module": "@jupyter-widgets/controls",
      "model_module_version": "1.5.0",
      "model_name": "DescriptionStyleModel",
      "state": {
       "description_width": ""
      }
     },
     "61121a37146244c297ef046d7d46733b": {
      "model_module": "@jupyter-widgets/controls",
      "model_module_version": "1.5.0",
      "model_name": "DescriptionStyleModel",
      "state": {
       "description_width": "150px"
      }
     },
     "6193521e4b174f5f93e51ec52bc1493b": {
      "model_module": "@jupyter-widgets/controls",
      "model_module_version": "1.5.0",
      "model_name": "CheckboxModel",
      "state": {
       "description": "sedative, hypnotic, or anxiolytic",
       "disabled": false,
       "layout": "IPY_MODEL_bc630083804748dfbee516d5a2edd542",
       "style": "IPY_MODEL_5835c5d8d7f14164aa013a0c0e521b5d",
       "value": false
      }
     },
     "619ed20ea23349eca5ccc4139aa4e06b": {
      "model_module": "@jupyter-widgets/controls",
      "model_module_version": "1.5.0",
      "model_name": "DescriptionStyleModel",
      "state": {
       "description_width": ""
      }
     },
     "61a9e85b868542fc98f84b8bf23325e2": {
      "model_module": "@jupyter-widgets/output",
      "model_module_version": "1.0.0",
      "model_name": "OutputModel",
      "state": {
       "layout": "IPY_MODEL_36b8cebcdc964638bb42b6ddb5156e12",
       "outputs": [
        {
         "name": "stdout",
         "output_type": "stream",
         "text": "\nThe patient reported no history of mania.\nThe patient reported no history of psychosis. \nThe patient reported no history of  learning disabilities, OCD or tics. \nThe patient reported no history of an eating disorder. \nThe patient reported no history of compulsive gambling, problematic internet/video game use, compulsive shopping, or sexual addiction. \n\n\n"
        }
       ]
      }
     },
     "6212bcb41e824a5084ee2336e11c89b7": {
      "model_module": "@jupyter-widgets/controls",
      "model_module_version": "1.5.0",
      "model_name": "DropdownModel",
      "state": {
       "_options_labels": [
        "denies",
        "endorses"
       ],
       "description": "suicide",
       "index": 0,
       "layout": "IPY_MODEL_42f9ab8dcbd947b893f1ada0c235c49a",
       "style": "IPY_MODEL_751866c969d24e339d6daa11188f15f6"
      }
     },
     "62351f93611f49d38efbf57a0d4dcac6": {
      "model_module": "@jupyter-widgets/controls",
      "model_module_version": "1.5.0",
      "model_name": "DescriptionStyleModel",
      "state": {
       "description_width": "150px"
      }
     },
     "62546ce02c6e4b26aae657f94a3a22de": {
      "model_module": "@jupyter-widgets/output",
      "model_module_version": "1.0.0",
      "model_name": "OutputModel",
      "state": {
       "layout": "IPY_MODEL_195983c3972843e79bf56e557d73c3b5",
       "outputs": [
        {
         "name": "stdout",
         "output_type": "stream",
         "text": "\nHistory of Present Illness:\nThe patient states that they decided to come to treatment because . \nPatient reports they have been sober for 4 days.\nThe patient denies withdrawals. The patient denies cravings.\nThe patient declines anti-craving medication.\nThe patient reports their substance use impacted their life negatively  \n \n    \n"
        }
       ]
      }
     },
     "626ce05b18ca4d2887e3bcdaa21f8454": {
      "model_module": "@jupyter-widgets/output",
      "model_module_version": "1.0.0",
      "model_name": "OutputModel",
      "state": {
       "layout": "IPY_MODEL_de92cab07f684e449171b9c5df1b7922",
       "outputs": [
        {
         "name": "stdout",
         "output_type": "stream",
         "text": "\nThe patient denies that they have sustained significant trauma, \ndenies current symptoms of PTSD including flashbacks, nightmares, hypervigilance, triggers, \nand avoidance of triggers.\n\n\n"
        }
       ]
      }
     },
     "629d799977ba49aeb539f64522b569ee": {
      "model_module": "@jupyter-widgets/controls",
      "model_module_version": "1.5.0",
      "model_name": "TextareaModel",
      "state": {
       "description": "negative_impact",
       "layout": "IPY_MODEL_6ca1abb4c0974a9b85bd5dd3b0292df2",
       "placeholder": "Type Something",
       "style": "IPY_MODEL_675b91ab8f6f4d088f477d6ba4a94f13"
      }
     },
     "62b2c011126c4ddbb6b68a6eec0d1c03": {
      "model_module": "@jupyter-widgets/controls",
      "model_module_version": "1.5.0",
      "model_name": "VBoxModel",
      "state": {
       "_dom_classes": [
        "widget-interact"
       ],
       "children": [
        "IPY_MODEL_4f647f8a97d54fa0a9861749d3275f33",
        "IPY_MODEL_9cdb2c8d242d4beeb3d9388f48821640",
        "IPY_MODEL_a408ae4fac444bba9203055885906441",
        "IPY_MODEL_7126b31879cd4bbb938464694a2faa93",
        "IPY_MODEL_f4c08fddf65c428a83336666793d944c",
        "IPY_MODEL_418cbffc4f0048d195dc26d09ca9a28f"
       ],
       "layout": "IPY_MODEL_ab65985336954cf18299ccc2890532bd"
      }
     },
     "6364fc00247c41e8918c22a6e4b9d58d": {
      "model_module": "@jupyter-widgets/controls",
      "model_module_version": "1.5.0",
      "model_name": "DropdownModel",
      "state": {
       "_options_labels": [
        "denies",
        "endorses"
       ],
       "description": "HEP Medical",
       "index": 0,
       "layout": "IPY_MODEL_42f9ab8dcbd947b893f1ada0c235c49a",
       "style": "IPY_MODEL_309dc19a0110474eaa94a41524f5b7af"
      }
     },
     "6387ce9bff1b4096a52dd3725c24222c": {
      "model_module": "@jupyter-widgets/controls",
      "model_module_version": "1.5.0",
      "model_name": "CheckboxModel",
      "state": {
       "description": "schizophrenia",
       "disabled": false,
       "layout": "IPY_MODEL_e5b3ea3c967b461794ecbed290ac9765",
       "style": "IPY_MODEL_ee4e6a6a235f40aea26515aa5a0cdff9",
       "value": false
      }
     },
     "63a6931cefc047a5a8cf1f107a16614e": {
      "model_module": "@jupyter-widgets/base",
      "model_module_version": "1.2.0",
      "model_name": "LayoutModel",
      "state": {}
     },
     "63c2caa7ee1a47beaa3eb8524182ec6b": {
      "model_module": "@jupyter-widgets/base",
      "model_module_version": "1.2.0",
      "model_name": "LayoutModel",
      "state": {}
     },
     "64521613d98d418d8735b0717bf26b2e": {
      "model_module": "@jupyter-widgets/controls",
      "model_module_version": "1.5.0",
      "model_name": "DropdownModel",
      "state": {
       "_options_labels": [
        "days",
        "weeks",
        "months",
        "years"
       ],
       "description": "longest_sober_period",
       "index": 0,
       "layout": "IPY_MODEL_6ca1abb4c0974a9b85bd5dd3b0292df2",
       "style": "IPY_MODEL_519e1974b8cc4adeb227605ced65e98a"
      }
     },
     "647627993b8d4f7bb5b9261ee5b00538": {
      "model_module": "@jupyter-widgets/base",
      "model_module_version": "1.2.0",
      "model_name": "LayoutModel",
      "state": {}
     },
     "649b3c08d6174a80860b91849c000cfe": {
      "model_module": "@jupyter-widgets/controls",
      "model_module_version": "1.5.0",
      "model_name": "DescriptionStyleModel",
      "state": {
       "description_width": ""
      }
     },
     "64a6755a00f54085961656b06152b60f": {
      "model_module": "@jupyter-widgets/base",
      "model_module_version": "1.2.0",
      "model_name": "LayoutModel",
      "state": {}
     },
     "64cea7954bdf45158c38ac028ee11bbe": {
      "model_module": "@jupyter-widgets/controls",
      "model_module_version": "1.5.0",
      "model_name": "CheckboxModel",
      "state": {
       "description": "LSD",
       "disabled": false,
       "layout": "IPY_MODEL_26cce6ec3f1d474f8789bb5d2628b2cc",
       "style": "IPY_MODEL_d14b0e2a879f4e198b0e810967da93e2",
       "value": false
      }
     },
     "65a2317457384a849d283e07a418d839": {
      "model_module": "@jupyter-widgets/base",
      "model_module_version": "1.2.0",
      "model_name": "LayoutModel",
      "state": {}
     },
     "6605691a004641ada8f1651003ed15fc": {
      "model_module": "@jupyter-widgets/controls",
      "model_module_version": "1.5.0",
      "model_name": "BoundedIntTextModel",
      "state": {
       "description": "Age:",
       "layout": "IPY_MODEL_71b1ff344a7e48418707ec385870d1e0",
       "max": 200,
       "style": "IPY_MODEL_8a4b0ae12c694148b5458fad70937601",
       "value": 33
      }
     },
     "66072c2b35d942b4badb5d0c5fd6e8dc": {
      "model_module": "@jupyter-widgets/controls",
      "model_module_version": "1.5.0",
      "model_name": "CheckboxModel",
      "state": {
       "description": "ptsd",
       "disabled": false,
       "layout": "IPY_MODEL_e2ceb9a3e76243818ae48de125f7f22f",
       "style": "IPY_MODEL_1f1fa295806b4446992b7a8b22ec9e42",
       "value": false
      }
     },
     "661ee0eea7e14ababd2e4f0d8a727488": {
      "model_module": "@jupyter-widgets/controls",
      "model_module_version": "1.5.0",
      "model_name": "CheckboxModel",
      "state": {
       "description": "depression",
       "disabled": false,
       "layout": "IPY_MODEL_36ad2f20a16d4267a502e1627b1a3a4f",
       "style": "IPY_MODEL_ff2c1c615ffc4e069a097caad53f74e4",
       "value": false
      }
     },
     "662995f160864b268af0f9fd4a33c1da": {
      "model_module": "@jupyter-widgets/base",
      "model_module_version": "1.2.0",
      "model_name": "LayoutModel",
      "state": {}
     },
     "6647c7359711476fa3441b49d35940f1": {
      "model_module": "@jupyter-widgets/controls",
      "model_module_version": "1.5.0",
      "model_name": "CheckboxModel",
      "state": {
       "description": "depression",
       "disabled": false,
       "layout": "IPY_MODEL_5392758271004ee9a24712f878bd32d2",
       "style": "IPY_MODEL_b5b5d7e71206418fb85d55b357634a64",
       "value": false
      }
     },
     "668d925c2900429c928c057dd1d53897": {
      "model_module": "@jupyter-widgets/controls",
      "model_module_version": "1.5.0",
      "model_name": "VBoxModel",
      "state": {
       "_dom_classes": [
        "widget-interact"
       ],
       "children": [
        "IPY_MODEL_fd779708d217456ebfe2d938b21d8f36",
        "IPY_MODEL_93ddbe9ffbf74014a743bfd32dd9aa95",
        "IPY_MODEL_8b86e50d81704396a9c9a94f6972f4af",
        "IPY_MODEL_26a8e5c5f5ca43b5840ac2a329e17c8f",
        "IPY_MODEL_d80f9afdfd7346dfbd8143ef27371458",
        "IPY_MODEL_456c2c8ceb534651b895d0b983e6c2e0"
       ],
       "layout": "IPY_MODEL_662995f160864b268af0f9fd4a33c1da"
      }
     },
     "669ce9992fd4446481c908cbbe4670d1": {
      "model_module": "@jupyter-widgets/base",
      "model_module_version": "1.2.0",
      "model_name": "LayoutModel",
      "state": {}
     },
     "66a430e7b20942e59301983c5acf6ffa": {
      "model_module": "@jupyter-widgets/controls",
      "model_module_version": "1.5.0",
      "model_name": "VBoxModel",
      "state": {
       "_dom_classes": [
        "widget-interact"
       ],
       "children": [
        "IPY_MODEL_0fdc07c698284a828f1abd66c43222c9",
        "IPY_MODEL_2bde354aab0b4e5b851f9de84be6fc5f",
        "IPY_MODEL_9e12a70cc0b24b5d8517d407f5320012",
        "IPY_MODEL_ede372a445d14fd4b6003f6f411a8cc4",
        "IPY_MODEL_2371ac8a6a43444f8ce214732cc4dd78",
        "IPY_MODEL_a26755ee5b7c4a18bb07a20e1ae21f13",
        "IPY_MODEL_c91f1f18a95f4878a8fd6b84c0b78486",
        "IPY_MODEL_54d99072a43a4502bffb34e399f836c6",
        "IPY_MODEL_ffad1dd90e374cda88cf494b6656040c",
        "IPY_MODEL_a038eb9d369d4c1cae614594be440edf",
        "IPY_MODEL_71101c1c1f434aadbe70a384b7d6ead2",
        "IPY_MODEL_0c21d30145334326b659737add6065f8",
        "IPY_MODEL_2ceb7af84c4946c896077c90868a3493"
       ],
       "layout": "IPY_MODEL_f9207524794246e6940873bfb8a22f5f"
      }
     },
     "6715f24fa8064b32b90c38d9c31e71fc": {
      "model_module": "@jupyter-widgets/base",
      "model_module_version": "1.2.0",
      "model_name": "LayoutModel",
      "state": {}
     },
     "67370c9cd4bd4580941c699fea1a7461": {
      "model_module": "@jupyter-widgets/controls",
      "model_module_version": "1.5.0",
      "model_name": "HBoxModel",
      "state": {
       "children": [
        "IPY_MODEL_266a354315ed42b59ab0dc4cb78d46b7",
        "IPY_MODEL_261ec2350e26422f8d1701de9d9e9f17",
        "IPY_MODEL_09e686a54dca40eeb7686f6cc14cfbd4"
       ],
       "layout": "IPY_MODEL_cc1f1a26b16147a9be65e46d49fe9365"
      }
     },
     "675b91ab8f6f4d088f477d6ba4a94f13": {
      "model_module": "@jupyter-widgets/controls",
      "model_module_version": "1.5.0",
      "model_name": "DescriptionStyleModel",
      "state": {
       "description_width": "150px"
      }
     },
     "675c4d9b47ca47198e9df8509e6dca5b": {
      "model_module": "@jupyter-widgets/controls",
      "model_module_version": "1.5.0",
      "model_name": "DescriptionStyleModel",
      "state": {
       "description_width": "150px"
      }
     },
     "677f2cde3a8a473b9d6819ea05cd0a7d": {
      "model_module": "@jupyter-widgets/controls",
      "model_module_version": "1.5.0",
      "model_name": "CheckboxModel",
      "state": {
       "description": "insomnia",
       "disabled": false,
       "layout": "IPY_MODEL_a5c49bdcaea7463897ff54336f53932d",
       "style": "IPY_MODEL_9088bb1dd7f8447ca1c2492c1de070f4",
       "value": false
      }
     },
     "67d67f520d934261be75e65e6530d20b": {
      "model_module": "@jupyter-widgets/controls",
      "model_module_version": "1.5.0",
      "model_name": "CheckboxModel",
      "state": {
       "description": "no drug",
       "disabled": false,
       "layout": "IPY_MODEL_8c44633ac66c40e781b6ccdf57a106a9",
       "style": "IPY_MODEL_73996ebecf3342d2867d5c021b040d7c",
       "value": false
      }
     },
     "68069fdede4a4320aa3769ace50bc1eb": {
      "model_module": "@jupyter-widgets/controls",
      "model_module_version": "1.5.0",
      "model_name": "DescriptionStyleModel",
      "state": {
       "description_width": "150px"
      }
     },
     "684807c1734e42a386127081e7ce69c4": {
      "model_module": "@jupyter-widgets/controls",
      "model_module_version": "1.5.0",
      "model_name": "CheckboxModel",
      "state": {
       "description": "opioid",
       "disabled": false,
       "layout": "IPY_MODEL_63c2caa7ee1a47beaa3eb8524182ec6b",
       "style": "IPY_MODEL_1ab90ce796884dd4b75450cb823d5c18",
       "value": false
      }
     },
     "6894bdaa2f8c49dea8d1ded4d6944696": {
      "model_module": "@jupyter-widgets/controls",
      "model_module_version": "1.5.0",
      "model_name": "TextareaModel",
      "state": {
       "description": "notes",
       "layout": "IPY_MODEL_42f9ab8dcbd947b893f1ada0c235c49a",
       "style": "IPY_MODEL_dc8774d54b1a43748ca034f068c7e6fe"
      }
     },
     "68b9cf5b194e4530972c8529c5f8e8c8": {
      "model_module": "@jupyter-widgets/base",
      "model_module_version": "1.2.0",
      "model_name": "LayoutModel",
      "state": {}
     },
     "69a54f74587b4e90b16986775ae7f824": {
      "model_module": "@jupyter-widgets/controls",
      "model_module_version": "1.5.0",
      "model_name": "DescriptionStyleModel",
      "state": {
       "description_width": "150px"
      }
     },
     "69bb34c7c9f84b828714616ef1ac5328": {
      "model_module": "@jupyter-widgets/base",
      "model_module_version": "1.2.0",
      "model_name": "LayoutModel",
      "state": {}
     },
     "69caa707dd784aea94fbc47c2fc20a20": {
      "model_module": "@jupyter-widgets/controls",
      "model_module_version": "1.5.0",
      "model_name": "DescriptionStyleModel",
      "state": {
       "description_width": "150px"
      }
     },
     "6a39c82d33bc4372ab7ef303ac3323b7": {
      "model_module": "@jupyter-widgets/controls",
      "model_module_version": "1.5.0",
      "model_name": "VBoxModel",
      "state": {
       "_dom_classes": [
        "widget-interact"
       ],
       "children": [
        "IPY_MODEL_ae6ee73db4f44aa38ab58a6140657d54",
        "IPY_MODEL_ddaab07c1a0e4699b16ec8851895c9a5",
        "IPY_MODEL_0747dec3ec974d3a91a48425419b5e4b",
        "IPY_MODEL_232280cc65444fa9983a4d50a3293b08",
        "IPY_MODEL_59c25275f0c941438a1ce54c64848f37",
        "IPY_MODEL_09efe573216e41edb66bc77815eebc1e"
       ],
       "layout": "IPY_MODEL_a13932304b6849058e07f51ad68b3584"
      }
     },
     "6aa0c07cc39e4a28aac32d2168f28d7f": {
      "model_module": "@jupyter-widgets/base",
      "model_module_version": "1.2.0",
      "model_name": "LayoutModel",
      "state": {}
     },
     "6ae43f3cf99d48ccb9f831d722f93b3c": {
      "model_module": "@jupyter-widgets/base",
      "model_module_version": "1.2.0",
      "model_name": "LayoutModel",
      "state": {}
     },
     "6b01526bb3e54f1da8fe80a508337ae0": {
      "model_module": "@jupyter-widgets/base",
      "model_module_version": "1.2.0",
      "model_name": "LayoutModel",
      "state": {}
     },
     "6b15f0994d554b8f92cbc8c0ec311b59": {
      "model_module": "@jupyter-widgets/controls",
      "model_module_version": "1.5.0",
      "model_name": "DescriptionStyleModel",
      "state": {
       "description_width": ""
      }
     },
     "6b4bad9abb514a22b29d696393d58db4": {
      "model_module": "@jupyter-widgets/controls",
      "model_module_version": "1.5.0",
      "model_name": "DropdownModel",
      "state": {
       "_options_labels": [
        "denies",
        "endorses"
       ],
       "description": "sleep",
       "index": 0,
       "layout": "IPY_MODEL_42f9ab8dcbd947b893f1ada0c235c49a",
       "style": "IPY_MODEL_1c70024d70b748ab9e7521f132c5e652"
      }
     },
     "6ba3868fd8e94261bade00383e151850": {
      "model_module": "@jupyter-widgets/controls",
      "model_module_version": "1.5.0",
      "model_name": "TextareaModel",
      "state": {
       "description": "notes",
       "layout": "IPY_MODEL_6ca1abb4c0974a9b85bd5dd3b0292df2",
       "style": "IPY_MODEL_5c611c636697430494e4fe0263b721b5"
      }
     },
     "6bd671d4a35f4eb58d3d4264880c629e": {
      "model_module": "@jupyter-widgets/controls",
      "model_module_version": "1.5.0",
      "model_name": "DescriptionStyleModel",
      "state": {
       "description_width": ""
      }
     },
     "6c2b018c3f16432fa091d0717c32edcb": {
      "model_module": "@jupyter-widgets/controls",
      "model_module_version": "1.5.0",
      "model_name": "DropdownModel",
      "state": {
       "_options_labels": [
        "denies",
        "endorses"
       ],
       "description": "HIV Medical",
       "index": 0,
       "layout": "IPY_MODEL_42f9ab8dcbd947b893f1ada0c235c49a",
       "style": "IPY_MODEL_9da7cd80ca6a4b1492650f34d9ed28a3"
      }
     },
     "6c2cf19889ec48e6b1d677f8f1d8a7bb": {
      "model_module": "@jupyter-widgets/controls",
      "model_module_version": "1.5.0",
      "model_name": "CheckboxModel",
      "state": {
       "description": "schizophrenia",
       "disabled": false,
       "layout": "IPY_MODEL_669ce9992fd4446481c908cbbe4670d1",
       "style": "IPY_MODEL_a03b6ba64d394566afb9caf70e6e40ae",
       "value": false
      }
     },
     "6c6315c24a824a2db838e0bb819d1939": {
      "model_module": "@jupyter-widgets/controls",
      "model_module_version": "1.5.0",
      "model_name": "DescriptionStyleModel",
      "state": {
       "description_width": "150px"
      }
     },
     "6c7777371de240768d724aba8f02aac3": {
      "model_module": "@jupyter-widgets/controls",
      "model_module_version": "1.5.0",
      "model_name": "VBoxModel",
      "state": {
       "_dom_classes": [
        "widget-interact"
       ],
       "children": [
        "IPY_MODEL_f635e16af781405dbd3655e2be0d348e",
        "IPY_MODEL_b2b766a577684f3c9696aadef30d7bb2",
        "IPY_MODEL_531fd0f79a134458aefdf175c4cedd90",
        "IPY_MODEL_a7b9f247d619440a8df331ff4e56882f"
       ],
       "layout": "IPY_MODEL_23a964681dd2439f802eb2f24a5b38f0"
      }
     },
     "6ca1abb4c0974a9b85bd5dd3b0292df2": {
      "model_module": "@jupyter-widgets/base",
      "model_module_version": "1.2.0",
      "model_name": "LayoutModel",
      "state": {
       "width": "50%"
      }
     },
     "6cbad3a6220446129e04d2e52c5bb991": {
      "model_module": "@jupyter-widgets/controls",
      "model_module_version": "1.5.0",
      "model_name": "DescriptionStyleModel",
      "state": {
       "description_width": "150px"
      }
     },
     "6ceba6a1f6a641ed9513fd787ae5f42e": {
      "model_module": "@jupyter-widgets/controls",
      "model_module_version": "1.5.0",
      "model_name": "DescriptionStyleModel",
      "state": {
       "description_width": "150px"
      }
     },
     "6cef39ea73954365b04f4c3fd59f5152": {
      "model_module": "@jupyter-widgets/base",
      "model_module_version": "1.2.0",
      "model_name": "LayoutModel",
      "state": {}
     },
     "6cfdbcabdc1b44569b981f255c2644bd": {
      "model_module": "@jupyter-widgets/controls",
      "model_module_version": "1.5.0",
      "model_name": "HBoxModel",
      "state": {
       "children": [
        "IPY_MODEL_3f462d4598324abdb5671c039ca31420"
       ],
       "layout": "IPY_MODEL_de2f6ea8c4954a26ab312f63fad5840e"
      }
     },
     "6d5a0aa5756d4dd693737cff95101b31": {
      "model_module": "@jupyter-widgets/controls",
      "model_module_version": "1.5.0",
      "model_name": "CheckboxModel",
      "state": {
       "description": "ketamine",
       "disabled": false,
       "layout": "IPY_MODEL_5dc9e0312f184e86bf0a3fca40dc14c8",
       "style": "IPY_MODEL_b7edcd07cf89498bbf64800d632de02f",
       "value": false
      }
     },
     "6d8f0c1d8d4045fba38dd097430d9cc5": {
      "model_module": "@jupyter-widgets/base",
      "model_module_version": "1.2.0",
      "model_name": "LayoutModel",
      "state": {}
     },
     "6de71875702d459eb9e4dc1a1b7baa63": {
      "model_module": "@jupyter-widgets/base",
      "model_module_version": "1.2.0",
      "model_name": "LayoutModel",
      "state": {}
     },
     "6e1c70cafdec44cb996559cafbe2baab": {
      "model_module": "@jupyter-widgets/controls",
      "model_module_version": "1.5.0",
      "model_name": "DescriptionStyleModel",
      "state": {
       "description_width": ""
      }
     },
     "6e1dd01c29294572b2ae5e77ed6d3914": {
      "model_module": "@jupyter-widgets/controls",
      "model_module_version": "1.5.0",
      "model_name": "DropdownModel",
      "state": {
       "_options_labels": [
        "single",
        "married"
       ],
       "description": "married",
       "index": 0,
       "layout": "IPY_MODEL_6ca1abb4c0974a9b85bd5dd3b0292df2",
       "style": "IPY_MODEL_7937e999e14b450798d5d4353c1944a1"
      }
     },
     "6eee785cd9cb4d09bef37f73eb6ccf77": {
      "model_module": "@jupyter-widgets/controls",
      "model_module_version": "1.5.0",
      "model_name": "DescriptionStyleModel",
      "state": {
       "description_width": "150px"
      }
     },
     "6f0cf25e2ef6486393b23c572a305574": {
      "model_module": "@jupyter-widgets/controls",
      "model_module_version": "1.5.0",
      "model_name": "ComboboxModel",
      "state": {
       "description": "home",
       "ensure_option": false,
       "layout": "IPY_MODEL_6ca1abb4c0974a9b85bd5dd3b0292df2",
       "options": [
        "in sober living",
        "at home"
       ],
       "style": "IPY_MODEL_04af655214624d2e8e50e7df78571659"
      }
     },
     "6f3c245117304878aae48777c1c18530": {
      "model_module": "@jupyter-widgets/controls",
      "model_module_version": "1.5.0",
      "model_name": "DescriptionStyleModel",
      "state": {
       "description_width": ""
      }
     },
     "6fa37ed0f1554e59b18d6db20998ed77": {
      "model_module": "@jupyter-widgets/controls",
      "model_module_version": "1.5.0",
      "model_name": "DescriptionStyleModel",
      "state": {
       "description_width": ""
      }
     },
     "6fe3b9fd37584b6ea0c556dc4a7e7ce9": {
      "model_module": "@jupyter-widgets/controls",
      "model_module_version": "1.5.0",
      "model_name": "DescriptionStyleModel",
      "state": {
       "description_width": "150px"
      }
     },
     "6ff88cf937ba464d89238e6d6bdf5126": {
      "model_module": "@jupyter-widgets/controls",
      "model_module_version": "1.5.0",
      "model_name": "VBoxModel",
      "state": {
       "_dom_classes": [
        "widget-interact"
       ],
       "children": [
        "IPY_MODEL_185c2fdccae74d32b9464eb61fbab848",
        "IPY_MODEL_b4fd745ee258423680d316683ffa8551",
        "IPY_MODEL_7e93910711df4d509a340f28fd909900",
        "IPY_MODEL_14a2078f5cae4085a9d89f3d8d44d39a",
        "IPY_MODEL_fa6f3e952cea4c029f3a79ad017777fb",
        "IPY_MODEL_8f1b12aed711460b8ace781cdf0b6f6b",
        "IPY_MODEL_44da7cd9218d4866b6c36cff062f4283"
       ],
       "layout": "IPY_MODEL_fb5da8996da44c8995b64fe445de7ee1"
      }
     },
     "7017f804a39e4adabe23748d678138fa": {
      "model_module": "@jupyter-widgets/base",
      "model_module_version": "1.2.0",
      "model_name": "LayoutModel",
      "state": {}
     },
     "70497cd9107a479b8aa7ac474d1c00f4": {
      "model_module": "@jupyter-widgets/controls",
      "model_module_version": "1.5.0",
      "model_name": "DescriptionStyleModel",
      "state": {
       "description_width": "150px"
      }
     },
     "7080b8fe632f41eca8f8b190b6d9743d": {
      "model_module": "@jupyter-widgets/controls",
      "model_module_version": "1.5.0",
      "model_name": "DescriptionStyleModel",
      "state": {
       "description_width": ""
      }
     },
     "70b18ea143804428aa97d6a26d028c95": {
      "model_module": "@jupyter-widgets/controls",
      "model_module_version": "1.5.0",
      "model_name": "DescriptionStyleModel",
      "state": {
       "description_width": ""
      }
     },
     "70e520ff64114ce28b809c40b9e2653e": {
      "model_module": "@jupyter-widgets/controls",
      "model_module_version": "1.5.0",
      "model_name": "CheckboxModel",
      "state": {
       "description": "sedative, hypnotic, or anxiolytic",
       "disabled": false,
       "layout": "IPY_MODEL_e67ad8129986462da9005141287301b8",
       "style": "IPY_MODEL_ac207d9880794d00921e0fa7c98bb5c1",
       "value": false
      }
     },
     "71060e427de54618902962f6238da8e7": {
      "model_module": "@jupyter-widgets/controls",
      "model_module_version": "1.5.0",
      "model_name": "DescriptionStyleModel",
      "state": {
       "description_width": ""
      }
     },
     "71101c1c1f434aadbe70a384b7d6ead2": {
      "model_module": "@jupyter-widgets/controls",
      "model_module_version": "1.5.0",
      "model_name": "DropdownModel",
      "state": {
       "_options_labels": [
        "denies",
        "endorses"
       ],
       "description": "mania",
       "index": 0,
       "layout": "IPY_MODEL_6ca1abb4c0974a9b85bd5dd3b0292df2",
       "style": "IPY_MODEL_d72b1770a89546f981d0ebcb2cf495a5"
      }
     },
     "711fefc230ee48b69cf933fb3454ad48": {
      "model_module": "@jupyter-widgets/controls",
      "model_module_version": "1.5.0",
      "model_name": "HBoxModel",
      "state": {
       "children": [
        "IPY_MODEL_cebd19c6df1341f08f0cc4925a81ab39",
        "IPY_MODEL_bb85d42d74094b5da0fde33aec444ff2"
       ],
       "layout": "IPY_MODEL_3cc54dce08bb4caa9160372fd30997b9"
      }
     },
     "7126b31879cd4bbb938464694a2faa93": {
      "model_module": "@jupyter-widgets/controls",
      "model_module_version": "1.5.0",
      "model_name": "ComboboxModel",
      "state": {
       "description": "Med Statement",
       "ensure_option": false,
       "layout": "IPY_MODEL_42f9ab8dcbd947b893f1ada0c235c49a",
       "options": [
        "Patient declines psychotropic medication and elects for more conservative approaches to psychiatric symptom management at this time."
       ],
       "style": "IPY_MODEL_940242bff2974e03b663d10acd8c3b40"
      }
     },
     "71804081b4464299be5411e3c6552d64": {
      "model_module": "@jupyter-widgets/controls",
      "model_module_version": "1.5.0",
      "model_name": "TextareaModel",
      "state": {
       "description": "Treatment Reason",
       "layout": "IPY_MODEL_42f9ab8dcbd947b893f1ada0c235c49a",
       "placeholder": "Type Something",
       "style": "IPY_MODEL_b5b0450336d84516b6b7dfdd51f95531"
      }
     },
     "71b1ff344a7e48418707ec385870d1e0": {
      "model_module": "@jupyter-widgets/base",
      "model_module_version": "1.2.0",
      "model_name": "LayoutModel",
      "state": {}
     },
     "71b200da96ca427282116f5a72527fb5": {
      "model_module": "@jupyter-widgets/controls",
      "model_module_version": "1.5.0",
      "model_name": "DescriptionStyleModel",
      "state": {
       "description_width": ""
      }
     },
     "71d56dc00fdb42fdb29684cccb4bd281": {
      "model_module": "@jupyter-widgets/base",
      "model_module_version": "1.2.0",
      "model_name": "LayoutModel",
      "state": {}
     },
     "71e941cd97ca45ce962693374f1a6c23": {
      "model_module": "@jupyter-widgets/controls",
      "model_module_version": "1.5.0",
      "model_name": "DescriptionStyleModel",
      "state": {
       "description_width": "150px"
      }
     },
     "72489107f37c4a9b8532fa6c0df62dbf": {
      "model_module": "@jupyter-widgets/base",
      "model_module_version": "1.2.0",
      "model_name": "LayoutModel",
      "state": {}
     },
     "728238e5175b4a55a0199637b260d23f": {
      "model_module": "@jupyter-widgets/controls",
      "model_module_version": "1.5.0",
      "model_name": "DescriptionStyleModel",
      "state": {
       "description_width": ""
      }
     },
     "72b8e769f7594a97b7f1a32e940a65a1": {
      "model_module": "@jupyter-widgets/base",
      "model_module_version": "1.2.0",
      "model_name": "LayoutModel",
      "state": {}
     },
     "72f190f44449488e92faf1a09c39db38": {
      "model_module": "@jupyter-widgets/controls",
      "model_module_version": "1.5.0",
      "model_name": "TextModel",
      "state": {
       "description": "notes",
       "layout": "IPY_MODEL_42f9ab8dcbd947b893f1ada0c235c49a",
       "style": "IPY_MODEL_f39e2041fd0b473199e19fea431da9eb"
      }
     },
     "73996ebecf3342d2867d5c021b040d7c": {
      "model_module": "@jupyter-widgets/controls",
      "model_module_version": "1.5.0",
      "model_name": "DescriptionStyleModel",
      "state": {
       "description_width": ""
      }
     },
     "74010bb917cc4350860d7aa77a2f4ada": {
      "model_module": "@jupyter-widgets/controls",
      "model_module_version": "1.5.0",
      "model_name": "DropdownModel",
      "state": {
       "_options_labels": [
        "male",
        "female",
        "nb"
       ],
       "description": "gender:",
       "index": 0,
       "layout": "IPY_MODEL_7f7c0c06d9464558940d714cd9b034b2",
       "style": "IPY_MODEL_00f3228b9abb4c1f8636d508e7cdf07f"
      }
     },
     "741d14126fae48b2b5f59948f9115e97": {
      "model_module": "@jupyter-widgets/base",
      "model_module_version": "1.2.0",
      "model_name": "LayoutModel",
      "state": {}
     },
     "745a99505ef6498a9e8ed6f1ebe79fd6": {
      "model_module": "@jupyter-widgets/controls",
      "model_module_version": "1.5.0",
      "model_name": "CheckboxModel",
      "state": {
       "description": "depression",
       "disabled": false,
       "layout": "IPY_MODEL_3164eb6553db43b4a17144fffdf09433",
       "style": "IPY_MODEL_a67c0058004b42b085f68857b4b6226d",
       "value": false
      }
     },
     "745fd48bb7dc4d309ec54fb032a80ecf": {
      "model_module": "@jupyter-widgets/base",
      "model_module_version": "1.2.0",
      "model_name": "LayoutModel",
      "state": {}
     },
     "74b04b0b20364944b1d89ab6066179e5": {
      "model_module": "@jupyter-widgets/base",
      "model_module_version": "1.2.0",
      "model_name": "LayoutModel",
      "state": {}
     },
     "74f7dfea26364f9f8d6c75f5c1956aeb": {
      "model_module": "@jupyter-widgets/controls",
      "model_module_version": "1.5.0",
      "model_name": "TextareaModel",
      "state": {
       "description": "Negative Impact",
       "layout": "IPY_MODEL_42f9ab8dcbd947b893f1ada0c235c49a",
       "placeholder": "Type Something",
       "style": "IPY_MODEL_80873c832353434584e0317fef3c5cd6"
      }
     },
     "74fc5f66ce5d43c2ae4b563eda441b3c": {
      "model_module": "@jupyter-widgets/controls",
      "model_module_version": "1.5.0",
      "model_name": "DescriptionStyleModel",
      "state": {
       "description_width": "150px"
      }
     },
     "751866c969d24e339d6daa11188f15f6": {
      "model_module": "@jupyter-widgets/controls",
      "model_module_version": "1.5.0",
      "model_name": "DescriptionStyleModel",
      "state": {
       "description_width": "150px"
      }
     },
     "7549e394377047338f9584bac690913f": {
      "model_module": "@jupyter-widgets/controls",
      "model_module_version": "1.5.0",
      "model_name": "DescriptionStyleModel",
      "state": {
       "description_width": ""
      }
     },
     "75980e74a0d9412584c2f3d286b46050": {
      "model_module": "@jupyter-widgets/base",
      "model_module_version": "1.2.0",
      "model_name": "LayoutModel",
      "state": {}
     },
     "759ad814c511499599219d0b6a8e8a8d": {
      "model_module": "@jupyter-widgets/base",
      "model_module_version": "1.2.0",
      "model_name": "LayoutModel",
      "state": {}
     },
     "75b1848f9a2642268dacaa7e16e9ac6e": {
      "model_module": "@jupyter-widgets/base",
      "model_module_version": "1.2.0",
      "model_name": "LayoutModel",
      "state": {}
     },
     "75dbab08417248d49a33e208315f731a": {
      "model_module": "@jupyter-widgets/controls",
      "model_module_version": "1.5.0",
      "model_name": "VBoxModel",
      "state": {
       "_dom_classes": [
        "widget-interact"
       ],
       "children": [
        "IPY_MODEL_06addb645684467ca422bf4edd76a309",
        "IPY_MODEL_5329c11e09e04847bf9932360ae23df2",
        "IPY_MODEL_384d151c539042d8b923e7a2882f0291",
        "IPY_MODEL_7a39e8b869844a7890a5fb2cd4957899",
        "IPY_MODEL_d7b7c16a1fb64f498baffcc42a14dce9",
        "IPY_MODEL_ce06f6e7b1a0400192634ae18e6b98e3",
        "IPY_MODEL_629d799977ba49aeb539f64522b569ee",
        "IPY_MODEL_867f88918fc349dcb0f564594982fc87",
        "IPY_MODEL_3c9d4d589e544db08c0cbbbcc7568ab9"
       ],
       "layout": "IPY_MODEL_fe779ac7a7034dcf8bd6ea5ef053ffca"
      }
     },
     "75e27a4c3d1249a5b494461ac97c75f2": {
      "model_module": "@jupyter-widgets/base",
      "model_module_version": "1.2.0",
      "model_name": "LayoutModel",
      "state": {}
     },
     "761d36515bb74b23a320294f825f01ec": {
      "model_module": "@jupyter-widgets/controls",
      "model_module_version": "1.5.0",
      "model_name": "DescriptionStyleModel",
      "state": {
       "description_width": ""
      }
     },
     "764c465f802c4e98b79f402cf672c06a": {
      "model_module": "@jupyter-widgets/controls",
      "model_module_version": "1.5.0",
      "model_name": "CheckboxModel",
      "state": {
       "description": "fentanyl",
       "disabled": false,
       "layout": "IPY_MODEL_a40dc7ac397f441aa66fe2e3d10ae3a9",
       "style": "IPY_MODEL_b5366678f9ec424f9b1e86b1d22d5448",
       "value": false
      }
     },
     "76502f42417f4237825e27dd7e63e3a8": {
      "model_module": "@jupyter-widgets/base",
      "model_module_version": "1.2.0",
      "model_name": "LayoutModel",
      "state": {}
     },
     "76a10f31322a43af83a1921ef410fa46": {
      "model_module": "@jupyter-widgets/controls",
      "model_module_version": "1.5.0",
      "model_name": "DropdownModel",
      "state": {
       "_options_labels": [
        "denies",
        "endorses"
       ],
       "description": "TBI Medical",
       "index": 0,
       "layout": "IPY_MODEL_42f9ab8dcbd947b893f1ada0c235c49a",
       "style": "IPY_MODEL_481776b32c5c461e8fdd176d1775eb27"
      }
     },
     "7730cf903d0d48b5ad9ab08246f96064": {
      "model_module": "@jupyter-widgets/controls",
      "model_module_version": "1.5.0",
      "model_name": "DescriptionStyleModel",
      "state": {
       "description_width": "150px"
      }
     },
     "778a57f152f84061af3750efed46c044": {
      "model_module": "@jupyter-widgets/base",
      "model_module_version": "1.2.0",
      "model_name": "LayoutModel",
      "state": {}
     },
     "783073b8c24643f584d290521162b8a6": {
      "model_module": "@jupyter-widgets/controls",
      "model_module_version": "1.5.0",
      "model_name": "VBoxModel",
      "state": {
       "children": [
        "IPY_MODEL_d34e3fea8b614e79a9f2a2717c7f1162",
        "IPY_MODEL_c096380afa1147af8f08257f99854437",
        "IPY_MODEL_857092f81c034fe3a8584c1ce7ce1207",
        "IPY_MODEL_4649d938aef94172be6c6926f349fdd0"
       ],
       "layout": "IPY_MODEL_e3815a20d83f4ada9e60407329027818"
      }
     },
     "78366861c23d4ddb9960d6f0010362de": {
      "model_module": "@jupyter-widgets/controls",
      "model_module_version": "1.5.0",
      "model_name": "DescriptionStyleModel",
      "state": {
       "description_width": ""
      }
     },
     "783feefb4988472daff87d423ea27bb7": {
      "model_module": "@jupyter-widgets/base",
      "model_module_version": "1.2.0",
      "model_name": "LayoutModel",
      "state": {}
     },
     "7859f6e9d3d445468fb7667ae4959a51": {
      "model_module": "@jupyter-widgets/controls",
      "model_module_version": "1.5.0",
      "model_name": "DropdownModel",
      "state": {
       "_options_labels": [
        "denies",
        "endorses"
       ],
       "description": "Withdrawals",
       "index": 0,
       "layout": "IPY_MODEL_42f9ab8dcbd947b893f1ada0c235c49a",
       "style": "IPY_MODEL_6ceba6a1f6a641ed9513fd787ae5f42e"
      }
     },
     "788be75013c748298f0620476da29d18": {
      "model_module": "@jupyter-widgets/controls",
      "model_module_version": "1.5.0",
      "model_name": "DescriptionStyleModel",
      "state": {
       "description_width": ""
      }
     },
     "78d7a422c7df49f4a05ddad8dcb1dcfd": {
      "model_module": "@jupyter-widgets/controls",
      "model_module_version": "1.5.0",
      "model_name": "CheckboxModel",
      "state": {
       "description": "cocaine",
       "disabled": false,
       "layout": "IPY_MODEL_ea4dfd82262f410fbc59ad2258768c06",
       "style": "IPY_MODEL_106fa938035e4971883163fd284acb63",
       "value": false
      }
     },
     "79216363d026439eb835689a21dde077": {
      "model_module": "@jupyter-widgets/controls",
      "model_module_version": "1.5.0",
      "model_name": "DescriptionStyleModel",
      "state": {
       "description_width": ""
      }
     },
     "7937e999e14b450798d5d4353c1944a1": {
      "model_module": "@jupyter-widgets/controls",
      "model_module_version": "1.5.0",
      "model_name": "DescriptionStyleModel",
      "state": {
       "description_width": "150px"
      }
     },
     "7991a48e061b445cb37fee4b717fc943": {
      "model_module": "@jupyter-widgets/output",
      "model_module_version": "1.0.0",
      "model_name": "OutputModel",
      "state": {
       "layout": "IPY_MODEL_54e79be693a0499eb9969b9ecebccc0e",
       "outputs": [
        {
         "name": "stdout",
         "output_type": "stream",
         "text": "\nThe patient reported no history of mania.\nThe patient reported no history of psychosis. \nThe patient reported no history of  learning disabilities, OCD or tics. \nThe patient reported no history of an eating disorder. \nThe patient reported no history of compulsive gambling, problematic internet/video game use, compulsive shopping, or sexual addiction. \n\n\n"
        }
       ]
      }
     },
     "7a39e8b869844a7890a5fb2cd4957899": {
      "model_module": "@jupyter-widgets/controls",
      "model_module_version": "1.5.0",
      "model_name": "DropdownModel",
      "state": {
       "_options_labels": [
        "declines",
        "elects to start",
        "would like to continue with"
       ],
       "description": "anti_cravings_choice",
       "index": 0,
       "layout": "IPY_MODEL_6ca1abb4c0974a9b85bd5dd3b0292df2",
       "style": "IPY_MODEL_7f8d57510c3f4f558634faf9b5594807"
      }
     },
     "7a54aa3f4dc34b70b6f7de5167f819c5": {
      "model_module": "@jupyter-widgets/controls",
      "model_module_version": "1.5.0",
      "model_name": "DescriptionStyleModel",
      "state": {
       "description_width": "150px"
      }
     },
     "7a62617c720544d79d756fc93c08d1d6": {
      "model_module": "@jupyter-widgets/controls",
      "model_module_version": "1.5.0",
      "model_name": "ComboboxModel",
      "state": {
       "description": "Med Compliant",
       "ensure_option": false,
       "layout": "IPY_MODEL_42f9ab8dcbd947b893f1ada0c235c49a",
       "options": [
        "Patient reports that they have been compliant with their psychotropic medication regimen and denies adverse effects",
        "Patient reports that they have been non-compliant with their psychotropic medication regimen and denies adverse effects"
       ],
       "style": "IPY_MODEL_b8fea1879de34e5da9a959e3b90042f8"
      }
     },
     "7ae76332db7f43cdbb91b0eee19c91df": {
      "model_module": "@jupyter-widgets/base",
      "model_module_version": "1.2.0",
      "model_name": "LayoutModel",
      "state": {}
     },
     "7b76d518b45448308bd79ae2418f506c": {
      "model_module": "@jupyter-widgets/base",
      "model_module_version": "1.2.0",
      "model_name": "LayoutModel",
      "state": {}
     },
     "7b8f932395fe4431bfdcb103e2e4e867": {
      "model_module": "@jupyter-widgets/base",
      "model_module_version": "1.2.0",
      "model_name": "LayoutModel",
      "state": {}
     },
     "7be105d767af4af7936cca69ab4e1731": {
      "model_module": "@jupyter-widgets/controls",
      "model_module_version": "1.5.0",
      "model_name": "DescriptionStyleModel",
      "state": {
       "description_width": ""
      }
     },
     "7c1ed0089d7845fbbb56f448b9c8805c": {
      "model_module": "@jupyter-widgets/controls",
      "model_module_version": "1.5.0",
      "model_name": "DescriptionStyleModel",
      "state": {
       "description_width": "150px"
      }
     },
     "7c2670ba3142496ab201636a49addfc5": {
      "model_module": "@jupyter-widgets/controls",
      "model_module_version": "1.5.0",
      "model_name": "DescriptionStyleModel",
      "state": {
       "description_width": ""
      }
     },
     "7c807188f17846ecb8cef0c3f166ef78": {
      "model_module": "@jupyter-widgets/base",
      "model_module_version": "1.2.0",
      "model_name": "LayoutModel",
      "state": {}
     },
     "7c82c8765923464d99a6e3c15a143bd2": {
      "model_module": "@jupyter-widgets/controls",
      "model_module_version": "1.5.0",
      "model_name": "CheckboxModel",
      "state": {
       "description": "anxiety",
       "disabled": false,
       "layout": "IPY_MODEL_5acd3e8714824635adf99cea9e44433f",
       "style": "IPY_MODEL_39a26cc7cd8248a8ae129f90119be915",
       "value": false
      }
     },
     "7cb8210c6514418495b1aeb530d30600": {
      "model_module": "@jupyter-widgets/controls",
      "model_module_version": "1.5.0",
      "model_name": "CheckboxModel",
      "state": {
       "description": "cocaine",
       "disabled": false,
       "layout": "IPY_MODEL_1807f406914f490286715e57780785e8",
       "style": "IPY_MODEL_55ebe309af2d4708904af91e0a4be1fc",
       "value": false
      }
     },
     "7cd030d44d14408cad5597e3d167e28a": {
      "model_module": "@jupyter-widgets/controls",
      "model_module_version": "1.5.0",
      "model_name": "DescriptionStyleModel",
      "state": {
       "description_width": ""
      }
     },
     "7cf693c7c23b4dbdbfcb2d50143f105f": {
      "model_module": "@jupyter-widgets/controls",
      "model_module_version": "1.5.0",
      "model_name": "CheckboxModel",
      "state": {
       "description": "ketamine",
       "disabled": false,
       "layout": "IPY_MODEL_d5c47b78fde2486083e49dc23a8d5568",
       "style": "IPY_MODEL_4dba952bb761402986809b8f00b998d5",
       "value": false
      }
     },
     "7d7b2dfdfe864fbe8287c1d24f38c360": {
      "model_module": "@jupyter-widgets/base",
      "model_module_version": "1.2.0",
      "model_name": "LayoutModel",
      "state": {}
     },
     "7dc2d0a896d84ed3a8a852479197610f": {
      "model_module": "@jupyter-widgets/controls",
      "model_module_version": "1.5.0",
      "model_name": "CheckboxModel",
      "state": {
       "description": "mushrooms",
       "disabled": false,
       "layout": "IPY_MODEL_da1a7fd4dee54288a81ecab2eb1a0848",
       "style": "IPY_MODEL_0ee56f744b0a46ea8456026a267d3e49",
       "value": false
      }
     },
     "7dc52b61defe4d30853ade796f319971": {
      "model_module": "@jupyter-widgets/controls",
      "model_module_version": "1.5.0",
      "model_name": "CheckboxModel",
      "state": {
       "description": "Cannabis use disorder Severe",
       "disabled": false,
       "layout": "IPY_MODEL_f6834fed0f5b48cca20a941f8c5aed1e",
       "style": "IPY_MODEL_b8c0538812bd4dcab15b591b25fd2690",
       "value": false
      }
     },
     "7e1333540fc8407fa914fd2291406f46": {
      "model_module": "@jupyter-widgets/output",
      "model_module_version": "1.0.0",
      "model_name": "OutputModel",
      "state": {
       "layout": "IPY_MODEL_2d1ca3f6ec714bdaa0770877bb27a79b",
       "outputs": [
        {
         "name": "stdout",
         "output_type": "stream",
         "text": "\nThe patient denies that they have sustained significant trauma, \ndenies current symptoms of PTSD including flashbacks, nightmares, hypervigilance, triggers, \nand avoidance of triggers.\n\n\n"
        }
       ]
      }
     },
     "7e93910711df4d509a340f28fd909900": {
      "model_module": "@jupyter-widgets/controls",
      "model_module_version": "1.5.0",
      "model_name": "DropdownModel",
      "state": {
       "_options_labels": [
        "denies",
        "endorses"
       ],
       "description": "Self injury",
       "index": 0,
       "layout": "IPY_MODEL_42f9ab8dcbd947b893f1ada0c235c49a",
       "style": "IPY_MODEL_3999a989c395413f9cec5234339c20f8"
      }
     },
     "7e9acd3d5c7e42d4b1841280a1422858": {
      "model_module": "@jupyter-widgets/controls",
      "model_module_version": "1.5.0",
      "model_name": "DescriptionStyleModel",
      "state": {
       "description_width": ""
      }
     },
     "7ebb98245c6b434bab8e2d2dc554a345": {
      "model_module": "@jupyter-widgets/controls",
      "model_module_version": "1.5.0",
      "model_name": "DropdownModel",
      "state": {
       "_options_labels": [
        "declines",
        "elects to start",
        "would like to continue with"
       ],
       "description": "anti_cravings_choice",
       "index": 0,
       "layout": "IPY_MODEL_42f9ab8dcbd947b893f1ada0c235c49a",
       "style": "IPY_MODEL_351292f785ef4077948cfeb0d3395935"
      }
     },
     "7f1ac2c698f94b4a8efbb62a3957641b": {
      "model_module": "@jupyter-widgets/base",
      "model_module_version": "1.2.0",
      "model_name": "LayoutModel",
      "state": {}
     },
     "7f534e385b4a4409a0247b64e5d6739d": {
      "model_module": "@jupyter-widgets/output",
      "model_module_version": "1.0.0",
      "model_name": "OutputModel",
      "state": {
       "layout": "IPY_MODEL_948cb2215bb342479a53558eebc2d573",
       "outputs": [
        {
         "name": "stdout",
         "output_type": "stream",
         "text": "\nSocial History:\nThe patient states that they are single, and have 0 children. \nThey report that they are currently living . \nThe patient denies any history of legal problems.  \nThe patient denies a history of abuse.\n\n\n"
        }
       ]
      }
     },
     "7f7c0c06d9464558940d714cd9b034b2": {
      "model_module": "@jupyter-widgets/base",
      "model_module_version": "1.2.0",
      "model_name": "LayoutModel",
      "state": {}
     },
     "7f8d57510c3f4f558634faf9b5594807": {
      "model_module": "@jupyter-widgets/controls",
      "model_module_version": "1.5.0",
      "model_name": "DescriptionStyleModel",
      "state": {
       "description_width": "150px"
      }
     },
     "7f992d3f48604c4d99118bf8476bab55": {
      "model_module": "@jupyter-widgets/base",
      "model_module_version": "1.2.0",
      "model_name": "LayoutModel",
      "state": {}
     },
     "7fa606936d6042728ac8049e40eb0c99": {
      "model_module": "@jupyter-widgets/base",
      "model_module_version": "1.2.0",
      "model_name": "LayoutModel",
      "state": {}
     },
     "7fb24ccd5a994d4cae7111d33951db14": {
      "model_module": "@jupyter-widgets/controls",
      "model_module_version": "1.5.0",
      "model_name": "DescriptionStyleModel",
      "state": {
       "description_width": "150px"
      }
     },
     "7fb5ee14aee34db8a237660d4f23fbff": {
      "model_module": "@jupyter-widgets/controls",
      "model_module_version": "1.5.0",
      "model_name": "DescriptionStyleModel",
      "state": {
       "description_width": "150px"
      }
     },
     "800c0807edd3497e876a88a00623537e": {
      "model_module": "@jupyter-widgets/controls",
      "model_module_version": "1.5.0",
      "model_name": "DescriptionStyleModel",
      "state": {
       "description_width": "150px"
      }
     },
     "805cefa305994e03954040d8a6e8ee5a": {
      "model_module": "@jupyter-widgets/output",
      "model_module_version": "1.0.0",
      "model_name": "OutputModel",
      "state": {
       "layout": "IPY_MODEL_c06e8f3f696748ab807c98f649265a6f",
       "outputs": [
        {
         "name": "stdout",
         "output_type": "stream",
         "text": "\nThis patient denies current depressed mood. \nOver the past several weeks, the patient denies sustained sadness, denies excessive guilt. \nThe patient denies anhedonia.\nThe patient reports fair ability to concentrate. \nThe patient denies issues with sleep. \nThe patient reports fair appetite.\nReports fair energy level. \nThe patient denies hopelessness, worthlessness, SI/HI/AH/VH/delusions.\nThey indicate they have experienced depressive episodes lasting longer than two weeks in the absence of substance use.\nThe patient denies current decreased need for sleep, euphoria \nor grandiosity or irritability, flights of idea, impulsivity, uncharacteristic talkativeness or rapid speech.\n\n\n"
        }
       ]
      }
     },
     "80722a3f3c244eb2a7b014055bf4bb64": {
      "model_module": "@jupyter-widgets/base",
      "model_module_version": "1.2.0",
      "model_name": "LayoutModel",
      "state": {
       "height": "200px"
      }
     },
     "80873c832353434584e0317fef3c5cd6": {
      "model_module": "@jupyter-widgets/controls",
      "model_module_version": "1.5.0",
      "model_name": "DescriptionStyleModel",
      "state": {
       "description_width": "150px"
      }
     },
     "8145621ecca04de1ac1c1d50c80fa617": {
      "model_module": "@jupyter-widgets/base",
      "model_module_version": "1.2.0",
      "model_name": "LayoutModel",
      "state": {}
     },
     "821a949231d34fb3be01d04a7739e24f": {
      "model_module": "@jupyter-widgets/controls",
      "model_module_version": "1.5.0",
      "model_name": "DescriptionStyleModel",
      "state": {
       "description_width": ""
      }
     },
     "827968396cbb43c1a8e9be10e113f94a": {
      "model_module": "@jupyter-widgets/controls",
      "model_module_version": "1.5.0",
      "model_name": "DescriptionStyleModel",
      "state": {
       "description_width": "150px"
      }
     },
     "82aa64f374f040db83d06e2e3218c809": {
      "model_module": "@jupyter-widgets/controls",
      "model_module_version": "1.5.0",
      "model_name": "DescriptionStyleModel",
      "state": {
       "description_width": ""
      }
     },
     "82c6caf3f9a24392a6813aa7cfb1c6c7": {
      "model_module": "@jupyter-widgets/controls",
      "model_module_version": "1.5.0",
      "model_name": "DescriptionStyleModel",
      "state": {
       "description_width": "150px"
      }
     },
     "835d129ed5e545c3b330ad80dfc26a95": {
      "model_module": "@jupyter-widgets/controls",
      "model_module_version": "1.5.0",
      "model_name": "DropdownModel",
      "state": {
       "_options_labels": [
        "denies",
        "endorses"
       ],
       "description": "Acute Medical",
       "index": 0,
       "layout": "IPY_MODEL_42f9ab8dcbd947b893f1ada0c235c49a",
       "style": "IPY_MODEL_5037c91adfbe41d9bc297ad7123b3c03"
      }
     },
     "838ce8d0d0ed4df2b87e43c0fb6ffd03": {
      "model_module": "@jupyter-widgets/controls",
      "model_module_version": "1.5.0",
      "model_name": "DescriptionStyleModel",
      "state": {
       "description_width": ""
      }
     },
     "83c13dffd2954b4a990465b2517189d9": {
      "model_module": "@jupyter-widgets/output",
      "model_module_version": "1.0.0",
      "model_name": "OutputModel",
      "state": {
       "layout": "IPY_MODEL_e7e2788276b144248f803c0adf2ad611",
       "outputs": [
        {
         "name": "stdout",
         "output_type": "stream",
         "text": "\nCurrent Medication:\n\n \nPatient declines adjustments to their medication regimen.\n\n\n\n"
        }
       ]
      }
     },
     "83e9b027a0c0460abab67ea7c020500b": {
      "model_module": "@jupyter-widgets/controls",
      "model_module_version": "1.5.0",
      "model_name": "TextareaModel",
      "state": {
       "description": "notes",
       "layout": "IPY_MODEL_42f9ab8dcbd947b893f1ada0c235c49a",
       "style": "IPY_MODEL_f19de80ecb874722b03d4d10e4bba056"
      }
     },
     "845b6362edfa4c5ab13bce0ebd1f208a": {
      "model_module": "@jupyter-widgets/controls",
      "model_module_version": "1.5.0",
      "model_name": "DropdownModel",
      "state": {
       "_options_labels": [
        "denies",
        "endorses"
       ],
       "description": "Self injury",
       "index": 0,
       "layout": "IPY_MODEL_42f9ab8dcbd947b893f1ada0c235c49a",
       "style": "IPY_MODEL_ecbf6b73d1594e918bb0cf0b42a09505"
      }
     },
     "8481697d357f4cd2af23837d4728e6f0": {
      "model_module": "@jupyter-widgets/controls",
      "model_module_version": "1.5.0",
      "model_name": "DropdownModel",
      "state": {
       "_options_labels": [
        "denies",
        "endorses"
       ],
       "description": "ivdu",
       "index": 0,
       "layout": "IPY_MODEL_42f9ab8dcbd947b893f1ada0c235c49a",
       "style": "IPY_MODEL_013de706383f4c84b7ed3f1c78732fc7"
      }
     },
     "849032c5df004096abaaaf28c329ef74": {
      "model_module": "@jupyter-widgets/controls",
      "model_module_version": "1.5.0",
      "model_name": "CheckboxModel",
      "state": {
       "description": "heroin",
       "disabled": false,
       "layout": "IPY_MODEL_036e7a59571648bf9d72a677b125d456",
       "style": "IPY_MODEL_331840d204c94221b3cf63fcba9b637f",
       "value": false
      }
     },
     "849548b6521846cda04491a2d875adac": {
      "model_module": "@jupyter-widgets/base",
      "model_module_version": "1.2.0",
      "model_name": "LayoutModel",
      "state": {}
     },
     "84cd2b01cb134e6f9b687f8f5fca18c8": {
      "model_module": "@jupyter-widgets/controls",
      "model_module_version": "1.5.0",
      "model_name": "DropdownModel",
      "state": {
       "_options_labels": [
        "denies",
        "endorses"
       ],
       "description": "current_trauma",
       "index": 0,
       "layout": "IPY_MODEL_6ca1abb4c0974a9b85bd5dd3b0292df2",
       "style": "IPY_MODEL_cf54a56708f54934ad404a1cef6b03c5"
      }
     },
     "84d1a55dddea4833885ccd368169c7b4": {
      "model_module": "@jupyter-widgets/controls",
      "model_module_version": "1.5.0",
      "model_name": "DescriptionStyleModel",
      "state": {
       "description_width": ""
      }
     },
     "84d6bd3461504a659433113dbd7ee360": {
      "model_module": "@jupyter-widgets/controls",
      "model_module_version": "1.5.0",
      "model_name": "DescriptionStyleModel",
      "state": {
       "description_width": "150px"
      }
     },
     "84e2fbc792954c9f8ddde435d1e11d0b": {
      "model_module": "@jupyter-widgets/controls",
      "model_module_version": "1.5.0",
      "model_name": "DescriptionStyleModel",
      "state": {
       "description_width": ""
      }
     },
     "850ab1b5e69048d08f6e6f181b4b85dc": {
      "model_module": "@jupyter-widgets/controls",
      "model_module_version": "1.5.0",
      "model_name": "TextareaModel",
      "state": {
       "description": "notes",
       "layout": "IPY_MODEL_6ca1abb4c0974a9b85bd5dd3b0292df2",
       "style": "IPY_MODEL_1b3abd33be314f8eb39df44afd2e4ca0"
      }
     },
     "857092f81c034fe3a8584c1ce7ce1207": {
      "model_module": "@jupyter-widgets/controls",
      "model_module_version": "1.5.0",
      "model_name": "DropdownModel",
      "state": {
       "_options_labels": [
        "male",
        "female",
        "nb"
       ],
       "description": "gender:",
       "index": 0,
       "layout": "IPY_MODEL_74b04b0b20364944b1d89ab6066179e5",
       "style": "IPY_MODEL_ca867ad318074d1da8183b360d9b32f5"
      }
     },
     "85715f5fb0d648d1a684e2ff53de69b7": {
      "model_module": "@jupyter-widgets/controls",
      "model_module_version": "1.5.0",
      "model_name": "DescriptionStyleModel",
      "state": {
       "description_width": "150px"
      }
     },
     "8582037d1ce7426aa10a53bbfd137255": {
      "model_module": "@jupyter-widgets/controls",
      "model_module_version": "1.5.0",
      "model_name": "CheckboxModel",
      "state": {
       "description": "cocaine",
       "disabled": false,
       "layout": "IPY_MODEL_69bb34c7c9f84b828714616ef1ac5328",
       "style": "IPY_MODEL_8e6220bcdb844790904288c74cb18688",
       "value": false
      }
     },
     "86055996e0de44678b21195e27c0f753": {
      "model_module": "@jupyter-widgets/base",
      "model_module_version": "1.2.0",
      "model_name": "LayoutModel",
      "state": {}
     },
     "861357d9310d4db69cfb8a4239770256": {
      "model_module": "@jupyter-widgets/controls",
      "model_module_version": "1.5.0",
      "model_name": "CheckboxModel",
      "state": {
       "description": "ecstasy/MDMA",
       "disabled": false,
       "layout": "IPY_MODEL_bd61bb2352254ab195768fc9b9adb322",
       "style": "IPY_MODEL_0cb443286a6e4736adfaabc43a2e1faa",
       "value": false
      }
     },
     "8644548328744ed19eb7498b8a5faa51": {
      "model_module": "@jupyter-widgets/controls",
      "model_module_version": "1.5.0",
      "model_name": "CheckboxModel",
      "state": {
       "description": "psychosis",
       "disabled": false,
       "layout": "IPY_MODEL_3367943482894df1a10c8d3fef9f71d0",
       "style": "IPY_MODEL_397ff7cb92c04016853d4fa54fb9bc2e",
       "value": false
      }
     },
     "865debdca58a430e812dd5da084bfc10": {
      "model_module": "@jupyter-widgets/controls",
      "model_module_version": "1.5.0",
      "model_name": "DescriptionStyleModel",
      "state": {
       "description_width": ""
      }
     },
     "865f0492f9994fd68784b629ffd08b6c": {
      "model_module": "@jupyter-widgets/controls",
      "model_module_version": "1.5.0",
      "model_name": "DescriptionStyleModel",
      "state": {
       "description_width": "150px"
      }
     },
     "867f88918fc349dcb0f564594982fc87": {
      "model_module": "@jupyter-widgets/controls",
      "model_module_version": "1.5.0",
      "model_name": "TextModel",
      "state": {
       "description": "notes",
       "layout": "IPY_MODEL_6ca1abb4c0974a9b85bd5dd3b0292df2",
       "style": "IPY_MODEL_2bc194d999244bd68138908376be8a22"
      }
     },
     "870e1d2785cd480da82e2c9c8a2f8ef2": {
      "model_module": "@jupyter-widgets/base",
      "model_module_version": "1.2.0",
      "model_name": "LayoutModel",
      "state": {}
     },
     "879e93a6c64d4e1793acf7fda2435fc0": {
      "model_module": "@jupyter-widgets/base",
      "model_module_version": "1.2.0",
      "model_name": "LayoutModel",
      "state": {}
     },
     "88156249f81a4f46a92fbd56d3f86f24": {
      "model_module": "@jupyter-widgets/controls",
      "model_module_version": "1.5.0",
      "model_name": "DropdownModel",
      "state": {
       "_options_labels": [
        "denies",
        "endorses"
       ],
       "description": "hopelessness",
       "index": 0,
       "layout": "IPY_MODEL_42f9ab8dcbd947b893f1ada0c235c49a",
       "style": "IPY_MODEL_ee035cb57c964419babf7663f5b47241"
      }
     },
     "881cdcfd501046d2845ed74f48e05530": {
      "model_module": "@jupyter-widgets/controls",
      "model_module_version": "1.5.0",
      "model_name": "DescriptionStyleModel",
      "state": {
       "description_width": "150px"
      }
     },
     "88e5e8e6dc4746cd8363cc769b8dc8a5": {
      "model_module": "@jupyter-widgets/controls",
      "model_module_version": "1.5.0",
      "model_name": "DescriptionStyleModel",
      "state": {
       "description_width": "150px"
      }
     },
     "88f6cefa612948eeb0224d923479ed1a": {
      "model_module": "@jupyter-widgets/controls",
      "model_module_version": "1.5.0",
      "model_name": "DropdownModel",
      "state": {
       "_options_labels": [
        "denies",
        "endorses"
       ],
       "description": "Sust Sadness",
       "index": 0,
       "layout": "IPY_MODEL_42f9ab8dcbd947b893f1ada0c235c49a",
       "style": "IPY_MODEL_15784d2598d04e8a81b0e5d188b6efa6"
      }
     },
     "895dc0aac9d949aea015968d0634b224": {
      "model_module": "@jupyter-widgets/controls",
      "model_module_version": "1.5.0",
      "model_name": "DropdownModel",
      "state": {
       "_options_labels": [
        "a history",
        "no history"
       ],
       "description": "eating_disorder",
       "index": 1,
       "layout": "IPY_MODEL_42f9ab8dcbd947b893f1ada0c235c49a",
       "style": "IPY_MODEL_88e5e8e6dc4746cd8363cc769b8dc8a5"
      }
     },
     "89f3f7215a5c4882890ad13beb01cf95": {
      "model_module": "@jupyter-widgets/controls",
      "model_module_version": "1.5.0",
      "model_name": "VBoxModel",
      "state": {
       "children": [
        "IPY_MODEL_783073b8c24643f584d290521162b8a6",
        "IPY_MODEL_b6e1e260f00c4530ba49279c945a1a63"
       ],
       "layout": "IPY_MODEL_2c8355b6f09b403d98de2ee2f9325962"
      }
     },
     "8a28fc0e971640b5b7e4a0e1265c5d3a": {
      "model_module": "@jupyter-widgets/controls",
      "model_module_version": "1.5.0",
      "model_name": "DropdownModel",
      "state": {
       "_options_labels": [
        "denies",
        "endorses"
       ],
       "description": "abuse",
       "index": 0,
       "layout": "IPY_MODEL_42f9ab8dcbd947b893f1ada0c235c49a",
       "style": "IPY_MODEL_82c6caf3f9a24392a6813aa7cfb1c6c7"
      }
     },
     "8a3fb53d569d403485db2e4225f3d62e": {
      "model_module": "@jupyter-widgets/controls",
      "model_module_version": "1.5.0",
      "model_name": "DropdownModel",
      "state": {
       "_options_labels": [
        "a history",
        "no history"
       ],
       "description": "learning_disabilties",
       "index": 1,
       "layout": "IPY_MODEL_6ca1abb4c0974a9b85bd5dd3b0292df2",
       "style": "IPY_MODEL_dced599fd5bc404e981386918b9d6356"
      }
     },
     "8a4b0ae12c694148b5458fad70937601": {
      "model_module": "@jupyter-widgets/controls",
      "model_module_version": "1.5.0",
      "model_name": "DescriptionStyleModel",
      "state": {
       "description_width": ""
      }
     },
     "8a7190e91d30479aa5b55dd1a6ec70da": {
      "model_module": "@jupyter-widgets/controls",
      "model_module_version": "1.5.0",
      "model_name": "DropdownModel",
      "state": {
       "_options_labels": [
        "denies",
        "endorses"
       ],
       "description": "acute_medical",
       "index": 0,
       "layout": "IPY_MODEL_6ca1abb4c0974a9b85bd5dd3b0292df2",
       "style": "IPY_MODEL_44c5eb4ded2c4ab48e5aa418f680bc99"
      }
     },
     "8b18674d75a442e8ad69a4fb418c171d": {
      "model_module": "@jupyter-widgets/controls",
      "model_module_version": "1.5.0",
      "model_name": "DropdownModel",
      "state": {
       "_options_labels": [
        "a history",
        "no history"
       ],
       "description": "Eating Disorders",
       "index": 1,
       "layout": "IPY_MODEL_42f9ab8dcbd947b893f1ada0c235c49a",
       "style": "IPY_MODEL_573fe0df43114d2684d7c68cc2bf542f"
      }
     },
     "8b86e50d81704396a9c9a94f6972f4af": {
      "model_module": "@jupyter-widgets/controls",
      "model_module_version": "1.5.0",
      "model_name": "DropdownModel",
      "state": {
       "_options_labels": [
        "declines",
        "is amenable with"
       ],
       "description": "Med Adjust",
       "index": 0,
       "layout": "IPY_MODEL_42f9ab8dcbd947b893f1ada0c235c49a",
       "style": "IPY_MODEL_f57f7e2238f84d05a7fc08de76b1ca99"
      }
     },
     "8bed25acc05f46d1960cac48b219d478": {
      "model_module": "@jupyter-widgets/controls",
      "model_module_version": "1.5.0",
      "model_name": "DescriptionStyleModel",
      "state": {
       "description_width": ""
      }
     },
     "8c0aba3d5509411c94533dbbcb3c988f": {
      "model_module": "@jupyter-widgets/base",
      "model_module_version": "1.2.0",
      "model_name": "LayoutModel",
      "state": {
       "width": "25%"
      }
     },
     "8c44633ac66c40e781b6ccdf57a106a9": {
      "model_module": "@jupyter-widgets/base",
      "model_module_version": "1.2.0",
      "model_name": "LayoutModel",
      "state": {}
     },
     "8c4f69dac846475a9ed58a03e14e1db6": {
      "model_module": "@jupyter-widgets/controls",
      "model_module_version": "1.5.0",
      "model_name": "DropdownModel",
      "state": {
       "_options_labels": [
        "denies",
        "endorses"
       ],
       "description": "hospitalization",
       "index": 0,
       "layout": "IPY_MODEL_42f9ab8dcbd947b893f1ada0c235c49a",
       "style": "IPY_MODEL_3fd94cf2225945acb5354e49c1e8e217"
      }
     },
     "8c72f15885bf4e34bc3574bb51340033": {
      "model_module": "@jupyter-widgets/base",
      "model_module_version": "1.2.0",
      "model_name": "LayoutModel",
      "state": {}
     },
     "8cb3c05a9ef34b87953e0ba386ecfcad": {
      "model_module": "@jupyter-widgets/base",
      "model_module_version": "1.2.0",
      "model_name": "LayoutModel",
      "state": {}
     },
     "8ce2cd6fc9214f439ce3cfbbfd862c00": {
      "model_module": "@jupyter-widgets/controls",
      "model_module_version": "1.5.0",
      "model_name": "DescriptionStyleModel",
      "state": {
       "description_width": ""
      }
     },
     "8cede921b78b4183be6a971a02abcb8d": {
      "model_module": "@jupyter-widgets/base",
      "model_module_version": "1.2.0",
      "model_name": "LayoutModel",
      "state": {
       "width": "50%"
      }
     },
     "8d949d3f2c8a47029dc700791f3b7c94": {
      "model_module": "@jupyter-widgets/base",
      "model_module_version": "1.2.0",
      "model_name": "LayoutModel",
      "state": {}
     },
     "8dd570aa4c364e8e866e89593738739d": {
      "model_module": "@jupyter-widgets/controls",
      "model_module_version": "1.5.0",
      "model_name": "DescriptionStyleModel",
      "state": {
       "description_width": "150px"
      }
     },
     "8e6220bcdb844790904288c74cb18688": {
      "model_module": "@jupyter-widgets/controls",
      "model_module_version": "1.5.0",
      "model_name": "DescriptionStyleModel",
      "state": {
       "description_width": ""
      }
     },
     "8e86d73da2bf4c0a94363d52a4c616e8": {
      "model_module": "@jupyter-widgets/controls",
      "model_module_version": "1.5.0",
      "model_name": "CheckboxModel",
      "state": {
       "description": "anxiety",
       "disabled": false,
       "layout": "IPY_MODEL_7ae76332db7f43cdbb91b0eee19c91df",
       "style": "IPY_MODEL_c5c089a0652441a7b49d112705a1f7ce",
       "value": false
      }
     },
     "8f1b12aed711460b8ace781cdf0b6f6b": {
      "model_module": "@jupyter-widgets/controls",
      "model_module_version": "1.5.0",
      "model_name": "TextareaModel",
      "state": {
       "description": "notes",
       "layout": "IPY_MODEL_42f9ab8dcbd947b893f1ada0c235c49a",
       "style": "IPY_MODEL_115609eea89343b1b771b7dd46fa3327"
      }
     },
     "8f24d7bcb6644692b43dbdbb78cbf002": {
      "model_module": "@jupyter-widgets/controls",
      "model_module_version": "1.5.0",
      "model_name": "DescriptionStyleModel",
      "state": {
       "description_width": "150px"
      }
     },
     "8f4f5482f6e34daca6262ac46e2ea75b": {
      "model_module": "@jupyter-widgets/controls",
      "model_module_version": "1.5.0",
      "model_name": "CheckboxModel",
      "state": {
       "description": "bipolar I disorder",
       "disabled": false,
       "layout": "IPY_MODEL_1c2c66963aae41cea2cc301da8f4d90e",
       "style": "IPY_MODEL_e9fbb58f5f304dff8b4ea6001dd6520f",
       "value": false
      }
     },
     "8f55ddad51344728ac74b757f4599150": {
      "model_module": "@jupyter-widgets/base",
      "model_module_version": "1.2.0",
      "model_name": "LayoutModel",
      "state": {}
     },
     "900473e7b89c4ac9a6543df478c1527c": {
      "model_module": "@jupyter-widgets/base",
      "model_module_version": "1.2.0",
      "model_name": "LayoutModel",
      "state": {}
     },
     "906046ff1c094f07b334ae2f061a7993": {
      "model_module": "@jupyter-widgets/base",
      "model_module_version": "1.2.0",
      "model_name": "LayoutModel",
      "state": {}
     },
     "90667fb3fdb040d9932b42b9c66f8f34": {
      "model_module": "@jupyter-widgets/base",
      "model_module_version": "1.2.0",
      "model_name": "LayoutModel",
      "state": {}
     },
     "9088bb1dd7f8447ca1c2492c1de070f4": {
      "model_module": "@jupyter-widgets/controls",
      "model_module_version": "1.5.0",
      "model_name": "DescriptionStyleModel",
      "state": {
       "description_width": ""
      }
     },
     "9096d8056f6049b595f82fc699fe8704": {
      "model_module": "@jupyter-widgets/base",
      "model_module_version": "1.2.0",
      "model_name": "LayoutModel",
      "state": {}
     },
     "90aadc8b4e984f3187a05045b3bd02e8": {
      "model_module": "@jupyter-widgets/controls",
      "model_module_version": "1.5.0",
      "model_name": "VBoxModel",
      "state": {
       "children": [
        "IPY_MODEL_7c82c8765923464d99a6e3c15a143bd2",
        "IPY_MODEL_661ee0eea7e14ababd2e4f0d8a727488",
        "IPY_MODEL_2bd96cbf6f3c4fd0912d389e9bae6500",
        "IPY_MODEL_9556ad52fe414124b6e2d65ce7167f8c",
        "IPY_MODEL_1a9e3dff7c5e45eda756a94d9904392d",
        "IPY_MODEL_9a6e878b8ff34da9bf5cd988ae0671bc",
        "IPY_MODEL_27f725d7f3b54e79b14b2f149046fb88",
        "IPY_MODEL_97766a23331348da806fcfb82a583388",
        "IPY_MODEL_28e670661ffe4675ac3cc9cb2b7a3805",
        "IPY_MODEL_9f90b4735cbc4ab29245647421e9b7a3"
       ],
       "layout": "IPY_MODEL_6aa0c07cc39e4a28aac32d2168f28d7f"
      }
     },
     "90e5e9d0933d4fd0975d743a719dc732": {
      "model_module": "@jupyter-widgets/controls",
      "model_module_version": "1.5.0",
      "model_name": "DescriptionStyleModel",
      "state": {
       "description_width": ""
      }
     },
     "9103648b45ca4ca8bb170c4e56fcd964": {
      "model_module": "@jupyter-widgets/base",
      "model_module_version": "1.2.0",
      "model_name": "LayoutModel",
      "state": {}
     },
     "915703966ae64e5e9bf0dd1e16b3a748": {
      "model_module": "@jupyter-widgets/controls",
      "model_module_version": "1.5.0",
      "model_name": "DropdownModel",
      "state": {
       "_options_labels": [
        "declines",
        "elects to startwould like to continue with"
       ],
       "description": "Anti-Craving Medication",
       "index": 0,
       "layout": "IPY_MODEL_42f9ab8dcbd947b893f1ada0c235c49a",
       "style": "IPY_MODEL_b613d9fe243e467297aba0828374c076"
      }
     },
     "916ef2cc11b94f92bf62357ad8989dc1": {
      "model_module": "@jupyter-widgets/base",
      "model_module_version": "1.2.0",
      "model_name": "LayoutModel",
      "state": {}
     },
     "91997db1ab7749eea12eb3e0a63a207c": {
      "model_module": "@jupyter-widgets/base",
      "model_module_version": "1.2.0",
      "model_name": "LayoutModel",
      "state": {
       "width": "25%"
      }
     },
     "91ad9177b5fa424ab810dbeabf616edf": {
      "model_module": "@jupyter-widgets/base",
      "model_module_version": "1.2.0",
      "model_name": "LayoutModel",
      "state": {}
     },
     "91d5d650e48e4b30bc20533d6c18a883": {
      "model_module": "@jupyter-widgets/controls",
      "model_module_version": "1.5.0",
      "model_name": "DropdownModel",
      "state": {
       "_options_labels": [
        "denies",
        "endorses"
       ],
       "description": "withdrawals_choice",
       "index": 0,
       "layout": "IPY_MODEL_42f9ab8dcbd947b893f1ada0c235c49a",
       "style": "IPY_MODEL_cb67f4efd09742d78f962dc862485a5d"
      }
     },
     "929257c24fab491ea3a39a27fa48f7da": {
      "model_module": "@jupyter-widgets/controls",
      "model_module_version": "1.5.0",
      "model_name": "DropdownModel",
      "state": {
       "_options_labels": [
        "denies",
        "endorses"
       ],
       "description": "physical_anxiety",
       "index": 0,
       "layout": "IPY_MODEL_6ca1abb4c0974a9b85bd5dd3b0292df2",
       "style": "IPY_MODEL_e4cd9c052df74b00b268b421e76badd7"
      }
     },
     "9292ce012b1d4765b194fbd03b25c243": {
      "model_module": "@jupyter-widgets/controls",
      "model_module_version": "1.5.0",
      "model_name": "CheckboxModel",
      "state": {
       "description": "Post-traumatic stress disorder",
       "disabled": false,
       "layout": "IPY_MODEL_7d7b2dfdfe864fbe8287c1d24f38c360",
       "style": "IPY_MODEL_32631bf505584c61a7b131d9d1e8b783",
       "value": false
      }
     },
     "92aa750376ee42018c8f9fa2fc0d8475": {
      "model_module": "@jupyter-widgets/base",
      "model_module_version": "1.2.0",
      "model_name": "LayoutModel",
      "state": {}
     },
     "92e09d2b86b24fbb98b36ce428e0513d": {
      "model_module": "@jupyter-widgets/controls",
      "model_module_version": "1.5.0",
      "model_name": "CheckboxModel",
      "state": {
       "description": "cocaine",
       "disabled": false,
       "layout": "IPY_MODEL_870e1d2785cd480da82e2c9c8a2f8ef2",
       "style": "IPY_MODEL_7cd030d44d14408cad5597e3d167e28a",
       "value": false
      }
     },
     "932af9359d0f4c26b3455d19c0366af8": {
      "model_module": "@jupyter-widgets/controls",
      "model_module_version": "1.5.0",
      "model_name": "DropdownModel",
      "state": {
       "_options_labels": [
        "good",
        "fair",
        "poor"
       ],
       "description": "concentration",
       "index": 1,
       "layout": "IPY_MODEL_42f9ab8dcbd947b893f1ada0c235c49a",
       "style": "IPY_MODEL_b756680c7fd844b082ff27dd3fd38156"
      }
     },
     "93678ba598f34d358d4a6a17c3a33b5e": {
      "model_module": "@jupyter-widgets/controls",
      "model_module_version": "1.5.0",
      "model_name": "DropdownModel",
      "state": {
       "_options_labels": [
        "denies",
        "endorses"
       ],
       "description": "hiv_medical",
       "index": 0,
       "layout": "IPY_MODEL_6ca1abb4c0974a9b85bd5dd3b0292df2",
       "style": "IPY_MODEL_c811542c8b354eaa9cc5ff28da1aa28c"
      }
     },
     "93c434342d244187ac66cdc51695830f": {
      "model_module": "@jupyter-widgets/base",
      "model_module_version": "1.2.0",
      "model_name": "LayoutModel",
      "state": {}
     },
     "93ddbe9ffbf74014a743bfd32dd9aa95": {
      "model_module": "@jupyter-widgets/controls",
      "model_module_version": "1.5.0",
      "model_name": "ComboboxModel",
      "state": {
       "description": "Med Compliant",
       "ensure_option": false,
       "layout": "IPY_MODEL_42f9ab8dcbd947b893f1ada0c235c49a",
       "options": [
        "Patient reports that they have been compliant with their psychotropic medication regimen and denies adverse effects",
        "Patient reports that they have been non-compliant with their psychotropic medication regimen and denies adverse effects"
       ],
       "style": "IPY_MODEL_bc52fc1f589944a8bf61c1aed7a4e3b4"
      }
     },
     "93e5194cb2774901a063fab50425042c": {
      "model_module": "@jupyter-widgets/controls",
      "model_module_version": "1.5.0",
      "model_name": "ComboboxModel",
      "state": {
       "description": "home",
       "ensure_option": false,
       "layout": "IPY_MODEL_42f9ab8dcbd947b893f1ada0c235c49a",
       "options": [
        "in sober living",
        "at home"
       ],
       "style": "IPY_MODEL_7c1ed0089d7845fbbb56f448b9c8805c"
      }
     },
     "940242bff2974e03b663d10acd8c3b40": {
      "model_module": "@jupyter-widgets/controls",
      "model_module_version": "1.5.0",
      "model_name": "DescriptionStyleModel",
      "state": {
       "description_width": "150px"
      }
     },
     "945775ec9e4b49e3bb66deb2444574dc": {
      "model_module": "@jupyter-widgets/base",
      "model_module_version": "1.2.0",
      "model_name": "LayoutModel",
      "state": {}
     },
     "9457f1f5be064adea7eb13218741d377": {
      "model_module": "@jupyter-widgets/controls",
      "model_module_version": "1.5.0",
      "model_name": "CheckboxModel",
      "state": {
       "description": "ecstasy/MDMA",
       "disabled": false,
       "layout": "IPY_MODEL_a8332089f68b4f44b44d9385198a32bf",
       "style": "IPY_MODEL_57231c1855804d289505d05df61f8e19",
       "value": false
      }
     },
     "9465a4a62dba4bd4b1965ac08bc0e5a5": {
      "model_module": "@jupyter-widgets/controls",
      "model_module_version": "1.5.0",
      "model_name": "DropdownModel",
      "state": {
       "_options_labels": [
        "denies",
        "endorses"
       ],
       "description": "hep_medical",
       "index": 0,
       "layout": "IPY_MODEL_42f9ab8dcbd947b893f1ada0c235c49a",
       "style": "IPY_MODEL_6fe3b9fd37584b6ea0c556dc4a7e7ce9"
      }
     },
     "948cb2215bb342479a53558eebc2d573": {
      "model_module": "@jupyter-widgets/base",
      "model_module_version": "1.2.0",
      "model_name": "LayoutModel",
      "state": {}
     },
     "95431a940ce8434db519770f8c255369": {
      "model_module": "@jupyter-widgets/base",
      "model_module_version": "1.2.0",
      "model_name": "LayoutModel",
      "state": {}
     },
     "954cb65fdaf347ec93d2e92cad663e4c": {
      "model_module": "@jupyter-widgets/controls",
      "model_module_version": "1.5.0",
      "model_name": "TextareaModel",
      "state": {
       "description": "notes",
       "layout": "IPY_MODEL_42f9ab8dcbd947b893f1ada0c235c49a",
       "style": "IPY_MODEL_bc1a01fd2e2f4c7c9d338a316caaf4b5"
      }
     },
     "9556ad52fe414124b6e2d65ce7167f8c": {
      "model_module": "@jupyter-widgets/controls",
      "model_module_version": "1.5.0",
      "model_name": "CheckboxModel",
      "state": {
       "description": "adhd",
       "disabled": false,
       "layout": "IPY_MODEL_745fd48bb7dc4d309ec54fb032a80ecf",
       "style": "IPY_MODEL_821a949231d34fb3be01d04a7739e24f",
       "value": false
      }
     },
     "95a2efbd655842b99ca5dcf8dfff7125": {
      "model_module": "@jupyter-widgets/controls",
      "model_module_version": "1.5.0",
      "model_name": "DescriptionStyleModel",
      "state": {
       "description_width": "150px"
      }
     },
     "95a4ee2a06294b74b502d4db50233e89": {
      "model_module": "@jupyter-widgets/base",
      "model_module_version": "1.2.0",
      "model_name": "LayoutModel",
      "state": {}
     },
     "95ad028c28dc4d4a837e3c5be859a171": {
      "model_module": "@jupyter-widgets/base",
      "model_module_version": "1.2.0",
      "model_name": "LayoutModel",
      "state": {}
     },
     "962c919ff13f4ba891b886f609331fd4": {
      "model_module": "@jupyter-widgets/controls",
      "model_module_version": "1.5.0",
      "model_name": "DescriptionStyleModel",
      "state": {
       "description_width": "150px"
      }
     },
     "963ff89491d144389b18792a45dce92c": {
      "model_module": "@jupyter-widgets/controls",
      "model_module_version": "1.5.0",
      "model_name": "TextModel",
      "state": {
       "description": "notes",
       "layout": "IPY_MODEL_42f9ab8dcbd947b893f1ada0c235c49a",
       "style": "IPY_MODEL_1ee8730049754059ad95de0b1daa7205"
      }
     },
     "966132908a894920b57b276b50fc15f8": {
      "model_module": "@jupyter-widgets/controls",
      "model_module_version": "1.5.0",
      "model_name": "DescriptionStyleModel",
      "state": {
       "description_width": ""
      }
     },
     "9711e155392143529766e8584741a8e5": {
      "model_module": "@jupyter-widgets/base",
      "model_module_version": "1.2.0",
      "model_name": "LayoutModel",
      "state": {}
     },
     "97754e200d534658a74a7c4efb510532": {
      "model_module": "@jupyter-widgets/base",
      "model_module_version": "1.2.0",
      "model_name": "LayoutModel",
      "state": {}
     },
     "97766a23331348da806fcfb82a583388": {
      "model_module": "@jupyter-widgets/controls",
      "model_module_version": "1.5.0",
      "model_name": "CheckboxModel",
      "state": {
       "description": "psychosis",
       "disabled": false,
       "layout": "IPY_MODEL_5c627b3ccf3341cdb862a6aa1faeb6e4",
       "style": "IPY_MODEL_649b3c08d6174a80860b91849c000cfe",
       "value": false
      }
     },
     "97a17b4c764343e0aeae228dc6b9f2c4": {
      "model_module": "@jupyter-widgets/controls",
      "model_module_version": "1.5.0",
      "model_name": "CheckboxModel",
      "state": {
       "description": "bipolar II disorder",
       "disabled": false,
       "layout": "IPY_MODEL_464d1a874a1248538154d09dcfd9e6cf",
       "style": "IPY_MODEL_a38ef2b3ef0b4fd1acd865e398ee9c92",
       "value": false
      }
     },
     "97e9fb636ea3415db0b1a58122370e21": {
      "model_module": "@jupyter-widgets/controls",
      "model_module_version": "1.5.0",
      "model_name": "BoundedIntTextModel",
      "state": {
       "description": "# Children",
       "layout": "IPY_MODEL_42f9ab8dcbd947b893f1ada0c235c49a",
       "style": "IPY_MODEL_b29316fa0f9546caad3122f35dcc6464"
      }
     },
     "98225ee3884c45c1bd331f2f7bdbbe9f": {
      "model_module": "@jupyter-widgets/base",
      "model_module_version": "1.2.0",
      "model_name": "LayoutModel",
      "state": {}
     },
     "987ff46d52fd4f8d8971a962fef689ea": {
      "model_module": "@jupyter-widgets/controls",
      "model_module_version": "1.5.0",
      "model_name": "VBoxModel",
      "state": {
       "_dom_classes": [
        "widget-interact"
       ],
       "children": [
        "IPY_MODEL_17a4a5316f5d4ac5b151f6a6175a7f1f",
        "IPY_MODEL_2e241c1b26d04c738bddaa705ac73c47",
        "IPY_MODEL_4f370f6615254446ad81e95559c2c928",
        "IPY_MODEL_cc783369f80d4723ad6a05ab1cae56a2",
        "IPY_MODEL_e19760c1148b4ef8a275a5327a85e13e",
        "IPY_MODEL_9a26922002b04a40b5d2bdb57f7dd3c8",
        "IPY_MODEL_f25638eb99a74c938b5a749faff1e063",
        "IPY_MODEL_3a3107517c9643028da5e6c3497b2ff5",
        "IPY_MODEL_fc1c84b8aca24e91a313f05172e4be2a"
       ],
       "layout": "IPY_MODEL_f19e6597a635403092e2afdf27c3e792"
      }
     },
     "9894dd479adc4f83af59d86257ffc439": {
      "model_module": "@jupyter-widgets/controls",
      "model_module_version": "1.5.0",
      "model_name": "VBoxModel",
      "state": {
       "_dom_classes": [
        "widget-interact"
       ],
       "children": [
        "IPY_MODEL_71804081b4464299be5411e3c6552d64",
        "IPY_MODEL_48f3e9a2be094b4cb9e1eba72d0e8243",
        "IPY_MODEL_4ffae84a7b5f4c93a694e777f05ab530",
        "IPY_MODEL_7ebb98245c6b434bab8e2d2dc554a345",
        "IPY_MODEL_993ad5453b1042b8ae3ffa71f43d1d3e",
        "IPY_MODEL_289de0b1945e47749f29193322fceaaf",
        "IPY_MODEL_2d706268bea8447394df191d1f7f13a1",
        "IPY_MODEL_963ff89491d144389b18792a45dce92c",
        "IPY_MODEL_1a60125e17094f9da950b47fcabd7daa"
       ],
       "layout": "IPY_MODEL_b4edbdf729814a7cb1b22f327e024086"
      }
     },
     "98b2fef95345458d9f3bcf2b8793e1b7": {
      "model_module": "@jupyter-widgets/controls",
      "model_module_version": "1.5.0",
      "model_name": "DescriptionStyleModel",
      "state": {
       "description_width": ""
      }
     },
     "98c751230a69441b98705623bcd5fc43": {
      "model_module": "@jupyter-widgets/controls",
      "model_module_version": "1.5.0",
      "model_name": "DropdownModel",
      "state": {
       "_options_labels": [
        "denies",
        "endorses"
       ],
       "description": "Current Trauma",
       "index": 0,
       "layout": "IPY_MODEL_42f9ab8dcbd947b893f1ada0c235c49a",
       "style": "IPY_MODEL_584cdb7a5c874c79a344ff46d86c40cc"
      }
     },
     "9921cb75219848eaa9449bf6ba42ee83": {
      "model_module": "@jupyter-widgets/controls",
      "model_module_version": "1.5.0",
      "model_name": "DescriptionStyleModel",
      "state": {
       "description_width": ""
      }
     },
     "993ad5453b1042b8ae3ffa71f43d1d3e": {
      "model_module": "@jupyter-widgets/controls",
      "model_module_version": "1.5.0",
      "model_name": "BoundedIntTextModel",
      "state": {
       "description": "Sober Time:",
       "layout": "IPY_MODEL_42f9ab8dcbd947b893f1ada0c235c49a",
       "max": 200,
       "style": "IPY_MODEL_deed33f724634afea8321e3a40708ecd",
       "value": 4
      }
     },
     "9a07365a86094cf8bf1f7d4f7f1953dd": {
      "model_module": "@jupyter-widgets/output",
      "model_module_version": "1.0.0",
      "model_name": "OutputModel",
      "state": {
       "layout": "IPY_MODEL_28f6b604dd9942ce9c7e50c6a45e47d7",
       "outputs": [
        {
         "name": "stdout",
         "output_type": "stream",
         "text": "\nPsychiatric History: \nPatient denies any history of psychiatric hospitalizations. \nPatient denies suicide attempts, \nPatient denies self-injurious behavior. \nPrevious meds: None \nCurrent outpatient psychiatrist: None\n\n\n"
        }
       ]
      }
     },
     "9a1f464c64874c14bc32489a0281ab7c": {
      "model_module": "@jupyter-widgets/controls",
      "model_module_version": "1.5.0",
      "model_name": "CheckboxModel",
      "state": {
       "description": "alcohol",
       "disabled": false,
       "layout": "IPY_MODEL_a6e98a36d2b343e6be184fc6012b0ff4",
       "style": "IPY_MODEL_449f88d8dd2048eb9585e00e7b855e26",
       "value": false
      }
     },
     "9a228c21a84d4e6bbc268636a5435d0a": {
      "model_module": "@jupyter-widgets/controls",
      "model_module_version": "1.5.0",
      "model_name": "DescriptionStyleModel",
      "state": {
       "description_width": ""
      }
     },
     "9a26922002b04a40b5d2bdb57f7dd3c8": {
      "model_module": "@jupyter-widgets/controls",
      "model_module_version": "1.5.0",
      "model_name": "DropdownModel",
      "state": {
       "_options_labels": [
        "days",
        "months",
        "years"
       ],
       "description": "Sober period",
       "index": 0,
       "layout": "IPY_MODEL_42f9ab8dcbd947b893f1ada0c235c49a",
       "style": "IPY_MODEL_1ea4bd75ff8642c5a4c66bcc24077ec0"
      }
     },
     "9a4adbffc7d4410c86895ae153722ae2": {
      "model_module": "@jupyter-widgets/controls",
      "model_module_version": "1.5.0",
      "model_name": "VBoxModel",
      "state": {
       "_dom_classes": [
        "widget-interact"
       ],
       "children": [
        "IPY_MODEL_49759ffbf0c4418f8f8a4985586155ff",
        "IPY_MODEL_2376137a79fc4f7ab1fedfae45d8b3b6"
       ],
       "layout": "IPY_MODEL_3b5809d9225f4067831c4ef310342a96"
      }
     },
     "9a6b912fbd6845a7818d7f75274e5889": {
      "model_module": "@jupyter-widgets/controls",
      "model_module_version": "1.5.0",
      "model_name": "CheckboxModel",
      "state": {
       "description": "ADHD",
       "disabled": false,
       "layout": "IPY_MODEL_ee7b03fa9853425a9f6e8a16f8785b0c",
       "style": "IPY_MODEL_6b15f0994d554b8f92cbc8c0ec311b59",
       "value": false
      }
     },
     "9a6e878b8ff34da9bf5cd988ae0671bc": {
      "model_module": "@jupyter-widgets/controls",
      "model_module_version": "1.5.0",
      "model_name": "CheckboxModel",
      "state": {
       "description": "bipolar II disorder",
       "disabled": false,
       "layout": "IPY_MODEL_76502f42417f4237825e27dd7e63e3a8",
       "style": "IPY_MODEL_b30cff34134c48c28809e24690559070",
       "value": false
      }
     },
     "9aaa9cd2ef884d2280ed469d17c7ee0f": {
      "model_module": "@jupyter-widgets/controls",
      "model_module_version": "1.5.0",
      "model_name": "CheckboxModel",
      "state": {
       "description": "ptsd",
       "disabled": false,
       "layout": "IPY_MODEL_ce9da03bd637468198ee4c9166e3f895",
       "style": "IPY_MODEL_020770a15c324daf872a3f76d407d6db",
       "value": false
      }
     },
     "9acca90d32e34b98b76756f9b68efa2c": {
      "model_module": "@jupyter-widgets/base",
      "model_module_version": "1.2.0",
      "model_name": "LayoutModel",
      "state": {}
     },
     "9b47228454a0480d9b5689f4b01eba04": {
      "model_module": "@jupyter-widgets/base",
      "model_module_version": "1.2.0",
      "model_name": "LayoutModel",
      "state": {}
     },
     "9b4f7e8581454bae8eea90e794798bd9": {
      "model_module": "@jupyter-widgets/controls",
      "model_module_version": "1.5.0",
      "model_name": "CheckboxModel",
      "state": {
       "description": "alcohol",
       "disabled": false,
       "layout": "IPY_MODEL_d699ece054d3489290cfd54a76110d2e",
       "style": "IPY_MODEL_51d8b862da7944a3aca5c65138ae80a6",
       "value": false
      }
     },
     "9b52b391300f4e389741adfb0a8d7711": {
      "model_module": "@jupyter-widgets/controls",
      "model_module_version": "1.5.0",
      "model_name": "CheckboxModel",
      "state": {
       "description": "Sedative, hypnotic and/or anxiolytic Use Disorder Severe",
       "disabled": false,
       "layout": "IPY_MODEL_5527beaeff044bd8a12aad4f67651a68",
       "style": "IPY_MODEL_a25b76fa7728430c9edcd5aa951f6ff2",
       "value": false
      }
     },
     "9b77fe6570904bbf9ea80a2d5a9366ed": {
      "model_module": "@jupyter-widgets/controls",
      "model_module_version": "1.5.0",
      "model_name": "DescriptionStyleModel",
      "state": {
       "description_width": ""
      }
     },
     "9b8c042757b4446c8067490b2f961b2e": {
      "model_module": "@jupyter-widgets/controls",
      "model_module_version": "1.5.0",
      "model_name": "DescriptionStyleModel",
      "state": {
       "description_width": ""
      }
     },
     "9c14772d2775478b9a90116585e4a597": {
      "model_module": "@jupyter-widgets/base",
      "model_module_version": "1.2.0",
      "model_name": "LayoutModel",
      "state": {}
     },
     "9c1c0dab75f34f8db7bbc6f774427732": {
      "model_module": "@jupyter-widgets/base",
      "model_module_version": "1.2.0",
      "model_name": "LayoutModel",
      "state": {
       "width": "25%"
      }
     },
     "9c75a5379974484e9ba7ce2d772c0fb8": {
      "model_module": "@jupyter-widgets/base",
      "model_module_version": "1.2.0",
      "model_name": "LayoutModel",
      "state": {}
     },
     "9c81c08bf5604d0f98dcc7b545e64007": {
      "model_module": "@jupyter-widgets/controls",
      "model_module_version": "1.5.0",
      "model_name": "VBoxModel",
      "state": {
       "_dom_classes": [
        "widget-interact"
       ],
       "children": [
        "IPY_MODEL_a538563372dd4688850e89a48887fda8",
        "IPY_MODEL_ca9d33851c6e48358a721455e9d42354",
        "IPY_MODEL_845b6362edfa4c5ab13bce0ebd1f208a",
        "IPY_MODEL_d80ef7f8e6cd4df0a25e0b53186b80b4",
        "IPY_MODEL_3d97fad050d841a3a67a1b8f056855fd",
        "IPY_MODEL_ae2b78a382964de6a75c2d722d4aed9b",
        "IPY_MODEL_9a07365a86094cf8bf1f7d4f7f1953dd"
       ],
       "layout": "IPY_MODEL_f069610a5e28472e9170f742aaae7bb2"
      }
     },
     "9c9df79a361540c980a137ea9fb99840": {
      "model_module": "@jupyter-widgets/controls",
      "model_module_version": "1.5.0",
      "model_name": "DescriptionStyleModel",
      "state": {
       "description_width": "150px"
      }
     },
     "9cdb2c8d242d4beeb3d9388f48821640": {
      "model_module": "@jupyter-widgets/controls",
      "model_module_version": "1.5.0",
      "model_name": "ComboboxModel",
      "state": {
       "description": "Med Compliant",
       "ensure_option": false,
       "layout": "IPY_MODEL_42f9ab8dcbd947b893f1ada0c235c49a",
       "options": [
        "Patient reports that they have been compliant with their psychotropic medication regimen and denies adverse effects",
        "Patient reports that they have been non-compliant with their psychotropic medication regimen and denies adverse effects"
       ],
       "style": "IPY_MODEL_1ed7b156dff54009a32f0247c5324013"
      }
     },
     "9cdf1202378e48babf5309c7c0460393": {
      "model_module": "@jupyter-widgets/controls",
      "model_module_version": "1.5.0",
      "model_name": "DropdownModel",
      "state": {
       "_options_labels": [
        "a history",
        "no history"
       ],
       "description": "mania",
       "index": 1,
       "layout": "IPY_MODEL_6ca1abb4c0974a9b85bd5dd3b0292df2",
       "style": "IPY_MODEL_1059a84b249d43bbb577bb7c4e983c21"
      }
     },
     "9d077a68f3b84532a9a17bd8efaff12f": {
      "model_module": "@jupyter-widgets/controls",
      "model_module_version": "1.5.0",
      "model_name": "VBoxModel",
      "state": {
       "_dom_classes": [
        "widget-interact"
       ],
       "children": [
        "IPY_MODEL_cac39438b4d64bf2afb75124e9bcff7f",
        "IPY_MODEL_498edc26ac224a61872f8d7b6718494d",
        "IPY_MODEL_bcae6e5c534945c78c7f7b0dfbac1915",
        "IPY_MODEL_1ef6231ff25f4c7a9bc10e688177c5a3",
        "IPY_MODEL_b79b13d81bee417b95b2d4ea8b72c3c0",
        "IPY_MODEL_33a674c6601a4b5dad9c82cb562957c7",
        "IPY_MODEL_344362a652cf4d58b4faf9361abf9555",
        "IPY_MODEL_b76616d8d7a04dea963b1557aa635df3"
       ],
       "layout": "IPY_MODEL_d0581a60ea064c5ca5386eede98d1671"
      }
     },
     "9d46cf32a2434b1086f2adcc56d9e9c2": {
      "model_module": "@jupyter-widgets/base",
      "model_module_version": "1.2.0",
      "model_name": "LayoutModel",
      "state": {}
     },
     "9d786211907646ec857d396ecf991e73": {
      "model_module": "@jupyter-widgets/controls",
      "model_module_version": "1.5.0",
      "model_name": "DescriptionStyleModel",
      "state": {
       "description_width": "150px"
      }
     },
     "9d90cf3f248d48318bfb8473a5a9faaf": {
      "model_module": "@jupyter-widgets/base",
      "model_module_version": "1.2.0",
      "model_name": "LayoutModel",
      "state": {}
     },
     "9da7cd80ca6a4b1492650f34d9ed28a3": {
      "model_module": "@jupyter-widgets/controls",
      "model_module_version": "1.5.0",
      "model_name": "DescriptionStyleModel",
      "state": {
       "description_width": "150px"
      }
     },
     "9dc4619c9ade4739b3cb93f9ea73649c": {
      "model_module": "@jupyter-widgets/controls",
      "model_module_version": "1.5.0",
      "model_name": "TextareaModel",
      "state": {
       "description": "primary_substances",
       "layout": "IPY_MODEL_42f9ab8dcbd947b893f1ada0c235c49a",
       "style": "IPY_MODEL_5450456c91b24f24bdfc277eaadd2cb5",
       "value": "nothing"
      }
     },
     "9ddf8cff693d4cb0b37eb4c837dfc1c9": {
      "model_module": "@jupyter-widgets/controls",
      "model_module_version": "1.5.0",
      "model_name": "TextareaModel",
      "state": {
       "description": "notes",
       "layout": "IPY_MODEL_42f9ab8dcbd947b893f1ada0c235c49a",
       "style": "IPY_MODEL_42eb47574851485b9fa4e94d1287dfac"
      }
     },
     "9ded1d1a061b4fa68f388a32cda7b524": {
      "model_module": "@jupyter-widgets/output",
      "model_module_version": "1.0.0",
      "model_name": "OutputModel",
      "state": {
       "layout": "IPY_MODEL_53930ef91f56485cbf723849271fd89f",
       "outputs": [
        {
         "name": "stdout",
         "output_type": "stream",
         "text": "\nSubstance Use History:\nThe patient states that their primary substances of abuse include\nnothing with daily use for periods greater than \n6 months with resulting impairment in functioning. \nThey state that they have been in residential treatment 0 times, \nwith their longest period of sobriety lasting 0 days. \nThe patient denies history of IVDU. \nPatient denies seizures, complicated withdrawal, and DTs.\n\n    \n"
        }
       ]
      }
     },
     "9dff653867724dfd88054ba905da7309": {
      "model_module": "@jupyter-widgets/controls",
      "model_module_version": "1.5.0",
      "model_name": "ComboboxModel",
      "state": {
       "description": "med_statement",
       "ensure_option": false,
       "layout": "IPY_MODEL_6ca1abb4c0974a9b85bd5dd3b0292df2",
       "options": [
        "Patient declines psychotropic medication and elects for more conservative approaches to psychiatric symptom management at this time."
       ],
       "style": "IPY_MODEL_172f4613e7884b47a251c02e50b68dde"
      }
     },
     "9e12a70cc0b24b5d8517d407f5320012": {
      "model_module": "@jupyter-widgets/controls",
      "model_module_version": "1.5.0",
      "model_name": "DropdownModel",
      "state": {
       "_options_labels": [
        "denies",
        "endorses"
       ],
       "description": "guilt",
       "index": 0,
       "layout": "IPY_MODEL_6ca1abb4c0974a9b85bd5dd3b0292df2",
       "style": "IPY_MODEL_a0e0a25a890e44af970cf5522a965641"
      }
     },
     "9efac89adfba41baa4e0067710b07d0e": {
      "model_module": "@jupyter-widgets/controls",
      "model_module_version": "1.5.0",
      "model_name": "BoundedIntTextModel",
      "state": {
       "description": "longest_sober_time",
       "layout": "IPY_MODEL_6ca1abb4c0974a9b85bd5dd3b0292df2",
       "style": "IPY_MODEL_12ba092c7edd47eb8a3779741a3373a0"
      }
     },
     "9f90b4735cbc4ab29245647421e9b7a3": {
      "model_module": "@jupyter-widgets/controls",
      "model_module_version": "1.5.0",
      "model_name": "CheckboxModel",
      "state": {
       "description": "no mental illness",
       "disabled": false,
       "layout": "IPY_MODEL_eea5f2f9a9774fd5913d6626b49604f0",
       "style": "IPY_MODEL_1378adb44c5244ecb483f46de67eb2ef",
       "value": false
      }
     },
     "9fb2e71b312944bd87e174d0c520c45c": {
      "model_module": "@jupyter-widgets/base",
      "model_module_version": "1.2.0",
      "model_name": "LayoutModel",
      "state": {}
     },
     "9fdfe4f45fb04284b15097ddbf868f9f": {
      "model_module": "@jupyter-widgets/base",
      "model_module_version": "1.2.0",
      "model_name": "LayoutModel",
      "state": {}
     },
     "a019ed7e3be449599e643a649ad8d300": {
      "model_module": "@jupyter-widgets/base",
      "model_module_version": "1.2.0",
      "model_name": "LayoutModel",
      "state": {}
     },
     "a038eb9d369d4c1cae614594be440edf": {
      "model_module": "@jupyter-widgets/controls",
      "model_module_version": "1.5.0",
      "model_name": "DropdownModel",
      "state": {
       "_options_labels": [
        "deny",
        "indicate"
       ],
       "description": "past_depression",
       "index": 1,
       "layout": "IPY_MODEL_6ca1abb4c0974a9b85bd5dd3b0292df2",
       "style": "IPY_MODEL_373df1206fe34f5fabca3c1a27466585"
      }
     },
     "a03b6ba64d394566afb9caf70e6e40ae": {
      "model_module": "@jupyter-widgets/controls",
      "model_module_version": "1.5.0",
      "model_name": "DescriptionStyleModel",
      "state": {
       "description_width": ""
      }
     },
     "a0e0a25a890e44af970cf5522a965641": {
      "model_module": "@jupyter-widgets/controls",
      "model_module_version": "1.5.0",
      "model_name": "DescriptionStyleModel",
      "state": {
       "description_width": "150px"
      }
     },
     "a0fe0667a89b4dfd8d5edff78e89761a": {
      "model_module": "@jupyter-widgets/controls",
      "model_module_version": "1.5.0",
      "model_name": "DescriptionStyleModel",
      "state": {
       "description_width": "150px"
      }
     },
     "a13932304b6849058e07f51ad68b3584": {
      "model_module": "@jupyter-widgets/base",
      "model_module_version": "1.2.0",
      "model_name": "LayoutModel",
      "state": {}
     },
     "a13e268819e94e07a7e1e3cc033d3629": {
      "model_module": "@jupyter-widgets/base",
      "model_module_version": "1.2.0",
      "model_name": "LayoutModel",
      "state": {}
     },
     "a1b8023824e9406a80dd3ad6f65a4d08": {
      "model_module": "@jupyter-widgets/base",
      "model_module_version": "1.2.0",
      "model_name": "LayoutModel",
      "state": {}
     },
     "a1c32fbe86b045209b4812508df33ab8": {
      "model_module": "@jupyter-widgets/controls",
      "model_module_version": "1.5.0",
      "model_name": "VBoxModel",
      "state": {
       "children": [
        "IPY_MODEL_2921982a903d4c5a9419820cf56a6c7d",
        "IPY_MODEL_47c39f5bbe3442e1a8a12e0084cba595",
        "IPY_MODEL_9aaa9cd2ef884d2280ed469d17c7ee0f",
        "IPY_MODEL_5ee3b1624e4b4acaa5ac4852906eb40c",
        "IPY_MODEL_2c3397bf0a4d4594b196d49c08207cba",
        "IPY_MODEL_da6cb71ffdab4738bf028c32f97ac0e3",
        "IPY_MODEL_eca7a7d54c7a450ab6e20ee9a5922d9c",
        "IPY_MODEL_fc532fbf8cf9427bbb2884c9ed5c4644",
        "IPY_MODEL_d620845aca4a4eeebb9b4a17df1bb297",
        "IPY_MODEL_4c93018bfaf547a3b986088279aae86d"
       ],
       "layout": "IPY_MODEL_068fe166ea414430a1f90baa93abdd26"
      }
     },
     "a25b76fa7728430c9edcd5aa951f6ff2": {
      "model_module": "@jupyter-widgets/controls",
      "model_module_version": "1.5.0",
      "model_name": "DescriptionStyleModel",
      "state": {
       "description_width": ""
      }
     },
     "a26755ee5b7c4a18bb07a20e1ae21f13": {
      "model_module": "@jupyter-widgets/controls",
      "model_module_version": "1.5.0",
      "model_name": "DropdownModel",
      "state": {
       "_options_labels": [
        "good",
        "fair",
        "poor"
       ],
       "description": "appetite",
       "index": 1,
       "layout": "IPY_MODEL_6ca1abb4c0974a9b85bd5dd3b0292df2",
       "style": "IPY_MODEL_27a3173985804df39cf9df41c26d02bf"
      }
     },
     "a2e017a2cb634e8a95b90ce8d2f6cab6": {
      "model_module": "@jupyter-widgets/controls",
      "model_module_version": "1.5.0",
      "model_name": "VBoxModel",
      "state": {
       "children": [
        "IPY_MODEL_6605691a004641ada8f1651003ed15fc",
        "IPY_MODEL_e3014dd81023452ba16c9337ab7bdb0b",
        "IPY_MODEL_37d4ae6d829049958bc65d1ff831e6d0",
        "IPY_MODEL_4332519624224070bb607b01b52ef8d6"
       ],
       "layout": "IPY_MODEL_dc8caa0bbb504343ae8a9e64921204f4"
      }
     },
     "a30f58579b0c46d69e8855de5cd2cd5b": {
      "model_module": "@jupyter-widgets/controls",
      "model_module_version": "1.5.0",
      "model_name": "HBoxModel",
      "state": {
       "children": [
        "IPY_MODEL_aebeaa09a359465088bbeed7071182d8"
       ],
       "layout": "IPY_MODEL_f1750ab05ff048c1b669bc48333019a4"
      }
     },
     "a32a2d168bb4459aa427f700655a6e21": {
      "model_module": "@jupyter-widgets/base",
      "model_module_version": "1.2.0",
      "model_name": "LayoutModel",
      "state": {}
     },
     "a349c9939eb84e36b207ed0326bde844": {
      "model_module": "@jupyter-widgets/controls",
      "model_module_version": "1.5.0",
      "model_name": "DropdownModel",
      "state": {
       "_options_labels": [
        "denies",
        "endorses"
       ],
       "description": "guilt",
       "index": 0,
       "layout": "IPY_MODEL_42f9ab8dcbd947b893f1ada0c235c49a",
       "style": "IPY_MODEL_c564666e281e473c9222b3a9b410a14e"
      }
     },
     "a3601dafdbee400db7dce324a2f5ac73": {
      "model_module": "@jupyter-widgets/controls",
      "model_module_version": "1.5.0",
      "model_name": "DescriptionStyleModel",
      "state": {
       "description_width": ""
      }
     },
     "a382ee3577c4450ebeca581c06bb307a": {
      "model_module": "@jupyter-widgets/controls",
      "model_module_version": "1.5.0",
      "model_name": "CheckboxModel",
      "state": {
       "description": "mushrooms",
       "disabled": false,
       "layout": "IPY_MODEL_0b9baa0733bc4ad1bc25f1dd61983a35",
       "style": "IPY_MODEL_ff77b6fef28246c0890f5b898c80d8b2",
       "value": false
      }
     },
     "a385c3642131421aa31f266a9b19c830": {
      "model_module": "@jupyter-widgets/base",
      "model_module_version": "1.2.0",
      "model_name": "LayoutModel",
      "state": {}
     },
     "a38ef2b3ef0b4fd1acd865e398ee9c92": {
      "model_module": "@jupyter-widgets/controls",
      "model_module_version": "1.5.0",
      "model_name": "DescriptionStyleModel",
      "state": {
       "description_width": ""
      }
     },
     "a3d122785dfc4ceda2520087fcf24180": {
      "model_module": "@jupyter-widgets/controls",
      "model_module_version": "1.5.0",
      "model_name": "CheckboxModel",
      "state": {
       "description": "cannabis",
       "disabled": false,
       "layout": "IPY_MODEL_35a2e8c78b994a559bb628e1d9f87c06",
       "style": "IPY_MODEL_3b10a0ffb730451dbc6349c5721ef790",
       "value": false
      }
     },
     "a3f32f88ed79413d994947eab6b62eae": {
      "model_module": "@jupyter-widgets/controls",
      "model_module_version": "1.5.0",
      "model_name": "DescriptionStyleModel",
      "state": {
       "description_width": ""
      }
     },
     "a401e49430f84ca582bcc0321e481045": {
      "model_module": "@jupyter-widgets/controls",
      "model_module_version": "1.5.0",
      "model_name": "DescriptionStyleModel",
      "state": {
       "description_width": ""
      }
     },
     "a408ae4fac444bba9203055885906441": {
      "model_module": "@jupyter-widgets/controls",
      "model_module_version": "1.5.0",
      "model_name": "DropdownModel",
      "state": {
       "_options_labels": [
        "declines",
        "is amenable with"
       ],
       "description": "Med Adjust",
       "index": 0,
       "layout": "IPY_MODEL_42f9ab8dcbd947b893f1ada0c235c49a",
       "style": "IPY_MODEL_ad050b6e6fb8465295e90f5aa73af5c8"
      }
     },
     "a40dc7ac397f441aa66fe2e3d10ae3a9": {
      "model_module": "@jupyter-widgets/base",
      "model_module_version": "1.2.0",
      "model_name": "LayoutModel",
      "state": {}
     },
     "a42890b9c2214bf1843a8f9a6d290b77": {
      "model_module": "@jupyter-widgets/controls",
      "model_module_version": "1.5.0",
      "model_name": "HBoxModel",
      "state": {
       "children": [
        "IPY_MODEL_ffbbaeb98f424aa8b7e2f24e1a13691e",
        "IPY_MODEL_1c022e53b2844297ad8f813f806fe300",
        "IPY_MODEL_ab191898955343f2a03441b198f4e7e1"
       ],
       "layout": "IPY_MODEL_9b47228454a0480d9b5689f4b01eba04"
      }
     },
     "a51872fc08d745f18f407e0ff6a878ba": {
      "model_module": "@jupyter-widgets/base",
      "model_module_version": "1.2.0",
      "model_name": "LayoutModel",
      "state": {}
     },
     "a538563372dd4688850e89a48887fda8": {
      "model_module": "@jupyter-widgets/controls",
      "model_module_version": "1.5.0",
      "model_name": "DropdownModel",
      "state": {
       "_options_labels": [
        "denies",
        "endorses"
       ],
       "description": "hospitalization",
       "index": 0,
       "layout": "IPY_MODEL_42f9ab8dcbd947b893f1ada0c235c49a",
       "style": "IPY_MODEL_f9c1dc7034ee493190aa4cfd6401fc21"
      }
     },
     "a55a13d808a749c787ac448fc0a70f22": {
      "model_module": "@jupyter-widgets/controls",
      "model_module_version": "1.5.0",
      "model_name": "CheckboxModel",
      "state": {
       "description": "anxiety",
       "disabled": false,
       "layout": "IPY_MODEL_12df1037a1ac448cb65384dfa29170a4",
       "style": "IPY_MODEL_b402141f208e45bda593421a8b4cadc9",
       "value": false
      }
     },
     "a5a2403aba62405ea1523fc8ffac388e": {
      "model_module": "@jupyter-widgets/controls",
      "model_module_version": "1.5.0",
      "model_name": "HBoxModel",
      "state": {
       "children": [
        "IPY_MODEL_3b00bc2ca6114b7d90b594b704cab5a6",
        "IPY_MODEL_16c56bcb81534729802cbedbe16b71e9",
        "IPY_MODEL_a1c32fbe86b045209b4812508df33ab8"
       ],
       "layout": "IPY_MODEL_d9dc02afd8e040409c82af01469c0e8d"
      }
     },
     "a5c49bdcaea7463897ff54336f53932d": {
      "model_module": "@jupyter-widgets/base",
      "model_module_version": "1.2.0",
      "model_name": "LayoutModel",
      "state": {}
     },
     "a5e711c80a304fe49c382959de8076c5": {
      "model_module": "@jupyter-widgets/controls",
      "model_module_version": "1.5.0",
      "model_name": "ComboboxModel",
      "state": {
       "description": "med_statement",
       "ensure_option": false,
       "layout": "IPY_MODEL_42f9ab8dcbd947b893f1ada0c235c49a",
       "options": [
        "Patient declines psychotropic medication and elects for more conservative approaches to psychiatric symptom management at this time."
       ],
       "style": "IPY_MODEL_85715f5fb0d648d1a684e2ff53de69b7"
      }
     },
     "a605e2356ffe44c68d1d22781e9c6668": {
      "model_module": "@jupyter-widgets/controls",
      "model_module_version": "1.5.0",
      "model_name": "DescriptionStyleModel",
      "state": {
       "description_width": "150px"
      }
     },
     "a624aee6697148adb62da432c6c74dad": {
      "model_module": "@jupyter-widgets/controls",
      "model_module_version": "1.5.0",
      "model_name": "DropdownModel",
      "state": {
       "_options_labels": [
        "denies",
        "endorses"
       ],
       "description": "Self injury",
       "index": 0,
       "layout": "IPY_MODEL_42f9ab8dcbd947b893f1ada0c235c49a",
       "style": "IPY_MODEL_1f28e5c9f8dc4e3794f58291b9403b8f"
      }
     },
     "a67c0058004b42b085f68857b4b6226d": {
      "model_module": "@jupyter-widgets/controls",
      "model_module_version": "1.5.0",
      "model_name": "DescriptionStyleModel",
      "state": {
       "description_width": ""
      }
     },
     "a6928eae26004e35a8fb3f1d350281a6": {
      "model_module": "@jupyter-widgets/base",
      "model_module_version": "1.2.0",
      "model_name": "LayoutModel",
      "state": {}
     },
     "a6cd6b7d34ea4ab0b11154e5594a256a": {
      "model_module": "@jupyter-widgets/controls",
      "model_module_version": "1.5.0",
      "model_name": "DescriptionStyleModel",
      "state": {
       "description_width": "150px"
      }
     },
     "a6e98a36d2b343e6be184fc6012b0ff4": {
      "model_module": "@jupyter-widgets/base",
      "model_module_version": "1.2.0",
      "model_name": "LayoutModel",
      "state": {}
     },
     "a6ebb3a967fb4d02aa226ac9cdc84294": {
      "model_module": "@jupyter-widgets/controls",
      "model_module_version": "1.5.0",
      "model_name": "TextareaModel",
      "state": {
       "description": "notes",
       "layout": "IPY_MODEL_42f9ab8dcbd947b893f1ada0c235c49a",
       "style": "IPY_MODEL_69caa707dd784aea94fbc47c2fc20a20"
      }
     },
     "a7b9f247d619440a8df331ff4e56882f": {
      "model_module": "@jupyter-widgets/output",
      "model_module_version": "1.0.0",
      "model_name": "OutputModel",
      "state": {
       "layout": "IPY_MODEL_ef51f602216f470cbc389bc4987d6f8f",
       "outputs": [
        {
         "name": "stdout",
         "output_type": "stream",
         "text": "\nThe patient denies that they worry regularly about multiple aspects of their life with accompanying physical symptoms.\nOver the past several weeks, the patient denies any excessive worrying,  \nfeeling keyed up and on edge, irritability, or panic attacks. \n\n\n"
        }
       ]
      }
     },
     "a7eb8595ff5d40f0a1e7132f9d600121": {
      "model_module": "@jupyter-widgets/controls",
      "model_module_version": "1.5.0",
      "model_name": "DropdownModel",
      "state": {
       "_options_labels": [
        "deny",
        "indicate"
       ],
       "description": "Past Depression",
       "index": 1,
       "layout": "IPY_MODEL_42f9ab8dcbd947b893f1ada0c235c49a",
       "style": "IPY_MODEL_e1dc0c746b6348948f008403f9099dd9"
      }
     },
     "a8332089f68b4f44b44d9385198a32bf": {
      "model_module": "@jupyter-widgets/base",
      "model_module_version": "1.2.0",
      "model_name": "LayoutModel",
      "state": {}
     },
     "a8887e16d9364df4af765443438652b9": {
      "model_module": "@jupyter-widgets/controls",
      "model_module_version": "1.5.0",
      "model_name": "DescriptionStyleModel",
      "state": {
       "description_width": "150px"
      }
     },
     "a906364ef6ea4adc9742768dc81d97c1": {
      "model_module": "@jupyter-widgets/base",
      "model_module_version": "1.2.0",
      "model_name": "LayoutModel",
      "state": {}
     },
     "a990f2a38aa5437181d8e33eb38faea2": {
      "model_module": "@jupyter-widgets/controls",
      "model_module_version": "1.5.0",
      "model_name": "DescriptionStyleModel",
      "state": {
       "description_width": "150px"
      }
     },
     "a9c609487c0a4379a3f395107a8cb67c": {
      "model_module": "@jupyter-widgets/controls",
      "model_module_version": "1.5.0",
      "model_name": "DescriptionStyleModel",
      "state": {
       "description_width": "150px"
      }
     },
     "a9ee95d9e04a4424a7069556080fb4f1": {
      "model_module": "@jupyter-widgets/base",
      "model_module_version": "1.2.0",
      "model_name": "LayoutModel",
      "state": {}
     },
     "aa0100642bb74d2a96b3c647cbbd8244": {
      "model_module": "@jupyter-widgets/base",
      "model_module_version": "1.2.0",
      "model_name": "LayoutModel",
      "state": {}
     },
     "aa3c0fc6dd5e45f0a5817574d6c1d3ca": {
      "model_module": "@jupyter-widgets/base",
      "model_module_version": "1.2.0",
      "model_name": "LayoutModel",
      "state": {
       "height": "100px",
       "width": "500px"
      }
     },
     "aa77061826a943f0bb9cdf826cdd244f": {
      "model_module": "@jupyter-widgets/base",
      "model_module_version": "1.2.0",
      "model_name": "LayoutModel",
      "state": {}
     },
     "aab26c2e53fa40fcad4f1542853b37aa": {
      "model_module": "@jupyter-widgets/base",
      "model_module_version": "1.2.0",
      "model_name": "LayoutModel",
      "state": {}
     },
     "aabc11ddb15e4887a80d49c3e506b7b2": {
      "model_module": "@jupyter-widgets/controls",
      "model_module_version": "1.5.0",
      "model_name": "CheckboxModel",
      "state": {
       "description": "ptsd",
       "disabled": false,
       "layout": "IPY_MODEL_34a1786614d841b89d6008f075784352",
       "style": "IPY_MODEL_01f86503e7a54a90855c518f6c1f20d8",
       "value": false
      }
     },
     "aad2ec1abfb244b9acf157bd315fdd35": {
      "model_module": "@jupyter-widgets/controls",
      "model_module_version": "1.5.0",
      "model_name": "DescriptionStyleModel",
      "state": {
       "description_width": ""
      }
     },
     "aae003a4103e48a9b9dc938b8c4feabb": {
      "model_module": "@jupyter-widgets/controls",
      "model_module_version": "1.5.0",
      "model_name": "HBoxModel",
      "state": {
       "children": [
        "IPY_MODEL_2e290dd7072e4c6f9d0a9d24fa958812",
        "IPY_MODEL_bde4dc62db8b47e0a8be80e351b4b57a"
       ],
       "layout": "IPY_MODEL_64a6755a00f54085961656b06152b60f"
      }
     },
     "ab191898955343f2a03441b198f4e7e1": {
      "model_module": "@jupyter-widgets/controls",
      "model_module_version": "1.5.0",
      "model_name": "VBoxModel",
      "state": {
       "children": [
        "IPY_MODEL_8e86d73da2bf4c0a94363d52a4c616e8",
        "IPY_MODEL_745a99505ef6498a9e8ed6f1ebe79fd6",
        "IPY_MODEL_66072c2b35d942b4badb5d0c5fd6e8dc",
        "IPY_MODEL_b12114e0a7a14ec780874913a8d6d952",
        "IPY_MODEL_c51093f769074027a88a17a751142c4b",
        "IPY_MODEL_5f5aedd13b4e4d61aa3095c8f2e93782",
        "IPY_MODEL_6387ce9bff1b4096a52dd3725c24222c",
        "IPY_MODEL_b129573778b146aca83b54ad03e911a4",
        "IPY_MODEL_4cc37202707842a1b11e5dd0d584edff",
        "IPY_MODEL_33763fff9c6544998458b186f739c6a4"
       ],
       "layout": "IPY_MODEL_f2a5eb72cc574174bde9f2f7389ae989"
      }
     },
     "ab65985336954cf18299ccc2890532bd": {
      "model_module": "@jupyter-widgets/base",
      "model_module_version": "1.2.0",
      "model_name": "LayoutModel",
      "state": {}
     },
     "ab79367380014aa6b38c503965b03625": {
      "model_module": "@jupyter-widgets/controls",
      "model_module_version": "1.5.0",
      "model_name": "CheckboxModel",
      "state": {
       "description": "polysubstance",
       "disabled": false,
       "layout": "IPY_MODEL_bb7b1a6ddedd4fc8b93a2ff58baa412f",
       "style": "IPY_MODEL_4c3391b29d304c89a9aec0dfd78ba2fc",
       "value": false
      }
     },
     "ab9064a6ee9d41f581b2ca585e57930f": {
      "model_module": "@jupyter-widgets/controls",
      "model_module_version": "1.5.0",
      "model_name": "CheckboxModel",
      "state": {
       "description": "methamphetamine",
       "disabled": false,
       "layout": "IPY_MODEL_e4dee5a049794e0e8d61a1e030228d44",
       "style": "IPY_MODEL_17535b5219a841208862008eb51bb068",
       "value": false
      }
     },
     "ab998ccadcf44ac08bbaa13359248f09": {
      "model_module": "@jupyter-widgets/base",
      "model_module_version": "1.2.0",
      "model_name": "LayoutModel",
      "state": {}
     },
     "abac082f8b9547d8a3a81105331eb0a5": {
      "model_module": "@jupyter-widgets/controls",
      "model_module_version": "1.5.0",
      "model_name": "DescriptionStyleModel",
      "state": {
       "description_width": "150px"
      }
     },
     "ac162acf8d054751aba3ddd4622a856a": {
      "model_module": "@jupyter-widgets/base",
      "model_module_version": "1.2.0",
      "model_name": "LayoutModel",
      "state": {}
     },
     "ac207d9880794d00921e0fa7c98bb5c1": {
      "model_module": "@jupyter-widgets/controls",
      "model_module_version": "1.5.0",
      "model_name": "DescriptionStyleModel",
      "state": {
       "description_width": ""
      }
     },
     "ac3bb641063743bc8b7a9977939a3c39": {
      "model_module": "@jupyter-widgets/base",
      "model_module_version": "1.2.0",
      "model_name": "LayoutModel",
      "state": {}
     },
     "ac5a71d2fc0b4eaaa7944b79fbce9df5": {
      "model_module": "@jupyter-widgets/base",
      "model_module_version": "1.2.0",
      "model_name": "LayoutModel",
      "state": {}
     },
     "acaf03c89fb5438bb0dcea57260425ca": {
      "model_module": "@jupyter-widgets/controls",
      "model_module_version": "1.5.0",
      "model_name": "CheckboxModel",
      "state": {
       "description": "cannabis",
       "disabled": false,
       "layout": "IPY_MODEL_68b9cf5b194e4530972c8529c5f8e8c8",
       "style": "IPY_MODEL_0bfd4df0fba749a7bbcd6136ed6fdb94",
       "value": false
      }
     },
     "acb080669ff043748627a370f4f59bba": {
      "model_module": "@jupyter-widgets/controls",
      "model_module_version": "1.5.0",
      "model_name": "DescriptionStyleModel",
      "state": {
       "description_width": ""
      }
     },
     "acde96118e4445f7bd55084baee5f78c": {
      "model_module": "@jupyter-widgets/controls",
      "model_module_version": "1.5.0",
      "model_name": "DescriptionStyleModel",
      "state": {
       "description_width": "150px"
      }
     },
     "ad050b6e6fb8465295e90f5aa73af5c8": {
      "model_module": "@jupyter-widgets/controls",
      "model_module_version": "1.5.0",
      "model_name": "DescriptionStyleModel",
      "state": {
       "description_width": "150px"
      }
     },
     "ada830d162e54a51bf20e22c5a839849": {
      "model_module": "@jupyter-widgets/controls",
      "model_module_version": "1.5.0",
      "model_name": "CheckboxModel",
      "state": {
       "description": "no mental illness",
       "disabled": false,
       "layout": "IPY_MODEL_5b0dce47bb2149a988847bdff1ae2cb4",
       "style": "IPY_MODEL_788be75013c748298f0620476da29d18",
       "value": false
      }
     },
     "ade172e8e61d45d9ad1fe97cc4cd9ff1": {
      "model_module": "@jupyter-widgets/base",
      "model_module_version": "1.2.0",
      "model_name": "LayoutModel",
      "state": {}
     },
     "ae2b78a382964de6a75c2d722d4aed9b": {
      "model_module": "@jupyter-widgets/controls",
      "model_module_version": "1.5.0",
      "model_name": "TextareaModel",
      "state": {
       "description": "notes",
       "layout": "IPY_MODEL_42f9ab8dcbd947b893f1ada0c235c49a",
       "style": "IPY_MODEL_218938329ad543c3a89d56451629bacf"
      }
     },
     "ae6ee73db4f44aa38ab58a6140657d54": {
      "model_module": "@jupyter-widgets/controls",
      "model_module_version": "1.5.0",
      "model_name": "TextareaModel",
      "state": {
       "description": "Current medication",
       "layout": "IPY_MODEL_42f9ab8dcbd947b893f1ada0c235c49a",
       "placeholder": "Type something",
       "style": "IPY_MODEL_d4da56c8711845c68cbb7c4f99d0ea54"
      }
     },
     "ae7840dd1cb944ca8b591d5e2a2d693f": {
      "model_module": "@jupyter-widgets/base",
      "model_module_version": "1.2.0",
      "model_name": "LayoutModel",
      "state": {
       "height": "100px",
       "width": "500px"
      }
     },
     "aebeaa09a359465088bbeed7071182d8": {
      "model_module": "@jupyter-widgets/controls",
      "model_module_version": "1.5.0",
      "model_name": "TextareaModel",
      "state": {
       "description": "Notes:",
       "layout": "IPY_MODEL_80722a3f3c244eb2a7b014055bf4bb64",
       "style": "IPY_MODEL_3d6b4b36d5304a6ebd851363c8692cfc"
      }
     },
     "aed4814ede43464abe8599ab3b183604": {
      "model_module": "@jupyter-widgets/controls",
      "model_module_version": "1.5.0",
      "model_name": "CheckboxModel",
      "state": {
       "description": "Amphetamine-type substance use disorder Severe",
       "disabled": false,
       "layout": "IPY_MODEL_371c9121c69e4b4b80646b779d1608d3",
       "style": "IPY_MODEL_0f20b646ea67464086e939b6b4cc9712",
       "value": false
      }
     },
     "af3b1c1cb5a24f9e9d71de156ff80519": {
      "model_module": "@jupyter-widgets/controls",
      "model_module_version": "1.5.0",
      "model_name": "DescriptionStyleModel",
      "state": {
       "description_width": "150px"
      }
     },
     "afdb1d47800d40968cb3c3c9b7f2369f": {
      "model_module": "@jupyter-widgets/controls",
      "model_module_version": "1.5.0",
      "model_name": "DescriptionStyleModel",
      "state": {
       "description_width": ""
      }
     },
     "aff4f33e811145f5bbecb8ccb423117a": {
      "model_module": "@jupyter-widgets/controls",
      "model_module_version": "1.5.0",
      "model_name": "DescriptionStyleModel",
      "state": {
       "description_width": "150px"
      }
     },
     "b08908dd2d8c40698dcf6a752e5deaf6": {
      "model_module": "@jupyter-widgets/base",
      "model_module_version": "1.2.0",
      "model_name": "LayoutModel",
      "state": {}
     },
     "b0b31859f8624202b2348a0dd0714632": {
      "model_module": "@jupyter-widgets/controls",
      "model_module_version": "1.5.0",
      "model_name": "BoundedIntTextModel",
      "state": {
       "description": "# times in trt",
       "layout": "IPY_MODEL_42f9ab8dcbd947b893f1ada0c235c49a",
       "style": "IPY_MODEL_1ffdb5f029fc472e9c52580d60eb9964"
      }
     },
     "b0ea61871eb345bab9a1c914096f52ff": {
      "model_module": "@jupyter-widgets/base",
      "model_module_version": "1.2.0",
      "model_name": "LayoutModel",
      "state": {}
     },
     "b12114e0a7a14ec780874913a8d6d952": {
      "model_module": "@jupyter-widgets/controls",
      "model_module_version": "1.5.0",
      "model_name": "CheckboxModel",
      "state": {
       "description": "adhd",
       "disabled": false,
       "layout": "IPY_MODEL_422d2cb292c94ee9baa07d5b12d4ca5c",
       "style": "IPY_MODEL_f2d2c8431b4b48e6bf11af9aa4ffb3e1",
       "value": false
      }
     },
     "b129573778b146aca83b54ad03e911a4": {
      "model_module": "@jupyter-widgets/controls",
      "model_module_version": "1.5.0",
      "model_name": "CheckboxModel",
      "state": {
       "description": "psychosis",
       "disabled": false,
       "layout": "IPY_MODEL_beacbaddef8043559fb78d7c542732cc",
       "style": "IPY_MODEL_7549e394377047338f9584bac690913f",
       "value": false
      }
     },
     "b13c5b2cb83847aab6ea2bef28118121": {
      "model_module": "@jupyter-widgets/controls",
      "model_module_version": "1.5.0",
      "model_name": "CheckboxModel",
      "state": {
       "description": "ketamine",
       "disabled": false,
       "layout": "IPY_MODEL_7017f804a39e4adabe23748d678138fa",
       "style": "IPY_MODEL_761d36515bb74b23a320294f825f01ec",
       "value": false
      }
     },
     "b14dbce9d3fd4061a0d7503837646711": {
      "model_module": "@jupyter-widgets/controls",
      "model_module_version": "1.5.0",
      "model_name": "DropdownModel",
      "state": {
       "_options_labels": [
        "denies",
        "endorses"
       ],
       "description": "seizures",
       "index": 0,
       "layout": "IPY_MODEL_6ca1abb4c0974a9b85bd5dd3b0292df2",
       "style": "IPY_MODEL_7fb24ccd5a994d4cae7111d33951db14"
      }
     },
     "b155b30b37dd48d3ab4c586c16ca9c09": {
      "model_module": "@jupyter-widgets/base",
      "model_module_version": "1.2.0",
      "model_name": "LayoutModel",
      "state": {}
     },
     "b1582de4850841f49529d171432b6c48": {
      "model_module": "@jupyter-widgets/controls",
      "model_module_version": "1.5.0",
      "model_name": "DescriptionStyleModel",
      "state": {
       "description_width": "150px"
      }
     },
     "b167490b65e949db9db54c1bd4fe9395": {
      "model_module": "@jupyter-widgets/controls",
      "model_module_version": "1.5.0",
      "model_name": "CheckboxModel",
      "state": {
       "description": "heroin",
       "disabled": false,
       "layout": "IPY_MODEL_56754758998042dd8e4401b7d76c2653",
       "style": "IPY_MODEL_ed9be39b4d484619abbf19d6322f3865",
       "value": false
      }
     },
     "b176ff9d339a410e854782529972edd2": {
      "model_module": "@jupyter-widgets/base",
      "model_module_version": "1.2.0",
      "model_name": "LayoutModel",
      "state": {}
     },
     "b26eb6ca5fd24a9fa55bdcd01009aaaa": {
      "model_module": "@jupyter-widgets/base",
      "model_module_version": "1.2.0",
      "model_name": "LayoutModel",
      "state": {}
     },
     "b2741a499efe42838513fdcce2f1c019": {
      "model_module": "@jupyter-widgets/output",
      "model_module_version": "1.0.0",
      "model_name": "OutputModel",
      "state": {
       "layout": "IPY_MODEL_9fb2e71b312944bd87e174d0c520c45c",
       "outputs": [
        {
         "name": "stdout",
         "output_type": "stream",
         "text": "\nCurrent Medication:\n\n \nPatient declines adjustments to their medication regimen.\n\n\n\n"
        }
       ]
      }
     },
     "b27d308eb8ee40c8ac68a3e3abf5478f": {
      "model_module": "@jupyter-widgets/controls",
      "model_module_version": "1.5.0",
      "model_name": "DescriptionStyleModel",
      "state": {
       "description_width": ""
      }
     },
     "b27d4f871c9541279687ce4e02275c89": {
      "model_module": "@jupyter-widgets/controls",
      "model_module_version": "1.5.0",
      "model_name": "DescriptionStyleModel",
      "state": {
       "description_width": "150px"
      }
     },
     "b292893fc7454cfe8179dd10b7169b82": {
      "model_module": "@jupyter-widgets/controls",
      "model_module_version": "1.5.0",
      "model_name": "CheckboxModel",
      "state": {
       "description": "ecstasy/MDMA",
       "disabled": false,
       "layout": "IPY_MODEL_5c9197f7c6f542cc8b6b50699dc0b6ec",
       "style": "IPY_MODEL_35ad2e44671247ff99b6fd4845278fd8",
       "value": false
      }
     },
     "b29316fa0f9546caad3122f35dcc6464": {
      "model_module": "@jupyter-widgets/controls",
      "model_module_version": "1.5.0",
      "model_name": "DescriptionStyleModel",
      "state": {
       "description_width": "150px"
      }
     },
     "b29342a239b54fbfa6f7c99be479e1ac": {
      "model_module": "@jupyter-widgets/controls",
      "model_module_version": "1.5.0",
      "model_name": "DropdownModel",
      "state": {
       "_options_labels": [
        "denies",
        "endorses"
       ],
       "description": "anhedonia",
       "index": 0,
       "layout": "IPY_MODEL_42f9ab8dcbd947b893f1ada0c235c49a",
       "style": "IPY_MODEL_24cbcb40e7234f9e9b0487a5accf1afe"
      }
     },
     "b2b766a577684f3c9696aadef30d7bb2": {
      "model_module": "@jupyter-widgets/controls",
      "model_module_version": "1.5.0",
      "model_name": "DropdownModel",
      "state": {
       "_options_labels": [
        "denies",
        "endorses"
       ],
       "description": "anxiety",
       "index": 0,
       "layout": "IPY_MODEL_42f9ab8dcbd947b893f1ada0c235c49a",
       "style": "IPY_MODEL_d2a6f340d56b423185453a57c0799313"
      }
     },
     "b304a49a64b3422d9b6c0da2668c3331": {
      "model_module": "@jupyter-widgets/controls",
      "model_module_version": "1.5.0",
      "model_name": "CheckboxModel",
      "state": {
       "description": "ecstasy/MDMA",
       "disabled": false,
       "layout": "IPY_MODEL_b26eb6ca5fd24a9fa55bdcd01009aaaa",
       "style": "IPY_MODEL_cd492e36d68940daa6055d589fd6981d",
       "value": false
      }
     },
     "b30cff34134c48c28809e24690559070": {
      "model_module": "@jupyter-widgets/controls",
      "model_module_version": "1.5.0",
      "model_name": "DescriptionStyleModel",
      "state": {
       "description_width": ""
      }
     },
     "b381a36815664d5eadcdd20a24374b8f": {
      "model_module": "@jupyter-widgets/controls",
      "model_module_version": "1.5.0",
      "model_name": "BoundedIntTextModel",
      "state": {
       "description": "num_children",
       "layout": "IPY_MODEL_6ca1abb4c0974a9b85bd5dd3b0292df2",
       "style": "IPY_MODEL_29d0dc3284f84c51b72e160947431ba0"
      }
     },
     "b39fe27561aa44cea50350a8bc181909": {
      "model_module": "@jupyter-widgets/controls",
      "model_module_version": "1.5.0",
      "model_name": "TextareaModel",
      "state": {
       "description": "Current medication",
       "layout": "IPY_MODEL_42f9ab8dcbd947b893f1ada0c235c49a",
       "placeholder": "Type something",
       "style": "IPY_MODEL_e6449e91ce7f46d9acf5a84f2d3a0fc4"
      }
     },
     "b3b05ff090c64e4dad3b9f3e24ffecd3": {
      "model_module": "@jupyter-widgets/base",
      "model_module_version": "1.2.0",
      "model_name": "LayoutModel",
      "state": {}
     },
     "b402141f208e45bda593421a8b4cadc9": {
      "model_module": "@jupyter-widgets/controls",
      "model_module_version": "1.5.0",
      "model_name": "DescriptionStyleModel",
      "state": {
       "description_width": ""
      }
     },
     "b43d3ea89aeb44c085bb08f8a46bd2b7": {
      "model_module": "@jupyter-widgets/controls",
      "model_module_version": "1.5.0",
      "model_name": "DescriptionStyleModel",
      "state": {
       "description_width": ""
      }
     },
     "b444ae83ba6641bcbac152435573b92f": {
      "model_module": "@jupyter-widgets/controls",
      "model_module_version": "1.5.0",
      "model_name": "DropdownModel",
      "state": {
       "_options_labels": [
        "denies",
        "endorses"
       ],
       "description": "Cravings",
       "index": 0,
       "layout": "IPY_MODEL_42f9ab8dcbd947b893f1ada0c235c49a",
       "style": "IPY_MODEL_2e4b40c530604e3490642cc244c7f0b7"
      }
     },
     "b468ac281544419582538787fa8e08a6": {
      "model_module": "@jupyter-widgets/controls",
      "model_module_version": "1.5.0",
      "model_name": "DescriptionStyleModel",
      "state": {
       "description_width": "150px"
      }
     },
     "b47144dde6ba4042bf30053ecf219f37": {
      "model_module": "@jupyter-widgets/controls",
      "model_module_version": "1.5.0",
      "model_name": "DescriptionStyleModel",
      "state": {
       "description_width": "150px"
      }
     },
     "b4dc3a1bc67f410086029393cd7bbd73": {
      "model_module": "@jupyter-widgets/controls",
      "model_module_version": "1.5.0",
      "model_name": "DescriptionStyleModel",
      "state": {
       "description_width": ""
      }
     },
     "b4edbdf729814a7cb1b22f327e024086": {
      "model_module": "@jupyter-widgets/base",
      "model_module_version": "1.2.0",
      "model_name": "LayoutModel",
      "state": {}
     },
     "b4fd745ee258423680d316683ffa8551": {
      "model_module": "@jupyter-widgets/controls",
      "model_module_version": "1.5.0",
      "model_name": "DropdownModel",
      "state": {
       "_options_labels": [
        "denies",
        "endorses"
       ],
       "description": "suicide",
       "index": 0,
       "layout": "IPY_MODEL_42f9ab8dcbd947b893f1ada0c235c49a",
       "style": "IPY_MODEL_2ea9bf1eb784458a9c1c5c5a51e2fa19"
      }
     },
     "b500b88e17a34a9db30814b862c63902": {
      "model_module": "@jupyter-widgets/base",
      "model_module_version": "1.2.0",
      "model_name": "LayoutModel",
      "state": {}
     },
     "b521cecc929b43a49aedd942c8a3f2f6": {
      "model_module": "@jupyter-widgets/controls",
      "model_module_version": "1.5.0",
      "model_name": "VBoxModel",
      "state": {
       "_dom_classes": [
        "widget-interact"
       ],
       "children": [
        "IPY_MODEL_929257c24fab491ea3a39a27fa48f7da",
        "IPY_MODEL_57fea0c1bbb34d91b7cfcdba0468c3d4",
        "IPY_MODEL_ca4f0dd260f54507b65483af45f89fb5",
        "IPY_MODEL_0d839e96762541a0aea38a82cf109590"
       ],
       "layout": "IPY_MODEL_ff7ff2cb6c3441cf9463e6aacbdf3acc"
      }
     },
     "b5366678f9ec424f9b1e86b1d22d5448": {
      "model_module": "@jupyter-widgets/controls",
      "model_module_version": "1.5.0",
      "model_name": "DescriptionStyleModel",
      "state": {
       "description_width": ""
      }
     },
     "b59f60555abb4322a62b0138932cd6c7": {
      "model_module": "@jupyter-widgets/controls",
      "model_module_version": "1.5.0",
      "model_name": "VBoxModel",
      "state": {
       "children": [
        "IPY_MODEL_3abae2e3dd154b25bb87a37f176dabbc",
        "IPY_MODEL_f0b14d85fcc040d29a238fd6c88a2bba",
        "IPY_MODEL_fb16222f01874959b7b6dc5db7206b5f",
        "IPY_MODEL_0faf80ac6fd942049c0e471f48b6b535",
        "IPY_MODEL_a3d122785dfc4ceda2520087fcf24180",
        "IPY_MODEL_5b8cb1abbba04879bb70bb5e4209a550",
        "IPY_MODEL_265c5b95f0814562ae90c183ebe90df4",
        "IPY_MODEL_c7ed4e54f51b4f558d804c250598abe2",
        "IPY_MODEL_01672c8bf3f04353871feb06293cc9f7",
        "IPY_MODEL_d50c50183f4f4fa8b60dff0094f8598d",
        "IPY_MODEL_6d5a0aa5756d4dd693737cff95101b31",
        "IPY_MODEL_f8cdeb0db9ca49e4b26981ba99f24381",
        "IPY_MODEL_d1667a1192054985965312f9170cedaf",
        "IPY_MODEL_67d67f520d934261be75e65e6530d20b"
       ],
       "layout": "IPY_MODEL_7b8f932395fe4431bfdcb103e2e4e867"
      }
     },
     "b5b0450336d84516b6b7dfdd51f95531": {
      "model_module": "@jupyter-widgets/controls",
      "model_module_version": "1.5.0",
      "model_name": "DescriptionStyleModel",
      "state": {
       "description_width": "150px"
      }
     },
     "b5b5d7e71206418fb85d55b357634a64": {
      "model_module": "@jupyter-widgets/controls",
      "model_module_version": "1.5.0",
      "model_name": "DescriptionStyleModel",
      "state": {
       "description_width": ""
      }
     },
     "b5b942290bf7426c81449e01bb76c8c5": {
      "model_module": "@jupyter-widgets/base",
      "model_module_version": "1.2.0",
      "model_name": "LayoutModel",
      "state": {}
     },
     "b5cd8bf24bbc44bbb83a174869a70874": {
      "model_module": "@jupyter-widgets/base",
      "model_module_version": "1.2.0",
      "model_name": "LayoutModel",
      "state": {}
     },
     "b60c2ccfdd164fd7b39007f9e82f8445": {
      "model_module": "@jupyter-widgets/controls",
      "model_module_version": "1.5.0",
      "model_name": "DropdownModel",
      "state": {
       "_options_labels": [
        "days",
        "months",
        "years"
       ],
       "description": "Sober period",
       "index": 0,
       "layout": "IPY_MODEL_42f9ab8dcbd947b893f1ada0c235c49a",
       "style": "IPY_MODEL_b47144dde6ba4042bf30053ecf219f37"
      }
     },
     "b613239163a54a128e38a083c7c5628e": {
      "model_module": "@jupyter-widgets/controls",
      "model_module_version": "1.5.0",
      "model_name": "VBoxModel",
      "state": {
       "children": [
        "IPY_MODEL_2ffe7c2370f34da990f49000d4be16e4",
        "IPY_MODEL_dc382d5ed9154c9ebe931e1921c401eb",
        "IPY_MODEL_2abcf76939a34076b2985ab1f4bf49c3",
        "IPY_MODEL_f5f92b23a3074e989041f3e13469e86b"
       ],
       "layout": "IPY_MODEL_c6d6d980d29d420f90ed2fec1aa05054"
      }
     },
     "b613d9fe243e467297aba0828374c076": {
      "model_module": "@jupyter-widgets/controls",
      "model_module_version": "1.5.0",
      "model_name": "DescriptionStyleModel",
      "state": {
       "description_width": "150px"
      }
     },
     "b630fe970e9247788c657c9f9b9636bf": {
      "model_module": "@jupyter-widgets/controls",
      "model_module_version": "1.5.0",
      "model_name": "HBoxModel",
      "state": {
       "children": [
        "IPY_MODEL_89f3f7215a5c4882890ad13beb01cf95",
        "IPY_MODEL_bfccc952ff68445e8fdbe7d7a01efb35",
        "IPY_MODEL_4b1eba02aa9d44ba93f61a2cb6b8aeb9"
       ],
       "layout": "IPY_MODEL_09beeb27725b49dcaf445c3a877123e2"
      }
     },
     "b6334e48a6cc4197bbe5e072e1a92caf": {
      "model_module": "@jupyter-widgets/controls",
      "model_module_version": "1.5.0",
      "model_name": "CheckboxModel",
      "state": {
       "description": "no drug",
       "disabled": false,
       "layout": "IPY_MODEL_c0bc17dccebe4de9833814949bb6f562",
       "style": "IPY_MODEL_71b200da96ca427282116f5a72527fb5",
       "value": false
      }
     },
     "b641789054574d57b1d8413ff9236352": {
      "model_module": "@jupyter-widgets/controls",
      "model_module_version": "1.5.0",
      "model_name": "CheckboxModel",
      "state": {
       "description": "Bipolar I disorder",
       "disabled": false,
       "layout": "IPY_MODEL_3452f9b4dd6a4cd7997c8e7e7a6466ed",
       "style": "IPY_MODEL_e850e2fce4b349f58495dd1d25358270",
       "value": false
      }
     },
     "b67b1738623941a480b3d4306a970628": {
      "model_module": "@jupyter-widgets/controls",
      "model_module_version": "1.5.0",
      "model_name": "DescriptionStyleModel",
      "state": {
       "description_width": "150px"
      }
     },
     "b6e1e260f00c4530ba49279c945a1a63": {
      "model_module": "@jupyter-widgets/controls",
      "model_module_version": "1.5.0",
      "model_name": "HBoxModel",
      "state": {
       "children": [
        "IPY_MODEL_0039957206f64544b7a34932b1b0b522"
       ],
       "layout": "IPY_MODEL_5d1d6d6ef50e45bd913146bded827b07"
      }
     },
     "b6e7fe07de2d452e8367c8d94d64d21f": {
      "model_module": "@jupyter-widgets/controls",
      "model_module_version": "1.5.0",
      "model_name": "BoundedIntTextModel",
      "state": {
       "description": "# times in treatment",
       "layout": "IPY_MODEL_42f9ab8dcbd947b893f1ada0c235c49a",
       "style": "IPY_MODEL_68069fdede4a4320aa3769ace50bc1eb"
      }
     },
     "b72f6fe7c1f34958acea8eb838977ca5": {
      "model_module": "@jupyter-widgets/controls",
      "model_module_version": "1.5.0",
      "model_name": "CheckboxModel",
      "state": {
       "description": "ecstasy/MDMA",
       "disabled": false,
       "layout": "IPY_MODEL_a13e268819e94e07a7e1e3cc033d3629",
       "style": "IPY_MODEL_229ba40796064fdabdda0f73bb07de11",
       "value": false
      }
     },
     "b756680c7fd844b082ff27dd3fd38156": {
      "model_module": "@jupyter-widgets/controls",
      "model_module_version": "1.5.0",
      "model_name": "DescriptionStyleModel",
      "state": {
       "description_width": "150px"
      }
     },
     "b76616d8d7a04dea963b1557aa635df3": {
      "model_module": "@jupyter-widgets/output",
      "model_module_version": "1.0.0",
      "model_name": "OutputModel",
      "state": {
       "layout": "IPY_MODEL_d335fc2383014e0bbd6738c8fdb2a95e",
       "outputs": [
        {
         "name": "stdout",
         "output_type": "stream",
         "text": "\nSubstance Use History:\nThe patient states that their primary substances of abuse include\nnothing with daily use for periods greater than \n6 months with resulting impairment in functioning. \nThey state that they have been in residential treatment 0 times, \nwith their longest period of sobriety lasting 0 days. \nThe patient denies history of IVDU. \nPatient denies seizures, complicated withdrawal, and DTs.\n\n    \n"
        }
       ]
      }
     },
     "b79b13d81bee417b95b2d4ea8b72c3c0": {
      "model_module": "@jupyter-widgets/controls",
      "model_module_version": "1.5.0",
      "model_name": "DropdownModel",
      "state": {
       "_options_labels": [
        "denies",
        "endorses"
       ],
       "description": "ivdu",
       "index": 0,
       "layout": "IPY_MODEL_42f9ab8dcbd947b893f1ada0c235c49a",
       "style": "IPY_MODEL_e9d7936d0d634ad2ac31089c9b825f69"
      }
     },
     "b7edcd07cf89498bbf64800d632de02f": {
      "model_module": "@jupyter-widgets/controls",
      "model_module_version": "1.5.0",
      "model_name": "DescriptionStyleModel",
      "state": {
       "description_width": ""
      }
     },
     "b81ac85c42f546949e2c4037f9a34cef": {
      "model_module": "@jupyter-widgets/base",
      "model_module_version": "1.2.0",
      "model_name": "LayoutModel",
      "state": {}
     },
     "b823ae549d054db880da3b05d2842aed": {
      "model_module": "@jupyter-widgets/controls",
      "model_module_version": "1.5.0",
      "model_name": "DescriptionStyleModel",
      "state": {
       "description_width": "150px"
      }
     },
     "b84c7de32cce426ba94fe90f305026ae": {
      "model_module": "@jupyter-widgets/controls",
      "model_module_version": "1.5.0",
      "model_name": "VBoxModel",
      "state": {
       "children": [
        "IPY_MODEL_d75e38ca3efa4525ba524ffe585732c9",
        "IPY_MODEL_0e3dd7b16f814d58a9f0a38d71446433",
        "IPY_MODEL_3def6f18bb164ebb8e2d41af94fef717",
        "IPY_MODEL_c46bd7de7de5452a99c113f62e79a8b3"
       ],
       "layout": "IPY_MODEL_479892b537024ac0ade879e09d51c19e"
      }
     },
     "b893fc0e5ece4926b0cbd514e7c44119": {
      "model_module": "@jupyter-widgets/controls",
      "model_module_version": "1.5.0",
      "model_name": "DescriptionStyleModel",
      "state": {
       "description_width": "150px"
      }
     },
     "b8c0538812bd4dcab15b591b25fd2690": {
      "model_module": "@jupyter-widgets/controls",
      "model_module_version": "1.5.0",
      "model_name": "DescriptionStyleModel",
      "state": {
       "description_width": ""
      }
     },
     "b8ce08106d97411081fbf535f6a80d72": {
      "model_module": "@jupyter-widgets/output",
      "model_module_version": "1.0.0",
      "model_name": "OutputModel",
      "state": {
       "layout": "IPY_MODEL_1c9007a666164c7f82b50d263df0454b",
       "outputs": [
        {
         "name": "stdout",
         "output_type": "stream",
         "text": "\nSubstance Use History:\nThe patient states that their primary substances of abuse include\nnothing with daily use for periods greater than \n6 months with resulting impairment in functioning. \nThey state that they have been in residential treatment 0 times, \nwith their longest period of sobriety lasting 0 days. \nThe patient denies history of IVDU. \nPatient denies seizures, complicated withdrawal, and DTs.\n\n    \n"
        }
       ]
      }
     },
     "b8e26a3e8be64decaf11db9955ab733f": {
      "model_module": "@jupyter-widgets/base",
      "model_module_version": "1.2.0",
      "model_name": "LayoutModel",
      "state": {}
     },
     "b8fea1879de34e5da9a959e3b90042f8": {
      "model_module": "@jupyter-widgets/controls",
      "model_module_version": "1.5.0",
      "model_name": "DescriptionStyleModel",
      "state": {
       "description_width": "150px"
      }
     },
     "b939f976df2d4552bc353ecfc4f47067": {
      "model_module": "@jupyter-widgets/controls",
      "model_module_version": "1.5.0",
      "model_name": "DescriptionStyleModel",
      "state": {
       "description_width": "150px"
      }
     },
     "b93f9aa10696477dba1885b368775f67": {
      "model_module": "@jupyter-widgets/controls",
      "model_module_version": "1.5.0",
      "model_name": "DropdownModel",
      "state": {
       "_options_labels": [
        "male",
        "female",
        "nb"
       ],
       "description": "gender:",
       "index": 0,
       "layout": "IPY_MODEL_a6928eae26004e35a8fb3f1d350281a6",
       "style": "IPY_MODEL_84e2fbc792954c9f8ddde435d1e11d0b"
      }
     },
     "b9706c2a3c1340a1955e749915f2bce2": {
      "model_module": "@jupyter-widgets/controls",
      "model_module_version": "1.5.0",
      "model_name": "CheckboxModel",
      "state": {
       "description": "no drug",
       "disabled": false,
       "layout": "IPY_MODEL_34d0a8dd60094e0a99f983b41deeb20b",
       "style": "IPY_MODEL_6e1c70cafdec44cb996559cafbe2baab",
       "value": false
      }
     },
     "ba12691c55264a53872d9bc28fe4834f": {
      "model_module": "@jupyter-widgets/controls",
      "model_module_version": "1.5.0",
      "model_name": "DescriptionStyleModel",
      "state": {
       "description_width": ""
      }
     },
     "ba47f78f11f845d1b54d83fad549c7ba": {
      "model_module": "@jupyter-widgets/controls",
      "model_module_version": "1.5.0",
      "model_name": "DescriptionStyleModel",
      "state": {
       "description_width": ""
      }
     },
     "ba7cfe7f60fc43a9befe871c683ddd11": {
      "model_module": "@jupyter-widgets/controls",
      "model_module_version": "1.5.0",
      "model_name": "DescriptionStyleModel",
      "state": {
       "description_width": ""
      }
     },
     "baa07b8a14ee4ac69dfbaae707295c72": {
      "model_module": "@jupyter-widgets/base",
      "model_module_version": "1.2.0",
      "model_name": "LayoutModel",
      "state": {}
     },
     "bab079a1f4ec4d29be1f58068ddf1e66": {
      "model_module": "@jupyter-widgets/controls",
      "model_module_version": "1.5.0",
      "model_name": "CheckboxModel",
      "state": {
       "description": "heroin",
       "disabled": false,
       "layout": "IPY_MODEL_059d1aeda52c46c6aab8b2ed72150a1e",
       "style": "IPY_MODEL_78366861c23d4ddb9960d6f0010362de",
       "value": false
      }
     },
     "bae121d9317e4d25be0d27d2bd9d1555": {
      "model_module": "@jupyter-widgets/controls",
      "model_module_version": "1.5.0",
      "model_name": "VBoxModel",
      "state": {
       "_dom_classes": [
        "widget-interact"
       ],
       "children": [
        "IPY_MODEL_3c76be7b0cc04fffbc396f62f72ca14c",
        "IPY_MODEL_84cd2b01cb134e6f9b687f8f5fca18c8",
        "IPY_MODEL_d1e8c10cf76149cca490d993d1f8305b",
        "IPY_MODEL_626ce05b18ca4d2887e3bcdaa21f8454"
       ],
       "layout": "IPY_MODEL_0c6884c62b8542faa8c326b1889337d2"
      }
     },
     "bb20e56017d446a098a458729d589f8e": {
      "model_module": "@jupyter-widgets/controls",
      "model_module_version": "1.5.0",
      "model_name": "CheckboxModel",
      "state": {
       "description": "no mental illness",
       "disabled": false,
       "layout": "IPY_MODEL_900473e7b89c4ac9a6543df478c1527c",
       "style": "IPY_MODEL_1cfca7a8be3047c3a1e35917d19024d7",
       "value": false
      }
     },
     "bb36809058524bbbb329759ca4a16463": {
      "model_module": "@jupyter-widgets/controls",
      "model_module_version": "1.5.0",
      "model_name": "VBoxModel",
      "state": {
       "_dom_classes": [
        "widget-interact"
       ],
       "children": [
        "IPY_MODEL_e1d48f9aa81f4f49b230246229eee3a9",
        "IPY_MODEL_267178d9cffa4dc9ba9c9b8fd555710e"
       ],
       "layout": "IPY_MODEL_17e43674fa964af7b4382073515f2463"
      }
     },
     "bb38773f07ff4068be63163370365564": {
      "model_module": "@jupyter-widgets/base",
      "model_module_version": "1.2.0",
      "model_name": "LayoutModel",
      "state": {}
     },
     "bb4f8b992b494aec81145ea55309b5f4": {
      "model_module": "@jupyter-widgets/controls",
      "model_module_version": "1.5.0",
      "model_name": "TextareaModel",
      "state": {
       "description": "notes",
       "layout": "IPY_MODEL_42f9ab8dcbd947b893f1ada0c235c49a",
       "style": "IPY_MODEL_ff93773dc0bc41f9acb8d01eded4d92d"
      }
     },
     "bb55cf7b299c42f69694869f42ab5153": {
      "model_module": "@jupyter-widgets/base",
      "model_module_version": "1.2.0",
      "model_name": "LayoutModel",
      "state": {}
     },
     "bb6285e6a43d454c9eb5d8ab16f74ab7": {
      "model_module": "@jupyter-widgets/controls",
      "model_module_version": "1.5.0",
      "model_name": "TextModel",
      "state": {
       "description": "Pronoun:",
       "layout": "IPY_MODEL_0f0653382a9a4d7494486f56f6f70c30",
       "style": "IPY_MODEL_32084074d8e84edd99fe484de6862a12",
       "value": "they"
      }
     },
     "bb7b1a6ddedd4fc8b93a2ff58baa412f": {
      "model_module": "@jupyter-widgets/base",
      "model_module_version": "1.2.0",
      "model_name": "LayoutModel",
      "state": {}
     },
     "bb85d42d74094b5da0fde33aec444ff2": {
      "model_module": "@jupyter-widgets/controls",
      "model_module_version": "1.5.0",
      "model_name": "VBoxModel",
      "state": {
       "children": [
        "IPY_MODEL_e7769a8d81b24865bfcf6f2ee1e78125",
        "IPY_MODEL_31112621d005486c979dbca4101e7bc2",
        "IPY_MODEL_b641789054574d57b1d8413ff9236352"
       ],
       "layout": "IPY_MODEL_65a2317457384a849d283e07a418d839"
      }
     },
     "bbe06fa801034c2e88653e919d224959": {
      "model_module": "@jupyter-widgets/controls",
      "model_module_version": "1.5.0",
      "model_name": "DropdownModel",
      "state": {
       "_options_labels": [
        "a history",
        "no history"
       ],
       "description": "psychosis",
       "index": 1,
       "layout": "IPY_MODEL_42f9ab8dcbd947b893f1ada0c235c49a",
       "style": "IPY_MODEL_1c50e71cdc1b437586349c29b55422c8"
      }
     },
     "bc1a01fd2e2f4c7c9d338a316caaf4b5": {
      "model_module": "@jupyter-widgets/controls",
      "model_module_version": "1.5.0",
      "model_name": "DescriptionStyleModel",
      "state": {
       "description_width": "150px"
      }
     },
     "bc4abd6343ed44939197309c48a6d7de": {
      "model_module": "@jupyter-widgets/controls",
      "model_module_version": "1.5.0",
      "model_name": "DescriptionStyleModel",
      "state": {
       "description_width": ""
      }
     },
     "bc52fc1f589944a8bf61c1aed7a4e3b4": {
      "model_module": "@jupyter-widgets/controls",
      "model_module_version": "1.5.0",
      "model_name": "DescriptionStyleModel",
      "state": {
       "description_width": "150px"
      }
     },
     "bc569026c7cd4843a9125fa491dc0b54": {
      "model_module": "@jupyter-widgets/base",
      "model_module_version": "1.2.0",
      "model_name": "LayoutModel",
      "state": {}
     },
     "bc630083804748dfbee516d5a2edd542": {
      "model_module": "@jupyter-widgets/base",
      "model_module_version": "1.2.0",
      "model_name": "LayoutModel",
      "state": {}
     },
     "bc82781d83544d27b5448efe61916bab": {
      "model_module": "@jupyter-widgets/base",
      "model_module_version": "1.2.0",
      "model_name": "LayoutModel",
      "state": {}
     },
     "bcae6e5c534945c78c7f7b0dfbac1915": {
      "model_module": "@jupyter-widgets/controls",
      "model_module_version": "1.5.0",
      "model_name": "BoundedIntTextModel",
      "state": {
       "description": "longest_sober_time",
       "layout": "IPY_MODEL_42f9ab8dcbd947b893f1ada0c235c49a",
       "style": "IPY_MODEL_800c0807edd3497e876a88a00623537e"
      }
     },
     "bcc9ecfd00fc4bcea825d5720c1d6b43": {
      "model_module": "@jupyter-widgets/base",
      "model_module_version": "1.2.0",
      "model_name": "LayoutModel",
      "state": {}
     },
     "bcce9daba85d4148bc53c3447d8e0394": {
      "model_module": "@jupyter-widgets/controls",
      "model_module_version": "1.5.0",
      "model_name": "DescriptionStyleModel",
      "state": {
       "description_width": ""
      }
     },
     "bce8a31ff09648eaa48d525210feaacc": {
      "model_module": "@jupyter-widgets/base",
      "model_module_version": "1.2.0",
      "model_name": "LayoutModel",
      "state": {}
     },
     "bd61bb2352254ab195768fc9b9adb322": {
      "model_module": "@jupyter-widgets/base",
      "model_module_version": "1.2.0",
      "model_name": "LayoutModel",
      "state": {}
     },
     "bd950d04fd044806953094a40f728920": {
      "model_module": "@jupyter-widgets/base",
      "model_module_version": "1.2.0",
      "model_name": "LayoutModel",
      "state": {}
     },
     "bde4dc62db8b47e0a8be80e351b4b57a": {
      "model_module": "@jupyter-widgets/controls",
      "model_module_version": "1.5.0",
      "model_name": "VBoxModel",
      "state": {
       "children": [
        "IPY_MODEL_5656d708b0e64252807ca840b82ad75d",
        "IPY_MODEL_e48956ea7e294ab8a2ba8dcd496dcb7b",
        "IPY_MODEL_02367092edfe42cf9edc8995747d16e1",
        "IPY_MODEL_7dc52b61defe4d30853ade796f319971"
       ],
       "layout": "IPY_MODEL_3a75d1d208bf4bd29b33b0afd6b71d71"
      }
     },
     "beacbaddef8043559fb78d7c542732cc": {
      "model_module": "@jupyter-widgets/base",
      "model_module_version": "1.2.0",
      "model_name": "LayoutModel",
      "state": {}
     },
     "beaf2b39c5464b25ab162feaa4b4e74b": {
      "model_module": "@jupyter-widgets/base",
      "model_module_version": "1.2.0",
      "model_name": "LayoutModel",
      "state": {}
     },
     "bed472e3c56e4932bfcc6694399b8694": {
      "model_module": "@jupyter-widgets/controls",
      "model_module_version": "1.5.0",
      "model_name": "DescriptionStyleModel",
      "state": {
       "description_width": "150px"
      }
     },
     "bf26ce87c0ca4b2d9a1a52edffd9db7b": {
      "model_module": "@jupyter-widgets/base",
      "model_module_version": "1.2.0",
      "model_name": "LayoutModel",
      "state": {}
     },
     "bfc95fad807a45fc9a9023ca8dd5cce8": {
      "model_module": "@jupyter-widgets/controls",
      "model_module_version": "1.5.0",
      "model_name": "DescriptionStyleModel",
      "state": {
       "description_width": ""
      }
     },
     "bfccc952ff68445e8fdbe7d7a01efb35": {
      "model_module": "@jupyter-widgets/controls",
      "model_module_version": "1.5.0",
      "model_name": "HBoxModel",
      "state": {
       "children": [
        "IPY_MODEL_f61ad913c1e94a72a10391c40fd9bd98"
       ],
       "layout": "IPY_MODEL_93c434342d244187ac66cdc51695830f"
      }
     },
     "bfed78415fdf4b4cb3d6dbeef5363463": {
      "model_module": "@jupyter-widgets/controls",
      "model_module_version": "1.5.0",
      "model_name": "DescriptionStyleModel",
      "state": {
       "description_width": ""
      }
     },
     "c06e8f3f696748ab807c98f649265a6f": {
      "model_module": "@jupyter-widgets/base",
      "model_module_version": "1.2.0",
      "model_name": "LayoutModel",
      "state": {}
     },
     "c096380afa1147af8f08257f99854437": {
      "model_module": "@jupyter-widgets/controls",
      "model_module_version": "1.5.0",
      "model_name": "TextModel",
      "state": {
       "description": "Pronoun:",
       "layout": "IPY_MODEL_a51872fc08d745f18f407e0ff6a878ba",
       "style": "IPY_MODEL_9b77fe6570904bbf9ea80a2d5a9366ed",
       "value": "they"
      }
     },
     "c0a659cc0c044544b4ede80c7e48e4b4": {
      "model_module": "@jupyter-widgets/base",
      "model_module_version": "1.2.0",
      "model_name": "LayoutModel",
      "state": {}
     },
     "c0bc17dccebe4de9833814949bb6f562": {
      "model_module": "@jupyter-widgets/base",
      "model_module_version": "1.2.0",
      "model_name": "LayoutModel",
      "state": {}
     },
     "c116da6a590b4ac9ba777348d3fea274": {
      "model_module": "@jupyter-widgets/controls",
      "model_module_version": "1.5.0",
      "model_name": "CheckboxModel",
      "state": {
       "description": "adhd",
       "disabled": false,
       "layout": "IPY_MODEL_91ad9177b5fa424ab810dbeabf616edf",
       "style": "IPY_MODEL_0ed99f826a2e4a3dbe6ee1b9486746d9",
       "value": false
      }
     },
     "c19a1bf16b1240fab0e3a775f6fcafca": {
      "model_module": "@jupyter-widgets/base",
      "model_module_version": "1.2.0",
      "model_name": "LayoutModel",
      "state": {}
     },
     "c1da71fdfd1647e0b79fa7c19a5c3cc2": {
      "model_module": "@jupyter-widgets/controls",
      "model_module_version": "1.5.0",
      "model_name": "DescriptionStyleModel",
      "state": {
       "description_width": ""
      }
     },
     "c1dfd45e5c8046f1999c2bc4fb475b82": {
      "model_module": "@jupyter-widgets/base",
      "model_module_version": "1.2.0",
      "model_name": "LayoutModel",
      "state": {}
     },
     "c205ef6cfec2403b8ea6a193a28d77bb": {
      "model_module": "@jupyter-widgets/controls",
      "model_module_version": "1.5.0",
      "model_name": "CheckboxModel",
      "state": {
       "description": "heroin",
       "disabled": false,
       "layout": "IPY_MODEL_39e2f87be8a84f49812c845fb7a683a7",
       "style": "IPY_MODEL_dac47e6e0bba423b9f191afb871a01c7",
       "value": false
      }
     },
     "c3722d74f86e4bf79e671b551dc82b02": {
      "model_module": "@jupyter-widgets/controls",
      "model_module_version": "1.5.0",
      "model_name": "CheckboxModel",
      "state": {
       "description": "LSD",
       "disabled": false,
       "layout": "IPY_MODEL_3d9e3593442a49e68654fdfe45cc9e61",
       "style": "IPY_MODEL_9a228c21a84d4e6bbc268636a5435d0a",
       "value": false
      }
     },
     "c3c84c97d5b1410298b6d03449f23073": {
      "model_module": "@jupyter-widgets/controls",
      "model_module_version": "1.5.0",
      "model_name": "DescriptionStyleModel",
      "state": {
       "description_width": "150px"
      }
     },
     "c416495c55df4e569c6fb7080747c0eb": {
      "model_module": "@jupyter-widgets/base",
      "model_module_version": "1.2.0",
      "model_name": "LayoutModel",
      "state": {}
     },
     "c4245ba767ac470d9831e40ed32c4bc4": {
      "model_module": "@jupyter-widgets/controls",
      "model_module_version": "1.5.0",
      "model_name": "DescriptionStyleModel",
      "state": {
       "description_width": "150px"
      }
     },
     "c4431f6609174bfa85e34bea39a45c6e": {
      "model_module": "@jupyter-widgets/base",
      "model_module_version": "1.2.0",
      "model_name": "LayoutModel",
      "state": {}
     },
     "c46bd7de7de5452a99c113f62e79a8b3": {
      "model_module": "@jupyter-widgets/controls",
      "model_module_version": "1.5.0",
      "model_name": "DropdownModel",
      "state": {
       "_options_labels": [
        "Silicon Beach",
        "Momentum",
        "Create Recovery Center",
        "Casablanca"
       ],
       "description": "Trmt Center:",
       "index": 2,
       "layout": "IPY_MODEL_e122b01815b64490a2f2ad82b49f98bb",
       "style": "IPY_MODEL_50a4fd38ced24acd9acbff2ae602b96a"
      }
     },
     "c51093f769074027a88a17a751142c4b": {
      "model_module": "@jupyter-widgets/controls",
      "model_module_version": "1.5.0",
      "model_name": "CheckboxModel",
      "state": {
       "description": "bipolar I disorder",
       "disabled": false,
       "layout": "IPY_MODEL_7f1ac2c698f94b4a8efbb62a3957641b",
       "style": "IPY_MODEL_ccc2c9ee1e8f4151841a8b4c44f35f42",
       "value": false
      }
     },
     "c564666e281e473c9222b3a9b410a14e": {
      "model_module": "@jupyter-widgets/controls",
      "model_module_version": "1.5.0",
      "model_name": "DescriptionStyleModel",
      "state": {
       "description_width": "150px"
      }
     },
     "c581f4bd68124a649d0edccabdc1ff9d": {
      "model_module": "@jupyter-widgets/controls",
      "model_module_version": "1.5.0",
      "model_name": "VBoxModel",
      "state": {
       "_dom_classes": [
        "widget-interact"
       ],
       "children": [
        "IPY_MODEL_e40ca1a096bc4e25848768db6d35eb2b",
        "IPY_MODEL_6c2b018c3f16432fa091d0717c32edcb",
        "IPY_MODEL_6364fc00247c41e8918c22a6e4b9d58d",
        "IPY_MODEL_76a10f31322a43af83a1921ef410fa46",
        "IPY_MODEL_6894bdaa2f8c49dea8d1ded4d6944696",
        "IPY_MODEL_543305bf71744d5381abb9e92632ea18"
       ],
       "layout": "IPY_MODEL_ca036f5de3cd43a3b07f6f6b10ee0651"
      }
     },
     "c5999d58e8eb4cd88f5666e2ac53fd85": {
      "model_module": "@jupyter-widgets/base",
      "model_module_version": "1.2.0",
      "model_name": "LayoutModel",
      "state": {}
     },
     "c5c089a0652441a7b49d112705a1f7ce": {
      "model_module": "@jupyter-widgets/controls",
      "model_module_version": "1.5.0",
      "model_name": "DescriptionStyleModel",
      "state": {
       "description_width": ""
      }
     },
     "c5d13625498740a191b5e6fe984d9e0c": {
      "model_module": "@jupyter-widgets/controls",
      "model_module_version": "1.5.0",
      "model_name": "VBoxModel",
      "state": {
       "_dom_classes": [
        "widget-interact"
       ],
       "children": [
        "IPY_MODEL_e92756a93b1c4e0f998974b1667a1490",
        "IPY_MODEL_f37fae4788bf4896a3115e522d986aed"
       ],
       "layout": "IPY_MODEL_27059326ec9e44dbbbafa9b6b3c78b43"
      }
     },
     "c676502fe0dc4f9b918563994e426f66": {
      "model_module": "@jupyter-widgets/base",
      "model_module_version": "1.2.0",
      "model_name": "LayoutModel",
      "state": {
       "height": "200px"
      }
     },
     "c6a3699368474561af5d87f7212cf8b8": {
      "model_module": "@jupyter-widgets/controls",
      "model_module_version": "1.5.0",
      "model_name": "VBoxModel",
      "state": {
       "_dom_classes": [
        "widget-interact"
       ],
       "children": [
        "IPY_MODEL_ef1882f0a1e54a81bf941bb11c3c375a",
        "IPY_MODEL_b6e7fe07de2d452e8367c8d94d64d21f",
        "IPY_MODEL_5586f76b965a461e96fa400950c9b10d",
        "IPY_MODEL_1269b0d6a8684da386b40aa8abe4e7d1",
        "IPY_MODEL_5d1ea54238124010ace6631028e609e4",
        "IPY_MODEL_f0476c9778fb4c1f8b6c0fc5a9219334",
        "IPY_MODEL_0e63bc2d2d2b4cea83483070267d601a",
        "IPY_MODEL_9ded1d1a061b4fa68f388a32cda7b524"
       ],
       "layout": "IPY_MODEL_b8e26a3e8be64decaf11db9955ab733f"
      }
     },
     "c6ceb35339da4dc29ddbfa68af405bd7": {
      "model_module": "@jupyter-widgets/controls",
      "model_module_version": "1.5.0",
      "model_name": "CheckboxModel",
      "state": {
       "description": "mushrooms",
       "disabled": false,
       "layout": "IPY_MODEL_945775ec9e4b49e3bb66deb2444574dc",
       "style": "IPY_MODEL_5d499a287f7c474aac81997c1bdfaed1",
       "value": false
      }
     },
     "c6d6d980d29d420f90ed2fec1aa05054": {
      "model_module": "@jupyter-widgets/base",
      "model_module_version": "1.2.0",
      "model_name": "LayoutModel",
      "state": {}
     },
     "c7ed4e54f51b4f558d804c250598abe2": {
      "model_module": "@jupyter-widgets/controls",
      "model_module_version": "1.5.0",
      "model_name": "CheckboxModel",
      "state": {
       "description": "cocaine",
       "disabled": false,
       "layout": "IPY_MODEL_06b3088fc7be4034b1122b62eee34eb6",
       "style": "IPY_MODEL_fdfbc673a4ab482db39599786c4fb408",
       "value": false
      }
     },
     "c811542c8b354eaa9cc5ff28da1aa28c": {
      "model_module": "@jupyter-widgets/controls",
      "model_module_version": "1.5.0",
      "model_name": "DescriptionStyleModel",
      "state": {
       "description_width": "150px"
      }
     },
     "c882f46428cd477dae8b9ea572c8ebfa": {
      "model_module": "@jupyter-widgets/controls",
      "model_module_version": "1.5.0",
      "model_name": "DescriptionStyleModel",
      "state": {
       "description_width": ""
      }
     },
     "c8ce1f0a4cbf4d41affcf4d5fccfc0f0": {
      "model_module": "@jupyter-widgets/controls",
      "model_module_version": "1.5.0",
      "model_name": "DescriptionStyleModel",
      "state": {
       "description_width": "150px"
      }
     },
     "c8d4c96fb858476dade3d9d2d365e395": {
      "model_module": "@jupyter-widgets/controls",
      "model_module_version": "1.5.0",
      "model_name": "TextareaModel",
      "state": {
       "description": "Notes:",
       "layout": "IPY_MODEL_0cfb8fe3ffbe46a6b6ca852f2a2200e3",
       "style": "IPY_MODEL_343e7938085d4d52a0d44552c0e8b123"
      }
     },
     "c91f1f18a95f4878a8fd6b84c0b78486": {
      "model_module": "@jupyter-widgets/controls",
      "model_module_version": "1.5.0",
      "model_name": "DropdownModel",
      "state": {
       "_options_labels": [
        "good",
        "fair",
        "poor"
       ],
       "description": "energy",
       "index": 1,
       "layout": "IPY_MODEL_6ca1abb4c0974a9b85bd5dd3b0292df2",
       "style": "IPY_MODEL_61121a37146244c297ef046d7d46733b"
      }
     },
     "c92aa82c280b4704946cab34003b3366": {
      "model_module": "@jupyter-widgets/controls",
      "model_module_version": "1.5.0",
      "model_name": "DescriptionStyleModel",
      "state": {
       "description_width": "150px"
      }
     },
     "c994f918ded741a29369d1d5ede7dea6": {
      "model_module": "@jupyter-widgets/controls",
      "model_module_version": "1.5.0",
      "model_name": "DescriptionStyleModel",
      "state": {
       "description_width": ""
      }
     },
     "ca036f5de3cd43a3b07f6f6b10ee0651": {
      "model_module": "@jupyter-widgets/base",
      "model_module_version": "1.2.0",
      "model_name": "LayoutModel",
      "state": {}
     },
     "ca3ba431babf4a4c85ed80bf7b51723f": {
      "model_module": "@jupyter-widgets/controls",
      "model_module_version": "1.5.0",
      "model_name": "CheckboxModel",
      "state": {
       "description": "opioid",
       "disabled": false,
       "layout": "IPY_MODEL_d213925ba17c42f5b44ad3fa3e232aa0",
       "style": "IPY_MODEL_d0edac4e7e3548519b3d53ca190ee074",
       "value": false
      }
     },
     "ca4f0dd260f54507b65483af45f89fb5": {
      "model_module": "@jupyter-widgets/controls",
      "model_module_version": "1.5.0",
      "model_name": "TextareaModel",
      "state": {
       "description": "notes",
       "layout": "IPY_MODEL_6ca1abb4c0974a9b85bd5dd3b0292df2",
       "style": "IPY_MODEL_e4a890c382ea4a00b88111bb719a49f4"
      }
     },
     "ca867ad318074d1da8183b360d9b32f5": {
      "model_module": "@jupyter-widgets/controls",
      "model_module_version": "1.5.0",
      "model_name": "DescriptionStyleModel",
      "state": {
       "description_width": ""
      }
     },
     "ca9d33851c6e48358a721455e9d42354": {
      "model_module": "@jupyter-widgets/controls",
      "model_module_version": "1.5.0",
      "model_name": "DropdownModel",
      "state": {
       "_options_labels": [
        "denies",
        "endorses"
       ],
       "description": "suicide",
       "index": 0,
       "layout": "IPY_MODEL_42f9ab8dcbd947b893f1ada0c235c49a",
       "style": "IPY_MODEL_3d38b10321d64a6cac24c080ee3a140e"
      }
     },
     "cac39438b4d64bf2afb75124e9bcff7f": {
      "model_module": "@jupyter-widgets/controls",
      "model_module_version": "1.5.0",
      "model_name": "TextareaModel",
      "state": {
       "description": "primary_substances",
       "layout": "IPY_MODEL_42f9ab8dcbd947b893f1ada0c235c49a",
       "style": "IPY_MODEL_078e0868328c4b60abb2c3879011c488",
       "value": "nothing"
      }
     },
     "cad87a87a34e4e44b46ef4451b3b01f5": {
      "model_module": "@jupyter-widgets/controls",
      "model_module_version": "1.5.0",
      "model_name": "CheckboxModel",
      "state": {
       "description": "adhd",
       "disabled": false,
       "layout": "IPY_MODEL_388c925711b74c86bea62c3c6586116c",
       "style": "IPY_MODEL_ba12691c55264a53872d9bc28fe4834f",
       "value": false
      }
     },
     "cb14bcf6ad5a4715824ae61c82e794ea": {
      "model_module": "@jupyter-widgets/base",
      "model_module_version": "1.2.0",
      "model_name": "LayoutModel",
      "state": {}
     },
     "cb67f4efd09742d78f962dc862485a5d": {
      "model_module": "@jupyter-widgets/controls",
      "model_module_version": "1.5.0",
      "model_name": "DescriptionStyleModel",
      "state": {
       "description_width": "150px"
      }
     },
     "cb9e5d63a67442df8513a03a96fd1f7a": {
      "model_module": "@jupyter-widgets/controls",
      "model_module_version": "1.5.0",
      "model_name": "DescriptionStyleModel",
      "state": {
       "description_width": "150px"
      }
     },
     "cc1f1a26b16147a9be65e46d49fe9365": {
      "model_module": "@jupyter-widgets/base",
      "model_module_version": "1.2.0",
      "model_name": "LayoutModel",
      "state": {}
     },
     "cc2106353bb342d0a68177aca7316f95": {
      "model_module": "@jupyter-widgets/controls",
      "model_module_version": "1.5.0",
      "model_name": "CheckboxModel",
      "state": {
       "description": "alcohol",
       "disabled": false,
       "layout": "IPY_MODEL_eddfe5deb73746319563f390c06b20a7",
       "style": "IPY_MODEL_2bd31e86f30f43bab549791841e9c265",
       "value": false
      }
     },
     "cc641f1f5669416b885336b9db88b1d6": {
      "model_module": "@jupyter-widgets/controls",
      "model_module_version": "1.5.0",
      "model_name": "CheckboxModel",
      "state": {
       "description": "alcohol",
       "disabled": false,
       "layout": "IPY_MODEL_86055996e0de44678b21195e27c0f753",
       "style": "IPY_MODEL_e6e17b2b9e904a759d94fea9dd8a995a",
       "value": false
      }
     },
     "cc783369f80d4723ad6a05ab1cae56a2": {
      "model_module": "@jupyter-widgets/controls",
      "model_module_version": "1.5.0",
      "model_name": "DropdownModel",
      "state": {
       "_options_labels": [
        "declines",
        "elects to start",
        "would like to continue with"
       ],
       "description": "anti_cravings_choice",
       "index": 0,
       "layout": "IPY_MODEL_42f9ab8dcbd947b893f1ada0c235c49a",
       "style": "IPY_MODEL_a9c609487c0a4379a3f395107a8cb67c"
      }
     },
     "cc9936efbd004a12b364b01f1307c186": {
      "model_module": "@jupyter-widgets/controls",
      "model_module_version": "1.5.0",
      "model_name": "DescriptionStyleModel",
      "state": {
       "description_width": "150px"
      }
     },
     "ccc2c9ee1e8f4151841a8b4c44f35f42": {
      "model_module": "@jupyter-widgets/controls",
      "model_module_version": "1.5.0",
      "model_name": "DescriptionStyleModel",
      "state": {
       "description_width": ""
      }
     },
     "ccd913fe339d48498822db843da7bee0": {
      "model_module": "@jupyter-widgets/controls",
      "model_module_version": "1.5.0",
      "model_name": "DropdownModel",
      "state": {
       "_options_labels": [
        "denies",
        "endorses"
       ],
       "description": "self_injury",
       "index": 0,
       "layout": "IPY_MODEL_6ca1abb4c0974a9b85bd5dd3b0292df2",
       "style": "IPY_MODEL_ce36dab2814742299a4049d200eaaa7c"
      }
     },
     "cd4332d374d84734b21097735e21e35e": {
      "model_module": "@jupyter-widgets/base",
      "model_module_version": "1.2.0",
      "model_name": "LayoutModel",
      "state": {}
     },
     "cd492e36d68940daa6055d589fd6981d": {
      "model_module": "@jupyter-widgets/controls",
      "model_module_version": "1.5.0",
      "model_name": "DescriptionStyleModel",
      "state": {
       "description_width": ""
      }
     },
     "cdc14f69d56b4b7fb6115daed58f13ea": {
      "model_module": "@jupyter-widgets/controls",
      "model_module_version": "1.5.0",
      "model_name": "DescriptionStyleModel",
      "state": {
       "description_width": ""
      }
     },
     "cdfb38834ad444389ce890245dee596e": {
      "model_module": "@jupyter-widgets/controls",
      "model_module_version": "1.5.0",
      "model_name": "CheckboxModel",
      "state": {
       "description": "depression",
       "disabled": false,
       "layout": "IPY_MODEL_6ae43f3cf99d48ccb9f831d722f93b3c",
       "style": "IPY_MODEL_556702f9feab41cdae7d2366cbc16dd3",
       "value": false
      }
     },
     "ce06f6e7b1a0400192634ae18e6b98e3": {
      "model_module": "@jupyter-widgets/controls",
      "model_module_version": "1.5.0",
      "model_name": "DropdownModel",
      "state": {
       "_options_labels": [
        "days",
        "months",
        "years"
       ],
       "description": "sober_period",
       "index": 0,
       "layout": "IPY_MODEL_6ca1abb4c0974a9b85bd5dd3b0292df2",
       "style": "IPY_MODEL_050793d5c5614a81818311bc244c1eee"
      }
     },
     "ce36dab2814742299a4049d200eaaa7c": {
      "model_module": "@jupyter-widgets/controls",
      "model_module_version": "1.5.0",
      "model_name": "DescriptionStyleModel",
      "state": {
       "description_width": "150px"
      }
     },
     "ce9da03bd637468198ee4c9166e3f895": {
      "model_module": "@jupyter-widgets/base",
      "model_module_version": "1.2.0",
      "model_name": "LayoutModel",
      "state": {}
     },
     "cebd19c6df1341f08f0cc4925a81ab39": {
      "model_module": "@jupyter-widgets/controls",
      "model_module_version": "1.5.0",
      "model_name": "VBoxModel",
      "state": {
       "children": [
        "IPY_MODEL_9b52b391300f4e389741adfb0a8d7711",
        "IPY_MODEL_aed4814ede43464abe8599ab3b183604",
        "IPY_MODEL_38be4d73dd3f49098fbadc1a8710dc8b",
        "IPY_MODEL_9a6b912fbd6845a7818d7f75274e5889"
       ],
       "layout": "IPY_MODEL_9711e155392143529766e8584741a8e5"
      }
     },
     "cee0dbd804264d5abc3eaaad2ed1b0db": {
      "model_module": "@jupyter-widgets/controls",
      "model_module_version": "1.5.0",
      "model_name": "DropdownModel",
      "state": {
       "_options_labels": [
        "denies",
        "endorses"
       ],
       "description": "sleep",
       "index": 0,
       "layout": "IPY_MODEL_42f9ab8dcbd947b893f1ada0c235c49a",
       "style": "IPY_MODEL_abac082f8b9547d8a3a81105331eb0a5"
      }
     },
     "cefd040181954414a3ace4f7c4013084": {
      "model_module": "@jupyter-widgets/controls",
      "model_module_version": "1.5.0",
      "model_name": "CheckboxModel",
      "state": {
       "description": "anxiety",
       "disabled": false,
       "layout": "IPY_MODEL_543549e43c654fcb9027e7bfefbf6b7a",
       "style": "IPY_MODEL_30484244b9864d6eb276f5458a34909a",
       "value": false
      }
     },
     "cf347f9fb48c4ea38868f7e7e00714ce": {
      "model_module": "@jupyter-widgets/base",
      "model_module_version": "1.2.0",
      "model_name": "LayoutModel",
      "state": {}
     },
     "cf54a56708f54934ad404a1cef6b03c5": {
      "model_module": "@jupyter-widgets/controls",
      "model_module_version": "1.5.0",
      "model_name": "DescriptionStyleModel",
      "state": {
       "description_width": "150px"
      }
     },
     "d00f3485ff5b4264aaf14cbdb1371c95": {
      "model_module": "@jupyter-widgets/controls",
      "model_module_version": "1.5.0",
      "model_name": "DescriptionStyleModel",
      "state": {
       "description_width": "150px"
      }
     },
     "d0581a60ea064c5ca5386eede98d1671": {
      "model_module": "@jupyter-widgets/base",
      "model_module_version": "1.2.0",
      "model_name": "LayoutModel",
      "state": {}
     },
     "d0745a4322354061bd90bf0ed5df765f": {
      "model_module": "@jupyter-widgets/controls",
      "model_module_version": "1.5.0",
      "model_name": "DescriptionStyleModel",
      "state": {
       "description_width": ""
      }
     },
     "d0edac4e7e3548519b3d53ca190ee074": {
      "model_module": "@jupyter-widgets/controls",
      "model_module_version": "1.5.0",
      "model_name": "DescriptionStyleModel",
      "state": {
       "description_width": ""
      }
     },
     "d14b0e2a879f4e198b0e810967da93e2": {
      "model_module": "@jupyter-widgets/controls",
      "model_module_version": "1.5.0",
      "model_name": "DescriptionStyleModel",
      "state": {
       "description_width": ""
      }
     },
     "d1540e537f114bb6a5bb2622ffc41999": {
      "model_module": "@jupyter-widgets/controls",
      "model_module_version": "1.5.0",
      "model_name": "CheckboxModel",
      "state": {
       "description": "ptsd",
       "disabled": false,
       "layout": "IPY_MODEL_ab998ccadcf44ac08bbaa13359248f09",
       "style": "IPY_MODEL_52ab9bf1c48b4809bf515fb199fe8076",
       "value": false
      }
     },
     "d15dcb9fe0204e79bb8ddfb1a550077d": {
      "model_module": "@jupyter-widgets/controls",
      "model_module_version": "1.5.0",
      "model_name": "DropdownModel",
      "state": {
       "_options_labels": [
        "deny",
        "indicate"
       ],
       "description": "past_depression",
       "index": 1,
       "layout": "IPY_MODEL_42f9ab8dcbd947b893f1ada0c235c49a",
       "style": "IPY_MODEL_3a63cd62cf81400188f7cf414b3df314"
      }
     },
     "d1667a1192054985965312f9170cedaf": {
      "model_module": "@jupyter-widgets/controls",
      "model_module_version": "1.5.0",
      "model_name": "CheckboxModel",
      "state": {
       "description": "LSD",
       "disabled": false,
       "layout": "IPY_MODEL_1667b7a6a5b14fdda8ac69ea806486a0",
       "style": "IPY_MODEL_a3f32f88ed79413d994947eab6b62eae",
       "value": false
      }
     },
     "d182c5dc910d4091b9a87afc814562f0": {
      "model_module": "@jupyter-widgets/controls",
      "model_module_version": "1.5.0",
      "model_name": "CheckboxModel",
      "state": {
       "description": "methamphetamine",
       "disabled": false,
       "layout": "IPY_MODEL_d5544608d3cf40c6b0a3b2b8013406b3",
       "style": "IPY_MODEL_d6651618b98e491d976f9774dd062bb3",
       "value": false
      }
     },
     "d1e8c10cf76149cca490d993d1f8305b": {
      "model_module": "@jupyter-widgets/controls",
      "model_module_version": "1.5.0",
      "model_name": "TextareaModel",
      "state": {
       "description": "notes",
       "layout": "IPY_MODEL_6ca1abb4c0974a9b85bd5dd3b0292df2",
       "style": "IPY_MODEL_7a54aa3f4dc34b70b6f7de5167f819c5"
      }
     },
     "d213925ba17c42f5b44ad3fa3e232aa0": {
      "model_module": "@jupyter-widgets/base",
      "model_module_version": "1.2.0",
      "model_name": "LayoutModel",
      "state": {}
     },
     "d264ea73db794c05ac11508aea9f9919": {
      "model_module": "@jupyter-widgets/controls",
      "model_module_version": "1.5.0",
      "model_name": "DescriptionStyleModel",
      "state": {
       "description_width": "150px"
      }
     },
     "d2a6f340d56b423185453a57c0799313": {
      "model_module": "@jupyter-widgets/controls",
      "model_module_version": "1.5.0",
      "model_name": "DescriptionStyleModel",
      "state": {
       "description_width": "150px"
      }
     },
     "d2c540031f90445e8e4f8845218261cc": {
      "model_module": "@jupyter-widgets/controls",
      "model_module_version": "1.5.0",
      "model_name": "DescriptionStyleModel",
      "state": {
       "description_width": "150px"
      }
     },
     "d3158215d3fa4f01bf9b54ebdaa96368": {
      "model_module": "@jupyter-widgets/controls",
      "model_module_version": "1.5.0",
      "model_name": "DescriptionStyleModel",
      "state": {
       "description_width": "150px"
      }
     },
     "d335fc2383014e0bbd6738c8fdb2a95e": {
      "model_module": "@jupyter-widgets/base",
      "model_module_version": "1.2.0",
      "model_name": "LayoutModel",
      "state": {}
     },
     "d34e3fea8b614e79a9f2a2717c7f1162": {
      "model_module": "@jupyter-widgets/controls",
      "model_module_version": "1.5.0",
      "model_name": "BoundedIntTextModel",
      "state": {
       "description": "Age:",
       "layout": "IPY_MODEL_eac9743c928b42638d4e33b04b88cf8f",
       "max": 200,
       "style": "IPY_MODEL_e0276263cf084462b06b4b2e96b14ddc",
       "value": 33
      }
     },
     "d3acc26298c7456ba4b140610713ac45": {
      "model_module": "@jupyter-widgets/controls",
      "model_module_version": "1.5.0",
      "model_name": "CheckboxModel",
      "state": {
       "description": "cannabis",
       "disabled": false,
       "layout": "IPY_MODEL_f86da14d00174bfbaf52c823155bf3c5",
       "style": "IPY_MODEL_3bad5ea976dc47a4a2b49a535d2f8a2f",
       "value": false
      }
     },
     "d4da56c8711845c68cbb7c4f99d0ea54": {
      "model_module": "@jupyter-widgets/controls",
      "model_module_version": "1.5.0",
      "model_name": "DescriptionStyleModel",
      "state": {
       "description_width": "150px"
      }
     },
     "d50c50183f4f4fa8b60dff0094f8598d": {
      "model_module": "@jupyter-widgets/controls",
      "model_module_version": "1.5.0",
      "model_name": "CheckboxModel",
      "state": {
       "description": "ecstasy/MDMA",
       "disabled": false,
       "layout": "IPY_MODEL_aa0100642bb74d2a96b3c647cbbd8244",
       "style": "IPY_MODEL_13f32d64d3c84e78895981a71bb3e7a6",
       "value": false
      }
     },
     "d5544608d3cf40c6b0a3b2b8013406b3": {
      "model_module": "@jupyter-widgets/base",
      "model_module_version": "1.2.0",
      "model_name": "LayoutModel",
      "state": {}
     },
     "d5c47b78fde2486083e49dc23a8d5568": {
      "model_module": "@jupyter-widgets/base",
      "model_module_version": "1.2.0",
      "model_name": "LayoutModel",
      "state": {}
     },
     "d5e98f02dd0440099b2cca7458aa10c8": {
      "model_module": "@jupyter-widgets/base",
      "model_module_version": "1.2.0",
      "model_name": "LayoutModel",
      "state": {}
     },
     "d620845aca4a4eeebb9b4a17df1bb297": {
      "model_module": "@jupyter-widgets/controls",
      "model_module_version": "1.5.0",
      "model_name": "CheckboxModel",
      "state": {
       "description": "insomnia",
       "disabled": false,
       "layout": "IPY_MODEL_1e36c5d0a494473aa45f41df758e9141",
       "style": "IPY_MODEL_ff077b5fd5b14ab8954f4c1a989ef06f",
       "value": false
      }
     },
     "d6596058c2354fcbabb1703f4e632db6": {
      "model_module": "@jupyter-widgets/base",
      "model_module_version": "1.2.0",
      "model_name": "LayoutModel",
      "state": {}
     },
     "d6651618b98e491d976f9774dd062bb3": {
      "model_module": "@jupyter-widgets/controls",
      "model_module_version": "1.5.0",
      "model_name": "DescriptionStyleModel",
      "state": {
       "description_width": ""
      }
     },
     "d699ece054d3489290cfd54a76110d2e": {
      "model_module": "@jupyter-widgets/base",
      "model_module_version": "1.2.0",
      "model_name": "LayoutModel",
      "state": {}
     },
     "d6d2a811a947459fa4843952182f6fba": {
      "model_module": "@jupyter-widgets/controls",
      "model_module_version": "1.5.0",
      "model_name": "DropdownModel",
      "state": {
       "_options_labels": [
        "denies",
        "endorses"
       ],
       "description": "anhedonia",
       "index": 0,
       "layout": "IPY_MODEL_42f9ab8dcbd947b893f1ada0c235c49a",
       "style": "IPY_MODEL_aff4f33e811145f5bbecb8ccb423117a"
      }
     },
     "d6f1c53af0c14cc49f3608832d6ffabe": {
      "model_module": "@jupyter-widgets/controls",
      "model_module_version": "1.5.0",
      "model_name": "DescriptionStyleModel",
      "state": {
       "description_width": ""
      }
     },
     "d72b1770a89546f981d0ebcb2cf495a5": {
      "model_module": "@jupyter-widgets/controls",
      "model_module_version": "1.5.0",
      "model_name": "DescriptionStyleModel",
      "state": {
       "description_width": "150px"
      }
     },
     "d75e38ca3efa4525ba524ffe585732c9": {
      "model_module": "@jupyter-widgets/controls",
      "model_module_version": "1.5.0",
      "model_name": "BoundedIntTextModel",
      "state": {
       "description": "Age:",
       "layout": "IPY_MODEL_f5e73b7a3c964282a17fc49cd1734852",
       "max": 200,
       "style": "IPY_MODEL_3918adcc1d7c41b19144a827336d8ee2",
       "value": 33
      }
     },
     "d7b7c16a1fb64f498baffcc42a14dce9": {
      "model_module": "@jupyter-widgets/controls",
      "model_module_version": "1.5.0",
      "model_name": "BoundedIntTextModel",
      "state": {
       "description": "Sober Time:",
       "layout": "IPY_MODEL_6ca1abb4c0974a9b85bd5dd3b0292df2",
       "max": 200,
       "style": "IPY_MODEL_365e674cee834830a59831c728e5cf79",
       "value": 4
      }
     },
     "d803e86b0e614e51ab630c358e4fcb68": {
      "model_module": "@jupyter-widgets/controls",
      "model_module_version": "1.5.0",
      "model_name": "CheckboxModel",
      "state": {
       "description": "bipolar I disorder",
       "disabled": false,
       "layout": "IPY_MODEL_f5df3a77bfb142a88cbef7861dcf957c",
       "style": "IPY_MODEL_e5f3ad78f9e044af8a89928ec6534e2e",
       "value": false
      }
     },
     "d80ef7f8e6cd4df0a25e0b53186b80b4": {
      "model_module": "@jupyter-widgets/controls",
      "model_module_version": "1.5.0",
      "model_name": "TextareaModel",
      "state": {
       "description": "Prev Meds",
       "layout": "IPY_MODEL_42f9ab8dcbd947b893f1ada0c235c49a",
       "style": "IPY_MODEL_1247d55cb80144bcbc9a7c1a10f2f646",
       "value": "None"
      }
     },
     "d80f9afdfd7346dfbd8143ef27371458": {
      "model_module": "@jupyter-widgets/controls",
      "model_module_version": "1.5.0",
      "model_name": "TextareaModel",
      "state": {
       "description": "notes",
       "layout": "IPY_MODEL_42f9ab8dcbd947b893f1ada0c235c49a",
       "style": "IPY_MODEL_0ff32e03ccee4aa5850262ad1f0fe73d"
      }
     },
     "d89ce043ef4f47d2a91cea2e3d0eb3ff": {
      "model_module": "@jupyter-widgets/controls",
      "model_module_version": "1.5.0",
      "model_name": "DescriptionStyleModel",
      "state": {
       "description_width": ""
      }
     },
     "d8a8ef339ea34e829bc454428292c630": {
      "model_module": "@jupyter-widgets/controls",
      "model_module_version": "1.5.0",
      "model_name": "TextareaModel",
      "state": {
       "description": "primary_substances",
       "layout": "IPY_MODEL_6ca1abb4c0974a9b85bd5dd3b0292df2",
       "style": "IPY_MODEL_dc53e74e701449cea7421605e6fbdff2",
       "value": "nothing"
      }
     },
     "d8ac6a6e0d794c3798d871df9b5001b3": {
      "model_module": "@jupyter-widgets/controls",
      "model_module_version": "1.5.0",
      "model_name": "VBoxModel",
      "state": {
       "children": [
        "IPY_MODEL_2747d87b2d0c48e5b7b707b992f58217",
        "IPY_MODEL_9b4f7e8581454bae8eea90e794798bd9",
        "IPY_MODEL_b167490b65e949db9db54c1bd4fe9395",
        "IPY_MODEL_5096d2b34acd46238cf3b8fa62b86af4",
        "IPY_MODEL_acaf03c89fb5438bb0dcea57260425ca",
        "IPY_MODEL_2b75d9d09562425eaa9d7900319d42b9",
        "IPY_MODEL_fe264d6b6dc14d2997efe8ebe12afab8",
        "IPY_MODEL_17e704b87e914ee9b65cb7e91ff14a69",
        "IPY_MODEL_fa98a372369f45e5aff0ce2070ba8bac",
        "IPY_MODEL_861357d9310d4db69cfb8a4239770256",
        "IPY_MODEL_080e00957f8b4976b2b5905163206e5a",
        "IPY_MODEL_c6ceb35339da4dc29ddbfa68af405bd7",
        "IPY_MODEL_c3722d74f86e4bf79e671b551dc82b02",
        "IPY_MODEL_0e4270f933ba48edb5554b974a9fd791"
       ],
       "layout": "IPY_MODEL_9096d8056f6049b595f82fc699fe8704"
      }
     },
     "d901b694a95c41f3b352b4527de2dd20": {
      "model_module": "@jupyter-widgets/controls",
      "model_module_version": "1.5.0",
      "model_name": "CheckboxModel",
      "state": {
       "description": "LSD",
       "disabled": false,
       "layout": "IPY_MODEL_53d06c644a7b46cbba6612a0ee895639",
       "style": "IPY_MODEL_e0713a3bd7834bdb9c8b74ce090c38a2",
       "value": false
      }
     },
     "d9750e63caf243e18cb73648ee7cf1fb": {
      "model_module": "@jupyter-widgets/controls",
      "model_module_version": "1.5.0",
      "model_name": "CheckboxModel",
      "state": {
       "description": "ptsd",
       "disabled": false,
       "layout": "IPY_MODEL_ffe846021b214004b50288a523f92f03",
       "style": "IPY_MODEL_5d42c710b7f44c85adbb2cb8be2f1204",
       "value": false
      }
     },
     "d978bec1669a49fb92e818afa4c691e5": {
      "model_module": "@jupyter-widgets/controls",
      "model_module_version": "1.5.0",
      "model_name": "DropdownModel",
      "state": {
       "_options_labels": [
        "a history",
        "no history"
       ],
       "description": "psychosis",
       "index": 1,
       "layout": "IPY_MODEL_6ca1abb4c0974a9b85bd5dd3b0292df2",
       "style": "IPY_MODEL_40b6a6db5a8b49869f6d4b0238ac24ae"
      }
     },
     "d98055d267cb4614bf81cd4d9405408d": {
      "model_module": "@jupyter-widgets/controls",
      "model_module_version": "1.5.0",
      "model_name": "VBoxModel",
      "state": {
       "_dom_classes": [
        "widget-interact"
       ],
       "children": [
        "IPY_MODEL_d8a8ef339ea34e829bc454428292c630",
        "IPY_MODEL_115d0e3d24a84fbd82951f4efeb38f08",
        "IPY_MODEL_9efac89adfba41baa4e0067710b07d0e",
        "IPY_MODEL_64521613d98d418d8735b0717bf26b2e",
        "IPY_MODEL_01a23146c6854aeba206185f07f816d4",
        "IPY_MODEL_b14dbce9d3fd4061a0d7503837646711",
        "IPY_MODEL_358b54f98b35430893b7cfe3124ab8e4",
        "IPY_MODEL_51aaa7f94a8c4dac9d232de337f673a0"
       ],
       "layout": "IPY_MODEL_72b8e769f7594a97b7f1a32e940a65a1"
      }
     },
     "d998a122403241a5862a423ba58e9f35": {
      "model_module": "@jupyter-widgets/controls",
      "model_module_version": "1.5.0",
      "model_name": "HBoxModel",
      "state": {
       "children": [
        "IPY_MODEL_4a07549478b04a76b905658e4fa89c16"
       ],
       "layout": "IPY_MODEL_5479daf092e7446c9ae5c9c01911dad8"
      }
     },
     "d9dc02afd8e040409c82af01469c0e8d": {
      "model_module": "@jupyter-widgets/base",
      "model_module_version": "1.2.0",
      "model_name": "LayoutModel",
      "state": {}
     },
     "da1a7fd4dee54288a81ecab2eb1a0848": {
      "model_module": "@jupyter-widgets/base",
      "model_module_version": "1.2.0",
      "model_name": "LayoutModel",
      "state": {}
     },
     "da2ff144c79a41b892c5aef07e1f6216": {
      "model_module": "@jupyter-widgets/controls",
      "model_module_version": "1.5.0",
      "model_name": "DescriptionStyleModel",
      "state": {
       "description_width": ""
      }
     },
     "da6cb71ffdab4738bf028c32f97ac0e3": {
      "model_module": "@jupyter-widgets/controls",
      "model_module_version": "1.5.0",
      "model_name": "CheckboxModel",
      "state": {
       "description": "bipolar II disorder",
       "disabled": false,
       "layout": "IPY_MODEL_cd4332d374d84734b21097735e21e35e",
       "style": "IPY_MODEL_1484a796ed6347e08c719759a96463bd",
       "value": false
      }
     },
     "dac100b5353145b8bb2076e225085564": {
      "model_module": "@jupyter-widgets/controls",
      "model_module_version": "1.5.0",
      "model_name": "DescriptionStyleModel",
      "state": {
       "description_width": "150px"
      }
     },
     "dac47e6e0bba423b9f191afb871a01c7": {
      "model_module": "@jupyter-widgets/controls",
      "model_module_version": "1.5.0",
      "model_name": "DescriptionStyleModel",
      "state": {
       "description_width": ""
      }
     },
     "daed87c171464f66809cba7b101506f5": {
      "model_module": "@jupyter-widgets/output",
      "model_module_version": "1.0.0",
      "model_name": "OutputModel",
      "state": {
       "layout": "IPY_MODEL_b08908dd2d8c40698dcf6a752e5deaf6",
       "outputs": [
        {
         "name": "stdout",
         "output_type": "stream",
         "text": "\nPsychiatric History: \nPatient denies any history of psychiatric hospitalizations. \nPatient denies suicide attempts, \nPatient denies self-injurious behavior. \nPrevious meds: None \nCurrent outpatient psychiatrist: None\n\n\n"
        }
       ]
      }
     },
     "db37dc12ac584bf298dd7aa7a558ee19": {
      "model_module": "@jupyter-widgets/base",
      "model_module_version": "1.2.0",
      "model_name": "LayoutModel",
      "state": {}
     },
     "db3d9b8a81ef417e8c3957b913c26c4c": {
      "model_module": "@jupyter-widgets/controls",
      "model_module_version": "1.5.0",
      "model_name": "DescriptionStyleModel",
      "state": {
       "description_width": "150px"
      }
     },
     "db78a5ec3ec1446facbcec720e3feb84": {
      "model_module": "@jupyter-widgets/controls",
      "model_module_version": "1.5.0",
      "model_name": "TextModel",
      "state": {
       "description": "outpatient_psychiatrist",
       "layout": "IPY_MODEL_42f9ab8dcbd947b893f1ada0c235c49a",
       "style": "IPY_MODEL_62351f93611f49d38efbf57a0d4dcac6",
       "value": "None"
      }
     },
     "dbbc0bd05f7e4e409c14c7d4e0a388eb": {
      "model_module": "@jupyter-widgets/controls",
      "model_module_version": "1.5.0",
      "model_name": "TextareaModel",
      "state": {
       "description": "Mood:",
       "layout": "IPY_MODEL_ae7840dd1cb944ca8b591d5e2a2d693f",
       "placeholder": "Type something",
       "style": "IPY_MODEL_06062a1bd0c54aaca27b8e9d37330de3",
       "value": "It’s pretty good."
      }
     },
     "dc382d5ed9154c9ebe931e1921c401eb": {
      "model_module": "@jupyter-widgets/controls",
      "model_module_version": "1.5.0",
      "model_name": "TextModel",
      "state": {
       "description": "Pronoun:",
       "layout": "IPY_MODEL_2d18213ce2d74b8cbacd03c6a4c4454f",
       "style": "IPY_MODEL_838ce8d0d0ed4df2b87e43c0fb6ffd03",
       "value": "they"
      }
     },
     "dc53e74e701449cea7421605e6fbdff2": {
      "model_module": "@jupyter-widgets/controls",
      "model_module_version": "1.5.0",
      "model_name": "DescriptionStyleModel",
      "state": {
       "description_width": "150px"
      }
     },
     "dc8774d54b1a43748ca034f068c7e6fe": {
      "model_module": "@jupyter-widgets/controls",
      "model_module_version": "1.5.0",
      "model_name": "DescriptionStyleModel",
      "state": {
       "description_width": "150px"
      }
     },
     "dc8caa0bbb504343ae8a9e64921204f4": {
      "model_module": "@jupyter-widgets/base",
      "model_module_version": "1.2.0",
      "model_name": "LayoutModel",
      "state": {}
     },
     "dc95b05c735445d58a0c238197ebfe52": {
      "model_module": "@jupyter-widgets/base",
      "model_module_version": "1.2.0",
      "model_name": "LayoutModel",
      "state": {}
     },
     "dc98eda8c8c2489ea9ee77fb9f928e88": {
      "model_module": "@jupyter-widgets/controls",
      "model_module_version": "1.5.0",
      "model_name": "DescriptionStyleModel",
      "state": {
       "description_width": ""
      }
     },
     "dcd0d164c5244ba988cfe530f907fe1a": {
      "model_module": "@jupyter-widgets/controls",
      "model_module_version": "1.5.0",
      "model_name": "DescriptionStyleModel",
      "state": {
       "description_width": "150px"
      }
     },
     "dced599fd5bc404e981386918b9d6356": {
      "model_module": "@jupyter-widgets/controls",
      "model_module_version": "1.5.0",
      "model_name": "DescriptionStyleModel",
      "state": {
       "description_width": "150px"
      }
     },
     "dcff2d0d08714ade87a0c2f3a82b7dd7": {
      "model_module": "@jupyter-widgets/base",
      "model_module_version": "1.2.0",
      "model_name": "LayoutModel",
      "state": {}
     },
     "dd080e9ffd3348e8963d5ee24da3c0b0": {
      "model_module": "@jupyter-widgets/controls",
      "model_module_version": "1.5.0",
      "model_name": "DescriptionStyleModel",
      "state": {
       "description_width": "150px"
      }
     },
     "dd867f5e1a184d96be44a99bbc56805e": {
      "model_module": "@jupyter-widgets/base",
      "model_module_version": "1.2.0",
      "model_name": "LayoutModel",
      "state": {}
     },
     "dd9c558e913145efa0d42c673a807c9f": {
      "model_module": "@jupyter-widgets/controls",
      "model_module_version": "1.5.0",
      "model_name": "DescriptionStyleModel",
      "state": {
       "description_width": ""
      }
     },
     "ddaab07c1a0e4699b16ec8851895c9a5": {
      "model_module": "@jupyter-widgets/controls",
      "model_module_version": "1.5.0",
      "model_name": "ComboboxModel",
      "state": {
       "description": "med_compliant",
       "ensure_option": false,
       "layout": "IPY_MODEL_42f9ab8dcbd947b893f1ada0c235c49a",
       "options": [
        "Patient reports that they have been compliant with their psychotropic medication regimen and denies adverse effects",
        "Patient reports that they have been non-compliant with their psychotropic medication regimen and denies adverse effects"
       ],
       "style": "IPY_MODEL_3e9873413e824873bc4aa3a11a599255"
      }
     },
     "ddfdd4be5fbc44f3adc66d381182be5b": {
      "model_module": "@jupyter-widgets/controls",
      "model_module_version": "1.5.0",
      "model_name": "CheckboxModel",
      "state": {
       "description": "no drug",
       "disabled": false,
       "layout": "IPY_MODEL_e1e35af2428240f581d7392b8bb77ae5",
       "style": "IPY_MODEL_b27d308eb8ee40c8ac68a3e3abf5478f",
       "value": false
      }
     },
     "ddffd83502194ddc8a6bc3e88f5d4f08": {
      "model_module": "@jupyter-widgets/controls",
      "model_module_version": "1.5.0",
      "model_name": "DropdownModel",
      "state": {
       "_options_labels": [
        "declines",
        "elects to start",
        "would like to continue with"
       ],
       "description": "anti_cravings_choice",
       "index": 0,
       "layout": "IPY_MODEL_42f9ab8dcbd947b893f1ada0c235c49a",
       "style": "IPY_MODEL_5dc8bdeb9d30417a87a48b2f8989e419"
      }
     },
     "de2f6ea8c4954a26ab312f63fad5840e": {
      "model_module": "@jupyter-widgets/base",
      "model_module_version": "1.2.0",
      "model_name": "LayoutModel",
      "state": {}
     },
     "de736a944a5f42e1bb10d962ca8327fc": {
      "model_module": "@jupyter-widgets/controls",
      "model_module_version": "1.5.0",
      "model_name": "DescriptionStyleModel",
      "state": {
       "description_width": ""
      }
     },
     "de92cab07f684e449171b9c5df1b7922": {
      "model_module": "@jupyter-widgets/base",
      "model_module_version": "1.2.0",
      "model_name": "LayoutModel",
      "state": {}
     },
     "dea156597bb247b992d000379f41e107": {
      "model_module": "@jupyter-widgets/controls",
      "model_module_version": "1.5.0",
      "model_name": "DropdownModel",
      "state": {
       "_options_labels": [
        "denies",
        "endorses"
       ],
       "description": "legal",
       "index": 0,
       "layout": "IPY_MODEL_6ca1abb4c0974a9b85bd5dd3b0292df2",
       "style": "IPY_MODEL_3b2d5b968e4f4878a91f262c841c0813"
      }
     },
     "dea3cff23abf4838948924ee2ee87322": {
      "model_module": "@jupyter-widgets/controls",
      "model_module_version": "1.5.0",
      "model_name": "VBoxModel",
      "state": {
       "children": [
        "IPY_MODEL_4da42d5d0db7481bb038a19c7f1037ed",
        "IPY_MODEL_0f6873566a0a4c94894cd30ad96d3825",
        "IPY_MODEL_b93f9aa10696477dba1885b368775f67",
        "IPY_MODEL_fc16451c2f3c486fa6ff2bcf96259bc7"
       ],
       "layout": "IPY_MODEL_5c6b9b486d844c7995987ad84822d403"
      }
     },
     "deb2e7f43cc049dab3479ba7b28eda59": {
      "model_module": "@jupyter-widgets/base",
      "model_module_version": "1.2.0",
      "model_name": "LayoutModel",
      "state": {}
     },
     "decf20dddd22452fadd4e8f2fa6d9ae3": {
      "model_module": "@jupyter-widgets/controls",
      "model_module_version": "1.5.0",
      "model_name": "DescriptionStyleModel",
      "state": {
       "description_width": ""
      }
     },
     "deed33f724634afea8321e3a40708ecd": {
      "model_module": "@jupyter-widgets/controls",
      "model_module_version": "1.5.0",
      "model_name": "DescriptionStyleModel",
      "state": {
       "description_width": "150px"
      }
     },
     "df7d0685f05f412aa9668d6b59f644e9": {
      "model_module": "@jupyter-widgets/controls",
      "model_module_version": "1.5.0",
      "model_name": "DescriptionStyleModel",
      "state": {
       "description_width": "150px"
      }
     },
     "dfbc01cc029f4bd69fa6998f8d90c0c1": {
      "model_module": "@jupyter-widgets/controls",
      "model_module_version": "1.5.0",
      "model_name": "TextareaModel",
      "state": {
       "description": "Other:",
       "layout": "IPY_MODEL_6ca1abb4c0974a9b85bd5dd3b0292df2",
       "style": "IPY_MODEL_3425784f222f4adeb5401c7c531dd62f"
      }
     },
     "e0276263cf084462b06b4b2e96b14ddc": {
      "model_module": "@jupyter-widgets/controls",
      "model_module_version": "1.5.0",
      "model_name": "DescriptionStyleModel",
      "state": {
       "description_width": ""
      }
     },
     "e040f323880b4259a6f17b2f49464d87": {
      "model_module": "@jupyter-widgets/controls",
      "model_module_version": "1.5.0",
      "model_name": "CheckboxModel",
      "state": {
       "description": "fentanyl",
       "disabled": false,
       "layout": "IPY_MODEL_ac3bb641063743bc8b7a9977939a3c39",
       "style": "IPY_MODEL_ec931d476a9a4f56bed570cb5f334a8a",
       "value": false
      }
     },
     "e04c2acd0fc24815b4d311ca42e7e857": {
      "model_module": "@jupyter-widgets/controls",
      "model_module_version": "1.5.0",
      "model_name": "CheckboxModel",
      "state": {
       "description": "fentanyl",
       "disabled": false,
       "layout": "IPY_MODEL_dcff2d0d08714ade87a0c2f3a82b7dd7",
       "style": "IPY_MODEL_8ce2cd6fc9214f439ce3cfbbfd862c00",
       "value": false
      }
     },
     "e0713a3bd7834bdb9c8b74ce090c38a2": {
      "model_module": "@jupyter-widgets/controls",
      "model_module_version": "1.5.0",
      "model_name": "DescriptionStyleModel",
      "state": {
       "description_width": ""
      }
     },
     "e122b01815b64490a2f2ad82b49f98bb": {
      "model_module": "@jupyter-widgets/base",
      "model_module_version": "1.2.0",
      "model_name": "LayoutModel",
      "state": {}
     },
     "e19760c1148b4ef8a275a5327a85e13e": {
      "model_module": "@jupyter-widgets/controls",
      "model_module_version": "1.5.0",
      "model_name": "BoundedIntTextModel",
      "state": {
       "description": "Sober Time:",
       "layout": "IPY_MODEL_42f9ab8dcbd947b893f1ada0c235c49a",
       "max": 200,
       "style": "IPY_MODEL_1776639e5cc64aaa9582cacceb3d9fe4",
       "value": 4
      }
     },
     "e1ab6c92dbde41e983bc3e5f7bccda03": {
      "model_module": "@jupyter-widgets/controls",
      "model_module_version": "1.5.0",
      "model_name": "DescriptionStyleModel",
      "state": {
       "description_width": ""
      }
     },
     "e1cda3d1e4ae44d2b281ac458b41ac83": {
      "model_module": "@jupyter-widgets/controls",
      "model_module_version": "1.5.0",
      "model_name": "VBoxModel",
      "state": {
       "_dom_classes": [
        "widget-interact"
       ],
       "children": [
        "IPY_MODEL_0cf01bdfc4c2436a8fa94ac7df5be78f",
        "IPY_MODEL_fb3fece99df74cb0bcfdfb083e2fc8e7",
        "IPY_MODEL_ebbd6a48ddc84df58a36d75db3f632f9",
        "IPY_MODEL_9dff653867724dfd88054ba905da7309",
        "IPY_MODEL_850ab1b5e69048d08f6e6f181b4b85dc",
        "IPY_MODEL_b2741a499efe42838513fdcce2f1c019"
       ],
       "layout": "IPY_MODEL_baa07b8a14ee4ac69dfbaae707295c72"
      }
     },
     "e1d48f9aa81f4f49b230246229eee3a9": {
      "model_module": "@jupyter-widgets/controls",
      "model_module_version": "1.5.0",
      "model_name": "TextModel",
      "state": {
       "description": "labs",
       "layout": "IPY_MODEL_aab26c2e53fa40fcad4f1542853b37aa",
       "style": "IPY_MODEL_0d79f11ae8674580a682266cfa9dcc44",
       "value": "None currently on file."
      }
     },
     "e1dc0c746b6348948f008403f9099dd9": {
      "model_module": "@jupyter-widgets/controls",
      "model_module_version": "1.5.0",
      "model_name": "DescriptionStyleModel",
      "state": {
       "description_width": "150px"
      }
     },
     "e1e35af2428240f581d7392b8bb77ae5": {
      "model_module": "@jupyter-widgets/base",
      "model_module_version": "1.2.0",
      "model_name": "LayoutModel",
      "state": {}
     },
     "e25a23312a984dd785941b4d24f453f6": {
      "model_module": "@jupyter-widgets/controls",
      "model_module_version": "1.5.0",
      "model_name": "DescriptionStyleModel",
      "state": {
       "description_width": "150px"
      }
     },
     "e2c3a0b8483b4cad8dd826b8f94e676a": {
      "model_module": "@jupyter-widgets/controls",
      "model_module_version": "1.5.0",
      "model_name": "DescriptionStyleModel",
      "state": {
       "description_width": ""
      }
     },
     "e2ceb9a3e76243818ae48de125f7f22f": {
      "model_module": "@jupyter-widgets/base",
      "model_module_version": "1.2.0",
      "model_name": "LayoutModel",
      "state": {}
     },
     "e3014dd81023452ba16c9337ab7bdb0b": {
      "model_module": "@jupyter-widgets/controls",
      "model_module_version": "1.5.0",
      "model_name": "TextModel",
      "state": {
       "description": "Pronoun:",
       "layout": "IPY_MODEL_d6596058c2354fcbabb1703f4e632db6",
       "style": "IPY_MODEL_a3601dafdbee400db7dce324a2f5ac73",
       "value": "they"
      }
     },
     "e34dd579aba8415ab5bd90e305c01ad8": {
      "model_module": "@jupyter-widgets/controls",
      "model_module_version": "1.5.0",
      "model_name": "DescriptionStyleModel",
      "state": {
       "description_width": "150px"
      }
     },
     "e3657c016fa449a5963e47f641d5e43c": {
      "model_module": "@jupyter-widgets/controls",
      "model_module_version": "1.5.0",
      "model_name": "DescriptionStyleModel",
      "state": {
       "description_width": "150px"
      }
     },
     "e3815a20d83f4ada9e60407329027818": {
      "model_module": "@jupyter-widgets/base",
      "model_module_version": "1.2.0",
      "model_name": "LayoutModel",
      "state": {}
     },
     "e3a9d4a42b4748748fd150ccb111bea9": {
      "model_module": "@jupyter-widgets/controls",
      "model_module_version": "1.5.0",
      "model_name": "DescriptionStyleModel",
      "state": {
       "description_width": "150px"
      }
     },
     "e40ca1a096bc4e25848768db6d35eb2b": {
      "model_module": "@jupyter-widgets/controls",
      "model_module_version": "1.5.0",
      "model_name": "DropdownModel",
      "state": {
       "_options_labels": [
        "denies",
        "endorses"
       ],
       "description": "Acute Medical",
       "index": 0,
       "layout": "IPY_MODEL_42f9ab8dcbd947b893f1ada0c235c49a",
       "style": "IPY_MODEL_3642f861f74b49b1b64a10ba26ee82d3"
      }
     },
     "e416acb9b8064166a272f02c66e7630d": {
      "model_module": "@jupyter-widgets/base",
      "model_module_version": "1.2.0",
      "model_name": "LayoutModel",
      "state": {}
     },
     "e45a377c91fe4c1e8ea46bd09450d63a": {
      "model_module": "@jupyter-widgets/controls",
      "model_module_version": "1.5.0",
      "model_name": "VBoxModel",
      "state": {
       "children": [
        "IPY_MODEL_b613239163a54a128e38a083c7c5628e",
        "IPY_MODEL_18d58d9bd0954bba9c5e9c84eadd2064"
       ],
       "layout": "IPY_MODEL_bce8a31ff09648eaa48d525210feaacc"
      }
     },
     "e48956ea7e294ab8a2ba8dcd496dcb7b": {
      "model_module": "@jupyter-widgets/controls",
      "model_module_version": "1.5.0",
      "model_name": "CheckboxModel",
      "state": {
       "description": "Unspecified Depressive Disorder",
       "disabled": false,
       "layout": "IPY_MODEL_a32a2d168bb4459aa427f700655a6e21",
       "style": "IPY_MODEL_bfc95fad807a45fc9a9023ca8dd5cce8",
       "value": false
      }
     },
     "e49cf12bcf054e4dbd7ca5345c0a39ef": {
      "model_module": "@jupyter-widgets/controls",
      "model_module_version": "1.5.0",
      "model_name": "CheckboxModel",
      "state": {
       "description": "ketamine",
       "disabled": false,
       "layout": "IPY_MODEL_05a17c0ec73848d4846fc7d0488d8262",
       "style": "IPY_MODEL_dc98eda8c8c2489ea9ee77fb9f928e88",
       "value": false
      }
     },
     "e4a890c382ea4a00b88111bb719a49f4": {
      "model_module": "@jupyter-widgets/controls",
      "model_module_version": "1.5.0",
      "model_name": "DescriptionStyleModel",
      "state": {
       "description_width": "150px"
      }
     },
     "e4bffa08bc4d4bd2bfca0ec7176388a5": {
      "model_module": "@jupyter-widgets/controls",
      "model_module_version": "1.5.0",
      "model_name": "DescriptionStyleModel",
      "state": {
       "description_width": ""
      }
     },
     "e4cd9c052df74b00b268b421e76badd7": {
      "model_module": "@jupyter-widgets/controls",
      "model_module_version": "1.5.0",
      "model_name": "DescriptionStyleModel",
      "state": {
       "description_width": "150px"
      }
     },
     "e4da2dbb77f8435296a0ae372f556df1": {
      "model_module": "@jupyter-widgets/controls",
      "model_module_version": "1.5.0",
      "model_name": "DescriptionStyleModel",
      "state": {
       "description_width": "150px"
      }
     },
     "e4dee5a049794e0e8d61a1e030228d44": {
      "model_module": "@jupyter-widgets/base",
      "model_module_version": "1.2.0",
      "model_name": "LayoutModel",
      "state": {}
     },
     "e5383ae993d64c93920a7e799dd983c9": {
      "model_module": "@jupyter-widgets/base",
      "model_module_version": "1.2.0",
      "model_name": "LayoutModel",
      "state": {}
     },
     "e5b3ea3c967b461794ecbed290ac9765": {
      "model_module": "@jupyter-widgets/base",
      "model_module_version": "1.2.0",
      "model_name": "LayoutModel",
      "state": {}
     },
     "e5c807bf6d4b4521b5bfa15b0ee116c4": {
      "model_module": "@jupyter-widgets/base",
      "model_module_version": "1.2.0",
      "model_name": "LayoutModel",
      "state": {}
     },
     "e5cff244684c45139e730359ae3833bc": {
      "model_module": "@jupyter-widgets/controls",
      "model_module_version": "1.5.0",
      "model_name": "DescriptionStyleModel",
      "state": {
       "description_width": ""
      }
     },
     "e5f3ad78f9e044af8a89928ec6534e2e": {
      "model_module": "@jupyter-widgets/controls",
      "model_module_version": "1.5.0",
      "model_name": "DescriptionStyleModel",
      "state": {
       "description_width": ""
      }
     },
     "e6449e91ce7f46d9acf5a84f2d3a0fc4": {
      "model_module": "@jupyter-widgets/controls",
      "model_module_version": "1.5.0",
      "model_name": "DescriptionStyleModel",
      "state": {
       "description_width": "150px"
      }
     },
     "e646518155cc432ea1ebe8fc17ee6b22": {
      "model_module": "@jupyter-widgets/controls",
      "model_module_version": "1.5.0",
      "model_name": "CheckboxModel",
      "state": {
       "description": "Major depressive disorder, rec, mod",
       "disabled": false,
       "layout": "IPY_MODEL_6cef39ea73954365b04f4c3fd59f5152",
       "style": "IPY_MODEL_1d549e97114d4af28cd5a7eb30c430f5",
       "value": false
      }
     },
     "e67ad8129986462da9005141287301b8": {
      "model_module": "@jupyter-widgets/base",
      "model_module_version": "1.2.0",
      "model_name": "LayoutModel",
      "state": {}
     },
     "e6e17b2b9e904a759d94fea9dd8a995a": {
      "model_module": "@jupyter-widgets/controls",
      "model_module_version": "1.5.0",
      "model_name": "DescriptionStyleModel",
      "state": {
       "description_width": ""
      }
     },
     "e73b4388e08c4cd7a4541ad5d9da579b": {
      "model_module": "@jupyter-widgets/base",
      "model_module_version": "1.2.0",
      "model_name": "LayoutModel",
      "state": {}
     },
     "e76f1abe863643e68e1e4fce3fe16731": {
      "model_module": "@jupyter-widgets/base",
      "model_module_version": "1.2.0",
      "model_name": "LayoutModel",
      "state": {}
     },
     "e7769a8d81b24865bfcf6f2ee1e78125": {
      "model_module": "@jupyter-widgets/controls",
      "model_module_version": "1.5.0",
      "model_name": "CheckboxModel",
      "state": {
       "description": "Unspecified Bipolar Disorder",
       "disabled": false,
       "layout": "IPY_MODEL_7fa606936d6042728ac8049e40eb0c99",
       "style": "IPY_MODEL_24ca18878bf34e4fbcfa2fee523e339b",
       "value": false
      }
     },
     "e7a6dd2cfb5c4beb9695964ce1e7312d": {
      "model_module": "@jupyter-widgets/controls",
      "model_module_version": "1.5.0",
      "model_name": "BoundedIntTextModel",
      "state": {
       "description": "Age:",
       "layout": "IPY_MODEL_a1b8023824e9406a80dd3ad6f65a4d08",
       "max": 200,
       "style": "IPY_MODEL_acb080669ff043748627a370f4f59bba",
       "value": 33
      }
     },
     "e7e2788276b144248f803c0adf2ad611": {
      "model_module": "@jupyter-widgets/base",
      "model_module_version": "1.2.0",
      "model_name": "LayoutModel",
      "state": {}
     },
     "e830d1c5f3644661bba55186094e18c5": {
      "model_module": "@jupyter-widgets/controls",
      "model_module_version": "1.5.0",
      "model_name": "TextareaModel",
      "state": {
       "description": "allergies",
       "layout": "IPY_MODEL_6ca1abb4c0974a9b85bd5dd3b0292df2",
       "style": "IPY_MODEL_cb9e5d63a67442df8513a03a96fd1f7a",
       "value": "NKDA"
      }
     },
     "e83d802138774a5ba7cd2c6b67cb904e": {
      "model_module": "@jupyter-widgets/base",
      "model_module_version": "1.2.0",
      "model_name": "LayoutModel",
      "state": {}
     },
     "e850e2fce4b349f58495dd1d25358270": {
      "model_module": "@jupyter-widgets/controls",
      "model_module_version": "1.5.0",
      "model_name": "DescriptionStyleModel",
      "state": {
       "description_width": ""
      }
     },
     "e92756a93b1c4e0f998974b1667a1490": {
      "model_module": "@jupyter-widgets/controls",
      "model_module_version": "1.5.0",
      "model_name": "TextareaModel",
      "state": {
       "description": "family",
       "layout": "IPY_MODEL_6ca1abb4c0974a9b85bd5dd3b0292df2",
       "style": "IPY_MODEL_4bf81c8f4b0c492fb2d503d304f4080f",
       "value": "Denies family history of mental illness"
      }
     },
     "e9d7936d0d634ad2ac31089c9b825f69": {
      "model_module": "@jupyter-widgets/controls",
      "model_module_version": "1.5.0",
      "model_name": "DescriptionStyleModel",
      "state": {
       "description_width": "150px"
      }
     },
     "e9f171e311f94076acee2ce98d1edd3b": {
      "model_module": "@jupyter-widgets/controls",
      "model_module_version": "1.5.0",
      "model_name": "DescriptionStyleModel",
      "state": {
       "description_width": "150px"
      }
     },
     "e9fbb58f5f304dff8b4ea6001dd6520f": {
      "model_module": "@jupyter-widgets/controls",
      "model_module_version": "1.5.0",
      "model_name": "DescriptionStyleModel",
      "state": {
       "description_width": ""
      }
     },
     "ea3d497a13914264a007fbf41aa4339e": {
      "model_module": "@jupyter-widgets/controls",
      "model_module_version": "1.5.0",
      "model_name": "DescriptionStyleModel",
      "state": {
       "description_width": "150px"
      }
     },
     "ea4dfd82262f410fbc59ad2258768c06": {
      "model_module": "@jupyter-widgets/base",
      "model_module_version": "1.2.0",
      "model_name": "LayoutModel",
      "state": {}
     },
     "ea9900b23b8247558e4cf39d4d7d3207": {
      "model_module": "@jupyter-widgets/controls",
      "model_module_version": "1.5.0",
      "model_name": "CheckboxModel",
      "state": {
       "description": "mushrooms",
       "disabled": false,
       "layout": "IPY_MODEL_278526a897024e7091aeabe06379b49e",
       "style": "IPY_MODEL_53207a79206e4df280207af3c3ae5c99",
       "value": false
      }
     },
     "eac9743c928b42638d4e33b04b88cf8f": {
      "model_module": "@jupyter-widgets/base",
      "model_module_version": "1.2.0",
      "model_name": "LayoutModel",
      "state": {}
     },
     "eb4e222e82774b98bdb7e15e8eb83957": {
      "model_module": "@jupyter-widgets/controls",
      "model_module_version": "1.5.0",
      "model_name": "CheckboxModel",
      "state": {
       "description": "methamphetamine",
       "disabled": false,
       "layout": "IPY_MODEL_d5e98f02dd0440099b2cca7458aa10c8",
       "style": "IPY_MODEL_82aa64f374f040db83d06e2e3218c809",
       "value": false
      }
     },
     "eb9909b9287f4259a9cb5e225e3294cb": {
      "model_module": "@jupyter-widgets/base",
      "model_module_version": "1.2.0",
      "model_name": "LayoutModel",
      "state": {}
     },
     "ebbd6a48ddc84df58a36d75db3f632f9": {
      "model_module": "@jupyter-widgets/controls",
      "model_module_version": "1.5.0",
      "model_name": "DropdownModel",
      "state": {
       "_options_labels": [
        "declines",
        "is amenable with"
       ],
       "description": "med_adjust",
       "index": 0,
       "layout": "IPY_MODEL_6ca1abb4c0974a9b85bd5dd3b0292df2",
       "style": "IPY_MODEL_6cbad3a6220446129e04d2e52c5bb991"
      }
     },
     "ec931d476a9a4f56bed570cb5f334a8a": {
      "model_module": "@jupyter-widgets/controls",
      "model_module_version": "1.5.0",
      "model_name": "DescriptionStyleModel",
      "state": {
       "description_width": ""
      }
     },
     "eca7a7d54c7a450ab6e20ee9a5922d9c": {
      "model_module": "@jupyter-widgets/controls",
      "model_module_version": "1.5.0",
      "model_name": "CheckboxModel",
      "state": {
       "description": "schizophrenia",
       "disabled": false,
       "layout": "IPY_MODEL_beaf2b39c5464b25ab162feaa4b4e74b",
       "style": "IPY_MODEL_3a84c9d2ae4e487c932ed33909e4570c",
       "value": false
      }
     },
     "ecbf6b73d1594e918bb0cf0b42a09505": {
      "model_module": "@jupyter-widgets/controls",
      "model_module_version": "1.5.0",
      "model_name": "DescriptionStyleModel",
      "state": {
       "description_width": "150px"
      }
     },
     "ed9be39b4d484619abbf19d6322f3865": {
      "model_module": "@jupyter-widgets/controls",
      "model_module_version": "1.5.0",
      "model_name": "DescriptionStyleModel",
      "state": {
       "description_width": ""
      }
     },
     "eddfe5deb73746319563f390c06b20a7": {
      "model_module": "@jupyter-widgets/base",
      "model_module_version": "1.2.0",
      "model_name": "LayoutModel",
      "state": {}
     },
     "ede372a445d14fd4b6003f6f411a8cc4": {
      "model_module": "@jupyter-widgets/controls",
      "model_module_version": "1.5.0",
      "model_name": "DropdownModel",
      "state": {
       "_options_labels": [
        "denies",
        "endorses"
       ],
       "description": "anhedonia",
       "index": 0,
       "layout": "IPY_MODEL_6ca1abb4c0974a9b85bd5dd3b0292df2",
       "style": "IPY_MODEL_5eefca396d7f474e93ad67c47d4bfc25"
      }
     },
     "edfb63d92eec4494a5e2d3218d94c632": {
      "model_module": "@jupyter-widgets/base",
      "model_module_version": "1.2.0",
      "model_name": "LayoutModel",
      "state": {}
     },
     "ee035cb57c964419babf7663f5b47241": {
      "model_module": "@jupyter-widgets/controls",
      "model_module_version": "1.5.0",
      "model_name": "DescriptionStyleModel",
      "state": {
       "description_width": "150px"
      }
     },
     "ee4e6a6a235f40aea26515aa5a0cdff9": {
      "model_module": "@jupyter-widgets/controls",
      "model_module_version": "1.5.0",
      "model_name": "DescriptionStyleModel",
      "state": {
       "description_width": ""
      }
     },
     "ee7b03fa9853425a9f6e8a16f8785b0c": {
      "model_module": "@jupyter-widgets/base",
      "model_module_version": "1.2.0",
      "model_name": "LayoutModel",
      "state": {}
     },
     "eea5f2f9a9774fd5913d6626b49604f0": {
      "model_module": "@jupyter-widgets/base",
      "model_module_version": "1.2.0",
      "model_name": "LayoutModel",
      "state": {}
     },
     "ef1882f0a1e54a81bf941bb11c3c375a": {
      "model_module": "@jupyter-widgets/controls",
      "model_module_version": "1.5.0",
      "model_name": "TextareaModel",
      "state": {
       "description": "primary_substances",
       "layout": "IPY_MODEL_42f9ab8dcbd947b893f1ada0c235c49a",
       "style": "IPY_MODEL_827968396cbb43c1a8e9be10e113f94a",
       "value": "nothing"
      }
     },
     "ef51f602216f470cbc389bc4987d6f8f": {
      "model_module": "@jupyter-widgets/base",
      "model_module_version": "1.2.0",
      "model_name": "LayoutModel",
      "state": {}
     },
     "efeb742cdd2c40839d777ae703bedafe": {
      "model_module": "@jupyter-widgets/controls",
      "model_module_version": "1.5.0",
      "model_name": "DescriptionStyleModel",
      "state": {
       "description_width": ""
      }
     },
     "f0476c9778fb4c1f8b6c0fc5a9219334": {
      "model_module": "@jupyter-widgets/controls",
      "model_module_version": "1.5.0",
      "model_name": "DropdownModel",
      "state": {
       "_options_labels": [
        "denies",
        "endorses"
       ],
       "description": "seizures",
       "index": 0,
       "layout": "IPY_MODEL_42f9ab8dcbd947b893f1ada0c235c49a",
       "style": "IPY_MODEL_af3b1c1cb5a24f9e9d71de156ff80519"
      }
     },
     "f069610a5e28472e9170f742aaae7bb2": {
      "model_module": "@jupyter-widgets/base",
      "model_module_version": "1.2.0",
      "model_name": "LayoutModel",
      "state": {}
     },
     "f091b2c45ddb47f5930607365f0f9b82": {
      "model_module": "@jupyter-widgets/controls",
      "model_module_version": "1.5.0",
      "model_name": "CheckboxModel",
      "state": {
       "description": "adhd",
       "disabled": false,
       "layout": "IPY_MODEL_edfb63d92eec4494a5e2d3218d94c632",
       "style": "IPY_MODEL_04a62c97b11643c4b61f96a4065858b1",
       "value": false
      }
     },
     "f0ad015327e245e0ab27c5e5c85a06e5": {
      "model_module": "@jupyter-widgets/controls",
      "model_module_version": "1.5.0",
      "model_name": "DescriptionStyleModel",
      "state": {
       "description_width": ""
      }
     },
     "f0b14d85fcc040d29a238fd6c88a2bba": {
      "model_module": "@jupyter-widgets/controls",
      "model_module_version": "1.5.0",
      "model_name": "CheckboxModel",
      "state": {
       "description": "alcohol",
       "disabled": false,
       "layout": "IPY_MODEL_b5cd8bf24bbc44bbb83a174869a70874",
       "style": "IPY_MODEL_1a0e33ac584349a6b4d269a947149161",
       "value": false
      }
     },
     "f0b45eb62de741ec9e79e89b19de74b6": {
      "model_module": "@jupyter-widgets/controls",
      "model_module_version": "1.5.0",
      "model_name": "TextareaModel",
      "state": {
       "description": "notes",
       "layout": "IPY_MODEL_6ca1abb4c0974a9b85bd5dd3b0292df2",
       "style": "IPY_MODEL_55292650e777465da31a40547a0249db"
      }
     },
     "f0c9de96307041eda5eff0392727ce7f": {
      "model_module": "@jupyter-widgets/controls",
      "model_module_version": "1.5.0",
      "model_name": "CheckboxModel",
      "state": {
       "description": "insomnia",
       "disabled": false,
       "layout": "IPY_MODEL_447a50422c544a24a231cff36031c707",
       "style": "IPY_MODEL_ba7cfe7f60fc43a9befe871c683ddd11",
       "value": false
      }
     },
     "f1057e53bd9d4598919a4715ff7cc86b": {
      "model_module": "@jupyter-widgets/base",
      "model_module_version": "1.2.0",
      "model_name": "LayoutModel",
      "state": {}
     },
     "f1307b2d2ed148b18bc97a66d2523543": {
      "model_module": "@jupyter-widgets/controls",
      "model_module_version": "1.5.0",
      "model_name": "CheckboxModel",
      "state": {
       "description": "Generalized anxiety disorder",
       "disabled": false,
       "layout": "IPY_MODEL_9c14772d2775478b9a90116585e4a597",
       "style": "IPY_MODEL_f0ad015327e245e0ab27c5e5c85a06e5",
       "value": false
      }
     },
     "f131c653aaef464283c2f3ba6be99921": {
      "model_module": "@jupyter-widgets/base",
      "model_module_version": "1.2.0",
      "model_name": "LayoutModel",
      "state": {}
     },
     "f135b18077914a1fb1d547041795e54c": {
      "model_module": "@jupyter-widgets/controls",
      "model_module_version": "1.5.0",
      "model_name": "VBoxModel",
      "state": {
       "_dom_classes": [
        "widget-interact"
       ],
       "children": [
        "IPY_MODEL_2c2caebce45c4fdf94cb77931dbb7a4b",
        "IPY_MODEL_7859f6e9d3d445468fb7667ae4959a51",
        "IPY_MODEL_b444ae83ba6641bcbac152435573b92f",
        "IPY_MODEL_915703966ae64e5e9bf0dd1e16b3a748",
        "IPY_MODEL_00b25902547740adac6fcda4e48cb39c",
        "IPY_MODEL_10e49df0ac144957966cba922c06f00a",
        "IPY_MODEL_74f7dfea26364f9f8d6c75f5c1956aeb",
        "IPY_MODEL_4fdb9976a7b7402bbce443f0fb87a388",
        "IPY_MODEL_62546ce02c6e4b26aae657f94a3a22de"
       ],
       "layout": "IPY_MODEL_8cb3c05a9ef34b87953e0ba386ecfcad"
      }
     },
     "f1750ab05ff048c1b669bc48333019a4": {
      "model_module": "@jupyter-widgets/base",
      "model_module_version": "1.2.0",
      "model_name": "LayoutModel",
      "state": {}
     },
     "f19de80ecb874722b03d4d10e4bba056": {
      "model_module": "@jupyter-widgets/controls",
      "model_module_version": "1.5.0",
      "model_name": "DescriptionStyleModel",
      "state": {
       "description_width": "150px"
      }
     },
     "f19e6597a635403092e2afdf27c3e792": {
      "model_module": "@jupyter-widgets/base",
      "model_module_version": "1.2.0",
      "model_name": "LayoutModel",
      "state": {}
     },
     "f25638eb99a74c938b5a749faff1e063": {
      "model_module": "@jupyter-widgets/controls",
      "model_module_version": "1.5.0",
      "model_name": "TextareaModel",
      "state": {
       "description": "negative_impact",
       "layout": "IPY_MODEL_42f9ab8dcbd947b893f1ada0c235c49a",
       "placeholder": "Type Something",
       "style": "IPY_MODEL_5361bd2969eb478b835522fd2dab1a20"
      }
     },
     "f25f18ccb26548f69d7325f662a070f7": {
      "model_module": "@jupyter-widgets/controls",
      "model_module_version": "1.5.0",
      "model_name": "VBoxModel",
      "state": {
       "_dom_classes": [
        "widget-interact"
       ],
       "children": [
        "IPY_MODEL_9cdf1202378e48babf5309c7c0460393",
        "IPY_MODEL_d978bec1669a49fb92e818afa4c691e5",
        "IPY_MODEL_8a3fb53d569d403485db2e4225f3d62e",
        "IPY_MODEL_48c6ece62b8946c08ea82eebd3459b87",
        "IPY_MODEL_434a32c744fe4ee4914af4d017abb0c9",
        "IPY_MODEL_61a9e85b868542fc98f84b8bf23325e2"
       ],
       "layout": "IPY_MODEL_a906364ef6ea4adc9742768dc81d97c1"
      }
     },
     "f28ae02977f442819f03dc0ffffdff48": {
      "model_module": "@jupyter-widgets/controls",
      "model_module_version": "1.5.0",
      "model_name": "DescriptionStyleModel",
      "state": {
       "description_width": "150px"
      }
     },
     "f2a5eb72cc574174bde9f2f7389ae989": {
      "model_module": "@jupyter-widgets/base",
      "model_module_version": "1.2.0",
      "model_name": "LayoutModel",
      "state": {}
     },
     "f2d2c8431b4b48e6bf11af9aa4ffb3e1": {
      "model_module": "@jupyter-widgets/controls",
      "model_module_version": "1.5.0",
      "model_name": "DescriptionStyleModel",
      "state": {
       "description_width": ""
      }
     },
     "f37fae4788bf4896a3115e522d986aed": {
      "model_module": "@jupyter-widgets/output",
      "model_module_version": "1.0.0",
      "model_name": "OutputModel",
      "state": {
       "layout": "IPY_MODEL_9d46cf32a2434b1086f2adcc56d9e9c2",
       "outputs": [
        {
         "name": "stdout",
         "output_type": "stream",
         "text": "\nFamily Psychiatric History:\nDenies family history of mental illness\n\n"
        }
       ]
      }
     },
     "f39e2041fd0b473199e19fea431da9eb": {
      "model_module": "@jupyter-widgets/controls",
      "model_module_version": "1.5.0",
      "model_name": "DescriptionStyleModel",
      "state": {
       "description_width": "150px"
      }
     },
     "f3e3e42e9cc741dcaba3bf3f52db94ff": {
      "model_module": "@jupyter-widgets/controls",
      "model_module_version": "1.5.0",
      "model_name": "BoxModel",
      "state": {
       "children": [
        "IPY_MODEL_2e290dd7072e4c6f9d0a9d24fa958812",
        "IPY_MODEL_bde4dc62db8b47e0a8be80e351b4b57a",
        "IPY_MODEL_cebd19c6df1341f08f0cc4925a81ab39",
        "IPY_MODEL_bb85d42d74094b5da0fde33aec444ff2"
       ],
       "layout": "IPY_MODEL_95ad028c28dc4d4a837e3c5be859a171"
      }
     },
     "f3f283adced84069b6b41ce7af120da0": {
      "model_module": "@jupyter-widgets/controls",
      "model_module_version": "1.5.0",
      "model_name": "DescriptionStyleModel",
      "state": {
       "description_width": "150px"
      }
     },
     "f418a760497c442daeb2bd466368091c": {
      "model_module": "@jupyter-widgets/base",
      "model_module_version": "1.2.0",
      "model_name": "LayoutModel",
      "state": {}
     },
     "f4c08fddf65c428a83336666793d944c": {
      "model_module": "@jupyter-widgets/controls",
      "model_module_version": "1.5.0",
      "model_name": "TextareaModel",
      "state": {
       "description": "notes",
       "layout": "IPY_MODEL_42f9ab8dcbd947b893f1ada0c235c49a",
       "style": "IPY_MODEL_e5cff244684c45139e730359ae3833bc"
      }
     },
     "f4f4c665aa994114b41d03eb543a1cc9": {
      "model_module": "@jupyter-widgets/controls",
      "model_module_version": "1.5.0",
      "model_name": "DropdownModel",
      "state": {
       "_options_labels": [
        "single",
        "married"
       ],
       "description": "married",
       "index": 0,
       "layout": "IPY_MODEL_42f9ab8dcbd947b893f1ada0c235c49a",
       "style": "IPY_MODEL_136bcbf8604e4284a9ea932d8de980eb"
      }
     },
     "f5701dda6f6848029499d9921f954515": {
      "model_module": "@jupyter-widgets/controls",
      "model_module_version": "1.5.0",
      "model_name": "VBoxModel",
      "state": {
       "_dom_classes": [
        "widget-interact"
       ],
       "children": [
        "IPY_MODEL_14ee34138e7d47f9b5d7931855f48551",
        "IPY_MODEL_bbe06fa801034c2e88653e919d224959",
        "IPY_MODEL_2fb6543378dc46298206eb1137e4af40",
        "IPY_MODEL_8b18674d75a442e8ad69a4fb418c171d",
        "IPY_MODEL_fe1cbb08bba745ecb41ac36b18c9039a",
        "IPY_MODEL_29b3276f299849fe9e6a4eee2891adbc"
       ],
       "layout": "IPY_MODEL_1127efc2605a48e98bf8260984e93a57"
      }
     },
     "f57f7e2238f84d05a7fc08de76b1ca99": {
      "model_module": "@jupyter-widgets/controls",
      "model_module_version": "1.5.0",
      "model_name": "DescriptionStyleModel",
      "state": {
       "description_width": "150px"
      }
     },
     "f59df79cbda44a5dbbf47c698389ddc2": {
      "model_module": "@jupyter-widgets/base",
      "model_module_version": "1.2.0",
      "model_name": "LayoutModel",
      "state": {
       "height": "200px"
      }
     },
     "f5df3a77bfb142a88cbef7861dcf957c": {
      "model_module": "@jupyter-widgets/base",
      "model_module_version": "1.2.0",
      "model_name": "LayoutModel",
      "state": {}
     },
     "f5e73b7a3c964282a17fc49cd1734852": {
      "model_module": "@jupyter-widgets/base",
      "model_module_version": "1.2.0",
      "model_name": "LayoutModel",
      "state": {}
     },
     "f5f92b23a3074e989041f3e13469e86b": {
      "model_module": "@jupyter-widgets/controls",
      "model_module_version": "1.5.0",
      "model_name": "DropdownModel",
      "state": {
       "_options_labels": [
        "Silicon Beach",
        "Momentum",
        "Create Recovery Center",
        "Casablanca"
       ],
       "description": "Trmt Center:",
       "index": 2,
       "layout": "IPY_MODEL_63a6931cefc047a5a8cf1f107a16614e",
       "style": "IPY_MODEL_d6f1c53af0c14cc49f3608832d6ffabe"
      }
     },
     "f61ad913c1e94a72a10391c40fd9bd98": {
      "model_module": "@jupyter-widgets/controls",
      "model_module_version": "1.5.0",
      "model_name": "VBoxModel",
      "state": {
       "children": [
        "IPY_MODEL_4ea19e66ffea44e7a537dbe0a3d8454c",
        "IPY_MODEL_4f871885ed2d48388193936c34bfaa63",
        "IPY_MODEL_c205ef6cfec2403b8ea6a193a28d77bb",
        "IPY_MODEL_d182c5dc910d4091b9a87afc814562f0",
        "IPY_MODEL_035075a838774c378a7184f70dd673a9",
        "IPY_MODEL_ca3ba431babf4a4c85ed80bf7b51723f",
        "IPY_MODEL_6193521e4b174f5f93e51ec52bc1493b",
        "IPY_MODEL_8582037d1ce7426aa10a53bbfd137255",
        "IPY_MODEL_764c465f802c4e98b79f402cf672c06a",
        "IPY_MODEL_9457f1f5be064adea7eb13218741d377",
        "IPY_MODEL_7cf693c7c23b4dbdbfcb2d50143f105f",
        "IPY_MODEL_ea9900b23b8247558e4cf39d4d7d3207",
        "IPY_MODEL_d901b694a95c41f3b352b4527de2dd20",
        "IPY_MODEL_b6334e48a6cc4197bbe5e072e1a92caf"
       ],
       "layout": "IPY_MODEL_97754e200d534658a74a7c4efb510532"
      }
     },
     "f635e16af781405dbd3655e2be0d348e": {
      "model_module": "@jupyter-widgets/controls",
      "model_module_version": "1.5.0",
      "model_name": "DropdownModel",
      "state": {
       "_options_labels": [
        "denies",
        "endorses"
       ],
       "description": "Physical Anxiety",
       "index": 0,
       "layout": "IPY_MODEL_42f9ab8dcbd947b893f1ada0c235c49a",
       "style": "IPY_MODEL_035b8fc93c0944ab8d034d6ccfea73a5"
      }
     },
     "f66e8240cafb407d89ede96dc55c4177": {
      "model_module": "@jupyter-widgets/base",
      "model_module_version": "1.2.0",
      "model_name": "LayoutModel",
      "state": {}
     },
     "f66fdc635a5b4249a3649589eabdb70c": {
      "model_module": "@jupyter-widgets/base",
      "model_module_version": "1.2.0",
      "model_name": "LayoutModel",
      "state": {
       "height": "100px",
       "width": "500px"
      }
     },
     "f6834fed0f5b48cca20a941f8c5aed1e": {
      "model_module": "@jupyter-widgets/base",
      "model_module_version": "1.2.0",
      "model_name": "LayoutModel",
      "state": {}
     },
     "f68de31844cd448faeb5ff315fc83e9f": {
      "model_module": "@jupyter-widgets/base",
      "model_module_version": "1.2.0",
      "model_name": "LayoutModel",
      "state": {}
     },
     "f6fc55c8cadb46aaa56a4fde5127c975": {
      "model_module": "@jupyter-widgets/controls",
      "model_module_version": "1.5.0",
      "model_name": "DescriptionStyleModel",
      "state": {
       "description_width": ""
      }
     },
     "f6fd5cb09b7b4bdaac8469099e5a5863": {
      "model_module": "@jupyter-widgets/controls",
      "model_module_version": "1.5.0",
      "model_name": "DropdownModel",
      "state": {
       "_options_labels": [
        "good",
        "fair",
        "poor"
       ],
       "description": "appetite",
       "index": 1,
       "layout": "IPY_MODEL_42f9ab8dcbd947b893f1ada0c235c49a",
       "style": "IPY_MODEL_e3657c016fa449a5963e47f641d5e43c"
      }
     },
     "f77c78fd0c0d4889a78966627fbec028": {
      "model_module": "@jupyter-widgets/controls",
      "model_module_version": "1.5.0",
      "model_name": "DescriptionStyleModel",
      "state": {
       "description_width": ""
      }
     },
     "f7bef693bdbb41c59910278890530009": {
      "model_module": "@jupyter-widgets/base",
      "model_module_version": "1.2.0",
      "model_name": "LayoutModel",
      "state": {}
     },
     "f83a400624b64a7bb5f31688b2997f6a": {
      "model_module": "@jupyter-widgets/controls",
      "model_module_version": "1.5.0",
      "model_name": "VBoxModel",
      "state": {
       "_dom_classes": [
        "widget-interact"
       ],
       "children": [
        "IPY_MODEL_06d700338fd949449208cb8da22329b1",
        "IPY_MODEL_3bcf3d121f87402388498cd164d4f428",
        "IPY_MODEL_5a3c94d6bea24592963a31730360af64",
        "IPY_MODEL_895dc0aac9d949aea015968d0634b224",
        "IPY_MODEL_9ddf8cff693d4cb0b37eb4c837dfc1c9",
        "IPY_MODEL_7991a48e061b445cb37fee4b717fc943"
       ],
       "layout": "IPY_MODEL_f86eec23fde540268af468df029880ca"
      }
     },
     "f86da14d00174bfbaf52c823155bf3c5": {
      "model_module": "@jupyter-widgets/base",
      "model_module_version": "1.2.0",
      "model_name": "LayoutModel",
      "state": {}
     },
     "f86eec23fde540268af468df029880ca": {
      "model_module": "@jupyter-widgets/base",
      "model_module_version": "1.2.0",
      "model_name": "LayoutModel",
      "state": {}
     },
     "f8833bd67dbc43fb80b3e654697759b1": {
      "model_module": "@jupyter-widgets/controls",
      "model_module_version": "1.5.0",
      "model_name": "CheckboxModel",
      "state": {
       "description": "schizophrenia",
       "disabled": false,
       "layout": "IPY_MODEL_1b3511117ac8410bb2abb4c39a9ec110",
       "style": "IPY_MODEL_b4dc3a1bc67f410086029393cd7bbd73",
       "value": false
      }
     },
     "f8cdeb0db9ca49e4b26981ba99f24381": {
      "model_module": "@jupyter-widgets/controls",
      "model_module_version": "1.5.0",
      "model_name": "CheckboxModel",
      "state": {
       "description": "mushrooms",
       "disabled": false,
       "layout": "IPY_MODEL_8d949d3f2c8a47029dc700791f3b7c94",
       "style": "IPY_MODEL_e4bffa08bc4d4bd2bfca0ec7176388a5",
       "value": false
      }
     },
     "f8edfdaed7814b4d9a74f2d27b619428": {
      "model_module": "@jupyter-widgets/controls",
      "model_module_version": "1.5.0",
      "model_name": "DescriptionStyleModel",
      "state": {
       "description_width": ""
      }
     },
     "f901336661f94398861f0ad96b1c0112": {
      "model_module": "@jupyter-widgets/base",
      "model_module_version": "1.2.0",
      "model_name": "LayoutModel",
      "state": {}
     },
     "f9207524794246e6940873bfb8a22f5f": {
      "model_module": "@jupyter-widgets/base",
      "model_module_version": "1.2.0",
      "model_name": "LayoutModel",
      "state": {}
     },
     "f97c3b5b1fa948e19129d06beda687b8": {
      "model_module": "@jupyter-widgets/controls",
      "model_module_version": "1.5.0",
      "model_name": "DescriptionStyleModel",
      "state": {
       "description_width": "150px"
      }
     },
     "f9a8de1a18794b9d935e04b57f239412": {
      "model_module": "@jupyter-widgets/base",
      "model_module_version": "1.2.0",
      "model_name": "LayoutModel",
      "state": {
       "width": "50%"
      }
     },
     "f9c1dc7034ee493190aa4cfd6401fc21": {
      "model_module": "@jupyter-widgets/controls",
      "model_module_version": "1.5.0",
      "model_name": "DescriptionStyleModel",
      "state": {
       "description_width": "150px"
      }
     },
     "f9e32149c3504439a9656388505e0c2e": {
      "model_module": "@jupyter-widgets/controls",
      "model_module_version": "1.5.0",
      "model_name": "DropdownModel",
      "state": {
       "_options_labels": [
        "good",
        "fair",
        "poor"
       ],
       "description": "energy",
       "index": 1,
       "layout": "IPY_MODEL_42f9ab8dcbd947b893f1ada0c235c49a",
       "style": "IPY_MODEL_a605e2356ffe44c68d1d22781e9c6668"
      }
     },
     "fa6f3e952cea4c029f3a79ad017777fb": {
      "model_module": "@jupyter-widgets/controls",
      "model_module_version": "1.5.0",
      "model_name": "TextModel",
      "state": {
       "description": "Outpatient Psych",
       "layout": "IPY_MODEL_42f9ab8dcbd947b893f1ada0c235c49a",
       "style": "IPY_MODEL_b27d4f871c9541279687ce4e02275c89",
       "value": "None"
      }
     },
     "fa98a372369f45e5aff0ce2070ba8bac": {
      "model_module": "@jupyter-widgets/controls",
      "model_module_version": "1.5.0",
      "model_name": "CheckboxModel",
      "state": {
       "description": "fentanyl",
       "disabled": false,
       "layout": "IPY_MODEL_0425f3f93ef44fd1890aa57795afc2a2",
       "style": "IPY_MODEL_a401e49430f84ca582bcc0321e481045",
       "value": false
      }
     },
     "fab1702b71f445adaf21ab36994fdf48": {
      "model_module": "@jupyter-widgets/base",
      "model_module_version": "1.2.0",
      "model_name": "LayoutModel",
      "state": {}
     },
     "faf372754ceb4e5ebdbfd1b5d69f96d4": {
      "model_module": "@jupyter-widgets/controls",
      "model_module_version": "1.5.0",
      "model_name": "DescriptionStyleModel",
      "state": {
       "description_width": ""
      }
     },
     "fb16222f01874959b7b6dc5db7206b5f": {
      "model_module": "@jupyter-widgets/controls",
      "model_module_version": "1.5.0",
      "model_name": "CheckboxModel",
      "state": {
       "description": "heroin",
       "disabled": false,
       "layout": "IPY_MODEL_e76f1abe863643e68e1e4fce3fe16731",
       "style": "IPY_MODEL_0c0e9b815a544d5cbff79f61666afd00",
       "value": false
      }
     },
     "fb285e4abee74fcab018856f6325ff65": {
      "model_module": "@jupyter-widgets/controls",
      "model_module_version": "1.5.0",
      "model_name": "TextareaModel",
      "state": {
       "description": "negative_impact",
       "layout": "IPY_MODEL_42f9ab8dcbd947b893f1ada0c235c49a",
       "placeholder": "Type Something",
       "style": "IPY_MODEL_b1582de4850841f49529d171432b6c48"
      }
     },
     "fb3fece99df74cb0bcfdfb083e2fc8e7": {
      "model_module": "@jupyter-widgets/controls",
      "model_module_version": "1.5.0",
      "model_name": "ComboboxModel",
      "state": {
       "description": "med_compliant",
       "ensure_option": false,
       "layout": "IPY_MODEL_6ca1abb4c0974a9b85bd5dd3b0292df2",
       "options": [
        "Patient reports that they have been compliant with their psychotropic medication regimen and denies adverse effects",
        "Patient reports that they have been non-compliant with their psychotropic medication regimen and denies adverse effects"
       ],
       "style": "IPY_MODEL_df7d0685f05f412aa9668d6b59f644e9"
      }
     },
     "fb5da8996da44c8995b64fe445de7ee1": {
      "model_module": "@jupyter-widgets/base",
      "model_module_version": "1.2.0",
      "model_name": "LayoutModel",
      "state": {}
     },
     "fb6622ab75254b789ec3a702e61af1c4": {
      "model_module": "@jupyter-widgets/controls",
      "model_module_version": "1.5.0",
      "model_name": "DescriptionStyleModel",
      "state": {
       "description_width": "150px"
      }
     },
     "fbc1b1c0ba9449f9ac46749d31c57b8d": {
      "model_module": "@jupyter-widgets/controls",
      "model_module_version": "1.5.0",
      "model_name": "VBoxModel",
      "state": {
       "children": [
        "IPY_MODEL_e7a6dd2cfb5c4beb9695964ce1e7312d",
        "IPY_MODEL_bb6285e6a43d454c9eb5d8ab16f74ab7",
        "IPY_MODEL_74010bb917cc4350860d7aa77a2f4ada",
        "IPY_MODEL_ff842bef4b6043ea84f28881218d23f7"
       ],
       "layout": "IPY_MODEL_75e27a4c3d1249a5b494461ac97c75f2"
      }
     },
     "fc11560328854e608eccfd3b77ca5779": {
      "model_module": "@jupyter-widgets/controls",
      "model_module_version": "1.5.0",
      "model_name": "TextareaModel",
      "state": {
       "description": "Notes:",
       "layout": "IPY_MODEL_f59df79cbda44a5dbbf47c698389ddc2",
       "style": "IPY_MODEL_728238e5175b4a55a0199637b260d23f"
      }
     },
     "fc16451c2f3c486fa6ff2bcf96259bc7": {
      "model_module": "@jupyter-widgets/controls",
      "model_module_version": "1.5.0",
      "model_name": "DropdownModel",
      "state": {
       "_options_labels": [
        "Silicon Beach",
        "Momentum",
        "Create Recovery Center",
        "Casablanca"
       ],
       "description": "Trt Center:",
       "index": 2,
       "layout": "IPY_MODEL_2387df111c444ce99b95e04600f466cb",
       "style": "IPY_MODEL_1881443a187747268b338e893b8d068c"
      }
     },
     "fc1c84b8aca24e91a313f05172e4be2a": {
      "model_module": "@jupyter-widgets/output",
      "model_module_version": "1.0.0",
      "model_name": "OutputModel",
      "state": {
       "layout": "IPY_MODEL_bb38773f07ff4068be63163370365564",
       "outputs": [
        {
         "name": "stdout",
         "output_type": "stream",
         "text": "\nHistory of Present Illness:\nThe patient states that they decided to come to treatment because . \nPatient reports they have been sober for 4 days.\nThe patient denies withdrawals. The patient denies cravings.\nThe patient declines anti-craving medication.\nThe patient reports their substance use impacted their life negatively  \n \n    \n"
        }
       ]
      }
     },
     "fc532fbf8cf9427bbb2884c9ed5c4644": {
      "model_module": "@jupyter-widgets/controls",
      "model_module_version": "1.5.0",
      "model_name": "CheckboxModel",
      "state": {
       "description": "psychosis",
       "disabled": false,
       "layout": "IPY_MODEL_0deae60fcb114f24bbc3e839c9db38ee",
       "style": "IPY_MODEL_180794b1bb2b40b88d3405eb78e39837",
       "value": false
      }
     },
     "fd6f5662331c43e8be7fa8eabe0261c8": {
      "model_module": "@jupyter-widgets/controls",
      "model_module_version": "1.5.0",
      "model_name": "VBoxModel",
      "state": {
       "_dom_classes": [
        "widget-interact"
       ],
       "children": [
        "IPY_MODEL_b39fe27561aa44cea50350a8bc181909",
        "IPY_MODEL_7a62617c720544d79d756fc93c08d1d6",
        "IPY_MODEL_32be5a0941974d139cc767e1dd4aac30",
        "IPY_MODEL_a5e711c80a304fe49c382959de8076c5",
        "IPY_MODEL_33b766c829164907a14df8eefbcd3ff2",
        "IPY_MODEL_83c13dffd2954b4a990465b2517189d9"
       ],
       "layout": "IPY_MODEL_75b1848f9a2642268dacaa7e16e9ac6e"
      }
     },
     "fd779708d217456ebfe2d938b21d8f36": {
      "model_module": "@jupyter-widgets/controls",
      "model_module_version": "1.5.0",
      "model_name": "TextareaModel",
      "state": {
       "description": "Current medication",
       "layout": "IPY_MODEL_42f9ab8dcbd947b893f1ada0c235c49a",
       "placeholder": "Type something",
       "style": "IPY_MODEL_0a03f50d283e4e6ebd80cb8d5011d623"
      }
     },
     "fd8ad8ccc49645aaac814ce1b7589c0a": {
      "model_module": "@jupyter-widgets/controls",
      "model_module_version": "1.5.0",
      "model_name": "DescriptionStyleModel",
      "state": {
       "description_width": ""
      }
     },
     "fdfbc673a4ab482db39599786c4fb408": {
      "model_module": "@jupyter-widgets/controls",
      "model_module_version": "1.5.0",
      "model_name": "DescriptionStyleModel",
      "state": {
       "description_width": ""
      }
     },
     "fe1cbb08bba745ecb41ac36b18c9039a": {
      "model_module": "@jupyter-widgets/controls",
      "model_module_version": "1.5.0",
      "model_name": "TextareaModel",
      "state": {
       "description": "notes",
       "layout": "IPY_MODEL_42f9ab8dcbd947b893f1ada0c235c49a",
       "style": "IPY_MODEL_0536a4cdde4a4119969f791aa3fd3ff4"
      }
     },
     "fe23297322744356b81351acbbe47ddf": {
      "model_module": "@jupyter-widgets/base",
      "model_module_version": "1.2.0",
      "model_name": "LayoutModel",
      "state": {}
     },
     "fe264d6b6dc14d2997efe8ebe12afab8": {
      "model_module": "@jupyter-widgets/controls",
      "model_module_version": "1.5.0",
      "model_name": "CheckboxModel",
      "state": {
       "description": "sedative, hypnotic, or anxiolytic",
       "disabled": false,
       "layout": "IPY_MODEL_c1dfd45e5c8046f1999c2bc4fb475b82",
       "style": "IPY_MODEL_f8edfdaed7814b4d9a74f2d27b619428",
       "value": false
      }
     },
     "fe28d58f745a45fa8581c62b7592965f": {
      "model_module": "@jupyter-widgets/base",
      "model_module_version": "1.2.0",
      "model_name": "LayoutModel",
      "state": {}
     },
     "fe779ac7a7034dcf8bd6ea5ef053ffca": {
      "model_module": "@jupyter-widgets/base",
      "model_module_version": "1.2.0",
      "model_name": "LayoutModel",
      "state": {}
     },
     "fe7d734bf7d742758dcee9ad26ad62d9": {
      "model_module": "@jupyter-widgets/controls",
      "model_module_version": "1.5.0",
      "model_name": "DropdownModel",
      "state": {
       "_options_labels": [
        "good",
        "fair",
        "poor"
       ],
       "description": "concentration",
       "index": 1,
       "layout": "IPY_MODEL_42f9ab8dcbd947b893f1ada0c235c49a",
       "style": "IPY_MODEL_4e3a2edeba8144bdb2b74be6969fc3c9"
      }
     },
     "ff077b5fd5b14ab8954f4c1a989ef06f": {
      "model_module": "@jupyter-widgets/controls",
      "model_module_version": "1.5.0",
      "model_name": "DescriptionStyleModel",
      "state": {
       "description_width": ""
      }
     },
     "ff23e26ed6814b75bb537932a5aed405": {
      "model_module": "@jupyter-widgets/base",
      "model_module_version": "1.2.0",
      "model_name": "LayoutModel",
      "state": {}
     },
     "ff2c1c615ffc4e069a097caad53f74e4": {
      "model_module": "@jupyter-widgets/controls",
      "model_module_version": "1.5.0",
      "model_name": "DescriptionStyleModel",
      "state": {
       "description_width": ""
      }
     },
     "ff3860b16a2a4f97a83185a132c5144a": {
      "model_module": "@jupyter-widgets/base",
      "model_module_version": "1.2.0",
      "model_name": "LayoutModel",
      "state": {}
     },
     "ff77b6fef28246c0890f5b898c80d8b2": {
      "model_module": "@jupyter-widgets/controls",
      "model_module_version": "1.5.0",
      "model_name": "DescriptionStyleModel",
      "state": {
       "description_width": ""
      }
     },
     "ff7ff2cb6c3441cf9463e6aacbdf3acc": {
      "model_module": "@jupyter-widgets/base",
      "model_module_version": "1.2.0",
      "model_name": "LayoutModel",
      "state": {}
     },
     "ff842bef4b6043ea84f28881218d23f7": {
      "model_module": "@jupyter-widgets/controls",
      "model_module_version": "1.5.0",
      "model_name": "DropdownModel",
      "state": {
       "_options_labels": [
        "Silicon Beach",
        "Momentum",
        "Create Recovery Center",
        "Casablanca"
       ],
       "description": "Trtmt Center:",
       "index": 2,
       "layout": "IPY_MODEL_41e0696faf56421bbbaa9d74f16d1129",
       "style": "IPY_MODEL_bcce9daba85d4148bc53c3447d8e0394"
      }
     },
     "ff93773dc0bc41f9acb8d01eded4d92d": {
      "model_module": "@jupyter-widgets/controls",
      "model_module_version": "1.5.0",
      "model_name": "DescriptionStyleModel",
      "state": {
       "description_width": "150px"
      }
     },
     "ff9b3d28dadf4169809b2526e0acb2b0": {
      "model_module": "@jupyter-widgets/controls",
      "model_module_version": "1.5.0",
      "model_name": "DropdownModel",
      "state": {
       "_options_labels": [
        "denies",
        "endorses"
       ],
       "description": "legal",
       "index": 0,
       "layout": "IPY_MODEL_42f9ab8dcbd947b893f1ada0c235c49a",
       "style": "IPY_MODEL_b823ae549d054db880da3b05d2842aed"
      }
     },
     "ffad1dd90e374cda88cf494b6656040c": {
      "model_module": "@jupyter-widgets/controls",
      "model_module_version": "1.5.0",
      "model_name": "DropdownModel",
      "state": {
       "_options_labels": [
        "denies",
        "endorses"
       ],
       "description": "hopelessness",
       "index": 0,
       "layout": "IPY_MODEL_6ca1abb4c0974a9b85bd5dd3b0292df2",
       "style": "IPY_MODEL_1948a170b76a4fd4aa9d16216be4166f"
      }
     },
     "ffbbaeb98f424aa8b7e2f24e1a13691e": {
      "model_module": "@jupyter-widgets/controls",
      "model_module_version": "1.5.0",
      "model_name": "VBoxModel",
      "state": {
       "children": [
        "IPY_MODEL_dea3cff23abf4838948924ee2ee87322",
        "IPY_MODEL_a30f58579b0c46d69e8855de5cd2cd5b"
       ],
       "layout": "IPY_MODEL_aa77061826a943f0bb9cdf826cdd244f"
      }
     },
     "ffe846021b214004b50288a523f92f03": {
      "model_module": "@jupyter-widgets/base",
      "model_module_version": "1.2.0",
      "model_name": "LayoutModel",
      "state": {}
     }
    },
    "version_major": 2,
    "version_minor": 0
   }
  }
 },
 "nbformat": 4,
 "nbformat_minor": 4
}
